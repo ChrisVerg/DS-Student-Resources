{
 "cells": [
  {
   "cell_type": "markdown",
   "id": "50e6ddbb-52d3-4a02-9b69-100a4181e3b0",
   "metadata": {},
   "source": [
    "# DS107 Big Data : AWS-Big-Data-Analytics-S3-Athena"
   ]
  },
  {
   "cell_type": "markdown",
   "id": "d1bd4bfc-9b15-4b80-87b4-b8b60eb56371",
   "metadata": {},
   "source": [
    "### Table of Contents <a class=\"anchor\" id=\"DS107L6_toc\"></a>\n",
    "\n",
    "* [Table of Contents](#DS107L6_toc)\n",
    "    * [Page 1 - Introduction](#DS107L6_page_1)\n",
    "    * [Page 2 - Amazon Simple Storage Service (Amazon S3)](#DS107L6_page_2)\n",
    "    * [Page 3 - ](#DS107L6_page_3)\n",
    "    * [Page 4 - ](#DS107L6_page_4)\n",
    "    * [Page 5 - ](#DS107L6_page_5)\n",
    "    * [Page 6 - Amazon Athena](#DS107L6_page_6)\n",
    "    * [Page 7 - ](#DS107L6_page_7)\n",
    "    * [Page 8 - ](#DS107L6_page_8)\n",
    "    * [Page 9 - ](#DS107L6_page_9)\n",
    "    * [Page 10 - Key Terms](#DS107L6_page_10)\n",
    "   \n",
    "    "
   ]
  },
  {
   "cell_type": "markdown",
   "id": "ef5a8c65-ed48-4354-a257-e01b0fd733d4",
   "metadata": {},
   "source": [
    "<hr style=\"height:10px;border-width:0;color:gray;background-color:gray\">\n",
    "\n",
    "# Page 1 - Overview of this Module<a class=\"anchor\" id=\"DS107L6_page_1\"></a>\n",
    "\n",
    "[Back to Top](#DS107L6_toc)\n",
    "\n",
    "<hr style=\"height:10px;border-width:0;color:gray;background-color:gray\">"
   ]
  },
  {
   "cell_type": "markdown",
   "id": "f632fc7b-0905-426e-b749-5edeca901bf2",
   "metadata": {},
   "source": [
    "## Objectives\n",
    "\n",
    "After completing this lab, you will be able to:\n",
    "- Access Amazon S3 in the AWS Management Console\n",
    "- Secure an S3 bucket with IAM\n",
    "- Create a bucket with Amazon S3\n",
    "- Load data into an S3 bucket\n",
    "- Query an S3 bucket\n",
    "\n"
   ]
  },
  {
   "cell_type": "markdown",
   "id": "7990ac7a-5a2f-4744-af14-1b7e385ea484",
   "metadata": {},
   "source": [
    "<hr style=\"height:10px;border-width:0;color:gray;background-color:gray\">\n",
    "\n",
    "# Page 2 - Amazon Simple Storage Service (Amazon S3)<a class=\"anchor\" id=\"DS107L6_page_2\"></a>\n",
    "\n",
    "[Back to Top](#DS107L6_toc)\n",
    "\n",
    "<hr style=\"height:10px;border-width:0;color:gray;background-color:gray\">\n"
   ]
  },
  {
   "cell_type": "markdown",
   "id": "c61d2371-3587-4ee7-a897-e8a56896d497",
   "metadata": {},
   "source": [
    "Amazon Simple Storage Service (Amazon S3) is an object storage service offering industry-leading scalability, data availability, security, and performance. Customers of all sizes and industries can store and protect any amount of data for virtually any use case, such as data lakes, cloud-native applications, and mobile apps. With cost-effective storage classes and easy-to-use management features, you can optimize costs, organize data, and configure fine-tuned access controls to meet specific business, organizational, and compliance requirements.\n",
    "\n",
    "<p style=\"text-align: center\">\n",
    "  <img  src=\"Media/Amazon-S3-Object-Storage.png\" width=\"800\" alt=\"Amazon-S3-Object-Storage\">\n",
    "</p>\n",
    "\n",
    "[Amazon S3 Docs](https://docs.aws.amazon.com/s3/index.html?id=docs_gateway#lang/en_us)"
   ]
  },
  {
   "cell_type": "markdown",
   "id": "832358fd-55fa-420a-8aa2-46fbf2097986",
   "metadata": {},
   "source": [
    "<hr style=\"height:10px;border-width:0;color:gray;background-color:gray\">\n",
    "\n",
    "# Page 3 - Amazon S3 Features<a class=\"anchor\" id=\"DS107L6_page_3\"></a>\n",
    "\n",
    "[Back to Top](#DS107L6_toc)\n",
    "\n",
    "<hr style=\"height:10px;border-width:0;color:gray;background-color:gray\">\n"
   ]
  },
  {
   "cell_type": "markdown",
   "id": "4ef4ac6d-6d08-4163-901c-3216ed9c823d",
   "metadata": {},
   "source": [
    "Amazon S3 has various features you can use to organize and manage your data in ways that support specific use cases, enable cost efficiencies, enforce security, and meet compliance requirements. Data is stored as objects within resources called “buckets”, and a single object can be up to 5 terabytes in size. S3 features include capabilities to append metadata tags to objects, move and store data across the S3 Storage Classes, configure and enforce data access controls, secure data against unauthorized users, run big data analytics, monitor data at the object and bucket levels, and view storage usage and activity trends across your organization. Objects can be accessed through S3 Access Points or directly through the bucket hostname.\n",
    "\n",
    "## Storage management and monitoring\n",
    "Amazon S3’s flat, non-hierarchical structure and various management features are helping customers of all sizes and industries organize their data in ways that are valuable to their businesses and teams. All objects are stored in S3 buckets and can be organized with shared names called prefixes. You can also append up to 10 key-value pairs called __S3 object tags__ to each object, which can be created, updated, and deleted throughout an object’s lifecycle. To keep track of objects and their respective tags, buckets, and prefixes, you can use an __S3 Inventory report__ that lists your stored objects within an S3 bucket or with a specific prefix, and their respective metadata and encryption status. S3 Inventory can be configured to generate reports on a daily or a weekly basis.\n",
    "\n",
    "### Storage management\n",
    "With S3 bucket names, prefixes, object tags, and S3 Inventory, you have a range of ways to categorize and report on your data, and subsequently can configure other S3 features to take action. Whether you store thousands of objects or a billion, S3 Batch Operations makes it simple to manage your data in Amazon S3 at any scale. With S3 Batch Operations, you can copy objects between buckets, replace object tag sets, modify access controls, and restore archived objects from S3 Glacier Flexible Retrieval and S3 Glacier Deep Archive storage classes, with a single S3 API request or a few clicks in the S3 console. You can also use [S3 Batch Operations](https://aws.amazon.com/s3/features/batch-operations/) to run AWS Lambda functions across your objects to execute custom business logic, such as processing data or transcoding image files. To get started, specify a list of target objects by using an S3 Inventory report or by providing a custom list, and then select the desired operation from a pre-populated menu. When an S3 Batch Operation request is done, you'll receive a notification and a completion report of all changes made. Learn more about [S3 Batch Operations by watching the video tutorials](https://aws.amazon.com/s3/s3batchoperations-videos/). \n",
    "\n",
    "Amazon S3 also supports features that help maintain data version control, prevent accidental deletions, and replicate data to the same or different AWS Region. With __S3 Versioning__, you can easily preserve, retrieve, and restore every version of an object stored in Amazon S3, which allows you to recover from unintended user actions and application failures. To prevent accidental deletions, enable __Multi-Factor Authentication (MFA) Delete__ on an S3 bucket. If you try to delete an object stored in an MFA Delete-enabled bucket, it will require two forms of authentication: your AWS account credentials and the concatenation of a valid serial number, a space, and the six-digit code displayed on an approved authentication device, like a hardware key fob or a Universal 2nd Factor (U2F) security key.\n",
    "\n",
    "With [S3 Replication](https://aws.amazon.com/s3/features/replication/), you can replicate objects (and their respective metadata and object tags) to one or more destination buckets into the same or different AWS Regions for reduced latency, compliance, security, disaster recovery, and other use cases. You can configure [S3 Cross-Region Replication (CRR)](https://aws.amazon.com/s3/features/replication/#Amazon_S3_Cross-Region_Replication_.28CRR.29) to replicate objects from a source S3 bucket to one or more destination buckets in different AWS Regions. [S3 Same-Region Replication (SRR)](https://aws.amazon.com/s3/features/replication/#Amazon_S3_Same-Region_Replication_.28SRR.29) replicates objects between buckets in the same AWS Region. While live replication like CRR and SRR automatically replicates newly uploaded objects as they are written to your bucket, S3 Batch Replication allows you to replicate existing objects. You can use [S3 Batch Replication](https://docs.aws.amazon.com/AmazonS3/latest/userguide/s3-batch-replication-batch.html) to backfill a newly created bucket with existing objects, retry objects that were previously unable to replicate, migrate data across accounts, or add new buckets to your data lake. [Amazon S3 Replication Time Control (S3 RTC)](https://aws.amazon.com/s3/features/replication/#Amazon_Replication_Time_Control) helps you meet compliance requirements for data replication by providing an SLA and visibility into replication times.\n",
    "\n",
    "Amazon S3 Multi-Region Access Points accelerate performance by up to 60% when accessing data sets that are replicated across multiple AWS Regions. Based on AWS Global Accelerator, S3 Multi-Region Access Points consider factors like network congestion and the location of the requesting application to dynamically route your requests over the AWS network to the lowest latency copy of your data. S3 Multi-Region Access Points provide a single global endpoint that you can use to access a replicated data set, spanning multiple buckets in S3. This allows you to build multi-region applications with the same simple architecture that you would use in a single region, and then to run those applications anywhere in the world.\n",
    "\n",
    "You can also enforce write-once-read-many (WORM) policies with __S3 Object Lock__. This S3 management feature blocks object version deletion during a customer-defined retention period so that you can enforce retention policies as an added layer of data protection or to meet compliance obligations. You can migrate workloads from existing WORM systems into Amazon S3, and configure S3 Object Lock at the object- and bucket-levels to prevent object version deletions prior to a pre-defined Retain Until Date or Legal Hold Date. Objects with S3 Object Lock retain WORM protection, even if they are moved to different storage classes with an S3 Lifecycle policy. To track what objects have S3 Object Lock, you can refer to an S3 Inventory report that includes the WORM status of objects. S3 Object Lock can be configured in one of two modes. When deployed in Governance mode, AWS accounts with specific IAM permissions are able to remove S3 Object Lock from objects. If you require stronger immutability in order to comply with regulations, you can use Compliance Mode. In Compliance Mode, the protection cannot be removed by any user, including the root account.\n",
    "\n",
    "### Storage monitoring\n",
    "In addition to these management capabilities, use Amazon S3 features and other AWS services to monitor and control your S3 resources. Apply tags to S3 buckets to allocate costs across multiple business dimensions (such as cost centers, application names, or owners), then use __AWS Cost Allocation Reports__ to view the usage and costs aggregated by the bucket tags. You can also use __Amazon CloudWatch__ to track the operational health of your AWS resources and configure billing alerts for estimated charges that reach a user-defined threshold. Use __AWS CloudTrail__ to track and report on bucket- and object-level activities, and configure __S3 Event Notifications__ to trigger workflows and alerts or invoke AWS Lambda when a specific change is made to your S3 resources. S3 Event Notifications automatically transcodes media files as they’re uploaded to S3, processes data files as they become available, and synchronizes objects with other data stores. Additionally, you can verify integrity of data transferred to and from Amazon S3, and can access the checksum information at any time using the GetObjectAttributes S3 API or an S3 Inventory report. You can choose from four supported checksum algorithms (SHA-1, SHA-256, CRC32, or CRC32C) for data integrity checking on your upload and download requests depending on your application needs.\n",
    "\n",
    "Learn more about [S3 storage management](https://docs.aws.amazon.com/AmazonS3/latest/user-guide/storage-management.html) and [monitoring](https://docs.aws.amazon.com/AmazonS3/latest/dev/monitoring-overview.html) \n",
    "\n",
    "\n",
    "## Storage analytics and insights\n",
    "\n",
    "### S3 Storage Lens\n",
    "[S3 Storage Lens](https://aws.amazon.com/s3/storage-analytics-insights/) delivers organization-wide visibility into object storage usage, activity trends, and makes actionable recommendations to improve cost-efficiency and apply data protection best practices. S3 Storage Lens is the first cloud storage analytics solution to provide a single view of object storage usage and activity across hundreds, or even thousands, of accounts in an organization, with drill-downs to generate insights at the account, bucket, or even prefix level. Drawing from more than 14 years of experience helping customers optimize their storage, S3 Storage Lens analyzes organization-wide metrics to deliver contextual recommendations to find ways to reduce storage costs and apply best practices on data protection. To learn more, visit the [storage analytics and insights page](https://aws.amazon.com/s3/storage-analytics-insights/).\n",
    "\n",
    "### S3 Storage Class Analysis\n",
    "Amazon S3 Storage Class Analysis analyzes storage access patterns to help you decide when to transition the right data to the right storage class. This Amazon S3 feature observes data access patterns to help you determine when to transition less frequently accessed storage to a lower-cost storage class. You can use the results to help improve your S3 Lifecycle policies. You can configure storage class analysis to analyze all the objects in a bucket. Or, you can configure filters to group objects together for analysis by common prefix, by object tags, or by both prefix and tags. To learn more, visit the [storage analytics and insights page](https://aws.amazon.com/s3/storage-analytics-insights/).\n",
    "\n",
    "## Storage classes\n",
    "With Amazon S3, you can store data across a range of different S3 storage classes purpose-built for specific use cases and access patterns: __S3 Intelligent-Tiering, S3 Standard, S3 Standard-Infrequent Access (S3 Standard-IA), S3 One Zone-Infrequent Access (S3 One Zone-IA), S3 Glacier Instant Retrieval, S3 Glacier Flexible Retrieval, S3 Glacier Deep Archive, and S3 Outposts__.\n",
    "\n",
    "Every S3 storage class supports a specific data access level at corresponding costs or geographic location. \n",
    "\n",
    "For data with changing, unknown, or unpredictable access patterns, such as data lakes, analytics, or new applications, use __S3 Intelligent-Tiering__, which automatically optimizes your storage costs. S3 Intelligent-Tiering automatically moves your data between three low latency access tiers optimized for frequent, infrequent, and rare access. When subsets of objects become archived over time, you can activate the archive access tier designed for asynchronous access.\n",
    "For more predictable access patterns, you can store mission-critical production data in S3 Standard for frequent access, save costs by storing infrequently accessed data in S3 Standard-IA or S3 One Zone-IA, and archive data at the lowest costs in the archival storage classes — S3 Glacier Instant Retrieval, S3 Glacier Flexible Retrieval, and S3 Glacier Deep Archive. You can use __S3 Storage Class Analysis__ to monitor access patterns across objects to discover data that should be moved to lower-cost storage classes. Then you can use this information to configure an __S3 Lifecycle policy__ that makes the data transfer. S3 Lifecycle policies can also be used to expire objects at the end of their lifecycles. \n",
    "\n",
    "If you have data residency requirements that can’t be met by an existing AWS Region, you can use the S3 Outposts storage class to store your S3 data on premises using __S3 on Outposts__.\n",
    "\n",
    "Learn more by visiting [S3 Storage Classes](https://aws.amazon.com/s3/storage-classes/), [S3 Storage Class Analysis](https://docs.aws.amazon.com/AmazonS3/latest/dev/analytics-storage-class.html), and [S3 Lifecycle management](https://docs.aws.amazon.com/AmazonS3/latest/dev/object-lifecycle-mgmt.html).\n",
    "\n",
    "## Access management and security\n",
    "### Access management\n",
    "To protect your data in Amazon S3, by default, users only have access to the S3 resources they create. You can grant access to other users by using one or a combination of the following access management features: __AWS Identity and Access Management (IAM)__ to create users and manage their respective access; __Access Control Lists (ACLs)__ to make individual objects accessible to authorized users; __bucket policies__ to configure permissions for all objects within a single S3 bucket; [S3 Access Points](https://aws.amazon.com/s3/features/access-points/) to simplify managing data access to shared data sets by creating access points with names and permissions specific to each application or sets of applications; and __Query String Authentication__ to grant time-limited access to others with temporary URLs. Amazon S3 also supports Audit Logs that list the requests made against your S3 resources for complete visibility into who is accessing what data.\n",
    "\n",
    "### Security\n",
    "Amazon S3 offers flexible security features to block unauthorized users from accessing your data. Use VPC endpoints to connect to S3 resources from your __Amazon Virtual Private Cloud (Amazon VPC)__ and from on-premises. Amazon S3 supports both server-side encryption (with three key management options) and client-side encryption for data uploads. Use S3 Inventory to check the encryption status of your S3 objects (see [storage management](https://aws.amazon.com/s3/features/#Storage_management_and_monitoring) for more information on S3 Inventory).\n",
    "\n",
    "[S3 Block Public Access](https://aws.amazon.com/s3/features/block-public-access/) is a set of security controls that ensures S3 buckets and objects do not have public access. With a few clicks in the Amazon S3 Management Console, you can apply the S3 Block Public Access settings to all buckets within your AWS account or to specific S3 buckets. Once the settings are applied to an AWS account, any existing or new buckets and objects associated with that account inherit the settings that prevent public access. S3 Block Public Access settings override other S3 access permissions, making it easy for the account administrator to enforce a “no public access” policy regardless of how an object is added, how a bucket is created, or if there are existing access permissions. S3 Block Public Access controls are auditable, provide a further layer of control, and use AWS Trusted Advisor bucket permission checks, AWS CloudTrail logs, and Amazon CloudWatch alarms. You should enable Block Public Access for all accounts and buckets that you do not want publicly accessible.\n",
    "\n",
    "[S3 Object Ownership](https://docs.aws.amazon.com/AmazonS3/latest/userguide/about-object-ownership.html) is a feature that disables Access Control Lists (ACLs), changing ownership for all objects to the bucket owner and simplifying access management for data stored in S3. When you configure the S3 Object Ownership Bucket owner enforced setting, ACLs will no longer affect permissions for your bucket and the objects in it. All access control will be defined using resource-based policies, user policies, or some combination of these.\n",
    "Using S3 Access Points that are restricted to a Virtual Private Cloud (VPC), you can easily firewall your S3 data within your private network. Additionally, [you can use AWS Service Control Policies to require that any new S3 Access Point in your organization is restricted to VPC-only access.\n",
    "\n",
    "[IAM Access Analyzer](https://aws.amazon.com/iam/features/analyze-access/) for S3 is a feature that helps you simplify permissions management as you set, verify, and refine policies for your S3 buckets and access points. Access Analyzer for S3 monitors your existing bucket access policies to verify that they provide only the required access to your S3 resources. Access Analyzer for S3 evaluates your bucket access policies so that you can swiftly remediate any buckets with access that isn't required. When reviewing results that show potentially shared access to a bucket, you can Block Public Access to the bucket with a single click in the S3 console. For auditing purposes, you can download Access Analyzer for S3 findings as a CSV report. Additionally, the S3 console reports security warnings, errors, and suggestions from IAM Access Analyzer as you author your S3 policies. The console automatically runs more than 100 policy checks to validate your policies. These checks save you time, guide you to resolve errors, and help you apply security best practices.\n",
    "\n",
    "IAM makes it easier for you to analyze access and reduce permissions to achieve least privilege by providing the timestamp when a user or role last used S3 and the associated actions. Use this “last accessed” information to analyze S3 access, identify unused permissions, and remove them confidently. To learn more see [Refining Permissions Using Last Accessed Data](https://docs.aws.amazon.com/IAM/latest/UserGuide/access_policies_access-advisor.html).\n",
    "\n",
    "You can use [Amazon Macie](https://aws.amazon.com/macie/) to discover and protect sensitive data stored in Amazon S3. Macie automatically gathers a complete S3 inventory and continually evaluates every bucket to alert on any publicly accessible buckets, unencrypted buckets, or buckets shared or replicated with AWS accounts outside of your organization. Then, Macie applies machine learning and pattern matching techniques to the buckets you select to identify and alert you to sensitive data, such as personally identifiable information (PII). As security findings are generated, they are pushed out to the Amazon CloudWatch Events, making it easy to integrate with existing workflow systems and to trigger automated remediation with services like AWS Step Functions to take action like closing a public bucket or adding resource tags.\n",
    "\n",
    "[AWS PrivateLink](https://docs.aws.amazon.com/AmazonS3/latest/dev/privatelink-interface-endpoints.html) for S3 provides private connectivity between Amazon S3 and on-premises. You can provision interface VPC endpoints for S3 in your VPC to connect your on-premises applications directly with S3 over AWS Direct Connect or AWS VPN. Requests to interface VPC endpoints for S3 are automatically routed to S3 over the Amazon network. You can set security groups and configure VPC endpoint policies for your interface VPC endpoints for additional access controls.\n",
    "\n",
    "Learn more by visiting [S3 access management and security](https://docs.aws.amazon.com/AmazonS3/latest/dev/s3-access-control.html) and [protecting data in Amazon S3](https://docs.aws.amazon.com/AmazonS3/latest/dev/DataDurability.html).\n",
    "\n",
    "## Data processing\n",
    "### S3 Object Lambda\n",
    "With S3 Object Lambda you can add your own code to S3 GET requests to modify and process data as it is returned to an application. For the first time, you can use custom code to modify the data returned by standard S3 GET requests to filter rows, dynamically resize images, redact confidential data, and much more. Powered by AWS Lambda functions, your code runs on infrastructure that is fully managed by AWS, eliminating the need to create and store derivative copies of your data or to run expensive proxies, all with no changes required to applications.\n",
    "\n",
    "S3 Object Lambda uses AWS Lambda functions to automatically process the output of a standard S3 GET request. AWS Lambda is a serverless compute service that runs customer-defined code without requiring management of underlying compute resources. With just a few clicks in the AWS Management Console, you can configure a Lambda function and attach it to a S3 Object Lambda Access Point. From that point forward, S3 will automatically call your Lambda function to process any data retrieved through the S3 Object Lambda Access Point, returning a transformed result back to the application. You can author and execute your own custom Lambda functions, tailoring S3 Object Lambda’s data transformation to your specific use case.\n",
    "\n",
    "Learn more by visiting the [S3 Object Lambda feature page](https://aws.amazon.com/s3/features/object-lambda/).\n",
    "\n",
    "### Query in place\n",
    "Amazon S3 has a built-in feature and complementary services that query data without needing to copy and load it into a separate analytics platform or data warehouse. This means you can run big data analytics directly on your data stored in Amazon S3. S3 Select is an S3 feature designed to increase query performance by up to 400%, and reduce querying costs as much as 80%. It works by retrieving a subset of an object’s data (using simple SQL expressions) instead of the entire object, which can be up to 5 terabytes in size.\n",
    "\n",
    "Amazon S3 is also compatible with AWS analytics services Amazon Athena and Amazon Redshift Spectrum. Amazon Athena queries your data in Amazon S3 without needing to extract and load it into a separate service or platform. It uses standard SQL expressions to analyze your data, delivers results within seconds, and is commonly used for ad hoc data discovery. Amazon Redshift Spectrum also runs SQL queries directly against data at rest in Amazon S3, and is more appropriate for complex queries and large data sets (up to exabytes). Because Amazon Athena and Amazon Redshift share a common data catalog and data formats, you can use them both against the same data sets in Amazon S3.\n",
    "\n",
    "Learn more by visiting [building big data storage solutions](https://docs.aws.amazon.com/aws-technical-content/latest/building-data-lakes/in-place-querying.html) and [S3 Select](https://docs.aws.amazon.com/AmazonS3/latest/dev/selecting-content-from-objects.html).\n",
    "\n",
    "## Data transfer\n",
    "AWS provides a portfolio of data transfer services to provide the right solution for any data migration project. The level of connectivity is a major factor in data migration, and AWS has offerings that can address your hybrid cloud storage, online data transfer, and offline data transfer needs.\n",
    "\n",
    "Hybrid cloud storage: [AWS Storage Gateway](https://aws.amazon.com/storagegateway/) is a hybrid cloud storage service that lets you seamlessly connect and extend your on-premises applications to AWS Storage. Customers use Storage Gateway to seamlessly replace tape libraries with cloud storage, provide cloud storage-backed file shares, or create a low-latency cache to access data in AWS for on-premises applications. \n",
    "\n",
    "Online data transfer: [AWS DataSync](https://aws.amazon.com/datasync/) makes it easy and efficient to transfer hundreds of terabytes and millions of files into Amazon S3, up to 10x faster than open-source tools. DataSync automatically handles or eliminates many manual tasks, including scripting copy jobs, scheduling and monitoring transfers, validating data, and optimizing network utilization. Additionally, you can use AWS DataSync to copy objects between a bucket on S3 on Outposts and a bucket stored in an AWS Region. The [AWS Transfer Family](https://aws.amazon.com/aws-transfer-family/) provides fully managed, simple, and seamless file transfer to Amazon S3 using SFTP, FTPS, and FTP. [Amazon S3 Transfer Acceleration](https://aws.amazon.com/s3/transfer-acceleration/) enables fast transfers of files over long distances between your client and your Amazon S3 bucket.\n",
    "\n",
    "Offline data transfer: The [AWS Snow Family](https://aws.amazon.com/snow/) is purpose-built for use in edge locations where network capacity is constrained or nonexistent and provides storage and computing capabilities in harsh environments. The [AWS Snowball](https://aws.amazon.com/snowball/) service uses ruggedized, portable storage and edge computing devices for data collection, processing, and migration. Customers can ship the physical Snowball device for offline data migration to AWS. [AWS Snowmobile](https://aws.amazon.com/snowmobile/) is an exabyte-scale data transfer service used to move massive volumes of data to the cloud, including video libraries, image repositories, or even a complete data center migration.\n",
    "\n",
    "Customers can also work with third-party providers from the [AWS Partner Network (APN)](https://aws.amazon.com/partners/) to deploy hybrid storage architectures, integrate Amazon S3 into existing applications and workflows, and transfer data to and from the AWS Cloud.\n",
    "\n",
    "Learn more by visiting [AWS cloud data migration services](https://aws.amazon.com/cloud-data-migration/) , [AWS Storage Gateway](https://aws.amazon.com/storagegateway/) , [AWS DataSync](https://aws.amazon.com/datasync/)) ,  [AWS Transfer Family](https://aws.amazon.com/aws-transfer-family/) , [Amazon S3 Transfer Acceleration ](https://aws.amazon.com/s3/transfer-acceleration/) , [ AWS Snow Family ](https://aws.amazon.com/snow/).\n",
    "\n",
    "## Performance\n",
    "Amazon S3 provides industry leading performance for cloud object storage. Amazon S3 supports parallel requests, which means you can scale your S3 performance by the factor of your compute cluster, without making any customizations to your application. Performance scales per prefix, so you can use as many prefixes as you need in parallel to achieve the required throughput. There are no limits to the number of prefixes. Amazon S3 performance supports at least 3,500 requests per second to add data and 5,500 requests per second to retrieve data. Each S3 prefix can support these request rates, making it simple to increase performance significantly.\n",
    "\n",
    "To achieve this S3 request rate performance you do not need to randomize object prefixes to achieve faster performance. That means you can use logical or sequential naming patterns in S3 object naming without any performance implications. Refer to the [Performance Guidelines for Amazon S3](https://docs.aws.amazon.com/AmazonS3/latest/dev/optimizing-performance-guidelines.html) and [Performance Design Patterns for Amazon S3](https://docs.aws.amazon.com/AmazonS3/latest/dev/optimizing-performance-design-patterns.html) for the most current information about performance optimization for Amazon S3.\n",
    "\n",
    "## Consistency\n",
    "Amazon S3 delivers strong read-after-write consistency automatically for all applications, without changes to performance or availability, without sacrificing regional isolation for applications, and at no additional cost. With strong consistency, S3 simplifies the migration of on-premises analytics workloads by removing the need to make changes to applications, and reduces costs by removing the need for extra infrastructure to provide strong consistency.\n",
    "\n",
    "Any request for S3 storage is strongly consistent. After a successful write of a new object or an overwrite of an existing object, any subsequent read request immediately receives the latest version of the object. S3 also provides strong consistency for list operations, so after a write, you can immediately perform a listing of the objects in a bucket with any changes reflected.\n",
    "\n",
    "Learn more about S3 [Strong Consistency](https://aws.amazon.com/s3/consistency/)\n",
    "\n"
   ]
  },
  {
   "cell_type": "markdown",
   "id": "5d6384c2-801b-4bb2-b039-58ec74a7c6b4",
   "metadata": {},
   "source": [
    "<hr style=\"height:10px;border-width:0;color:gray;background-color:gray\">\n",
    "\n",
    "# Page 4 - <a class=\"anchor\" id=\"DS107L6_page_4\"></a>\n",
    "\n",
    "[Back to Top](#DS107L6_toc)\n",
    "\n",
    "<hr style=\"height:10px;border-width:0;color:gray;background-color:gray\">\n"
   ]
  },
  {
   "cell_type": "markdown",
   "id": "57632136-eab6-488d-8886-637c5e079b9c",
   "metadata": {},
   "source": []
  },
  {
   "cell_type": "markdown",
   "id": "195fb90b-2323-4fef-bb88-4d2b65e035d7",
   "metadata": {},
   "source": [
    "<hr style=\"height:10px;border-width:0;color:gray;background-color:gray\">\n",
    "\n",
    "# Page 5 - Lab 1 S3<a class=\"anchor\" id=\"DS107L6_page_5\"></a>\n",
    "\n",
    "[Back to Top](#DS107L6_toc)\n",
    "\n",
    "<hr style=\"height:10px;border-width:0;color:gray;background-color:gray\">\n"
   ]
  },
  {
   "cell_type": "markdown",
   "id": "d49388b0-8939-49df-bb19-700caf77dbfa",
   "metadata": {},
   "source": [
    "This module presents an introduction to Amazon Simple Storage Service (Amazon S3). The course begins with Amazon S3 because it is an easy way to start working with the AWS Management Console. Also, because Amazon S3 is used throughout the course, you must know how to create Amazon S3 buckets and load data for subsequent labs.\n",
    "\n",
    "At the end of this module, you will be able to:\n",
    "\n",
    "- Describe the role of the Amazon S3 service in big data solutions.\n",
    "- Explain how AWS Identity and Access Management (IAM) controls access to Amazon S3.\n",
    "- Create an S3 bucket.\n",
    "- Load data into an S3 bucket.\n",
    "- Query resources in Amazon S3.\n",
    "\n",
    "In this lab you will practice using the AWS management console to create an Amazon S3 bucket, add an IAM user to a group that has full access to the Amazon S3 service, upload files to Amazon S3, and run simple queries on the data in Amazon S3.\n",
    "\n",
    "All big data solutions begin with storing data. This is the first step in the big data pipeline. You can store data with several different services from Amazon Web Services (AWS). Amazon Simple Storage Service (Amazon S3) is one of the most commonly used services for storing data.\n",
    "\n",
    "In this lab, you will practice using the AWS Management Console to create an S3 bucket. You will then add an AWS Identity and Access Management (IAM) user to a group that has full access to Amazon S3. You will also upload files to Amazon S3, and run simple queries on the data in Amazon S3.\n",
    "\n",
    "<p style=\"text-align: center\">\n",
    "  <img  src=\"Media/Amazon-S3-Lab.png\" width=\"600\" alt=\"Amazon-S3-Lab\">\n",
    "</p>\n",
    "\n",
    "For more information about Amazon S3, refer to the [Amazon Simple Storage Service S3() documentation](https://docs.aws.amazon.com/s3/index.html?id=docs_gateway#lang/en_us).\n",
    "\n",
    "### Objectives\n",
    "\n",
    "After completing this lab, you will be able to:\n",
    "- Access Amazon S3 in the AWS Management Console\n",
    "- Secure an S3 bucket with IAM\n",
    "- Create a bucket with Amazon S3\n",
    "- Load data into an S3 bucket\n",
    "- Query an S3 bucket\n",
    "\n",
    "### Prerequisites\n",
    "\n",
    "This lab requires:\n",
    "\n",
    "- Access to a notebook computer with Wi-Fi and Microsoft Windows, macOS, or Linux (Ubuntu, SuSE, or Red Hat)\n",
    "- For Microsoft Windows users: Administrator access to the computer\n",
    "- An internet browser such as Chrome, Firefox, or IE9 (previous versions of Internet Explorer are not supported)\n",
    "\n",
    "### Duration\n",
    "\n",
    "This lab requires 30 minutes to complete. The lab will remain active for 60 minutes to allow extra time if needed.\n",
    "\n",
    "### Start Lab 1 Store Data in Amazon S3"
   ]
  },
  {
   "cell_type": "markdown",
   "id": "70b4288e-931e-4426-b564-0b907ec455ac",
   "metadata": {},
   "source": [
    "<hr style=\"height:10px;border-width:0;color:gray;background-color:gray\">\n",
    "\n",
    "# Page 6 - Amazon Athena<a class=\"anchor\" id=\"DS107L6_page_6\"></a>\n",
    "\n",
    "[Back to Top](#DS107L6_toc)\n",
    "\n",
    "<hr style=\"height:10px;border-width:0;color:gray;background-color:gray\">\n"
   ]
  },
  {
   "cell_type": "markdown",
   "id": "89907964-9298-4a42-adec-8ef0b08ad5c6",
   "metadata": {},
   "source": []
  },
  {
   "cell_type": "markdown",
   "id": "42ab93dd-a9b3-4613-b89d-271bbaaeac24",
   "metadata": {},
   "source": [
    "<hr style=\"height:10px;border-width:0;color:gray;background-color:gray\">\n",
    "\n",
    "# Page 7 - <a class=\"anchor\" id=\"DS107L6_page_7\"></a>\n",
    "\n",
    "[Back to Top](#DS107L6_toc)\n",
    "\n",
    "<hr style=\"height:10px;border-width:0;color:gray;background-color:gray\">\n"
   ]
  },
  {
   "cell_type": "markdown",
   "id": "e5ee72ad-240c-42a7-95b6-3fcb2d9509aa",
   "metadata": {},
   "source": []
  },
  {
   "cell_type": "markdown",
   "id": "2ec5015c-9b60-430b-a0e4-e1c0006fcf8d",
   "metadata": {},
   "source": [
    "<hr style=\"height:10px;border-width:0;color:gray;background-color:gray\">\n",
    "\n",
    "# Page 8 - <a class=\"anchor\" id=\"DS107L6_page_8\"></a>\n",
    "\n",
    "[Back to Top](#DS107L6_toc)\n",
    "\n",
    "<hr style=\"height:10px;border-width:0;color:gray;background-color:gray\">\n"
   ]
  },
  {
   "cell_type": "markdown",
   "id": "caab1e41-b8c5-42f8-b566-bf6fd7a381b2",
   "metadata": {},
   "source": []
  },
  {
   "cell_type": "markdown",
   "id": "c9c7304f-af52-4e40-858e-89ab4f6c605a",
   "metadata": {},
   "source": [
    "<hr style=\"height:10px;border-width:0;color:gray;background-color:gray\">\n",
    "\n",
    "# Page 9 - <a class=\"anchor\" id=\"DS107L6_page_9\"></a>\n",
    "\n",
    "[Back to Top](#DS107L6_toc)\n",
    "\n",
    "<hr style=\"height:10px;border-width:0;color:gray;background-color:gray\">\n"
   ]
  },
  {
   "cell_type": "markdown",
   "id": "fb751732-56c4-4d04-9bca-63b63f810628",
   "metadata": {},
   "source": []
  },
  {
   "cell_type": "markdown",
   "id": "7a58b4cc-44d3-4d5b-8d25-007355c484af",
   "metadata": {},
   "source": [
    "<hr style=\"height:10px;border-width:0;color:gray;background-color:gray\">\n",
    "\n",
    "# Page 10 - Lab 2 Athena<a class=\"anchor\" id=\"DS107L6_page_10\"></a>\n",
    "\n",
    "[Back to Top](#DS107L6_toc)\n",
    "\n",
    "<hr style=\"height:10px;border-width:0;color:gray;background-color:gray\">\n"
   ]
  },
  {
   "cell_type": "markdown",
   "id": "e90625b8-207f-485e-b188-577384faf789",
   "metadata": {},
   "source": [
    "Lab 2 Introduction\n",
    "Lab 2 introduces you to Amazon Athena, which is the first analysis service that is covered in the course. You can use Amazon Athena to query structured, unstructured, and semi-structured data. Amazon Athena integrates with AWS Glue, which is covered in Lab 3.\n",
    "\n",
    "At the end of this module, you will be able to:\n",
    "\n",
    "Access Amazon Athena in the AWS Management Console.\n",
    "Create an Amazon Athena database.\n",
    "Create a table in Amazon Athena.\n",
    "Optimize an Amazon Athena database.\n",
    "Run moderately complex queries with Amazon Athena.\n",
    "In this lab you will practice using the AWS management console to create an Amazon S3 bucket, add an IAM user to a group that has full access to the Amazon S3 service, upload files to Amazon S3, and run simple queries on the data in Amazon S3."
   ]
  },
  {
   "cell_type": "code",
   "execution_count": null,
   "id": "895dd7cf-15d3-43f6-a8cb-93bb864b7a89",
   "metadata": {},
   "outputs": [],
   "source": []
  }
 ],
 "metadata": {
  "kernelspec": {
   "display_name": "Python 3 (ipykernel)",
   "language": "python",
   "name": "python3"
  },
  "language_info": {
   "codemirror_mode": {
    "name": "ipython",
    "version": 3
   },
   "file_extension": ".py",
   "mimetype": "text/x-python",
   "name": "python",
   "nbconvert_exporter": "python",
   "pygments_lexer": "ipython3",
   "version": "3.9.13"
  }
 },
 "nbformat": 4,
 "nbformat_minor": 5
}
