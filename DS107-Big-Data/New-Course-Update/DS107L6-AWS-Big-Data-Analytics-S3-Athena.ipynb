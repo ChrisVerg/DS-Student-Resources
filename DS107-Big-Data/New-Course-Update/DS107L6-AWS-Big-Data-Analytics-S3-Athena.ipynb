{
 "cells": [
  {
   "cell_type": "markdown",
   "id": "50e6ddbb-52d3-4a02-9b69-100a4181e3b0",
   "metadata": {},
   "source": [
    "# DS107 Big Data : AWS-Big-Data-Analytics-S3-Athena"
   ]
  },
  {
   "cell_type": "markdown",
   "id": "d1bd4bfc-9b15-4b80-87b4-b8b60eb56371",
   "metadata": {},
   "source": [
    "### Table of Contents <a class=\"anchor\" id=\"DS107L6_toc\"></a>\n",
    "\n",
    "* [Table of Contents](#DS107L6_toc)\n",
    "    * [Page 1 - Introduction](#DS107L6_page_1)\n",
    "    * [Page 2 - Amazon Simple Storage Service (Amazon S3)](#DS107L6_page_2)\n",
    "    * [Page 3 - ](#DS107L6_page_3)\n",
    "    * [Page 4 - ](#DS107L6_page_4)\n",
    "    * [Page 5 - ](#DS107L6_page_5)\n",
    "    * [Page 6 - Amazon Athena](#DS107L6_page_6)\n",
    "    * [Page 7 - ](#DS107L6_page_7)\n",
    "    * [Page 8 - ](#DS107L6_page_8)\n",
    "    * [Page 9 - ](#DS107L6_page_9)\n",
    "    * [Page 10 - Key Terms](#DS107L6_page_10)\n",
    "   \n",
    "    "
   ]
  },
  {
   "cell_type": "markdown",
   "id": "ef5a8c65-ed48-4354-a257-e01b0fd733d4",
   "metadata": {},
   "source": [
    "<hr style=\"height:10px;border-width:0;color:gray;background-color:gray\">\n",
    "\n",
    "# Page 1 - Overview of this Module<a class=\"anchor\" id=\"DS107L6_page_1\"></a>\n",
    "\n",
    "[Back to Top](#DS107L6_toc)\n",
    "\n",
    "<hr style=\"height:10px;border-width:0;color:gray;background-color:gray\">"
   ]
  },
  {
   "cell_type": "markdown",
   "id": "f632fc7b-0905-426e-b749-5edeca901bf2",
   "metadata": {},
   "source": [
    "## Objectives\n",
    "\n",
    "\n",
    "\n",
    "After completing this lab, you will be able to:\n",
    "- Access Amazon S3 in the AWS Management Console\n",
    "- Secure an S3 bucket with IAM\n",
    "- Create a bucket with Amazon S3\n",
    "- Load data into an S3 bucket\n",
    "- Query an S3 bucket\n",
    "\n"
   ]
  },
  {
   "cell_type": "markdown",
   "id": "7990ac7a-5a2f-4744-af14-1b7e385ea484",
   "metadata": {},
   "source": [
    "<hr style=\"height:10px;border-width:0;color:gray;background-color:gray\">\n",
    "\n",
    "# Page 2 - Amazon Simple Storage Service (Amazon S3)<a class=\"anchor\" id=\"DS107L6_page_2\"></a>\n",
    "\n",
    "[Back to Top](#DS107L6_toc)\n",
    "\n",
    "<hr style=\"height:10px;border-width:0;color:gray;background-color:gray\">\n"
   ]
  },
  {
   "cell_type": "markdown",
   "id": "c61d2371-3587-4ee7-a897-e8a56896d497",
   "metadata": {},
   "source": [
    "\n",
    "This module presents an introduction to Amazon Simple Storage Service (Amazon S3). The course begins with Amazon S3 because it is an easy way to start working with the AWS Management Console. Also, because Amazon S3 is used throughout the course, you must know how to create Amazon S3 buckets and load data for subsequent labs.\n",
    "\n",
    "At the end of this module, you will be able to:\n",
    "\n",
    "- Describe the role of the Amazon S3 service in big data solutions.\n",
    "- Explain how AWS Identity and Access Management (IAM) controls access to Amazon S3.\n",
    "- Create an S3 bucket.\n",
    "- Load data into an S3 bucket.\n",
    "- Query resources in Amazon S3.\n",
    "\n",
    "In this lab you will practice using the AWS management console to create an Amazon S3 bucket, add an IAM user to a group that has full access to the Amazon S3 service, upload files to Amazon S3, and run simple queries on the data in Amazon S3.\n",
    "\n",
    "All big data solutions begin with storing data. This is the first step in the big data pipeline. You can store data with several different services from Amazon Web Services (AWS). Amazon Simple Storage Service (Amazon S3) is one of the most commonly used services for storing data.\n",
    "\n",
    "In this lab, you will practice using the AWS Management Console to create an S3 bucket. You will then add an AWS Identity and Access Management (IAM) user to a group that has full access to Amazon S3. You will also upload files to Amazon S3, and run simple queries on the data in Amazon S3.\n",
    "\n",
    "<p style=\"text-align: center\">\n",
    "  <img  src=\"Media/Amazon-S3-Lab.png\" width=\"600\" alt=\"Amazon-S3-Lab\">\n",
    "</p>\n",
    "\n",
    "For more information about Amazon S3, refer to the [Amazon Simple Storage Service S3() documentation](https://docs.aws.amazon.com/s3/index.html?id=docs_gateway#lang/en_us).\n",
    "\n",
    "### Objectives\n",
    "\n",
    "After completing this lab, you will be able to:\n",
    "- Access Amazon S3 in the AWS Management Console\n",
    "- Secure an S3 bucket with IAM\n",
    "- Create a bucket with Amazon S3\n",
    "- Load data into an S3 bucket\n",
    "- Query an S3 bucket\n",
    "\n",
    "### Prerequisites\n",
    "\n",
    "This lab requires:\n",
    "\n",
    "- Access to a notebook computer with Wi-Fi and Microsoft Windows, macOS, or Linux (Ubuntu, SuSE, or Red Hat)\n",
    "- For Microsoft Windows users: Administrator access to the computer\n",
    "- An internet browser such as Chrome, Firefox, or IE9 (previous versions of Internet Explorer are not supported)\n",
    "\n",
    "### Duration\n",
    "\n",
    "This lab requires 30 minutes to complete. The lab will remain active for 60 minutes to allow extra time if needed.\n",
    "\n",
    "### Start Lab 1 Store Data in Amazon S3"
   ]
  },
  {
   "cell_type": "markdown",
   "id": "832358fd-55fa-420a-8aa2-46fbf2097986",
   "metadata": {},
   "source": [
    "<hr style=\"height:10px;border-width:0;color:gray;background-color:gray\">\n",
    "\n",
    "# Page 3 - <a class=\"anchor\" id=\"DS107L6_page_3\"></a>\n",
    "\n",
    "[Back to Top](#DS107L6_toc)\n",
    "\n",
    "<hr style=\"height:10px;border-width:0;color:gray;background-color:gray\">\n"
   ]
  },
  {
   "cell_type": "markdown",
   "id": "4ef4ac6d-6d08-4163-901c-3216ed9c823d",
   "metadata": {},
   "source": [
    "Lab 2 Introduction\n",
    "Lab 2 introduces you to Amazon Athena, which is the first analysis service that is covered in the course. You can use Amazon Athena to query structured, unstructured, and semi-structured data. Amazon Athena integrates with AWS Glue, which is covered in Lab 3.\n",
    "\n",
    "At the end of this module, you will be able to:\n",
    "\n",
    "Access Amazon Athena in the AWS Management Console.\n",
    "Create an Amazon Athena database.\n",
    "Create a table in Amazon Athena.\n",
    "Optimize an Amazon Athena database.\n",
    "Run moderately complex queries with Amazon Athena.\n",
    "In this lab you will practice using the AWS management console to create an Amazon S3 bucket, add an IAM user to a group that has full access to the Amazon S3 service, upload files to Amazon S3, and run simple queries on the data in Amazon S3."
   ]
  },
  {
   "cell_type": "markdown",
   "id": "5d6384c2-801b-4bb2-b039-58ec74a7c6b4",
   "metadata": {},
   "source": [
    "<hr style=\"height:10px;border-width:0;color:gray;background-color:gray\">\n",
    "\n",
    "# Page 4 - <a class=\"anchor\" id=\"DS107L6_page_4\"></a>\n",
    "\n",
    "[Back to Top](#DS107L6_toc)\n",
    "\n",
    "<hr style=\"height:10px;border-width:0;color:gray;background-color:gray\">\n"
   ]
  },
  {
   "cell_type": "markdown",
   "id": "57632136-eab6-488d-8886-637c5e079b9c",
   "metadata": {},
   "source": []
  },
  {
   "cell_type": "markdown",
   "id": "195fb90b-2323-4fef-bb88-4d2b65e035d7",
   "metadata": {},
   "source": [
    "<hr style=\"height:10px;border-width:0;color:gray;background-color:gray\">\n",
    "\n",
    "# Page 5 - <a class=\"anchor\" id=\"DS107L6_page_5\"></a>\n",
    "\n",
    "[Back to Top](#DS107L6_toc)\n",
    "\n",
    "<hr style=\"height:10px;border-width:0;color:gray;background-color:gray\">\n"
   ]
  },
  {
   "cell_type": "markdown",
   "id": "d49388b0-8939-49df-bb19-700caf77dbfa",
   "metadata": {},
   "source": []
  },
  {
   "cell_type": "markdown",
   "id": "70b4288e-931e-4426-b564-0b907ec455ac",
   "metadata": {},
   "source": [
    "<hr style=\"height:10px;border-width:0;color:gray;background-color:gray\">\n",
    "\n",
    "# Page 6 - Amazon Athena<a class=\"anchor\" id=\"DS107L6_page_6\"></a>\n",
    "\n",
    "[Back to Top](#DS107L6_toc)\n",
    "\n",
    "<hr style=\"height:10px;border-width:0;color:gray;background-color:gray\">\n"
   ]
  },
  {
   "cell_type": "markdown",
   "id": "89907964-9298-4a42-adec-8ef0b08ad5c6",
   "metadata": {},
   "source": []
  },
  {
   "cell_type": "markdown",
   "id": "42ab93dd-a9b3-4613-b89d-271bbaaeac24",
   "metadata": {},
   "source": [
    "<hr style=\"height:10px;border-width:0;color:gray;background-color:gray\">\n",
    "\n",
    "# Page 7 - <a class=\"anchor\" id=\"DS107L6_page_7\"></a>\n",
    "\n",
    "[Back to Top](#DS107L6_toc)\n",
    "\n",
    "<hr style=\"height:10px;border-width:0;color:gray;background-color:gray\">\n"
   ]
  },
  {
   "cell_type": "markdown",
   "id": "e5ee72ad-240c-42a7-95b6-3fcb2d9509aa",
   "metadata": {},
   "source": []
  },
  {
   "cell_type": "markdown",
   "id": "2ec5015c-9b60-430b-a0e4-e1c0006fcf8d",
   "metadata": {},
   "source": [
    "<hr style=\"height:10px;border-width:0;color:gray;background-color:gray\">\n",
    "\n",
    "# Page 8 - <a class=\"anchor\" id=\"DS107L6_page_8\"></a>\n",
    "\n",
    "[Back to Top](#DS107L6_toc)\n",
    "\n",
    "<hr style=\"height:10px;border-width:0;color:gray;background-color:gray\">\n"
   ]
  },
  {
   "cell_type": "markdown",
   "id": "caab1e41-b8c5-42f8-b566-bf6fd7a381b2",
   "metadata": {},
   "source": []
  },
  {
   "cell_type": "markdown",
   "id": "c9c7304f-af52-4e40-858e-89ab4f6c605a",
   "metadata": {},
   "source": [
    "<hr style=\"height:10px;border-width:0;color:gray;background-color:gray\">\n",
    "\n",
    "# Page 9 - <a class=\"anchor\" id=\"DS107L6_page_9\"></a>\n",
    "\n",
    "[Back to Top](#DS107L6_toc)\n",
    "\n",
    "<hr style=\"height:10px;border-width:0;color:gray;background-color:gray\">\n"
   ]
  },
  {
   "cell_type": "markdown",
   "id": "fb751732-56c4-4d04-9bca-63b63f810628",
   "metadata": {},
   "source": []
  },
  {
   "cell_type": "markdown",
   "id": "7a58b4cc-44d3-4d5b-8d25-007355c484af",
   "metadata": {},
   "source": [
    "<hr style=\"height:10px;border-width:0;color:gray;background-color:gray\">\n",
    "\n",
    "# Page 10 - <a class=\"anchor\" id=\"DS107L6_page_10\"></a>\n",
    "\n",
    "[Back to Top](#DS107L6_toc)\n",
    "\n",
    "<hr style=\"height:10px;border-width:0;color:gray;background-color:gray\">\n"
   ]
  },
  {
   "cell_type": "markdown",
   "id": "e90625b8-207f-485e-b188-577384faf789",
   "metadata": {},
   "source": []
  }
 ],
 "metadata": {
  "kernelspec": {
   "display_name": "Python 3 (ipykernel)",
   "language": "python",
   "name": "python3"
  },
  "language_info": {
   "codemirror_mode": {
    "name": "ipython",
    "version": 3
   },
   "file_extension": ".py",
   "mimetype": "text/x-python",
   "name": "python",
   "nbconvert_exporter": "python",
   "pygments_lexer": "ipython3",
   "version": "3.9.13"
  }
 },
 "nbformat": 4,
 "nbformat_minor": 5
}
