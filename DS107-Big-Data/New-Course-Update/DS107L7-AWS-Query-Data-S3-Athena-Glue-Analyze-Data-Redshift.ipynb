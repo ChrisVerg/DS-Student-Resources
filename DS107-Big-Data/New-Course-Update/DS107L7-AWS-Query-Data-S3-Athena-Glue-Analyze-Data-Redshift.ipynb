{
 "cells": [
  {
   "cell_type": "markdown",
   "id": "50e6ddbb-52d3-4a02-9b69-100a4181e3b0",
   "metadata": {},
   "source": [
    "# DS107 Big Data : Query-Data-S3-Athena-Glue-Analyze-Data-Redshift"
   ]
  },
  {
   "cell_type": "markdown",
   "id": "d1bd4bfc-9b15-4b80-87b4-b8b60eb56371",
   "metadata": {},
   "source": [
    "### Table of Contents <a class=\"anchor\" id=\"DS107L7_toc\"></a>\n",
    "\n",
    "* [Table of Contents](#DS107L7_toc)\n",
    "    * [Page 1 - What is AWS Glue?](#DS107L7_page_1)\n",
    "    * [Page 2 - Why AWS Glue?](#DS107L7_page_2)\n",
    "    * [Page 3 - AWS Glue Use Cases](#DS107L7_page_3)\n",
    "    * [Page 4 - AWS Glue Features](#DS107L7_page_4)\n",
    "    * [Page 5 - Data Analytics Lab 3 - Query Data in Amazon S3 with Amazon Athena and AWS Glue](#DS107L7_page_5)\n",
    "    * [Page 6 - ](#DS107L7_page_6)\n",
    "    * [Page 7 - ](#DS107L7_page_7)\n",
    "    * [Page 8 - ](#DS107L7_page_8)\n",
    "    * [Page 9 - ](#DS107L7_page_9)\n",
    "    * [Page 10 - Data Analytics Lab 4 - Analyze Data with Amazon Redshift ](#DS107L7_page_10)\n",
    "    * [Page 11 - Key Terms](#DS107L7_page_11)\n",
    "    * [Page 12 - ](#DS107L7_page_12)\n",
    "    "
   ]
  },
  {
   "cell_type": "markdown",
   "id": "ef5a8c65-ed48-4354-a257-e01b0fd733d4",
   "metadata": {},
   "source": [
    "<hr style=\"height:10px;border-width:0;color:gray;background-color:gray\">\n",
    "\n",
    "# Page 1 - What is AWS Glue?<a class=\"anchor\" id=\"DS107L7_page_1\"></a>\n",
    "\n",
    "[Back to Top](#DS107L7_toc)\n",
    "\n",
    "<hr style=\"height:10px;border-width:0;color:gray;background-color:gray\">"
   ]
  },
  {
   "cell_type": "markdown",
   "id": "54fb102e-62bc-4cf5-a96c-ad72a6c482c8",
   "metadata": {},
   "source": [
    "AWS Glue is a serverless data integration service that makes it easy for analytics users to discover, prepare, move, and integrate data from multiple sources. You can use it for analytics, machine learning, and application development. It also includes additional productivity and data ops tooling for authoring, running jobs, and implementing business workflows. You can doing several things with AWS Glue: You can run ETL jobs as new data arrives; you can catalog your data to quickly discover and search multiple AWS datasets without moving the data; you can use no-code ETL jobs using AWS Glue Studio which makes it easier to visually create, run, and monitor AWS Glue ETL jobs; and you can utilize AWS Glue DataBrew, where you can explore and experiment with data directly from your data lake.\n",
    "\n",
    "With AWS Glue, you can discover and connect to more than 70 diverse data sources and manage your data in a centralized data catalog. You can visually create, run, and monitor extract, transform, and load (ETL) pipelines to load data into your data lakes. Also, you can immediately search and query cataloged data using Amazon Athena, Amazon EMR, and Amazon Redshift Spectrum.\n",
    "\n",
    "AWS Glue consolidates major data integration capabilities into a single service. These include data discovery, modern ETL, cleansing, transforming, and centralized cataloging. It’s also serverless, which means there’s no infrastructure to manage. With flexible support for all workloads like ETL, ELT, and streaming in one service, AWS Glue supports users across various workloads and types of users.\n",
    "\n",
    "Also, AWS Glue makes it easy to integrate data across your architecture. It integrates with AWS analytics services and Amazon S3 data lakes. AWS Glue has integration interfaces and job-authoring tools that are easy to use for all users, from developers to business users, with tailored solutions for varied technical skill sets.\n",
    "\n",
    "With the ability to scale on demand, AWS Glue helps you focus on high-value activities that maximize the value of your data. It scales for any data size, and supports all data types and schema variances. To increase agility and optimize costs, AWS Glue provides built-in high availability and pay-as-you-go billing.\n",
    "\n",
    "For pricing information, see [AWS Glue pricing](https://aws.amazon.com/glue/pricing).\n",
    "\n",
    "\n",
    "## Event Driven ETL\n",
    "\n",
    "AWS Glue can run your extract, transform, and load (ETL) jobs as new data arrives. For example, you can configure AWS Glue to initiate your ETL jobs to run as soon as new data becomes available in Amazon Simple Storage Service (S3).\n",
    "\n",
    "<p style=\"text-align: center\">\n",
    "  <img  src=\"Media/AWS-Glue-Event-Driven-ETL.png\" width=\"1000\" alt=\"AWS-Glue-Event-Driven-ETL\">\n",
    "</p>\n",
    "\n",
    "## AWS Glue Data Catalog\n",
    "\n",
    "You can use the Data Catalog to quickly discover and search multiple AWS datasets without moving the data. Once the data is cataloged, it is immediately available for search and query using Amazon Athena, Amazon EMR, and Amazon Redshift Spectrum.\n",
    "\n",
    "<p style=\"text-align: center\">\n",
    "  <img  src=\"Media/AWS-Glue-Data-Catalog.png\" width=\"1000\" alt=\"AWS-Glue-Data-Catalog\">\n",
    "</p>\n",
    "\n",
    "\n",
    "## No-code ETL Jobs\n",
    "\n",
    "AWS Glue Studio makes it easier to visually create, run, and monitor AWS Glue ETL jobs. You can build ETL jobs that move and transform data using a drag-and-drop editor, and AWS Glue automatically generates the code.\n",
    "\n",
    "<p style=\"text-align: center\">\n",
    "  <img  src=\"Media/AWS-No-Code-ETL-Jobs.png\" width=\"1000\" alt=\"AWS-No-Code-ETL-Jobs\">\n",
    "</p>\n",
    "\n",
    "## Self-service Data Preparation\n",
    "\n",
    "With AWS Glue DataBrew, you can explore and experiment with data directly from your data lake, data warehouses, and databases, including Amazon S3, Amazon Redshift, AWS Lake Formation, Amazon Aurora, and Amazon Relational Database Service (RDS). You can choose from over 250 prebuilt transformations in DataBrew to automate data preparation tasks such as filtering anomalies, standardizing formats, and correcting invalid values.\n",
    "\n",
    "<p style=\"text-align: center\">\n",
    "  <img  src=\"Media/AWS-Glue-Self-Service-Data-Preparation.png\" width=\"1000\" alt=\"Self-service Data Preparation\">\n",
    "</p>"
   ]
  },
  {
   "cell_type": "markdown",
   "id": "e5f51683-200c-46bb-8bbc-4058b1d28dcd",
   "metadata": {},
   "source": [
    "<hr style=\"height:10px;border-width:0;color:gray;background-color:gray\">\n",
    "\n",
    "# Page 2 - Why AWS Glue?<a class=\"anchor\" id=\"DS107L7_page_2\"></a>\n",
    "\n",
    "[Back to Top](#DS107L7_toc)\n",
    "\n",
    "<hr style=\"height:10px;border-width:0;color:gray;background-color:gray\">"
   ]
  },
  {
   "cell_type": "markdown",
   "id": "a2e4a83e-20d7-4a2e-8899-4a7d8642e353",
   "metadata": {},
   "source": [
    "Preparing your data to obtain quality results is the first step in an analytics or ML project. AWS Glue is a serverless data integration service that makes data preparation simpler, faster, and cheaper. You can discover and connect to over 70 diverse data sources, manage your data in a centralized data catalog, and visually create, run, and monitor ETL pipelines to load data into your data lakes.\n",
    "\n",
    "[AWS Glue Overview](https://youtu.be/u14iVEc-C6E)"
   ]
  },
  {
   "cell_type": "code",
   "execution_count": 1,
   "id": "54259b9e-836b-4292-afec-29864ee0b9f3",
   "metadata": {},
   "outputs": [
    {
     "data": {
      "image/jpeg": "[encoded data removed]",
      "text/html": [
       "\n",
       "        <iframe\n",
       "            width=\"720\"\n",
       "            height=\"480\"\n",
       "            src=\"https://www.youtube.com/embed/u14iVEc-C6E\"\n",
       "            frameborder=\"0\"\n",
       "            allowfullscreen\n",
       "            \n",
       "        ></iframe>\n",
       "        "
      ],
      "text/plain": [
       "<IPython.lib.display.YouTubeVideo at 0x16bfec9d0>"
      ]
     },
     "execution_count": 1,
     "metadata": {},
     "output_type": "execute_result"
    }
   ],
   "source": [
    "from IPython.display import YouTubeVideo\n",
    "## Tutorial Video Name: AWS Glue\n",
    "YouTubeVideo('u14iVEc-C6E', width=720, height=480)"
   ]
  },
  {
   "cell_type": "markdown",
   "id": "5499e80e-9904-4597-bdff-a23336d37cd9",
   "metadata": {},
   "source": [
    "<hr style=\"height:10px;border-width:0;color:gray;background-color:gray\">\n",
    "\n",
    "# Page 3 - AWS Glue Use Cases<a class=\"anchor\" id=\"DS107L7_page_3\"></a>\n",
    "\n",
    "[Back to Top](#DS107L7_toc)\n",
    "\n",
    "<hr style=\"height:10px;border-width:0;color:gray;background-color:gray\">"
   ]
  },
  {
   "cell_type": "markdown",
   "id": "6714a0a5-c63e-401d-a453-65e4273ba193",
   "metadata": {},
   "source": [
    "## Simplify ETL pipeline development\n",
    "\n",
    "Remove infrastructure management with automatic provisioning and worker management, and consolidate all your data integration needs into a single service.\n",
    "\n",
    "## Discover data efficiently\n",
    "\n",
    "Quickly identify data across multiple AWS datasets, and then make it instantly available for querying and transforming.\n",
    "\n",
    "## Interactively explore, experiment on, and process data\n",
    "\n",
    "Using AWS Glue interactive sessions, data engineers can interactively explore and prepare data using the integrated development environment (IDE) or notebook of their choice.\n",
    "\n",
    "## Support various processing frameworks and workloads\n",
    "\n",
    "More easily support various data processing frameworks, such as ETL and ELT, and various workloads, including batch, micro-batch, and streaming.\n",
    "\n"
   ]
  },
  {
   "cell_type": "markdown",
   "id": "297b00fd-d8a4-470a-8f6f-a338054d5b97",
   "metadata": {},
   "source": [
    "<hr style=\"height:10px;border-width:0;color:gray;background-color:gray\">\n",
    "\n",
    "# Page 4 - AWS Glue Features<a class=\"anchor\" id=\"DS107L7_page_4\"></a>\n",
    "\n",
    "[Back to Top](#DS107L7_toc)\n",
    "\n",
    "<hr style=\"height:10px;border-width:0;color:gray;background-color:gray\">"
   ]
  },
  {
   "cell_type": "markdown",
   "id": "17fb9d03-e14a-4aea-9c60-43b39e1d3237",
   "metadata": {},
   "source": [
    "\n",
    "AWS Glue features fall into three major categories:\n",
    "\n",
    "- __Discover and organize data__\n",
    "\n",
    "- __Transform, prepare, and clean data for analysis__\n",
    "\n",
    "- __Build and monitor data pipelines__\n",
    "\n",
    "## Discover and organize data\n",
    "\n",
    "__Unify and search across multiple data stores__ – Store, index, and search across multiple data sources and sinks by cataloging all your data in AWS.\n",
    "\n",
    "__Automatically discover data__ – Use AWS Glue crawlers to automatically infer schema information and integrate it into your AWS Glue Data Catalog.\n",
    "\n",
    "__Manage schemas and permissions__ – Validate and control access to your databases and tables.\n",
    "\n",
    "__Connect to a wide variety of data sources__ – Tap into multiple data sources, both on premises and on AWS, using AWS Glue connections to build your data lake.\n",
    "\n",
    "## Transform, prepare, and clean data for analysis\n",
    "\n",
    "__Visually transform data with a drag-and-drop interface__ – Define your ETL process in the drag-and-drop job editor and automatically generate the code to extract, transform, and load your data.\n",
    "\n",
    "__Build complex ETL pipelines with simple job scheduling__ – Invoke AWS Glue jobs on a schedule, on demand, or based on an event.\n",
    "\n",
    "__Clean and transform streaming data in transit__ – Enable continuous data consumption, and clean and transform it in transit. This makes it available for analysis in seconds in your target data store.\n",
    "\n",
    "__Deduplicate and cleanse data with built-in machine learning__ – Clean and prepare your data for analysis without becoming a machine learning expert by using the FindMatches feature. This feature deduplicates and finds records that are imperfect matches for each other.\n",
    "\n",
    "__Built-in job notebooks__ – AWS Glue Studio job notebooks provide serverless notebooks with minimal setup in AWS Glue Studio so you can get started quickly.\n",
    "\n",
    "__Edit, debug, and test ETL code__ – With AWS Glue interactive sessions, you can interactively explore and prepare data. You can explore, experiment on, and process data interactively using the IDE or notebook of your choice.\n",
    "\n",
    "__Define, detect, and remediate sensitive data__ – AWS Glue sensitive data detection lets you define, identify, and process sensitive data in your data pipeline and in your data lake.\n",
    "\n",
    "## Build and monitor data pipelines\n",
    "\n",
    "__Automatically scale based on workload__ – Dynamically scale resources up and down based on workload. This assigns workers to jobs only when needed.\n",
    "\n",
    "__Automate jobs with event-based triggers__ – Start crawlers or AWS Glue jobs with event-based triggers, and design a chain of dependent jobs and crawlers.\n",
    "\n",
    "__Run and monitor jobs__ – Run your AWS Glue jobs, and then monitor them with automated monitoring tools, the Apache Spark UI, AWS Glue job run insights, and AWS CloudTrail.\n",
    "\n",
    "__Define workflows for ETL and integration activities__ – Define workflows for ETL and integration activities for multiple crawlers, jobs, and triggers.\n",
    "\n",
    "Read more about AWS Glue in the [AWS Glue Documentation](https://docs.aws.amazon.com/glue/index.html)"
   ]
  },
  {
   "cell_type": "markdown",
   "id": "d5cf1c83-9641-4dda-8d64-0e2cf29fe99b",
   "metadata": {},
   "source": [
    "<hr style=\"height:10px;border-width:0;color:gray;background-color:gray\">\n",
    "\n",
    "# Page 5 - Data Analytics Lab 3 - Query Data in Amazon S3 with Amazon Athena and AWS Glue\n",
    "<a class=\"anchor\" id=\"DS107L7_page_5\"></a>\n",
    "\n",
    "[Back to Top](#DS107L7_toc)\n",
    "\n",
    "<hr style=\"height:10px;border-width:0;color:gray;background-color:gray\">"
   ]
  },
  {
   "cell_type": "code",
   "execution_count": 1,
   "id": "89c77787-9c49-4866-b6a0-5801a216771b",
   "metadata": {},
   "outputs": [
    {
     "data": {
      "text/html": [
       "\n",
       "        <iframe\n",
       "            width=\"720\"\n",
       "            height=\"480\"\n",
       "            src=\"https://player.vimeo.com/video/762068599\"\n",
       "            frameborder=\"0\"\n",
       "            allowfullscreen\n",
       "            \n",
       "        ></iframe>\n",
       "        "
      ],
      "text/plain": [
       "<IPython.lib.display.VimeoVideo at 0x16ba31bb0>"
      ]
     },
     "execution_count": 1,
     "metadata": {},
     "output_type": "execute_result"
    }
   ],
   "source": [
    "#https://vimeo.com/762068599\n",
    "from IPython.display import VimeoVideo\n",
    "## Tutorial Video Name: Data Analytics Lab 3 - Query Data in Amazon S3 with Amazon Athena and AWS Glue\n",
    "VimeoVideo('762068599', width=720, height=480)"
   ]
  },
  {
   "cell_type": "markdown",
   "id": "faaf451c-3a82-4681-99bc-80b02f78c443",
   "metadata": {},
   "source": [
    "<hr style=\"height:10px;border-width:0;color:gray;background-color:gray\">\n",
    "\n",
    "# Page 6 - <a class=\"anchor\" id=\"DS107L7_page_6\"></a>\n",
    "\n",
    "[Back to Top](#DS107L7_toc)\n",
    "\n",
    "<hr style=\"height:10px;border-width:0;color:gray;background-color:gray\">"
   ]
  },
  {
   "cell_type": "markdown",
   "id": "6fc99a48-a298-469e-b08f-deafaad870f2",
   "metadata": {},
   "source": [
    "<hr style=\"height:10px;border-width:0;color:gray;background-color:gray\">\n",
    "\n",
    "# Page 7 - <a class=\"anchor\" id=\"DS107L7_page_7\"></a>\n",
    "\n",
    "[Back to Top](#DS107L7_toc)\n",
    "\n",
    "<hr style=\"height:10px;border-width:0;color:gray;background-color:gray\">"
   ]
  },
  {
   "cell_type": "markdown",
   "id": "547056a2-e4a3-4e42-9e53-efe6e61ea696",
   "metadata": {},
   "source": [
    "<hr style=\"height:10px;border-width:0;color:gray;background-color:gray\">\n",
    "\n",
    "# Page 8 - <a class=\"anchor\" id=\"DS107L7_page_8\"></a>\n",
    "\n",
    "[Back to Top](#DS107L7_toc)\n",
    "\n",
    "<hr style=\"height:10px;border-width:0;color:gray;background-color:gray\">"
   ]
  },
  {
   "cell_type": "markdown",
   "id": "c7880688-9720-4538-ae08-7c4a70885162",
   "metadata": {},
   "source": [
    "<hr style=\"height:10px;border-width:0;color:gray;background-color:gray\">\n",
    "\n",
    "# Page 9 - <a class=\"anchor\" id=\"DS107L7_page_9\"></a>\n",
    "\n",
    "[Back to Top](#DS107L7_toc)\n",
    "\n",
    "<hr style=\"height:10px;border-width:0;color:gray;background-color:gray\">"
   ]
  },
  {
   "cell_type": "markdown",
   "id": "05da1df9-5efe-42b7-b3e6-7ed9fbfc55d5",
   "metadata": {},
   "source": [
    "<hr style=\"height:10px;border-width:0;color:gray;background-color:gray\">\n",
    "\n",
    "# Page 10 - Data Analytics Lab 4 - Analyze Data with Amazon Redshift\n",
    "<a class=\"anchor\" id=\"DS107L7_page_10\"></a>\n",
    "\n",
    "[Back to Top](#DS107L7_toc)\n",
    "\n",
    "<hr style=\"height:10px;border-width:0;color:gray;background-color:gray\">"
   ]
  },
  {
   "cell_type": "code",
   "execution_count": 2,
   "id": "f29ff1b9-f2c4-4ba1-a73f-e87afd17769b",
   "metadata": {},
   "outputs": [
    {
     "data": {
      "text/html": [
       "\n",
       "        <iframe\n",
       "            width=\"720\"\n",
       "            height=\"480\"\n",
       "            src=\"https://player.vimeo.com/video/762346055\"\n",
       "            frameborder=\"0\"\n",
       "            allowfullscreen\n",
       "            \n",
       "        ></iframe>\n",
       "        "
      ],
      "text/plain": [
       "<IPython.lib.display.VimeoVideo at 0x16ba31c70>"
      ]
     },
     "execution_count": 2,
     "metadata": {},
     "output_type": "execute_result"
    }
   ],
   "source": [
    "#https://vimeo.com/762346055\n",
    "from IPython.display import VimeoVideo\n",
    "## Tutorial Video Name: Data Analytics Lab 4 - Analyze Data with Amazon Redshift \n",
    "VimeoVideo('762346055', width=720, height=480)"
   ]
  },
  {
   "cell_type": "markdown",
   "id": "adac28b2-bd6d-4cd9-a650-7cb17b9731b9",
   "metadata": {},
   "source": [
    "<hr style=\"height:10px;border-width:0;color:gray;background-color:gray\">\n",
    "\n",
    "# Page 11 - Key Terms<a class=\"anchor\" id=\"DS107L7_page_11\"></a>\n",
    "\n",
    "[Back to Top](#DS107L7_toc)\n",
    "\n",
    "<hr style=\"height:10px;border-width:0;color:gray;background-color:gray\">"
   ]
  },
  {
   "cell_type": "markdown",
   "id": "4965298f-1f78-41f4-9b45-f1f23a0445b7",
   "metadata": {},
   "source": [
    "# Key Terms\n",
    "\n",
    "Below is a list and short description of the important keywords learned in this lesson. Please read through and go back and review any concepts you do not fully understand. Great Work!\n",
    "\n",
    "<table class=\"table table-striped\">\n",
    "    <tr>\n",
    "        <th>Keyword</th>\n",
    "        <th>Description</th>\n",
    "    </tr>\n",
    "    <tr>\n",
    "        <td style=\"font-weight: bold;\" nowrap>AWS</td>\n",
    "        <td>Amazon Web Services; a cloud services platform.</td>\n",
    "    </tr>\n",
    "    <tr>\n",
    "        <td style=\"font-weight: bold;\" nowrap>EC2</td>\n",
    "        <td>Elastic Compute Cloud; a virtual computer to which you can connect remotely.</td>\n",
    "    </tr>\n",
    "    <tr>\n",
    "        <td style=\"font-weight: bold;\" nowrap>PuTTY</td>\n",
    "        <td>A program that allows Windows machines to securely connect to a virtual machine.</td>\n",
    "    </tr>\n",
    "    <tr>\n",
    "        <td style=\"font-weight: bold;\" nowrap>.ppk file</td>\n",
    "        <td>A PuTTY private key file.</td>\n",
    "    </tr>\n",
    "    <tr>\n",
    "        <td style=\"font-weight: bold;\" nowrap>.pem file</td>\n",
    "        <td>The security key type for Mac / Linux machines.</td>\n",
    "    </tr>\n",
    "</table>\n",
    "\n",
    "---\n",
    "\n",
    "## Key Command Line Code\n",
    "\n",
    "<table class=\"table table-striped\">\n",
    "    <tr>\n",
    "        <th>Keyword</th>\n",
    "        <th>Description</th>\n",
    "    </tr>\n",
    "    <tr>\n",
    "        <td style=\"font-weight: bold;\" nowrap>wget</td>\n",
    "        <td>Allows you to pick up data or packages from a website.</td>\n",
    "    </tr>\n",
    "    <tr>\n",
    "        <td style=\"font-weight: bold;\" nowrap>mkdir</td>\n",
    "        <td>Makes a directory. </td>\n",
    "    </tr>\n",
    "    <tr>\n",
    "        <td style=\"font-weight: bold;\" nowrap>cd</td>\n",
    "        <td>Changes a directory.</td>\n",
    "    </tr>\n",
    "    <tr>\n",
    "        <td style=\"font-weight: bold;\" nowrap>sudo</td>\n",
    "        <td>Stands for \"super user do.\" It allows you to do things with a different permission level that you might not be able to otherwise.</td>\n",
    "    </tr>\n",
    "    <tr>\n",
    "        <td style=\"font-weight: bold;\" nowrap>vi</td>\n",
    "        <td>Brings up the visual interface, or a text editor accessed through the command prompt. When inside the vi, type i to insert code, and :wq! :x or :x! to exit.</td>\n",
    "    </tr>\n",
    "    <tr>\n",
    "        <td style=\"font-weight: bold;\" nowrap>-version</td>\n",
    "        <td>Tells you the version of a program you are running or have installed.</td>\n",
    "    </tr>\n",
    "    <tr>\n",
    "        <td style=\"font-weight: bold;\" nowrap>install</td>\n",
    "        <td>Installs software.</td>\n",
    "    </tr>\n",
    "    <tr>\n",
    "        <td style=\"font-weight: bold;\" nowrap>update</td>\n",
    "        <td>Updates software.</td>\n",
    "    </tr>\n",
    "    <tr>\n",
    "        <td style=\"font-weight: bold;\" nowrap>pip install</td>\n",
    "        <td>Installs packages for Python.</td>\n",
    "    </tr>\n",
    "    <tr>\n",
    "        <td style=\"font-weight: bold;\" nowrap>tar</td>\n",
    "        <td>Unzips files.</td>\n",
    "    </tr>\n",
    "</table>"
   ]
  }
 ],
 "metadata": {
  "kernelspec": {
   "display_name": "Python 3 (ipykernel)",
   "language": "python",
   "name": "python3"
  },
  "language_info": {
   "codemirror_mode": {
    "name": "ipython",
    "version": 3
   },
   "file_extension": ".py",
   "mimetype": "text/x-python",
   "name": "python",
   "nbconvert_exporter": "python",
   "pygments_lexer": "ipython3",
   "version": "3.9.15"
  }
 },
 "nbformat": 4,
 "nbformat_minor": 5
}
