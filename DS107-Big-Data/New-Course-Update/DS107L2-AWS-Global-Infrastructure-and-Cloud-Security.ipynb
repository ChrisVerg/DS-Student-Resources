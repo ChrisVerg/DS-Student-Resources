{
 "cells": [
  {
   "cell_type": "markdown",
   "id": "50e6ddbb-52d3-4a02-9b69-100a4181e3b0",
   "metadata": {},
   "source": [
    "# DS107 Big Data L2: AWS Global Infrastructure and Cloud Security"
   ]
  },
  {
   "cell_type": "markdown",
   "id": "d1bd4bfc-9b15-4b80-87b4-b8b60eb56371",
   "metadata": {},
   "source": [
    "### Table of Contents <a class=\"anchor\" id=\"DS107L2_toc\"></a>\n",
    "\n",
    "* [Table of Contents](#DS107L2_toc)\n",
    "    * [Page 1 - AWS Global Infrastructure Overview](#DS107L2_page_1)\n",
    "    * [Page 2 - AWS Regions](#DS107L2_page_2)\n",
    "    * [Page 3 - AWS GovCloud (US)](#DS107L2_page_3)\n",
    "    * [Page 4 - AWS Availability Zones](#DS107L2_page_4)\n",
    "    * [Page 5 - AWS Data Centers](#DS107L2_page_5)\n",
    "    * [Page 6 - Amazon CloudFront](#DS107L2_page_6)\n",
    "    * [Page 7 - AWS Services and Service Categories](#DS107L2_page_7)\n",
    "    * [Page 8 - AWS Storage](#DS107L2_page_8)\n",
    "    * [Page 9 - AWS Compute](#DS107L2_page_9)\n",
    "    * [Page 10 - AWS Database Services](#DS107L2_page_10)\n",
    "    * [Page 11 - AWS Networking and Content Delivery](#DS107L2_page_11)\n",
    "    * [Page 12 - AWS Security, Identity, and Compliance](#DS107L2_page_12)\n",
    "    * [Page 13 - AWS Cost Management](#DS107L2_page_13)\n",
    "    * [Page 14 - AWS Management and Governance](#DS107L2_page_14)\n",
    "    * [Page 15 - AWS Cloud Security and Shared Security Model](#DS107L2_page_15)\n",
    "    * [Page 16 - AWS Identity and Access Management (IAM)](#DS107L2_page_16)\n",
    "    * [Page 17 - AWS Organizations](#DS107L2_page_17)\n",
    "    * [Page 18 - AWS Key Management Service (AWS KMS)](#DS107L2_page_18)\n",
    "    * [Page 19 - Amazon Cognito](#DS107L2_page_19)\n",
    "    * [Page 20 - AWS Shield](#DS107L2_page_20)\n",
    "    * [Page 21 - Securing Data on AWS](#DS107L2_page_21)\n",
    "    * [Page 22 - Ensuring Compliance](#DS107L2_page_22)\n",
    "    * [Page 23 - Lesson Summary](#DS107L2_page_23)\n",
    "    * [Page 24 - Key Terms](#DS107L2_page_24)\n",
    "    * [Page 25 - Complete AWS Academy Lab and Exam 2](#DS107L2_page_25)\n",
    "\n",
    "    "
   ]
  },
  {
   "cell_type": "markdown",
   "id": "ef5a8c65-ed48-4354-a257-e01b0fd733d4",
   "metadata": {},
   "source": [
    "<hr style=\"height:10px;border-width:0;color:gray;background-color:gray\">\n",
    "\n",
    "# Page 1 - AWS Global Infrastructure Overview <a class=\"anchor\" id=\"DS107L2_page_1\"></a>\n",
    "\n",
    "[Back to Top](#DS107L2_toc)\n",
    "\n",
    "<hr style=\"height:10px;border-width:0;color:gray;background-color:gray\">"
   ]
  },
  {
   "cell_type": "code",
   "execution_count": 1,
   "id": "13493cd7-b2cc-423b-9422-9c1dc7c2e09f",
   "metadata": {},
   "outputs": [],
   "source": [
    "#from IPython.display import YouTubeVideo\n",
    "# Tutorial Video Name: Need an AWS Global Infrastructure Video\n",
    "#YouTubeVideo('rno8iNfKChM', width=720, height=480)"
   ]
  },
  {
   "cell_type": "markdown",
   "id": "5b6ad526-95fa-43c4-bc43-1fe807708ed3",
   "metadata": {},
   "source": [
    "In this lesson, we'll discuss the AWS Global Infrastructure and the AWS service and service categories. We'll also discuss AWS Security and Compliance programs. By the end of this lesson, you should be able to: \n",
    "\n",
    "- Identify the difference between AWS Regions, Availability Zones, and Edge locations\n",
    "- Identify the various AWS Services and Service Categories\n",
    "- Recognize the shared security model\n",
    "- Identify the responsibility of the customer and AWS\n",
    "- Recognize IAM users, groups, and roles\n",
    "- Describe the different types of security credentials in IAM\n",
    "- Identify the steps in securing a new AWS account\n",
    "- Explore IAM users and groups\n",
    "- Recognize how to secure AWS data\n",
    "- Recognize AWS compliance programs\n",
    "\n",
    "You will also be introduced to the [AWS Management Console](https://aws.amazon.com/console/).\n",
    "\n",
    "You should be completing AWS Academy Cloud Foundations Course Module 3 and utilizing this companion notebook as a study guide.\n",
    "\n",
    "[AWS Global Infrastructure Map](https://aws.amazon.com/about-aws/global-infrastructure/#AWS_Global_Infrastructure_Map)"
   ]
  },
  {
   "cell_type": "markdown",
   "id": "7990ac7a-5a2f-4744-af14-1b7e385ea484",
   "metadata": {},
   "source": [
    "<hr style=\"height:10px;border-width:0;color:gray;background-color:gray\">\n",
    "\n",
    "# Page 2 - AWS Regions<a class=\"anchor\" id=\"DS107L2_page_2\"></a>\n",
    "\n",
    "[Back to Top](#DS107L2_toc)\n",
    "\n",
    "<hr style=\"height:10px;border-width:0;color:gray;background-color:gray\">\n"
   ]
  },
  {
   "cell_type": "markdown",
   "id": "68a52e6d-b637-42ab-8932-3994f672911a",
   "metadata": {},
   "source": [
    "## AWS Regions\n",
    "\n",
    "AWS has the concept of a Region, which is a physical location around the world where we cluster data centers. We call each group of logical data centers an Availability Zone. Each AWS Region consists of multiple, isolated, and physically separate AZs within a geographic area. Unlike other cloud providers, who often define a region as a single data center, the multiple AZ design of every AWS Region offers advantages for customers. Each AZ has independent power, cooling, and physical security and is connected via redundant, ultra-low-latency networks. AWS customers focused on high availability can design their applications to run in multiple AZs to achieve even greater fault-tolerance. AWS infrastructure Regions meet the highest levels of security, compliance, and data protection.\n",
    "\n",
    "AWS provides a more extensive global footprint than any other cloud provider, and to support its global footprint and ensure customers are served across the world, AWS opens new Regions rapidly. AWS maintains multiple geographic Regions, including Regions in North America, South America, Europe, China, Asia Pacific, South Africa, and the Middle East.\n",
    "\n",
    "- An AWS Region is a geographical area.\n",
    "    - Data Replication across Regions is controlled by you.\n",
    "    - Communication between Regions uses AWS backbone network infrastructure.\n",
    "\n",
    "\n",
    "- Each Region provides full redundancy and connectivity to the network.\n",
    "- A Region typically consists of two or more Availability Zones\n",
    "\n",
    "Reference: [AWS Regions and Zones](https://docs.aws.amazon.com/AWSEC2/latest/UserGuide/using-regions-availability-zones.html)\n",
    "\n",
    "<p style=\"text-align: center\">\n",
    "  <img  src=\"Media/AWS-Region-Features.png\" width=\"600\" alt=\"AWS Region Features\">\n",
    "</p>\n",
    "\n",
    "## Features\n",
    "\n",
    "- Elasticity and Scalability\n",
    "    - Elastic infrastructure; dynamic adaption of capacity\n",
    "    - Scalable infrastructure; adapts to accommodate growth\n",
    "- Fault-tolerant\n",
    "    - Continues operating properly in the presence of a failure\n",
    "    - Built-in redundancy of components\n",
    "- High Availability\n",
    "    - High level of operational performance\n",
    "    - Minimized downtime\n",
    "    - No human intervention\n"
   ]
  },
  {
   "cell_type": "markdown",
   "id": "ebc98608-bc78-48ce-871d-5770b9b4131f",
   "metadata": {},
   "source": [
    "<hr style=\"height:10px;border-width:0;color:gray;background-color:gray\">\n",
    "\n",
    "# Page 3 - AWS GovCloud (US)<a class=\"anchor\" id=\"DS107L2_page_3\"></a>\n",
    "\n",
    "[Back to Top](#DS107L2_toc)\n",
    "\n",
    "<hr style=\"height:10px;border-width:0;color:gray;background-color:gray\">"
   ]
  },
  {
   "cell_type": "markdown",
   "id": "612429df-e4ef-4d85-8460-5bc8914079c3",
   "metadata": {},
   "source": [
    "\n",
    "AWS GovCloud (US) gives government customers and their partners the flexibility to architect secure cloud solutions that comply with the FedRAMP High baseline; the DOJ’s Criminal Justice Information Systems (CJIS) Security Policy; U.S. International Traffic in Arms Regulations (ITAR); Export Administration Regulations (EAR); Department of Defense (DoD) Cloud Computing Security Requirements Guide (SRG) for Impact Levels 2, 4 and 5; FIPS 140-2; IRS-1075; and other compliance regimes.\n",
    "\n",
    "AWS GovCloud (US-East) and (US-West) Regions are operated by employees who are U.S. citizens on U.S. soil. AWS GovCloud (US) is only accessible to U.S. entities and root account holders who pass a screening process. Customers must confirm that they will only use a U.S. person (green card holder or citizen as defined by the U.S. Department of State) to manage and access root account keys to these regions.\n",
    "\n",
    "From Controlled Unclassified Information (CUI), Personally Identifiable Information (PII), sensitive patient medical records, and financial data to law enforcement data, export controlled data and other forms of CUI, AWS GovCloud (US) Regions can help customers address compliance at every stage of their cloud journey.\n",
    "\n",
    "Reference: [AWS GovCloud (US)](https://aws.amazon.com/govcloud-us/?whats-new-ess.sort-by=item.additionalFields.postDateTime&whats-new-ess.sort-order=desc)\n",
    "\n",
    "\n",
    "<p style=\"text-align: center\">\n",
    "  <img  src=\"Media/AWS-Select-Region.png\" width=\"600\" alt=\"Cloud Service Models\">\n",
    "</p>\n",
    "\n",
    "\n",
    "[Map of AWS Global Infrastructure](https://aws.amazon.com/about-aws/global-infrastructure/regions_az/)\n",
    "\n",
    "Use Cloudping to determine speed of internet to various AWS Regions [Cloudping](https://www.cloudping.info/)"
   ]
  },
  {
   "cell_type": "markdown",
   "id": "832358fd-55fa-420a-8aa2-46fbf2097986",
   "metadata": {},
   "source": [
    "<hr style=\"height:10px;border-width:0;color:gray;background-color:gray\">\n",
    "\n",
    "# Page 4 - AWS Availability Zones <a class=\"anchor\" id=\"DS107L2_page_3\"></a>\n",
    "\n",
    "[Back to Top](#DS107L2_toc)\n",
    "\n",
    "<hr style=\"height:10px;border-width:0;color:gray;background-color:gray\">\n"
   ]
  },
  {
   "cell_type": "markdown",
   "id": "f564e3e7-3a7f-4936-b3a3-2e0a9ab78512",
   "metadata": {},
   "source": [
    "An Availability Zone (AZ) is one or more discrete data centers with redundant power, networking, and connectivity in an AWS Region. AZs give customers the ability to operate production applications and databases that are more highly available, fault tolerant, and scalable than would be possible from a single data center. All AZs in an AWS Region are interconnected with high-bandwidth, low-latency networking, over fully redundant, dedicated metro fiber providing high-throughput, low-latency networking between AZs. All traffic between AZs is encrypted. The network performance is sufficient to accomplish synchronous replication between AZs. AZs make partitioning applications for high availability easy. If an application is partitioned across AZs, companies are better isolated and protected from issues such as power outages, lightning strikes, tornadoes, earthquakes, and more. AZs are physically separated by a meaningful distance, many kilometers, from any other AZ, although all are within 100 km (60 miles) of each other.\n",
    "\n",
    "- Each Region has multiple [Availability Zones](https://aws.amazon.com/about-aws/global-infrastructure/regions_az/)\n",
    "- Each AZ is a fully isolated partition of the AWS Infrastructure.\n",
    "    - There are over 80 AZs\n",
    "    - AZs consist of discrete data centers\n",
    "    - They are designed for fault isolation\n",
    "    - They are interconnected with other AZs by using high-speed private networking\n",
    "    - You choose AZs\n",
    "    - AWS recommends replicating data and resources across AZs for resiliency\n",
    "\n",
    "\n",
    "<p style=\"text-align: center\">\n",
    "  <img  src=\"Media/AWS-AZs.png\" width=\"400\" alt=\"AZs\">\n",
    "</p>\n"
   ]
  },
  {
   "cell_type": "markdown",
   "id": "bb1aade2-59af-4cbc-b5ed-da31e39f266d",
   "metadata": {},
   "source": [
    "<hr style=\"height:10px;border-width:0;color:gray;background-color:gray\">\n",
    "\n",
    "# Page 5 - AWS Data Centers<a class=\"anchor\" id=\"DS107L2_page_4\"></a>\n",
    "\n",
    "[Back to Top](#DS107L2_toc)\n",
    "\n",
    "<hr style=\"height:10px;border-width:0;color:gray;background-color:gray\">\n"
   ]
  },
  {
   "cell_type": "markdown",
   "id": "eba2ed6e-98dd-43f7-8761-6ecc9a13af08",
   "metadata": {},
   "source": [
    "<p style=\"text-align: center\">\n",
    "  <img  src=\"Media/AWS-DC-system.png\" width=\"1000\" alt=\"AWS Data Center\">\n",
    "</p>\n",
    "\n",
    "AWS pioneered cloud computing in 2006, creating cloud infrastructure that allows you to securely build and innovate faster. We are continuously innovating the design and systems of our data centers to protect them from man-made and natural risks. AWS team implement controls, build automated systems, and undergo third-party audits to confirm security and compliance. As a result, the most highly-regulated organizations in the world trust AWS every day. Take a virtual tour of one of their data centers to learn about our security approach to protect the data of millions of active monthly customers.\n",
    "\n",
    "- AWS data centers are designed for security\n",
    "- Data centers are where data resides and data processing occurs\n",
    "- Each data center has redundant power, networking and connectivity and is housed in a separate facility\n",
    "- A data center typically has 50-80 thousand physical servers \n",
    "\n",
    "[AWS Data Centers](https://aws.amazon.com/compliance/data-center/data-centers/)\n",
    "\n",
    "<p style=\"text-align: center\">\n",
    "  <img  src=\"Media/AWS-DCs.png\" width=\"400\" alt=\"AWS Data Center\">\n",
    "</p>"
   ]
  },
  {
   "cell_type": "markdown",
   "id": "ead4ad3c-2fe6-457e-8924-1410e951bebd",
   "metadata": {},
   "source": [
    "<hr style=\"height:10px;border-width:0;color:gray;background-color:gray\">\n",
    "\n",
    "# Page 6 - Amazon CloudFront<a class=\"anchor\" id=\"DS107L2_page_6\"></a>\n",
    "\n",
    "[Back to Top](#DS107L2_toc)\n",
    "\n",
    "<hr style=\"height:10px;border-width:0;color:gray;background-color:gray\">\n"
   ]
  },
  {
   "cell_type": "markdown",
   "id": "bbbc06a2-e702-47a1-942f-cbcbe31221a7",
   "metadata": {},
   "source": [
    "## Amazon CloudFront\n",
    "\n",
    "Securely deliver content with low latency and high transfer speeds\n",
    "\n",
    "### How it works\n",
    "Amazon CloudFront is a content delivery network (CDN) service built for high performance, security, and developer convenience.\n",
    "\n",
    "<p style=\"text-align: center\">\n",
    "  <img  src=\"Media/Amazon-CloudFront.png\" width=\"1000\" alt=\"AWS Data Center\">\n",
    "</p>\n",
    "\n",
    "### Network Connectivity and Backbone\n",
    "\n",
    "Amazon CloudFront peers with thousands of Tier 1/2/3 telecom carriers globally, is well connected with all major access networks for optimal performance, and has hundreds of terabits of deployed capacity. CloudFront Edge locations are connected to the AWS Regions through the AWS network backbone - fully redundant, multiple 100GbE parallel fiber that circles the globe and links with tens of thousands of networks for improved origin fetches and dynamic content acceleration.\n",
    "\n",
    "To deliver content to end users with lower latency, Amazon CloudFront uses a global network of 310+ Points of Presence (300+ Edge locations and 13 regional mid-tier caches) in 90+ cities across 47 countries. Amazon CloudFront Edge locations are located in:\n",
    "\n",
    "<p style=\"text-align: center\">\n",
    "  <img  src=\"Media/AWS-PoPs.png\" width=\"1000\" alt=\"AWS Data Center\">\n",
    "</p>\n",
    "\n",
    "#### North America\n",
    "Edge locations: Washington, DC (11); Chicago, IL (11); New York, NY (10); Atlanta, GA (8); Los Angeles, CA (7); Miami, FL (7); Dallas-Fort Worth, TX (6); Houston, TX (4); San Francisco, CA (4); Boston, MA (3); Denver, CO (3); Portland, OR (3); Seattle, WA (3); Toronto, Canada (3); Minneapolis, MN (2); Phoenix, AZ (2); Querétaro, Mexico (2); Montréal, Canada (2); Philadelphia, PA (1); Salt Lake City, UT (1); Vancouver, Canada (1)\n",
    "\n",
    "Regional Edge caches: California; Ohio; Oregon; Virginia\n",
    "\n",
    "#### Europe\n",
    "Edge locations: Frankfurt am Main, Germany (15); London, UK (14); Paris, France (9); Milan, Italy (7); Rome, Italy (6); Berlin, Germany (5); Madrid, Spain (4); Marseille, France (4); Amsterdam, The Netherlands (3); Düsseldorf, Germany (3); Hamburg, Germany (3); Manchester, UK (3); Munich, Germany (3); Vienna, Austria (3); Stockholm, Sweden (2); Copenhagen, Denmark (2); Dublin, Ireland (2); Helsinki, Finland (2); Athens, Greece (1); Brussels, Belgium (1); Budapest, Hungary (1); Lisbon, Portugal (1); Oslo, Norway (1); Bucharest, Romania (1); Palermo, Italy (1); Prague, Czech (1); Sofia, Bulgaria (1); Warsaw, Poland (1); Zagreb, Croatia (1); Zurich, Switzerland (1)\n",
    "\n",
    "Regional Edge caches: Dublin, Ireland; Frankfurt, Germany; London, England\n",
    "\n",
    "#### Asia\n",
    "Edge locations: Tokyo, Japan (22); New Delhi, India (7); Seoul, Korea (6); Chennai, India (6); Hanoi, Vietnam (announced); Singapore (6); Osaka, Japan (5); Mumbai, India (4); Hong Kong, CHINA (4); Bangalore, India (3); Hyderabad, India (3); Taipei, Taiwan (3); Bangkok, Thailand (2); Kolkata, India (2); Jakarta, Indonesia (2); Kuala Lumpur, Malaysia (2); Manila, Philippines (1)\n",
    "\n",
    "Regional Edge caches: Mumbai, India; Singapore; Seoul, South Korea; Tokyo, Japan\n",
    "\n",
    "#### Australia & New Zealand\n",
    "Edge locations: Sydney, Australia (6); Auckland, New Zealand (2); Melbourne, Australia (2); Perth, Australia (1)\n",
    "\n",
    "Regional Edge caches: Sydney\n",
    "\n",
    "#### South America\n",
    "Edge locations: Lima, Peru (announced); São Paulo, Brazil (5); Rio De Janeiro, Brazil (2); Bogota, Colombia (1); Buenos Aires, Argentina (1); Santiago, Chile (1)\n",
    "\n",
    "Regional Edge caches: São Paulo, Brazil\n",
    "\n",
    "#### Middle East\n",
    "Edge location: Tel Aviv, Israel (2); Manama, Bahrain (1); Dubai, UAE (1); Fujairah, UAE (1)\n",
    "\n",
    "#### Africa\n",
    "Edge locations: Cape Town, South Africa (1); Johannesburg, South Africa (1); Nairobi, Kenya (1)\n",
    "\n",
    "#### China\n",
    "Edge locations: Shanghai China (1); Shenzhen China (1); Zhongwei, China (1); Beijing, China (1)\n"
   ]
  },
  {
   "cell_type": "markdown",
   "id": "7f0cda80-2191-4fc3-b9ce-9a5d46ef9a81",
   "metadata": {},
   "source": [
    "## Knowledge Check"
   ]
  },
  {
   "cell_type": "code",
   "execution_count": 2,
   "id": "4c11aa06-9238-4016-b74c-362701a13234",
   "metadata": {},
   "outputs": [],
   "source": [
    "from DS_Students import *\n",
    "from ipynb.fs.full.DS107Questions import *"
   ]
  },
  {
   "cell_type": "code",
   "execution_count": 3,
   "id": "deecafdc-128a-4e5f-b8af-b9e65ba02564",
   "metadata": {},
   "outputs": [
    {
     "data": {
      "application/vnd.jupyter.widget-view+json": {
       "model_id": "2d118d58ad1b4b18b2448c71bad63918",
       "version_major": 2,
       "version_minor": 0
      },
      "text/plain": [
       "VBox(children=(Output(), RadioButtons(layout=Layout(width='max-content'), options=(('100 miles', 0), ('60 kilo…"
      ]
     },
     "metadata": {},
     "output_type": "display_data"
    },
    {
     "data": {
      "application/vnd.jupyter.widget-view+json": {
       "model_id": "9c3ee0fafd604226841cff1e8559ffd7",
       "version_major": 2,
       "version_minor": 0
      },
      "text/plain": [
       "VBox(children=(Output(), RadioButtons(layout=Layout(width='max-content'), options=(('True', 0), ('False', 1)),…"
      ]
     },
     "metadata": {},
     "output_type": "display_data"
    },
    {
     "data": {
      "application/vnd.jupyter.widget-view+json": {
       "model_id": "c1fcf26f7c0445458cdbd9b1995e063d",
       "version_major": 2,
       "version_minor": 0
      },
      "text/plain": [
       "VBox(children=(Output(), RadioButtons(layout=Layout(width='max-content'), options=(('True', 0), ('False', 1)),…"
      ]
     },
     "metadata": {},
     "output_type": "display_data"
    },
    {
     "data": {
      "application/vnd.jupyter.widget-view+json": {
       "model_id": "67334273d8044088be27280d66363e6d",
       "version_major": 2,
       "version_minor": 0
      },
      "text/plain": [
       "VBox(children=(Output(), RadioButtons(layout=Layout(width='max-content'), options=(('Route 53', 0), ('EC2', 1)…"
      ]
     },
     "metadata": {},
     "output_type": "display_data"
    },
    {
     "data": {
      "application/vnd.jupyter.widget-view+json": {
       "model_id": "1434a67f1c89444ea5c503ad3f765f2f",
       "version_major": 2,
       "version_minor": 0
      },
      "text/plain": [
       "VBox(children=(Output(), RadioButtons(layout=Layout(width='max-content'), options=(('Edge locations are used b…"
      ]
     },
     "metadata": {},
     "output_type": "display_data"
    },
    {
     "data": {
      "application/vnd.jupyter.widget-view+json": {
       "model_id": "a65b2dfe576141818639ac5cd0dcd02d",
       "version_major": 2,
       "version_minor": 0
      },
      "text/plain": [
       "VBox(children=(Output(), RadioButtons(layout=Layout(width='max-content'), options=(('Create point-in-time back…"
      ]
     },
     "metadata": {},
     "output_type": "display_data"
    },
    {
     "data": {
      "application/vnd.jupyter.widget-view+json": {
       "model_id": "507c1b19a0654016b8c3d8cfb61be38e",
       "version_major": 2,
       "version_minor": 0
      },
      "text/plain": [
       "VBox(children=(Output(), RadioButtons(layout=Layout(width='max-content'), options=(('Infrastructure as a Servi…"
      ]
     },
     "metadata": {},
     "output_type": "display_data"
    }
   ],
   "source": [
    "try:\n",
    "    display(L2P6Q1, L2P6Q2, L2P6Q3, L2P6Q4, L2P6Q5, L2P6Q6, L2P6Q7)\n",
    "except:\n",
    "    pass"
   ]
  },
  {
   "cell_type": "markdown",
   "id": "42cb7d8a-aced-42e5-ac24-32acf8c95473",
   "metadata": {},
   "source": [
    "<hr style=\"height:10px;border-width:0;color:gray;background-color:gray\">\n",
    "\n",
    "# Page 7 - AWS Services and Service Categories<a class=\"anchor\" id=\"DS107L2_page_7\"></a>\n",
    "\n",
    "[Back to Top](#DS107L2_toc)\n",
    "\n",
    "<hr style=\"height:10px;border-width:0;color:gray;background-color:gray\">\n"
   ]
  },
  {
   "cell_type": "markdown",
   "id": "cf0debaf-5fae-4035-8e7d-ae62e62456cb",
   "metadata": {},
   "source": [
    "<p style=\"text-align: center\">\n",
    "  <img  src=\"Media/AWS-Foundational-Services.png\" width=\"1000\" alt=\"AWS Data Center\">\n",
    "</p>\n",
    "\n",
    "As you can see above, understanding infrastructure is a bedrock before learning which foundational services are built upon it.\n",
    "\n",
    "Below you can see outlined the most utilized foundational services available.\n",
    "\n",
    "<p style=\"text-align: center\">\n",
    "  <img  src=\"Media/AWS-Categories-of-Services.png\" width=\"1000\" alt=\"AWS Data Center\">\n",
    "</p>\n",
    "\n",
    "We can even see the larger AWS Stack as we we've broken them out by operational area!\n",
    "<p style=\"text-align: center\">\n",
    "  <img  src=\"Media/AWS-Stack.png\" width=\"1000\" alt=\"AWS Data Center\">\n",
    "</p>"
   ]
  },
  {
   "cell_type": "markdown",
   "id": "d7b3f800-0a14-4d13-8c32-390965c537ca",
   "metadata": {},
   "source": [
    "<hr style=\"height:10px;border-width:0;color:gray;background-color:gray\">\n",
    "\n",
    "# Page 8 - AWS Storage<a class=\"anchor\" id=\"DS107L2_page_8\"></a>\n",
    "\n",
    "[Back to Top](#DS107L2_toc)\n",
    "\n",
    "<hr style=\"height:10px;border-width:0;color:gray;background-color:gray\">\n"
   ]
  },
  {
   "cell_type": "markdown",
   "id": "98bc004f-0ac5-4a38-a9f5-e71c302addd1",
   "metadata": {},
   "source": [
    "<p style=\"text-align: center\">\n",
    "  <img  src=\"Media/AWS-Storage.png\" width=\"600\" alt=\"AWS Data Center\">\n",
    "</p>\n",
    "\n",
    "## Storage Category\n",
    "\n",
    "### Top Utilized Storage Services\n",
    "- [Amazon Simple Storage Service (S3)](https://aws.amazon.com/s3/?hp=tile&so-exp=below) Scalable storage in the cloud \n",
    "- [Amazon Elastic Block Store (EBS)](https://aws.amazon.com/ebs/?hp=tile&so-exp=below) EC2 block storage volumes \n",
    "- [Amazon Elastic File System (EFS)](https://aws.amazon.com/efs/?hp=tile&so-exp=below) Fully managed file system for EC2 \n",
    "- [Amazon S3 Glacier](https://aws.amazon.com/glacier1/?hp=tile&so-exp=below) Low-cost archive storage in the cloud\n",
    "\n",
    "#### Other Widely Utilized Storage Services\n",
    "- [Amazon FSx for Lustre](https://aws.amazon.com/fsx/lustre/?hp=tile&so-exp=below) High-performance file system integrated with S3\n",
    "- [Amazon FSx for Windows File Server](https://aws.amazon.com/fsx/windows/?hp=tile&so-exp=below) Fully managed Windows native file system\n",
    "- [AWS Backup](https://aws.amazon.com/backup/?hp=tile&so-exp=below) Centralized backup across AWS services\n",
    "- [AWS Snow Family](https://aws.amazon.com/snow/?hp=tile&so-exp=below) Physical edge computing and storage devices for rugged or disconnected environments\n",
    "- [AWS Storage Gateway](https://aws.amazon.com/storagegateway/?hp=tile&so-exp=below) Hybrid storage integration\n",
    "- [CloudEndure](https://aws.amazon.com/cloudendure-disaster-recovery/?hp=tile&so-exp=below) Disaster Recovery Highly automated disaster recovery"
   ]
  },
  {
   "cell_type": "markdown",
   "id": "36943bcd-7e16-4af1-97d3-c09e81ae5e99",
   "metadata": {},
   "source": [
    "<hr style=\"height:10px;border-width:0;color:gray;background-color:gray\">\n",
    "\n",
    "# Page 9 - AWS Compute<a class=\"anchor\" id=\"DS107L2_page_9\"></a>\n",
    "\n",
    "[Back to Top](#DS107L2_toc)\n",
    "\n",
    "<hr style=\"height:10px;border-width:0;color:gray;background-color:gray\">\n"
   ]
  },
  {
   "cell_type": "markdown",
   "id": "fdf2cdde-9447-49b5-8936-17d80f46b45e",
   "metadata": {},
   "source": [
    "<p style=\"text-align: center\">\n",
    "  <img  src=\"Media/AWS-Compute.png\" width=\"600\" alt=\"AWS Data Center\">\n",
    "</p>\n",
    "\n",
    "### Top Utilized Compute Services\n",
    "- [Amazon EC2](https://aws.amazon.com/ec2/?hp=tile&so-exp=below) Virtual servers in the cloud\n",
    "- [Amazon EC2 Auto Scaling](https://aws.amazon.com/ec2/autoscaling/?hp=tile&so-exp=below) Scale compute capacity to meet demand\n",
    "- [Amazon Elastic Container Service (ECS)](https://aws.amazon.com/ecs/?hp=tile&so-exp=below) Run highly secure, reliable, and scalable containers\n",
    "- [Amazon Elastic Container Registry (ECR)](https://aws.amazon.com/ecr/) Easily store, share, and deploy your container software anywhere\n",
    "- [AWS Elastic Beanstalk](https://aws.amazon.com/elasticbeanstalk/?hp=tile&so-exp=below) Run and manage web apps\n",
    "- [AWS Lambda](https://aws.amazon.com/lambda/?hp=tile&so-exp=below) Run code without thinking about servers\n",
    "- [Amazon Elastic Kubernetes Service (EKS)](https://aws.amazon.com/eks/) The most trusted way to start, run, and scale Kubernetes\n",
    "- [AWS Fargate](https://aws.amazon.com/fargate/) Serverless compute for containers\n",
    "\n",
    "#### Other Widely Utilized Compute Services\n",
    "- [Amazon Lightsail](https://aws.amazon.com/lightsail/?hp=tile&so-exp=below) Launch and manage virtual private servers\n",
    "- [AWS Batch](https://aws.amazon.com/batch/?hp=tile&so-exp=below) Run batch jobs at any scale\n",
    "- [AWS Outposts](https://aws.amazon.com/outposts/?hp=tile&so-exp=below) Run AWS infrastructure on-premises\n",
    "- [AWS Serverless](https://aws.amazon.com/serverlessrepo/?hp=tile&so-exp=below) Application Repository Discover, deploy, and publish serverless applications\n",
    "- [AWS Snow Family](https://aws.amazon.com/snow/?hp=tile&so-exp=below) Physical devices to aggregate and process data in edge locations, then transfer to AWS\n",
    "- [AWS Wavelength](https://aws.amazon.com/wavelength/?hp=tile&so-exp=below) Deliver ultra-low latency applications for 5G devices\n",
    "- [VMware Cloud on AWS](https://aws.amazon.com/vmware/?hp=tile&so-exp=below) Build a hybrid cloud without custom hardware"
   ]
  },
  {
   "cell_type": "markdown",
   "id": "2a0d02d5-04fa-4220-9637-d02c3b32dce5",
   "metadata": {},
   "source": [
    "<hr style=\"height:10px;border-width:0;color:gray;background-color:gray\">\n",
    "\n",
    "# Page 10 - AWS Database Services<a class=\"anchor\" id=\"DS107L2_page_10\"></a>\n",
    "\n",
    "[Back to Top](#DS107L2_toc)\n",
    "\n",
    "<hr style=\"height:10px;border-width:0;color:gray;background-color:gray\">"
   ]
  },
  {
   "cell_type": "markdown",
   "id": "f95b6bb3-9e55-4543-a613-81710a12c2ae",
   "metadata": {},
   "source": [
    "<p style=\"text-align: center\">\n",
    "  <img  src=\"Media/AWS-Databases.png\" width=\"600\" alt=\"AWS Data Center\">\n",
    "</p>\n",
    "\n",
    "### Top Utilized Database Services\n",
    "- [Amazon RDS](https://aws.amazon.com/rds/?hp=tile&so-exp=below) Managed relational database service for MySQL, PostgreSQL, Oracle, SQL Server, and MariaDB\n",
    "- [Amazon Aurora](https://aws.amazon.com/rds/aurora/?hp=tile&so-exp=below) High performance managed relational database\n",
    "- [Amazon Redshift](https://aws.amazon.com/redshift/?hp=tile&so-exp=below) Fast, simple, cost-effective data warehousing\n",
    "- [Amazon DynamoDB](https://aws.amazon.com/dynamodb/?hp=tile&so-exp=below) Managed NoSQL database\n",
    "\n",
    "#### Other Widely Utilized Database Services\n",
    "- [Amazon DocumentDB (with MongoDB compatibility)](https://aws.amazon.com/documentdb/?hp=tile&so-exp=below) Fully managed document database\n",
    "- [Amazon ElastiCache](https://aws.amazon.com/elasticache/?hp=tile&so-exp=below) In-memory caching system\n",
    "- [Amazon Keyspaces (for Apache Cassandra)](https://aws.amazon.com/mcs/?hp=tile&so-exp=below) Managed Cassandra-compatible database\n",
    "- [Amazon Neptune](https://aws.amazon.com/neptune/?hp=tile&so-exp=below) Fully managed graph database service\n",
    "- [Amazon Quantum Ledger Database (QLDB)](https://aws.amazon.com/qldb/?hp=tile&so-exp=below) Fully managed ledger database\n",
    "- [Amazon RDS on VMware](https://aws.amazon.com/rds/vmware/?hp=tile&so-exp=below) Automate on-premises database management\n",
    "- [AWS Database Migration Service](https://aws.amazon.com/dms/?hp=tile&so-exp=below) Migrate databases with minimal downtime"
   ]
  },
  {
   "cell_type": "markdown",
   "id": "0ca49588-86d8-489e-88f9-90e9f96a3407",
   "metadata": {},
   "source": [
    "<hr style=\"height:10px;border-width:0;color:gray;background-color:gray\">\n",
    "\n",
    "# Page 11 - AWS Networking and Content Delivery<a class=\"anchor\" id=\"DS107L2_page_11\"></a>\n",
    "\n",
    "[Back to Top](#DS107L2_toc)\n",
    "\n",
    "<hr style=\"height:10px;border-width:0;color:gray;background-color:gray\">"
   ]
  },
  {
   "cell_type": "markdown",
   "id": "6642a563-f999-41c8-bdd6-95cb5efdf8a4",
   "metadata": {},
   "source": [
    "<p style=\"text-align: center\">\n",
    "  <img  src=\"Media/AWS-Networking-Content-Delivery.png\" width=\"600\" alt=\"AWS Data Center\">\n",
    "</p>\n",
    "\n",
    "### Top Utilized Networking and Content Delivery Services\n",
    "- [Amazon VPC](https://aws.amazon.com/vpc/?hp=tile&so-exp=below) Isolated cloud resources\n",
    "- [Elastic Load Balancing (ELB)](https://aws.amazon.com/elasticloadbalancing/?hp=tile&so-exp=below) Distribute incoming traffic across multiple targets database\n",
    "- [Amazon CloudFront](https://aws.amazon.com/cloudfront/?hp=tile&so-exp=below) Global content delivery network\n",
    "- [AWS Transit Gateway](https://aws.amazon.com/transit-gateway/?hp=tile&so-exp=below) Easily scale VPC and account connections\n",
    "- [Amazon Route 53](https://aws.amazon.com/route53/?hp=tile&so-exp=below) Scalable domain name system (DNS)\n",
    "- [AWS Direct Connect](https://aws.amazon.com/directconnect/?hp=tile&so-exp=below) Dedicated network connection to AWS\n",
    "- [AWS VPN](https://aws.amazon.com/vpn/) Extend your on-premises networks to the cloud and securely access them from anywhere\n",
    "\n",
    "#### Other Widely Utilized Networking and Content Delivery Services\n",
    "- [Amazon API Gateway](https://aws.amazon.com/api-gateway/) Build, deploy, and manage APIs at any scale\n",
    "- [AWS PrivateLink](https://aws.amazon.com/privatelink/?hp=tile&so-exp=below) Securely access services hosted on AWS\n",
    "- [AWS App Mesh](https://aws.amazon.com/app-mesh/?hp=tile&so-exp=below) Monitor and control microservices\n",
    "- [AWS Cloud Map](https://aws.amazon.com/cloud-map/?hp=tile&so-exp=below) Service discovery for cloud resources\n",
    "- [AWS Global Accelerator](https://aws.amazon.com/global-accelerator/?hp=tile&so-exp=below) Improve application availability and performance"
   ]
  },
  {
   "cell_type": "markdown",
   "id": "1082e9c2-6ac8-479c-b210-1f1cc175ebd9",
   "metadata": {},
   "source": [
    "<hr style=\"height:10px;border-width:0;color:gray;background-color:gray\">\n",
    "\n",
    "# Page 12 - AWS Security, Identity, and Compliance<a class=\"anchor\" id=\"DS107L2_page_12\"></a>\n",
    "\n",
    "[Back to Top](#DS107L2_toc)\n",
    "\n",
    "<hr style=\"height:10px;border-width:0;color:gray;background-color:gray\">"
   ]
  },
  {
   "cell_type": "markdown",
   "id": "b4ef09bc-92b3-4a9e-8657-336f7290f377",
   "metadata": {},
   "source": [
    "<p style=\"text-align: center\">\n",
    "  <img  src=\"Media/AWS-IAM.png\" width=\"600\" alt=\"AWS Data Center\">\n",
    "</p>\n",
    "\n",
    "### Top Utilized Security, Identity, and Compliance Services\n",
    "- [AWS Identity and Access Management (IAM)](https://aws.amazon.com/iam/?hp=tile&so-exp=below) Securely manage access to services and resources\n",
    "- [AWS Organizations](https://aws.amazon.com/organizations/) Centrally manage and govern your environment as you scale your AWS resources\n",
    "- [Amazon Cognito](https://aws.amazon.com/cognito/?hp=tile&so-exp=below) Identity management for your apps\n",
    "- [AWS Artifact](https://aws.amazon.com/artifact/) On-demand access to AWS' compliance reports\n",
    "- [AWS Key Management Service](https://aws.amazon.com/kms/?hp=tile&so-exp=below) Managed creation and control of encryption keys\n",
    "- [AWS Shield](https://aws.amazon.com/shield/?hp=tile&so-exp=below) DDoS protection\n",
    "\n",
    "\n",
    "#### Other Widely Utilized Security, Identity, and Compliance Services\n",
    "- [Amazon Detective](https://aws.amazon.com/detective/?hp=tile&so-exp=below) Investigate potential security issues\n",
    "- [Amazon GuardDuty](https://aws.amazon.com/guardduty/?hp=tile&so-exp=below) Managed threat detection service\n",
    "- [Amazon Inspector](https://aws.amazon.com/inspector/?hp=tile&so-exp=below) Analyze application security\n",
    "- [Amazon Macie](https://aws.amazon.com/macie/?hp=tile&so-exp=below) Discover and protect your sensitive data at scale\n",
    "- [AWS Certificate Manager](https://aws.amazon.com/certificate-manager/?hp=tile&so-exp=below) Provision, manage, and deploy SSL/TLS certificates\n",
    "- [AWS CloudHSM](https://aws.amazon.com/cloudhsm/?hp=tile&so-exp=below) Hardware-based key storage for regulatory compliance\n",
    "- [AWS Directory Service](https://aws.amazon.com/directoryservice/?hp=tile&so-exp=below) Host and manage active directory\n",
    "- [AWS Firewall Manager](https://aws.amazon.com/firewall-manager/?hp=tile&so-exp=below) Central management of firewall rules\n",
    "- [AWS Resource Access Manager](https://aws.amazon.com/ram/?hp=tile&so-exp=below) Simple, secure service to share AWS resources\n",
    "- [AWS Secrets Manager](https://aws.amazon.com/secrets-manager/?hp=tile&so-exp=below) Rotate, manage, and retrieve secrets\n",
    "- [AWS Security Hub](https://aws.amazon.com/security-hub/?hp=tile&so-exp=below) Unified security and compliance center\n",
    "- [AWS Single Sign-On](https://aws.amazon.com/single-sign-on/?hp=tile&so-exp=below) Cloud single sign-on (SSO) service\n",
    "- [AWS WAF](https://aws.amazon.com/waf/?hp=tile&so-exp=below) Filter malicious web traffic\n"
   ]
  },
  {
   "cell_type": "markdown",
   "id": "7dbcc5e9-167a-41cc-a15a-b5ac41b832e0",
   "metadata": {},
   "source": [
    "<hr style=\"height:10px;border-width:0;color:gray;background-color:gray\">\n",
    "\n",
    "# Page 13 - AWS Cost Management<a class=\"anchor\" id=\"DS107L2_page_13\"></a>\n",
    "\n",
    "[Back to Top](#DS107L2_toc)\n",
    "\n",
    "<hr style=\"height:10px;border-width:0;color:gray;background-color:gray\">"
   ]
  },
  {
   "cell_type": "markdown",
   "id": "d4824d45-8f70-4763-8ae0-ea0c340cc7e4",
   "metadata": {},
   "source": [
    "<p style=\"text-align: center\">\n",
    "  <img  src=\"Media/AWS-Cost.png\" width=\"600\" alt=\"AWS Data Center\">\n",
    "</p>\n",
    "\n",
    "### Top Utilized Cost Management Services\n",
    "- [AWS Cost Explorer](https://aws.amazon.com/aws-cost-management/aws-cost-explorer/) Analyze your AWS cost and usage\n",
    "- [AWS Budgets](https://aws.amazon.com/aws-cost-management/aws-budgets/?hp=tile&so-exp=below) Set custom cost and usage budgets\n",
    "- [AWS Cost and Usage Report](https://aws.amazon.com/aws-cost-management/aws-cost-and-usage-reporting/?hp=tile&so-exp=below) Access comprehensive cost and usage information\n",
    "\n",
    "#### Other Widely Utilized Cost Management Services\n",
    "- [Reserved Instance Reporting](https://aws.amazon.com/aws-cost-management/reserved-instance-reporting/?hp=tile&so-exp=below) Dive deeper into your reserved instances (RIs)\n",
    "- [Savings Plans](https://aws.amazon.com/savingsplans/?hp=tile&so-exp=below) Save up to 72% on compute usage with flexible pricing"
   ]
  },
  {
   "cell_type": "markdown",
   "id": "828f2c66-42fa-47fa-a315-66aca17335cd",
   "metadata": {},
   "source": [
    "<hr style=\"height:10px;border-width:0;color:gray;background-color:gray\">\n",
    "\n",
    "# Page 14 - AWS Management and Governance<a class=\"anchor\" id=\"DS107L2_page_14\"></a>\n",
    "\n",
    "[Back to Top](#DS107L2_toc)\n",
    "\n",
    "<hr style=\"height:10px;border-width:0;color:gray;background-color:gray\">"
   ]
  },
  {
   "cell_type": "markdown",
   "id": "4a87d59e-37b5-4bac-9766-92c119c1c895",
   "metadata": {
    "jp-MarkdownHeadingCollapsed": true,
    "tags": []
   },
   "source": [
    "<p style=\"text-align: center\">\n",
    "  <img  src=\"Media/AWS-Management-Governance.png\" width=\"600\" alt=\"AWS Data Center\">\n",
    "</p>\n",
    "\n",
    "### Top Utilized AWS Management and Governance Services\n",
    "- [AWS Management Console]() Web-based user interface\n",
    "- [AWS Config]() Track resources inventory and changes\n",
    "- [Amazon CloudWatch]() Monitor resources and applications\n",
    "- [AWS Auto Scaling]() Scale multiple resources to meet demand\n",
    "- [AWS Command Line Interface]() Unified tool to manage AWS services\n",
    "- [AWS Trusted Advisor]() Optimize performance and security\n",
    "- [AWS Well-Architected Tool]() Review and improve your workloads\n",
    "- [AWS CloudTrail]() Track user activity and API usage\n",
    "\n",
    "#### Other Widely Utilized AWS Management and Governance Services\n",
    "- [AWS Chatbot](https://aws.amazon.com/chatbot/?hp=tile&so-exp=below) ChatOps for AWS\n",
    "- [AWS CloudFormation](https://aws.amazon.com/cloudformation/?hp=tile&so-exp=below) Create and manage resources with templates\n",
    "- [AWS Compute Optimizer](https://aws.amazon.com/compute-optimizer/?hp=tile&so-exp=below) Identify optimal AWS Compute resources\n",
    "- [AWS Control Tower](https://aws.amazon.com/controltower/?hp=tile&so-exp=below) Set-up and govern a secure, compliant multi-account environment\n",
    "- [AWS Console Mobile Application](https://aws.amazon.com/console/mobile/?hp=tile&so-exp=below) Access resources on the go\n",
    "- [AWS License Manager](https://aws.amazon.com/license-manager/?hp=tile&so-exp=below) Track, manage, and control licenses\n",
    "- [AWS Managed Services](https://aws.amazon.com/managed-services/?hp=tile&so-exp=below) Infrastructure operations management for AWS\n",
    "- [AWS OpsWorks](https://aws.amazon.com/opsworks/?hp=tile&so-exp=below) Automate operations with Chef and Puppet \n",
    "- [AWS Organizations](https://aws.amazon.com/organizations/?hp=tile&so-exp=below) Central governance and management across AWS accounts\n",
    "- [AWS Personal Health Dashboard](https://aws.amazon.com/premiumsupport/phd/?hp=tile&so-exp=below) Personalized view of AWS service health\n",
    "- [AWS Service Catalog](https://aws.amazon.com/servicecatalog/?hp=tile&so-exp=below) Create and use standardized products\n",
    "- [AWS Systems Manager](https://aws.amazon.com/systems-manager/?hp=tile&so-exp=below) Gain operational insights and take action\n"
   ]
  },
  {
   "cell_type": "markdown",
   "id": "ea4a6c45-6dbe-4d29-980b-0ffe34b19977",
   "metadata": {},
   "source": [
    "## Knowledge Check"
   ]
  },
  {
   "cell_type": "code",
   "execution_count": 4,
   "id": "b2dc496b-1518-4bcc-bc84-aa09d8fb069b",
   "metadata": {},
   "outputs": [
    {
     "data": {
      "application/vnd.jupyter.widget-view+json": {
       "model_id": "d1f227dca59340f6ba88a7955a20b780",
       "version_major": 2,
       "version_minor": 0
      },
      "text/plain": [
       "VBox(children=(Output(), RadioButtons(layout=Layout(width='max-content'), options=(('Compute, Cost Management,…"
      ]
     },
     "metadata": {},
     "output_type": "display_data"
    },
    {
     "data": {
      "application/vnd.jupyter.widget-view+json": {
       "model_id": "5f2c29676620441b932856c234d90d69",
       "version_major": 2,
       "version_minor": 0
      },
      "text/plain": [
       "VBox(children=(Output(), RadioButtons(layout=Layout(width='max-content'), options=(('Amazon Instance Store', 0…"
      ]
     },
     "metadata": {},
     "output_type": "display_data"
    },
    {
     "data": {
      "application/vnd.jupyter.widget-view+json": {
       "model_id": "9d0ee7ecd7754a62b48506366770092f",
       "version_major": 2,
       "version_minor": 0
      },
      "text/plain": [
       "VBox(children=(Output(), RadioButtons(layout=Layout(width='max-content'), options=(('Amazon EC2', 0), ('AWS El…"
      ]
     },
     "metadata": {},
     "output_type": "display_data"
    },
    {
     "data": {
      "application/vnd.jupyter.widget-view+json": {
       "model_id": "ffb0c19ba614450b963cdb8f079d597e",
       "version_major": 2,
       "version_minor": 0
      },
      "text/plain": [
       "VBox(children=(Output(), RadioButtons(layout=Layout(width='max-content'), options=(('Amazon Aurora', 0), ('Ama…"
      ]
     },
     "metadata": {},
     "output_type": "display_data"
    },
    {
     "data": {
      "application/vnd.jupyter.widget-view+json": {
       "model_id": "4687001720784f0695ab1b39729d598f",
       "version_major": 2,
       "version_minor": 0
      },
      "text/plain": [
       "VBox(children=(Output(), RadioButtons(layout=Layout(width='max-content'), options=(('AWS Dedicated Hosts', 0),…"
      ]
     },
     "metadata": {},
     "output_type": "display_data"
    },
    {
     "data": {
      "application/vnd.jupyter.widget-view+json": {
       "model_id": "1eb63a5d5b9745d9828cdeb11a39dd16",
       "version_major": 2,
       "version_minor": 0
      },
      "text/plain": [
       "VBox(children=(Output(), RadioButtons(layout=Layout(width='max-content'), options=(('AWS Cost and Usage Report…"
      ]
     },
     "metadata": {},
     "output_type": "display_data"
    },
    {
     "data": {
      "application/vnd.jupyter.widget-view+json": {
       "model_id": "5598199116354122aef775873c98bc12",
       "version_major": 2,
       "version_minor": 0
      },
      "text/plain": [
       "VBox(children=(Output(), RadioButtons(layout=Layout(width='max-content'), options=(('Each AWS account gets vol…"
      ]
     },
     "metadata": {},
     "output_type": "display_data"
    },
    {
     "data": {
      "application/vnd.jupyter.widget-view+json": {
       "model_id": "dbb7c204d9ae486f90e44bc232c2602d",
       "version_major": 2,
       "version_minor": 0
      },
      "text/plain": [
       "VBox(children=(Output(), RadioButtons(layout=Layout(width='max-content'), options=(('Contact the AWS Security …"
      ]
     },
     "metadata": {},
     "output_type": "display_data"
    },
    {
     "data": {
      "application/vnd.jupyter.widget-view+json": {
       "model_id": "23965e37484149b2a05b273061a30f20",
       "version_major": 2,
       "version_minor": 0
      },
      "text/plain": [
       "VBox(children=(Output(), RadioButtons(layout=Layout(width='max-content'), options=(('Amazon Redshift', 0), ('A…"
      ]
     },
     "metadata": {},
     "output_type": "display_data"
    },
    {
     "data": {
      "application/vnd.jupyter.widget-view+json": {
       "model_id": "dda45f20319c49e5847ce634fc6ff9f2",
       "version_major": 2,
       "version_minor": 0
      },
      "text/plain": [
       "VBox(children=(Output(), RadioButtons(layout=Layout(width='max-content'), options=(('Amazon RDS', 0), ('Amazon…"
      ]
     },
     "metadata": {},
     "output_type": "display_data"
    },
    {
     "data": {
      "application/vnd.jupyter.widget-view+json": {
       "model_id": "9fd557686cee41538d484255e15829a3",
       "version_major": 2,
       "version_minor": 0
      },
      "text/plain": [
       "VBox(children=(Output(), RadioButtons(layout=Layout(width='max-content'), options=(('Amazon DynamoDB', 0), ('A…"
      ]
     },
     "metadata": {},
     "output_type": "display_data"
    },
    {
     "data": {
      "application/vnd.jupyter.widget-view+json": {
       "model_id": "9153cf046b19473581dc39dcd8dd6cd3",
       "version_major": 2,
       "version_minor": 0
      },
      "text/plain": [
       "VBox(children=(Output(), RadioButtons(layout=Layout(width='max-content'), options=(('Amazon Neptune', 0), ('Am…"
      ]
     },
     "metadata": {},
     "output_type": "display_data"
    }
   ],
   "source": [
    "try:\n",
    "    display(L2P14Q1, L2P14Q2, L2P14Q3, L2P14Q4, L2P14Q5, L2P14Q6, L2P14Q7, L2P14Q8, L2P14Q9, L2P14Q10, L2P14Q11, L2P14Q12)\n",
    "except:\n",
    "    pass"
   ]
  },
  {
   "cell_type": "markdown",
   "id": "26893e5b-bb3c-4a64-9992-7febef6424d0",
   "metadata": {},
   "source": [
    "<hr style=\"height:10px;border-width:0;color:gray;background-color:gray\">\n",
    "\n",
    "# Page 15 - AWS Cloud Security<a class=\"anchor\" id=\"DS107L2_page_15\"></a>\n",
    "\n",
    "[Back to Top](#DS107L2_toc)\n",
    "\n",
    "<hr style=\"height:10px;border-width:0;color:gray;background-color:gray\">"
   ]
  },
  {
   "cell_type": "markdown",
   "id": "cbaa02a9-f53f-4ea5-9e5e-518656180b78",
   "metadata": {},
   "source": [
    "After completing this section you should be able to:\n",
    "\n",
    "- Recognize the shared security model\n",
    "- Identify the responsibility of the customer and AWS\n",
    "- Recognize IAM users, groups and roles\n",
    "- Describe different types of security credentials in iAM\n",
    "- Identify the steps to securing a new AWS Account\n",
    "- Explore IAM users and groups\n",
    "- Recognize how to secure AWS data\n",
    "- Recognize AWS compliance programs"
   ]
  },
  {
   "cell_type": "markdown",
   "id": "1fb7d7fb-9da3-472a-85db-a7de723b93bc",
   "metadata": {},
   "source": [
    "AWS Shared Security Model:"
   ]
  },
  {
   "cell_type": "markdown",
   "id": "22d6c147-2adf-4d4a-a416-09c8df61e1db",
   "metadata": {},
   "source": [
    "<p style=\"text-align: center\">\n",
    "  <img  src=\"Media/AWS-Shared-Responsibility-Model.png\" width=\"600\" alt=\"AWS Data Center\">\n",
    "</p>\n",
    "\n",
    "AWS Responsibilities:\n",
    "\n",
    "- Physical security of data centers\n",
    "    - Controlled, need-based access\n",
    "- Hardware and software infrastructure\n",
    "    - Storage decommissioning, host operating system (OS) access logging, and auditing \n",
    "- Network infrastructure\n",
    "    - Intrusion detection\n",
    "- Virtualization infrastructure\n",
    "    - Instance isolation\n",
    "\n",
    "<p style=\"text-align: center\">\n",
    "  <img  src=\"Media/AWS-Security-Responsibilities.png\" width=\"400\" alt=\"AWS Data Center\">\n",
    "</p>\n",
    "\n",
    "Customer Responsibilities:\n",
    "\n",
    "- Amazon Elastic Compute Cloud (EC2) instance operating system\n",
    "    - Includes patching, maintenance\n",
    "- Applications\n",
    "    - Passwords, role-based access, etc.\n",
    "- Security group configuration\n",
    "- OS or host-based firewalls\n",
    "    - Including intrusion detection or prevention systems\n",
    "- Network configurations\n",
    "- Account management\n",
    "    - Login and permission settings for each user\n",
    "\n",
    "<p style=\"text-align: center\">\n",
    "  <img  src=\"Media/AWS-Customer-Security-Responsibilities.png\" width=\"400\" alt=\"AWS Data Center\">\n",
    "</p>\n",
    "\n",
    "Service characteristics and security responsibility\n",
    "\n",
    "<p style=\"text-align: center\">\n",
    "  <img  src=\"Media/AWS-Service-Security-Characteristics.png\" width=\"800\" alt=\"AWS Data Center\">\n",
    "</p>\n",
    "\n",
    "<p style=\"text-align: center\">\n",
    "  <img  src=\"Media/AWS-Service-Security-Characteristics2.png\" width=\"800\" alt=\"AWS Data Center\">\n",
    "</p>"
   ]
  },
  {
   "cell_type": "markdown",
   "id": "83724187-b021-4134-9d84-c5442d40e740",
   "metadata": {},
   "source": [
    "## Knowledge Check"
   ]
  },
  {
   "cell_type": "code",
   "execution_count": 5,
   "id": "eb2e08f3-914f-498a-b680-854edcda2a37",
   "metadata": {},
   "outputs": [
    {
     "data": {
      "application/vnd.jupyter.widget-view+json": {
       "model_id": "96006437d5c74e7d80417734456417f2",
       "version_major": 2,
       "version_minor": 0
      },
      "text/plain": [
       "VBox(children=(Output(), RadioButtons(layout=Layout(width='max-content'), options=(('AWS Command Line Interfac…"
      ]
     },
     "metadata": {},
     "output_type": "display_data"
    },
    {
     "data": {
      "application/vnd.jupyter.widget-view+json": {
       "model_id": "01cbe8a165b548f18c7f0f5c83e0492c",
       "version_major": 2,
       "version_minor": 0
      },
      "text/plain": [
       "VBox(children=(Output(), RadioButtons(layout=Layout(width='max-content'), options=(('Track user activity and A…"
      ]
     },
     "metadata": {},
     "output_type": "display_data"
    },
    {
     "data": {
      "application/vnd.jupyter.widget-view+json": {
       "model_id": "5f6034e5c4ac40ac99995014a79148f6",
       "version_major": 2,
       "version_minor": 0
      },
      "text/plain": [
       "VBox(children=(Output(), RadioButtons(layout=Layout(width='max-content'), options=(('Make Smart Scaling Decisi…"
      ]
     },
     "metadata": {},
     "output_type": "display_data"
    },
    {
     "data": {
      "application/vnd.jupyter.widget-view+json": {
       "model_id": "ec7a6b3258e345cfad24f4be2ac71548",
       "version_major": 2,
       "version_minor": 0
      },
      "text/plain": [
       "VBox(children=(Output(), RadioButtons(layout=Layout(width='max-content'), options=(('Creates and manages resou…"
      ]
     },
     "metadata": {},
     "output_type": "display_data"
    },
    {
     "data": {
      "application/vnd.jupyter.widget-view+json": {
       "model_id": "422e65673e5e400f801168882ae2c901",
       "version_major": 2,
       "version_minor": 0
      },
      "text/plain": [
       "VBox(children=(Output(), RadioButtons(layout=Layout(width='max-content'), options=(('AWS Organizations', 0), (…"
      ]
     },
     "metadata": {},
     "output_type": "display_data"
    },
    {
     "data": {
      "application/vnd.jupyter.widget-view+json": {
       "model_id": "bb21588e1dfd400a83f971d851a5f6fb",
       "version_major": 2,
       "version_minor": 0
      },
      "text/plain": [
       "VBox(children=(Output(), RadioButtons(layout=Layout(width='max-content'), options=(('Patching the guest OS is …"
      ]
     },
     "metadata": {},
     "output_type": "display_data"
    },
    {
     "data": {
      "application/vnd.jupyter.widget-view+json": {
       "model_id": "f5d2ce6b553140aaac96b34abed461f2",
       "version_major": 2,
       "version_minor": 0
      },
      "text/plain": [
       "VBox(children=(Output(), RadioButtons(layout=Layout(width='max-content'), options=(('Elastic RI', 0), ('Premiu…"
      ]
     },
     "metadata": {},
     "output_type": "display_data"
    }
   ],
   "source": [
    "try:\n",
    "    display(L2P15Q1, L2P15Q2, L2P15Q3, L2P15Q4, L2P15Q5, L2P15Q6, L2P15Q7)\n",
    "except:\n",
    "    pass"
   ]
  },
  {
   "cell_type": "markdown",
   "id": "afba4b5b-1b96-46b1-95a7-bcb0060cecf9",
   "metadata": {},
   "source": [
    "<hr style=\"height:10px;border-width:0;color:gray;background-color:gray\">\n",
    "\n",
    "# Page 16 - AWS Identity and Access Management (IAM)<a class=\"anchor\" id=\"DS107L2_page_16\"></a>\n",
    "\n",
    "[Back to Top](#DS107L2_toc)\n",
    "\n",
    "<hr style=\"height:10px;border-width:0;color:gray;background-color:gray\">"
   ]
  },
  {
   "cell_type": "markdown",
   "id": "7ff2928a-831f-464f-a9f4-367d3d99139b",
   "metadata": {},
   "source": [
    "IAM is one of the first services you will use in AWS.\n",
    "\n",
    "<p style=\"text-align: left\">\n",
    "  <img  src=\"Media/AWS-IAM2.png\" width=\"100\" alt=\"AWS IAM\">\n",
    "</p>\n",
    "\n",
    "- Use IAM to manage AWS Resources\n",
    "    - A resources is an entity in an AWS account that you work with such as:\n",
    "    - S3 bucket or an EC2 instance\n",
    "- For example you can control can terminate EC2 instances or delete S3 buckets\n",
    "- You can define fine-grain access rights\n",
    "    - who can access the resource\n",
    "    - which resources can be accessed\n",
    "    - what can a user do with the resource\n",
    "    - how resources can be accessed\n",
    "- IAM is a no-cost account service\n",
    "---\n",
    "\n",
    "## IAM essential components\n",
    "\n",
    "<p style=\"text-align: left\">\n",
    "  <img  src=\"Media/IAM-User.png\" width=\"100\" alt=\"AWS IAM\">\n",
    "</p>\n",
    "\n",
    "A person or application that can authenticate with an AWS account.\n",
    "\n",
    "<p style=\"text-align: left\">\n",
    "  <img  src=\"Media/IAM-Group.png\" width=\"100\" alt=\"AWS IAM\">\n",
    "</p>\n",
    "\n",
    "A collection of IAM users that are granted identical authorization.\n",
    "\n",
    "<p style=\"text-align: left\">\n",
    "  <img  src=\"Media/IAM-Policy.png\" width=\"100\" alt=\"AWS IAM\">\n",
    "</p>\n",
    "\n",
    "The document that defines which resources can be accessed and the level of access to each resource.\n",
    "\n",
    "<p style=\"text-align: left\">\n",
    "  <img  src=\"Media/IAM-Role.png\" width=\"100\" alt=\"AWS IAM\">\n",
    "</p>\n",
    "\n",
    "Useful mechanism to grant a set of permissions for making AWS service requests.\n",
    "\n",
    "---\n",
    "\n",
    "When you define an IAM user, you select what types of access the user is permitted to use.\n",
    "\n",
    "- Programmatic Access\n",
    "    - Authenticate using:\n",
    "        - Access key ID\n",
    "        - Secret access key\n",
    "    - Provide AWS CLI and SDK access\n",
    "\n",
    "- AWS Management Console Access\n",
    "    - Authenticate using:\n",
    "        - 12-digit account ID\n",
    "        - IAM username and password\n",
    "    - If enabled, multi-factor authentication (MFA) prompt for an authentication code.\n",
    "\n",
    "<p style=\"text-align: center\">\n",
    "  <img  src=\"Media/IAM-MFA.png\" width=\"600\" alt=\"AWS IAM\">\n",
    "</p>\n",
    "\n",
    "---\n",
    "\n",
    "After an AWS User is connected to their account, what are they allowed to do and access?\n",
    "\n",
    "<p style=\"text-align: center\">\n",
    "  <img  src=\"Media/IAM-Allowed.png\" width=\"600\" alt=\"AWS IAM\">\n",
    "</p>\n",
    "\n",
    "---\n",
    "\n",
    "## IAM Authorizations\n",
    "\n",
    "- Assign permissions by creating an IAM Policy.\n",
    "- Permissions determine which resources and operations are allowed.\n",
    "    - All permissions are implicitly denied by default.\n",
    "    - If something is explicitly denied, it is never allowed.\n",
    "\n",
    "Best practice: Follow the **principle of least priviledge**\n",
    "\n",
    "Note: the scope of IAM service configurations are global. Settings apply across all AWS Regions.\n",
    "\n",
    "---\n",
    "\n",
    "## IAM Policies\n",
    "\n",
    "- An IAM Policy is a document that defines permissions\n",
    "    - Enables fine-grain access control\n",
    "- Two types of policies - Identity-based and Resource-based\n",
    "    - Identity-based policies\n",
    "        - Attach a policy to any IAM entity\n",
    "            - IAM User, IAM Group, IAM Policy\n",
    "        - Policies specify:\n",
    "            - Actions that may be performed by the entity\n",
    "            - Actions that may not be peformed by the entity\n",
    "        - A single policy can be attached to multiple entities\n",
    "        - A single entity can have multiple policies attached to it\n",
    "    - Resource-based policies\n",
    "        - Attached to a resources such as an S3 bucket\n",
    "\n",
    "\n",
    "<p style=\"text-align: center\">\n",
    "  <img  src=\"Media/IAM-Policy-Example.png\" width=\"600\" alt=\"AWS IAM\">\n",
    "</p>\n",
    "\n",
    "\n",
    "How an IAM determines positions:\n",
    "\n",
    "<p style=\"text-align: center\">\n",
    "  <img  src=\"Media/IAM-Determines-Permissions.png\" width=\"600\" alt=\"AWS IAM\">\n",
    "</p>\n",
    "\n",
    "---\n",
    "\n",
    "## IAM Groups\n",
    "\n",
    "- An IAM Group is a collection of IAM Users\n",
    "- A group is used to grant the same permissions to multiple users\n",
    "    - Permissions granted by attaching IAM policy or policies to the group\n",
    "- A user can belong to multiple groups\n",
    "- There is no default group\n",
    "- Groups cannot be nested\n",
    "\n",
    "<p style=\"text-align: center\">\n",
    "  <img  src=\"Media/IAM-Groups.png\" width=\"400\" alt=\"AWS IAM\">\n",
    "</p>\n",
    "\n",
    "---\n",
    "\n",
    "## IAM Roles\n",
    "\n",
    "- An IAM Role is a specific IAM identity with specific permissions\n",
    "- Similar to an IAM user\n",
    "    - attach permission policies to it\n",
    "- Different from an IAM user\n",
    "    - Not uniquely associated with one person\n",
    "    - Intended to be assumable by a person, application, or service\n",
    "- Role provides temporary security credentials\n",
    "- Examples of how IAM roles are used to delegate access\n",
    "    - Used by the IAM user in the same AWS account as the role\n",
    "    - Used by an AWS service such as Amazon EC2 in the same account as the role\n",
    "    - Used by the IAM user in a different AWS account than the role\n",
    "\n",
    "Scenario:\n",
    "\n",
    "- An application that runs on an EC2 instance needs access to an S3 bucket\n",
    "\n",
    "Solution:\n",
    "\n",
    "- Define an IAM policy that grants access to the S3 bucket\n",
    "- Attach the policy to a role\n",
    "- Allow EC2 instance to assume the role\n",
    "\n",
    "<p style=\"text-align: center\">\n",
    "  <img  src=\"Media/IAM-Policy-Example.png\" width=\"500\" alt=\"AWS IAM\">\n",
    "</p>\n",
    "\n",
    "---"
   ]
  },
  {
   "cell_type": "markdown",
   "id": "a3ce159f-2522-43b1-94fb-0ee42c10e03e",
   "metadata": {},
   "source": [
    "## Knowledge Check"
   ]
  },
  {
   "cell_type": "code",
   "execution_count": 6,
   "id": "e9265ba0-074f-4143-be19-e8a8cced37fc",
   "metadata": {},
   "outputs": [
    {
     "data": {
      "application/vnd.jupyter.widget-view+json": {
       "model_id": "e23b1f0e78634d94b3cd2d3d7aa7f81b",
       "version_major": 2,
       "version_minor": 0
      },
      "text/plain": [
       "VBox(children=(Output(), RadioButtons(layout=Layout(width='max-content'), options=(('True', 0), ('False', 1)),…"
      ]
     },
     "metadata": {},
     "output_type": "display_data"
    },
    {
     "data": {
      "application/vnd.jupyter.widget-view+json": {
       "model_id": "f979694bc21c42409e6bc9d211dd53fb",
       "version_major": 2,
       "version_minor": 0
      },
      "text/plain": [
       "VBox(children=(Output(), RadioButtons(layout=Layout(width='max-content'), options=(('All IAM users should have…"
      ]
     },
     "metadata": {},
     "output_type": "display_data"
    },
    {
     "data": {
      "application/vnd.jupyter.widget-view+json": {
       "model_id": "94c2cfb599ba49c196bddb76e6281e09",
       "version_major": 2,
       "version_minor": 0
      },
      "text/plain": [
       "VBox(children=(Output(), RadioButtons(layout=Layout(width='max-content'), options=(('Access keys', 0), ('Secre…"
      ]
     },
     "metadata": {},
     "output_type": "display_data"
    },
    {
     "data": {
      "application/vnd.jupyter.widget-view+json": {
       "model_id": "04fa6d0d2b704c76aa96e88e88bb0b45",
       "version_major": 2,
       "version_minor": 0
      },
      "text/plain": [
       "VBox(children=(Output(), RadioButtons(layout=Layout(width='max-content'), options=(('AWS Certificate Manager',…"
      ]
     },
     "metadata": {},
     "output_type": "display_data"
    },
    {
     "data": {
      "application/vnd.jupyter.widget-view+json": {
       "model_id": "53384316c03a425c994b61db664fc7a7",
       "version_major": 2,
       "version_minor": 0
      },
      "text/plain": [
       "VBox(children=(Output(), RadioButtons(layout=Layout(width='max-content'), options=(('IAM Groups', 0), ('AWS Or…"
      ]
     },
     "metadata": {},
     "output_type": "display_data"
    },
    {
     "data": {
      "application/vnd.jupyter.widget-view+json": {
       "model_id": "cd75f8dfa9894dcfab98fcf12e59d213",
       "version_major": 2,
       "version_minor": 0
      },
      "text/plain": [
       "VBox(children=(Output(), RadioButtons(layout=Layout(width='max-content'), options=(('AWS MFA', 0), ('Encrypted…"
      ]
     },
     "metadata": {},
     "output_type": "display_data"
    }
   ],
   "source": [
    "try:\n",
    "    display(L2P16Q1, L2P16Q2, L2P16Q3, L2P16Q4, L2P16Q5, L2P16Q6)\n",
    "except:\n",
    "    pass"
   ]
  },
  {
   "cell_type": "markdown",
   "id": "de79ddb7-12b3-4280-9baa-d8e97fad0c32",
   "metadata": {},
   "source": [
    "<hr style=\"height:10px;border-width:0;color:gray;background-color:gray\">\n",
    "\n",
    "# Page 17 - AWS Organizations<a class=\"anchor\" id=\"DS107L2_page_17\"></a>\n",
    "\n",
    "[Back to Top](#DS107L2_toc)\n",
    "\n",
    "<hr style=\"height:10px;border-width:0;color:gray;background-color:gray\">"
   ]
  },
  {
   "cell_type": "markdown",
   "id": "69fc580f-4a05-4b2f-8f3f-fd75b3b0e549",
   "metadata": {},
   "source": [
    "<p style=\"text-align: center\">\n",
    "  <img  src=\"Media/AWS-Organizations.png\" width=\"140\" alt=\"AWS IAM\">\n",
    "</p>\n",
    "\n",
    "- AWS Organizations enables you to consolidate multiple AWS accounts so that you centrally manage them.\n",
    "\n",
    "- Security features of AWS Organizations:\n",
    "    - Group AWS accounts into organizational units (OUs) and attached different access policies to each OU.\n",
    "    - Integration and support for IAM\n",
    "        - Permissions to a user at the intersection what is allowed by AWS Organizations and what is granted by IAM in that account.\n",
    "    - User service control policies to establish control over the AWS services and API actions  that actions that each AWS account can access.\n",
    "\n",
    "- Service control policies (SCPs) offer centralized control over accounts.\n",
    "    - Limit permissions that are available in an account that is part of an organization.\n",
    "- Ensures that accounts comply with access control guidelines\n",
    "- SCPs are similar to IAM permissions policies:\n",
    "    - They use similar syntax.\n",
    "    - However, SCP never grants permissions.\n",
    "    - Instead, SCPs specify the maximum permissions for an organization."
   ]
  },
  {
   "cell_type": "markdown",
   "id": "e60774da-b6a0-43b5-9fd7-5b0ffabac3cf",
   "metadata": {},
   "source": [
    "<hr style=\"height:10px;border-width:0;color:gray;background-color:gray\">\n",
    "\n",
    "# Page 18 - AWS Key Management Service (AWS KMS)<a class=\"anchor\" id=\"DS107L2_page_18\"></a>\n",
    "\n",
    "[Back to Top](#DS107L2_toc)\n",
    "\n",
    "<hr style=\"height:10px;border-width:0;color:gray;background-color:gray\">"
   ]
  },
  {
   "cell_type": "markdown",
   "id": "1843b9ec-aba8-4ab0-a53b-6019c1477d1b",
   "metadata": {},
   "source": [
    "<p style=\"text-align: center\">\n",
    "  <img  src=\"Media/AWS-KMS.png\" width=\"160\" alt=\"AWS IAM\">\n",
    "</p>\n",
    "\n",
    "AWS Key Management Services (AWS KMS) features:\n",
    "- Enables you to create and manage encryption keys.\n",
    "- Enables you to control the use of encryption across AWS services and in your applications.\n",
    "- Integrates with CloudTrail to log all key usage.\n",
    "- Uses hardware security modules (HSMs) that are validated by Federal Information Processing Standards (FIPS) 140-2 to protect keys."
   ]
  },
  {
   "cell_type": "markdown",
   "id": "ce0a0588-1ac0-4c65-ba20-b2db3d8fda7c",
   "metadata": {},
   "source": [
    "<hr style=\"height:10px;border-width:0;color:gray;background-color:gray\">\n",
    "\n",
    "# Page 19 - Amazon Cognito<a class=\"anchor\" id=\"DS107L2_page_19\"></a>\n",
    "\n",
    "[Back to Top](#DS107L2_toc)\n",
    "\n",
    "<hr style=\"height:10px;border-width:0;color:gray;background-color:gray\">"
   ]
  },
  {
   "cell_type": "markdown",
   "id": "23086b2c-ff8d-470c-82a3-c58ce8beb74c",
   "metadata": {},
   "source": [
    "<p style=\"text-align: center\">\n",
    "  <img  src=\"Media/Amazon-Cognito.png\" width=\"140\" alt=\"AWS IAM\">\n",
    "</p>\n",
    "\n",
    "Amazon Cognito features:\n",
    "- Adds user sign-up, sign-in, and access control to you web and mobile applications.\n",
    "- Scales to millions of users.\n",
    "- Supports sign-in with social identity partners, such as Facebook, Google, and Amazon; and enterprise identity providers, such as Microsoft Active Directory via Security Assertion Markup Language (SAML) 2.0."
   ]
  },
  {
   "cell_type": "markdown",
   "id": "213098f8-f42e-470a-8ba1-cb00571381cc",
   "metadata": {},
   "source": [
    "<hr style=\"height:10px;border-width:0;color:gray;background-color:gray\">\n",
    "\n",
    "# Page 20 - AWS Shield<a class=\"anchor\" id=\"DS107L2_page_20\"></a>\n",
    "\n",
    "[Back to Top](#DS107L2_toc)\n",
    "\n",
    "<hr style=\"height:10px;border-width:0;color:gray;background-color:gray\">"
   ]
  },
  {
   "cell_type": "markdown",
   "id": "c63a0008-cf37-4e3e-a2ec-c0a0f44cb85c",
   "metadata": {},
   "source": [
    "\n",
    "<p style=\"text-align: center\">\n",
    "  <img  src=\"Media/AWS-Shield.png\" width=\"100\" alt=\"AWS IAM\">\n",
    "</p>\n",
    "\n",
    "AWS Shield features:\n",
    "- Is a managed distributed denial of service (DDoS) protection service\n",
    "- Safeguards applications running on AWS\n",
    "- Provides always-on detection and automatic inline mitigations\n",
    "- AWS Shield Standard enabled at no additional cost.\n",
    "- AWS Shield Advanced is an optional paid service\n",
    "- Used to minimize application downtime and latency\n",
    "\n"
   ]
  },
  {
   "cell_type": "markdown",
   "id": "0902b6d3-c1cb-4305-8577-1baba864a46a",
   "metadata": {},
   "source": [
    "<hr style=\"height:10px;border-width:0;color:gray;background-color:gray\">\n",
    "\n",
    "# Page 21 - Securing Data on AWS<a class=\"anchor\" id=\"DS107L2_page_21\"></a>\n",
    "\n",
    "[Back to Top](#DS107L2_toc)\n",
    "\n",
    "<hr style=\"height:10px;border-width:0;color:gray;background-color:gray\">"
   ]
  },
  {
   "cell_type": "markdown",
   "id": "08fcc233-8934-4775-8a2c-8f2664c74f81",
   "metadata": {},
   "source": [
    "## Encryption of data at rest\n",
    "\n",
    "- Encryption encodes data with a secret key, which makes it unreadable.\n",
    "    - Only those with the secret key can decode the data.\n",
    "    - AWS KMS can manage your secret keys\n",
    "- AWS supports encrypted data at rest\n",
    "    - Data at rest = Data stored physically (On disk or tape)\n",
    "    - You can encrypt data stored in any service that is supported by AWS KMS, including:\n",
    "        - Amazon S3\n",
    "        - Amazon EBS\n",
    "        - Amazon Elastic File System (EFS)\n",
    "        - Amazon RDS managed databases \n",
    "\n",
    "## Encryption of data in transit\n",
    "\n",
    "- Encryption of data in transit (data moving across a network)\n",
    "    - Transport Layer Security (TLS), formerly SSL, is an open standard protocol.\n",
    "    - AWS Certificate Manager provides a way to manage, deploy, and renew TLS or SSL certificates\n",
    "- Secure HTTP(HTTPS) creates a secure tunnel\n",
    "    - Uses TLS or SSL for secure bidirectional exchange of data\n",
    "- AWS services support data in transit encryption\n",
    "    - Two examples show below:\n",
    "    \n",
    "<p style=\"text-align: center\">\n",
    "  <img  src=\"Media/AWS-Data-Transit-Encryption.png\" width=\"600\" alt=\"AWS IAM\">\n",
    "</p>\n",
    "\n",
    "## Securing Amazon S3 buckets and objects\n",
    "\n",
    "- Newly created S3 buckets and objects are private and protected by default.\n",
    "- When use cases require data objects on Amazon S3:\n",
    "    - It is essential manage and control data access\n",
    "    - Follow the permissions that follow the principle of least priviledge.\n",
    "    - Consider using Amazon S3 encryption\n",
    "- Tools and options for controlling access to S3 include:\n",
    "    - [Amazon S3 Block Public Access feature](https://docs.aws.amazon.com/AmazonS3/latest/userguide/access-control-block-public-access.html): Simple to use.\n",
    "    - [IAM Policies](https://docs.aws.amazon.com/IAM/latest/UserGuide/access_policies.html): is a good option for a user to authenticate using IAM.\n",
    "    - [S3 Bucket Policies](https://docs.aws.amazon.com/AmazonS3/latest/userguide/using-iam-policies.html)\n",
    "    - [Access Control Lists (ACLs)](https://docs.aws.amazon.com/AmazonS3/latest/userguide/acl-overview.html): A legacy access control mechanism\n",
    "    - [AWS Trusted Advisor bucket permissions check](https://docs.aws.amazon.com/awssupport/latest/user/trusted-advisor-check-reference.html): A free feature\n",
    "    "
   ]
  },
  {
   "cell_type": "markdown",
   "id": "f4c2bd4a-f764-4da0-89e7-3ed777dfd9ea",
   "metadata": {},
   "source": [
    "<hr style=\"height:10px;border-width:0;color:gray;background-color:gray\">\n",
    "\n",
    "# Page 22 - Ensuring Compliance<a class=\"anchor\" id=\"DS107L2_page_22\"></a>\n",
    "\n",
    "[Back to Top](#DS107L2_toc)\n",
    "\n",
    "<hr style=\"height:10px;border-width:0;color:gray;background-color:gray\">"
   ]
  },
  {
   "cell_type": "markdown",
   "id": "9c0bc433-1b22-4188-a661-1114ee1b039e",
   "metadata": {},
   "source": [
    "## AWS Compliance Programs\n",
    "\n",
    "- Customers are subject to many different security and compliance regulations and requirements.\n",
    "- AWS engages with certifying bodies and independent auditors to provide customers with detailed information about the policies, processes, and controls that are established and operated by AWS. \n",
    "- Compliance programs can be broadly categorized:\n",
    "    - Certifications and attestations\n",
    "        - Assessed by a third party, independent auditor.\n",
    "        - Examples: ISO 27001, 27017, 27018, and ISO/IEC 9001.\n",
    "    - Laws, regulations, and privacy\n",
    "        - AWS provides security features and legal agreements to support compliance.\n",
    "        - Examples: EU General Data Protection Regulation (GDPR), HIPAA.\n",
    "    - Alignments and frameworks\n",
    "        - Industry - function-specific security or compliance requirements\n",
    "        - Examples: Center for Internet Security (CIS), EU-US Privacy Shield certified\n",
    "\n",
    "\n",
    "## AWS Config\n",
    "\n",
    "<p style=\"text-align: center\">\n",
    "  <img  src=\"Media/AWS-Config-Dash.png\" width=\"600\" alt=\"AWS IAM\">\n",
    "</p>\n",
    "\n",
    "- Assess, audit, and evaluate the configurations of AWS resources.\n",
    "- Use for continuous monitoring of configurations.\n",
    "- Automatically evaluate recorded configurations versus desired configurations.\n",
    "- View detailed configuration histories.\n",
    "- Simplify compliance auditing and security analysis.\n",
    "\n",
    "## AWS Artifact\n",
    "\n",
    "- Is a resource for compliance-related information.\n",
    "- Provides access to security and compliance reports and select online agreements.\n",
    "- Can access example downloads:\n",
    "    - AWS ISO certifications\n",
    "    - Payment Card Industry (PCI) and Service Organizational Control (SOC) reports.\n",
    "- Access AWS Artifact directly from the AWS Management Console \n",
    "    - Under Security, Identity, and Compliance click Artifact.\n",
    "\n",
    "<p style=\"text-align: center\">\n",
    "  <img  src=\"Media/AWS-Artifact.png\" width=\"600\" alt=\"AWS IAM\">\n",
    "</p>"
   ]
  },
  {
   "cell_type": "markdown",
   "id": "fb0e4097-c752-421b-8e49-79b5befef62c",
   "metadata": {},
   "source": [
    "## Knowledge Check"
   ]
  },
  {
   "cell_type": "code",
   "execution_count": 7,
   "id": "64039830-bf6d-4a1c-9bf3-3b551d742371",
   "metadata": {},
   "outputs": [
    {
     "data": {
      "application/vnd.jupyter.widget-view+json": {
       "model_id": "6b3c4a551c524e268342b0828de51201",
       "version_major": 2,
       "version_minor": 0
      },
      "text/plain": [
       "VBox(children=(Output(), RadioButtons(layout=Layout(width='max-content'), options=(('AWS Organizations', 0), (…"
      ]
     },
     "metadata": {},
     "output_type": "display_data"
    },
    {
     "data": {
      "application/vnd.jupyter.widget-view+json": {
       "model_id": "51878f43aba64cd68e47955fce57d7ca",
       "version_major": 2,
       "version_minor": 0
      },
      "text/plain": [
       "VBox(children=(Output(), RadioButtons(layout=Layout(width='max-content'), options=(('AWS Secrets Manager', 0),…"
      ]
     },
     "metadata": {},
     "output_type": "display_data"
    },
    {
     "data": {
      "application/vnd.jupyter.widget-view+json": {
       "model_id": "d46a197b16d448a08c96adb5522bb2a8",
       "version_major": 2,
       "version_minor": 0
      },
      "text/plain": [
       "VBox(children=(Output(), RadioButtons(layout=Layout(width='max-content'), options=(('Amazon Inspector', 0), ('…"
      ]
     },
     "metadata": {},
     "output_type": "display_data"
    },
    {
     "data": {
      "application/vnd.jupyter.widget-view+json": {
       "model_id": "8ccb2e5c87aa4fe6b668dda8035a377a",
       "version_major": 2,
       "version_minor": 0
      },
      "text/plain": [
       "VBox(children=(Output(), RadioButtons(layout=Layout(width='max-content'), options=(('AWS Cost Explorer', 0), (…"
      ]
     },
     "metadata": {},
     "output_type": "display_data"
    },
    {
     "data": {
      "application/vnd.jupyter.widget-view+json": {
       "model_id": "538ccc09046a4b2c9c27f2fdd2d43749",
       "version_major": 2,
       "version_minor": 0
      },
      "text/plain": [
       "VBox(children=(Output(), RadioButtons(layout=Layout(width='max-content'), options=(('AWS Config', 0), ('Amazon…"
      ]
     },
     "metadata": {},
     "output_type": "display_data"
    },
    {
     "data": {
      "application/vnd.jupyter.widget-view+json": {
       "model_id": "6ff4700f33644630901b40255d4c1327",
       "version_major": 2,
       "version_minor": 0
      },
      "text/plain": [
       "VBox(children=(Output(), RadioButtons(layout=Layout(width='max-content'), options=(('Amazon CloudWatch', 0), (…"
      ]
     },
     "metadata": {},
     "output_type": "display_data"
    },
    {
     "data": {
      "application/vnd.jupyter.widget-view+json": {
       "model_id": "a36a2e0a7bc946178f18ba64a548caad",
       "version_major": 2,
       "version_minor": 0
      },
      "text/plain": [
       "VBox(children=(Output(), RadioButtons(layout=Layout(width='max-content'), options=(('Amazon CloudWatch', 0), (…"
      ]
     },
     "metadata": {},
     "output_type": "display_data"
    },
    {
     "data": {
      "application/vnd.jupyter.widget-view+json": {
       "model_id": "77ddd6e2d56746b290f4c3da57ba8a13",
       "version_major": 2,
       "version_minor": 0
      },
      "text/plain": [
       "VBox(children=(Output(), RadioButtons(layout=Layout(width='max-content'), options=(('AWS OpsWorks', 0), ('Amaz…"
      ]
     },
     "metadata": {},
     "output_type": "display_data"
    }
   ],
   "source": [
    "try:\n",
    "    display(L2P22Q1, L2P22Q2, L2P22Q3, L2P22Q4, L2P22Q5, L2P22Q6, L2P22Q7, L2P22Q8)\n",
    "except:\n",
    "    pass"
   ]
  },
  {
   "cell_type": "markdown",
   "id": "3d8240d5-89b6-4f40-91c9-6d30116da3ab",
   "metadata": {},
   "source": [
    "<hr style=\"height:10px;border-width:0;color:gray;background-color:gray\">\n",
    "\n",
    "# Page 23 - Lesson Summary<a class=\"anchor\" id=\"DS107L2_page_23\"></a>\n",
    "\n",
    "[Back to Top](#DS107L2_toc)\n",
    "\n",
    "<hr style=\"height:10px;border-width:0;color:gray;background-color:gray\">"
   ]
  },
  {
   "cell_type": "markdown",
   "id": "ed7ab284-78bf-4e08-94df-eb323137e31f",
   "metadata": {},
   "source": [
    "In this lesson you learned how to:\n",
    "\n",
    "- Identify the difference between AWS Regions, Availability Zones, and Edge locations\n",
    "- Identify the various AWS Services and Service Categories\n",
    "- Recognize the shared security model\n",
    "- Identify the responsibility of the customer and AWS\n",
    "- Recognize IAM users, groups, and roles\n",
    "- Describe the different types of security credentials in IAM\n",
    "- Identify the steps in securing a new AWS account\n",
    "- Explore IAM users and groups\n",
    "- Recognize how to secure AWS data\n",
    "- Recognize AWS compliance programs"
   ]
  },
  {
   "cell_type": "markdown",
   "id": "7f58eecc-1b54-4059-9956-4b7810defd40",
   "metadata": {},
   "source": [
    "<hr style=\"height:10px;border-width:0;color:gray;background-color:gray\">\n",
    "\n",
    "# Page 24 - Key Terms<a class=\"anchor\" id=\"DS107L2_page_24\"></a>\n",
    "\n",
    "[Back to Top](#DS107L2_toc)\n",
    "\n",
    "<hr style=\"height:10px;border-width:0;color:gray;background-color:gray\">"
   ]
  },
  {
   "cell_type": "markdown",
   "id": "185fc981-dd3f-4600-8dbd-d686dfcaf173",
   "metadata": {},
   "source": [
    "Below is a list and short description of the important keywords learned in this lesson. Please read through and go back and review any concepts you do not fully understand. \n",
    "\n",
    "<table class=\"table table-striped\">\n",
    "    <tr>\n",
    "        <th>Keyword</th>\n",
    "        <th>Description</th>\n",
    "    </tr>\n",
    "    <tr>\n",
    "        <td style=\"font-weight: bold;\" nowrap>AWS Region</td>\n",
    "        <td>Separate geographic areas that AWS uses to house its infrastructure. These are distributed around the world so that customers can choose a region closest to them in order to host their cloud infrastructure there.</td>\n",
    "    </tr>\n",
    "    <tr>\n",
    "        <td style=\"font-weight: bold;\" nowrap>AWS Availability Zone (AZ)</td>\n",
    "        <td>Distinct locations within an AWS Region that are engineered to be isolated from failures in other Availability Zones. They provide inexpensive, low-latency network connectivity to other Availability Zones in the same AWS Region.</td>\n",
    "    </tr>\n",
    "    <tr>\n",
    "        <td style=\"font-weight: bold;\" nowrap>AWS Edge Locations</td>\n",
    "        <td>A site that CloudFront uses to cache copies of your content for faster delivery to users at any location.</td>\n",
    "    </tr>\n",
    "    <tr>\n",
    "        <td style=\"font-weight: bold;\" nowrap>AWS Data Center</td>\n",
    "        <td>Physical facility that Amazon uses to house their critical applications and data.</td>\n",
    "    </tr>\n",
    "    <tr>\n",
    "        <td style=\"font-weight: bold;\" nowrap>Amazon Cloudfront</td>\n",
    "        <td> web service that speeds up distribution of your static and dynamic web content, such as .html, .css, .js, and image files, to your users. CloudFront delivers your content through a worldwide network of data centers called edge locations.</td>\n",
    "    </tr>\n",
    "    <tr>\n",
    "        <td style=\"font-weight: bold;\" nowrap>Amazon S3 (Simple Storage Service)</td>\n",
    "        <td>An object storage service offering industry-leading scalability, data availability, security, and performance.</td>\n",
    "    </tr>\n",
    "    <tr>\n",
    "        <td style=\"font-weight: bold;\" nowrap>Amazon EBS (Elastic Block Store)</td>\n",
    "        <td>Provides block level storage volumes for use with EC2 instances. </td>\n",
    "    </tr>\n",
    "    <tr>\n",
    "        <td style=\"font-weight: bold;\" nowrap>Amazon EFS (Elastic File System)</td>\n",
    "        <td>Provides a simple, serverless, set-and-forget elastic file system for use with AWS Cloud services and on-premises resources. It is built to scale on demand.</td>\n",
    "    </tr>\n",
    "    <tr>\n",
    "        <td style=\"font-weight: bold;\" nowrap>AWS Glacier</td>\n",
    "        <td>A secure, durable, and extremely low-cost Amazon S3 storage class for data archiving and long-term backup.</td>\n",
    "    </tr>\n",
    "    <tr>\n",
    "        <td style=\"font-weight: bold;\" nowrap>AWS Storage Gateway</td>\n",
    "        <td>Hybrid cloud storage service that gives you on-premises access to virtually unlimited cloud storage.</td>\n",
    "    </tr>\n",
    "    <tr>\n",
    "        <td style=\"font-weight: bold;\" nowrap>Amazon EC2 (Elastic Compute Cloud)</td>\n",
    "        <td>Provides scalable computing capacity in the Amazon Web Services (AWS) Cloud.</td>\n",
    "    </tr>\n",
    "    <tr>\n",
    "        <td style=\"font-weight: bold;\" nowrap>Amazon EC2 Auto Scaling</td>\n",
    "        <td>Helps you maintain application availability and allows you to automatically add or remove EC2 instances according to conditions you define. You can use the fleet management features of EC2 Auto Scaling to maintain the health and availability of your fleet.</td>\n",
    "    </tr>\n",
    "    <tr>\n",
    "        <td style=\"font-weight: bold;\" nowrap>Amazon ECS (Elastic Container Service)</td>\n",
    "        <td>A highly scalable and fast container management service. You can use it to run, stop, and manage containers on a cluster.</td>\n",
    "    </tr>\n",
    "    <tr>\n",
    "        <td style=\"font-weight: bold;\" nowrap>Amazon EC2 Container Registry</td>\n",
    "        <td>A fully-managed Docker container registry, making it easy for developers to store, manage, and deploy container images.</td>\n",
    "    </tr>\n",
    "    <tr>\n",
    "        <td style=\"font-weight: bold;\" nowrap>AWS Elastic Beanstalk</td>\n",
    "        <td>An easy-to-use service for deploying and scaling web applications and services developed with Java, .NET, PHP, Node.js, Python, Ruby, Go, and Docker on familiar servers such as Apache, Nginx, Passenger, and IIS.</td>\n",
    "    </tr>\n",
    "    <tr>\n",
    "        <td style=\"font-weight: bold;\" nowrap>AWS Lambda</td>\n",
    "        <td>A compute service that lets you build applications that respond quickly to new information and events.</td>\n",
    "    </tr>\n",
    "    <tr>\n",
    "        <td style=\"font-weight: bold;\" nowrap>Amazon EKS (Elastic Kubernetes Service)</td>\n",
    "        <td>A managed Kubernetes service that makes it easy for you to run Kubernetes on AWS and on-premises. Kubernetes is an open-source system for automating deployment, scaling, and management of containerized applications.</td>\n",
    "    </tr>\n",
    "    <tr>\n",
    "        <td style=\"font-weight: bold;\" nowrap>AWS Fargate</td>\n",
    "        <td>A serverless, pay-as-you-go compute engine that lets you focus on building applications without managing servers.</td>\n",
    "    </tr>\n",
    "    <tr>\n",
    "        <td style=\"font-weight: bold;\" nowrap>Amazon RDS (Relational Database Service)</td>\n",
    "        <td>A managed relational database service that provides you six familiar database engines to choose from, including Amazon Aurora, MySQL, MariaDB, Oracle, Microsoft SQL Server, and PostgreSQL.</td>\n",
    "    </tr>\n",
    "    <tr>\n",
    "        <td style=\"font-weight: bold;\" nowrap>Amazon Aurora</td>\n",
    "        <td>A fully managed relational database engine that's compatible with MySQL and PostgreSQL. </td>\n",
    "    </tr>\n",
    "    <tr>\n",
    "        <td style=\"font-weight: bold;\" nowrap>Amazon DynamoDB</td>\n",
    "        <td>A fully managed, serverless, key-value NoSQL database designed to run high-performance applications at any scale. DynamoDB offers built-in security, continuous backups, automated multi-region replication, in-memory caching, and data export tools.</td>\n",
    "    </tr>\n",
    "    <tr>\n",
    "        <td style=\"font-weight: bold;\" nowrap>Amazon Redshift</td>\n",
    "        <td>A fully managed, petabyte-scale data warehouse service in the cloud.</td>\n",
    "    </tr>\n",
    "    <tr>\n",
    "        <td style=\"font-weight: bold;\" nowrap>Amazon VPC (Virtual Private Cloud)</td>\n",
    "        <td>Enables you to launch AWS resources into a virtual network that you've defined. This virtual network closely resembles a traditional network that you'd operate in your own data center, with the benefits of using the scalable infrastructure of AWS.</td>\n",
    "    </tr>\n",
    "    <tr>\n",
    "        <td style=\"font-weight: bold;\" nowrap>Elastic Load Balancing</td>\n",
    "        <td>Automatically distributes incoming application traffic across multiple targets and virtual appliances in one or more Availability Zones.</td>\n",
    "    </tr>\n",
    "    <tr>\n",
    "        <td style=\"font-weight: bold;\" nowrap>AWS Transit Gateway</td>\n",
    "        <td>A network transit hub that you can use to interconnect your virtual private clouds (VPCs) and on-premises networks.</td>\n",
    "    </tr>\n",
    "    <tr>\n",
    "        <td style=\"font-weight: bold;\" nowrap>Amazon Route 53</td>\n",
    "        <td>A highly available and scalable cloud Domain Name System (DNS) web service.</td>\n",
    "    </tr>\n",
    "    <tr>\n",
    "        <td style=\"font-weight: bold;\" nowrap>AWS Direct Connect</td>\n",
    "        <td>A network service that provides an alternative to using the Internet to utilize AWS cloud services. AWS Direct Connect enables customers to have low latency, secure and private connections to AWS for workloads which require higher speed or lower latency than the internet.</td>\n",
    "    </tr>\n",
    "    <tr>\n",
    "        <td style=\"font-weight: bold;\" nowrap>AWS VPN (Virtual Private Network)</td>\n",
    "        <td>Establishes encrypted connections between your network or device and AWS.</td>\n",
    "    </tr>\n",
    "    <tr>\n",
    "        <td style=\"font-weight: bold;\" nowrap>AWS IAM (Identity and Access Management)</td>\n",
    "        <td>Provides fine-grained access control across all of AWS. With IAM, you can specify who can access which services and resources, and under which conditions.</td>\n",
    "    </tr>\n",
    "    <tr>\n",
    "        <td style=\"font-weight: bold;\" nowrap>AWS Organizations</td>\n",
    "        <td>An account management service that enables you to consolidate multiple AWS accounts into an organization that you create and centrally manage. AWS Organizations includes account management and consolidated billing capabilities.</td>\n",
    "    </tr>\n",
    "    <tr>\n",
    "        <td style=\"font-weight: bold;\" nowrap>Amazon Artifact</td>\n",
    "        <td>Provides on-demand downloads of AWS security and compliance documents, such as AWS ISO certifications, Payment Card Industry (PCI), and Service Organization Control (SOC) reports.</td>\n",
    "    </tr>\n",
    "    <tr>\n",
    "        <td style=\"font-weight: bold;\" nowrap>AWS Cognito</td>\n",
    "        <td>Lets you add user sign-up, sign-in, and access control to your web and mobile apps quickly and easily. Amazon Cognito scales to millions of users and supports sign-in with social identity providers, such as Apple, Facebook, Google, and Amazon, and enterprise identity providers via SAML 2.0 and OpenID Connect.</td>\n",
    "    </tr>\n",
    "    <tr>\n",
    "        <td style=\"font-weight: bold;\" nowrap>AWS KMS (Key Management Service)</td>\n",
    "        <td>A managed service that makes it easy for you to create and control the cryptographic keys that are used to protect your data.</td>\n",
    "    </tr>\n",
    "    <tr>\n",
    "        <td style=\"font-weight: bold;\" nowrap>AWS Shield</td>\n",
    "        <td>A managed Distributed Denial of Service (DDoS) protection service that safeguards applications running on AWS. AWS Shield provides always-on detection and automatic inline mitigations that minimize application downtime and latency, so there is no need to engage AWS Support to benefit from DDoS protection.</td>\n",
    "    </tr>\n",
    "    <tr>\n",
    "        <td style=\"font-weight: bold;\" nowrap>Amazon Detective</td>\n",
    "        <td>Makes it easy to analyze, investigate, and quickly identify the root cause of potential security issues or suspicious activities. Amazon Detective automatically collects log data from your AWS resources and uses machine learning, statistical analysis, and graph theory to build a linked set of data that enables you to easily conduct faster and more efficient security investigations.\n",
    "\n",
    "</td>\n",
    "    </tr>\n",
    "    <tr>\n",
    "        <td style=\"font-weight: bold;\" nowrap>Amazon GuardDuty</td>\n",
    "        <td>A continuous security monitoring service that analyzes and processes the following Data sources: VPC Flow Logs, AWS CloudTrail management event logs, CloudTrail S3 data event logs, and DNS logs.</td>\n",
    "    </tr>\n",
    "    <tr>\n",
    "        <td style=\"font-weight: bold;\" nowrap>AWS Cost and Usage Report</td>\n",
    "        <td>Tracks your AWS usage and provides estimated charges associated with your account.</td>\n",
    "    </tr>\n",
    "    <tr>\n",
    "        <td style=\"font-weight: bold;\" nowrap>AWS Budgets</td>\n",
    "        <td>Gives you the ability to set custom budgets that alert you when your costs or usage exceed (or are forecasted to exceed) your budgeted amount. You can also use AWS Budgets to set reservation utilization or coverage targets and receive alerts when your metrics drop below the threshold you define.</td>\n",
    "    </tr>\n",
    "    <tr>\n",
    "        <td style=\"font-weight: bold;\" nowrap>AWS Cost Explorer</td>\n",
    "        <td>A tool that enables you to view and analyze your costs and usage. You can explore your usage and costs using the main graph, the Cost Explorer cost and usage reports, or the Cost Explorer RI reports. You can view data for up to the last 12 months.</td>\n",
    "    </tr>\n",
    "    <tr>\n",
    "        <td style=\"font-weight: bold;\" nowrap>AWS Management Console</td>\n",
    "        <td>A browser-based GUI for Amazon Web Services (AWS). Through the console, a customer can manage their cloud computing, cloud storage and other resources running on the Amazon Web Services infrastructure.</td>\n",
    "    </tr>\n",
    "    <tr>\n",
    "        <td style=\"font-weight: bold;\" nowrap>AWS Config</td>\n",
    "        <td>A service that enables you to assess, audit, and evaluate the configurations of your AWS resources. Config continuously monitors and records your AWS resource configurations and allows you to automate the evaluation of recorded configurations against desired configurations.</td>\n",
    "    </tr>\n",
    "    <tr>\n",
    "        <td style=\"font-weight: bold;\" nowrap>Amazon CloudWatch</td>\n",
    "        <td>A monitoring and management service that provides data and actionable insights for AWS, hybrid, and on-premises applications and infrastructure resources.</td>\n",
    "    </tr>\n",
    "    <tr>\n",
    "        <td style=\"font-weight: bold;\" nowrap>AWS Auto Scaling</td>\n",
    "        <td>Monitors your applications and automatically adjusts capacity to maintain steady, predictable performance at the lowest possible cost. Using AWS Auto Scaling, it’s easy to setup application scaling for multiple resources across multiple services in minutes.</td>\n",
    "    </tr>\n",
    "    <tr>\n",
    "        <td style=\"font-weight: bold;\" nowrap>AWS CLI (Command Line Interface)</td>\n",
    "        <td>A unified tool to manage your AWS services. With just one tool to download and configure, you can control multiple AWS services from the command line and automate them through scripts.</td>\n",
    "    </tr>\n",
    "    <tr>\n",
    "        <td style=\"font-weight: bold;\" nowrap>AWS Trusted Advisor</td>\n",
    "        <td>Provides recommendations that help you follow AWS best practices. Trusted Advisor evaluates your account by using checks. These checks identify ways to optimize your AWS infrastructure, improve security and performance, reduce costs, and monitor service quotas.</td>\n",
    "    </tr>\n",
    "    <tr>\n",
    "        <td style=\"font-weight: bold;\" nowrap>AWS Well-Architected Tool</td>\n",
    "        <td>A service in the cloud that provides a consistent process for measuring your architecture using AWS best practices.</td>\n",
    "    </tr>\n",
    "    <tr>\n",
    "        <td style=\"font-weight: bold;\" nowrap>AWS CloudTrail</td>\n",
    "        <td>Helps you enable governance, compliance, and operational and risk auditing of your AWS account. Actions taken by a user, role, or an AWS service are recorded as events in CloudTrail.</td>\n",
    "    </tr>\n",
    "</table>\n"
   ]
  },
  {
   "cell_type": "markdown",
   "id": "d0dc37bd-9a77-43c9-a45d-ed4d74925e86",
   "metadata": {},
   "source": [
    "<hr style=\"height:10px;border-width:0;color:gray;background-color:gray\">\n",
    "\n",
    "# Page 25 - Complete AWS Academy Lab and Exam 2<a class=\"anchor\" id=\"DS107L2_page_25\"></a>\n",
    "\n",
    "[Back to Top](#DS107L2_toc)\n",
    "\n",
    "<hr style=\"height:10px;border-width:0;color:gray;background-color:gray\">"
   ]
  },
  {
   "cell_type": "markdown",
   "id": "78a97265-ce7a-4697-81b4-ae71f8527c4b",
   "metadata": {
    "tags": []
   },
   "source": [
    "## Complete AWS Academy Lab 1 and Exam 2:\n",
    "\n",
    "- Lab 1 - Introduction to AWS IAM\n",
    "\n",
    "Answer the Exam questions that are based on this lab and activity.\n",
    "\n",
    "<div class=\"panel panel-danger\">\n",
    "    <div class=\"panel-heading\">\n",
    "        <h3 class=\"panel-title\">Caution!</h3>\n",
    "    </div>\n",
    "    <div class=\"panel-body\">\n",
    "        <p>Do not complete your exam until you have completed all requirements, as you will not be able to resubmit.</p>\n",
    "    </div>\n",
    "</div>\n",
    "\n",
    "TODO: Add 40 question exam that pulls from various sections of the Lesson to include questions only answerable after completing the labs. \n"
   ]
  },
  {
   "cell_type": "code",
   "execution_count": null,
   "id": "beb95109-c32b-4237-b3b8-7a35d416a715",
   "metadata": {},
   "outputs": [],
   "source": []
  }
 ],
 "metadata": {
  "kernelspec": {
   "display_name": "Python 3 (ipykernel)",
   "language": "python",
   "name": "python3"
  },
  "language_info": {
   "codemirror_mode": {
    "name": "ipython",
    "version": 3
   },
   "file_extension": ".py",
   "mimetype": "text/x-python",
   "name": "python",
   "nbconvert_exporter": "python",
   "pygments_lexer": "ipython3",
   "version": "3.9.13"
  }
 },
 "nbformat": 4,
 "nbformat_minor": 5
}
