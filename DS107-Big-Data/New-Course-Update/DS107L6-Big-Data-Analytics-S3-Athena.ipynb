{
 "cells": [
  {
   "cell_type": "markdown",
   "id": "50e6ddbb-52d3-4a02-9b69-100a4181e3b0",
   "metadata": {},
   "source": [
    "# DS107 Big Data : Lesson Six Companion Notebook"
   ]
  },
  {
   "cell_type": "markdown",
   "id": "d1bd4bfc-9b15-4b80-87b4-b8b60eb56371",
   "metadata": {},
   "source": [
    "### Table of Contents <a class=\"anchor\" id=\"DS107L6_toc\"></a>\n",
    "\n",
    "* [Table of Contents](#DS107L6_toc)\n",
    "    * [Page 1 - Introduction](#DS107L6_page_1)\n",
    "    * [Page 2 - Streaming Data](#DS107L6_page_2)\n",
    "    * [Page 3 - Kafka](#DS107L6_page_3)\n",
    "    * [Page 4 - Apache Flume](#DS107L6_page_4)\n",
    "    * [Page 5 - Spark Streaming](#DS107L6_page_5)\n",
    "    * [Page 6 - Apache Storm](#DS107L6_page_6)\n",
    "    * [Page 7 - Flink](#DS107L6_page_7)\n",
    "    * [Page 8 - Cluster Redundancy](#DS107L6_page_8)\n",
    "    * [Page 9 - Zookeeper](#DS107L6_page_9)\n",
    "    * [Page 10 - Key Terms](#DS107L6_page_10)\n",
    "    * [Page 11 - Lesson 6 Hands-On](#DS107L6_page_11)\n",
    "    "
   ]
  },
  {
   "cell_type": "markdown",
   "id": "ef5a8c65-ed48-4354-a257-e01b0fd733d4",
   "metadata": {},
   "source": [
    "<hr style=\"height:10px;border-width:0;color:gray;background-color:gray\">\n",
    "\n",
    "# Page 1 - Overview of this Module<a class=\"anchor\" id=\"DS107L6_page_1\"></a>\n",
    "\n",
    "[Back to Top](#DS107L6_toc)\n",
    "\n",
    "<hr style=\"height:10px;border-width:0;color:gray;background-color:gray\">"
   ]
  },
  {
   "cell_type": "markdown",
   "id": "f632fc7b-0905-426e-b749-5edeca901bf2",
   "metadata": {},
   "source": []
  },
  {
   "cell_type": "markdown",
   "id": "7990ac7a-5a2f-4744-af14-1b7e385ea484",
   "metadata": {},
   "source": [
    "<hr style=\"height:10px;border-width:0;color:gray;background-color:gray\">\n",
    "\n",
    "# Page 2 - Streaming Data<a class=\"anchor\" id=\"DS107L6_page_2\"></a>\n",
    "\n",
    "[Back to Top](#DS107L6_toc)\n",
    "\n",
    "<hr style=\"height:10px;border-width:0;color:gray;background-color:gray\">\n"
   ]
  },
  {
   "cell_type": "markdown",
   "id": "832358fd-55fa-420a-8aa2-46fbf2097986",
   "metadata": {},
   "source": [
    "<hr style=\"height:10px;border-width:0;color:gray;background-color:gray\">\n",
    "\n",
    "# Page 3 - Kafka<a class=\"anchor\" id=\"DS107L6_page_3\"></a>\n",
    "\n",
    "[Back to Top](#DS107L6_toc)\n",
    "\n",
    "<hr style=\"height:10px;border-width:0;color:gray;background-color:gray\">\n"
   ]
  },
  {
   "cell_type": "markdown",
   "id": "4ef4ac6d-6d08-4163-901c-3216ed9c823d",
   "metadata": {},
   "source": []
  }
 ],
 "metadata": {
  "kernelspec": {
   "display_name": "Python 3 (ipykernel)",
   "language": "python",
   "name": "python3"
  },
  "language_info": {
   "codemirror_mode": {
    "name": "ipython",
    "version": 3
   },
   "file_extension": ".py",
   "mimetype": "text/x-python",
   "name": "python",
   "nbconvert_exporter": "python",
   "pygments_lexer": "ipython3",
   "version": "3.9.13"
  }
 },
 "nbformat": 4,
 "nbformat_minor": 5
}
