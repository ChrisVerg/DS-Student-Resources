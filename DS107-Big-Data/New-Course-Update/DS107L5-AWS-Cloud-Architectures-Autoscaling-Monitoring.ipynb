{
 "cells": [
  {
   "cell_type": "markdown",
   "id": "50e6ddbb-52d3-4a02-9b69-100a4181e3b0",
   "metadata": {},
   "source": [
    "# DS107 Big Data : AWS Cloud Architectures Autoscaling and Monitoring"
   ]
  },
  {
   "cell_type": "markdown",
   "id": "d1bd4bfc-9b15-4b80-87b4-b8b60eb56371",
   "metadata": {},
   "source": [
    "### Table of Contents <a class=\"anchor\" id=\"DS107L5_toc\"></a>\n",
    "\n",
    "* [Table of Contents](#DS107L5_toc)\n",
    "    * [Page 1 - Overview of Cloud Architecture](#DS107L5_page_1)\n",
    "    * [Page 2 - AWS Well-Architected Framework Design Principles](#DS107L5_page_2)\n",
    "    * [Page 3 - Operational Excellence](#DS107L5_page_3)\n",
    "    * [Page 4 - Security](#DS107L5_page_4)\n",
    "    * [Page 5 - Reliability](#DS107L5_page_5)\n",
    "    * [Page 6 - Performance Efficiency](#DS107L5_page_6)\n",
    "    * [Page 7 - Cost Optimization](#DS107L5_page_7)\n",
    "    * [Page 8 - Reliability & High Availability](#DS107L5_page_8)\n",
    "    * [Page 9 - AWS Trusted Advisor](#DS107L5_page_9)\n",
    "    * [Page 10 - Summary of Cloud Architecture](#DS107L5_page_10)\n",
    "    * [Page 11 - Overview of Autoscaling and Monitoring](#DS107L5_page_11)\n",
    "    * [Page 12 - Elastic Load Balancing](#DS107L5_page_12)\n",
    "    * [Page 13 - Amazon CloudWatch](#DS107L5_page_13)\n",
    "    * [Page 14 - Amazon EC2 Auto Scaling](#DS107L5_page_14)\n",
    "    * [Page 15 - Lab 6 - Scale & Load Balance your Architecture](#DS107L5_page_15)\n",
    "    * [Page 16 - Summary of Autoscaling and Monitoring](#DS107L5_page_16)\n",
    "    * [Page 17 - Key Terms](#DS107L5_page_17)\n",
    "    "
   ]
  },
  {
   "cell_type": "markdown",
   "id": "ef5a8c65-ed48-4354-a257-e01b0fd733d4",
   "metadata": {},
   "source": [
    "<hr style=\"height:10px;border-width:0;color:gray;background-color:gray\">\n",
    "\n",
    "# Page 1 - Overview of Cloud Architecture<a class=\"anchor\" id=\"DS107L5_page_1\"></a>\n",
    "\n",
    "[Back to Top](#DS107L5_toc)\n",
    "\n",
    "<hr style=\"height:10px;border-width:0;color:gray;background-color:gray\">"
   ]
  },
  {
   "cell_type": "markdown",
   "id": "c501d34a-9bcf-4ecc-9647-b46536e4b646",
   "metadata": {},
   "source": [
    "<p style=\"text-align: center\">\n",
    "  <img  src=\"Media/AWS-Well-Architected-Framework.png\" width=\"600\" alt=\"AWS-Well-Architected-Framework\">\n",
    "</p>\n",
    "\n",
    "Architecture is the art and science of designing and building large structures. Large systems require architects to manage their size and complexity. What do cloud architects do? Cloud architects engage with decision makers to identify the business goal and the capabilities that need improvement. They ensure alignment between technology deliverables of a solution and the business goals. They work with delivery teams that are implementing the solution to ensure that the technology features are appropriate. The AWS Well-Architected Framework is a guide that is designed to help you build the most secure, high-performing, resilient and efficient infrastructure possible for your cloud applications and workloads. It provides a set of foundational questions and the best practices that can help you evaluate and implement your cloud architectures. AWS developed the Well-Architected Framework after reviewing thousands of customer architectures on AWS. "
   ]
  },
  {
   "cell_type": "markdown",
   "id": "7990ac7a-5a2f-4744-af14-1b7e385ea484",
   "metadata": {},
   "source": [
    "<hr style=\"height:10px;border-width:0;color:gray;background-color:gray\">\n",
    "\n",
    "# Page 2 - AWS Well-Architected Framework Design Principles<a class=\"anchor\" id=\"DS107L5_page_2\"></a>\n",
    "\n",
    "[Back to Top](#DS107L5_toc)\n",
    "\n",
    "<hr style=\"height:10px;border-width:0;color:gray;background-color:gray\">\n"
   ]
  },
  {
   "cell_type": "markdown",
   "id": "725956e7-f3db-4ded-aa37-78a72ad3d301",
   "metadata": {},
   "source": [
    "### The AWS Well-Architected Framework\n",
    "- A guide for designing architectures that are\n",
    "    - Secure\n",
    "    - High-performing\n",
    "    - Resilient\n",
    "    - Efficient\n",
    "- A consistent approach to evaluating and implementing cloud architectures\n",
    "- A way to provide best practices that were developed through lessons learned by reviewing customer architectures\n",
    "\n",
    "<p style=\"text-align: center\">\n",
    "  <img  src=\"Media/AWS-Five-Pillars.png\" width=\"600\" alt=\"AWS-Five-Pillars\">\n",
    "</p>\n",
    "\n",
    "The AWS Well-Architected Framework is organized into five pillars. Each pillar includes a set of design principles and best practices. In each best practice area, there are a set of foundational questions. Some context and a list of best practices are provided for each question. "
   ]
  },
  {
   "cell_type": "markdown",
   "id": "832358fd-55fa-420a-8aa2-46fbf2097986",
   "metadata": {},
   "source": [
    "<hr style=\"height:10px;border-width:0;color:gray;background-color:gray\">\n",
    "\n",
    "# Page 3 - Operational Excellence<a class=\"anchor\" id=\"DS107L5_page_3\"></a>\n",
    "\n",
    "[Back to Top](#DS107L5_toc)\n",
    "\n",
    "<hr style=\"height:10px;border-width:0;color:gray;background-color:gray\">\n"
   ]
  },
  {
   "cell_type": "markdown",
   "id": "d482037c-83c2-4715-acfa-a587fadb09d7",
   "metadata": {},
   "source": [
    "<p style=\"text-align: center\">\n",
    "  <img  src=\"Media/AWS-Operational-Excellence-Pillar.png\" width=\"200\" alt=\"AWS-Operational-Excellence\">\n",
    "</p>\n",
    "\n",
    "- The Operational Excellence pillar focuses on the ability to run and systems to deliver business value and to continually improve operations. \n",
    "\n",
    "- Key topics include managing and automating changes, responding to events, and defining standards to successfully manage daily operations.\n",
    "\n",
    "### There are six design principles for Operational Excellence:\n",
    "- Perform operations as code\n",
    "    - This is where you define your entire workload, that is applications and infrastructure, as code.\n",
    "    - By performing operations as code, you limit human error and enable consistent responses to events.\n",
    "- Annotate documentation\n",
    "    - Here you focus on automating the creation of annotation documentation after every build.\n",
    "    - Annotations can be used as input to your operations as code.\n",
    "- Make frequent small reversible changes \n",
    "    - You should design workloads to enable components to be updated regularly.\n",
    "    - Make changes in small increments that can be reversed if they fail.\n",
    "- Refine operations procedures frequently\n",
    "    - Here you look for opportunities to improve operations procedures and update them as they evolve.\n",
    "- Anticipate failure\n",
    "    - This is where you identify potential sources of failure so that they can be removed or mitigated.\n",
    "    - Test failure scenarios and validate your understanding of their impact regularly.\n",
    "- Learn from all operational events and failures\n",
    "    - This is what you share what is learned across teams and throughout the entire organization.\n",
    "    \n",
    "### Operational \n",
    "<p style=\"text-align: center\">\n",
    "  <img  src=\"Media/AWS-Operational-Questions.png\" width=\"600\" alt=\"AWS-Five-Pillars\">\n",
    "</p>\n"
   ]
  },
  {
   "cell_type": "markdown",
   "id": "bb1aade2-59af-4cbc-b5ed-da31e39f266d",
   "metadata": {},
   "source": [
    "<hr style=\"height:10px;border-width:0;color:gray;background-color:gray\">\n",
    "\n",
    "# Page 4 - Security<a class=\"anchor\" id=\"DS107L5_page_4\"></a>\n",
    "\n",
    "[Back to Top](#DS107L5_toc)\n",
    "\n",
    "<hr style=\"height:10px;border-width:0;color:gray;background-color:gray\">\n"
   ]
  },
  {
   "cell_type": "markdown",
   "id": "48395da3-8f95-4508-b106-64825e58d84f",
   "metadata": {},
   "source": [
    "<p style=\"text-align: center\">\n",
    "  <img  src=\"Media/AWS-Five-Pillars.png\" width=\"200\" alt=\"AWS-Five-Pillars\">\n",
    "</p>"
   ]
  },
  {
   "cell_type": "markdown",
   "id": "ead4ad3c-2fe6-457e-8924-1410e951bebd",
   "metadata": {},
   "source": [
    "<hr style=\"height:10px;border-width:0;color:gray;background-color:gray\">\n",
    "\n",
    "# Page 5 - Reliability<a class=\"anchor\" id=\"DS107L5_page_5\"></a>\n",
    "\n",
    "[Back to Top](#DS107L5_toc)\n",
    "\n",
    "<hr style=\"height:10px;border-width:0;color:gray;background-color:gray\">\n"
   ]
  },
  {
   "cell_type": "markdown",
   "id": "62b7e195-7911-4dd1-8bfc-ade27b504239",
   "metadata": {},
   "source": [
    "<p style=\"text-align: center\">\n",
    "  <img  src=\"Media/AWS-Five-Pillars.png\" width=\"600\" alt=\"AWS-Five-Pillars\">\n",
    "</p>"
   ]
  },
  {
   "cell_type": "markdown",
   "id": "dd9e3b8a-9224-447f-8cf7-5035cae86421",
   "metadata": {},
   "source": [
    "<hr style=\"height:10px;border-width:0;color:gray;background-color:gray\">\n",
    "\n",
    "# Page 6 - Performance Efficiency<a class=\"anchor\" id=\"DS107L5_page_6\"></a>\n",
    "\n",
    "[Back to Top](#DS107L5_toc)\n",
    "\n",
    "<hr style=\"height:10px;border-width:0;color:gray;background-color:gray\">\n"
   ]
  },
  {
   "cell_type": "markdown",
   "id": "5634d080-0b4d-406b-937b-5d6f28e8c3df",
   "metadata": {},
   "source": [
    "<p style=\"text-align: center\">\n",
    "  <img  src=\"Media/AWS-Five-Pillars.png\" width=\"600\" alt=\"AWS-Five-Pillars\">\n",
    "</p>"
   ]
  },
  {
   "cell_type": "markdown",
   "id": "42cb7d8a-aced-42e5-ac24-32acf8c95473",
   "metadata": {},
   "source": [
    "<hr style=\"height:10px;border-width:0;color:gray;background-color:gray\">\n",
    "\n",
    "# Page 7 - Cost Optimization<a class=\"anchor\" id=\"DS107L5_page_7\"></a>\n",
    "\n",
    "[Back to Top](#DS107L5_toc)\n",
    "\n",
    "<hr style=\"height:10px;border-width:0;color:gray;background-color:gray\">\n"
   ]
  },
  {
   "cell_type": "markdown",
   "id": "5957f5a4-a563-4aec-93b9-2f5c6168a43a",
   "metadata": {},
   "source": [
    "<p style=\"text-align: center\">\n",
    "  <img  src=\"Media/AWS-Five-Pillars.png\" width=\"600\" alt=\"AWS-Five-Pillars\">\n",
    "</p>"
   ]
  },
  {
   "cell_type": "markdown",
   "id": "d7b3f800-0a14-4d13-8c32-390965c537ca",
   "metadata": {},
   "source": [
    "<hr style=\"height:10px;border-width:0;color:gray;background-color:gray\">\n",
    "\n",
    "# Page 8 - Reliability & High Availability<a class=\"anchor\" id=\"DS107L5_page_8\"></a>\n",
    "\n",
    "[Back to Top](#DS107L5_toc)\n",
    "\n",
    "<hr style=\"height:10px;border-width:0;color:gray;background-color:gray\">\n"
   ]
  },
  {
   "cell_type": "markdown",
   "id": "85734bad-8206-41ef-b274-52a87f537263",
   "metadata": {},
   "source": []
  },
  {
   "cell_type": "markdown",
   "id": "36943bcd-7e16-4af1-97d3-c09e81ae5e99",
   "metadata": {},
   "source": [
    "<hr style=\"height:10px;border-width:0;color:gray;background-color:gray\">\n",
    "\n",
    "# Page 9 - AWS Trusted Advisor<a class=\"anchor\" id=\"DS107L5_page_9\"></a>\n",
    "\n",
    "[Back to Top](#DS107L5_toc)\n",
    "\n",
    "<hr style=\"height:10px;border-width:0;color:gray;background-color:gray\">\n"
   ]
  },
  {
   "cell_type": "markdown",
   "id": "f0a49e6f-3bbf-4c25-9468-7179877f346d",
   "metadata": {},
   "source": []
  },
  {
   "cell_type": "markdown",
   "id": "2a0d02d5-04fa-4220-9637-d02c3b32dce5",
   "metadata": {},
   "source": [
    "<hr style=\"height:10px;border-width:0;color:gray;background-color:gray\">\n",
    "\n",
    "# Page 10 - Summary of Cloud Architecture<a class=\"anchor\" id=\"DS107L5_page_10\"></a>\n",
    "\n",
    "[Back to Top](#DS107L5_toc)\n",
    "\n",
    "<hr style=\"height:10px;border-width:0;color:gray;background-color:gray\">"
   ]
  },
  {
   "cell_type": "markdown",
   "id": "f7fb653d-f63b-4070-bf26-87ed3f603964",
   "metadata": {},
   "source": []
  },
  {
   "cell_type": "markdown",
   "id": "e2e8d1ec-4e4b-44c7-9fe0-5966ac031d1c",
   "metadata": {},
   "source": [
    "<hr style=\"height:10px;border-width:0;color:gray;background-color:gray\">\n",
    "\n",
    "# Page 11 - Overview of Autoscaling and Monitoring<a class=\"anchor\" id=\"DS107L5_page_11\"></a>\n",
    "\n",
    "[Back to Top](#DS107L5_toc)\n",
    "\n",
    "<hr style=\"height:10px;border-width:0;color:gray;background-color:gray\">"
   ]
  },
  {
   "cell_type": "markdown",
   "id": "88b5a75b-ec28-4ea5-9da5-b4da6dcaecb2",
   "metadata": {},
   "source": []
  },
  {
   "cell_type": "markdown",
   "id": "7503c0dc-0264-483b-a17a-5013b40a88ab",
   "metadata": {},
   "source": [
    "<hr style=\"height:10px;border-width:0;color:gray;background-color:gray\">\n",
    "\n",
    "# Page 12 -  Elastic Load Balancing<a class=\"anchor\" id=\"DS107L5_page_12\"></a>\n",
    "\n",
    "[Back to Top](#DS107L5_toc)\n",
    "\n",
    "<hr style=\"height:10px;border-width:0;color:gray;background-color:gray\">"
   ]
  },
  {
   "cell_type": "markdown",
   "id": "c6db27a8-ad7c-435c-bbeb-a3f381406246",
   "metadata": {},
   "source": []
  },
  {
   "cell_type": "markdown",
   "id": "9af90f2f-0fd0-4c5b-887e-bbb62198a9bb",
   "metadata": {},
   "source": [
    "<hr style=\"height:10px;border-width:0;color:gray;background-color:gray\">\n",
    "\n",
    "# Page 13 - Amazon CloudWatch<a class=\"anchor\" id=\"DS107L5_page_13\"></a>\n",
    "\n",
    "[Back to Top](#DS107L5_toc)\n",
    "\n",
    "<hr style=\"height:10px;border-width:0;color:gray;background-color:gray\">"
   ]
  },
  {
   "cell_type": "markdown",
   "id": "bcafe1f3-35a9-4ff2-83ba-597663f8024e",
   "metadata": {},
   "source": []
  },
  {
   "cell_type": "markdown",
   "id": "4c846400-985d-465c-852a-a4c0953f6cf6",
   "metadata": {},
   "source": [
    "<hr style=\"height:10px;border-width:0;color:gray;background-color:gray\">\n",
    "\n",
    "# Page 14 - Amazon EC2 Auto Scaling<a class=\"anchor\" id=\"DS107L5_page_14\"></a>\n",
    "\n",
    "[Back to Top](#DS107L5_toc)\n",
    "\n",
    "<hr style=\"height:10px;border-width:0;color:gray;background-color:gray\">"
   ]
  },
  {
   "cell_type": "markdown",
   "id": "bcf574a9-dd92-4913-b682-55a068455e1f",
   "metadata": {},
   "source": []
  },
  {
   "cell_type": "markdown",
   "id": "5d5fd204-0b84-42fb-9c65-95344d981d75",
   "metadata": {},
   "source": [
    "<hr style=\"height:10px;border-width:0;color:gray;background-color:gray\">\n",
    "\n",
    "# Page 15 -  Lab 6 - Scale & Load Balance your Architecture<a class=\"anchor\" id=\"DS107L5_page_15\"></a>\n",
    "\n",
    "[Back to Top](#DS107L5_toc)\n",
    "\n",
    "<hr style=\"height:10px;border-width:0;color:gray;background-color:gray\">"
   ]
  },
  {
   "cell_type": "markdown",
   "id": "d4717336-e134-4cee-8f9b-9c4fd6a7b2cc",
   "metadata": {},
   "source": []
  },
  {
   "cell_type": "markdown",
   "id": "2b68d46f-8a75-4768-9cf9-4e125fd376ae",
   "metadata": {},
   "source": [
    "<hr style=\"height:10px;border-width:0;color:gray;background-color:gray\">\n",
    "\n",
    "# Page 16 - Summary of Autoscaling and Monitoring<a class=\"anchor\" id=\"DS107L5_page_16\"></a>\n",
    "\n",
    "[Back to Top](#DS107L5_toc)\n",
    "\n",
    "<hr style=\"height:10px;border-width:0;color:gray;background-color:gray\">"
   ]
  },
  {
   "cell_type": "markdown",
   "id": "45223b1a-408c-487c-9f83-13fdd4a518fc",
   "metadata": {},
   "source": []
  },
  {
   "cell_type": "markdown",
   "id": "a5fd4909-e199-48f9-9609-e793d7d4cbda",
   "metadata": {},
   "source": [
    "<hr style=\"height:10px;border-width:0;color:gray;background-color:gray\">\n",
    "\n",
    "# Page 17 - Key Terms<a class=\"anchor\" id=\"DS107L5_page_17\"></a>\n",
    "\n",
    "[Back to Top](#DS107L5_toc)\n",
    "\n",
    "<hr style=\"height:10px;border-width:0;color:gray;background-color:gray\">"
   ]
  },
  {
   "cell_type": "markdown",
   "id": "7ff12cc9-a955-463b-8a38-188129da8c98",
   "metadata": {},
   "source": []
  },
  {
   "cell_type": "markdown",
   "id": "a1ca07d0-565d-4694-8d31-0ecb4206fb24",
   "metadata": {
    "tags": []
   },
   "source": [
    "Below is a list and short description of the important keywords learned in this lesson. Please read through and go back and review any concepts you do not fully understand. Great Work!\n",
    "\n",
    "<table class=\"table table-striped\">\n",
    "    <tr>\n",
    "        <th>Keyword</th>\n",
    "        <th>Description</th>\n",
    "    </tr>\n",
    "    <tr>\n",
    "        <td style=\"font-weight: bold;\" nowrap>Spark</td>\n",
    "        <td>Data processing program built on top of MapReduce.</td>\n",
    "    </tr>\n",
    "    <tr>\n",
    "        <td style=\"font-weight: bold;\" nowrap>Spark Core</td>\n",
    "        <td>Spark base; also known as Spark 1.0.</td>\n",
    "    </tr>\n",
    "    <tr>\n",
    "        <td style=\"font-weight: bold;\" nowrap>Spark Streaming</td>\n",
    "        <td>Program to feed in real-time data and receive real-time output.</td>\n",
    "    </tr>\n",
    "    <tr>\n",
    "        <td style=\"font-weight: bold;\" nowrap>Spark SQL</td>\n",
    "        <td>Use SQL within Spark for a speed boost.</td>\n",
    "    </tr>\n",
    "    <tr>\n",
    "        <td style=\"font-weight: bold;\" nowrap>MLLib</td>\n",
    "        <td>Machine learning library for Spark.</td>\n",
    "    </tr>\n",
    "    <tr>\n",
    "        <td style=\"font-weight: bold;\" nowrap>GraphX</td>\n",
    "        <td>Social networking graphs in Spark.</td>\n",
    "    </tr>\n",
    "    <tr>\n",
    "        <td style=\"font-weight: bold;\" nowrap>Apache Zeppelin</td>\n",
    "        <td>Notebook interface for your Hadoop cluster.</td>\n",
    "    </tr>\n",
    "    <tr>\n",
    "        <td style=\"font-weight: bold;\" nowrap>Resilient Distributed Datasets (RDDs)</td>\n",
    "        <td>Data stored across your Hadoop cluster.</td>\n",
    "    </tr>\n",
    "    <tr>\n",
    "        <td style=\"font-weight: bold;\" nowrap>DataSets</td>\n",
    "        <td>Spark 2.0 data storage that allows for efficiency.</td>\n",
    "    </tr>\n",
    "    <tr>\n",
    "        <td style=\"font-weight: bold;\" nowrap>DataFrames</td>\n",
    "        <td>Spark 2.0 data storage that maintains data structure. For relational data.</td>\n",
    "    </tr>\n",
    "    <tr>\n",
    "        <td style=\"font-weight: bold;\" nowrap>Scala</td>\n",
    "        <td>Programming language that Spark was built in.</td>\n",
    "    </tr>\n",
    "    <tr>\n",
    "        <td style=\"font-weight: bold;\" nowrap>Hyperparameter</td>\n",
    "        <td>Components to the way you create your machine learning model.</td>\n",
    "    </tr>\n",
    "    <tr>\n",
    "        <td style=\"font-weight: bold;\" nowrap>Maximum Depth</td>\n",
    "        <td>The number of decisions you allow your decision tree to make.</td>\n",
    "    </tr>\n",
    "    <tr>\n",
    "        <td style=\"font-weight: bold;\" nowrap>Maximum Bins</td>\n",
    "        <td>The number of decision rules you allow your decision tree to have.</td>\n",
    "    </tr>\n",
    "    <tr>\n",
    "        <td style=\"font-weight: bold;\" nowrap>Impurity Measure</td>\n",
    "        <td>When you sort your outcomes with some mix-up.</td>\n",
    "    </tr>\n",
    "    <tr>\n",
    "        <td style=\"font-weight: bold;\" nowrap>Purity</td>\n",
    "        <td>Having separate groups that only contain the specified category.</td>\n",
    "    </tr>\n",
    "    <tr>\n",
    "        <td style=\"font-weight: bold;\" nowrap>Minimum Information Gain</td>\n",
    "        <td>Don't include a decision rule that won't make the data more pure.</td>\n",
    "    </tr>\n",
    "    <tr>\n",
    "        <td style=\"font-weight: bold;\" nowrap>Pipeline</td>\n",
    "        <td>Automatically chaining operations together.</td>\n",
    "    </tr>\n",
    "</table>\n",
    "\n",
    "---\n",
    "\n",
    "## Key Scala Code\n",
    "\n",
    "<table class=\"table table-striped\">\n",
    "    <tr>\n",
    "        <th>Keyword</th>\n",
    "        <th>Description</th>\n",
    "    </tr>\n",
    "    <tr>\n",
    "        <td style=\"font-weight: bold;\" nowrap>val</td>\n",
    "        <td>A value that cannot be changed once it has been assigned.</td>\n",
    "    </tr>\n",
    "    <tr>\n",
    "        <td style=\"font-weight: bold;\" nowrap>var</td>\n",
    "        <td>A variable that can be changed after it has been assigned.</td>\n",
    "    </tr>\n",
    "    <tr>\n",
    "        <td style=\"font-weight: bold;\" nowrap>sc</td>\n",
    "        <td>Spark Context; environment in which you can use Spark.</td>\n",
    "    </tr>\n",
    "    <tr>\n",
    "        <td style=\"font-weight: bold;\" nowrap>.map()</td>\n",
    "        <td>Provides structure for text files in Spark.</td>\n",
    "    </tr>\n",
    "    <tr>\n",
    "        <td style=\"font-weight: bold;\" nowrap>.toDF()</td>\n",
    "        <td>Changes data from an RDD to a DataFrame.</td>\n",
    "    </tr>\n",
    "    <tr>\n",
    "        <td style=\"font-weight: bold;\" nowrap>printSchema()</td>\n",
    "        <td>Prints the structure of your DataFrame.</td>\n",
    "    </tr>\n",
    "    <tr>\n",
    "        <td style=\"font-weight: bold;\" nowrap>.cache()</td>\n",
    "        <td>Keeps your data in memory so you can access it faster.</td>\n",
    "    </tr>\n",
    "    <tr>\n",
    "        <td style=\"font-weight: bold;\" nowrap>registerTempTable()</td>\n",
    "        <td>Creates a temporary table that you can use with Spark SQL.</td>\n",
    "    </tr>\n",
    "</table>"
   ]
  }
 ],
 "metadata": {
  "kernelspec": {
   "display_name": "Python 3 (ipykernel)",
   "language": "python",
   "name": "python3"
  },
  "language_info": {
   "codemirror_mode": {
    "name": "ipython",
    "version": 3
   },
   "file_extension": ".py",
   "mimetype": "text/x-python",
   "name": "python",
   "nbconvert_exporter": "python",
   "pygments_lexer": "ipython3",
   "version": "3.9.13"
  }
 },
 "nbformat": 4,
 "nbformat_minor": 5
}
