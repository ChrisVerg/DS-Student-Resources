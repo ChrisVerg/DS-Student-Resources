{
 "cells": [
  {
   "cell_type": "markdown",
   "id": "bdb50b65-4fa0-4b5c-b415-8db80b56242a",
   "metadata": {},
   "source": [
    "# Book list"
   ]
  },
  {
   "cell_type": "markdown",
   "id": "91cf4162-4d9a-4a15-bb83-9f420515c45b",
   "metadata": {},
   "source": [
    "- [Python for Data Science, 3rd Edition](https://wesmckinney.com/book/)"
   ]
  },
  {
   "cell_type": "code",
   "execution_count": null,
   "id": "294542ac-ecff-4b8f-abc1-331c27b48ce9",
   "metadata": {},
   "outputs": [],
   "source": []
  }
 ],
 "metadata": {
  "kernelspec": {
   "display_name": "Python 3 (ipykernel)",
   "language": "python",
   "name": "python3"
  },
  "language_info": {
   "codemirror_mode": {
    "name": "ipython",
    "version": 3
   },
   "file_extension": ".py",
   "mimetype": "text/x-python",
   "name": "python",
   "nbconvert_exporter": "python",
   "pygments_lexer": "ipython3",
   "version": "3.9.13"
  }
 },
 "nbformat": 4,
 "nbformat_minor": 5
}
