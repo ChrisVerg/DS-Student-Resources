{
 "cells": [
  {
   "cell_type": "markdown",
   "id": "748773f8-ac37-47c1-b42b-6213639676e7",
   "metadata": {},
   "source": [
    "### Programing in Python Lesson 2 Hands-On Solution"
   ]
  },
  {
   "cell_type": "markdown",
   "id": "8103150e-94d3-44a9-8f6d-b2ff21ed9384",
   "metadata": {},
   "source": [
    "#### (Worth 45 points)"
   ]
  },
  {
   "cell_type": "markdown",
   "id": "a5bb3740-d0be-440d-a9f9-527e67c2f023",
   "metadata": {},
   "source": [
    "##### Part 1\n",
    "\n",
    "(9.5 points)"
   ]
  },
  {
   "cell_type": "code",
   "execution_count": null,
   "id": "bd0d1b6a-e17f-4c2f-8dd6-620bd7c82511",
   "metadata": {},
   "outputs": [],
   "source": [
    "day = \"2\"\n",
    "month = \"February\"\n",
    "year = \"1991\"\n",
    "\n",
    "my_birthday = month + \" \" + day + \", \" + year\n",
    "\n",
    "print(my_birthday)"
   ]
  },
  {
   "cell_type": "markdown",
   "id": "d3a9f31c-660c-40c3-9a09-1ceb0a67fa53",
   "metadata": {},
   "source": [
    "##### Part 2\n",
    "(9.5 points)"
   ]
  },
  {
   "cell_type": "code",
   "execution_count": null,
   "id": "e844b4f0-bc9f-4709-ae1e-58dea567908c",
   "metadata": {},
   "outputs": [],
   "source": [
    "first = \"happy\"\n",
    "second = \"birthday\"\n",
    "third = \"to\"\n",
    "fourth = \"you\"\n",
    "\n",
    "final = first + \" \" + second + \" \" + third + \" \" + fourth\n",
    "\n",
    "print(final.upper())"
   ]
  },
  {
   "cell_type": "markdown",
   "id": "8dc06578-d8ea-47aa-b26f-b60dc1bf975d",
   "metadata": {},
   "source": [
    "##### Part 3\n",
    "(12.5 points)"
   ]
  },
  {
   "cell_type": "code",
   "execution_count": null,
   "id": "38c74695-bcfb-4ed2-b871-98e04e9f7324",
   "metadata": {},
   "outputs": [],
   "source": [
    "age = 15\n",
    "\n",
    "if age < 10:\n",
    "    print(\"Not Permitted\")\n",
    "elif age < 15:\n",
    "    print(\"Permitted with parent\")\n",
    "elif age < 18:\n",
    "    print(\"Permitted with anyone over 18\")\n",
    "else:\n",
    "    print(\"Permitted to attend alone\")"
   ]
  }
 ],
 "metadata": {
  "kernelspec": {
   "display_name": "Python 3 (ipykernel)",
   "language": "python",
   "name": "python3"
  },
  "language_info": {
   "codemirror_mode": {
    "name": "ipython",
    "version": 3
   },
   "file_extension": ".py",
   "mimetype": "text/x-python",
   "name": "python",
   "nbconvert_exporter": "python",
   "pygments_lexer": "ipython3",
   "version": "3.9.0"
  }
 },
 "nbformat": 4,
 "nbformat_minor": 5
}
