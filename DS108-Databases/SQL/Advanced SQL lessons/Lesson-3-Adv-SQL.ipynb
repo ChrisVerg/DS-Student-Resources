{
 "cells": [
  {
   "cell_type": "markdown",
   "id": "44599d63-43eb-466a-8ba6-d448020d5389",
   "metadata": {},
   "source": [
    "### Table of Contents <a class=\"anchor\" id=\"BeyondSQL3_toc\"></a>\n",
    "\n",
    "* [Table of Contents](#BeyondSQL3_toc)\n",
    "    * [Page 1 - Introduction](#BeyondSQL3_page_1)\n",
    "    * [Page 2 - Getting to Know classicmodels](#BeyondSQL3_page_2)\n",
    "    * [Page 3 -  Using IN to make code more efficient](#BeyondSQL3_page_3)\n",
    "    * [Page 4 - How to Reverse Engineer an ERD](#BeyondSQL3_page_4)\n",
    "    * [Page 5 - Ascending and Descending Order](#BeyondSQL3_page_5)\n",
    "    * [Page 6 - Other Tips and Tricks in MySQL](#BeyondSQL3_page_6)\n",
    "    * [Page 7 - ](#BeyondSQL3_page_7)\n",
    "    * [Page 8 - Comments](#BeyondSQL3_page_8)\n",
    "    * [Page 9 - future](#BeyondSQL3_page_9)\n",
    "    * [Page 10 - Key Terms](#BeyondSQL3_page_10)\n",
    "    * [Page 11 - Lesson X Exam](#BeyondSQL3_page_11)"
   ]
  },
  {
   "cell_type": "markdown",
   "id": "02533f8f-e54c-47a0-8a2d-5170944d785b",
   "metadata": {},
   "source": [
    "<hr style=\"height:10px;border-width:0;color:gray;background-color:teal\">\n",
    "\n",
    "# Page 1 - Introduction <a class=\"anchor\" id=\"BeyondSQL3_page_1\"></a>\n",
    "\n",
    "[Back to Top](#BeyondSQL3_toc)\n",
    "\n",
    "<hr style=\"height:10px;border-width:0;color: gray;background-color:teal\">"
   ]
  },
  {
   "cell_type": "markdown",
   "id": "800aee58-1eb3-40d3-84cf-2b8ab6f8d2d3",
   "metadata": {},
   "source": [
    "from IPython.display import VimeoVideo\n",
    "\n",
    "#Tutorial Video Name: future name here \n",
    "\n",
    "#VimeoVideo('0000', width=720, height=480)"
   ]
  },
  {
   "cell_type": "markdown",
   "id": "3e8efc58-ae41-4115-8b8b-3ce931aed301",
   "metadata": {},
   "source": [
    "This lesson is an exercise in real-world scenarios.  You are a data analyst for Entity Cars, a high-end classic car company located in the Southwest. It's a popular chain of car dealerships that sells high-end vintage race cars, motorcycles, and even the occasional helicopter. They cater to wealthy collectors and car enthusiasts and as such, maintain an active marketing department and inquisitive and engaged C-suite. Your job is to provide answers to their questions that solve business goals, and you answer to the Vice President of Sales. The marketing department actively uses your insights to plan events, sales and marketing outreach. You'll be using classicmodels for this. "
   ]
  },
  {
   "cell_type": "code",
   "execution_count": null,
   "id": "e656b3d4-69d5-40ea-85d3-93e9b3ba1e47",
   "metadata": {},
   "outputs": [],
   "source": []
  },
  {
   "cell_type": "markdown",
   "id": "6d4eef39-b792-4e36-b39b-1fc246773afc",
   "metadata": {},
   "source": [
    "<hr style=\"height:10px;border-width:0;color:gray;background-color:teal\">\n",
    "\n",
    "# Page  2- Getting to Know classicmodels <a class=\"anchor\" id=\"BeyondSQL3_page_2\"></a>\n",
    "\n",
    "[Back to Top](#BeyondSQL3_toc)\n",
    "\n",
    "<hr style=\"height:10px;border-width:0;color: gray;background-color:teal\">"
   ]
  },
  {
   "cell_type": "markdown",
   "id": "39745b1b-115c-40d5-8ac2-1770ad1c8f00",
   "metadata": {},
   "source": [
    "Here is a link to the author of the classicmodels database, in his __[Github repository](https://gist.github.com/prof3ssorSt3v3/796ebc82fd8eeb0b697effaa1e86c3a6)__"
   ]
  },
  {
   "cell_type": "code",
   "execution_count": null,
   "id": "1230ef62-138b-40c5-905b-bebe192cffdc",
   "metadata": {},
   "outputs": [],
   "source": []
  },
  {
   "cell_type": "markdown",
   "id": "c96590f8-bc8e-48f7-a077-ddcad94afff7",
   "metadata": {},
   "source": [
    "The asterisk will pull all data from a database. The * symbol is shorthand to return all columns from a database. It's important to realize that the rows will be returned in no specific order. If  you want to return only specific columns from a query, list them in the order you want them returned. "
   ]
  },
  {
   "cell_type": "markdown",
   "id": "925f30fa-ecfc-4327-87cb-cdac30f18366",
   "metadata": {},
   "source": [
    "```sql\n",
    "\n",
    "SELECT productName, MSRP FROM products;\n",
    "```"
   ]
  },
  {
   "cell_type": "markdown",
   "id": "3d460d28-3434-4c7b-a89c-be37341f2710",
   "metadata": {},
   "source": [
    "But if you wanted MSRP listed first:"
   ]
  },
  {
   "cell_type": "markdown",
   "id": "68ae09e8-9653-4fd4-86bd-2f49041da0f6",
   "metadata": {},
   "source": [
    "```sql\n",
    "\n",
    "SELECT MSRP, productName FROM products;\n",
    "```"
   ]
  },
  {
   "cell_type": "markdown",
   "id": "a1a3961f-cf92-41de-9bbf-411ca8e92d65",
   "metadata": {},
   "source": [
    "If you wanted to get all products with models in the years between 2014 and 2016, as well as any products that are scooters, we could write:"
   ]
  },
  {
   "cell_type": "code",
   "execution_count": null,
   "id": "e68ea5c8-a2e7-4e72-bd92-fbe74d8b50e0",
   "metadata": {},
   "outputs": [],
   "source": []
  },
  {
   "cell_type": "markdown",
   "id": "87c67c73-1293-403e-91b3-7034666e2081",
   "metadata": {},
   "source": [
    "<hr style=\"height:10px;border-width:0;color:gray;background-color:teal\">\n",
    "\n",
    "# Page 3 - Using IN to make code more efficient <a class=\"anchor\" id=\"BeyondSQL3_page_3\"></a>\n",
    "\n",
    "[Back to Top](#BeyondSQL3_toc)\n",
    "\n",
    "<hr style=\"height:10px;border-width:0;color: gray;background-color:teal\">"
   ]
  },
  {
   "cell_type": "markdown",
   "id": "9e74dfcc-c234-4b2d-bd74-b652ccc9f298",
   "metadata": {},
   "source": [
    "Anthony Bow, the Sales Manager for North America, has asked for a phone list for customers in California so his District Managers there can follow up on how customers feel about service they received recently, based on a dashboard you created last month about dipping sales figures in some areas of the state.  Anthony is asking for this list alphabetically by customer last name and would like it by tomorrow morning. "
   ]
  },
  {
   "cell_type": "markdown",
   "id": "c3871de4-ab39-4c13-81de-3212613d8b93",
   "metadata": {},
   "source": [
    "```sql\n",
    "SELECT customerName, phone from customers\n",
    "WHERE state = \"CA\"\n",
    "ORDER BY contactLastName;\n",
    "```"
   ]
  },
  {
   "cell_type": "markdown",
   "id": "46d5666a-5c34-4c6e-a2c3-8ebe349d6494",
   "metadata": {},
   "source": [
    "explanation here "
   ]
  },
  {
   "cell_type": "markdown",
   "id": "5549a22b-9d4d-4041-a001-76819d11a817",
   "metadata": {},
   "source": [
    "It's the next week, and Anthony has gotten feedback from the district managers. He would like to expand the plan to have managers call customers in Nevada, New York and Massachusetts, after learning that some customers are driving from out of state to purchase vehicles in a few of the dealerships in California. How will you write this query, in as few lines as possible? Remember to make it easy for the managers to split up the list by state."
   ]
  },
  {
   "cell_type": "markdown",
   "id": "28dfe6e1-e78b-43ed-aad5-0bebef3f1673",
   "metadata": {},
   "source": [
    "```sql\n",
    "SELECT customerName, phone, state from customers\n",
    "WHERE state IN (\"CA\", \"NY\", \"MA\", \"NV\")\n",
    "ORDER BY state, contactLastName;\n",
    "```"
   ]
  },
  {
   "cell_type": "markdown",
   "id": "f7902897-626b-49fc-9e7f-c4e903bea862",
   "metadata": {},
   "source": [
    "Anthony also would like to know how many customers are coming from outside the United States and where they're traveling in from. "
   ]
  },
  {
   "cell_type": "markdown",
   "id": "8f400c02-20c7-4e40-afd6-c7b04ce16b26",
   "metadata": {},
   "source": [
    "```sql\n",
    "select country from customers\n",
    "WHERE country NOT IN (\"USA\");\n",
    "```"
   ]
  },
  {
   "cell_type": "markdown",
   "id": "56dbeb54-7110-4764-b6ce-cf2d33f99591",
   "metadata": {},
   "source": [
    "You could search for multiple customerNumbers this way, and it's not wrong, but you're looking for fluency, efficiency and proficiency, so look for ways to incorporate **IN** and **NOT IN** where you can. "
   ]
  },
  {
   "cell_type": "markdown",
   "id": "85b0d018-43d0-4d32-80d5-a4ce0c55a947",
   "metadata": {},
   "source": [
    "```sql\n",
    "SELECT customerNumber, customerName, city, state FROM customers\n",
    "WHERE customerNumber = 112 OR customerNumber = 151 OR customerNumber = 216 OR customerNumber = 489;\n",
    "\n",
    "-- This way is cleaner coding:\n",
    "    \n",
    "SELECT customerNumber, customerName, city, state FROM customers\n",
    "WHERE customerNumber IN (112, 151, 216, 489);\n",
    "\n",
    "```"
   ]
  },
  {
   "cell_type": "code",
   "execution_count": null,
   "id": "8b93ea36-f867-478c-a17d-9ae50d91ce56",
   "metadata": {},
   "outputs": [],
   "source": []
  },
  {
   "cell_type": "code",
   "execution_count": null,
   "id": "abba8927-bea6-4191-b50d-c7fae7ca6296",
   "metadata": {},
   "outputs": [],
   "source": [
    "<hr style=\"height:10px;border-width:0;color:gray;background-color:teal\">\n",
    "\n",
    "# Page 4 -  <a class=\"anchor\" id=\"BeyondSQL3_page_3\"></a>\n",
    "\n",
    "[Back to Top](#BeyondSQL3_toc)\n",
    "\n",
    "<hr style=\"height:10px;border-width:0;color: gray;background-color:teal\">"
   ]
  },
  {
   "cell_type": "code",
   "execution_count": null,
   "id": "082f0d1a-9a90-4d34-9203-baaa7c6f4151",
   "metadata": {},
   "outputs": [],
   "source": []
  },
  {
   "cell_type": "code",
   "execution_count": null,
   "id": "bb03b750-8b88-45ca-86c6-f3bbb88e862a",
   "metadata": {},
   "outputs": [],
   "source": []
  },
  {
   "cell_type": "markdown",
   "id": "e9bd140c-c081-4b19-a479-f0a15d323e1f",
   "metadata": {},
   "source": [
    "<hr style=\"height:10px;border-width:0;color:gray;background-color:teal\">\n",
    "\n",
    "# Page 5 - Ascending and Descending Order <a class=\"anchor\" id=\"BeyondSQL3_page_3\"></a>\n",
    "\n",
    "[Back to Top](#BeyondSQL3_toc)\n",
    "\n",
    "<hr style=\"height:10px;border-width:0;color: gray;background-color:teal\">"
   ]
  },
  {
   "cell_type": "markdown",
   "id": "6c7eac77-86d6-4b5f-8d5c-014219637759",
   "metadata": {},
   "source": [
    "The Customer Service manager wants to follow up with customers who gave \n",
    "feedback in the comments section of orders and she is asking you for a list of customers, \n",
    "their phone number, the comments and quantity ordered so that sales reps can follow up \n",
    "with the customers about each customer's exact issue. They would like this list by end of day. "
   ]
  },
  {
   "cell_type": "markdown",
   "id": "a68e6e0a-5583-49cc-b1be-05b5b0c2a92a",
   "metadata": {},
   "source": [
    "```sql\n",
    "/* \n",
    "You'll need to join two tables that don't share a foreign or primary key - but you'll need a third table, a middleman, in order to return the information you need. Like Nik says, this table is like a mutual friend, introducing customers and orderdetails tables to each other. \n",
    "*/\n",
    "\n",
    "\n",
    "\n",
    "select contactLastName, contactFirstName, phone, comments, quantityOrdered from customers\n",
    "JOIN orders USING (customerNumber)   \n",
    "JOIN orderdetails USING (orderNumber)\n",
    "WHERE comments IS NOT NULL\n",
    "ORDER BY orderDate DESC;\n",
    "\n",
    "```\n"
   ]
  },
  {
   "cell_type": "markdown",
   "id": "7d40e300-8c01-45c9-b542-fbf1598a158c",
   "metadata": {},
   "source": [
    "The customer service manager is happy with the results, but would like to have the first name listed first in the tables, and would like a nicer presentation for when he presents to his team, and has asked you to revise the query results. How would you do that?"
   ]
  },
  {
   "cell_type": "markdown",
   "id": "d5282cd6-35a9-4879-8699-4605e49109ea",
   "metadata": {},
   "source": [
    "```sql\n",
    "\n",
    "CREATE VIEW CommentCards AS\n",
    "SELECT contactFirstName AS FirstName, contactLastName AS LastName, phone, comments, quantityOrdered from customers\n",
    "JOIN orders USING (customerNumber)   \n",
    "JOIN orderdetails USING (orderNumber)\n",
    "WHERE comments IS NOT NULL\n",
    "ORDER BY orderDate DESC;\n",
    "\n",
    "SELECT * FROM CommentCards\n",
    "\n",
    "```"
   ]
  },
  {
   "cell_type": "code",
   "execution_count": null,
   "id": "dda6a269-16af-4f3d-9561-7dc9415c2f7e",
   "metadata": {},
   "outputs": [],
   "source": []
  },
  {
   "cell_type": "markdown",
   "id": "4e6a71c9-c890-48bb-be1d-376903992b25",
   "metadata": {},
   "source": [
    "The staff accountant is going through bank deposits in anticipation of an upcoming audit. The accountant would like to match up payments and payment dates with information from their records and is requesting a list of those things, starting with the largest amount first, in descending order."
   ]
  },
  {
   "cell_type": "markdown",
   "id": "b3bc1184-e7f6-4fb9-8dfc-bbdb74e83a4d",
   "metadata": {},
   "source": [
    "```sql\n",
    "\n",
    "SELECT paymentDate, amount FROM payments\n",
    "ORDER BY amount DESC;\n",
    "\n",
    "```"
   ]
  },
  {
   "cell_type": "markdown",
   "id": "ff3540ce-9d21-42c0-811c-1d95a8fc4662",
   "metadata": {},
   "source": [
    "Accounts Receivable Dept is asking for purchases older than a year, or less then $1,000. They would like to write off some of the old debt and send other accounts to collections. Compile a report for A/R."
   ]
  },
  {
   "cell_type": "code",
   "execution_count": null,
   "id": "a3079bf2-ad3f-4e8d-8183-77c901401fd6",
   "metadata": {},
   "outputs": [],
   "source": []
  },
  {
   "cell_type": "code",
   "execution_count": null,
   "id": "f3dd2e8f-5caa-4c1e-bc5c-469892a60c07",
   "metadata": {},
   "outputs": [],
   "source": []
  },
  {
   "cell_type": "code",
   "execution_count": null,
   "id": "cadd3d71-e086-437a-b9b3-f4a203f79823",
   "metadata": {},
   "outputs": [],
   "source": [
    "<hr style=\"height:10px;border-width:0;color:gray;background-color:teal\">\n",
    "\n",
    "# Page 6 - C-Suite Requests <a class=\"anchor\" id=\"BeyondSQL3_page_3\"></a>\n",
    "\n",
    "[Back to Top](#BeyondSQL3_toc)\n",
    "\n",
    "<hr style=\"height:10px;border-width:0;color: gray;background-color:teal\">"
   ]
  },
  {
   "cell_type": "code",
   "execution_count": null,
   "id": "c7b1132f-fdd8-4a52-9469-4946c91a9ebd",
   "metadata": {},
   "outputs": [],
   "source": []
  },
  {
   "cell_type": "code",
   "execution_count": null,
   "id": "2c0c5bc9-5dc8-4ccc-b1f7-1e88ad56fca7",
   "metadata": {},
   "outputs": [],
   "source": []
  },
  {
   "cell_type": "markdown",
   "id": "a0f4f97f-41a2-4dbd-946d-aeeae38a83ef",
   "metadata": {},
   "source": [
    "The CEO has an upcoming state of the business address and is asking for some information as part of the report. The first request is for a total value of inventory on hand. You will need to use the SUM function on buyPrice and quantityInStock and call that InventoryValue. <br>\n",
    "The CEO is not interested in amounts of product inventory worth less than 50,000, as orders for new stock are expected to come in the next quarter and won't affect the company's P&L statement at this time. The CEO wants only InventoryValues more than $100,000. "
   ]
  },
  {
   "cell_type": "markdown",
   "id": "c2292ee0-3952-448f-b807-49b76febdb09",
   "metadata": {},
   "source": [
    "```sql\n",
    "\n",
    "SELECT productCode, SUM(buyPrice * quantityInStock) AS InventoryValue\n",
    "FROM products\n",
    "GROUP BY productCode\n",
    "HAVING SUM(buyPrice * quantityInStock) > 100000\n",
    "ORDER BY InventoryValue DESC;\n",
    "\n",
    "```"
   ]
  },
  {
   "cell_type": "markdown",
   "id": "0fd046d7-cf6a-41d0-97eb-ac74d6643921",
   "metadata": {},
   "source": [
    "Next on the list of tasks is pulling together revenue for the year, and identifying which products brought in the highest revenue for the company. The CEO intends to build on what worked in the past year and have staffers search for similar vehicles, given the success of the products in the past year. Build a table called Revenue that returns the productCode, productName, the sum of quantityOrdered times MSRP (which is the revenue). Group by productCode, include only those sales over 10,000 and sort it in descending order, with largest figure first. "
   ]
  },
  {
   "cell_type": "markdown",
   "id": "e49ec2eb-7b32-444e-b347-decf6feaffa9",
   "metadata": {},
   "source": [
    "```sql\n",
    "SELECT productCode, productName, SUM(quantityOrdered * MSRP) as Revenue\n",
    "FROM products\n",
    "JOIN orderdetails USING (productCode)\n",
    "GROUP BY productCode\n",
    "HAVING SUM(quantityOrdered * MSRP) > 10000\n",
    "ORDER BY Revenue DESC;\n",
    "```"
   ]
  },
  {
   "cell_type": "code",
   "execution_count": null,
   "id": "f5d36df5-4024-497f-91ae-c70f6a15ff4c",
   "metadata": {},
   "outputs": [],
   "source": []
  },
  {
   "cell_type": "code",
   "execution_count": null,
   "id": "4f8e55d0-0dae-4193-a462-7116561dab92",
   "metadata": {},
   "outputs": [],
   "source": []
  },
  {
   "cell_type": "code",
   "execution_count": null,
   "id": "608ae62a-3034-408c-bf89-a5c53be4970e",
   "metadata": {},
   "outputs": [],
   "source": [
    "<hr style=\"height:10px;border-width:0;color:gray;background-color:teal\">\n",
    "\n",
    "# Page 7 - Updating Records in Tables <a class=\"anchor\" id=\"BeyondSQL3_page_3\"></a>\n",
    "\n",
    "[Back to Top](#BeyondSQL3_toc)\n",
    "\n",
    "<hr style=\"height:10px;border-width:0;color: gray;background-color:teal\">"
   ]
  },
  {
   "cell_type": "markdown",
   "id": "2bf66c53-c8ca-48ea-a5c6-2c7cd0e10a82",
   "metadata": {},
   "source": [
    "```sql\n",
    "/*insert  into offices(officeCode,city,phone,addressLine1,addressLine2,state,country,postalCode,territory) values \n",
    "\n",
    "('1','Phoenix','+1 602 319 4882','1005 Camelback Road','Suite 300','AZ','USA','85015','NA'),\n",
    "\n",
    "('2','Orlando','+1 407 832 0825','1556 University Boulevard','Suite 102','FL','USA','32820','NA'),\n",
    "\n",
    "('3','Sault Ste. Marie','+1 905 632 3000','523 East Ashmun Avenue','Suite 5A','MI','USA','49783','NA'),\n",
    "*/\n",
    "```"
   ]
  },
  {
   "cell_type": "code",
   "execution_count": null,
   "id": "ca53b6e8-a2ef-4c5a-af83-b4a861bb8ec4",
   "metadata": {},
   "outputs": [],
   "source": []
  },
  {
   "cell_type": "code",
   "execution_count": null,
   "id": "de4db4fe-63bb-4e8f-aa1a-617931660b72",
   "metadata": {},
   "outputs": [],
   "source": []
  },
  {
   "cell_type": "code",
   "execution_count": null,
   "id": "60388b3b-9de6-4099-a4d4-b5241d0b8568",
   "metadata": {},
   "outputs": [],
   "source": []
  },
  {
   "cell_type": "code",
   "execution_count": null,
   "id": "93426008-2d40-4b5c-8c85-c82b0571925b",
   "metadata": {},
   "outputs": [],
   "source": [
    "<hr style=\"height:10px;border-width:0;color:gray;background-color:teal\">\n",
    "\n",
    "# Page 8 -  <a class=\"anchor\" id=\"BeyondSQL3_page_3\"></a>\n",
    "\n",
    "[Back to Top](#BeyondSQL3_toc)\n",
    "\n",
    "<hr style=\"height:10px;border-width:0;color: gray;background-color:teal\">"
   ]
  },
  {
   "cell_type": "markdown",
   "id": "b6ffd3a2-6080-48a3-a9c1-036f4396bd74",
   "metadata": {},
   "source": [
    "The Sales Department is working remotely this week, and one of the sales reps is with a client in a restaurant. He's calling you from the restroom to see if you can search the product database for a Triumph or Ducati motorcycle. The sales rep is pretty sure he can secure the deal if you're willing to help him. Search the database for any productNames that contain \"Triumph\" or \"Ducati\" in the name. "
   ]
  },
  {
   "cell_type": "markdown",
   "id": "fad900cb-558e-4728-a324-f47d13b48e41",
   "metadata": {},
   "source": [
    "```sql\n",
    "SELECT productName from products\n",
    "WHERE productName LIKE '%Triumph%';\n",
    "```"
   ]
  },
  {
   "cell_type": "markdown",
   "id": "e01fc254-01ad-4b40-807d-c88529d5e390",
   "metadata": {},
   "source": [
    "```sql\n",
    "SELECT productName FROM products\n",
    "WHERE productName LIKE '%Triumph%' OR productName LIKE '%Ducati%';\n",
    "```\n"
   ]
  },
  {
   "cell_type": "markdown",
   "id": "8ba98a4a-a685-493d-88cb-a22be9b68344",
   "metadata": {},
   "source": [
    "Using this logic, see if you can find a historic boat listed in the database. "
   ]
  },
  {
   "cell_type": "markdown",
   "id": "2a1c03a3-8406-4d59-a6ec-7ff0bd83beea",
   "metadata": {},
   "source": [
    "Use IN  to make that query neater and less repetitive. "
   ]
  },
  {
   "cell_type": "code",
   "execution_count": null,
   "id": "2a6e0cf9-03fe-40a5-a6a2-2f2f08a4ff3f",
   "metadata": {},
   "outputs": [],
   "source": []
  },
  {
   "cell_type": "code",
   "execution_count": null,
   "id": "5e6e1f58-bad8-40c5-9603-a501b0f98bd9",
   "metadata": {},
   "outputs": [],
   "source": [
    "<hr style=\"height:10px;border-width:0;color:gray;background-color:teal\">\n",
    "\n",
    "# Page 9 -  <a class=\"anchor\" id=\"BeyondSQL3_page_3\"></a>\n",
    "\n",
    "[Back to Top](#BeyondSQL3_toc)\n",
    "\n",
    "<hr style=\"height:10px;border-width:0;color: gray;background-color:teal\">"
   ]
  },
  {
   "cell_type": "code",
   "execution_count": null,
   "id": "a8a8ace5-628c-4cc7-98a4-41575717f9a0",
   "metadata": {},
   "outputs": [],
   "source": []
  },
  {
   "cell_type": "code",
   "execution_count": null,
   "id": "c892a29f-85e4-4441-af4d-b70e03776700",
   "metadata": {},
   "outputs": [],
   "source": [
    "<hr style=\"height:10px;border-width:0;color:gray;background-color:teal\">\n",
    "\n",
    "# Page 10 -  <a class=\"anchor\" id=\"BeyondSQL3_page_3\"></a>\n",
    "\n",
    "[Back to Top](#BeyondSQL3_toc)\n",
    "\n",
    "<hr style=\"height:10px;border-width:0;color: gray;background-color:teal\">"
   ]
  },
  {
   "cell_type": "code",
   "execution_count": null,
   "id": "152a630b-121e-440d-a33e-7426ed4b70aa",
   "metadata": {},
   "outputs": [],
   "source": []
  },
  {
   "cell_type": "code",
   "execution_count": null,
   "id": "543dc4ce-43aa-4a75-921f-738b57259f90",
   "metadata": {},
   "outputs": [],
   "source": []
  },
  {
   "cell_type": "code",
   "execution_count": null,
   "id": "be5a8e93-ea5c-4e86-96ce-934f6eb90bee",
   "metadata": {},
   "outputs": [],
   "source": [
    "<hr style=\"height:10px;border-width:0;color:gray;background-color:teal\">\n",
    "\n",
    "# Page 11 -  <a class=\"anchor\" id=\"BeyondSQL3_page_3\"></a>\n",
    "\n",
    "[Back to Top](#BeyondSQL3_toc)\n",
    "\n",
    "<hr style=\"height:10px;border-width:0;color: gray;background-color:teal\">"
   ]
  }
 ],
 "metadata": {
  "kernelspec": {
   "display_name": "Python 3 (ipykernel)",
   "language": "python",
   "name": "python3"
  },
  "language_info": {
   "codemirror_mode": {
    "name": "ipython",
    "version": 3
   },
   "file_extension": ".py",
   "mimetype": "text/x-python",
   "name": "python",
   "nbconvert_exporter": "python",
   "pygments_lexer": "ipython3",
   "version": "3.10.4"
  }
 },
 "nbformat": 4,
 "nbformat_minor": 5
}
