{
 "cells": [
  {
   "cell_type": "markdown",
   "id": "6e3ee6dd-4622-4379-a2ab-52fae01b50e4",
   "metadata": {},
   "source": [
    "## DS108 Lesson 5 Hands On Helper "
   ]
  },
  {
   "cell_type": "markdown",
   "id": "4c2da7d5-9c48-4063-abc9-a95367e771cd",
   "metadata": {},
   "source": [
    "### Table of Contents <a class=\"anchor\" id=\"DS108L5_toc\"></a>\n",
    "\n",
    "* [Table of Contents](#DS108L5_toc)\n",
    "    * [Page 1 - Part 1](#DS108L5_page_1)\n",
    "    * [Page 2 - Part 2](#DS108L5_page_2)\n",
    "    * [Page 3 - Part 3](#DS108L5_page_3)\n",
    "     * [Page 4 - Extras](#DS108L5_page_4)\n",
    "    "
   ]
  },
  {
   "cell_type": "markdown",
   "id": "72c25b5b-c48c-41bc-9d1b-199e5a3c4c95",
   "metadata": {},
   "source": [
    "<hr style=\"height:10px;border-width:0;color:gray;background-color:darkorchid\">\n",
    "\n",
    "# Page 1 - Part One<a class=\"anchor\" id=\"DS108L5_page_1\"></a>\n",
    "\n",
    "[Back to Top](#DS108L5_toc)\n",
    "\n",
    "<hr style=\"height:10px;border-width:0;color:gray;background-color:darkorchid\">"
   ]
  },
  {
   "cell_type": "markdown",
   "id": "25dc1f85-49cb-4b56-97a6-83bd30f071f7",
   "metadata": {},
   "source": [
    "## Part 1 <br>\n",
    "#### Run a query that creates a table named Recipes that has the following columns: RecipeID, RecipeName, CountryOrigin. <br>\n",
    "\n",
    "#### RecipeID is the primary key and auto increments.<br>\n"
   ]
  },
  {
   "cell_type": "markdown",
   "id": "f62b5f71-9820-4d22-9643-dd43f36bcdd3",
   "metadata": {},
   "source": [
    "```SQL\n",
    "CREATE TABLE Recipes ( \n",
    "RecipeID INTEGER PRIMARY KEY AUTO_INCREMENT, \n",
    "RecipeName VARCHAR(50) NOT NULL,\n",
    "CountryOrigin VARCHAR(50) NOT NULL\n",
    ");\n",
    "```"
   ]
  },
  {
   "cell_type": "markdown",
   "id": "67847e58-bb50-41a7-b169-6780bf1f6640",
   "metadata": {},
   "source": [
    "```SQL\n",
    "INSERT INTO Recipes (RecipeID, RecipeName, CountryOrigin)\n",
    "VALUE \n",
    "(1, \"Chicken Cordon Bleu\", \"France\"),\n",
    "(2, \"Creme Brulee\", \"France\"),\n",
    "(3, \"Pasta Puttancesca\", \"Italy\"), \n",
    "(4, \"Carne Asada\", \"Mexico\"),\n",
    "(5, \"Paella\", \"Spain\");\n",
    "```"
   ]
  },
  {
   "cell_type": "markdown",
   "id": "78c51e62-055f-45f3-b21c-833737c3356c",
   "metadata": {},
   "source": [
    "#### INSERT INTO inserts names and data for five recipes. After the INSERT INTO keword is the name of the table, and in parentheses are the columns to be filled. In the next row is the VALUE keyword and the data to insert into each column in each row. Enclose the data for each row in a set of parentheses and inside each set of (), use a comma to separate each column value. The order of the values must match the order of the columns specified after the table name. Each row of data ends with a comma and the last row ends the entire statement with a semicolon.  Text and dates require quotes, numbers including integers and decimals don't require quotes. "
   ]
  },
  {
   "cell_type": "markdown",
   "id": "987658c7-f046-444e-961f-d1b229bb14c2",
   "metadata": {},
   "source": [
    "### Run a query to see all of the recipes in the database."
   ]
  },
  {
   "cell_type": "markdown",
   "id": "53dede6d-fd54-4f74-b0cf-66c04405a2ff",
   "metadata": {},
   "source": [
    "```SQL\n",
    "SELECT * FROM Recipes;\n",
    "```"
   ]
  },
  {
   "cell_type": "markdown",
   "id": "13df5e49-7905-4014-a64e-fd016924847a",
   "metadata": {},
   "source": [
    "<hr style=\"height:10px;border-width:0;color:gray;background-color:darkorchid\">\n",
    "\n",
    "# Page 2 - Part Two<a class=\"anchor\" id=\"DS108L5_page_2\"></a>\n",
    "\n",
    "[Back to Top](#DS108L5_toc)\n",
    "\n",
    "<hr style=\"height:10px;border-width:0;color:gray;background-color:darkorchid\">"
   ]
  },
  {
   "cell_type": "markdown",
   "id": "f9bb439e-d3c5-4bab-97ce-cad06828e0e1",
   "metadata": {},
   "source": [
    "### Part 2\n",
    "#### Run a query that creates a table named Chefs that has the following columns: ChefID, Name, RecipeID as a foreign key and Recipes.\n",
    "\n",
    "#### ChefID is the primary key and auto increments. <br>\n",
    "#### RecipeID is a foreign key that references the Recipes table on the RecipeID column.\n",
    "\n",
    "#### Run a query to see all of the Chefs within the database."
   ]
  },
  {
   "cell_type": "markdown",
   "id": "dee4ec21-0323-430b-82a8-3749b237aed9",
   "metadata": {},
   "source": [
    "```SQL\n",
    "CREATE TABLE Chefs ( \n",
    "ChefID INTEGER PRIMARY KEY AUTO_INCREMENT,\n",
    "Name VARCHAR(50) NOT NULL, \n",
    "RecipeID INTEGER, FOREIGN KEY (RecipeID) REFERENCES Recipes(RecipeID) \n",
    ");\n",
    "\n",
    "INSERT INTO Chefs (Name, RecipeID) \n",
    "VALUE \n",
    "(\"Jacques Pepin\", 1), \n",
    "(\"Massimo Bottura\", 3),\n",
    "(\"Enrique Olvera\", 4),\n",
    "(\"Jose Andres\", 5);\n",
    "\n",
    "SELECT * FROM Chefs; \n",
    "\n",
    "\n",
    "```"
   ]
  },
  {
   "cell_type": "markdown",
   "id": "b391036d-bae3-4a37-84b0-11f5eac5feae",
   "metadata": {},
   "source": [
    "<hr style=\"height:10px;border-width:0;color:gray;background-color:darkorchid\">\n",
    "\n",
    "# Page 3 - Part Three<a class=\"anchor\" id=\"DS108L5_page_3\"></a>\n",
    "\n",
    "[Back to Top](#DS108L5_toc)\n",
    "\n",
    "<hr style=\"height:10px;border-width:0;color:gray;background-color:darkorchid\">\n"
   ]
  },
  {
   "cell_type": "markdown",
   "id": "7c91d6e9-4d77-4fcc-8595-ec96d4cf1865",
   "metadata": {},
   "source": [
    "### Part 3\n",
    "\n",
    "#### Run a query that joins the Recipes and Chefs table together using the RecipeID foreign key."
   ]
  },
  {
   "cell_type": "markdown",
   "id": "70a6f7d7-b6de-470a-aa02-9aa0c9966af4",
   "metadata": {},
   "source": [
    "```sql\n",
    "SELECT * FROM Recipes \n",
    "JOIN Chefs USING (RecipeID); \n",
    "\n",
    "SELECT * FROM Recipes; \n",
    "```"
   ]
  },
  {
   "cell_type": "markdown",
   "id": "16144f91-58af-4aa0-a9dd-8ddb2170a133",
   "metadata": {},
   "source": [
    "Note that the first table you list is known as the 'left' table - and SQL returns everything for the left table. So make sure you list first the table that's important to have ALL the information in it returned. \n",
    "\n",
    "The second table listed (the one right after JOIN) is the right table, and in a regular JOIN query, SQL will return everything from that right table that has something that matches in the left table. "
   ]
  },
  {
   "cell_type": "markdown",
   "id": "c58c00d2-d138-4670-8326-6d3832aecca3",
   "metadata": {},
   "source": [
    "\n",
    "\n",
    "#### Next, create a view named  using the JOIN query created in step 1 adding the following parameters:\n",
    "\n",
    "- Show only the Chefs' full names and recipe name.\n",
    "- Rename the column name results using the AS keyword.\n",
    "- The Authors FullName should display as ChefName.\n",
    "- The Recipe should display as RecipeName.\n",
    "- Order the results alphabetically by the authors full name.\n",
    "- Lastly, run a query to see the view you just created."
   ]
  },
  {
   "cell_type": "markdown",
   "id": "12a3a909-49bd-426d-996f-af5a0a3946ef",
   "metadata": {},
   "source": [
    "```SQL\n",
    "CREATE VIEW ChefRecipes AS \n",
    "SELECT Name AS ChefName, RecipeName as Recipe FROM Recipes \n",
    "JOIN Chefs USING (RecipeID) \n",
    "ORDER BY Name; \n",
    "\n",
    "SELECT * FROM ChefRecipes;\n",
    "```\n"
   ]
  },
  {
   "cell_type": "markdown",
   "id": "72b63a51-b0ac-47bd-b4ad-30f310136aaa",
   "metadata": {},
   "source": [
    "Creating an alias with AS  allows you to return a pretty table for your boss or a client, especially if the column names don't normally make any sense (to anybody but you!). You can use the AS  to create temporary pretty table. "
   ]
  },
  {
   "cell_type": "markdown",
   "id": "ee64d202-a33b-431b-8cb5-84ddc2e521a1",
   "metadata": {},
   "source": [
    "After you turn this in, if you don't want to keep the Chefs and Recipes tables, you can drop them, like this. "
   ]
  },
  {
   "cell_type": "markdown",
   "id": "fdc0312c-411f-4c72-9d68-30fb0fd3ac6e",
   "metadata": {},
   "source": [
    "```sql \n",
    "DROP TABLE Chefs;\n",
    "DROP TABLE Recipes;\n",
    "```"
   ]
  },
  {
   "cell_type": "markdown",
   "id": "f81595c0-e0d5-4309-8b89-b4aab227b628",
   "metadata": {},
   "source": [
    "<hr style=\"height:10px;border-width:0;color:gray;background-color:darkorchid\">\n",
    "\n",
    "# Page 4 - Extras<a class=\"anchor\" id=\"DS108L5_page_4\"></a>\n",
    "\n",
    "[Back to Top](#DS108L5_toc)\n",
    "\n",
    "<hr style=\"height:10px;border-width:0;color:gray;background-color:darkorchid\">"
   ]
  },
  {
   "cell_type": "markdown",
   "id": "e7eee1fb-31c9-4ccf-a149-e199ab25aa95",
   "metadata": {},
   "source": [
    "If you want to use comments in your SQL code, there are three ways you can accomplish this. The first is one you're familiar with: a hashtag, or pound sign. It comments out everything to the end of the current line, so you can even use it like this:"
   ]
  },
  {
   "cell_type": "markdown",
   "id": "4430ff45-a901-4e63-b4ab-58be94391064",
   "metadata": {},
   "source": [
    "```sql\n",
    "SELECT * FROM users;  # this comment tells you the asterisk means \"all\" in SQL.\n",
    "```"
   ]
  },
  {
   "cell_type": "markdown",
   "id": "c5379e63-456a-46b8-811d-16b8ba6e654d",
   "metadata": {},
   "source": [
    "The second comment style MySQL supports is a '-- ' to the end of the line. You must have a space after the double dashes. "
   ]
  },
  {
   "cell_type": "markdown",
   "id": "b126da4a-c379-4032-8eb8-44041d43257c",
   "metadata": {},
   "source": [
    "```sql\n",
    "SELECT lastname, firstname FROM employees\n",
    "WHERE reportsTo = 1802  -- gets those who work for Mari.\n",
    "```"
   ]
  },
  {
   "cell_type": "markdown",
   "id": "448f4832-33ab-45df-b192-3dd426cab31b",
   "metadata": {},
   "source": [
    "The last way can comment out a whole block of code. Open with slash asterisk, and close with asterisk slash, like this:"
   ]
  },
  {
   "cell_type": "markdown",
   "id": "8dc21471-b9c2-4d16-ab76-34da519a5ac3",
   "metadata": {},
   "source": [
    "```sql\n",
    "/*\n",
    "Notice that MySQL does not support nested comments. Comments can be used to document the purpose of an SQL statement or the logic of a code block in a stored procedure. When parsing SQL code, MySQL ignores the comments part. It only executes the SQL part except for executable comment. \n",
    "*/\n",
    "\n",
    "\n",
    "SELECT title, release_year, rating, length\n",
    "FROM film\n",
    "WHERE length < 100\n",
    "ORDER by rating;\n",
    "\n",
    "\n",
    "/*\n",
    "Note that with SQL syntax you first line up all the columns from all the tables you want, and the order you list them is the order they will return in. Then specify which database -left, then the right after a JOIN statement, if you have one. Then comes any WHERE statement, where you can further filter your query. Last comes your order, like this:\n",
    "*/\n",
    "\n",
    "\n",
    "\n",
    "SELECT * FROM classicmodels\n",
    "WHERE district_Id = 6435\n",
    "ORDER BY purchase_date DESC, base_msrp ASC; -- this lists purchases newest to oldest first, then the MSRP from least to greatest. Remember, SQL returns data back in random order, unless you specify how you want it returned. \n",
    "\n",
    "```"
   ]
  },
  {
   "cell_type": "markdown",
   "id": "c133f853-7c58-460e-99da-288c54ec2a64",
   "metadata": {},
   "source": [
    "### We'll finish up with an infographic about datetime formatting."
   ]
  },
  {
   "cell_type": "markdown",
   "id": "eb6b2997-fc78-4fa1-90f8-739625ee6e78",
   "metadata": {},
   "source": [
    "#### Note that date time format is YYYY-MM-DD - this is the international standard for date formats; using it will help avoid confusion. \n",
    "<p style=\"text-align: left\">\n",
    "  <img  src=\"../Media/dateFormatComic.jpg\" width=\"400\" alt=\"Video Games\">\n",
    "</p>\n"
   ]
  },
  {
   "cell_type": "markdown",
   "id": "51178bf3-1d20-41a3-8d48-8fb1af247958",
   "metadata": {},
   "source": [
    "Here's the long way to look at three different model years:"
   ]
  },
  {
   "cell_type": "markdown",
   "id": "c163f7ea-f7dc-48f5-ac32-9f891d5ea3fa",
   "metadata": {},
   "source": [
    "```sql\n",
    "\n",
    "SELECT model\n",
    "FROM products\n",
    "WHERE year= 2014\n",
    "OR year= 2016\n",
    "OR year = 2019;\n",
    "```"
   ]
  },
  {
   "cell_type": "markdown",
   "id": "c5ede506-2029-43fc-8d44-459e0c7ec987",
   "metadata": {},
   "source": [
    "Here's a much cleaner, shorter way:"
   ]
  },
  {
   "cell_type": "markdown",
   "id": "13b5e5e0-13cb-4f94-bc15-aff253f035ec",
   "metadata": {},
   "source": [
    "```sql\n",
    "\n",
    "SELECT model\n",
    "FROM products\n",
    "WHERE year IN (2014, 2016, 2019);\n",
    "\n",
    "```"
   ]
  },
  {
   "cell_type": "markdown",
   "id": "ea44c6f5-ce12-4e79-a397-9a4121eb8cad",
   "metadata": {},
   "source": [
    "Better yet, say you DIDN'T want those years, but all the other years instead. "
   ]
  },
  {
   "cell_type": "markdown",
   "id": "b5263356-9b98-4eb2-811d-e5672e1d41d7",
   "metadata": {},
   "source": [
    "```sql\n",
    "\n",
    "SELECT model\n",
    "FROM products\n",
    "WHERE year NOT IN (2014, 2016, 2019);\n",
    "\n",
    "```"
   ]
  },
  {
   "cell_type": "code",
   "execution_count": null,
   "id": "68180d2a-f7a8-4577-ab87-58b1e9569a4b",
   "metadata": {},
   "outputs": [],
   "source": []
  }
 ],
 "metadata": {
  "kernelspec": {
   "display_name": "Python 3 (ipykernel)",
   "language": "python",
   "name": "python3"
  },
  "language_info": {
   "codemirror_mode": {
    "name": "ipython",
    "version": 3
   },
   "file_extension": ".py",
   "mimetype": "text/x-python",
   "name": "python",
   "nbconvert_exporter": "python",
   "pygments_lexer": "ipython3",
   "version": "3.10.4"
  }
 },
 "nbformat": 4,
 "nbformat_minor": 5
}
