{
 "cells": [
  {
   "cell_type": "markdown",
   "id": "084c9695-4a0e-4307-9786-73e6d20384ea",
   "metadata": {},
   "source": [
    "## Using G*Power"
   ]
  },
  {
   "cell_type": "markdown",
   "id": "5cb53e59-42c3-45bb-afb2-07b9df74bf38",
   "metadata": {},
   "source": [
    "Although it has a plethora of capabilities, you will mainly use G*Power for determining how large a sample size you need to detect effects. This is probably most important if / when you are collecting your own data, and you need to determine a target for which to shoot. However, power is an important thing to pay attention to, even if you aren't collecting your own data. It's important to make sure you have enough data from your source, otherwise, you risk not being able to actually find significant differences when there may be - if only you had more data! No one wants to conclude that a new method isn't working, when really it is, you just didn't have enough data to determine it's validity yet."
   ]
  },
  {
   "cell_type": "markdown",
   "id": "b8e7cdbb-e7e2-4dc2-877f-4601428f03e5",
   "metadata": {},
   "source": [
    "### What is a Power Analysis?"
   ]
  },
  {
   "cell_type": "markdown",
   "id": "91205235-ed6c-4ea9-be06-d1a2906028b0",
   "metadata": {},
   "source": [
    "What is a power analysis for sample size? Power analysis combines statistical analysis, subject-area knowledge, and your requirements to help you \n",
    "derive the optimal sample size for your study. Statistical power in a hypothesis test is the probability that the test will detect an effect that \n",
    "actually exists.\n",
    "\n",
    "[Read more here!](https://statisticsbyjim.com/hypothesis-testing/sample-size-power-analysis/)"
   ]
  },
  {
   "cell_type": "markdown",
   "id": "b5b08648-3a8d-4ab5-8557-456f0de482f0",
   "metadata": {},
   "source": [
    "### Lesson 9 Review for Power Analysis Hands-On"
   ]
  },
  {
   "cell_type": "markdown",
   "id": "ec8fc9c6-7812-460e-a2c0-477251feaa8c",
   "metadata": {},
   "source": [
    "Remember to go back through your lessons to check which type of hypothesis testing you will need.\n",
    "\n",
    "[Click here!](https://github.com/woz-u/DS-Student-Resources/blob/main/DS105-Intermediate-Statistics/DS105-L9-Power-Analysis.ipynb)"
   ]
  },
  {
   "cell_type": "markdown",
   "id": "38d8984b-fdb8-477c-b04f-777bdfa5a2f3",
   "metadata": {},
   "source": [
    "### Scenario # 1"
   ]
  },
  {
   "cell_type": "markdown",
   "id": "afca915f-834c-44c6-a056-baf9a5d415f6",
   "metadata": {},
   "source": [
    "As a crop researcher, you want to test the effect of three different fertilizer mixtures on crop yield. What hypothesis test would you use?\n"
   ]
  },
  {
   "cell_type": "markdown",
   "id": "e6e63150-6e9b-4677-bb4a-e97472da2d1c",
   "metadata": {},
   "source": [
    "### Scenario # 2"
   ]
  },
  {
   "cell_type": "markdown",
   "id": "78edc967-fe3c-410c-95eb-342a73e62943",
   "metadata": {},
   "source": [
    "A new drug is tested on a random sample of insomniacs: 7 young people (20-40 yrs), 7 middle-aged people (40-60 yrs) and 7 older people (60+ yrs). The number of minutes each person sleeps per night is recorded for \n",
    "5 successive nights in Figure 1. Determine whether the drug is effective."
   ]
  },
  {
   "cell_type": "markdown",
   "id": "4a15e429-a6b1-400d-b07b-73c46f6bf4ce",
   "metadata": {},
   "source": [
    "### Scenario # 3"
   ]
  },
  {
   "cell_type": "markdown",
   "id": "3dfa26be-fe77-44f2-8170-5c28dcdb9d67",
   "metadata": {},
   "source": [
    "A school district is designing a multiple regression study looking at the effect of gender, family income, mother’s education and language spoken in the home on the English language proficiency scores of Latino high \n",
    "school students. The variables gender and family income are control variables and not of primary research interest.  Mother’s education is a continuous variable that measures the number of years that the mother \n",
    "attended school.  The range of this variable is expected to be from 4 to 20.  The variable language spoken (homelang) in the home is a categorical research variable with three levels: 1) Spanish only, \n",
    "2) both Spanish and English, and 3) English only.  Since there are three levels, it will take two dummy variables to code language spoken in the home.\n"
   ]
  },
  {
   "cell_type": "markdown",
   "id": "f8ab4c87-b2f6-41c5-b4e8-8778cc9bbd07",
   "metadata": {},
   "source": [
    "### Please review answers after you have attempted to answer the Scenarios above!"
   ]
  },
  {
   "cell_type": "markdown",
   "id": "b395efb5-145b-495d-b0b9-5782a8ebeaf4",
   "metadata": {},
   "source": [
    "\n",
    "\n",
    "\n",
    "\n",
    "\n",
    "\n",
    "\n",
    "\n",
    "\n",
    "\n",
    "\n",
    "\n",
    "[ANOVA](https://www.scribbr.com/statistics/one-way-anova/)\n",
    "[Linear Multiple Regression](https://stats.oarc.ucla.edu/other/gpower/multiple-regression-power-analysis/)\n",
    "[MANOVA](https://www.real-statistics.com/multivariate-statistics/multivariate-repeated-measures-tests/two-factor-multivariate-repeated-measures/)\n"
   ]
  },
  {
   "cell_type": "markdown",
   "id": "97636fa6-f1d3-4e87-9533-03d13f565184",
   "metadata": {},
   "source": [
    "Also important in this lesson is to brush up on your Type I and Type II error rates, and learn how they interact with power, or the ability to detect effects. Below are a few images to refresh your memory on p value and Type 1 and Type II errors. Remember, a null hypothesis always assumes there's no observable difference and any alternative hypothesis assumes there is a significant difference.  "
   ]
  },
  {
   "cell_type": "markdown",
   "id": "6855e641-e4a9-4f2a-953b-22496de944b3",
   "metadata": {},
   "source": [
    "![Bell Curve observations and p value](../Media/bell%20curve%20observations.png)\n",
    "\n",
    "![Type 1 and 2 error](../Media/type%20error%20graphic.jpg)\n",
    "\n",
    "![Type 1 and 2 error](../Media/type-1-2-error-example.png)"
   ]
  },
  {
   "cell_type": "code",
   "execution_count": null,
   "id": "5a973241-4ca2-4158-bfae-c05622b2ed8a",
   "metadata": {},
   "outputs": [],
   "source": []
  }
 ],
 "metadata": {
  "kernelspec": {
   "display_name": "Python 3 (ipykernel)",
   "language": "python",
   "name": "python3"
  },
  "language_info": {
   "codemirror_mode": {
    "name": "ipython",
    "version": 3
   },
   "file_extension": ".py",
   "mimetype": "text/x-python",
   "name": "python",
   "nbconvert_exporter": "python",
   "pygments_lexer": "ipython3",
   "version": "3.10.4"
  }
 },
 "nbformat": 4,
 "nbformat_minor": 5
}
