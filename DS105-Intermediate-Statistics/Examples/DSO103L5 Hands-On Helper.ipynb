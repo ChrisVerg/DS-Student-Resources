{
 "cells": [
  {
   "cell_type": "markdown",
   "id": "0894cde5-2ce0-4e8c-9996-b83b59257c74",
   "metadata": {},
   "source": [
    "# DSO 103 Lesson 5 Hands-on Helper "
   ]
  },
  {
   "cell_type": "markdown",
   "id": "ccac0566-a0e3-46e0-986d-d7ef2ddec57c",
   "metadata": {},
   "source": [
    "### Install packages found on page 7"
   ]
  },
  {
   "cell_type": "code",
   "execution_count": 2,
   "id": "7178b881-ece7-4af5-b6fb-de2ef3c7dda6",
   "metadata": {},
   "outputs": [
    {
     "name": "stdout",
     "output_type": "stream",
     "text": [
      "\n",
      "The downloaded binary packages are in\n",
      "\t/var/folders/gx/39_9k2p93d75vmqppdn3h9kc0000gn/T//RtmpqSNhW1/downloaded_packages\n",
      "\n",
      "The downloaded binary packages are in\n",
      "\t/var/folders/gx/39_9k2p93d75vmqppdn3h9kc0000gn/T//RtmpqSNhW1/downloaded_packages\n",
      "\n",
      "The downloaded binary packages are in\n",
      "\t/var/folders/gx/39_9k2p93d75vmqppdn3h9kc0000gn/T//RtmpqSNhW1/downloaded_packages\n",
      "\n",
      "The downloaded binary packages are in\n",
      "\t/var/folders/gx/39_9k2p93d75vmqppdn3h9kc0000gn/T//RtmpqSNhW1/downloaded_packages\n"
     ]
    }
   ],
   "source": [
    "install.packages(\"corpcor\")\n",
    "install.packages(\"GPArotation\")\n",
    "install.packages(\"psych\")\n",
    "install.packages(\"IDPmisc\")"
   ]
  },
  {
   "cell_type": "code",
   "execution_count": 3,
   "id": "896d4891-426f-4626-a715-3333244a555a",
   "metadata": {},
   "outputs": [],
   "source": [
    "library(\"corpcor\")\n",
    "library(\"GPArotation\")\n",
    "library(\"psych\")\n",
    "library(\"IDPmisc\")"
   ]
  },
  {
   "cell_type": "markdown",
   "id": "6325c9ff-3c63-44d4-b3ab-86f50b046fe3",
   "metadata": {},
   "source": [
    "### Import Data"
   ]
  },
  {
   "cell_type": "code",
   "execution_count": 1,
   "id": "482e1bbf-5ff7-4b86-9a2d-9eeebcd88987",
   "metadata": {},
   "outputs": [],
   "source": [
    "StudentSurvey = read.csv(\"/Users/kendrarhoades/Desktop/Data Science/DSO103 Metrics and Data Processing/studentSurvey/studentSurvey.csv\")"
   ]
  },
  {
   "cell_type": "markdown",
   "id": "8b05f625-a206-4ce0-babf-dd7bf159c903",
   "metadata": {},
   "source": [
    "### Subset the data to the columns you need "
   ]
  },
  {
   "cell_type": "code",
   "execution_count": 16,
   "id": "6ffede84-ebd8-4687-baaa-1a2eec7a46d7",
   "metadata": {},
   "outputs": [],
   "source": [
    "studentSurveyArea <- StudentSurvey[, 43:54]"
   ]
  },
  {
   "cell_type": "code",
   "execution_count": 17,
   "id": "4c892958-7f44-4e70-ae33-8bfc7c9b61da",
   "metadata": {},
   "outputs": [
    {
     "data": {
      "text/html": [
       "<table class=\"dataframe\">\n",
       "<caption>A data.frame: 500 × 12</caption>\n",
       "<thead>\n",
       "\t<tr><th scope=col>Item1</th><th scope=col>Item2</th><th scope=col>Item3</th><th scope=col>Item4</th><th scope=col>Item5</th><th scope=col>Item6</th><th scope=col>Item7</th><th scope=col>Item8</th><th scope=col>Item9</th><th scope=col>Item10</th><th scope=col>Item11</th><th scope=col>Item12</th></tr>\n",
       "\t<tr><th scope=col>&lt;int&gt;</th><th scope=col>&lt;int&gt;</th><th scope=col>&lt;int&gt;</th><th scope=col>&lt;int&gt;</th><th scope=col>&lt;int&gt;</th><th scope=col>&lt;int&gt;</th><th scope=col>&lt;int&gt;</th><th scope=col>&lt;int&gt;</th><th scope=col>&lt;int&gt;</th><th scope=col>&lt;int&gt;</th><th scope=col>&lt;int&gt;</th><th scope=col>&lt;int&gt;</th></tr>\n",
       "</thead>\n",
       "<tbody>\n",
       "\t<tr><td>5</td><td>4</td><td>5</td><td>5</td><td> 5</td><td>5</td><td>5</td><td>5</td><td>5</td><td>5</td><td>5</td><td>5</td></tr>\n",
       "\t<tr><td>5</td><td>4</td><td>4</td><td>4</td><td> 4</td><td>5</td><td>4</td><td>3</td><td>3</td><td>4</td><td>5</td><td>5</td></tr>\n",
       "\t<tr><td>4</td><td>5</td><td>5</td><td>5</td><td>NA</td><td>5</td><td>4</td><td>5</td><td>4</td><td>5</td><td>5</td><td>4</td></tr>\n",
       "\t<tr><td>5</td><td>5</td><td>5</td><td>5</td><td> 5</td><td>5</td><td>5</td><td>5</td><td>5</td><td>5</td><td>5</td><td>5</td></tr>\n",
       "\t<tr><td>5</td><td>5</td><td>5</td><td>5</td><td> 5</td><td>5</td><td>4</td><td>5</td><td>5</td><td>5</td><td>5</td><td>4</td></tr>\n",
       "\t<tr><td>5</td><td>5</td><td>5</td><td>5</td><td> 4</td><td>5</td><td>5</td><td>5</td><td>5</td><td>5</td><td>5</td><td>5</td></tr>\n",
       "\t<tr><td>5</td><td>4</td><td>4</td><td>5</td><td> 4</td><td>5</td><td>5</td><td>5</td><td>5</td><td>5</td><td>5</td><td>5</td></tr>\n",
       "\t<tr><td>5</td><td>5</td><td>5</td><td>5</td><td> 5</td><td>5</td><td>5</td><td>5</td><td>5</td><td>5</td><td>5</td><td>5</td></tr>\n",
       "\t<tr><td>5</td><td>5</td><td>5</td><td>5</td><td> 5</td><td>5</td><td>5</td><td>5</td><td>5</td><td>5</td><td>5</td><td>5</td></tr>\n",
       "\t<tr><td>5</td><td>5</td><td>5</td><td>5</td><td> 5</td><td>5</td><td>5</td><td>5</td><td>5</td><td>5</td><td>5</td><td>5</td></tr>\n",
       "\t<tr><td>5</td><td>5</td><td>5</td><td>4</td><td> 4</td><td>4</td><td>5</td><td>5</td><td>4</td><td>5</td><td>5</td><td>4</td></tr>\n",
       "\t<tr><td>4</td><td>4</td><td>5</td><td>5</td><td> 5</td><td>4</td><td>5</td><td>5</td><td>5</td><td>4</td><td>4</td><td>5</td></tr>\n",
       "\t<tr><td>5</td><td>4</td><td>4</td><td>5</td><td> 5</td><td>4</td><td>4</td><td>4</td><td>5</td><td>5</td><td>4</td><td>5</td></tr>\n",
       "\t<tr><td>5</td><td>4</td><td>5</td><td>5</td><td> 5</td><td>5</td><td>4</td><td>5</td><td>4</td><td>5</td><td>4</td><td>4</td></tr>\n",
       "\t<tr><td>5</td><td>5</td><td>4</td><td>3</td><td> 5</td><td>4</td><td>4</td><td>5</td><td>4</td><td>5</td><td>1</td><td>5</td></tr>\n",
       "\t<tr><td>2</td><td>5</td><td>5</td><td>4</td><td> 5</td><td>4</td><td>5</td><td>5</td><td>5</td><td>4</td><td>5</td><td>5</td></tr>\n",
       "\t<tr><td>4</td><td>5</td><td>5</td><td>5</td><td> 5</td><td>1</td><td>2</td><td>4</td><td>4</td><td>5</td><td>4</td><td>2</td></tr>\n",
       "\t<tr><td>4</td><td>5</td><td>5</td><td>5</td><td> 4</td><td>2</td><td>3</td><td>4</td><td>4</td><td>5</td><td>3</td><td>2</td></tr>\n",
       "\t<tr><td>4</td><td>5</td><td>5</td><td>4</td><td> 4</td><td>5</td><td>5</td><td>4</td><td>5</td><td>5</td><td>4</td><td>5</td></tr>\n",
       "\t<tr><td>4</td><td>5</td><td>5</td><td>4</td><td> 5</td><td>4</td><td>4</td><td>2</td><td>4</td><td>5</td><td>5</td><td>3</td></tr>\n",
       "\t<tr><td>4</td><td>4</td><td>5</td><td>4</td><td> 5</td><td>4</td><td>5</td><td>2</td><td>2</td><td>5</td><td>4</td><td>2</td></tr>\n",
       "\t<tr><td>5</td><td>4</td><td>5</td><td>5</td><td> 5</td><td>5</td><td>5</td><td>5</td><td>5</td><td>4</td><td>5</td><td>4</td></tr>\n",
       "\t<tr><td>5</td><td>5</td><td>5</td><td>5</td><td> 5</td><td>5</td><td>5</td><td>4</td><td>4</td><td>5</td><td>5</td><td>4</td></tr>\n",
       "\t<tr><td>5</td><td>5</td><td>5</td><td>5</td><td> 5</td><td>5</td><td>5</td><td>5</td><td>4</td><td>5</td><td>5</td><td>5</td></tr>\n",
       "\t<tr><td>5</td><td>5</td><td>4</td><td>3</td><td> 5</td><td>3</td><td>4</td><td>3</td><td>4</td><td>4</td><td>5</td><td>2</td></tr>\n",
       "\t<tr><td>5</td><td>4</td><td>2</td><td>4</td><td> 5</td><td>4</td><td>4</td><td>4</td><td>4</td><td>5</td><td>5</td><td>5</td></tr>\n",
       "\t<tr><td>3</td><td>3</td><td>5</td><td>3</td><td> 5</td><td>3</td><td>5</td><td>3</td><td>4</td><td>5</td><td>2</td><td>3</td></tr>\n",
       "\t<tr><td>4</td><td>4</td><td>5</td><td>4</td><td> 4</td><td>5</td><td>5</td><td>5</td><td>5</td><td>5</td><td>5</td><td>4</td></tr>\n",
       "\t<tr><td>5</td><td>4</td><td>4</td><td>3</td><td> 4</td><td>4</td><td>4</td><td>5</td><td>4</td><td>3</td><td>4</td><td>4</td></tr>\n",
       "\t<tr><td>5</td><td>4</td><td>4</td><td>4</td><td> 5</td><td>5</td><td>5</td><td>4</td><td>5</td><td>5</td><td>5</td><td>4</td></tr>\n",
       "\t<tr><td>⋮</td><td>⋮</td><td>⋮</td><td>⋮</td><td>⋮</td><td>⋮</td><td>⋮</td><td>⋮</td><td>⋮</td><td>⋮</td><td>⋮</td><td>⋮</td></tr>\n",
       "\t<tr><td> 4</td><td> 5</td><td> 4</td><td> 5</td><td> 4</td><td>4</td><td>5</td><td> 4</td><td>5</td><td> 4</td><td> 5</td><td> 4</td></tr>\n",
       "\t<tr><td> 5</td><td> 4</td><td> 5</td><td> 4</td><td> 4</td><td>4</td><td>5</td><td> 4</td><td>3</td><td> 4</td><td> 4</td><td> 4</td></tr>\n",
       "\t<tr><td> 5</td><td> 5</td><td> 4</td><td> 5</td><td> 5</td><td>5</td><td>5</td><td> 5</td><td>5</td><td>NA</td><td> 5</td><td> 4</td></tr>\n",
       "\t<tr><td> 4</td><td> 4</td><td> 5</td><td> 4</td><td> 5</td><td>4</td><td>5</td><td> 3</td><td>3</td><td> 2</td><td> 2</td><td> 1</td></tr>\n",
       "\t<tr><td> 4</td><td> 2</td><td> 4</td><td> 4</td><td> 4</td><td>4</td><td>4</td><td> 4</td><td>5</td><td> 4</td><td> 4</td><td> 4</td></tr>\n",
       "\t<tr><td> 3</td><td> 3</td><td> 3</td><td> 4</td><td> 4</td><td>4</td><td>3</td><td> 3</td><td>4</td><td> 2</td><td> 3</td><td> 3</td></tr>\n",
       "\t<tr><td> 3</td><td> 4</td><td> 3</td><td> 4</td><td> 4</td><td>4</td><td>3</td><td> 4</td><td>3</td><td> 4</td><td> 3</td><td> 3</td></tr>\n",
       "\t<tr><td> 4</td><td> 5</td><td> 4</td><td> 4</td><td> 5</td><td>5</td><td>4</td><td> 5</td><td>4</td><td> 5</td><td> 4</td><td> 4</td></tr>\n",
       "\t<tr><td>NA</td><td>NA</td><td>NA</td><td>NA</td><td>NA</td><td>4</td><td>4</td><td> 4</td><td>5</td><td> 5</td><td> 4</td><td> 2</td></tr>\n",
       "\t<tr><td> 4</td><td> 2</td><td> 4</td><td> 4</td><td> 4</td><td>4</td><td>4</td><td> 5</td><td>4</td><td> 4</td><td> 5</td><td> 4</td></tr>\n",
       "\t<tr><td> 5</td><td> 5</td><td> 5</td><td> 4</td><td> 4</td><td>4</td><td>4</td><td> 3</td><td>4</td><td> 5</td><td> 5</td><td> 4</td></tr>\n",
       "\t<tr><td> 5</td><td> 5</td><td> 5</td><td> 5</td><td> 5</td><td>5</td><td>5</td><td> 5</td><td>5</td><td> 5</td><td> 5</td><td> 5</td></tr>\n",
       "\t<tr><td> 4</td><td> 4</td><td> 2</td><td> 4</td><td> 3</td><td>4</td><td>3</td><td> 4</td><td>3</td><td> 4</td><td> 4</td><td> 4</td></tr>\n",
       "\t<tr><td> 5</td><td> 5</td><td> 5</td><td> 4</td><td> 4</td><td>4</td><td>4</td><td> 4</td><td>5</td><td> 4</td><td> 4</td><td> 4</td></tr>\n",
       "\t<tr><td> 5</td><td> 4</td><td> 3</td><td> 4</td><td> 4</td><td>4</td><td>3</td><td> 4</td><td>3</td><td> 4</td><td> 3</td><td> 4</td></tr>\n",
       "\t<tr><td> 5</td><td> 4</td><td> 4</td><td> 3</td><td> 4</td><td>5</td><td>4</td><td> 4</td><td>5</td><td> 4</td><td> 5</td><td> 4</td></tr>\n",
       "\t<tr><td> 4</td><td> 5</td><td> 4</td><td> 5</td><td> 3</td><td>5</td><td>4</td><td> 5</td><td>5</td><td> 5</td><td> 5</td><td>NA</td></tr>\n",
       "\t<tr><td> 4</td><td> 5</td><td> 4</td><td> 4</td><td> 4</td><td>5</td><td>4</td><td> 4</td><td>4</td><td> 3</td><td> 5</td><td> 5</td></tr>\n",
       "\t<tr><td> 4</td><td> 5</td><td> 4</td><td> 3</td><td> 4</td><td>4</td><td>3</td><td> 4</td><td>3</td><td> 4</td><td>NA</td><td> 5</td></tr>\n",
       "\t<tr><td> 5</td><td> 5</td><td> 5</td><td> 5</td><td> 5</td><td>5</td><td>5</td><td> 5</td><td>5</td><td>NA</td><td> 5</td><td> 5</td></tr>\n",
       "\t<tr><td> 5</td><td> 5</td><td> 4</td><td> 4</td><td> 5</td><td>5</td><td>4</td><td> 5</td><td>4</td><td> 3</td><td> 4</td><td> 4</td></tr>\n",
       "\t<tr><td> 5</td><td> 4</td><td> 5</td><td> 5</td><td> 4</td><td>4</td><td>4</td><td> 4</td><td>5</td><td> 5</td><td> 5</td><td> 5</td></tr>\n",
       "\t<tr><td> 4</td><td> 4</td><td> 4</td><td> 4</td><td> 4</td><td>3</td><td>3</td><td>NA</td><td>3</td><td> 3</td><td> 3</td><td> 3</td></tr>\n",
       "\t<tr><td> 1</td><td> 1</td><td> 1</td><td> 1</td><td> 1</td><td>1</td><td>1</td><td> 1</td><td>1</td><td> 1</td><td> 1</td><td> 1</td></tr>\n",
       "\t<tr><td> 5</td><td> 5</td><td> 5</td><td> 5</td><td> 5</td><td>5</td><td>5</td><td> 5</td><td>4</td><td> 3</td><td> 2</td><td> 4</td></tr>\n",
       "\t<tr><td> 2</td><td> 2</td><td> 2</td><td> 2</td><td> 2</td><td>2</td><td>2</td><td> 2</td><td>2</td><td> 2</td><td> 2</td><td> 3</td></tr>\n",
       "\t<tr><td> 5</td><td> 5</td><td> 5</td><td> 5</td><td> 5</td><td>5</td><td>5</td><td> 4</td><td>4</td><td> 5</td><td> 4</td><td> 4</td></tr>\n",
       "\t<tr><td> 2</td><td> 1</td><td> 2</td><td> 1</td><td> 2</td><td>2</td><td>1</td><td> 2</td><td>1</td><td> 2</td><td> 1</td><td> 2</td></tr>\n",
       "\t<tr><td> 5</td><td> 4</td><td> 3</td><td> 2</td><td> 1</td><td>5</td><td>4</td><td> 3</td><td>4</td><td> 3</td><td> 4</td><td> 5</td></tr>\n",
       "\t<tr><td> 2</td><td> 2</td><td> 2</td><td> 2</td><td> 2</td><td>2</td><td>2</td><td>NA</td><td>2</td><td> 2</td><td> 2</td><td> 2</td></tr>\n",
       "</tbody>\n",
       "</table>\n"
      ],
      "text/latex": [
       "A data.frame: 500 × 12\n",
       "\\begin{tabular}{llllllllllll}\n",
       " Item1 & Item2 & Item3 & Item4 & Item5 & Item6 & Item7 & Item8 & Item9 & Item10 & Item11 & Item12\\\\\n",
       " <int> & <int> & <int> & <int> & <int> & <int> & <int> & <int> & <int> & <int> & <int> & <int>\\\\\n",
       "\\hline\n",
       "\t 5 & 4 & 5 & 5 &  5 & 5 & 5 & 5 & 5 & 5 & 5 & 5\\\\\n",
       "\t 5 & 4 & 4 & 4 &  4 & 5 & 4 & 3 & 3 & 4 & 5 & 5\\\\\n",
       "\t 4 & 5 & 5 & 5 & NA & 5 & 4 & 5 & 4 & 5 & 5 & 4\\\\\n",
       "\t 5 & 5 & 5 & 5 &  5 & 5 & 5 & 5 & 5 & 5 & 5 & 5\\\\\n",
       "\t 5 & 5 & 5 & 5 &  5 & 5 & 4 & 5 & 5 & 5 & 5 & 4\\\\\n",
       "\t 5 & 5 & 5 & 5 &  4 & 5 & 5 & 5 & 5 & 5 & 5 & 5\\\\\n",
       "\t 5 & 4 & 4 & 5 &  4 & 5 & 5 & 5 & 5 & 5 & 5 & 5\\\\\n",
       "\t 5 & 5 & 5 & 5 &  5 & 5 & 5 & 5 & 5 & 5 & 5 & 5\\\\\n",
       "\t 5 & 5 & 5 & 5 &  5 & 5 & 5 & 5 & 5 & 5 & 5 & 5\\\\\n",
       "\t 5 & 5 & 5 & 5 &  5 & 5 & 5 & 5 & 5 & 5 & 5 & 5\\\\\n",
       "\t 5 & 5 & 5 & 4 &  4 & 4 & 5 & 5 & 4 & 5 & 5 & 4\\\\\n",
       "\t 4 & 4 & 5 & 5 &  5 & 4 & 5 & 5 & 5 & 4 & 4 & 5\\\\\n",
       "\t 5 & 4 & 4 & 5 &  5 & 4 & 4 & 4 & 5 & 5 & 4 & 5\\\\\n",
       "\t 5 & 4 & 5 & 5 &  5 & 5 & 4 & 5 & 4 & 5 & 4 & 4\\\\\n",
       "\t 5 & 5 & 4 & 3 &  5 & 4 & 4 & 5 & 4 & 5 & 1 & 5\\\\\n",
       "\t 2 & 5 & 5 & 4 &  5 & 4 & 5 & 5 & 5 & 4 & 5 & 5\\\\\n",
       "\t 4 & 5 & 5 & 5 &  5 & 1 & 2 & 4 & 4 & 5 & 4 & 2\\\\\n",
       "\t 4 & 5 & 5 & 5 &  4 & 2 & 3 & 4 & 4 & 5 & 3 & 2\\\\\n",
       "\t 4 & 5 & 5 & 4 &  4 & 5 & 5 & 4 & 5 & 5 & 4 & 5\\\\\n",
       "\t 4 & 5 & 5 & 4 &  5 & 4 & 4 & 2 & 4 & 5 & 5 & 3\\\\\n",
       "\t 4 & 4 & 5 & 4 &  5 & 4 & 5 & 2 & 2 & 5 & 4 & 2\\\\\n",
       "\t 5 & 4 & 5 & 5 &  5 & 5 & 5 & 5 & 5 & 4 & 5 & 4\\\\\n",
       "\t 5 & 5 & 5 & 5 &  5 & 5 & 5 & 4 & 4 & 5 & 5 & 4\\\\\n",
       "\t 5 & 5 & 5 & 5 &  5 & 5 & 5 & 5 & 4 & 5 & 5 & 5\\\\\n",
       "\t 5 & 5 & 4 & 3 &  5 & 3 & 4 & 3 & 4 & 4 & 5 & 2\\\\\n",
       "\t 5 & 4 & 2 & 4 &  5 & 4 & 4 & 4 & 4 & 5 & 5 & 5\\\\\n",
       "\t 3 & 3 & 5 & 3 &  5 & 3 & 5 & 3 & 4 & 5 & 2 & 3\\\\\n",
       "\t 4 & 4 & 5 & 4 &  4 & 5 & 5 & 5 & 5 & 5 & 5 & 4\\\\\n",
       "\t 5 & 4 & 4 & 3 &  4 & 4 & 4 & 5 & 4 & 3 & 4 & 4\\\\\n",
       "\t 5 & 4 & 4 & 4 &  5 & 5 & 5 & 4 & 5 & 5 & 5 & 4\\\\\n",
       "\t ⋮ & ⋮ & ⋮ & ⋮ & ⋮ & ⋮ & ⋮ & ⋮ & ⋮ & ⋮ & ⋮ & ⋮\\\\\n",
       "\t  4 &  5 &  4 &  5 &  4 & 4 & 5 &  4 & 5 &  4 &  5 &  4\\\\\n",
       "\t  5 &  4 &  5 &  4 &  4 & 4 & 5 &  4 & 3 &  4 &  4 &  4\\\\\n",
       "\t  5 &  5 &  4 &  5 &  5 & 5 & 5 &  5 & 5 & NA &  5 &  4\\\\\n",
       "\t  4 &  4 &  5 &  4 &  5 & 4 & 5 &  3 & 3 &  2 &  2 &  1\\\\\n",
       "\t  4 &  2 &  4 &  4 &  4 & 4 & 4 &  4 & 5 &  4 &  4 &  4\\\\\n",
       "\t  3 &  3 &  3 &  4 &  4 & 4 & 3 &  3 & 4 &  2 &  3 &  3\\\\\n",
       "\t  3 &  4 &  3 &  4 &  4 & 4 & 3 &  4 & 3 &  4 &  3 &  3\\\\\n",
       "\t  4 &  5 &  4 &  4 &  5 & 5 & 4 &  5 & 4 &  5 &  4 &  4\\\\\n",
       "\t NA & NA & NA & NA & NA & 4 & 4 &  4 & 5 &  5 &  4 &  2\\\\\n",
       "\t  4 &  2 &  4 &  4 &  4 & 4 & 4 &  5 & 4 &  4 &  5 &  4\\\\\n",
       "\t  5 &  5 &  5 &  4 &  4 & 4 & 4 &  3 & 4 &  5 &  5 &  4\\\\\n",
       "\t  5 &  5 &  5 &  5 &  5 & 5 & 5 &  5 & 5 &  5 &  5 &  5\\\\\n",
       "\t  4 &  4 &  2 &  4 &  3 & 4 & 3 &  4 & 3 &  4 &  4 &  4\\\\\n",
       "\t  5 &  5 &  5 &  4 &  4 & 4 & 4 &  4 & 5 &  4 &  4 &  4\\\\\n",
       "\t  5 &  4 &  3 &  4 &  4 & 4 & 3 &  4 & 3 &  4 &  3 &  4\\\\\n",
       "\t  5 &  4 &  4 &  3 &  4 & 5 & 4 &  4 & 5 &  4 &  5 &  4\\\\\n",
       "\t  4 &  5 &  4 &  5 &  3 & 5 & 4 &  5 & 5 &  5 &  5 & NA\\\\\n",
       "\t  4 &  5 &  4 &  4 &  4 & 5 & 4 &  4 & 4 &  3 &  5 &  5\\\\\n",
       "\t  4 &  5 &  4 &  3 &  4 & 4 & 3 &  4 & 3 &  4 & NA &  5\\\\\n",
       "\t  5 &  5 &  5 &  5 &  5 & 5 & 5 &  5 & 5 & NA &  5 &  5\\\\\n",
       "\t  5 &  5 &  4 &  4 &  5 & 5 & 4 &  5 & 4 &  3 &  4 &  4\\\\\n",
       "\t  5 &  4 &  5 &  5 &  4 & 4 & 4 &  4 & 5 &  5 &  5 &  5\\\\\n",
       "\t  4 &  4 &  4 &  4 &  4 & 3 & 3 & NA & 3 &  3 &  3 &  3\\\\\n",
       "\t  1 &  1 &  1 &  1 &  1 & 1 & 1 &  1 & 1 &  1 &  1 &  1\\\\\n",
       "\t  5 &  5 &  5 &  5 &  5 & 5 & 5 &  5 & 4 &  3 &  2 &  4\\\\\n",
       "\t  2 &  2 &  2 &  2 &  2 & 2 & 2 &  2 & 2 &  2 &  2 &  3\\\\\n",
       "\t  5 &  5 &  5 &  5 &  5 & 5 & 5 &  4 & 4 &  5 &  4 &  4\\\\\n",
       "\t  2 &  1 &  2 &  1 &  2 & 2 & 1 &  2 & 1 &  2 &  1 &  2\\\\\n",
       "\t  5 &  4 &  3 &  2 &  1 & 5 & 4 &  3 & 4 &  3 &  4 &  5\\\\\n",
       "\t  2 &  2 &  2 &  2 &  2 & 2 & 2 & NA & 2 &  2 &  2 &  2\\\\\n",
       "\\end{tabular}\n"
      ],
      "text/markdown": [
       "\n",
       "A data.frame: 500 × 12\n",
       "\n",
       "| Item1 &lt;int&gt; | Item2 &lt;int&gt; | Item3 &lt;int&gt; | Item4 &lt;int&gt; | Item5 &lt;int&gt; | Item6 &lt;int&gt; | Item7 &lt;int&gt; | Item8 &lt;int&gt; | Item9 &lt;int&gt; | Item10 &lt;int&gt; | Item11 &lt;int&gt; | Item12 &lt;int&gt; |\n",
       "|---|---|---|---|---|---|---|---|---|---|---|---|\n",
       "| 5 | 4 | 5 | 5 |  5 | 5 | 5 | 5 | 5 | 5 | 5 | 5 |\n",
       "| 5 | 4 | 4 | 4 |  4 | 5 | 4 | 3 | 3 | 4 | 5 | 5 |\n",
       "| 4 | 5 | 5 | 5 | NA | 5 | 4 | 5 | 4 | 5 | 5 | 4 |\n",
       "| 5 | 5 | 5 | 5 |  5 | 5 | 5 | 5 | 5 | 5 | 5 | 5 |\n",
       "| 5 | 5 | 5 | 5 |  5 | 5 | 4 | 5 | 5 | 5 | 5 | 4 |\n",
       "| 5 | 5 | 5 | 5 |  4 | 5 | 5 | 5 | 5 | 5 | 5 | 5 |\n",
       "| 5 | 4 | 4 | 5 |  4 | 5 | 5 | 5 | 5 | 5 | 5 | 5 |\n",
       "| 5 | 5 | 5 | 5 |  5 | 5 | 5 | 5 | 5 | 5 | 5 | 5 |\n",
       "| 5 | 5 | 5 | 5 |  5 | 5 | 5 | 5 | 5 | 5 | 5 | 5 |\n",
       "| 5 | 5 | 5 | 5 |  5 | 5 | 5 | 5 | 5 | 5 | 5 | 5 |\n",
       "| 5 | 5 | 5 | 4 |  4 | 4 | 5 | 5 | 4 | 5 | 5 | 4 |\n",
       "| 4 | 4 | 5 | 5 |  5 | 4 | 5 | 5 | 5 | 4 | 4 | 5 |\n",
       "| 5 | 4 | 4 | 5 |  5 | 4 | 4 | 4 | 5 | 5 | 4 | 5 |\n",
       "| 5 | 4 | 5 | 5 |  5 | 5 | 4 | 5 | 4 | 5 | 4 | 4 |\n",
       "| 5 | 5 | 4 | 3 |  5 | 4 | 4 | 5 | 4 | 5 | 1 | 5 |\n",
       "| 2 | 5 | 5 | 4 |  5 | 4 | 5 | 5 | 5 | 4 | 5 | 5 |\n",
       "| 4 | 5 | 5 | 5 |  5 | 1 | 2 | 4 | 4 | 5 | 4 | 2 |\n",
       "| 4 | 5 | 5 | 5 |  4 | 2 | 3 | 4 | 4 | 5 | 3 | 2 |\n",
       "| 4 | 5 | 5 | 4 |  4 | 5 | 5 | 4 | 5 | 5 | 4 | 5 |\n",
       "| 4 | 5 | 5 | 4 |  5 | 4 | 4 | 2 | 4 | 5 | 5 | 3 |\n",
       "| 4 | 4 | 5 | 4 |  5 | 4 | 5 | 2 | 2 | 5 | 4 | 2 |\n",
       "| 5 | 4 | 5 | 5 |  5 | 5 | 5 | 5 | 5 | 4 | 5 | 4 |\n",
       "| 5 | 5 | 5 | 5 |  5 | 5 | 5 | 4 | 4 | 5 | 5 | 4 |\n",
       "| 5 | 5 | 5 | 5 |  5 | 5 | 5 | 5 | 4 | 5 | 5 | 5 |\n",
       "| 5 | 5 | 4 | 3 |  5 | 3 | 4 | 3 | 4 | 4 | 5 | 2 |\n",
       "| 5 | 4 | 2 | 4 |  5 | 4 | 4 | 4 | 4 | 5 | 5 | 5 |\n",
       "| 3 | 3 | 5 | 3 |  5 | 3 | 5 | 3 | 4 | 5 | 2 | 3 |\n",
       "| 4 | 4 | 5 | 4 |  4 | 5 | 5 | 5 | 5 | 5 | 5 | 4 |\n",
       "| 5 | 4 | 4 | 3 |  4 | 4 | 4 | 5 | 4 | 3 | 4 | 4 |\n",
       "| 5 | 4 | 4 | 4 |  5 | 5 | 5 | 4 | 5 | 5 | 5 | 4 |\n",
       "| ⋮ | ⋮ | ⋮ | ⋮ | ⋮ | ⋮ | ⋮ | ⋮ | ⋮ | ⋮ | ⋮ | ⋮ |\n",
       "|  4 |  5 |  4 |  5 |  4 | 4 | 5 |  4 | 5 |  4 |  5 |  4 |\n",
       "|  5 |  4 |  5 |  4 |  4 | 4 | 5 |  4 | 3 |  4 |  4 |  4 |\n",
       "|  5 |  5 |  4 |  5 |  5 | 5 | 5 |  5 | 5 | NA |  5 |  4 |\n",
       "|  4 |  4 |  5 |  4 |  5 | 4 | 5 |  3 | 3 |  2 |  2 |  1 |\n",
       "|  4 |  2 |  4 |  4 |  4 | 4 | 4 |  4 | 5 |  4 |  4 |  4 |\n",
       "|  3 |  3 |  3 |  4 |  4 | 4 | 3 |  3 | 4 |  2 |  3 |  3 |\n",
       "|  3 |  4 |  3 |  4 |  4 | 4 | 3 |  4 | 3 |  4 |  3 |  3 |\n",
       "|  4 |  5 |  4 |  4 |  5 | 5 | 4 |  5 | 4 |  5 |  4 |  4 |\n",
       "| NA | NA | NA | NA | NA | 4 | 4 |  4 | 5 |  5 |  4 |  2 |\n",
       "|  4 |  2 |  4 |  4 |  4 | 4 | 4 |  5 | 4 |  4 |  5 |  4 |\n",
       "|  5 |  5 |  5 |  4 |  4 | 4 | 4 |  3 | 4 |  5 |  5 |  4 |\n",
       "|  5 |  5 |  5 |  5 |  5 | 5 | 5 |  5 | 5 |  5 |  5 |  5 |\n",
       "|  4 |  4 |  2 |  4 |  3 | 4 | 3 |  4 | 3 |  4 |  4 |  4 |\n",
       "|  5 |  5 |  5 |  4 |  4 | 4 | 4 |  4 | 5 |  4 |  4 |  4 |\n",
       "|  5 |  4 |  3 |  4 |  4 | 4 | 3 |  4 | 3 |  4 |  3 |  4 |\n",
       "|  5 |  4 |  4 |  3 |  4 | 5 | 4 |  4 | 5 |  4 |  5 |  4 |\n",
       "|  4 |  5 |  4 |  5 |  3 | 5 | 4 |  5 | 5 |  5 |  5 | NA |\n",
       "|  4 |  5 |  4 |  4 |  4 | 5 | 4 |  4 | 4 |  3 |  5 |  5 |\n",
       "|  4 |  5 |  4 |  3 |  4 | 4 | 3 |  4 | 3 |  4 | NA |  5 |\n",
       "|  5 |  5 |  5 |  5 |  5 | 5 | 5 |  5 | 5 | NA |  5 |  5 |\n",
       "|  5 |  5 |  4 |  4 |  5 | 5 | 4 |  5 | 4 |  3 |  4 |  4 |\n",
       "|  5 |  4 |  5 |  5 |  4 | 4 | 4 |  4 | 5 |  5 |  5 |  5 |\n",
       "|  4 |  4 |  4 |  4 |  4 | 3 | 3 | NA | 3 |  3 |  3 |  3 |\n",
       "|  1 |  1 |  1 |  1 |  1 | 1 | 1 |  1 | 1 |  1 |  1 |  1 |\n",
       "|  5 |  5 |  5 |  5 |  5 | 5 | 5 |  5 | 4 |  3 |  2 |  4 |\n",
       "|  2 |  2 |  2 |  2 |  2 | 2 | 2 |  2 | 2 |  2 |  2 |  3 |\n",
       "|  5 |  5 |  5 |  5 |  5 | 5 | 5 |  4 | 4 |  5 |  4 |  4 |\n",
       "|  2 |  1 |  2 |  1 |  2 | 2 | 1 |  2 | 1 |  2 |  1 |  2 |\n",
       "|  5 |  4 |  3 |  2 |  1 | 5 | 4 |  3 | 4 |  3 |  4 |  5 |\n",
       "|  2 |  2 |  2 |  2 |  2 | 2 | 2 | NA | 2 |  2 |  2 |  2 |\n",
       "\n"
      ],
      "text/plain": [
       "    Item1 Item2 Item3 Item4 Item5 Item6 Item7 Item8 Item9 Item10 Item11 Item12\n",
       "1   5     4     5     5      5    5     5     5     5     5      5      5     \n",
       "2   5     4     4     4      4    5     4     3     3     4      5      5     \n",
       "3   4     5     5     5     NA    5     4     5     4     5      5      4     \n",
       "4   5     5     5     5      5    5     5     5     5     5      5      5     \n",
       "5   5     5     5     5      5    5     4     5     5     5      5      4     \n",
       "6   5     5     5     5      4    5     5     5     5     5      5      5     \n",
       "7   5     4     4     5      4    5     5     5     5     5      5      5     \n",
       "8   5     5     5     5      5    5     5     5     5     5      5      5     \n",
       "9   5     5     5     5      5    5     5     5     5     5      5      5     \n",
       "10  5     5     5     5      5    5     5     5     5     5      5      5     \n",
       "11  5     5     5     4      4    4     5     5     4     5      5      4     \n",
       "12  4     4     5     5      5    4     5     5     5     4      4      5     \n",
       "13  5     4     4     5      5    4     4     4     5     5      4      5     \n",
       "14  5     4     5     5      5    5     4     5     4     5      4      4     \n",
       "15  5     5     4     3      5    4     4     5     4     5      1      5     \n",
       "16  2     5     5     4      5    4     5     5     5     4      5      5     \n",
       "17  4     5     5     5      5    1     2     4     4     5      4      2     \n",
       "18  4     5     5     5      4    2     3     4     4     5      3      2     \n",
       "19  4     5     5     4      4    5     5     4     5     5      4      5     \n",
       "20  4     5     5     4      5    4     4     2     4     5      5      3     \n",
       "21  4     4     5     4      5    4     5     2     2     5      4      2     \n",
       "22  5     4     5     5      5    5     5     5     5     4      5      4     \n",
       "23  5     5     5     5      5    5     5     4     4     5      5      4     \n",
       "24  5     5     5     5      5    5     5     5     4     5      5      5     \n",
       "25  5     5     4     3      5    3     4     3     4     4      5      2     \n",
       "26  5     4     2     4      5    4     4     4     4     5      5      5     \n",
       "27  3     3     5     3      5    3     5     3     4     5      2      3     \n",
       "28  4     4     5     4      4    5     5     5     5     5      5      4     \n",
       "29  5     4     4     3      4    4     4     5     4     3      4      4     \n",
       "30  5     4     4     4      5    5     5     4     5     5      5      4     \n",
       "⋮   ⋮     ⋮     ⋮     ⋮     ⋮     ⋮     ⋮     ⋮     ⋮     ⋮      ⋮      ⋮     \n",
       "471  4     5     4     5     4    4     5      4    5      4      5      4    \n",
       "472  5     4     5     4     4    4     5      4    3      4      4      4    \n",
       "473  5     5     4     5     5    5     5      5    5     NA      5      4    \n",
       "474  4     4     5     4     5    4     5      3    3      2      2      1    \n",
       "475  4     2     4     4     4    4     4      4    5      4      4      4    \n",
       "476  3     3     3     4     4    4     3      3    4      2      3      3    \n",
       "477  3     4     3     4     4    4     3      4    3      4      3      3    \n",
       "478  4     5     4     4     5    5     4      5    4      5      4      4    \n",
       "479 NA    NA    NA    NA    NA    4     4      4    5      5      4      2    \n",
       "480  4     2     4     4     4    4     4      5    4      4      5      4    \n",
       "481  5     5     5     4     4    4     4      3    4      5      5      4    \n",
       "482  5     5     5     5     5    5     5      5    5      5      5      5    \n",
       "483  4     4     2     4     3    4     3      4    3      4      4      4    \n",
       "484  5     5     5     4     4    4     4      4    5      4      4      4    \n",
       "485  5     4     3     4     4    4     3      4    3      4      3      4    \n",
       "486  5     4     4     3     4    5     4      4    5      4      5      4    \n",
       "487  4     5     4     5     3    5     4      5    5      5      5     NA    \n",
       "488  4     5     4     4     4    5     4      4    4      3      5      5    \n",
       "489  4     5     4     3     4    4     3      4    3      4     NA      5    \n",
       "490  5     5     5     5     5    5     5      5    5     NA      5      5    \n",
       "491  5     5     4     4     5    5     4      5    4      3      4      4    \n",
       "492  5     4     5     5     4    4     4      4    5      5      5      5    \n",
       "493  4     4     4     4     4    3     3     NA    3      3      3      3    \n",
       "494  1     1     1     1     1    1     1      1    1      1      1      1    \n",
       "495  5     5     5     5     5    5     5      5    4      3      2      4    \n",
       "496  2     2     2     2     2    2     2      2    2      2      2      3    \n",
       "497  5     5     5     5     5    5     5      4    4      5      4      4    \n",
       "498  2     1     2     1     2    2     1      2    1      2      1      2    \n",
       "499  5     4     3     2     1    5     4      3    4      3      4      5    \n",
       "500  2     2     2     2     2    2     2     NA    2      2      2      2    "
      ]
     },
     "metadata": {},
     "output_type": "display_data"
    }
   ],
   "source": [
    "studentSurveyArea"
   ]
  },
  {
   "cell_type": "markdown",
   "id": "d50a2f19-77a4-4379-8519-f2e674fc0117",
   "metadata": {},
   "source": [
    "### Omit ant NAs in the subsetted dataset"
   ]
  },
  {
   "cell_type": "code",
   "execution_count": 18,
   "id": "a5e58a17-ffca-4a5f-b803-20b45518ee13",
   "metadata": {},
   "outputs": [],
   "source": [
    "studentSurveyArea2 <- NaRV.omit(studentSurveyArea)"
   ]
  },
  {
   "cell_type": "markdown",
   "id": "7e4ce804-8c85-4a7f-849e-3beaf7ecc24c",
   "metadata": {},
   "source": [
    "### Run the correlation matrix "
   ]
  },
  {
   "cell_type": "code",
   "execution_count": 19,
   "id": "75938f2c-3654-4531-b52a-ec53ed38e6e4",
   "metadata": {},
   "outputs": [
    {
     "data": {
      "text/html": [
       "<table class=\"dataframe\">\n",
       "<caption>A matrix: 12 × 12 of type dbl</caption>\n",
       "<thead>\n",
       "\t<tr><th></th><th scope=col>Item1</th><th scope=col>Item2</th><th scope=col>Item3</th><th scope=col>Item4</th><th scope=col>Item5</th><th scope=col>Item6</th><th scope=col>Item7</th><th scope=col>Item8</th><th scope=col>Item9</th><th scope=col>Item10</th><th scope=col>Item11</th><th scope=col>Item12</th></tr>\n",
       "</thead>\n",
       "<tbody>\n",
       "\t<tr><th scope=row>Item1</th><td>1.00</td><td>0.55</td><td>0.52</td><td>0.57</td><td>0.43</td><td>0.55</td><td>0.54</td><td>0.53</td><td>0.57</td><td>0.53</td><td>0.53</td><td>0.44</td></tr>\n",
       "\t<tr><th scope=row>Item2</th><td>0.55</td><td>1.00</td><td>0.54</td><td>0.51</td><td>0.45</td><td>0.42</td><td>0.49</td><td>0.48</td><td>0.53</td><td>0.45</td><td>0.43</td><td>0.34</td></tr>\n",
       "\t<tr><th scope=row>Item3</th><td>0.52</td><td>0.54</td><td>1.00</td><td>0.61</td><td>0.47</td><td>0.44</td><td>0.49</td><td>0.53</td><td>0.49</td><td>0.45</td><td>0.43</td><td>0.39</td></tr>\n",
       "\t<tr><th scope=row>Item4</th><td>0.57</td><td>0.51</td><td>0.61</td><td>1.00</td><td>0.45</td><td>0.49</td><td>0.52</td><td>0.59</td><td>0.56</td><td>0.46</td><td>0.51</td><td>0.41</td></tr>\n",
       "\t<tr><th scope=row>Item5</th><td>0.43</td><td>0.45</td><td>0.47</td><td>0.45</td><td>1.00</td><td>0.36</td><td>0.44</td><td>0.42</td><td>0.43</td><td>0.48</td><td>0.49</td><td>0.27</td></tr>\n",
       "\t<tr><th scope=row>Item6</th><td>0.55</td><td>0.42</td><td>0.44</td><td>0.49</td><td>0.36</td><td>1.00</td><td>0.55</td><td>0.50</td><td>0.47</td><td>0.44</td><td>0.43</td><td>0.49</td></tr>\n",
       "\t<tr><th scope=row>Item7</th><td>0.54</td><td>0.49</td><td>0.49</td><td>0.52</td><td>0.44</td><td>0.55</td><td>1.00</td><td>0.55</td><td>0.58</td><td>0.43</td><td>0.49</td><td>0.47</td></tr>\n",
       "\t<tr><th scope=row>Item8</th><td>0.53</td><td>0.48</td><td>0.53</td><td>0.59</td><td>0.42</td><td>0.50</td><td>0.55</td><td>1.00</td><td>0.62</td><td>0.53</td><td>0.50</td><td>0.53</td></tr>\n",
       "\t<tr><th scope=row>Item9</th><td>0.57</td><td>0.53</td><td>0.49</td><td>0.56</td><td>0.43</td><td>0.47</td><td>0.58</td><td>0.62</td><td>1.00</td><td>0.54</td><td>0.55</td><td>0.49</td></tr>\n",
       "\t<tr><th scope=row>Item10</th><td>0.53</td><td>0.45</td><td>0.45</td><td>0.46</td><td>0.48</td><td>0.44</td><td>0.43</td><td>0.53</td><td>0.54</td><td>1.00</td><td>0.56</td><td>0.29</td></tr>\n",
       "\t<tr><th scope=row>Item11</th><td>0.53</td><td>0.43</td><td>0.43</td><td>0.51</td><td>0.49</td><td>0.43</td><td>0.49</td><td>0.50</td><td>0.55</td><td>0.56</td><td>1.00</td><td>0.37</td></tr>\n",
       "\t<tr><th scope=row>Item12</th><td>0.44</td><td>0.34</td><td>0.39</td><td>0.41</td><td>0.27</td><td>0.49</td><td>0.47</td><td>0.53</td><td>0.49</td><td>0.29</td><td>0.37</td><td>1.00</td></tr>\n",
       "</tbody>\n",
       "</table>\n"
      ],
      "text/latex": [
       "A matrix: 12 × 12 of type dbl\n",
       "\\begin{tabular}{r|llllllllllll}\n",
       "  & Item1 & Item2 & Item3 & Item4 & Item5 & Item6 & Item7 & Item8 & Item9 & Item10 & Item11 & Item12\\\\\n",
       "\\hline\n",
       "\tItem1 & 1.00 & 0.55 & 0.52 & 0.57 & 0.43 & 0.55 & 0.54 & 0.53 & 0.57 & 0.53 & 0.53 & 0.44\\\\\n",
       "\tItem2 & 0.55 & 1.00 & 0.54 & 0.51 & 0.45 & 0.42 & 0.49 & 0.48 & 0.53 & 0.45 & 0.43 & 0.34\\\\\n",
       "\tItem3 & 0.52 & 0.54 & 1.00 & 0.61 & 0.47 & 0.44 & 0.49 & 0.53 & 0.49 & 0.45 & 0.43 & 0.39\\\\\n",
       "\tItem4 & 0.57 & 0.51 & 0.61 & 1.00 & 0.45 & 0.49 & 0.52 & 0.59 & 0.56 & 0.46 & 0.51 & 0.41\\\\\n",
       "\tItem5 & 0.43 & 0.45 & 0.47 & 0.45 & 1.00 & 0.36 & 0.44 & 0.42 & 0.43 & 0.48 & 0.49 & 0.27\\\\\n",
       "\tItem6 & 0.55 & 0.42 & 0.44 & 0.49 & 0.36 & 1.00 & 0.55 & 0.50 & 0.47 & 0.44 & 0.43 & 0.49\\\\\n",
       "\tItem7 & 0.54 & 0.49 & 0.49 & 0.52 & 0.44 & 0.55 & 1.00 & 0.55 & 0.58 & 0.43 & 0.49 & 0.47\\\\\n",
       "\tItem8 & 0.53 & 0.48 & 0.53 & 0.59 & 0.42 & 0.50 & 0.55 & 1.00 & 0.62 & 0.53 & 0.50 & 0.53\\\\\n",
       "\tItem9 & 0.57 & 0.53 & 0.49 & 0.56 & 0.43 & 0.47 & 0.58 & 0.62 & 1.00 & 0.54 & 0.55 & 0.49\\\\\n",
       "\tItem10 & 0.53 & 0.45 & 0.45 & 0.46 & 0.48 & 0.44 & 0.43 & 0.53 & 0.54 & 1.00 & 0.56 & 0.29\\\\\n",
       "\tItem11 & 0.53 & 0.43 & 0.43 & 0.51 & 0.49 & 0.43 & 0.49 & 0.50 & 0.55 & 0.56 & 1.00 & 0.37\\\\\n",
       "\tItem12 & 0.44 & 0.34 & 0.39 & 0.41 & 0.27 & 0.49 & 0.47 & 0.53 & 0.49 & 0.29 & 0.37 & 1.00\\\\\n",
       "\\end{tabular}\n"
      ],
      "text/markdown": [
       "\n",
       "A matrix: 12 × 12 of type dbl\n",
       "\n",
       "| <!--/--> | Item1 | Item2 | Item3 | Item4 | Item5 | Item6 | Item7 | Item8 | Item9 | Item10 | Item11 | Item12 |\n",
       "|---|---|---|---|---|---|---|---|---|---|---|---|---|\n",
       "| Item1 | 1.00 | 0.55 | 0.52 | 0.57 | 0.43 | 0.55 | 0.54 | 0.53 | 0.57 | 0.53 | 0.53 | 0.44 |\n",
       "| Item2 | 0.55 | 1.00 | 0.54 | 0.51 | 0.45 | 0.42 | 0.49 | 0.48 | 0.53 | 0.45 | 0.43 | 0.34 |\n",
       "| Item3 | 0.52 | 0.54 | 1.00 | 0.61 | 0.47 | 0.44 | 0.49 | 0.53 | 0.49 | 0.45 | 0.43 | 0.39 |\n",
       "| Item4 | 0.57 | 0.51 | 0.61 | 1.00 | 0.45 | 0.49 | 0.52 | 0.59 | 0.56 | 0.46 | 0.51 | 0.41 |\n",
       "| Item5 | 0.43 | 0.45 | 0.47 | 0.45 | 1.00 | 0.36 | 0.44 | 0.42 | 0.43 | 0.48 | 0.49 | 0.27 |\n",
       "| Item6 | 0.55 | 0.42 | 0.44 | 0.49 | 0.36 | 1.00 | 0.55 | 0.50 | 0.47 | 0.44 | 0.43 | 0.49 |\n",
       "| Item7 | 0.54 | 0.49 | 0.49 | 0.52 | 0.44 | 0.55 | 1.00 | 0.55 | 0.58 | 0.43 | 0.49 | 0.47 |\n",
       "| Item8 | 0.53 | 0.48 | 0.53 | 0.59 | 0.42 | 0.50 | 0.55 | 1.00 | 0.62 | 0.53 | 0.50 | 0.53 |\n",
       "| Item9 | 0.57 | 0.53 | 0.49 | 0.56 | 0.43 | 0.47 | 0.58 | 0.62 | 1.00 | 0.54 | 0.55 | 0.49 |\n",
       "| Item10 | 0.53 | 0.45 | 0.45 | 0.46 | 0.48 | 0.44 | 0.43 | 0.53 | 0.54 | 1.00 | 0.56 | 0.29 |\n",
       "| Item11 | 0.53 | 0.43 | 0.43 | 0.51 | 0.49 | 0.43 | 0.49 | 0.50 | 0.55 | 0.56 | 1.00 | 0.37 |\n",
       "| Item12 | 0.44 | 0.34 | 0.39 | 0.41 | 0.27 | 0.49 | 0.47 | 0.53 | 0.49 | 0.29 | 0.37 | 1.00 |\n",
       "\n"
      ],
      "text/plain": [
       "       Item1 Item2 Item3 Item4 Item5 Item6 Item7 Item8 Item9 Item10 Item11\n",
       "Item1  1.00  0.55  0.52  0.57  0.43  0.55  0.54  0.53  0.57  0.53   0.53  \n",
       "Item2  0.55  1.00  0.54  0.51  0.45  0.42  0.49  0.48  0.53  0.45   0.43  \n",
       "Item3  0.52  0.54  1.00  0.61  0.47  0.44  0.49  0.53  0.49  0.45   0.43  \n",
       "Item4  0.57  0.51  0.61  1.00  0.45  0.49  0.52  0.59  0.56  0.46   0.51  \n",
       "Item5  0.43  0.45  0.47  0.45  1.00  0.36  0.44  0.42  0.43  0.48   0.49  \n",
       "Item6  0.55  0.42  0.44  0.49  0.36  1.00  0.55  0.50  0.47  0.44   0.43  \n",
       "Item7  0.54  0.49  0.49  0.52  0.44  0.55  1.00  0.55  0.58  0.43   0.49  \n",
       "Item8  0.53  0.48  0.53  0.59  0.42  0.50  0.55  1.00  0.62  0.53   0.50  \n",
       "Item9  0.57  0.53  0.49  0.56  0.43  0.47  0.58  0.62  1.00  0.54   0.55  \n",
       "Item10 0.53  0.45  0.45  0.46  0.48  0.44  0.43  0.53  0.54  1.00   0.56  \n",
       "Item11 0.53  0.43  0.43  0.51  0.49  0.43  0.49  0.50  0.55  0.56   1.00  \n",
       "Item12 0.44  0.34  0.39  0.41  0.27  0.49  0.47  0.53  0.49  0.29   0.37  \n",
       "       Item12\n",
       "Item1  0.44  \n",
       "Item2  0.34  \n",
       "Item3  0.39  \n",
       "Item4  0.41  \n",
       "Item5  0.27  \n",
       "Item6  0.49  \n",
       "Item7  0.47  \n",
       "Item8  0.53  \n",
       "Item9  0.49  \n",
       "Item10 0.29  \n",
       "Item11 0.37  \n",
       "Item12 1.00  "
      ]
     },
     "metadata": {},
     "output_type": "display_data"
    }
   ],
   "source": [
    "studentSurveyAreaMatrix <- cor(studentSurveyArea2)\n",
    "View(round(studentSurveyAreaMatrix, 2))"
   ]
  },
  {
   "cell_type": "markdown",
   "id": "83802c9e-a121-40f6-99b8-a88b709cd05d",
   "metadata": {},
   "source": [
    "##### We don't want any items correlated above a .9, and don't want a variable with more than a few correlations below a .3, first glance this appears ok"
   ]
  },
  {
   "cell_type": "markdown",
   "id": "84d9e8d6-5217-41ce-965e-dfe6eb73e9b4",
   "metadata": {},
   "source": [
    "### Run the Bartlett's Test "
   ]
  },
  {
   "cell_type": "code",
   "execution_count": 20,
   "id": "45bdf292-63e1-4d83-b715-aebc2f9d8f20",
   "metadata": {},
   "outputs": [
    {
     "name": "stderr",
     "output_type": "stream",
     "text": [
      "R was not square, finding R from data\n",
      "\n"
     ]
    },
    {
     "data": {
      "text/html": [
       "<dl>\n",
       "\t<dt>$chisq</dt>\n",
       "\t\t<dd>2666.35930659605</dd>\n",
       "\t<dt>$p.value</dt>\n",
       "\t\t<dd>0</dd>\n",
       "\t<dt>$df</dt>\n",
       "\t\t<dd>66</dd>\n",
       "</dl>\n"
      ],
      "text/latex": [
       "\\begin{description}\n",
       "\\item[\\$chisq] 2666.35930659605\n",
       "\\item[\\$p.value] 0\n",
       "\\item[\\$df] 66\n",
       "\\end{description}\n"
      ],
      "text/markdown": [
       "$chisq\n",
       ":   2666.35930659605\n",
       "$p.value\n",
       ":   0\n",
       "$df\n",
       ":   66\n",
       "\n",
       "\n"
      ],
      "text/plain": [
       "$chisq\n",
       "[1] 2666.359\n",
       "\n",
       "$p.value\n",
       "[1] 0\n",
       "\n",
       "$df\n",
       "[1] 66\n"
      ]
     },
     "metadata": {},
     "output_type": "display_data"
    }
   ],
   "source": [
    "cortest.bartlett(studentSurveyArea2)"
   ]
  },
  {
   "cell_type": "markdown",
   "id": "829ee48f-fcdd-4ef0-97a1-89bd02c21102",
   "metadata": {},
   "source": [
    "##### This tests against an identity matrix, where there are no correlations at all, so we want this test to be significant, which means that there are relationships between the variables"
   ]
  },
  {
   "cell_type": "markdown",
   "id": "21982876-fc47-4fa5-9621-608a002cf3ad",
   "metadata": {},
   "source": [
    "### Determinant of the Correlation Matrix"
   ]
  },
  {
   "cell_type": "code",
   "execution_count": 21,
   "id": "24dabb98-cb45-4f1c-b1e4-cad137d19459",
   "metadata": {},
   "outputs": [
    {
     "data": {
      "text/html": [
       "0.00243792945823881"
      ],
      "text/latex": [
       "0.00243792945823881"
      ],
      "text/markdown": [
       "0.00243792945823881"
      ],
      "text/plain": [
       "[1] 0.002437929"
      ]
     },
     "metadata": {},
     "output_type": "display_data"
    }
   ],
   "source": [
    "det(studentSurveyAreaMatrix)"
   ]
  },
  {
   "cell_type": "markdown",
   "id": "f2161f2f-37f4-4fcc-a84c-49c13e7a6b89",
   "metadata": {},
   "source": [
    "##### This number should be greater than .00001"
   ]
  },
  {
   "cell_type": "markdown",
   "id": "688f2a67-4627-4332-af53-a2ba5ddd6825",
   "metadata": {},
   "source": [
    "### Initial Pass to Determine Approximate Number of Factors"
   ]
  },
  {
   "cell_type": "code",
   "execution_count": 22,
   "id": "a57a82f6-07c5-4ebf-b858-de459546d91c",
   "metadata": {},
   "outputs": [
    {
     "data": {
      "text/plain": [
       "Principal Components Analysis\n",
       "Call: principal(r = studentSurveyArea2, nfactors = 12, rotate = \"none\")\n",
       "Standardized loadings (pattern matrix) based upon correlation matrix\n",
       "        PC1   PC2   PC3   PC4   PC5   PC6   PC7   PC8   PC9  PC10  PC11  PC12\n",
       "Item1  0.78  0.00  0.00  0.12 -0.33 -0.03  0.00  0.27 -0.23 -0.33 -0.16 -0.06\n",
       "Item2  0.71 -0.16 -0.35  0.01 -0.26  0.41  0.17  0.07  0.08  0.25 -0.05  0.08\n",
       "Item3  0.73 -0.10 -0.45 -0.09  0.09 -0.25  0.06  0.00  0.31 -0.17  0.09 -0.19\n",
       "Item4  0.77 -0.02 -0.24 -0.18  0.03 -0.29 -0.25  0.06 -0.22  0.14  0.08  0.29\n",
       "Item5  0.64 -0.45 -0.02  0.29  0.48  0.09  0.13  0.02 -0.20 -0.02  0.01 -0.02\n",
       "Item6  0.70  0.30  0.08  0.47 -0.16 -0.24  0.07 -0.09 -0.02  0.24  0.11 -0.13\n",
       "Item7  0.75  0.18 -0.02  0.23  0.07  0.21 -0.35 -0.29  0.16 -0.17 -0.12  0.14\n",
       "Item8  0.78  0.15  0.06 -0.31  0.10 -0.07  0.10 -0.22 -0.11  0.13 -0.36 -0.17\n",
       "Item9  0.79  0.06  0.13 -0.25 -0.06  0.25 -0.09 -0.14 -0.17 -0.06  0.36 -0.19\n",
       "Item10 0.70 -0.33  0.35 -0.08 -0.18 -0.15  0.28 -0.21  0.13 -0.10  0.05  0.23\n",
       "Item11 0.72 -0.23  0.39 -0.06  0.04  0.00 -0.27  0.33  0.23  0.17 -0.05 -0.10\n",
       "Item12 0.62  0.60  0.10 -0.07  0.26  0.10  0.25  0.25  0.09 -0.06  0.06  0.16\n",
       "       h2       u2 com\n",
       "Item1   1 -1.1e-15 2.5\n",
       "Item2   1  4.0e-15 3.2\n",
       "Item3   1  8.9e-16 2.9\n",
       "Item4   1  6.7e-16 2.6\n",
       "Item5   1  0.0e+00 3.6\n",
       "Item6   1  8.9e-16 3.2\n",
       "Item7   1  8.9e-16 2.8\n",
       "Item8   1  1.2e-15 2.5\n",
       "Item9   1  1.1e-15 2.4\n",
       "Item10  1  6.7e-16 3.5\n",
       "Item11  1  1.3e-15 3.2\n",
       "Item12  1  2.2e-16 3.5\n",
       "\n",
       "                       PC1  PC2  PC3  PC4  PC5  PC6  PC7  PC8  PC9 PC10 PC11\n",
       "SS loadings           6.36 0.91 0.70 0.58 0.57 0.53 0.48 0.46 0.39 0.37 0.34\n",
       "Proportion Var        0.53 0.08 0.06 0.05 0.05 0.04 0.04 0.04 0.03 0.03 0.03\n",
       "Cumulative Var        0.53 0.61 0.66 0.71 0.76 0.80 0.84 0.88 0.91 0.94 0.97\n",
       "Proportion Explained  0.53 0.08 0.06 0.05 0.05 0.04 0.04 0.04 0.03 0.03 0.03\n",
       "Cumulative Proportion 0.53 0.61 0.66 0.71 0.76 0.80 0.84 0.88 0.91 0.94 0.97\n",
       "                      PC12\n",
       "SS loadings           0.32\n",
       "Proportion Var        0.03\n",
       "Cumulative Var        1.00\n",
       "Proportion Explained  0.03\n",
       "Cumulative Proportion 1.00\n",
       "\n",
       "Mean item complexity =  3\n",
       "Test of the hypothesis that 12 components are sufficient.\n",
       "\n",
       "The root mean square of the residuals (RMSR) is  0 \n",
       " with the empirical chi square  0  with prob <  NA \n",
       "\n",
       "Fit based upon off diagonal values = 1"
      ]
     },
     "metadata": {},
     "output_type": "display_data"
    }
   ],
   "source": [
    "pcModel <- principal(studentSurveyArea2, nfactors = 12, rotate = \"none\")\n",
    "pcModel"
   ]
  },
  {
   "cell_type": "markdown",
   "id": "2f62dca7-fe23-48b3-b1bc-f512e8680af2",
   "metadata": {},
   "source": [
    "##### Look at SS loadings for eigenvalues to determine how many factors. Looking for how many over 1 there are. Looks like only 1"
   ]
  },
  {
   "cell_type": "markdown",
   "id": "2569c543-4bad-46fd-bf83-7b9d9b50d1c6",
   "metadata": {},
   "source": [
    "#### Can also look at scree plot"
   ]
  },
  {
   "cell_type": "code",
   "execution_count": 23,
   "id": "0a865278-efa8-4bf5-adbd-0282e7b3e245",
   "metadata": {},
   "outputs": [
    {
     "data": {
      "image/png": "[encoded data removed]",
      "text/plain": [
       "plot without title"
      ]
     },
     "metadata": {
      "image/png": {
       "height": 420,
       "width": 420
      }
     },
     "output_type": "display_data"
    }
   ],
   "source": [
    "plot(pcModel$values, type=\"b\")"
   ]
  },
  {
   "cell_type": "code",
   "execution_count": null,
   "id": "12fbca25-3229-442b-9b61-8e90d2b23352",
   "metadata": {},
   "outputs": [],
   "source": []
  }
 ],
 "metadata": {
  "kernelspec": {
   "display_name": "R",
   "language": "R",
   "name": "ir"
  },
  "language_info": {
   "codemirror_mode": "r",
   "file_extension": ".r",
   "mimetype": "text/x-r-source",
   "name": "R",
   "pygments_lexer": "r",
   "version": "4.2.2"
  }
 },
 "nbformat": 4,
 "nbformat_minor": 5
}
