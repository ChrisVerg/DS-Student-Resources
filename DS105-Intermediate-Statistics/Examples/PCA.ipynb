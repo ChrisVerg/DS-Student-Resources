{
 "cells": [
  {
   "cell_type": "markdown",
   "id": "96dc98bd-76b0-4bb8-a5f9-235be735734b",
   "metadata": {},
   "source": [
    "# Principal Component Analysis Transform in R"
   ]
  },
  {
   "cell_type": "markdown",
   "id": "e8eb5b9c-8167-49d0-bd19-3f4558bb4801",
   "metadata": {},
   "source": [
    "The PCA transforms the data to return only the principal components, a technique from\n",
    "multivariate statistics and linear algebra. The transform keeps those components above the\n",
    "variance threshold (default=0.95) or the number of components can be specified (pcaComp).\n",
    "The result is attributes that are uncorrelated, useful for algorithms like linear and generalized\n",
    "linear regression."
   ]
  },
  {
   "cell_type": "code",
   "execution_count": null,
   "id": "90770cf9-f00b-469b-afe4-da75df530510",
   "metadata": {},
   "outputs": [],
   "source": [
    "# Install package with dependencies\n",
    "#install.packages(\"caret\", dependencies = c(\"Depends\", \"Suggests\"))"
   ]
  },
  {
   "cell_type": "code",
   "execution_count": null,
   "id": "fdef73f4-e1d1-4193-8dec-351e6b63e1c8",
   "metadata": {},
   "outputs": [],
   "source": [
    "#install.packages(\"AppliedPredictiveModeling\")"
   ]
  },
  {
   "cell_type": "code",
   "execution_count": 2,
   "id": "ef0cd1d0-852f-45c3-b3e4-dbcb8ab4836d",
   "metadata": {},
   "outputs": [
    {
     "name": "stdout",
     "output_type": "stream",
     "text": [
      "\n",
      "The downloaded binary packages are in\n",
      "\t/var/folders/wk/6why77bn1kn0l0pkd4vd3zl00000gn/T//RtmpJFIP4F/downloaded_packages\n"
     ]
    }
   ],
   "source": [
    "#install.packages('mlbench')"
   ]
  },
  {
   "cell_type": "code",
   "execution_count": 3,
   "id": "ca6550df-6799-4392-8e32-204be072a4a4",
   "metadata": {},
   "outputs": [],
   "source": [
    "# load the packages\n",
    "library(mlbench)"
   ]
  },
  {
   "cell_type": "code",
   "execution_count": 4,
   "id": "e2375de0-aa0e-40b6-97bb-d8b048ff0dc0",
   "metadata": {},
   "outputs": [],
   "source": [
    "library(caret)"
   ]
  },
  {
   "cell_type": "code",
   "execution_count": 10,
   "id": "342ebfc0-acd4-416e-8299-29ab68d14662",
   "metadata": {},
   "outputs": [],
   "source": [
    "# help for the package\n",
    "#library(help=\"caret\")"
   ]
  },
  {
   "cell_type": "code",
   "execution_count": null,
   "id": "7f6da372-522f-4f2e-ab8f-be4ca0729ec4",
   "metadata": {},
   "outputs": [],
   "source": [
    "library(AppliedPredictiveModeling)"
   ]
  },
  {
   "cell_type": "code",
   "execution_count": 5,
   "id": "3de7d2f4-f354-4a63-b83a-b4eddbf978cf",
   "metadata": {},
   "outputs": [],
   "source": [
    "# load the dataset\n",
    "data(iris)"
   ]
  },
  {
   "cell_type": "code",
   "execution_count": 6,
   "id": "bcbf57d4-bceb-435b-9bfb-6ad269fdacce",
   "metadata": {},
   "outputs": [
    {
     "data": {
      "text/plain": [
       "  Sepal.Length    Sepal.Width     Petal.Length    Petal.Width   \n",
       " Min.   :4.300   Min.   :2.000   Min.   :1.000   Min.   :0.100  \n",
       " 1st Qu.:5.100   1st Qu.:2.800   1st Qu.:1.600   1st Qu.:0.300  \n",
       " Median :5.800   Median :3.000   Median :4.350   Median :1.300  \n",
       " Mean   :5.843   Mean   :3.057   Mean   :3.758   Mean   :1.199  \n",
       " 3rd Qu.:6.400   3rd Qu.:3.300   3rd Qu.:5.100   3rd Qu.:1.800  \n",
       " Max.   :7.900   Max.   :4.400   Max.   :6.900   Max.   :2.500  \n",
       "       Species  \n",
       " setosa    :50  \n",
       " versicolor:50  \n",
       " virginica :50  \n",
       "                \n",
       "                \n",
       "                "
      ]
     },
     "metadata": {},
     "output_type": "display_data"
    }
   ],
   "source": [
    "# summarize dataset\n",
    "summary(iris)"
   ]
  },
  {
   "cell_type": "code",
   "execution_count": 7,
   "id": "4a13d556-77f1-4889-813b-76e39e50b6de",
   "metadata": {},
   "outputs": [
    {
     "ename": "ERROR",
     "evalue": "Error in preProcess(iris, method = c(\"center\", \"scale\", \"pca\")): could not find function \"preProcess\"\n",
     "output_type": "error",
     "traceback": [
      "Error in preProcess(iris, method = c(\"center\", \"scale\", \"pca\")): could not find function \"preProcess\"\nTraceback:\n"
     ]
    }
   ],
   "source": [
    "# calculate the pre-process parameters from the dataset\n",
    "preprocessParams <- preProcess(iris, method=c(\"center\", \"scale\", \"pca\"))"
   ]
  },
  {
   "cell_type": "code",
   "execution_count": 8,
   "id": "d0dc23f7-8c90-491c-af82-c8ce15662f46",
   "metadata": {},
   "outputs": [
    {
     "ename": "ERROR",
     "evalue": "Error in print(preprocessParams): object 'preprocessParams' not found\n",
     "output_type": "error",
     "traceback": [
      "Error in print(preprocessParams): object 'preprocessParams' not found\nTraceback:\n",
      "1. print(preprocessParams)"
     ]
    }
   ],
   "source": [
    "# summarize transform parameters\n",
    "print(preprocessParams)"
   ]
  },
  {
   "cell_type": "code",
   "execution_count": null,
   "id": "f426437c-51c8-4d06-8717-ff714b0d06a6",
   "metadata": {},
   "outputs": [],
   "source": [
    "# transform the dataset using the parameters\n",
    "transformed <- predict(preprocessParams, iris)"
   ]
  },
  {
   "cell_type": "code",
   "execution_count": 3,
   "id": "679adb60-a7c7-45e5-83a3-e97c9b5f9ae2",
   "metadata": {},
   "outputs": [
    {
     "data": {
      "text/plain": [
       "  Sepal.Length    Sepal.Width     Petal.Length    Petal.Width   \n",
       " Min.   :4.300   Min.   :2.000   Min.   :1.000   Min.   :0.100  \n",
       " 1st Qu.:5.100   1st Qu.:2.800   1st Qu.:1.600   1st Qu.:0.300  \n",
       " Median :5.800   Median :3.000   Median :4.350   Median :1.300  \n",
       " Mean   :5.843   Mean   :3.057   Mean   :3.758   Mean   :1.199  \n",
       " 3rd Qu.:6.400   3rd Qu.:3.300   3rd Qu.:5.100   3rd Qu.:1.800  \n",
       " Max.   :7.900   Max.   :4.400   Max.   :6.900   Max.   :2.500  \n",
       "       Species  \n",
       " setosa    :50  \n",
       " versicolor:50  \n",
       " virginica :50  \n",
       "                \n",
       "                \n",
       "                "
      ]
     },
     "metadata": {},
     "output_type": "display_data"
    },
    {
     "ename": "ERROR",
     "evalue": "Error in preProcess(iris, method = c(\"center\", \"scale\", \"pca\")): could not find function \"preProcess\"\n",
     "output_type": "error",
     "traceback": [
      "Error in preProcess(iris, method = c(\"center\", \"scale\", \"pca\")): could not find function \"preProcess\"\nTraceback:\n"
     ]
    }
   ],
   "source": [
    "# summarize the transformed dataset\n",
    "summary(transformed)"
   ]
  }
 ],
 "metadata": {
  "kernelspec": {
   "display_name": "R",
   "language": "R",
   "name": "ir"
  },
  "language_info": {
   "codemirror_mode": "r",
   "file_extension": ".r",
   "mimetype": "text/x-r-source",
   "name": "R",
   "pygments_lexer": "r",
   "version": "4.2.1"
  }
 },
 "nbformat": 4,
 "nbformat_minor": 5
}
