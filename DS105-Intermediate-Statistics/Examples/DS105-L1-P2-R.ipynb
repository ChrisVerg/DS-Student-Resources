{
 "cells": [
  {
   "cell_type": "markdown",
   "id": "23c5ec51-cda9-467e-b09c-3d173e9ed7e1",
   "metadata": {},
   "source": [
    "# Lesson 1 Page 2 Example"
   ]
  },
  {
   "cell_type": "code",
   "execution_count": null,
   "id": "03e5a573-6a4e-45b0-8ec3-6fd1056bcd76",
   "metadata": {},
   "outputs": [],
   "source": []
  }
 ],
 "metadata": {
  "kernelspec": {
   "display_name": "R",
   "language": "R",
   "name": "ir"
  },
  "language_info": {
   "codemirror_mode": "r",
   "file_extension": ".r",
   "mimetype": "text/x-r-source",
   "name": "R",
   "pygments_lexer": "r",
   "version": "4.2.1"
  }
 },
 "nbformat": 4,
 "nbformat_minor": 5
}
