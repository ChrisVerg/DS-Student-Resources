{
 "cells": [
  {
   "cell_type": "markdown",
   "id": "f4edd760-80a6-4dca-a015-5ccfcb520d85",
   "metadata": {},
   "source": [
    "[](/Media/Seaborn-Logo.jpg)"
   ]
  },
  {
   "cell_type": "markdown",
   "id": "20de4a8e-c81b-4096-8f58-f4950ee7dbeb",
   "metadata": {},
   "source": [
    "<p style=\"text-align: left\">\n",
    "  <img  src=\"../Media/Seaborn-Logo.jpg\" width=\"200\" alt=\"Seaborn Logo\">\n",
    "</p>"
   ]
  },
  {
   "cell_type": "markdown",
   "id": "f33a222e-8cae-4720-9c12-c29a1c27b7ea",
   "metadata": {},
   "source": [
    "### Table of Contents <a class=\"anchor\" id=\"DS104L5_toc\"></a>\n",
    "\n",
    "* [Table of Contents](#DS104L5_toc)\n",
    "    * [Page 1 - Introduction](#DS104L5_page_1)\n",
    "    * [Page 2 - A Look at Hybrid Car Data](#DS104L5_page_2)\n",
    "    * [Page 3 - A Look at Flight Data from USDOT](#DS104L5_page_3)\n",
    "    * [Page 4 - Barplots with Hybrid Car Data](#DS104L5_page_4)\n",
    "    * [Page 5 - Insurance Analysis](#DS104L5_page_5)\n",
    "    * [Page 6 - Insurance Analysis](#DS104L5_page_6)\n",
    "    * [Page 7 - Penguins](#DS104L5_page_7)\n",
    "    * [Page 8 - Other Built-in Datasets](#DS104L5_page_8)"
   ]
  },
  {
   "cell_type": "markdown",
   "id": "7ea5aafe",
   "metadata": {},
   "source": [
    "<hr style=\"height:10px;border-width:0;color:gray;background-color:darkorchid\">\n",
    "\n",
    "# Page 1 - Introduction <a class=\"anchor\" id=\"DS108L5_page_1\"></a>\n",
    "\n",
    "[Back to Top](#DS104L5_toc)\n",
    "\n",
    "<hr style=\"height:10px;border-width:0;color:gray;background-color:darkorchid\">\n",
    "\n",
    "# Visualization Examples and Importing packages"
   ]
  },
  {
   "cell_type": "markdown",
   "id": "ebe785e0",
   "metadata": {},
   "source": [
    "Seaborn is a Python visualization library based on matplotlib. It provides a high-level interface for drawing attractive statistical graphics. While it provides basic bar graphs, Seaborn offers rich dramatic colors. \n",
    "For tutorials and more on Seaborn, visit the official Seaborn link __[here](https://seaborn.pydata.org/)__."
   ]
  },
  {
   "cell_type": "markdown",
   "id": "35ddcd12",
   "metadata": {},
   "source": [
    "Import necessary packages "
   ]
  },
  {
   "cell_type": "code",
   "execution_count": null,
   "id": "8c15890c",
   "metadata": {},
   "outputs": [],
   "source": [
    "import pandas as pd\n",
    "pd.plotting.register_matplotlib_converters()\n",
    "import matplotlib.pyplot as plt\n",
    "%matplotlib inline\n",
    "import seaborn as sns\n",
    "print(\"Setup Complete\")"
   ]
  },
  {
   "cell_type": "markdown",
   "id": "8007fb33-ca4c-4dea-95bd-b601f271050b",
   "metadata": {},
   "source": [
    "<hr style=\"height:10px;border-width:0;color:gray;background-color:darkorchid\">\n",
    "\n",
    "# Page 2 - A Look at Hybrid Car Data <a class=\"anchor\" id=\"DS104L5_page_2\"></a>\n",
    "\n",
    "[Back to Top](#DS104L5_toc)\n",
    "\n",
    "<hr style=\"height:10px;border-width:0;color:gray;background-color:darkorchid\">"
   ]
  },
  {
   "cell_type": "markdown",
   "id": "1efa9315",
   "metadata": {},
   "source": [
    "### Loading Hybrid Car data from the companion notebooks __[here](https://github.com/woz-u/DS-Student-Resources/blob/main/DS105-Intermediate-Statistics/DS105-L1-Python-Basic-Stats.ipynb)__."
   ]
  },
  {
   "cell_type": "code",
   "execution_count": null,
   "id": "bae8dd51",
   "metadata": {},
   "outputs": [],
   "source": [
    "hybrid = pd.read_excel(\"C:/Users/Marcy/Desktop/DATA/hybrid2013.xlsx\")"
   ]
  },
  {
   "cell_type": "markdown",
   "id": "42c3d24a",
   "metadata": {},
   "source": [
    "### Taking a look at column names, and a quick glance at what the values look like"
   ]
  },
  {
   "cell_type": "code",
   "execution_count": null,
   "id": "5cc46a17",
   "metadata": {},
   "outputs": [],
   "source": [
    "hybrid.head(10)"
   ]
  },
  {
   "cell_type": "markdown",
   "id": "ed92da26",
   "metadata": {},
   "source": [
    "We see this dataset has a Car ID, vehicle name, year, MSRP, acceleration rate, MPG and car class info."
   ]
  },
  {
   "cell_type": "code",
   "execution_count": null,
   "id": "09d1eb40-1e9b-4e22-8a0c-0d243ab2dd71",
   "metadata": {},
   "outputs": [],
   "source": [
    "import warnings\n",
    "warnings.filterwarnings('ignore')\n",
    "warnings.warn('DelftStack')\n",
    "warnings.warn('Do not show this message')\n",
    "print(\"No Warning Shown\")"
   ]
  },
  {
   "cell_type": "markdown",
   "id": "56e0b056",
   "metadata": {},
   "source": [
    "Quick line plot of the data"
   ]
  },
  {
   "cell_type": "code",
   "execution_count": null,
   "id": "ce9e655b",
   "metadata": {},
   "outputs": [],
   "source": [
    "plt.figure(figsize = (16, 6))\n",
    "plt.title (\"2013 Hybrid Vehicles\")\n",
    "sns.lineplot(data=hybrid)"
   ]
  },
  {
   "cell_type": "markdown",
   "id": "12f032af",
   "metadata": {},
   "source": [
    "Now we'll subset the data and look only at vehicles; here's the list of columns. "
   ]
  },
  {
   "cell_type": "code",
   "execution_count": null,
   "id": "28ae277c",
   "metadata": {},
   "outputs": [],
   "source": [
    "list(hybrid.columns)"
   ]
  },
  {
   "cell_type": "code",
   "execution_count": null,
   "id": "f758c99a",
   "metadata": {},
   "outputs": [],
   "source": [
    "sns.lineplot(data= hybrid['vehicle'], label = \"Vehicle\")"
   ]
  },
  {
   "cell_type": "markdown",
   "id": "080fb6bf",
   "metadata": {},
   "source": [
    "#### That's not very pretty. Let's try transposing the data on the graph, making it larger for readability, then running a lineplot again. "
   ]
  },
  {
   "cell_type": "code",
   "execution_count": null,
   "id": "e9451310",
   "metadata": {},
   "outputs": [],
   "source": [
    "x = hybrid ['vehicle']\n",
    "y = hybrid ['mpg']"
   ]
  },
  {
   "cell_type": "code",
   "execution_count": null,
   "id": "346041f9",
   "metadata": {},
   "outputs": [],
   "source": [
    "plt.figure(figsize = (16, 10))\n",
    "sns.lineplot(x, y , data = hybrid)"
   ]
  },
  {
   "cell_type": "markdown",
   "id": "cd9414dd",
   "metadata": {},
   "source": [
    "#### That still doesn't look right. Let switch x and y with the larger size and try again."
   ]
  },
  {
   "cell_type": "code",
   "execution_count": null,
   "id": "b680e5f9",
   "metadata": {},
   "outputs": [],
   "source": [
    "plt.figure(figsize = (16, 10))\n",
    "sns.lineplot(y, x , data = hybrid)"
   ]
  },
  {
   "cell_type": "markdown",
   "id": "490a99c5",
   "metadata": {},
   "source": [
    "#### That's better.  Now to remove that confidence interval from the graph, and add data points."
   ]
  },
  {
   "cell_type": "code",
   "execution_count": null,
   "id": "91be6efb",
   "metadata": {},
   "outputs": [],
   "source": [
    "plt.figure(figsize = (16, 10))\n",
    "sns.lineplot(y, x , ci = None, marker = 'o', data = hybrid)"
   ]
  },
  {
   "cell_type": "markdown",
   "id": "17df7253",
   "metadata": {},
   "source": [
    "#### Change the color of the lineplot."
   ]
  },
  {
   "cell_type": "code",
   "execution_count": null,
   "id": "656b5026",
   "metadata": {},
   "outputs": [],
   "source": [
    "plt.figure(figsize = (16, 10))\n",
    "sns.lineplot (y, x, data = hybrid, color = 'purple', linewidth = 2.5, ci = None)"
   ]
  },
  {
   "cell_type": "markdown",
   "id": "71ebf9b3-4ad2-4d5b-a1cb-ea1a173e82d2",
   "metadata": {},
   "source": [
    "<hr style=\"height:10px;border-width:0;color:gray;background-color:darkorchid\">\n",
    "\n",
    "# Page 3 - A Look at Flight Data from USDOT <a class=\"anchor\" id=\"DS104L5_page_3\"></a>\n",
    "\n",
    "[Back to Top](#DS104L5_toc)\n",
    "\n",
    "<hr style=\"height:10px;border-width:0;color:gray;background-color:darkorchid\">"
   ]
  },
  {
   "cell_type": "markdown",
   "id": "23532583",
   "metadata": {},
   "source": [
    "#### Next, let's take a look at flight data collected by the US Department of Transportation. You can find the Kaggle link for it __[here](https://www.kaggle.com/code/alexisbcook/scatter-plots/data?select=flight_delays.csv)__. "
   ]
  },
  {
   "cell_type": "code",
   "execution_count": null,
   "id": "695472f9",
   "metadata": {},
   "outputs": [],
   "source": [
    "flights = pd.read_csv(r\"C:\\Users\\Marcy\\Desktop\\DATA\\flight_delays.csv\", index_col = \"Month\")"
   ]
  },
  {
   "cell_type": "markdown",
   "id": "77523273",
   "metadata": {},
   "source": [
    "#### Note that if you forget to flip your backslashes, or you have many, you can put a lowercase r in front of the first quotation mark to import data. "
   ]
  },
  {
   "cell_type": "code",
   "execution_count": null,
   "id": "2923ae9e",
   "metadata": {},
   "outputs": [],
   "source": [
    "flights.head()"
   ]
  },
  {
   "cell_type": "markdown",
   "id": "b160b90c",
   "metadata": {},
   "source": [
    "### Column Names"
   ]
  },
  {
   "cell_type": "code",
   "execution_count": null,
   "id": "03762771",
   "metadata": {},
   "outputs": [],
   "source": [
    "list(flights.columns)"
   ]
  },
  {
   "cell_type": "markdown",
   "id": "99e8ffc3",
   "metadata": {},
   "source": [
    "#### For a full list of definitions for the airline codes, see this __[link](https://www.bts.gov/topics/airlines-and-airports/airline-codes)__ at the Bureau of Transportation Statistics."
   ]
  },
  {
   "cell_type": "code",
   "execution_count": null,
   "id": "51dc53b8",
   "metadata": {},
   "outputs": [],
   "source": [
    "flights"
   ]
  },
  {
   "cell_type": "markdown",
   "id": "d967fac4",
   "metadata": {},
   "source": [
    "#### Here's a bar chart looking at Delta flight information showing average arrival delays. \n"
   ]
  },
  {
   "cell_type": "code",
   "execution_count": null,
   "id": "7f196f7b",
   "metadata": {},
   "outputs": [],
   "source": [
    "sns.barplot(x=flights.index, y=flights['DL'])\n",
    "plt.ylabel (\"Arrival Delay (in minutes)\")"
   ]
  },
  {
   "cell_type": "markdown",
   "id": "6d56d842",
   "metadata": {},
   "source": [
    "#### Take a look at Spirit Airlines, with code NK"
   ]
  },
  {
   "cell_type": "code",
   "execution_count": null,
   "id": "4cb70529",
   "metadata": {},
   "outputs": [],
   "source": [
    "sns.barplot(x=flights.index, y=flights['NK'])\n",
    "plt.ylabel (\"Arrival Delay (in minutes)\")"
   ]
  },
  {
   "cell_type": "markdown",
   "id": "507808ef",
   "metadata": {},
   "source": [
    "#### And American Airlines "
   ]
  },
  {
   "cell_type": "markdown",
   "id": "9b0ddda7",
   "metadata": {},
   "source": [
    "#### Note I selected Month as the index when importing the data. By using .index for the x axis, I selected the column that indexes the rows. You can't use flight['Month'] - it will return an error, since we used it as the index when importing the data. This is a small dataset. "
   ]
  },
  {
   "cell_type": "code",
   "execution_count": null,
   "id": "cd6c05fc",
   "metadata": {},
   "outputs": [],
   "source": [
    "sns.barplot(x=flights.index, y=flights['AA'])\n",
    "plt.ylabel (\"Arrival Delay (in minutes)\")"
   ]
  },
  {
   "cell_type": "markdown",
   "id": "ae99fbb0",
   "metadata": {},
   "source": [
    "## Heatmaps"
   ]
  },
  {
   "cell_type": "code",
   "execution_count": null,
   "id": "a885497c",
   "metadata": {},
   "outputs": [],
   "source": [
    "plt.figure(figsize=(14,7))\n",
    "# Add title\n",
    "plt.title(\"Average Arrival Delay for Each Airline, by Month\")\n",
    "# Heatmap showing average arrival delay for each airline by month\n",
    "sns.heatmap(data=flights, annot=True)\n",
    "\n",
    "# Add label for horizontal axis\n",
    "plt.xlabel(\"Airline\")"
   ]
  },
  {
   "cell_type": "markdown",
   "id": "ade1812d",
   "metadata": {},
   "source": [
    "#### Variation"
   ]
  },
  {
   "cell_type": "code",
   "execution_count": null,
   "id": "b7b12a57",
   "metadata": {},
   "outputs": [],
   "source": [
    "# Heatmap showing average arrival delay for each airline by month\n",
    "sns.heatmap(data=flights, annot=True)"
   ]
  },
  {
   "cell_type": "markdown",
   "id": "4d66d43b",
   "metadata": {},
   "source": [
    "This code has three main components:\n",
    "\n",
    "sns.heatmap -> This tells the notebook that we want to create a heatmap.\n",
    "\n",
    "data=flights -> This tells the notebook to use all of the entries in flights to create the heatmap.\n",
    "\n",
    "annot=True -> This ensures that the values for each cell appear on the chart. (Leaving this out removes the numbers from each of the cells.)"
   ]
  },
  {
   "cell_type": "markdown",
   "id": "a3d705b4",
   "metadata": {},
   "source": [
    "### Analysis"
   ]
  },
  {
   "cell_type": "markdown",
   "id": "65b55901",
   "metadata": {},
   "source": [
    "Darker colors in the later months of the year indicate the airlines are better, on average, at arriving on time. "
   ]
  },
  {
   "cell_type": "markdown",
   "id": "09e44435-cc37-4b51-a066-2954d363fe53",
   "metadata": {},
   "source": [
    "<hr style=\"height:10px;border-width:0;color:gray;background-color:darkorchid\">\n",
    "\n",
    "# Page 4 - Barplots with Hybrid Cars <a class=\"anchor\" id=\"DS104L5_page_4\"></a>\n",
    "\n",
    "[Back to Top](#DS104L5_toc)\n",
    "\n",
    "<hr style=\"height:10px;border-width:0;color:gray;background-color:darkorchid\">"
   ]
  },
  {
   "cell_type": "markdown",
   "id": "b5aeb46b",
   "metadata": {},
   "source": [
    "#### For a barplot, let's go back to the hybrid cars data we looked at earlier."
   ]
  },
  {
   "cell_type": "code",
   "execution_count": null,
   "id": "18011810",
   "metadata": {},
   "outputs": [],
   "source": [
    "hybrid.head()"
   ]
  },
  {
   "cell_type": "code",
   "execution_count": null,
   "id": "17cba97c",
   "metadata": {},
   "outputs": [],
   "source": [
    "sns.barplot(x= hybrid['msrp'], y = hybrid['vehicle'])"
   ]
  },
  {
   "cell_type": "markdown",
   "id": "3e709b34",
   "metadata": {},
   "source": [
    "#### That's not very readable - let's adjust the size. the first number inside the parentheses is for the width; the second number is the height. "
   ]
  },
  {
   "cell_type": "code",
   "execution_count": null,
   "id": "cf8c2050",
   "metadata": {},
   "outputs": [],
   "source": [
    "plt.figure(figsize=(14,7))\n",
    "sns.barplot(x= hybrid['msrp'], y = hybrid['vehicle'])"
   ]
  },
  {
   "cell_type": "markdown",
   "id": "389c679e",
   "metadata": {},
   "source": [
    "#### We can do better. "
   ]
  },
  {
   "cell_type": "code",
   "execution_count": null,
   "id": "76a64f50",
   "metadata": {
    "scrolled": true
   },
   "outputs": [],
   "source": [
    "plt.figure(figsize=(14, 12 ))\n",
    "sns.barplot(x= hybrid['msrp'], y = hybrid['vehicle'])"
   ]
  },
  {
   "cell_type": "markdown",
   "id": "338a8ab3",
   "metadata": {},
   "source": [
    "### That's better. "
   ]
  },
  {
   "cell_type": "markdown",
   "id": "5415f92e-87d0-4ec7-97bf-0ea2774ee29d",
   "metadata": {},
   "source": [
    "<hr style=\"height:10px;border-width:0;color:gray;background-color:darkorchid\">\n",
    "\n",
    "# Page 5 - Insurance Analysis <a class=\"anchor\" id=\"DS104L5_page_5\"></a>\n",
    "\n",
    "[Back to Top](#DS104L5_toc)\n",
    "\n",
    "<hr style=\"height:10px;border-width:0;color:gray;background-color:darkorchid\">"
   ]
  },
  {
   "cell_type": "markdown",
   "id": "eadedb7e",
   "metadata": {},
   "source": [
    "Now we'll take a look at __[insurance](https://www.kaggle.com/code/alexisbcook/scatter-plots/data?select=insurance.csv)__ data, which you can download and run. "
   ]
  },
  {
   "cell_type": "code",
   "execution_count": null,
   "id": "7eac4d0b",
   "metadata": {},
   "outputs": [],
   "source": [
    "insurance = pd.read_csv(r\"C:\\Users\\Marcy\\Desktop\\DATA\\insurance.csv\")"
   ]
  },
  {
   "cell_type": "code",
   "execution_count": null,
   "id": "f94e3f04",
   "metadata": {},
   "outputs": [],
   "source": [
    "insurance.head()"
   ]
  },
  {
   "cell_type": "markdown",
   "id": "f6db6cea",
   "metadata": {},
   "source": [
    "### Scatter plots\n",
    "To create a simple scatter plot, we use the sns.scatterplot command and specify the values for:\n",
    "\n",
    "the horizontal x-axis (x=insurance['bmi']), and\n",
    "the vertical y-axis (y=insurance['charges'])."
   ]
  },
  {
   "cell_type": "code",
   "execution_count": null,
   "id": "ae248ce6",
   "metadata": {},
   "outputs": [],
   "source": [
    "sns.scatterplot(x=insurance['bmi'], y=insurance['charges'])"
   ]
  },
  {
   "cell_type": "markdown",
   "id": "7310fcdd",
   "metadata": {},
   "source": [
    "#### The scatterplot above suggests that body mass index (BMI) and insurance charges are positively correlated, where customers with higher BMI typically also tend to pay more in insurance costs. (This pattern makes sense, since high BMI is typically associated with higher risk of chronic disease.)\n",
    "\n",
    "To double-check the strength of this relationship, you might like to add a regression line, or the line that best fits the data. We do this by changing the command to sns.regplot."
   ]
  },
  {
   "cell_type": "code",
   "execution_count": null,
   "id": "96128cf9",
   "metadata": {},
   "outputs": [],
   "source": [
    "sns.regplot(x=insurance['bmi'], y=insurance['charges'])"
   ]
  },
  {
   "cell_type": "markdown",
   "id": "5cb0e5e1",
   "metadata": {},
   "source": [
    "### Color-coded scatter plots\n",
    "We can use scatter plots to display the relationships between not just two, but three variables. One way of doing this is by color coding the points.\n",
    "\n",
    "For instance, to understand how smoking affects the relationship between BMI and insurance costs, we can color code the points by 'smoker', and plot the other two columns on the x and y axes."
   ]
  },
  {
   "cell_type": "code",
   "execution_count": null,
   "id": "db7fac91",
   "metadata": {},
   "outputs": [],
   "source": [
    "sns.scatterplot(x=insurance['bmi'], y=insurance['charges'], hue=insurance['smoker'])"
   ]
  },
  {
   "cell_type": "markdown",
   "id": "fb7eff33",
   "metadata": {},
   "source": [
    "This scatter plot shows that while nonsmokers might pay slightly more with increasing body mass, smokers pay much more. "
   ]
  },
  {
   "cell_type": "markdown",
   "id": "460196b3",
   "metadata": {},
   "source": [
    "### A trendline really highlights this difference. "
   ]
  },
  {
   "cell_type": "code",
   "execution_count": null,
   "id": "2ccf1d1a",
   "metadata": {},
   "outputs": [],
   "source": [
    "sns.lmplot(x=\"bmi\", y=\"charges\", hue=\"smoker\", data=insurance)"
   ]
  },
  {
   "cell_type": "markdown",
   "id": "83c5313d",
   "metadata": {},
   "source": [
    "### You've seen scatter plots - they're normally used for continuous (numerical) data. But a swarmplot can be used for categorical data, as seen here. "
   ]
  },
  {
   "cell_type": "code",
   "execution_count": null,
   "id": "33fdfde9",
   "metadata": {},
   "outputs": [],
   "source": [
    "sns.swarmplot(x=insurance['smoker'],\n",
    "              y=insurance['charges'])"
   ]
  },
  {
   "cell_type": "markdown",
   "id": "c8dcf84d",
   "metadata": {},
   "source": [
    "#### What does a swarmplot look like with different categorical data?"
   ]
  },
  {
   "cell_type": "code",
   "execution_count": null,
   "id": "026e346c",
   "metadata": {},
   "outputs": [],
   "source": [
    "sns.swarmplot(x=insurance['smoker'],\n",
    "              y=insurance['region'])"
   ]
  },
  {
   "cell_type": "markdown",
   "id": "b01cba43-fbd2-42dd-ab3e-1d2d47475e0a",
   "metadata": {},
   "source": [
    "<hr style=\"height:10px;border-width:0;color:gray;background-color:darkorchid\">\n",
    "\n",
    "# Page  6- Video Games and Beauty in Swarmplots <a class=\"anchor\" id=\"DS104L5_page_6\"></a>\n",
    "\n",
    "[Back to Top](#DS104L5_toc)\n",
    "\n",
    "<hr style=\"height:10px;border-width:0;color:gray;background-color:darkorchid\">"
   ]
  },
  {
   "cell_type": "markdown",
   "id": "10f078ce",
   "metadata": {},
   "source": [
    "#### Not that great. what about a different dataset?"
   ]
  },
  {
   "cell_type": "code",
   "execution_count": null,
   "id": "568b07ae",
   "metadata": {},
   "outputs": [],
   "source": [
    "Vgames = pd.read_csv(r\"C:\\Users\\Marcy\\Desktop\\DATA\\video_games_global.csv\")"
   ]
  },
  {
   "cell_type": "code",
   "execution_count": null,
   "id": "6fb492ad",
   "metadata": {},
   "outputs": [],
   "source": [
    "Vgames. head()"
   ]
  },
  {
   "cell_type": "code",
   "execution_count": null,
   "id": "9cfbcf5f",
   "metadata": {},
   "outputs": [],
   "source": [
    "#sns.swarmplot(x=Vgames['Genre'],\n",
    "             # y=Vgames['Publisher'])\n",
    "    \n",
    "#Commented out because there's too many variables for it to run. So swarmplot isn't the best choice in this case. "
   ]
  },
  {
   "cell_type": "markdown",
   "id": "2e61902b",
   "metadata": {},
   "source": [
    "####  The graphs don't turn out so well with just any kind of categorical data. I find it looks best when one of the categories is binary. For instance, a yes/no, or male/female  as one of the inputs. Let's try a beauty dataset, found __[here](https://www.kaggle.com/datasets/aungpyaeap/beauty)__."
   ]
  },
  {
   "cell_type": "code",
   "execution_count": null,
   "id": "76fab65a",
   "metadata": {},
   "outputs": [],
   "source": [
    "beauty = pd.read_csv(r\"C:\\Users\\Marcy\\Desktop\\DATA\\beauty.csv\")"
   ]
  },
  {
   "cell_type": "code",
   "execution_count": null,
   "id": "bd5714a3",
   "metadata": {},
   "outputs": [],
   "source": [
    "beauty.head()"
   ]
  },
  {
   "cell_type": "markdown",
   "id": "ac24eea5",
   "metadata": {},
   "source": [
    "#### I'd like to recode the zeros and ones in at least the female column; I'm not a fan of those for delivering meaning in a graph label. "
   ]
  },
  {
   "cell_type": "code",
   "execution_count": null,
   "id": "3ef316aa",
   "metadata": {},
   "outputs": [],
   "source": [
    "def gender(series):\n",
    "    if series == 1:\n",
    "        return \"Female\"\n",
    "    elif series == 0:\n",
    "        return \"Male\"\n",
    "   \n",
    "beauty['FemaleR'] = beauty['female'].apply(gender)\n",
    "\n",
    "beauty.head()"
   ]
  },
  {
   "cell_type": "code",
   "execution_count": null,
   "id": "ed1b2f47",
   "metadata": {},
   "outputs": [],
   "source": [
    "sns.swarmplot(x=beauty['FemaleR'],\n",
    "              y=beauty['wage'])"
   ]
  },
  {
   "cell_type": "markdown",
   "id": "a0821589",
   "metadata": {},
   "source": [
    "#### Rename the x axis so it makes more sense "
   ]
  },
  {
   "cell_type": "code",
   "execution_count": null,
   "id": "5446201e",
   "metadata": {},
   "outputs": [],
   "source": [
    "sns.swarmplot(x=beauty['FemaleR'],\n",
    "              y=beauty['wage'])\n",
    "plt.xlabel('Gender')\n",
    "plt.ylabel('Income')"
   ]
  },
  {
   "cell_type": "markdown",
   "id": "3d60a6a0",
   "metadata": {},
   "source": [
    "#### Now, taking a look at the warning message, it's suggesting to use stripplot. What's that? Let's find out. "
   ]
  },
  {
   "cell_type": "markdown",
   "id": "a0cf9aa5",
   "metadata": {},
   "source": [
    "A strip plot is created entirely on its own. In circumstances when all data are given together with some representation of the underlying distribution, it is a nice complement to a boxplot or violinplot. It is used to generate a scatter plot depending on a category."
   ]
  },
  {
   "cell_type": "markdown",
   "id": "2fe73cc3",
   "metadata": {},
   "source": [
    "The Tips dataset is one of the sample datasets included with the seaborn package, and it is used in the documentation of the seaborn package. It may be readily imported using the seaborn load dataset command, according to __[askpython.com](https://www.askpython.com/python-modules/seaborn-stripplot-method#:~:text=%20Using%20the%20Seaborn%20stripplot%20%28%29%20method%20in,the%20data%20points.%20The%20width%20of...%20More%20)__. "
   ]
  },
  {
   "cell_type": "code",
   "execution_count": null,
   "id": "470fa76f",
   "metadata": {},
   "outputs": [],
   "source": [
    "import seaborn\n",
    "import matplotlib.pyplot as plt\n",
    "tips = seaborn.load_dataset(\"tips\")\n",
    "plt.style.use(\"seaborn\")"
   ]
  },
  {
   "cell_type": "code",
   "execution_count": null,
   "id": "e52a61c4",
   "metadata": {},
   "outputs": [],
   "source": [
    "plt.figure(figsize=(10,10))\n",
    "seaborn.stripplot(x=\"sex\", y=\"total_bill\", data=tips)\n",
    "plt.show()"
   ]
  },
  {
   "cell_type": "markdown",
   "id": "223e7a72",
   "metadata": {},
   "source": [
    "#### We can make these points larger."
   ]
  },
  {
   "cell_type": "code",
   "execution_count": null,
   "id": "91f040ea",
   "metadata": {},
   "outputs": [],
   "source": [
    "plt.figure(figsize=(10,10))\n",
    "seaborn.stripplot(y=\"total_bill\", x=\"sex\", data=tips,linewidth=2,size=10)\n",
    "plt.show()"
   ]
  },
  {
   "cell_type": "markdown",
   "id": "95eea152",
   "metadata": {},
   "source": [
    "#### A third variable can even be added, with a key/legend."
   ]
  },
  {
   "cell_type": "code",
   "execution_count": null,
   "id": "10387665",
   "metadata": {},
   "outputs": [],
   "source": [
    "plt.figure(figsize=(10,10))\n",
    "seaborn.stripplot(x=\"sex\", y=\"total_bill\", hue=\"day\", data=tips,size=10)\n",
    "plt.show()"
   ]
  },
  {
   "cell_type": "markdown",
   "id": "52ca75a2-a5e9-46f3-9da5-b5d3a14718fa",
   "metadata": {},
   "source": [
    "<hr style=\"height:10px;border-width:0;color:gray;background-color:darkorchid\">\n",
    "\n",
    "# Page  7- Penguins <a class=\"anchor\" id=\"DS104L5_page_7\"></a>\n",
    "\n",
    "[Back to Top](#DS104L5_toc)\n",
    "\n",
    "<hr style=\"height:10px;border-width:0;color:gray;background-color:darkorchid\">"
   ]
  },
  {
   "cell_type": "markdown",
   "id": "ea247993",
   "metadata": {},
   "source": [
    "#### Seaborn has another built-in dataset, called penguins."
   ]
  },
  {
   "cell_type": "code",
   "execution_count": null,
   "id": "01b7c1c6",
   "metadata": {},
   "outputs": [],
   "source": [
    "penguins = sns.load_dataset('penguins')"
   ]
  },
  {
   "cell_type": "code",
   "execution_count": null,
   "id": "7ea37441",
   "metadata": {},
   "outputs": [],
   "source": [
    "penguins.head()"
   ]
  },
  {
   "cell_type": "markdown",
   "id": "2308f685",
   "metadata": {},
   "source": [
    "#### Swarmplot for penguins"
   ]
  },
  {
   "cell_type": "code",
   "execution_count": null,
   "id": "a2d9426b",
   "metadata": {},
   "outputs": [],
   "source": [
    "sns.swarmplot(x=penguins['sex'],\n",
    "              y=penguins['body_mass_g'])"
   ]
  },
  {
   "cell_type": "code",
   "execution_count": null,
   "id": "70d4c071",
   "metadata": {},
   "outputs": [],
   "source": [
    "sns.swarmplot(x=penguins['sex'],\n",
    "              y=penguins['flipper_length_mm'])"
   ]
  },
  {
   "cell_type": "markdown",
   "id": "18107739",
   "metadata": {},
   "source": [
    "#### Here's another plot, looking at the data, a displot with labels and adding species as the color. "
   ]
  },
  {
   "cell_type": "code",
   "execution_count": null,
   "id": "6456dd2e",
   "metadata": {},
   "outputs": [],
   "source": [
    "penguinGraph = sns.displot(penguins, x=\"bill_length_mm\", hue=\"species\", col=\"island\", col_wrap=2, height=3)\n",
    "plt.show()"
   ]
  },
  {
   "cell_type": "markdown",
   "id": "01e8a82b",
   "metadata": {},
   "source": [
    "#### Same plot, looking at gender"
   ]
  },
  {
   "cell_type": "code",
   "execution_count": null,
   "id": "ef219fb6",
   "metadata": {},
   "outputs": [],
   "source": [
    "penguinGraph = sns.displot(penguins, x=\"bill_length_mm\", hue=\"sex\", col=\"island\", col_wrap=2, height=3)\n",
    "plt.show()"
   ]
  },
  {
   "cell_type": "markdown",
   "id": "b56f3b12-bd03-40fc-b49e-c6480c9aa839",
   "metadata": {},
   "source": [
    "<hr style=\"height:10px;border-width:0;color:gray;background-color:darkorchid\">\n",
    "\n",
    "# Page  8- Other Built-in Datasets, including Pluto and the Planets <a class=\"anchor\" id=\"DS104L5_page_8\"></a>\n",
    "\n",
    "[Back to Top](#DS104L5_toc)\n",
    "\n",
    "<hr style=\"height:10px;border-width:0;color:gray;background-color:darkorchid\">"
   ]
  },
  {
   "cell_type": "markdown",
   "id": "28534134",
   "metadata": {},
   "source": [
    "#### Curious what other built in datasets Seaborn offers? Run this line of code to find out:"
   ]
  },
  {
   "cell_type": "code",
   "execution_count": null,
   "id": "c9b0811a",
   "metadata": {},
   "outputs": [],
   "source": [
    "sns.get_dataset_names ()"
   ]
  },
  {
   "cell_type": "markdown",
   "id": "9bed9c54",
   "metadata": {},
   "source": [
    "#### Load them in this manner:"
   ]
  },
  {
   "cell_type": "code",
   "execution_count": null,
   "id": "14aaea7c",
   "metadata": {},
   "outputs": [],
   "source": [
    "planets = sns.load_dataset('planets')"
   ]
  },
  {
   "cell_type": "code",
   "execution_count": null,
   "id": "48f4aaf9",
   "metadata": {},
   "outputs": [],
   "source": [
    "planets.head()"
   ]
  },
  {
   "cell_type": "markdown",
   "id": "aafc72ef",
   "metadata": {},
   "source": [
    "#### I wonder how many planets this dataset has, and if they're still counting Pluto. "
   ]
  },
  {
   "cell_type": "code",
   "execution_count": null,
   "id": "b063bb6b",
   "metadata": {},
   "outputs": [],
   "source": [
    "planets.number.value_counts()"
   ]
  },
  {
   "cell_type": "code",
   "execution_count": null,
   "id": "ca991b8a",
   "metadata": {},
   "outputs": [],
   "source": [
    "plt.figure(figsize=(14,7))\n",
    "sns.barplot(x= planets['year'], y = planets['number'])"
   ]
  },
  {
   "cell_type": "markdown",
   "id": "5627c3a9",
   "metadata": {},
   "source": [
    "#### And finally, __[Kaggle](https://www.kaggle.com/)__ has many datasets. They're tailored for different kinds of analyses - some are better for machine learning, some for NLP or regression. Take a look around. You may find one you'll use for a final project.  "
   ]
  },
  {
   "cell_type": "code",
   "execution_count": null,
   "id": "24f9ad56",
   "metadata": {},
   "outputs": [],
   "source": []
  }
 ],
 "metadata": {
  "kernelspec": {
   "display_name": "Python 3 (ipykernel)",
   "language": "python",
   "name": "python3"
  },
  "language_info": {
   "codemirror_mode": {
    "name": "ipython",
    "version": 3
   },
   "file_extension": ".py",
   "mimetype": "text/x-python",
   "name": "python",
   "nbconvert_exporter": "python",
   "pygments_lexer": "ipython3",
   "version": "3.10.4"
  }
 },
 "nbformat": 4,
 "nbformat_minor": 5
}
