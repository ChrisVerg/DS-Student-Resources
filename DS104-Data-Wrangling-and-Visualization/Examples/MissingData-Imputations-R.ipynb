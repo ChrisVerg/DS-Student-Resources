{
 "cells": [
  {
   "cell_type": "markdown",
   "id": "a666fe45-e13b-4cb3-a217-1656b49c730c",
   "metadata": {},
   "source": [
    "# Dealing with Missind Data with R"
   ]
  },
  {
   "cell_type": "markdown",
   "id": "fa3c5471-a02c-4ad9-9c9b-fd8f0d41211f",
   "metadata": {},
   "source": [
    "5 ways to deal with missing Data:\n",
    "- Deleting all row with missing data\n",
    "- Deleteing rows with missing data inspecific variable\n",
    "- Change missing data to a value\n",
    "- Imputation (means to fill the missing data with something predicted to what the data could possibly be) "
   ]
  },
  {
   "cell_type": "code",
   "execution_count": 2,
   "id": "ec86ae15-6d2b-4ccf-96d6-b763d83d153c",
   "metadata": {},
   "outputs": [],
   "source": [
    "library(tidyverse)"
   ]
  },
  {
   "cell_type": "code",
   "execution_count": 16,
   "id": "10849c93-ef3d-46da-8a93-6b40ec40011e",
   "metadata": {},
   "outputs": [
    {
     "data": {
      "text/html": [
       "<table class=\"dataframe\">\n",
       "<caption>A tibble: 6 × 14</caption>\n",
       "<thead>\n",
       "\t<tr><th scope=col>name</th><th scope=col>height</th><th scope=col>mass</th><th scope=col>hair_color</th><th scope=col>skin_color</th><th scope=col>eye_color</th><th scope=col>birth_year</th><th scope=col>sex</th><th scope=col>gender</th><th scope=col>homeworld</th><th scope=col>species</th><th scope=col>films</th><th scope=col>vehicles</th><th scope=col>starships</th></tr>\n",
       "\t<tr><th scope=col>&lt;chr&gt;</th><th scope=col>&lt;int&gt;</th><th scope=col>&lt;dbl&gt;</th><th scope=col>&lt;chr&gt;</th><th scope=col>&lt;chr&gt;</th><th scope=col>&lt;chr&gt;</th><th scope=col>&lt;dbl&gt;</th><th scope=col>&lt;chr&gt;</th><th scope=col>&lt;chr&gt;</th><th scope=col>&lt;chr&gt;</th><th scope=col>&lt;chr&gt;</th><th scope=col>&lt;list&gt;</th><th scope=col>&lt;list&gt;</th><th scope=col>&lt;list&gt;</th></tr>\n",
       "</thead>\n",
       "<tbody>\n",
       "\t<tr><td>Luke Skywalker</td><td>172</td><td> 77</td><td>blond      </td><td>fair       </td><td>blue  </td><td> 19.0</td><td>male  </td><td>masculine</td><td>Tatooine</td><td>Human</td><td>The Empire Strikes Back, Revenge of the Sith    , Return of the Jedi     , A New Hope             , The Force Awakens      </td><td>Snowspeeder          , Imperial Speeder Bike</td><td>X-wing          , Imperial shuttle</td></tr>\n",
       "\t<tr><td>C-3PO         </td><td>167</td><td> 75</td><td>NA         </td><td>gold       </td><td>yellow</td><td>112.0</td><td>none  </td><td>masculine</td><td>Tatooine</td><td>Droid</td><td>The Empire Strikes Back, Attack of the Clones   , The Phantom Menace     , Revenge of the Sith    , Return of the Jedi     , A New Hope             </td><td></td><td></td></tr>\n",
       "\t<tr><td>R2-D2         </td><td> 96</td><td> 32</td><td>NA         </td><td>white, blue</td><td>red   </td><td> 33.0</td><td>none  </td><td>masculine</td><td>Naboo   </td><td>Droid</td><td>The Empire Strikes Back, Attack of the Clones   , The Phantom Menace     , Revenge of the Sith    , Return of the Jedi     , A New Hope             , The Force Awakens      </td><td></td><td></td></tr>\n",
       "\t<tr><td>Darth Vader   </td><td>202</td><td>136</td><td>none       </td><td>white      </td><td>yellow</td><td> 41.9</td><td>male  </td><td>masculine</td><td>Tatooine</td><td>Human</td><td>The Empire Strikes Back, Revenge of the Sith    , Return of the Jedi     , A New Hope             </td><td></td><td>TIE Advanced x1</td></tr>\n",
       "\t<tr><td>Leia Organa   </td><td>150</td><td> 49</td><td>brown      </td><td>light      </td><td>brown </td><td> 19.0</td><td>female</td><td>feminine </td><td>Alderaan</td><td>Human</td><td>The Empire Strikes Back, Revenge of the Sith    , Return of the Jedi     , A New Hope             , The Force Awakens      </td><td>Imperial Speeder Bike</td><td></td></tr>\n",
       "\t<tr><td>Owen Lars     </td><td>178</td><td>120</td><td>brown, grey</td><td>light      </td><td>blue  </td><td> 52.0</td><td>male  </td><td>masculine</td><td>Tatooine</td><td>Human</td><td>Attack of the Clones, Revenge of the Sith , A New Hope          </td><td></td><td></td></tr>\n",
       "</tbody>\n",
       "</table>\n"
      ],
      "text/latex": [
       "A tibble: 6 × 14\n",
       "\\begin{tabular}{llllllllllllll}\n",
       " name & height & mass & hair\\_color & skin\\_color & eye\\_color & birth\\_year & sex & gender & homeworld & species & films & vehicles & starships\\\\\n",
       " <chr> & <int> & <dbl> & <chr> & <chr> & <chr> & <dbl> & <chr> & <chr> & <chr> & <chr> & <list> & <list> & <list>\\\\\n",
       "\\hline\n",
       "\t Luke Skywalker & 172 &  77 & blond       & fair        & blue   &  19.0 & male   & masculine & Tatooine & Human & The Empire Strikes Back, Revenge of the Sith    , Return of the Jedi     , A New Hope             , The Force Awakens       & Snowspeeder          , Imperial Speeder Bike & X-wing          , Imperial shuttle\\\\\n",
       "\t C-3PO          & 167 &  75 & NA          & gold        & yellow & 112.0 & none   & masculine & Tatooine & Droid & The Empire Strikes Back, Attack of the Clones   , The Phantom Menace     , Revenge of the Sith    , Return of the Jedi     , A New Hope              &  & \\\\\n",
       "\t R2-D2          &  96 &  32 & NA          & white, blue & red    &  33.0 & none   & masculine & Naboo    & Droid & The Empire Strikes Back, Attack of the Clones   , The Phantom Menace     , Revenge of the Sith    , Return of the Jedi     , A New Hope             , The Force Awakens       &  & \\\\\n",
       "\t Darth Vader    & 202 & 136 & none        & white       & yellow &  41.9 & male   & masculine & Tatooine & Human & The Empire Strikes Back, Revenge of the Sith    , Return of the Jedi     , A New Hope              &  & TIE Advanced x1\\\\\n",
       "\t Leia Organa    & 150 &  49 & brown       & light       & brown  &  19.0 & female & feminine  & Alderaan & Human & The Empire Strikes Back, Revenge of the Sith    , Return of the Jedi     , A New Hope             , The Force Awakens       & Imperial Speeder Bike & \\\\\n",
       "\t Owen Lars      & 178 & 120 & brown, grey & light       & blue   &  52.0 & male   & masculine & Tatooine & Human & Attack of the Clones, Revenge of the Sith , A New Hope           &  & \\\\\n",
       "\\end{tabular}\n"
      ],
      "text/markdown": [
       "\n",
       "A tibble: 6 × 14\n",
       "\n",
       "| name &lt;chr&gt; | height &lt;int&gt; | mass &lt;dbl&gt; | hair_color &lt;chr&gt; | skin_color &lt;chr&gt; | eye_color &lt;chr&gt; | birth_year &lt;dbl&gt; | sex &lt;chr&gt; | gender &lt;chr&gt; | homeworld &lt;chr&gt; | species &lt;chr&gt; | films &lt;list&gt; | vehicles &lt;list&gt; | starships &lt;list&gt; |\n",
       "|---|---|---|---|---|---|---|---|---|---|---|---|---|---|\n",
       "| Luke Skywalker | 172 |  77 | blond       | fair        | blue   |  19.0 | male   | masculine | Tatooine | Human | The Empire Strikes Back, Revenge of the Sith    , Return of the Jedi     , A New Hope             , The Force Awakens       | Snowspeeder          , Imperial Speeder Bike | X-wing          , Imperial shuttle |\n",
       "| C-3PO          | 167 |  75 | NA          | gold        | yellow | 112.0 | none   | masculine | Tatooine | Droid | The Empire Strikes Back, Attack of the Clones   , The Phantom Menace     , Revenge of the Sith    , Return of the Jedi     , A New Hope              | <!----> | <!----> |\n",
       "| R2-D2          |  96 |  32 | NA          | white, blue | red    |  33.0 | none   | masculine | Naboo    | Droid | The Empire Strikes Back, Attack of the Clones   , The Phantom Menace     , Revenge of the Sith    , Return of the Jedi     , A New Hope             , The Force Awakens       | <!----> | <!----> |\n",
       "| Darth Vader    | 202 | 136 | none        | white       | yellow |  41.9 | male   | masculine | Tatooine | Human | The Empire Strikes Back, Revenge of the Sith    , Return of the Jedi     , A New Hope              | <!----> | TIE Advanced x1 |\n",
       "| Leia Organa    | 150 |  49 | brown       | light       | brown  |  19.0 | female | feminine  | Alderaan | Human | The Empire Strikes Back, Revenge of the Sith    , Return of the Jedi     , A New Hope             , The Force Awakens       | Imperial Speeder Bike | <!----> |\n",
       "| Owen Lars      | 178 | 120 | brown, grey | light       | blue   |  52.0 | male   | masculine | Tatooine | Human | Attack of the Clones, Revenge of the Sith , A New Hope           | <!----> | <!----> |\n",
       "\n"
      ],
      "text/plain": [
       "  name           height mass hair_color  skin_color  eye_color birth_year\n",
       "1 Luke Skywalker 172     77  blond       fair        blue       19.0     \n",
       "2 C-3PO          167     75  NA          gold        yellow    112.0     \n",
       "3 R2-D2           96     32  NA          white, blue red        33.0     \n",
       "4 Darth Vader    202    136  none        white       yellow     41.9     \n",
       "5 Leia Organa    150     49  brown       light       brown      19.0     \n",
       "6 Owen Lars      178    120  brown, grey light       blue       52.0     \n",
       "  sex    gender    homeworld species\n",
       "1 male   masculine Tatooine  Human  \n",
       "2 none   masculine Tatooine  Droid  \n",
       "3 none   masculine Naboo     Droid  \n",
       "4 male   masculine Tatooine  Human  \n",
       "5 female feminine  Alderaan  Human  \n",
       "6 male   masculine Tatooine  Human  \n",
       "  films                                                                                                                                                                        \n",
       "1 The Empire Strikes Back, Revenge of the Sith    , Return of the Jedi     , A New Hope             , The Force Awakens                                                        \n",
       "2 The Empire Strikes Back, Attack of the Clones   , The Phantom Menace     , Revenge of the Sith    , Return of the Jedi     , A New Hope                                      \n",
       "3 The Empire Strikes Back, Attack of the Clones   , The Phantom Menace     , Revenge of the Sith    , Return of the Jedi     , A New Hope             , The Force Awakens      \n",
       "4 The Empire Strikes Back, Revenge of the Sith    , Return of the Jedi     , A New Hope                                                                                        \n",
       "5 The Empire Strikes Back, Revenge of the Sith    , Return of the Jedi     , A New Hope             , The Force Awakens                                                        \n",
       "6 Attack of the Clones, Revenge of the Sith , A New Hope                                                                                                                       \n",
       "  vehicles                                    \n",
       "1 Snowspeeder          , Imperial Speeder Bike\n",
       "2                                             \n",
       "3                                             \n",
       "4                                             \n",
       "5 Imperial Speeder Bike                       \n",
       "6                                             \n",
       "  starships                         \n",
       "1 X-wing          , Imperial shuttle\n",
       "2                                   \n",
       "3                                   \n",
       "4 TIE Advanced x1                   \n",
       "5                                   \n",
       "6                                   "
      ]
     },
     "metadata": {},
     "output_type": "display_data"
    }
   ],
   "source": [
    "head(starwars)"
   ]
  },
  {
   "cell_type": "markdown",
   "id": "6eaaa67d-20b7-449b-9b86-0bbdf9c654e5",
   "metadata": {},
   "source": [
    "### Just grabbing the columns we want to look at"
   ]
  },
  {
   "cell_type": "code",
   "execution_count": 6,
   "id": "c0e34168-a66c-45fe-b00e-639cd1eb664c",
   "metadata": {},
   "outputs": [
    {
     "data": {
      "text/html": [
       "<table class=\"dataframe\">\n",
       "<caption>A tibble: 6 × 4</caption>\n",
       "<thead>\n",
       "\t<tr><th scope=col>name</th><th scope=col>gender</th><th scope=col>hair_color</th><th scope=col>height</th></tr>\n",
       "\t<tr><th scope=col>&lt;chr&gt;</th><th scope=col>&lt;chr&gt;</th><th scope=col>&lt;chr&gt;</th><th scope=col>&lt;int&gt;</th></tr>\n",
       "</thead>\n",
       "<tbody>\n",
       "\t<tr><td>Luke Skywalker</td><td>masculine</td><td>blond      </td><td>172</td></tr>\n",
       "\t<tr><td>C-3PO         </td><td>masculine</td><td>NA         </td><td>167</td></tr>\n",
       "\t<tr><td>R2-D2         </td><td>masculine</td><td>NA         </td><td> 96</td></tr>\n",
       "\t<tr><td>Darth Vader   </td><td>masculine</td><td>none       </td><td>202</td></tr>\n",
       "\t<tr><td>Leia Organa   </td><td>feminine </td><td>brown      </td><td>150</td></tr>\n",
       "\t<tr><td>Owen Lars     </td><td>masculine</td><td>brown, grey</td><td>178</td></tr>\n",
       "</tbody>\n",
       "</table>\n"
      ],
      "text/latex": [
       "A tibble: 6 × 4\n",
       "\\begin{tabular}{llll}\n",
       " name & gender & hair\\_color & height\\\\\n",
       " <chr> & <chr> & <chr> & <int>\\\\\n",
       "\\hline\n",
       "\t Luke Skywalker & masculine & blond       & 172\\\\\n",
       "\t C-3PO          & masculine & NA          & 167\\\\\n",
       "\t R2-D2          & masculine & NA          &  96\\\\\n",
       "\t Darth Vader    & masculine & none        & 202\\\\\n",
       "\t Leia Organa    & feminine  & brown       & 150\\\\\n",
       "\t Owen Lars      & masculine & brown, grey & 178\\\\\n",
       "\\end{tabular}\n"
      ],
      "text/markdown": [
       "\n",
       "A tibble: 6 × 4\n",
       "\n",
       "| name &lt;chr&gt; | gender &lt;chr&gt; | hair_color &lt;chr&gt; | height &lt;int&gt; |\n",
       "|---|---|---|---|\n",
       "| Luke Skywalker | masculine | blond       | 172 |\n",
       "| C-3PO          | masculine | NA          | 167 |\n",
       "| R2-D2          | masculine | NA          |  96 |\n",
       "| Darth Vader    | masculine | none        | 202 |\n",
       "| Leia Organa    | feminine  | brown       | 150 |\n",
       "| Owen Lars      | masculine | brown, grey | 178 |\n",
       "\n"
      ],
      "text/plain": [
       "  name           gender    hair_color  height\n",
       "1 Luke Skywalker masculine blond       172   \n",
       "2 C-3PO          masculine NA          167   \n",
       "3 R2-D2          masculine NA           96   \n",
       "4 Darth Vader    masculine none        202   \n",
       "5 Leia Organa    feminine  brown       150   \n",
       "6 Owen Lars      masculine brown, grey 178   "
      ]
     },
     "metadata": {},
     "output_type": "display_data"
    }
   ],
   "source": [
    "starwars %>% \n",
    "    select(name, gender, hair_color, height) %>% \n",
    "    head()\n"
   ]
  },
  {
   "cell_type": "markdown",
   "id": "d68ed5be-5d14-48b9-b17c-5fc646544027",
   "metadata": {},
   "source": [
    "### Shows only my rows with Missing Data"
   ]
  },
  {
   "cell_type": "code",
   "execution_count": null,
   "id": "522b5a74-f821-430c-b3d2-82d0d3adc8b5",
   "metadata": {},
   "outputs": [],
   "source": [
    "starwars %>% \n",
    "    select(name, gender, hair_color, height) %>% \n",
    "    filter(!complete.cases(.)) %>%\n",
    "    View("
   ]
  },
  {
   "cell_type": "markdown",
   "id": "ded6faee-bee1-4157-aeb8-d27ce26cc316",
   "metadata": {},
   "source": [
    "complete.cases() is a functions that extracts only rows without missing data\n",
    "by putting an ! in front on the function, this tells R to do the opposite, and gathers all rows with missing data\n",
    "the (.) dot means we want to use the entire data frame"
   ]
  },
  {
   "cell_type": "markdown",
   "id": "6b567deb-0ceb-4808-9359-9b73f5cab013",
   "metadata": {},
   "source": [
    "### This package can show you on a large scale of data, the distribution of where the missing data is\n"
   ]
  },
  {
   "cell_type": "code",
   "execution_count": 10,
   "id": "a03ba810-13a3-412e-899d-ce62f84d7fd3",
   "metadata": {},
   "outputs": [],
   "source": [
    "library(mice)"
   ]
  },
  {
   "cell_type": "code",
   "execution_count": 11,
   "id": "faf75d95-6d6e-403c-96c7-d0e1690bace2",
   "metadata": {},
   "outputs": [
    {
     "data": {
      "text/html": [
       "<table class=\"dataframe\">\n",
       "<caption>A matrix: 14 × 15 of type dbl</caption>\n",
       "<thead>\n",
       "\t<tr><th></th><th scope=col>name</th><th scope=col>skin_color</th><th scope=col>eye_color</th><th scope=col>films</th><th scope=col>vehicles</th><th scope=col>starships</th><th scope=col>sex</th><th scope=col>gender</th><th scope=col>species</th><th scope=col>hair_color</th><th scope=col>height</th><th scope=col>homeworld</th><th scope=col>mass</th><th scope=col>birth_year</th><th scope=col></th></tr>\n",
       "</thead>\n",
       "<tbody>\n",
       "\t<tr><th scope=row>29</th><td>1</td><td>1</td><td>1</td><td>1</td><td>1</td><td>1</td><td>1</td><td>1</td><td>1</td><td>1</td><td>1</td><td> 1</td><td> 1</td><td> 1</td><td>  0</td></tr>\n",
       "\t<tr><th scope=row>21</th><td>1</td><td>1</td><td>1</td><td>1</td><td>1</td><td>1</td><td>1</td><td>1</td><td>1</td><td>1</td><td>1</td><td> 1</td><td> 1</td><td> 0</td><td>  1</td></tr>\n",
       "\t<tr><th scope=row>6</th><td>1</td><td>1</td><td>1</td><td>1</td><td>1</td><td>1</td><td>1</td><td>1</td><td>1</td><td>1</td><td>1</td><td> 1</td><td> 0</td><td> 1</td><td>  1</td></tr>\n",
       "\t<tr><th scope=row>13</th><td>1</td><td>1</td><td>1</td><td>1</td><td>1</td><td>1</td><td>1</td><td>1</td><td>1</td><td>1</td><td>1</td><td> 1</td><td> 0</td><td> 0</td><td>  2</td></tr>\n",
       "\t<tr><th scope=row>3</th><td>1</td><td>1</td><td>1</td><td>1</td><td>1</td><td>1</td><td>1</td><td>1</td><td>1</td><td>1</td><td>1</td><td> 0</td><td> 1</td><td> 1</td><td>  1</td></tr>\n",
       "\t<tr><th scope=row>1</th><td>1</td><td>1</td><td>1</td><td>1</td><td>1</td><td>1</td><td>1</td><td>1</td><td>1</td><td>1</td><td>1</td><td> 0</td><td> 0</td><td> 0</td><td>  3</td></tr>\n",
       "\t<tr><th scope=row>5</th><td>1</td><td>1</td><td>1</td><td>1</td><td>1</td><td>1</td><td>1</td><td>1</td><td>1</td><td>1</td><td>0</td><td> 0</td><td> 0</td><td> 0</td><td>  4</td></tr>\n",
       "\t<tr><th scope=row>4</th><td>1</td><td>1</td><td>1</td><td>1</td><td>1</td><td>1</td><td>1</td><td>1</td><td>1</td><td>0</td><td>1</td><td> 1</td><td> 1</td><td> 1</td><td>  1</td></tr>\n",
       "\t<tr><th scope=row>1</th><td>1</td><td>1</td><td>1</td><td>1</td><td>1</td><td>1</td><td>1</td><td>1</td><td>1</td><td>0</td><td>1</td><td> 1</td><td> 1</td><td> 0</td><td>  2</td></tr>\n",
       "\t<tr><th scope=row>1</th><td>1</td><td>1</td><td>1</td><td>1</td><td>1</td><td>1</td><td>0</td><td>0</td><td>0</td><td>1</td><td>1</td><td> 1</td><td> 1</td><td> 0</td><td>  4</td></tr>\n",
       "\t<tr><th scope=row>1</th><td>1</td><td>1</td><td>1</td><td>1</td><td>1</td><td>1</td><td>0</td><td>0</td><td>0</td><td>1</td><td>1</td><td> 1</td><td> 0</td><td> 1</td><td>  4</td></tr>\n",
       "\t<tr><th scope=row>1</th><td>1</td><td>1</td><td>1</td><td>1</td><td>1</td><td>1</td><td>0</td><td>0</td><td>0</td><td>1</td><td>1</td><td> 1</td><td> 0</td><td> 0</td><td>  5</td></tr>\n",
       "\t<tr><th scope=row>1</th><td>1</td><td>1</td><td>1</td><td>1</td><td>1</td><td>1</td><td>0</td><td>0</td><td>0</td><td>1</td><td>0</td><td> 0</td><td> 0</td><td> 0</td><td>  7</td></tr>\n",
       "\t<tr><th scope=row></th><td>0</td><td>0</td><td>0</td><td>0</td><td>0</td><td>0</td><td>4</td><td>4</td><td>4</td><td>5</td><td>6</td><td>10</td><td>28</td><td>44</td><td>105</td></tr>\n",
       "</tbody>\n",
       "</table>\n"
      ],
      "text/latex": [
       "A matrix: 14 × 15 of type dbl\n",
       "\\begin{tabular}{r|lllllllllllllll}\n",
       "  & name & skin\\_color & eye\\_color & films & vehicles & starships & sex & gender & species & hair\\_color & height & homeworld & mass & birth\\_year & \\\\\n",
       "\\hline\n",
       "\t29 & 1 & 1 & 1 & 1 & 1 & 1 & 1 & 1 & 1 & 1 & 1 &  1 &  1 &  1 &   0\\\\\n",
       "\t21 & 1 & 1 & 1 & 1 & 1 & 1 & 1 & 1 & 1 & 1 & 1 &  1 &  1 &  0 &   1\\\\\n",
       "\t6 & 1 & 1 & 1 & 1 & 1 & 1 & 1 & 1 & 1 & 1 & 1 &  1 &  0 &  1 &   1\\\\\n",
       "\t13 & 1 & 1 & 1 & 1 & 1 & 1 & 1 & 1 & 1 & 1 & 1 &  1 &  0 &  0 &   2\\\\\n",
       "\t3 & 1 & 1 & 1 & 1 & 1 & 1 & 1 & 1 & 1 & 1 & 1 &  0 &  1 &  1 &   1\\\\\n",
       "\t1 & 1 & 1 & 1 & 1 & 1 & 1 & 1 & 1 & 1 & 1 & 1 &  0 &  0 &  0 &   3\\\\\n",
       "\t5 & 1 & 1 & 1 & 1 & 1 & 1 & 1 & 1 & 1 & 1 & 0 &  0 &  0 &  0 &   4\\\\\n",
       "\t4 & 1 & 1 & 1 & 1 & 1 & 1 & 1 & 1 & 1 & 0 & 1 &  1 &  1 &  1 &   1\\\\\n",
       "\t1 & 1 & 1 & 1 & 1 & 1 & 1 & 1 & 1 & 1 & 0 & 1 &  1 &  1 &  0 &   2\\\\\n",
       "\t1 & 1 & 1 & 1 & 1 & 1 & 1 & 0 & 0 & 0 & 1 & 1 &  1 &  1 &  0 &   4\\\\\n",
       "\t1 & 1 & 1 & 1 & 1 & 1 & 1 & 0 & 0 & 0 & 1 & 1 &  1 &  0 &  1 &   4\\\\\n",
       "\t1 & 1 & 1 & 1 & 1 & 1 & 1 & 0 & 0 & 0 & 1 & 1 &  1 &  0 &  0 &   5\\\\\n",
       "\t1 & 1 & 1 & 1 & 1 & 1 & 1 & 0 & 0 & 0 & 1 & 0 &  0 &  0 &  0 &   7\\\\\n",
       "\t & 0 & 0 & 0 & 0 & 0 & 0 & 4 & 4 & 4 & 5 & 6 & 10 & 28 & 44 & 105\\\\\n",
       "\\end{tabular}\n"
      ],
      "text/markdown": [
       "\n",
       "A matrix: 14 × 15 of type dbl\n",
       "\n",
       "| <!--/--> | name | skin_color | eye_color | films | vehicles | starships | sex | gender | species | hair_color | height | homeworld | mass | birth_year | <!----> |\n",
       "|---|---|---|---|---|---|---|---|---|---|---|---|---|---|---|---|\n",
       "| 29 | 1 | 1 | 1 | 1 | 1 | 1 | 1 | 1 | 1 | 1 | 1 |  1 |  1 |  1 |   0 |\n",
       "| 21 | 1 | 1 | 1 | 1 | 1 | 1 | 1 | 1 | 1 | 1 | 1 |  1 |  1 |  0 |   1 |\n",
       "| 6 | 1 | 1 | 1 | 1 | 1 | 1 | 1 | 1 | 1 | 1 | 1 |  1 |  0 |  1 |   1 |\n",
       "| 13 | 1 | 1 | 1 | 1 | 1 | 1 | 1 | 1 | 1 | 1 | 1 |  1 |  0 |  0 |   2 |\n",
       "| 3 | 1 | 1 | 1 | 1 | 1 | 1 | 1 | 1 | 1 | 1 | 1 |  0 |  1 |  1 |   1 |\n",
       "| 1 | 1 | 1 | 1 | 1 | 1 | 1 | 1 | 1 | 1 | 1 | 1 |  0 |  0 |  0 |   3 |\n",
       "| 5 | 1 | 1 | 1 | 1 | 1 | 1 | 1 | 1 | 1 | 1 | 0 |  0 |  0 |  0 |   4 |\n",
       "| 4 | 1 | 1 | 1 | 1 | 1 | 1 | 1 | 1 | 1 | 0 | 1 |  1 |  1 |  1 |   1 |\n",
       "| 1 | 1 | 1 | 1 | 1 | 1 | 1 | 1 | 1 | 1 | 0 | 1 |  1 |  1 |  0 |   2 |\n",
       "| 1 | 1 | 1 | 1 | 1 | 1 | 1 | 0 | 0 | 0 | 1 | 1 |  1 |  1 |  0 |   4 |\n",
       "| 1 | 1 | 1 | 1 | 1 | 1 | 1 | 0 | 0 | 0 | 1 | 1 |  1 |  0 |  1 |   4 |\n",
       "| 1 | 1 | 1 | 1 | 1 | 1 | 1 | 0 | 0 | 0 | 1 | 1 |  1 |  0 |  0 |   5 |\n",
       "| 1 | 1 | 1 | 1 | 1 | 1 | 1 | 0 | 0 | 0 | 1 | 0 |  0 |  0 |  0 |   7 |\n",
       "| <!----> | 0 | 0 | 0 | 0 | 0 | 0 | 4 | 4 | 4 | 5 | 6 | 10 | 28 | 44 | 105 |\n",
       "\n"
      ],
      "text/plain": [
       "   name skin_color eye_color films vehicles starships sex gender species\n",
       "29 1    1          1         1     1        1         1   1      1      \n",
       "21 1    1          1         1     1        1         1   1      1      \n",
       "6  1    1          1         1     1        1         1   1      1      \n",
       "13 1    1          1         1     1        1         1   1      1      \n",
       "3  1    1          1         1     1        1         1   1      1      \n",
       "1  1    1          1         1     1        1         1   1      1      \n",
       "5  1    1          1         1     1        1         1   1      1      \n",
       "4  1    1          1         1     1        1         1   1      1      \n",
       "1  1    1          1         1     1        1         1   1      1      \n",
       "1  1    1          1         1     1        1         0   0      0      \n",
       "1  1    1          1         1     1        1         0   0      0      \n",
       "1  1    1          1         1     1        1         0   0      0      \n",
       "1  1    1          1         1     1        1         0   0      0      \n",
       "   0    0          0         0     0        0         4   4      4      \n",
       "   hair_color height homeworld mass birth_year    \n",
       "29 1          1       1         1    1           0\n",
       "21 1          1       1         1    0           1\n",
       "6  1          1       1         0    1           1\n",
       "13 1          1       1         0    0           2\n",
       "3  1          1       0         1    1           1\n",
       "1  1          1       0         0    0           3\n",
       "5  1          0       0         0    0           4\n",
       "4  0          1       1         1    1           1\n",
       "1  0          1       1         1    0           2\n",
       "1  1          1       1         1    0           4\n",
       "1  1          1       1         0    1           4\n",
       "1  1          1       1         0    0           5\n",
       "1  1          0       0         0    0           7\n",
       "   5          6      10        28   44         105"
      ]
     },
     "metadata": {},
     "output_type": "display_data"
    },
    {
     "data": {
      "image/png": "[encoded data removed]",
      "text/plain": [
       "plot without title"
      ]
     },
     "metadata": {
      "image/png": {
       "height": 420,
       "width": 420
      }
     },
     "output_type": "display_data"
    }
   ],
   "source": [
    "md.pattern(starwars)"
   ]
  },
  {
   "cell_type": "markdown",
   "id": "118491a1-b877-4d60-a9fc-39637e4079c9",
   "metadata": {
    "jp-MarkdownHeadingCollapsed": true,
    "tags": []
   },
   "source": [
    "# 1 \n",
    "Omit all Rows that has missing data in it\n",
    "\n",
    "It's a bad stradegy. You deleted any row of data that had any missing value and any variable. It's hard to know what you have removed. "
   ]
  },
  {
   "cell_type": "code",
   "execution_count": 12,
   "id": "2652123a-5908-4a7f-bc76-f5530a504b46",
   "metadata": {},
   "outputs": [
    {
     "data": {
      "text/html": [
       "<table class=\"dataframe\">\n",
       "<caption>A tibble: 73 × 4</caption>\n",
       "<thead>\n",
       "\t<tr><th scope=col>name</th><th scope=col>gender</th><th scope=col>hair_color</th><th scope=col>height</th></tr>\n",
       "\t<tr><th scope=col>&lt;chr&gt;</th><th scope=col>&lt;chr&gt;</th><th scope=col>&lt;chr&gt;</th><th scope=col>&lt;int&gt;</th></tr>\n",
       "</thead>\n",
       "<tbody>\n",
       "\t<tr><td>Luke Skywalker       </td><td>masculine</td><td>blond        </td><td>172</td></tr>\n",
       "\t<tr><td>Darth Vader          </td><td>masculine</td><td>none         </td><td>202</td></tr>\n",
       "\t<tr><td>Leia Organa          </td><td>feminine </td><td>brown        </td><td>150</td></tr>\n",
       "\t<tr><td>Owen Lars            </td><td>masculine</td><td>brown, grey  </td><td>178</td></tr>\n",
       "\t<tr><td>Beru Whitesun lars   </td><td>feminine </td><td>brown        </td><td>165</td></tr>\n",
       "\t<tr><td>Biggs Darklighter    </td><td>masculine</td><td>black        </td><td>183</td></tr>\n",
       "\t<tr><td>Obi-Wan Kenobi       </td><td>masculine</td><td>auburn, white</td><td>182</td></tr>\n",
       "\t<tr><td>Anakin Skywalker     </td><td>masculine</td><td>blond        </td><td>188</td></tr>\n",
       "\t<tr><td>Wilhuff Tarkin       </td><td>masculine</td><td>auburn, grey </td><td>180</td></tr>\n",
       "\t<tr><td>Chewbacca            </td><td>masculine</td><td>brown        </td><td>228</td></tr>\n",
       "\t<tr><td>Han Solo             </td><td>masculine</td><td>brown        </td><td>180</td></tr>\n",
       "\t<tr><td>Wedge Antilles       </td><td>masculine</td><td>brown        </td><td>170</td></tr>\n",
       "\t<tr><td>Jek Tono Porkins     </td><td>masculine</td><td>brown        </td><td>180</td></tr>\n",
       "\t<tr><td>Yoda                 </td><td>masculine</td><td>white        </td><td> 66</td></tr>\n",
       "\t<tr><td>Palpatine            </td><td>masculine</td><td>grey         </td><td>170</td></tr>\n",
       "\t<tr><td>Boba Fett            </td><td>masculine</td><td>black        </td><td>183</td></tr>\n",
       "\t<tr><td>IG-88                </td><td>masculine</td><td>none         </td><td>200</td></tr>\n",
       "\t<tr><td>Bossk                </td><td>masculine</td><td>none         </td><td>190</td></tr>\n",
       "\t<tr><td>Lando Calrissian     </td><td>masculine</td><td>black        </td><td>177</td></tr>\n",
       "\t<tr><td>Lobot                </td><td>masculine</td><td>none         </td><td>175</td></tr>\n",
       "\t<tr><td>Ackbar               </td><td>masculine</td><td>none         </td><td>180</td></tr>\n",
       "\t<tr><td>Mon Mothma           </td><td>feminine </td><td>auburn       </td><td>150</td></tr>\n",
       "\t<tr><td>Wicket Systri Warrick</td><td>masculine</td><td>brown        </td><td> 88</td></tr>\n",
       "\t<tr><td>Nien Nunb            </td><td>masculine</td><td>none         </td><td>160</td></tr>\n",
       "\t<tr><td>Qui-Gon Jinn         </td><td>masculine</td><td>brown        </td><td>193</td></tr>\n",
       "\t<tr><td>Nute Gunray          </td><td>masculine</td><td>none         </td><td>191</td></tr>\n",
       "\t<tr><td>Finis Valorum        </td><td>masculine</td><td>blond        </td><td>170</td></tr>\n",
       "\t<tr><td>Jar Jar Binks        </td><td>masculine</td><td>none         </td><td>196</td></tr>\n",
       "\t<tr><td>Roos Tarpals         </td><td>masculine</td><td>none         </td><td>224</td></tr>\n",
       "\t<tr><td>Rugor Nass           </td><td>masculine</td><td>none         </td><td>206</td></tr>\n",
       "\t<tr><td>⋮</td><td>⋮</td><td>⋮</td><td>⋮</td></tr>\n",
       "\t<tr><td>Adi Gallia         </td><td>feminine </td><td>none  </td><td>184</td></tr>\n",
       "\t<tr><td>Saesee Tiin        </td><td>masculine</td><td>none  </td><td>188</td></tr>\n",
       "\t<tr><td>Yarael Poof        </td><td>masculine</td><td>none  </td><td>264</td></tr>\n",
       "\t<tr><td>Plo Koon           </td><td>masculine</td><td>none  </td><td>188</td></tr>\n",
       "\t<tr><td>Mas Amedda         </td><td>masculine</td><td>none  </td><td>196</td></tr>\n",
       "\t<tr><td>Gregar Typho       </td><td>masculine</td><td>black </td><td>185</td></tr>\n",
       "\t<tr><td>Cordé              </td><td>feminine </td><td>brown </td><td>157</td></tr>\n",
       "\t<tr><td>Cliegg Lars        </td><td>masculine</td><td>brown </td><td>183</td></tr>\n",
       "\t<tr><td>Poggle the Lesser  </td><td>masculine</td><td>none  </td><td>183</td></tr>\n",
       "\t<tr><td>Luminara Unduli    </td><td>feminine </td><td>black </td><td>170</td></tr>\n",
       "\t<tr><td>Barriss Offee      </td><td>feminine </td><td>black </td><td>166</td></tr>\n",
       "\t<tr><td>Dormé              </td><td>feminine </td><td>brown </td><td>165</td></tr>\n",
       "\t<tr><td>Dooku              </td><td>masculine</td><td>white </td><td>193</td></tr>\n",
       "\t<tr><td>Bail Prestor Organa</td><td>masculine</td><td>black </td><td>191</td></tr>\n",
       "\t<tr><td>Jango Fett         </td><td>masculine</td><td>black </td><td>183</td></tr>\n",
       "\t<tr><td>Zam Wesell         </td><td>feminine </td><td>blonde</td><td>168</td></tr>\n",
       "\t<tr><td>Dexter Jettster    </td><td>masculine</td><td>none  </td><td>198</td></tr>\n",
       "\t<tr><td>Lama Su            </td><td>masculine</td><td>none  </td><td>229</td></tr>\n",
       "\t<tr><td>Taun We            </td><td>feminine </td><td>none  </td><td>213</td></tr>\n",
       "\t<tr><td>Jocasta Nu         </td><td>feminine </td><td>white </td><td>167</td></tr>\n",
       "\t<tr><td>Ratts Tyerell      </td><td>masculine</td><td>none  </td><td> 79</td></tr>\n",
       "\t<tr><td>R4-P17             </td><td>feminine </td><td>none  </td><td> 96</td></tr>\n",
       "\t<tr><td>Wat Tambor         </td><td>masculine</td><td>none  </td><td>193</td></tr>\n",
       "\t<tr><td>San Hill           </td><td>masculine</td><td>none  </td><td>191</td></tr>\n",
       "\t<tr><td>Shaak Ti           </td><td>feminine </td><td>none  </td><td>178</td></tr>\n",
       "\t<tr><td>Grievous           </td><td>masculine</td><td>none  </td><td>216</td></tr>\n",
       "\t<tr><td>Tarfful            </td><td>masculine</td><td>brown </td><td>234</td></tr>\n",
       "\t<tr><td>Raymus Antilles    </td><td>masculine</td><td>brown </td><td>188</td></tr>\n",
       "\t<tr><td>Tion Medon         </td><td>masculine</td><td>none  </td><td>206</td></tr>\n",
       "\t<tr><td>Padmé Amidala      </td><td>feminine </td><td>brown </td><td>165</td></tr>\n",
       "</tbody>\n",
       "</table>\n"
      ],
      "text/latex": [
       "A tibble: 73 × 4\n",
       "\\begin{tabular}{llll}\n",
       " name & gender & hair\\_color & height\\\\\n",
       " <chr> & <chr> & <chr> & <int>\\\\\n",
       "\\hline\n",
       "\t Luke Skywalker        & masculine & blond         & 172\\\\\n",
       "\t Darth Vader           & masculine & none          & 202\\\\\n",
       "\t Leia Organa           & feminine  & brown         & 150\\\\\n",
       "\t Owen Lars             & masculine & brown, grey   & 178\\\\\n",
       "\t Beru Whitesun lars    & feminine  & brown         & 165\\\\\n",
       "\t Biggs Darklighter     & masculine & black         & 183\\\\\n",
       "\t Obi-Wan Kenobi        & masculine & auburn, white & 182\\\\\n",
       "\t Anakin Skywalker      & masculine & blond         & 188\\\\\n",
       "\t Wilhuff Tarkin        & masculine & auburn, grey  & 180\\\\\n",
       "\t Chewbacca             & masculine & brown         & 228\\\\\n",
       "\t Han Solo              & masculine & brown         & 180\\\\\n",
       "\t Wedge Antilles        & masculine & brown         & 170\\\\\n",
       "\t Jek Tono Porkins      & masculine & brown         & 180\\\\\n",
       "\t Yoda                  & masculine & white         &  66\\\\\n",
       "\t Palpatine             & masculine & grey          & 170\\\\\n",
       "\t Boba Fett             & masculine & black         & 183\\\\\n",
       "\t IG-88                 & masculine & none          & 200\\\\\n",
       "\t Bossk                 & masculine & none          & 190\\\\\n",
       "\t Lando Calrissian      & masculine & black         & 177\\\\\n",
       "\t Lobot                 & masculine & none          & 175\\\\\n",
       "\t Ackbar                & masculine & none          & 180\\\\\n",
       "\t Mon Mothma            & feminine  & auburn        & 150\\\\\n",
       "\t Wicket Systri Warrick & masculine & brown         &  88\\\\\n",
       "\t Nien Nunb             & masculine & none          & 160\\\\\n",
       "\t Qui-Gon Jinn          & masculine & brown         & 193\\\\\n",
       "\t Nute Gunray           & masculine & none          & 191\\\\\n",
       "\t Finis Valorum         & masculine & blond         & 170\\\\\n",
       "\t Jar Jar Binks         & masculine & none          & 196\\\\\n",
       "\t Roos Tarpals          & masculine & none          & 224\\\\\n",
       "\t Rugor Nass            & masculine & none          & 206\\\\\n",
       "\t ⋮ & ⋮ & ⋮ & ⋮\\\\\n",
       "\t Adi Gallia          & feminine  & none   & 184\\\\\n",
       "\t Saesee Tiin         & masculine & none   & 188\\\\\n",
       "\t Yarael Poof         & masculine & none   & 264\\\\\n",
       "\t Plo Koon            & masculine & none   & 188\\\\\n",
       "\t Mas Amedda          & masculine & none   & 196\\\\\n",
       "\t Gregar Typho        & masculine & black  & 185\\\\\n",
       "\t Cordé               & feminine  & brown  & 157\\\\\n",
       "\t Cliegg Lars         & masculine & brown  & 183\\\\\n",
       "\t Poggle the Lesser   & masculine & none   & 183\\\\\n",
       "\t Luminara Unduli     & feminine  & black  & 170\\\\\n",
       "\t Barriss Offee       & feminine  & black  & 166\\\\\n",
       "\t Dormé               & feminine  & brown  & 165\\\\\n",
       "\t Dooku               & masculine & white  & 193\\\\\n",
       "\t Bail Prestor Organa & masculine & black  & 191\\\\\n",
       "\t Jango Fett          & masculine & black  & 183\\\\\n",
       "\t Zam Wesell          & feminine  & blonde & 168\\\\\n",
       "\t Dexter Jettster     & masculine & none   & 198\\\\\n",
       "\t Lama Su             & masculine & none   & 229\\\\\n",
       "\t Taun We             & feminine  & none   & 213\\\\\n",
       "\t Jocasta Nu          & feminine  & white  & 167\\\\\n",
       "\t Ratts Tyerell       & masculine & none   &  79\\\\\n",
       "\t R4-P17              & feminine  & none   &  96\\\\\n",
       "\t Wat Tambor          & masculine & none   & 193\\\\\n",
       "\t San Hill            & masculine & none   & 191\\\\\n",
       "\t Shaak Ti            & feminine  & none   & 178\\\\\n",
       "\t Grievous            & masculine & none   & 216\\\\\n",
       "\t Tarfful             & masculine & brown  & 234\\\\\n",
       "\t Raymus Antilles     & masculine & brown  & 188\\\\\n",
       "\t Tion Medon          & masculine & none   & 206\\\\\n",
       "\t Padmé Amidala       & feminine  & brown  & 165\\\\\n",
       "\\end{tabular}\n"
      ],
      "text/markdown": [
       "\n",
       "A tibble: 73 × 4\n",
       "\n",
       "| name &lt;chr&gt; | gender &lt;chr&gt; | hair_color &lt;chr&gt; | height &lt;int&gt; |\n",
       "|---|---|---|---|\n",
       "| Luke Skywalker        | masculine | blond         | 172 |\n",
       "| Darth Vader           | masculine | none          | 202 |\n",
       "| Leia Organa           | feminine  | brown         | 150 |\n",
       "| Owen Lars             | masculine | brown, grey   | 178 |\n",
       "| Beru Whitesun lars    | feminine  | brown         | 165 |\n",
       "| Biggs Darklighter     | masculine | black         | 183 |\n",
       "| Obi-Wan Kenobi        | masculine | auburn, white | 182 |\n",
       "| Anakin Skywalker      | masculine | blond         | 188 |\n",
       "| Wilhuff Tarkin        | masculine | auburn, grey  | 180 |\n",
       "| Chewbacca             | masculine | brown         | 228 |\n",
       "| Han Solo              | masculine | brown         | 180 |\n",
       "| Wedge Antilles        | masculine | brown         | 170 |\n",
       "| Jek Tono Porkins      | masculine | brown         | 180 |\n",
       "| Yoda                  | masculine | white         |  66 |\n",
       "| Palpatine             | masculine | grey          | 170 |\n",
       "| Boba Fett             | masculine | black         | 183 |\n",
       "| IG-88                 | masculine | none          | 200 |\n",
       "| Bossk                 | masculine | none          | 190 |\n",
       "| Lando Calrissian      | masculine | black         | 177 |\n",
       "| Lobot                 | masculine | none          | 175 |\n",
       "| Ackbar                | masculine | none          | 180 |\n",
       "| Mon Mothma            | feminine  | auburn        | 150 |\n",
       "| Wicket Systri Warrick | masculine | brown         |  88 |\n",
       "| Nien Nunb             | masculine | none          | 160 |\n",
       "| Qui-Gon Jinn          | masculine | brown         | 193 |\n",
       "| Nute Gunray           | masculine | none          | 191 |\n",
       "| Finis Valorum         | masculine | blond         | 170 |\n",
       "| Jar Jar Binks         | masculine | none          | 196 |\n",
       "| Roos Tarpals          | masculine | none          | 224 |\n",
       "| Rugor Nass            | masculine | none          | 206 |\n",
       "| ⋮ | ⋮ | ⋮ | ⋮ |\n",
       "| Adi Gallia          | feminine  | none   | 184 |\n",
       "| Saesee Tiin         | masculine | none   | 188 |\n",
       "| Yarael Poof         | masculine | none   | 264 |\n",
       "| Plo Koon            | masculine | none   | 188 |\n",
       "| Mas Amedda          | masculine | none   | 196 |\n",
       "| Gregar Typho        | masculine | black  | 185 |\n",
       "| Cordé               | feminine  | brown  | 157 |\n",
       "| Cliegg Lars         | masculine | brown  | 183 |\n",
       "| Poggle the Lesser   | masculine | none   | 183 |\n",
       "| Luminara Unduli     | feminine  | black  | 170 |\n",
       "| Barriss Offee       | feminine  | black  | 166 |\n",
       "| Dormé               | feminine  | brown  | 165 |\n",
       "| Dooku               | masculine | white  | 193 |\n",
       "| Bail Prestor Organa | masculine | black  | 191 |\n",
       "| Jango Fett          | masculine | black  | 183 |\n",
       "| Zam Wesell          | feminine  | blonde | 168 |\n",
       "| Dexter Jettster     | masculine | none   | 198 |\n",
       "| Lama Su             | masculine | none   | 229 |\n",
       "| Taun We             | feminine  | none   | 213 |\n",
       "| Jocasta Nu          | feminine  | white  | 167 |\n",
       "| Ratts Tyerell       | masculine | none   |  79 |\n",
       "| R4-P17              | feminine  | none   |  96 |\n",
       "| Wat Tambor          | masculine | none   | 193 |\n",
       "| San Hill            | masculine | none   | 191 |\n",
       "| Shaak Ti            | feminine  | none   | 178 |\n",
       "| Grievous            | masculine | none   | 216 |\n",
       "| Tarfful             | masculine | brown  | 234 |\n",
       "| Raymus Antilles     | masculine | brown  | 188 |\n",
       "| Tion Medon          | masculine | none   | 206 |\n",
       "| Padmé Amidala       | feminine  | brown  | 165 |\n",
       "\n"
      ],
      "text/plain": [
       "   name                  gender    hair_color    height\n",
       "1  Luke Skywalker        masculine blond         172   \n",
       "2  Darth Vader           masculine none          202   \n",
       "3  Leia Organa           feminine  brown         150   \n",
       "4  Owen Lars             masculine brown, grey   178   \n",
       "5  Beru Whitesun lars    feminine  brown         165   \n",
       "6  Biggs Darklighter     masculine black         183   \n",
       "7  Obi-Wan Kenobi        masculine auburn, white 182   \n",
       "8  Anakin Skywalker      masculine blond         188   \n",
       "9  Wilhuff Tarkin        masculine auburn, grey  180   \n",
       "10 Chewbacca             masculine brown         228   \n",
       "11 Han Solo              masculine brown         180   \n",
       "12 Wedge Antilles        masculine brown         170   \n",
       "13 Jek Tono Porkins      masculine brown         180   \n",
       "14 Yoda                  masculine white          66   \n",
       "15 Palpatine             masculine grey          170   \n",
       "16 Boba Fett             masculine black         183   \n",
       "17 IG-88                 masculine none          200   \n",
       "18 Bossk                 masculine none          190   \n",
       "19 Lando Calrissian      masculine black         177   \n",
       "20 Lobot                 masculine none          175   \n",
       "21 Ackbar                masculine none          180   \n",
       "22 Mon Mothma            feminine  auburn        150   \n",
       "23 Wicket Systri Warrick masculine brown          88   \n",
       "24 Nien Nunb             masculine none          160   \n",
       "25 Qui-Gon Jinn          masculine brown         193   \n",
       "26 Nute Gunray           masculine none          191   \n",
       "27 Finis Valorum         masculine blond         170   \n",
       "28 Jar Jar Binks         masculine none          196   \n",
       "29 Roos Tarpals          masculine none          224   \n",
       "30 Rugor Nass            masculine none          206   \n",
       "⋮  ⋮                     ⋮         ⋮             ⋮     \n",
       "44 Adi Gallia            feminine  none          184   \n",
       "45 Saesee Tiin           masculine none          188   \n",
       "46 Yarael Poof           masculine none          264   \n",
       "47 Plo Koon              masculine none          188   \n",
       "48 Mas Amedda            masculine none          196   \n",
       "49 Gregar Typho          masculine black         185   \n",
       "50 Cordé                 feminine  brown         157   \n",
       "51 Cliegg Lars           masculine brown         183   \n",
       "52 Poggle the Lesser     masculine none          183   \n",
       "53 Luminara Unduli       feminine  black         170   \n",
       "54 Barriss Offee         feminine  black         166   \n",
       "55 Dormé                 feminine  brown         165   \n",
       "56 Dooku                 masculine white         193   \n",
       "57 Bail Prestor Organa   masculine black         191   \n",
       "58 Jango Fett            masculine black         183   \n",
       "59 Zam Wesell            feminine  blonde        168   \n",
       "60 Dexter Jettster       masculine none          198   \n",
       "61 Lama Su               masculine none          229   \n",
       "62 Taun We               feminine  none          213   \n",
       "63 Jocasta Nu            feminine  white         167   \n",
       "64 Ratts Tyerell         masculine none           79   \n",
       "65 R4-P17                feminine  none           96   \n",
       "66 Wat Tambor            masculine none          193   \n",
       "67 San Hill              masculine none          191   \n",
       "68 Shaak Ti              feminine  none          178   \n",
       "69 Grievous              masculine none          216   \n",
       "70 Tarfful               masculine brown         234   \n",
       "71 Raymus Antilles       masculine brown         188   \n",
       "72 Tion Medon            masculine none          206   \n",
       "73 Padmé Amidala         feminine  brown         165   "
      ]
     },
     "metadata": {},
     "output_type": "display_data"
    }
   ],
   "source": [
    "starwars %>% \n",
    "    select(name, gender, hair_color, height) %>% \n",
    "    na.omit() %>%\n",
    "    View()"
   ]
  },
  {
   "cell_type": "markdown",
   "id": "abb25813-0867-4775-9212-52897a07a99f",
   "metadata": {},
   "source": [
    "# 2 \n",
    "Omit all Rows that has missing data from a specific variable, in this case the `height` column"
   ]
  },
  {
   "cell_type": "code",
   "execution_count": 18,
   "id": "e008ce61-75dc-4426-92f2-1b4d360020b1",
   "metadata": {},
   "outputs": [
    {
     "data": {
      "text/html": [
       "<table class=\"dataframe\">\n",
       "<caption>A tibble: 8 × 4</caption>\n",
       "<thead>\n",
       "\t<tr><th scope=col>name</th><th scope=col>gender</th><th scope=col>hair_color</th><th scope=col>height</th></tr>\n",
       "\t<tr><th scope=col>&lt;chr&gt;</th><th scope=col>&lt;chr&gt;</th><th scope=col>&lt;chr&gt;</th><th scope=col>&lt;int&gt;</th></tr>\n",
       "</thead>\n",
       "<tbody>\n",
       "\t<tr><td>C-3PO                </td><td>masculine</td><td>NA   </td><td>167</td></tr>\n",
       "\t<tr><td>R2-D2                </td><td>masculine</td><td>NA   </td><td> 96</td></tr>\n",
       "\t<tr><td>R5-D4                </td><td>masculine</td><td>NA   </td><td> 97</td></tr>\n",
       "\t<tr><td>Greedo               </td><td>masculine</td><td>NA   </td><td>173</td></tr>\n",
       "\t<tr><td>Jabba Desilijic Tiure</td><td>masculine</td><td>NA   </td><td>175</td></tr>\n",
       "\t<tr><td>Ric Olié             </td><td>NA       </td><td>brown</td><td>183</td></tr>\n",
       "\t<tr><td>Quarsh Panaka        </td><td>NA       </td><td>black</td><td>183</td></tr>\n",
       "\t<tr><td>Sly Moore            </td><td>NA       </td><td>none </td><td>178</td></tr>\n",
       "</tbody>\n",
       "</table>\n"
      ],
      "text/latex": [
       "A tibble: 8 × 4\n",
       "\\begin{tabular}{llll}\n",
       " name & gender & hair\\_color & height\\\\\n",
       " <chr> & <chr> & <chr> & <int>\\\\\n",
       "\\hline\n",
       "\t C-3PO                 & masculine & NA    & 167\\\\\n",
       "\t R2-D2                 & masculine & NA    &  96\\\\\n",
       "\t R5-D4                 & masculine & NA    &  97\\\\\n",
       "\t Greedo                & masculine & NA    & 173\\\\\n",
       "\t Jabba Desilijic Tiure & masculine & NA    & 175\\\\\n",
       "\t Ric Olié              & NA        & brown & 183\\\\\n",
       "\t Quarsh Panaka         & NA        & black & 183\\\\\n",
       "\t Sly Moore             & NA        & none  & 178\\\\\n",
       "\\end{tabular}\n"
      ],
      "text/markdown": [
       "\n",
       "A tibble: 8 × 4\n",
       "\n",
       "| name &lt;chr&gt; | gender &lt;chr&gt; | hair_color &lt;chr&gt; | height &lt;int&gt; |\n",
       "|---|---|---|---|\n",
       "| C-3PO                 | masculine | NA    | 167 |\n",
       "| R2-D2                 | masculine | NA    |  96 |\n",
       "| R5-D4                 | masculine | NA    |  97 |\n",
       "| Greedo                | masculine | NA    | 173 |\n",
       "| Jabba Desilijic Tiure | masculine | NA    | 175 |\n",
       "| Ric Olié              | NA        | brown | 183 |\n",
       "| Quarsh Panaka         | NA        | black | 183 |\n",
       "| Sly Moore             | NA        | none  | 178 |\n",
       "\n"
      ],
      "text/plain": [
       "  name                  gender    hair_color height\n",
       "1 C-3PO                 masculine NA         167   \n",
       "2 R2-D2                 masculine NA          96   \n",
       "3 R5-D4                 masculine NA          97   \n",
       "4 Greedo                masculine NA         173   \n",
       "5 Jabba Desilijic Tiure masculine NA         175   \n",
       "6 Ric Olié              NA        brown      183   \n",
       "7 Quarsh Panaka         NA        black      183   \n",
       "8 Sly Moore             NA        none       178   "
      ]
     },
     "metadata": {},
     "output_type": "display_data"
    }
   ],
   "source": [
    "starwars %>% \n",
    "    select(name, gender, hair_color, height) %>% \n",
    "    drop_na(height) %>%\n",
    "    filter(!complete.cases(.)) %>%\n",
    "    View()"
   ]
  },
  {
   "cell_type": "markdown",
   "id": "2531dbdd-5d0c-4909-8814-2773756dc00a",
   "metadata": {},
   "source": [
    "# 3 \n",
    "Omit all Rows that has missing data from a specific variable, in this case the `height` column.\n",
    "AND\n",
    "Change all the na's in the `gender` column to none by using the `mutate()` function.\n",
    "\n",
    "`mutate()` can be used to change to a new variable or overwrite an exsisting variable"
   ]
  },
  {
   "cell_type": "code",
   "execution_count": 20,
   "id": "550d99a7-128e-4fde-86eb-adac526e267f",
   "metadata": {},
   "outputs": [
    {
     "data": {
      "text/html": [
       "<table class=\"dataframe\">\n",
       "<caption>A tibble: 5 × 4</caption>\n",
       "<thead>\n",
       "\t<tr><th scope=col>name</th><th scope=col>gender</th><th scope=col>hair_color</th><th scope=col>height</th></tr>\n",
       "\t<tr><th scope=col>&lt;chr&gt;</th><th scope=col>&lt;chr&gt;</th><th scope=col>&lt;chr&gt;</th><th scope=col>&lt;int&gt;</th></tr>\n",
       "</thead>\n",
       "<tbody>\n",
       "\t<tr><td>C-3PO                </td><td>masculine</td><td>NA</td><td>167</td></tr>\n",
       "\t<tr><td>R2-D2                </td><td>masculine</td><td>NA</td><td> 96</td></tr>\n",
       "\t<tr><td>R5-D4                </td><td>masculine</td><td>NA</td><td> 97</td></tr>\n",
       "\t<tr><td>Greedo               </td><td>masculine</td><td>NA</td><td>173</td></tr>\n",
       "\t<tr><td>Jabba Desilijic Tiure</td><td>masculine</td><td>NA</td><td>175</td></tr>\n",
       "</tbody>\n",
       "</table>\n"
      ],
      "text/latex": [
       "A tibble: 5 × 4\n",
       "\\begin{tabular}{llll}\n",
       " name & gender & hair\\_color & height\\\\\n",
       " <chr> & <chr> & <chr> & <int>\\\\\n",
       "\\hline\n",
       "\t C-3PO                 & masculine & NA & 167\\\\\n",
       "\t R2-D2                 & masculine & NA &  96\\\\\n",
       "\t R5-D4                 & masculine & NA &  97\\\\\n",
       "\t Greedo                & masculine & NA & 173\\\\\n",
       "\t Jabba Desilijic Tiure & masculine & NA & 175\\\\\n",
       "\\end{tabular}\n"
      ],
      "text/markdown": [
       "\n",
       "A tibble: 5 × 4\n",
       "\n",
       "| name &lt;chr&gt; | gender &lt;chr&gt; | hair_color &lt;chr&gt; | height &lt;int&gt; |\n",
       "|---|---|---|---|\n",
       "| C-3PO                 | masculine | NA | 167 |\n",
       "| R2-D2                 | masculine | NA |  96 |\n",
       "| R5-D4                 | masculine | NA |  97 |\n",
       "| Greedo                | masculine | NA | 173 |\n",
       "| Jabba Desilijic Tiure | masculine | NA | 175 |\n",
       "\n"
      ],
      "text/plain": [
       "  name                  gender    hair_color height\n",
       "1 C-3PO                 masculine NA         167   \n",
       "2 R2-D2                 masculine NA          96   \n",
       "3 R5-D4                 masculine NA          97   \n",
       "4 Greedo                masculine NA         173   \n",
       "5 Jabba Desilijic Tiure masculine NA         175   "
      ]
     },
     "metadata": {},
     "output_type": "display_data"
    }
   ],
   "source": [
    "starwars %>% \n",
    "    select(name, gender, hair_color, height) %>% \n",
    "    drop_na(height) %>%\n",
    "    mutate(gender = replace_na(gender, \"none\")) %>%\n",
    "    filter(!complete.cases(.)) %>%\n",
    "    View()"
   ]
  },
  {
   "cell_type": "markdown",
   "id": "e6d4f36e-2ede-4db3-ab78-06eee9df38fc",
   "metadata": {},
   "source": [
    "# 4\n",
    "`unique(dataset$column)` shows you all the variables in that specfic column and you can see what islisted for the variables. "
   ]
  },
  {
   "cell_type": "code",
   "execution_count": 22,
   "id": "ebf1d928-2aeb-4028-9f6b-8b87f2329422",
   "metadata": {},
   "outputs": [
    {
     "data": {
      "text/html": [
       "<style>\n",
       ".list-inline {list-style: none; margin:0; padding: 0}\n",
       ".list-inline>li {display: inline-block}\n",
       ".list-inline>li:not(:last-child)::after {content: \"\\00b7\"; padding: 0 .5ex}\n",
       "</style>\n",
       "<ol class=list-inline><li>'blond'</li><li>NA</li><li>'none'</li><li>'brown'</li><li>'brown, grey'</li><li>'black'</li><li>'auburn, white'</li><li>'auburn, grey'</li><li>'white'</li><li>'grey'</li><li>'auburn'</li><li>'blonde'</li><li>'unknown'</li></ol>\n"
      ],
      "text/latex": [
       "\\begin{enumerate*}\n",
       "\\item 'blond'\n",
       "\\item NA\n",
       "\\item 'none'\n",
       "\\item 'brown'\n",
       "\\item 'brown, grey'\n",
       "\\item 'black'\n",
       "\\item 'auburn, white'\n",
       "\\item 'auburn, grey'\n",
       "\\item 'white'\n",
       "\\item 'grey'\n",
       "\\item 'auburn'\n",
       "\\item 'blonde'\n",
       "\\item 'unknown'\n",
       "\\end{enumerate*}\n"
      ],
      "text/markdown": [
       "1. 'blond'\n",
       "2. NA\n",
       "3. 'none'\n",
       "4. 'brown'\n",
       "5. 'brown, grey'\n",
       "6. 'black'\n",
       "7. 'auburn, white'\n",
       "8. 'auburn, grey'\n",
       "9. 'white'\n",
       "10. 'grey'\n",
       "11. 'auburn'\n",
       "12. 'blonde'\n",
       "13. 'unknown'\n",
       "\n",
       "\n"
      ],
      "text/plain": [
       " [1] \"blond\"         NA              \"none\"          \"brown\"        \n",
       " [5] \"brown, grey\"   \"black\"         \"auburn, white\" \"auburn, grey\" \n",
       " [9] \"white\"         \"grey\"          \"auburn\"        \"blonde\"       \n",
       "[13] \"unknown\"      "
      ]
     },
     "metadata": {},
     "output_type": "display_data"
    }
   ],
   "source": [
    "unique(starwars$hair_color)"
   ]
  },
  {
   "cell_type": "markdown",
   "id": "c7a6fa1a-37ef-4ac3-a750-3eba15e9b01b",
   "metadata": {},
   "source": [
    "We can see that there are two variables, `NA` and `unknown`"
   ]
  },
  {
   "cell_type": "code",
   "execution_count": 24,
   "id": "3f725052-16bd-4ca2-880f-e759a8e210fc",
   "metadata": {},
   "outputs": [
    {
     "data": {
      "text/html": [
       "<table class=\"dataframe\">\n",
       "<caption>A tibble: 6 × 4</caption>\n",
       "<thead>\n",
       "\t<tr><th scope=col>name</th><th scope=col>gender</th><th scope=col>hair_color</th><th scope=col>height</th></tr>\n",
       "\t<tr><th scope=col>&lt;chr&gt;</th><th scope=col>&lt;chr&gt;</th><th scope=col>&lt;chr&gt;</th><th scope=col>&lt;int&gt;</th></tr>\n",
       "</thead>\n",
       "<tbody>\n",
       "\t<tr><td>C-3PO                </td><td>masculine</td><td>NA</td><td>167</td></tr>\n",
       "\t<tr><td>R2-D2                </td><td>masculine</td><td>NA</td><td> 96</td></tr>\n",
       "\t<tr><td>R5-D4                </td><td>masculine</td><td>NA</td><td> 97</td></tr>\n",
       "\t<tr><td>Greedo               </td><td>masculine</td><td>NA</td><td>173</td></tr>\n",
       "\t<tr><td>Jabba Desilijic Tiure</td><td>masculine</td><td>NA</td><td>175</td></tr>\n",
       "\t<tr><td>Captain Phasma       </td><td>NA       </td><td>NA</td><td> NA</td></tr>\n",
       "</tbody>\n",
       "</table>\n"
      ],
      "text/latex": [
       "A tibble: 6 × 4\n",
       "\\begin{tabular}{llll}\n",
       " name & gender & hair\\_color & height\\\\\n",
       " <chr> & <chr> & <chr> & <int>\\\\\n",
       "\\hline\n",
       "\t C-3PO                 & masculine & NA & 167\\\\\n",
       "\t R2-D2                 & masculine & NA &  96\\\\\n",
       "\t R5-D4                 & masculine & NA &  97\\\\\n",
       "\t Greedo                & masculine & NA & 173\\\\\n",
       "\t Jabba Desilijic Tiure & masculine & NA & 175\\\\\n",
       "\t Captain Phasma        & NA        & NA &  NA\\\\\n",
       "\\end{tabular}\n"
      ],
      "text/markdown": [
       "\n",
       "A tibble: 6 × 4\n",
       "\n",
       "| name &lt;chr&gt; | gender &lt;chr&gt; | hair_color &lt;chr&gt; | height &lt;int&gt; |\n",
       "|---|---|---|---|\n",
       "| C-3PO                 | masculine | NA | 167 |\n",
       "| R2-D2                 | masculine | NA |  96 |\n",
       "| R5-D4                 | masculine | NA |  97 |\n",
       "| Greedo                | masculine | NA | 173 |\n",
       "| Jabba Desilijic Tiure | masculine | NA | 175 |\n",
       "| Captain Phasma        | NA        | NA |  NA |\n",
       "\n"
      ],
      "text/plain": [
       "  name                  gender    hair_color height\n",
       "1 C-3PO                 masculine NA         167   \n",
       "2 R2-D2                 masculine NA          96   \n",
       "3 R5-D4                 masculine NA          97   \n",
       "4 Greedo                masculine NA         173   \n",
       "5 Jabba Desilijic Tiure masculine NA         175   \n",
       "6 Captain Phasma        NA        NA          NA   "
      ]
     },
     "metadata": {},
     "output_type": "display_data"
    }
   ],
   "source": [
    "starwars %>% \n",
    "    select(name, gender, hair_color, height) %>% \n",
    "    mutate(hair_color = na_if(hair_color, \"unknown\")) %>%\n",
    "    filter(is.na(hair_color)) %>%\n",
    "    View()"
   ]
  },
  {
   "cell_type": "markdown",
   "id": "9ca23fad-31a7-432b-963c-ab1694b84385",
   "metadata": {},
   "source": [
    "This has created a new row added, includes the missing value `NA`, that hair_color use to be `unknown`"
   ]
  },
  {
   "cell_type": "markdown",
   "id": "41553dfe-8a46-4972-b8af-4da63814d477",
   "metadata": {},
   "source": [
    "# 5\n",
    "Let's see what happens when you apply a function to a vector that has missing values, in this case we havent removed any missing values, just looking for the average/mean `height` in all the characters..."
   ]
  },
  {
   "cell_type": "code",
   "execution_count": 25,
   "id": "49b012c6-2866-469c-b1bf-b9426614b71a",
   "metadata": {},
   "outputs": [
    {
     "data": {
      "text/html": [
       "&lt;NA&gt;"
      ],
      "text/latex": [
       "<NA>"
      ],
      "text/markdown": [
       "&lt;NA&gt;"
      ],
      "text/plain": [
       "[1] NA"
      ]
     },
     "metadata": {},
     "output_type": "display_data"
    }
   ],
   "source": [
    "mean(starwars$height)"
   ]
  },
  {
   "cell_type": "markdown",
   "id": "f53da619-5150-4b6f-8893-c0211c7f4b20",
   "metadata": {},
   "source": [
    "Oh no!!! When we do that it returned `NA`"
   ]
  }
 ],
 "metadata": {
  "kernelspec": {
   "display_name": "R",
   "language": "R",
   "name": "ir"
  },
  "language_info": {
   "codemirror_mode": "r",
   "file_extension": ".r",
   "mimetype": "text/x-r-source",
   "name": "R",
   "pygments_lexer": "r",
   "version": "4.1.2"
  }
 },
 "nbformat": 4,
 "nbformat_minor": 5
}
