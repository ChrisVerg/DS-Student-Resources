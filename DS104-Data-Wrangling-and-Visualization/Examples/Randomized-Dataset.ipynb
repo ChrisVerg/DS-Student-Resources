{
 "cells": [
  {
   "cell_type": "code",
   "execution_count": 1,
   "id": "b634e81c-aad4-43dd-bf81-03a996cccea2",
   "metadata": {},
   "outputs": [],
   "source": [
    "import pandas as pd\n",
    "import numpy as np\n",
    "import random"
   ]
  },
  {
   "cell_type": "code",
   "execution_count": 2,
   "id": "600c181f-8872-4e39-9ee0-b6d5f7d82115",
   "metadata": {},
   "outputs": [],
   "source": [
    "\n",
    "city_list = [\"New York\", \"Manchester\", \"California\", \"Munich\", \"Bombay\", \n",
    "             \"Sydeny\", \"London\", \"Moscow\", \"Dubai\", \"Tokyo\"]\n",
    "\n",
    "job_list = [\"Software Development Engineer\", \"Research Engineer\", \"Test Engineer\", \n",
    "            \"Software Development Engineer-II\", \"Python Developer\", \"Back End Developer\",\n",
    "            \"Front End Developer\", \"Data Scientist\", \"IOS Developer\", \"Android Developer\"]\n",
    "\n",
    "cmp_list = [\"Amazon\", \"Google\", \"Infosys\", \"Mastercard\", \"Microsoft\", \n",
    "            \"Uber\", \"IBM\", \"Apple\", \"Wipro\", \"Cognizant\"]\n"
   ]
  },
  {
   "cell_type": "code",
   "execution_count": 3,
   "id": "ac872b17-492c-4db7-b27b-e43e3508799a",
   "metadata": {},
   "outputs": [],
   "source": [
    "data = []\n",
    "for i in range(1000):\n",
    "  \n",
    "    company = random.choice(cmp_list)\n",
    "    job = random.choice(job_list)\n",
    "    city = random.choice(city_list)\n",
    "    salary = int(round(np.random.rand(), 3)*10**6)\n",
    "    employment = random.choices([\"Full Time\", \"Intern\"], weights=(80, 20))[0]\n",
    "    rating = round((np.random.rand()*5), 1)\n",
    "    \n",
    "    data.append([company, job, city, salary, employment, rating])"
   ]
  },
  {
   "cell_type": "code",
   "execution_count": 4,
   "id": "dc6ae451-a6d4-425b-8395-0483529c7544",
   "metadata": {},
   "outputs": [],
   "source": [
    "data = pd.DataFrame(data, columns=[\"Company Name\", \"Employee Job Title\",\n",
    "                                   \"Employee Work Location\",  \"Employee Salary\", \n",
    "                                   \"Employment Status\", \"Employee Rating\"])"
   ]
  },
  {
   "cell_type": "code",
   "execution_count": 5,
   "id": "4a2f8876-4a62-48c7-8d2a-e8cb4309a4e6",
   "metadata": {},
   "outputs": [
    {
     "data": {
      "text/html": [
       "<div><div id=5416ca0a-9fab-4513-9909-c4b3dd4e3b62 style=\"display:none; background-color:#9D6CFF; color:white; width:200px; height:30px; padding-left:5px; border-radius:4px; flex-direction:row; justify-content:space-around; align-items:center;\" onmouseover=\"this.style.backgroundColor='#BA9BF8'\" onmouseout=\"this.style.backgroundColor='#9D6CFF'\" onclick=\"window.commands?.execute('create-mitosheet-from-dataframe-output');\">See Full Dataframe in Mito</div> <script> if (window.commands?.hasCommand('create-mitosheet-from-dataframe-output')) document.getElementById('5416ca0a-9fab-4513-9909-c4b3dd4e3b62').style.display = 'flex' </script> <table border=\"1\" class=\"dataframe\">\n",
       "  <thead>\n",
       "    <tr style=\"text-align: right;\">\n",
       "      <th></th>\n",
       "      <th>Company Name</th>\n",
       "      <th>Employee Job Title</th>\n",
       "      <th>Employee Work Location</th>\n",
       "      <th>Employee Salary</th>\n",
       "      <th>Employment Status</th>\n",
       "      <th>Employee Rating</th>\n",
       "    </tr>\n",
       "  </thead>\n",
       "  <tbody>\n",
       "    <tr>\n",
       "      <th>0</th>\n",
       "      <td>Apple</td>\n",
       "      <td>IOS Developer</td>\n",
       "      <td>New York</td>\n",
       "      <td>315000</td>\n",
       "      <td>Intern</td>\n",
       "      <td>1.0</td>\n",
       "    </tr>\n",
       "    <tr>\n",
       "      <th>1</th>\n",
       "      <td>Infosys</td>\n",
       "      <td>Software Development Engineer-II</td>\n",
       "      <td>Dubai</td>\n",
       "      <td>867000</td>\n",
       "      <td>Full Time</td>\n",
       "      <td>3.3</td>\n",
       "    </tr>\n",
       "    <tr>\n",
       "      <th>2</th>\n",
       "      <td>Microsoft</td>\n",
       "      <td>Data Scientist</td>\n",
       "      <td>New York</td>\n",
       "      <td>261000</td>\n",
       "      <td>Full Time</td>\n",
       "      <td>2.4</td>\n",
       "    </tr>\n",
       "    <tr>\n",
       "      <th>3</th>\n",
       "      <td>Amazon</td>\n",
       "      <td>Front End Developer</td>\n",
       "      <td>Manchester</td>\n",
       "      <td>870000</td>\n",
       "      <td>Intern</td>\n",
       "      <td>4.9</td>\n",
       "    </tr>\n",
       "    <tr>\n",
       "      <th>4</th>\n",
       "      <td>Amazon</td>\n",
       "      <td>IOS Developer</td>\n",
       "      <td>Dubai</td>\n",
       "      <td>543000</td>\n",
       "      <td>Full Time</td>\n",
       "      <td>4.9</td>\n",
       "    </tr>\n",
       "  </tbody>\n",
       "</table></div>"
      ],
      "text/plain": [
       "  Company Name                Employee Job Title Employee Work Location  \\\n",
       "0        Apple                     IOS Developer               New York   \n",
       "1      Infosys  Software Development Engineer-II                  Dubai   \n",
       "2    Microsoft                    Data Scientist               New York   \n",
       "3       Amazon               Front End Developer             Manchester   \n",
       "4       Amazon                     IOS Developer                  Dubai   \n",
       "\n",
       "   Employee Salary Employment Status  Employee Rating  \n",
       "0           315000            Intern              1.0  \n",
       "1           867000         Full Time              3.3  \n",
       "2           261000         Full Time              2.4  \n",
       "3           870000            Intern              4.9  \n",
       "4           543000         Full Time              4.9  "
      ]
     },
     "execution_count": 5,
     "metadata": {},
     "output_type": "execute_result"
    }
   ],
   "source": [
    "data.head()"
   ]
  },
  {
   "cell_type": "code",
   "execution_count": null,
   "id": "45e97304-612f-4170-acde-bd9c73294226",
   "metadata": {},
   "outputs": [],
   "source": []
  }
 ],
 "metadata": {
  "kernelspec": {
   "display_name": "Python 3 (ipykernel)",
   "language": "python",
   "name": "python3"
  },
  "language_info": {
   "codemirror_mode": {
    "name": "ipython",
    "version": 3
   },
   "file_extension": ".py",
   "mimetype": "text/x-python",
   "name": "python",
   "nbconvert_exporter": "python",
   "pygments_lexer": "ipython3",
   "version": "3.9.13"
  }
 },
 "nbformat": 4,
 "nbformat_minor": 5
}
