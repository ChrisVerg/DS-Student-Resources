{
 "cells": [
  {
   "cell_type": "markdown",
   "id": "ff9f1c35-192e-4d5c-949c-ccc2a8693807",
   "metadata": {},
   "source": [
    "# What Is Synthetic Data? \n",
    "\n",
    "[Reference: Accelerating AI with Synthetic Data](https://learning.oreilly.com/library/view/accelerating-ai-with/9781492045991/) - [Khaled El Emam](https://learning.oreilly.com/search/?query=author%3A%22Khaled%20El%20Emam%22&sort=relevance&highlight=true)\n",
    "\n",
    "At a conceptual level, synthetic data is not real data but is data that has been generated from real data and that has the same statistical properties as the real data. This means that an analyst who works with a synthetic dataset should get analysis results that are similar to those they would get with real data. The degree to which a synthetic dataset is an accurate proxy for real data is a measure of utility. Furthermore, we refer to the process of generating synthetic data as synthesis.\n",
    "\n",
    "Data in this context can mean different things. For example, data can be structured data (i.e., rows and columns), as one would see in a relational database. Data can also be unstructured text, such as doctors’ notes, transcripts of conversations among people or with digital assistants, or online interactions by email or chat. Furthermore, images, videos, audio, and virtual environments are also types of data that can be synthesized. We have seen examples of fake images in the machine learning literature; for instance, realistic faces of people who do not exist in the real world can be created, and you can view the results online.\n",
    "\n",
    "\n",
    "To create a synthetic dataset, follow these steps: - [ChatGPT](https://chat.openai.com/chat)\n",
    "\n",
    "1. Define the problem and determine the type of data needed: Determine what kind of data is required for your problem and the type of distribution it should follow.\n",
    "2. Select the appropriate statistical distribution: Choose a statistical distribution that best fits the data you want to generate. For example, if you want to generate data for a normally distributed variable, use the Gaussian distribution.\n",
    "3. Set the parameters of the distribution: Determine the mean and standard deviation of the distribution you have selected.\n",
    "4. Generate the data: Use a random number generator or a library in your preferred programming language to generate data samples from the distribution you have selected.\n",
    "5. Validate the synthetic data: Verify that the generated data is similar to the real-world data. This can be done by comparing various statistical measures, such as mean, standard deviation, and distribution shape.\n",
    "6. Save and use the synthetic data: Store the synthetic data in a file or database for future use.\n",
    "\n",
    "Note: It is important to understand the underlying distribution of the real-world data to generate accurate synthetic data. In some cases, you may need to use multiple distributions to generate synthetic data that mimics real-world data.\n",
    "\n",
    "Synthetic data is divided into two types, based on whether it is generated from actual datasets or not.\n",
    "\n",
    "1. The first type is synthesized from real datasets. The analyst will have some real datasets and then build a model to capture the distributions and structure of that real data.\n",
    "2. The second type of synthetic data is not generated from real data. It is created by using existing models or by using background knowledge of the analyst."
   ]
  },
  {
   "cell_type": "markdown",
   "id": "5a12f26a-4275-44cb-b3ac-2a2ced93987c",
   "metadata": {},
   "source": [
    "|Type of synthetic data|Utility|\n",
    "|:---|:---|\n",
    "|Generated from real (nonpublic) datasets | Can be quite high |\n",
    "|Generated from real public data | Can be high, although limitations exist because public data tends to be de-identified or aggregated |\n",
    "| Generated from an existing model of a process, which can also be represented in a simulation engine | Will depend on the fidelity of the existing generating model|\n",
    "|Based on analyst knowledge | Will depend on how well the analyst knows the domain and the complexity of the phenomenon|\n",
    "|Generated from generic assumptions not specific to the phenomenon|Will likely be low|"
   ]
  },
  {
   "cell_type": "code",
   "execution_count": null,
   "id": "5ea93823-1cad-4944-89f8-a96359b43c02",
   "metadata": {},
   "outputs": [],
   "source": []
  }
 ],
 "metadata": {
  "kernelspec": {
   "display_name": "Python 3 (ipykernel)",
   "language": "python",
   "name": "python3"
  },
  "language_info": {
   "codemirror_mode": {
    "name": "ipython",
    "version": 3
   },
   "file_extension": ".py",
   "mimetype": "text/x-python",
   "name": "python",
   "nbconvert_exporter": "python",
   "pygments_lexer": "ipython3",
   "version": "3.9.16"
  }
 },
 "nbformat": 4,
 "nbformat_minor": 5
}
