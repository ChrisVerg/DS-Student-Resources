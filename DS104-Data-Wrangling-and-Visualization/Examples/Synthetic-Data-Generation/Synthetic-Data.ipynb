{
 "cells": [
  {
   "cell_type": "markdown",
   "id": "ff9f1c35-192e-4d5c-949c-ccc2a8693807",
   "metadata": {},
   "source": [
    "# What Is Synthetic Data? \n",
    "\n",
    "[Reference: Accelerating AI with Synthetic Data](https://learning.oreilly.com/library/view/accelerating-ai-with/9781492045991/) - [Khaled El Emam](https://learning.oreilly.com/search/?query=author%3A%22Khaled%20El%20Emam%22&sort=relevance&highlight=true)\n",
    "\n",
    "At a conceptual level, synthetic data is not real data but is data that has been generated from real data and that has the same statistical properties as the real data. This means that an analyst who works with a synthetic dataset should get analysis results that are similar to those they would get with real data. The degree to which a synthetic dataset is an accurate proxy for real data is a measure of utility. Furthermore, we refer to the process of generating synthetic data as synthesis.\n",
    "\n",
    "Data in this context can mean different things. For example, data can be structured data (i.e., rows and columns), as one would see in a relational database. Data can also be unstructured text, such as doctors’ notes, transcripts of conversations among people or with digital assistants, or online interactions by email or chat. Furthermore, images, videos, audio, and virtual environments are also types of data that can be synthesized. We have seen examples of fake images in the machine learning literature; for instance, realistic faces of people who do not exist in the real world can be created, and you can view the results online.\n",
    "\n",
    "\n",
    "To create a synthetic dataset, follow these steps: - [ChatGPT](https://chat.openai.com/chat)\n",
    "\n",
    "1. Define the problem and determine the type of data needed: Determine what kind of data is required for your problem and the type of distribution it should follow.\n",
    "2. Select the appropriate statistical distribution: Choose a statistical distribution that best fits the data you want to generate. For example, if you want to generate data for a normally distributed variable, use the Gaussian distribution.\n",
    "3. Set the parameters of the distribution: Determine the mean and standard deviation of the distribution you have selected.\n",
    "4. Generate the data: Use a random number generator or a library in your preferred programming language to generate data samples from the distribution you have selected.\n",
    "5. Validate the synthetic data: Verify that the generated data is similar to the real-world data. This can be done by comparing various statistical measures, such as mean, standard deviation, and distribution shape.\n",
    "6. Save and use the synthetic data: Store the synthetic data in a file or database for future use.\n",
    "\n",
    "Note: It is important to understand the underlying distribution of the real-world data to generate accurate synthetic data. In some cases, you may need to use multiple distributions to generate synthetic data that mimics real-world data.\n",
    "\n",
    "Synthetic data is divided into two types, based on whether it is generated from actual datasets or not.\n",
    "\n",
    "1. The first type is synthesized from real datasets. The analyst will have some real datasets and then build a model to capture the distributions and structure of that real data.\n",
    "2. The second type of synthetic data is not generated from real data. It is created by using existing models or by using background knowledge of the analyst."
   ]
  },
  {
   "cell_type": "markdown",
   "id": "5a12f26a-4275-44cb-b3ac-2a2ced93987c",
   "metadata": {},
   "source": [
    "|Type of synthetic data|Utility|\n",
    "|:---|:---|\n",
    "|Generated from real (nonpublic) datasets | Can be quite high |\n",
    "|Generated from real public data | Can be high, although limitations exist because public data tends to be de-identified or aggregated |\n",
    "| Generated from an existing model of a process, which can also be represented in a simulation engine | Will depend on the fidelity of the existing generating model|\n",
    "|Based on analyst knowledge | Will depend on how well the analyst knows the domain and the complexity of the phenomenon|\n",
    "|Generated from generic assumptions not specific to the phenomenon|Will likely be low|"
   ]
  },
  {
   "cell_type": "markdown",
   "id": "7ab46e12-e465-4e29-89ef-5c7c22d35b83",
   "metadata": {},
   "source": [
    "# Faker\n",
    "\n",
    "Creating synthetic data is a technique that can be used in several different areas of academics, including computer science, statistics, and artificial intelligence.\n",
    "\n",
    "In computer science, synthetic data generation can be used to train machine learning models or to test software systems. In statistics, it can be used to generate datasets that have certain statistical properties or to create data that adheres to a particular model. In artificial intelligence, synthetic data can be used to generate more diverse and representative datasets for training machine learning models.\n",
    "\n",
    "Therefore, creating synthetic data can be applied in various fields of academics, including those mentioned above, to create data that can be used to test or train algorithms or systems."
   ]
  },
  {
   "cell_type": "markdown",
   "id": "3252c226-3b0c-486f-85c4-87c4d1567c2f",
   "metadata": {},
   "source": [
    "## Generate synthetic data with Python Faker\n",
    "\n",
    "`Example 1: fake.name(), fake.address(), fake.email(), fake.phone_number()`"
   ]
  },
  {
   "cell_type": "code",
   "execution_count": 1,
   "id": "13223e41-9eaa-4165-8213-1d52a5e5b529",
   "metadata": {
    "tags": []
   },
   "outputs": [],
   "source": [
    "#%pip install faker\n",
    "from faker import Faker\n",
    "import pandas as pd # for data manipulation"
   ]
  },
  {
   "cell_type": "code",
   "execution_count": 2,
   "id": "9f74f990-5a19-47eb-846e-947749546cf2",
   "metadata": {
    "tags": []
   },
   "outputs": [
    {
     "data": {
      "text/html": [
       "<div><div id=7bbb73ca-b94e-4723-8504-49a391bcf54f style=\"display:none; background-color:#9D6CFF; color:white; width:200px; height:30px; padding-left:5px; border-radius:4px; flex-direction:row; justify-content:space-around; align-items:center;\" onmouseover=\"this.style.backgroundColor='#BA9BF8'\" onmouseout=\"this.style.backgroundColor='#9D6CFF'\" onclick=\"window.commands?.execute('create-mitosheet-from-dataframe-output');\">See Full Dataframe in Mito</div> <script> if (window.commands?.hasCommand('create-mitosheet-from-dataframe-output')) document.getElementById('7bbb73ca-b94e-4723-8504-49a391bcf54f').style.display = 'flex' </script> <table border=\"1\" class=\"dataframe\">\n",
       "  <thead>\n",
       "    <tr style=\"text-align: right;\">\n",
       "      <th></th>\n",
       "      <th>Name</th>\n",
       "      <th>Address</th>\n",
       "      <th>Email</th>\n",
       "      <th>Phone</th>\n",
       "    </tr>\n",
       "  </thead>\n",
       "  <tbody>\n",
       "    <tr>\n",
       "      <th>0</th>\n",
       "      <td>Amy Powell</td>\n",
       "      <td>4133 Daniels Inlet\\nNorth Jeffrey, ND 44157</td>\n",
       "      <td>mary63@example.com</td>\n",
       "      <td>638.181.7475x36470</td>\n",
       "    </tr>\n",
       "    <tr>\n",
       "      <th>1</th>\n",
       "      <td>Christopher Davis</td>\n",
       "      <td>0342 Boyd Ramp\\nNorth Donaldview, IA 88660</td>\n",
       "      <td>laceygonzalez@example.com</td>\n",
       "      <td>850.318.3804x3815</td>\n",
       "    </tr>\n",
       "    <tr>\n",
       "      <th>2</th>\n",
       "      <td>Maria Wilkerson</td>\n",
       "      <td>20855 Campbell Shoals\\nGregorychester, WV 93427</td>\n",
       "      <td>matthewjohnson@example.org</td>\n",
       "      <td>(779)443-9176x70949</td>\n",
       "    </tr>\n",
       "    <tr>\n",
       "      <th>3</th>\n",
       "      <td>Jasmine Fitzgerald</td>\n",
       "      <td>5153 Mitchell Loaf Apt. 952\\nLopezmouth, MN 12219</td>\n",
       "      <td>salinascurtis@example.com</td>\n",
       "      <td>+1-586-406-2337x062</td>\n",
       "    </tr>\n",
       "    <tr>\n",
       "      <th>4</th>\n",
       "      <td>Daniel Bailey</td>\n",
       "      <td>164 Jill Ports Suite 879\\nPort Alanbury, AS 52202</td>\n",
       "      <td>jenniferfloyd@example.org</td>\n",
       "      <td>(553)636-2399</td>\n",
       "    </tr>\n",
       "  </tbody>\n",
       "</table></div>"
      ],
      "text/plain": [
       "                 Name                                            Address  \\\n",
       "0          Amy Powell        4133 Daniels Inlet\\nNorth Jeffrey, ND 44157   \n",
       "1   Christopher Davis         0342 Boyd Ramp\\nNorth Donaldview, IA 88660   \n",
       "2     Maria Wilkerson    20855 Campbell Shoals\\nGregorychester, WV 93427   \n",
       "3  Jasmine Fitzgerald  5153 Mitchell Loaf Apt. 952\\nLopezmouth, MN 12219   \n",
       "4       Daniel Bailey  164 Jill Ports Suite 879\\nPort Alanbury, AS 52202   \n",
       "\n",
       "                        Email                Phone  \n",
       "0          mary63@example.com   638.181.7475x36470  \n",
       "1   laceygonzalez@example.com    850.318.3804x3815  \n",
       "2  matthewjohnson@example.org  (779)443-9176x70949  \n",
       "3   salinascurtis@example.com  +1-586-406-2337x062  \n",
       "4   jenniferfloyd@example.org        (553)636-2399  "
      ]
     },
     "execution_count": 2,
     "metadata": {},
     "output_type": "execute_result"
    }
   ],
   "source": [
    "# Instantiate Faker() instance\n",
    "fake = Faker()\n",
    "\n",
    "# Create a dataset including names, addresses, emails, and phone numbers\n",
    "data = []\n",
    "for _ in range(10):\n",
    "    data.append([fake.name(), fake.address(), fake.email(), fake.phone_number()])\n",
    "\n",
    "# Convert to DataFrame\n",
    "df = pd.DataFrame(data, columns=['Name', 'Address', 'Email', 'Phone'])\n",
    "df.head()"
   ]
  },
  {
   "cell_type": "markdown",
   "id": "857d6237-6eeb-4df7-a231-1366d80a61cb",
   "metadata": {},
   "source": [
    "Faker's package has a number of callable functions, called providers, that will generate random data for you. In the above code chunk, I used the BaseProvider's functions to generate names, physical mailing addresses, email addresses, and phone numbers.\n",
    "\n",
    "## Example 2: fake.profile()\n",
    "Let's use another provider: profile, and see what data we can generate."
   ]
  },
  {
   "cell_type": "code",
   "execution_count": 3,
   "id": "9ac02afb-72fe-4eb0-9dad-ffa717b72e8e",
   "metadata": {
    "tags": []
   },
   "outputs": [
    {
     "data": {
      "text/html": [
       "<div><div id=66ea48c6-2b87-4136-8fdf-a047b797c8de style=\"display:none; background-color:#9D6CFF; color:white; width:200px; height:30px; padding-left:5px; border-radius:4px; flex-direction:row; justify-content:space-around; align-items:center;\" onmouseover=\"this.style.backgroundColor='#BA9BF8'\" onmouseout=\"this.style.backgroundColor='#9D6CFF'\" onclick=\"window.commands?.execute('create-mitosheet-from-dataframe-output');\">See Full Dataframe in Mito</div> <script> if (window.commands?.hasCommand('create-mitosheet-from-dataframe-output')) document.getElementById('66ea48c6-2b87-4136-8fdf-a047b797c8de').style.display = 'flex' </script> <table border=\"1\" class=\"dataframe\">\n",
       "  <thead>\n",
       "    <tr style=\"text-align: right;\">\n",
       "      <th></th>\n",
       "      <th>job</th>\n",
       "      <th>company</th>\n",
       "      <th>ssn</th>\n",
       "      <th>residence</th>\n",
       "      <th>current_location</th>\n",
       "      <th>blood_group</th>\n",
       "      <th>website</th>\n",
       "      <th>username</th>\n",
       "      <th>name</th>\n",
       "      <th>sex</th>\n",
       "      <th>address</th>\n",
       "      <th>mail</th>\n",
       "      <th>birthdate</th>\n",
       "    </tr>\n",
       "  </thead>\n",
       "  <tbody>\n",
       "    <tr>\n",
       "      <th>0</th>\n",
       "      <td>Pathologist</td>\n",
       "      <td>Morgan-Rodriguez</td>\n",
       "      <td>337-16-6505</td>\n",
       "      <td>27146 Thomas Lakes\\nAngelashire, CO 11428</td>\n",
       "      <td>(-65.249321, -67.614365)</td>\n",
       "      <td>O-</td>\n",
       "      <td>[https://gordon-cohen.com/, https://baker.com/, https://matthews.com/]</td>\n",
       "      <td>stanleybenson</td>\n",
       "      <td>Emily Roberts</td>\n",
       "      <td>F</td>\n",
       "      <td>PSC 7554, Box 0302\\nAPO AE 52908</td>\n",
       "      <td>anelson@gmail.com</td>\n",
       "      <td>2002-03-05</td>\n",
       "    </tr>\n",
       "    <tr>\n",
       "      <th>1</th>\n",
       "      <td>Educational psychologist</td>\n",
       "      <td>Young PLC</td>\n",
       "      <td>215-93-0814</td>\n",
       "      <td>89138 Kyle Groves Apt. 147\\nRichardview, CT 86335</td>\n",
       "      <td>(-72.3012235, -51.064258)</td>\n",
       "      <td>B+</td>\n",
       "      <td>[https://garrison.com/, https://www.welch-nixon.com/, http://nelson-miller.com/]</td>\n",
       "      <td>richardsonanthony</td>\n",
       "      <td>Laura Pittman</td>\n",
       "      <td>F</td>\n",
       "      <td>8753 Julia Parkway\\nWest Lisa, MA 31554</td>\n",
       "      <td>amy42@hotmail.com</td>\n",
       "      <td>1934-09-23</td>\n",
       "    </tr>\n",
       "    <tr>\n",
       "      <th>2</th>\n",
       "      <td>Broadcast engineer</td>\n",
       "      <td>Gibson and Sons</td>\n",
       "      <td>508-95-2290</td>\n",
       "      <td>278 Christian Mountain\\nMichaelhaven, VA 28216</td>\n",
       "      <td>(79.158172, -173.776936)</td>\n",
       "      <td>A+</td>\n",
       "      <td>[http://www.bell.info/, http://www.ball-fischer.com/]</td>\n",
       "      <td>heatherjones</td>\n",
       "      <td>Mary Green MD</td>\n",
       "      <td>F</td>\n",
       "      <td>260 Thomas Roads Apt. 359\\nGonzalezburgh, TN 14234</td>\n",
       "      <td>wagnerkelly@hotmail.com</td>\n",
       "      <td>2011-09-25</td>\n",
       "    </tr>\n",
       "    <tr>\n",
       "      <th>3</th>\n",
       "      <td>Teacher, adult education</td>\n",
       "      <td>Allen-Garcia</td>\n",
       "      <td>288-78-5024</td>\n",
       "      <td>PSC 9267, Box 9063\\nAPO AE 23781</td>\n",
       "      <td>(-2.665059, -153.035046)</td>\n",
       "      <td>B-</td>\n",
       "      <td>[https://www.miller.com/, http://meza.com/, https://www.gould-wilson.net/]</td>\n",
       "      <td>higginsmadeline</td>\n",
       "      <td>Mitchell Davis</td>\n",
       "      <td>M</td>\n",
       "      <td>9174 Shawn Port\\nAnthonytown, TX 49372</td>\n",
       "      <td>melvinserrano@hotmail.com</td>\n",
       "      <td>1961-05-05</td>\n",
       "    </tr>\n",
       "    <tr>\n",
       "      <th>4</th>\n",
       "      <td>Broadcast engineer</td>\n",
       "      <td>Brown Group</td>\n",
       "      <td>682-02-4814</td>\n",
       "      <td>0282 Cathy Grove\\nWest Deborahborough, OH 05259</td>\n",
       "      <td>(-75.969342, 17.736184)</td>\n",
       "      <td>A+</td>\n",
       "      <td>[https://schroeder-brown.com/]</td>\n",
       "      <td>jaime32</td>\n",
       "      <td>Sylvia Peterson</td>\n",
       "      <td>F</td>\n",
       "      <td>291 Jordan Camp Suite 982\\nStevenborough, WI 17703</td>\n",
       "      <td>robert46@yahoo.com</td>\n",
       "      <td>2010-04-04</td>\n",
       "    </tr>\n",
       "  </tbody>\n",
       "</table></div>"
      ],
      "text/plain": [
       "                        job           company          ssn  \\\n",
       "0               Pathologist  Morgan-Rodriguez  337-16-6505   \n",
       "1  Educational psychologist         Young PLC  215-93-0814   \n",
       "2        Broadcast engineer   Gibson and Sons  508-95-2290   \n",
       "3  Teacher, adult education      Allen-Garcia  288-78-5024   \n",
       "4        Broadcast engineer       Brown Group  682-02-4814   \n",
       "\n",
       "                                           residence  \\\n",
       "0          27146 Thomas Lakes\\nAngelashire, CO 11428   \n",
       "1  89138 Kyle Groves Apt. 147\\nRichardview, CT 86335   \n",
       "2     278 Christian Mountain\\nMichaelhaven, VA 28216   \n",
       "3                   PSC 9267, Box 9063\\nAPO AE 23781   \n",
       "4    0282 Cathy Grove\\nWest Deborahborough, OH 05259   \n",
       "\n",
       "            current_location blood_group  \\\n",
       "0   (-65.249321, -67.614365)          O-   \n",
       "1  (-72.3012235, -51.064258)          B+   \n",
       "2   (79.158172, -173.776936)          A+   \n",
       "3   (-2.665059, -153.035046)          B-   \n",
       "4    (-75.969342, 17.736184)          A+   \n",
       "\n",
       "                                             website           username  \\\n",
       "0  [https://gordon-cohen.com/, https://baker.com/...      stanleybenson   \n",
       "1  [https://garrison.com/, https://www.welch-nixo...  richardsonanthony   \n",
       "2  [http://www.bell.info/, http://www.ball-fische...       heatherjones   \n",
       "3  [https://www.miller.com/, http://meza.com/, ht...    higginsmadeline   \n",
       "4                     [https://schroeder-brown.com/]            jaime32   \n",
       "\n",
       "              name sex                                            address  \\\n",
       "0    Emily Roberts   F                   PSC 7554, Box 0302\\nAPO AE 52908   \n",
       "1    Laura Pittman   F            8753 Julia Parkway\\nWest Lisa, MA 31554   \n",
       "2    Mary Green MD   F  260 Thomas Roads Apt. 359\\nGonzalezburgh, TN 1...   \n",
       "3   Mitchell Davis   M             9174 Shawn Port\\nAnthonytown, TX 49372   \n",
       "4  Sylvia Peterson   F  291 Jordan Camp Suite 982\\nStevenborough, WI 1...   \n",
       "\n",
       "                        mail   birthdate  \n",
       "0          anelson@gmail.com  2002-03-05  \n",
       "1          amy42@hotmail.com  1934-09-23  \n",
       "2    wagnerkelly@hotmail.com  2011-09-25  \n",
       "3  melvinserrano@hotmail.com  1961-05-05  \n",
       "4         robert46@yahoo.com  2010-04-04  "
      ]
     },
     "execution_count": 3,
     "metadata": {},
     "output_type": "execute_result"
    }
   ],
   "source": [
    "# Create a list of fake profiles\n",
    "profiles = []\n",
    "\n",
    "for _ in range(10):\n",
    "    profiles.append(fake.profile())\n",
    "\n",
    "# Save as a DataFrame\n",
    "df2 = pd.DataFrame(profiles, columns = profiles[0].keys())\n",
    "df2.head()"
   ]
  },
  {
   "cell_type": "markdown",
   "id": "9329a861-b13b-4960-933e-0d49fdcfec03",
   "metadata": {},
   "source": [
    "As you can see from the output, there's a lot of information. Let's take a look at an individual profile:"
   ]
  },
  {
   "cell_type": "code",
   "execution_count": 4,
   "id": "88c91e39-a5cc-4e89-bb4f-f116658e40d8",
   "metadata": {
    "tags": []
   },
   "outputs": [
    {
     "data": {
      "text/plain": [
       "{'job': 'Financial controller',\n",
       " 'company': 'Tate LLC',\n",
       " 'ssn': '419-69-0984',\n",
       " 'residence': '1634 Brown Brooks Apt. 160\\nAndersonbury, RI 44456',\n",
       " 'current_location': (Decimal('-50.698553'), Decimal('146.445818')),\n",
       " 'blood_group': 'A+',\n",
       " 'website': ['http://lee.com/'],\n",
       " 'username': 'ashleyweber',\n",
       " 'name': 'Joshua Taylor',\n",
       " 'sex': 'M',\n",
       " 'address': '997 Brittany Plaza Suite 980\\nJacquelinefort, NC 36486',\n",
       " 'mail': 'blin@gmail.com',\n",
       " 'birthdate': datetime.date(1920, 1, 10)}"
      ]
     },
     "execution_count": 4,
     "metadata": {},
     "output_type": "execute_result"
    }
   ],
   "source": [
    "fake.profile()"
   ]
  },
  {
   "cell_type": "markdown",
   "id": "c1901447-e5c7-4331-93d9-162b859e8973",
   "metadata": {},
   "source": [
    "## Example 3: customize fake.profile(fields = [])\n",
    "Depending on the columns you actually want for your fake profiles, you can list whichever attributes you're interested in using the `fields` argument."
   ]
  },
  {
   "cell_type": "code",
   "execution_count": 5,
   "id": "9244bfdf-d10d-4dbc-a03b-e02a217c6ae3",
   "metadata": {
    "tags": []
   },
   "outputs": [
    {
     "data": {
      "text/html": [
       "<div><div id=34e4de95-2e0f-45f0-8ef7-0f604bcd8987 style=\"display:none; background-color:#9D6CFF; color:white; width:200px; height:30px; padding-left:5px; border-radius:4px; flex-direction:row; justify-content:space-around; align-items:center;\" onmouseover=\"this.style.backgroundColor='#BA9BF8'\" onmouseout=\"this.style.backgroundColor='#9D6CFF'\" onclick=\"window.commands?.execute('create-mitosheet-from-dataframe-output');\">See Full Dataframe in Mito</div> <script> if (window.commands?.hasCommand('create-mitosheet-from-dataframe-output')) document.getElementById('34e4de95-2e0f-45f0-8ef7-0f604bcd8987').style.display = 'flex' </script> <table border=\"1\" class=\"dataframe\">\n",
       "  <thead>\n",
       "    <tr style=\"text-align: right;\">\n",
       "      <th></th>\n",
       "      <th>blood_group</th>\n",
       "      <th>name</th>\n",
       "      <th>sex</th>\n",
       "      <th>birthdate</th>\n",
       "    </tr>\n",
       "  </thead>\n",
       "  <tbody>\n",
       "    <tr>\n",
       "      <th>0</th>\n",
       "      <td>A-</td>\n",
       "      <td>Gloria Schwartz</td>\n",
       "      <td>F</td>\n",
       "      <td>1960-03-02</td>\n",
       "    </tr>\n",
       "    <tr>\n",
       "      <th>1</th>\n",
       "      <td>O+</td>\n",
       "      <td>Natasha Watson</td>\n",
       "      <td>F</td>\n",
       "      <td>1974-09-10</td>\n",
       "    </tr>\n",
       "    <tr>\n",
       "      <th>2</th>\n",
       "      <td>A-</td>\n",
       "      <td>Amber Peterson</td>\n",
       "      <td>F</td>\n",
       "      <td>1951-02-20</td>\n",
       "    </tr>\n",
       "    <tr>\n",
       "      <th>3</th>\n",
       "      <td>O+</td>\n",
       "      <td>George Wood</td>\n",
       "      <td>M</td>\n",
       "      <td>1948-07-01</td>\n",
       "    </tr>\n",
       "    <tr>\n",
       "      <th>4</th>\n",
       "      <td>AB+</td>\n",
       "      <td>Margaret Galvan</td>\n",
       "      <td>F</td>\n",
       "      <td>1995-12-21</td>\n",
       "    </tr>\n",
       "  </tbody>\n",
       "</table></div>"
      ],
      "text/plain": [
       "  blood_group             name sex   birthdate\n",
       "0          A-  Gloria Schwartz   F  1960-03-02\n",
       "1          O+   Natasha Watson   F  1974-09-10\n",
       "2          A-   Amber Peterson   F  1951-02-20\n",
       "3          O+      George Wood   M  1948-07-01\n",
       "4         AB+  Margaret Galvan   F  1995-12-21"
      ]
     },
     "execution_count": 5,
     "metadata": {},
     "output_type": "execute_result"
    }
   ],
   "source": [
    "# Create fake profiles using specific columns\n",
    "profiles2 = []\n",
    "\n",
    "for _ in range(10):\n",
    "    profiles2.append(fake.profile(fields = [\"name\", \"sex\", \"occupation\", \"blood_group\", \"birthdate\"]))\n",
    "\n",
    "df3 = pd.DataFrame(profiles2, columns = profiles2[0].keys())\n",
    "df3.head()"
   ]
  },
  {
   "cell_type": "markdown",
   "id": "240746cc-4c39-4042-9ab4-533ccd8dcafa",
   "metadata": {},
   "source": [
    "## DynamicProvider: customizable provider"
   ]
  },
  {
   "cell_type": "code",
   "execution_count": 6,
   "id": "9573b140-64cc-4dfc-98f4-6e4e7f91977f",
   "metadata": {
    "tags": []
   },
   "outputs": [],
   "source": [
    "from faker.providers import DynamicProvider"
   ]
  },
  {
   "cell_type": "code",
   "execution_count": 9,
   "id": "de5f9d09-4772-4e0a-9ac9-250e79dfd97e",
   "metadata": {
    "tags": []
   },
   "outputs": [],
   "source": [
    "df_museums = pd.read_csv('../../Data/museums.csv')"
   ]
  },
  {
   "cell_type": "code",
   "execution_count": 10,
   "id": "58953acb-ab9e-46a9-9878-ccea747aee8b",
   "metadata": {
    "tags": []
   },
   "outputs": [
    {
     "data": {
      "text/plain": [
       "'DANFORTH MUSEUM OF ART'"
      ]
     },
     "execution_count": 10,
     "metadata": {},
     "output_type": "execute_result"
    }
   ],
   "source": [
    "# Get unique list of museum names from existing dataset\n",
    "museum_list = set(df_museums[\"Museum Name\"])\n",
    "\n",
    "# Create museum_provider\n",
    "museum_provider = DynamicProvider(\n",
    "     provider_name = \"museum_provider\",\n",
    "     elements = museum_list,\n",
    ")\n",
    "\n",
    "# Instantiate new Faker() instance\n",
    "fake_more = Faker()\n",
    "\n",
    "# Add new provider\n",
    "fake_more.add_provider(museum_provider)\n",
    "\n",
    "# Use new provider\n",
    "fake_more.museum_provider()"
   ]
  },
  {
   "cell_type": "markdown",
   "id": "74e5b793-e41a-4298-8df0-3d12c5fd7845",
   "metadata": {},
   "source": [
    "In this dummy example, I took an existing [dataset on museums](https://www.kaggle.com/datasets/imls/museum-directory?resource=download), extracted just the names, and in 2 lines of code, created a new provider that will randomly generate a museum name based on the data I've provided it. This could be applied to any other existing dataset that you have."
   ]
  },
  {
   "cell_type": "markdown",
   "id": "9af5f41f-ae00-417b-a698-8f5a470e3b5d",
   "metadata": {},
   "source": [
    "## Python Faker providers: standard vs. community\n",
    "To learn more about other providers you can use the following line of code. Note that we're calling on the providers attribute of a Faker() instance, called fake. All of the providers' accompanying functions can be called on like we did above without any additional import statements."
   ]
  },
  {
   "cell_type": "code",
   "execution_count": 11,
   "id": "ff8aee7a-26fa-43f2-8133-63e469007e7e",
   "metadata": {
    "tags": []
   },
   "outputs": [
    {
     "data": {
      "text/plain": [
       "[<faker.providers.user_agent.Provider at 0x16d8ea8e0>,\n",
       " <faker.providers.ssn.en_US.Provider at 0x16d8ea850>,\n",
       " <faker.providers.python.Provider at 0x16d8ea910>,\n",
       " <faker.providers.profile.Provider at 0x16d8ea7f0>,\n",
       " <faker.providers.phone_number.en_US.Provider at 0x16d8ea6d0>,\n",
       " <faker.providers.person.en_US.Provider at 0x16d8ea550>,\n",
       " <faker.providers.misc.en_US.Provider at 0x16d8ea460>,\n",
       " <faker.providers.lorem.en_US.Provider at 0x16d8ea2b0>,\n",
       " <faker.providers.job.en_US.Provider at 0x16d8ea100>,\n",
       " <faker.providers.isbn.Provider at 0x16d8ea0a0>,\n",
       " <faker.providers.internet.en_US.Provider at 0x16d8d5f70>,\n",
       " <faker.providers.geo.en_US.Provider at 0x16d8d5ca0>,\n",
       " <faker.providers.file.Provider at 0x16d8d5ee0>,\n",
       " <faker.providers.emoji.Provider at 0x16d8d5a60>,\n",
       " <faker.providers.date_time.en_US.Provider at 0x16d8d5be0>,\n",
       " <faker.providers.currency.en_US.Provider at 0x16d8d5d60>,\n",
       " <faker.providers.credit_card.en_US.Provider at 0x16d8d58b0>,\n",
       " <faker.providers.company.en_US.Provider at 0x16d8d5a90>,\n",
       " <faker.providers.color.en_US.Provider at 0x16d8d5220>,\n",
       " <faker.providers.barcode.en_US.Provider at 0x16d8d5280>,\n",
       " <faker.providers.bank.en_GB.Provider at 0x16d5ae3a0>,\n",
       " <faker.providers.automotive.en_US.Provider at 0x16d8c2910>,\n",
       " <faker.providers.address.en_US.Provider at 0x16d5ae0d0>]"
      ]
     },
     "execution_count": 11,
     "metadata": {},
     "output_type": "execute_result"
    }
   ],
   "source": [
    "# Get full list of built-in providers\n",
    "fake.providers"
   ]
  },
  {
   "cell_type": "markdown",
   "id": "be15a2ef-0942-4d39-85d3-d257582fb474",
   "metadata": {},
   "source": [
    "Beyond the basic providers, there are also community-developed providers, such as:\n",
    "\n",
    "- faker_airtravel: airport and flight information\n",
    "- faker_music: music genres, subgenres, and instrument information\n",
    "- faker_vehicle: year, make, model, and other vehicle information\n",
    "\n",
    "But you will have to install and import community providers separately:"
   ]
  },
  {
   "cell_type": "code",
   "execution_count": 12,
   "id": "5c5f096c-8aba-44c0-9081-16490da19af9",
   "metadata": {
    "tags": []
   },
   "outputs": [],
   "source": [
    "#%pip install faker_airtravel"
   ]
  },
  {
   "cell_type": "code",
   "execution_count": 13,
   "id": "1814a31c-3c91-4668-8680-1df8eb8e6730",
   "metadata": {
    "tags": []
   },
   "outputs": [],
   "source": [
    "from faker import Faker\n",
    "from faker_airtravel import AirTravelProvider\n",
    "fake.add_provider(AirTravelProvider)"
   ]
  },
  {
   "cell_type": "markdown",
   "id": "c47a5f64-32d0-4d7c-8235-3ae5f8d26ef0",
   "metadata": {},
   "source": [
    "Check out Python Faker's full [GitHub](https://github.com/joke2k/faker) and [documentation](https://faker.readthedocs.io/en/master/) for more."
   ]
  },
  {
   "cell_type": "code",
   "execution_count": 14,
   "id": "69585ede-ee56-40e7-aa53-2ef5dd08216e",
   "metadata": {
    "tags": []
   },
   "outputs": [],
   "source": [
    "#%pip install faker_vehicle\n",
    "#%pip install faker_music"
   ]
  },
  {
   "cell_type": "code",
   "execution_count": 15,
   "id": "181065cd-41df-48c7-bb70-d96c69c3258c",
   "metadata": {
    "tags": []
   },
   "outputs": [],
   "source": [
    "import faker_music\n",
    "from faker_music import MusicProvider\n",
    "fake.add_provider(MusicProvider)"
   ]
  },
  {
   "cell_type": "code",
   "execution_count": 16,
   "id": "0c2b835d-125d-4c95-9682-e31912fc2fce",
   "metadata": {
    "tags": []
   },
   "outputs": [],
   "source": [
    "import faker_vehicle\n",
    "from faker_vehicle import VehicleProvider\n",
    "fake.add_provider(VehicleProvider)"
   ]
  },
  {
   "cell_type": "code",
   "execution_count": 17,
   "id": "37b88f45-1284-4cc7-9aea-5f85656b06c1",
   "metadata": {
    "tags": []
   },
   "outputs": [
    {
     "data": {
      "text/plain": [
       "[<faker_vehicle.VehicleProvider at 0x16f386f70>,\n",
       " <faker_music.music.MusicProvider at 0x16d5aea60>,\n",
       " <faker_airtravel.airports.AirTravelProvider at 0x16d8c22b0>,\n",
       " <faker.providers.user_agent.Provider at 0x16d8ea8e0>,\n",
       " <faker.providers.ssn.en_US.Provider at 0x16d8ea850>,\n",
       " <faker.providers.python.Provider at 0x16d8ea910>,\n",
       " <faker.providers.profile.Provider at 0x16d8ea7f0>,\n",
       " <faker.providers.phone_number.en_US.Provider at 0x16d8ea6d0>,\n",
       " <faker.providers.person.en_US.Provider at 0x16d8ea550>,\n",
       " <faker.providers.misc.en_US.Provider at 0x16d8ea460>,\n",
       " <faker.providers.lorem.en_US.Provider at 0x16d8ea2b0>,\n",
       " <faker.providers.job.en_US.Provider at 0x16d8ea100>,\n",
       " <faker.providers.isbn.Provider at 0x16d8ea0a0>,\n",
       " <faker.providers.internet.en_US.Provider at 0x16d8d5f70>,\n",
       " <faker.providers.geo.en_US.Provider at 0x16d8d5ca0>,\n",
       " <faker.providers.file.Provider at 0x16d8d5ee0>,\n",
       " <faker.providers.emoji.Provider at 0x16d8d5a60>,\n",
       " <faker.providers.date_time.en_US.Provider at 0x16d8d5be0>,\n",
       " <faker.providers.currency.en_US.Provider at 0x16d8d5d60>,\n",
       " <faker.providers.credit_card.en_US.Provider at 0x16d8d58b0>,\n",
       " <faker.providers.company.en_US.Provider at 0x16d8d5a90>,\n",
       " <faker.providers.color.en_US.Provider at 0x16d8d5220>,\n",
       " <faker.providers.barcode.en_US.Provider at 0x16d8d5280>,\n",
       " <faker.providers.bank.en_GB.Provider at 0x16d5ae3a0>,\n",
       " <faker.providers.automotive.en_US.Provider at 0x16d8c2910>,\n",
       " <faker.providers.address.en_US.Provider at 0x16d5ae0d0>]"
      ]
     },
     "execution_count": 17,
     "metadata": {},
     "output_type": "execute_result"
    }
   ],
   "source": [
    "fake.providers"
   ]
  },
  {
   "cell_type": "code",
   "execution_count": 48,
   "id": "9cd299c9-8fb9-4f35-8a2a-aaebe80f4c84",
   "metadata": {
    "tags": []
   },
   "outputs": [
    {
     "data": {
      "text/plain": [
       "('NMC', 'Namecoin')"
      ]
     },
     "execution_count": 48,
     "metadata": {},
     "output_type": "execute_result"
    }
   ],
   "source": [
    "fake.()"
   ]
  },
  {
   "cell_type": "code",
   "execution_count": null,
   "id": "bcda977c-27fb-4285-a1cd-a079249d3816",
   "metadata": {},
   "outputs": [],
   "source": []
  },
  {
   "cell_type": "code",
   "execution_count": null,
   "id": "15148ece-f84a-4668-9d73-e724a908de09",
   "metadata": {},
   "outputs": [],
   "source": []
  }
 ],
 "metadata": {
  "kernelspec": {
   "display_name": "Python 3 (ipykernel)",
   "language": "python",
   "name": "python3"
  },
  "language_info": {
   "codemirror_mode": {
    "name": "ipython",
    "version": 3
   },
   "file_extension": ".py",
   "mimetype": "text/x-python",
   "name": "python",
   "nbconvert_exporter": "python",
   "pygments_lexer": "ipython3",
   "version": "3.9.16"
  }
 },
 "nbformat": 4,
 "nbformat_minor": 5
}
