{
 "cells": [
  {
   "cell_type": "markdown",
   "id": "ff9f1c35-192e-4d5c-949c-ccc2a8693807",
   "metadata": {},
   "source": [
    "# What Is Synthetic Data? \n",
    "\n",
    "[Reference: Accelerating AI with Synthetic Data](https://learning.oreilly.com/library/view/accelerating-ai-with/9781492045991/) - [Khaled El Emam](https://learning.oreilly.com/search/?query=author%3A%22Khaled%20El%20Emam%22&sort=relevance&highlight=true)\n",
    "\n",
    "At a conceptual level, synthetic data is not real data but is data that has been generated from real data and that has the same statistical properties as the real data. This means that an analyst who works with a synthetic dataset should get analysis results that are similar to those they would get with real data. The degree to which a synthetic dataset is an accurate proxy for real data is a measure of utility. Furthermore, we refer to the process of generating synthetic data as synthesis.\n",
    "\n",
    "Data in this context can mean different things. For example, data can be structured data (i.e., rows and columns), as one would see in a relational database. Data can also be unstructured text, such as doctors’ notes, transcripts of conversations among people or with digital assistants, or online interactions by email or chat. Furthermore, images, videos, audio, and virtual environments are also types of data that can be synthesized. We have seen examples of fake images in the machine learning literature; for instance, realistic faces of people who do not exist in the real world can be created, and you can view the results online.\n",
    "\n",
    "\n",
    "To create a synthetic dataset, follow these steps: - [ChatGPT](https://chat.openai.com/chat)\n",
    "\n",
    "1. Define the problem and determine the type of data needed: Determine what kind of data is required for your problem and the type of distribution it should follow.\n",
    "2. Select the appropriate statistical distribution: Choose a statistical distribution that best fits the data you want to generate. For example, if you want to generate data for a normally distributed variable, use the Gaussian distribution.\n",
    "3. Set the parameters of the distribution: Determine the mean and standard deviation of the distribution you have selected.\n",
    "4. Generate the data: Use a random number generator or a library in your preferred programming language to generate data samples from the distribution you have selected.\n",
    "5. Validate the synthetic data: Verify that the generated data is similar to the real-world data. This can be done by comparing various statistical measures, such as mean, standard deviation, and distribution shape.\n",
    "6. Save and use the synthetic data: Store the synthetic data in a file or database for future use.\n",
    "\n",
    "Note: It is important to understand the underlying distribution of the real-world data to generate accurate synthetic data. In some cases, you may need to use multiple distributions to generate synthetic data that mimics real-world data.\n",
    "\n",
    "Synthetic data is divided into two types, based on whether it is generated from actual datasets or not.\n",
    "\n",
    "1. The first type is synthesized from real datasets. The analyst will have some real datasets and then build a model to capture the distributions and structure of that real data.\n",
    "2. The second type of synthetic data is not generated from real data. It is created by using existing models or by using background knowledge of the analyst."
   ]
  },
  {
   "cell_type": "markdown",
   "id": "5a12f26a-4275-44cb-b3ac-2a2ced93987c",
   "metadata": {},
   "source": [
    "|Type of synthetic data|Utility|\n",
    "|:---|:---|\n",
    "|Generated from real (nonpublic) datasets | Can be quite high |\n",
    "|Generated from real public data | Can be high, although limitations exist because public data tends to be de-identified or aggregated |\n",
    "| Generated from an existing model of a process, which can also be represented in a simulation engine | Will depend on the fidelity of the existing generating model|\n",
    "|Based on analyst knowledge | Will depend on how well the analyst knows the domain and the complexity of the phenomenon|\n",
    "|Generated from generic assumptions not specific to the phenomenon|Will likely be low|"
   ]
  },
  {
   "cell_type": "markdown",
   "id": "7ab46e12-e465-4e29-89ef-5c7c22d35b83",
   "metadata": {},
   "source": [
    "# Faker\n",
    "\n",
    "[Faker Docs](https://faker.readthedocs.io/en/master/)\n",
    "\n",
    "Creating synthetic data is a technique that can be used in several different areas of academics, including computer science, statistics, and artificial intelligence.\n",
    "\n",
    "In computer science, synthetic data generation can be used to train machine learning models or to test software systems. In statistics, it can be used to generate datasets that have certain statistical properties or to create data that adheres to a particular model. In artificial intelligence, synthetic data can be used to generate more diverse and representative datasets for training machine learning models.\n",
    "\n",
    "Therefore, creating synthetic data can be applied in various fields of academics, including those mentioned above, to create data that can be used to test or train algorithms or systems."
   ]
  },
  {
   "cell_type": "markdown",
   "id": "3252c226-3b0c-486f-85c4-87c4d1567c2f",
   "metadata": {},
   "source": [
    "## Generate synthetic data with Python Faker\n",
    "\n",
    "`Example 1: fake.name(), fake.address(), fake.email(), fake.phone_number()`"
   ]
  },
  {
   "cell_type": "code",
   "execution_count": 1,
   "id": "13223e41-9eaa-4165-8213-1d52a5e5b529",
   "metadata": {
    "tags": []
   },
   "outputs": [],
   "source": [
    "#%pip install faker\n",
    "from faker import Faker\n",
    "import pandas as pd # for data manipulation"
   ]
  },
  {
   "cell_type": "code",
   "execution_count": 2,
   "id": "9f74f990-5a19-47eb-846e-947749546cf2",
   "metadata": {
    "tags": []
   },
   "outputs": [
    {
     "data": {
      "text/html": [
       "<div>\n",
       "<style scoped>\n",
       "    .dataframe tbody tr th:only-of-type {\n",
       "        vertical-align: middle;\n",
       "    }\n",
       "\n",
       "    .dataframe tbody tr th {\n",
       "        vertical-align: top;\n",
       "    }\n",
       "\n",
       "    .dataframe thead th {\n",
       "        text-align: right;\n",
       "    }\n",
       "</style>\n",
       "<table border=\"1\" class=\"dataframe\">\n",
       "  <thead>\n",
       "    <tr style=\"text-align: right;\">\n",
       "      <th></th>\n",
       "      <th>Name</th>\n",
       "      <th>Address</th>\n",
       "      <th>Email</th>\n",
       "      <th>Phone</th>\n",
       "    </tr>\n",
       "  </thead>\n",
       "  <tbody>\n",
       "    <tr>\n",
       "      <th>0</th>\n",
       "      <td>Natalie Duran</td>\n",
       "      <td>PSC 6735, Box 9068\\nAPO AA 02356</td>\n",
       "      <td>howellchristina@example.com</td>\n",
       "      <td>004-842-2994x8563</td>\n",
       "    </tr>\n",
       "    <tr>\n",
       "      <th>1</th>\n",
       "      <td>Justin Padilla</td>\n",
       "      <td>697 Pope Village Apt. 133\\nPort Tina, MD 48474</td>\n",
       "      <td>gwilliams@example.net</td>\n",
       "      <td>368.636.2946</td>\n",
       "    </tr>\n",
       "    <tr>\n",
       "      <th>2</th>\n",
       "      <td>Victoria Williams</td>\n",
       "      <td>29458 Ronald Curve\\nGreenbury, WV 93668</td>\n",
       "      <td>vrodriguez@example.org</td>\n",
       "      <td>249.446.4119</td>\n",
       "    </tr>\n",
       "    <tr>\n",
       "      <th>3</th>\n",
       "      <td>Timothy Vance</td>\n",
       "      <td>USNS Ramsey\\nFPO AP 08357</td>\n",
       "      <td>daleroach@example.net</td>\n",
       "      <td>(372)484-5395x95656</td>\n",
       "    </tr>\n",
       "    <tr>\n",
       "      <th>4</th>\n",
       "      <td>David Black</td>\n",
       "      <td>118 Sean Island Suite 222\\nNew Patriciaport, W...</td>\n",
       "      <td>ihendricks@example.org</td>\n",
       "      <td>319-347-3306</td>\n",
       "    </tr>\n",
       "  </tbody>\n",
       "</table>\n",
       "</div>"
      ],
      "text/plain": [
       "                Name                                            Address  \\\n",
       "0      Natalie Duran                   PSC 6735, Box 9068\\nAPO AA 02356   \n",
       "1     Justin Padilla     697 Pope Village Apt. 133\\nPort Tina, MD 48474   \n",
       "2  Victoria Williams            29458 Ronald Curve\\nGreenbury, WV 93668   \n",
       "3      Timothy Vance                          USNS Ramsey\\nFPO AP 08357   \n",
       "4        David Black  118 Sean Island Suite 222\\nNew Patriciaport, W...   \n",
       "\n",
       "                         Email                Phone  \n",
       "0  howellchristina@example.com    004-842-2994x8563  \n",
       "1        gwilliams@example.net         368.636.2946  \n",
       "2       vrodriguez@example.org         249.446.4119  \n",
       "3        daleroach@example.net  (372)484-5395x95656  \n",
       "4       ihendricks@example.org         319-347-3306  "
      ]
     },
     "execution_count": 2,
     "metadata": {},
     "output_type": "execute_result"
    }
   ],
   "source": [
    "# Instantiate Faker() instance\n",
    "fake = Faker()\n",
    "\n",
    "# Create a dataset including names, addresses, emails, and phone numbers\n",
    "data = []\n",
    "for _ in range(10):\n",
    "    data.append([fake.name(), fake.address(), fake.email(), fake.phone_number()])\n",
    "\n",
    "# Convert to DataFrame\n",
    "df = pd.DataFrame(data, columns=['Name', 'Address', 'Email', 'Phone'])\n",
    "df.head()"
   ]
  },
  {
   "cell_type": "markdown",
   "id": "857d6237-6eeb-4df7-a231-1366d80a61cb",
   "metadata": {},
   "source": [
    "Faker's package has a number of callable functions, called providers, that will generate random data for you. In the above code chunk, I used the BaseProvider's functions to generate names, physical mailing addresses, email addresses, and phone numbers.\n",
    "\n",
    "## Example 2: fake.profile()\n",
    "Let's use another provider: profile, and see what data we can generate."
   ]
  },
  {
   "cell_type": "code",
   "execution_count": 3,
   "id": "9ac02afb-72fe-4eb0-9dad-ffa717b72e8e",
   "metadata": {
    "tags": []
   },
   "outputs": [
    {
     "data": {
      "text/html": [
       "<div>\n",
       "<style scoped>\n",
       "    .dataframe tbody tr th:only-of-type {\n",
       "        vertical-align: middle;\n",
       "    }\n",
       "\n",
       "    .dataframe tbody tr th {\n",
       "        vertical-align: top;\n",
       "    }\n",
       "\n",
       "    .dataframe thead th {\n",
       "        text-align: right;\n",
       "    }\n",
       "</style>\n",
       "<table border=\"1\" class=\"dataframe\">\n",
       "  <thead>\n",
       "    <tr style=\"text-align: right;\">\n",
       "      <th></th>\n",
       "      <th>job</th>\n",
       "      <th>company</th>\n",
       "      <th>ssn</th>\n",
       "      <th>residence</th>\n",
       "      <th>current_location</th>\n",
       "      <th>blood_group</th>\n",
       "      <th>website</th>\n",
       "      <th>username</th>\n",
       "      <th>name</th>\n",
       "      <th>sex</th>\n",
       "      <th>address</th>\n",
       "      <th>mail</th>\n",
       "      <th>birthdate</th>\n",
       "    </tr>\n",
       "  </thead>\n",
       "  <tbody>\n",
       "    <tr>\n",
       "      <th>0</th>\n",
       "      <td>Water quality scientist</td>\n",
       "      <td>Finley, Martin and Hamilton</td>\n",
       "      <td>184-38-1528</td>\n",
       "      <td>33433 Newman Port Suite 055\\nSouth Andreabury,...</td>\n",
       "      <td>(-2.381543, -88.404296)</td>\n",
       "      <td>A+</td>\n",
       "      <td>[http://jackson.net/, https://www.wilson-moral...</td>\n",
       "      <td>jweber</td>\n",
       "      <td>Paul Bowman</td>\n",
       "      <td>M</td>\n",
       "      <td>70814 Hancock Hill Suite 503\\nLake Brian, HI 2...</td>\n",
       "      <td>emilyberger@gmail.com</td>\n",
       "      <td>1917-06-23</td>\n",
       "    </tr>\n",
       "    <tr>\n",
       "      <th>1</th>\n",
       "      <td>Psychiatrist</td>\n",
       "      <td>Stewart-Wilson</td>\n",
       "      <td>813-01-0199</td>\n",
       "      <td>88251 Rogers Harbors\\nEast Billy, VT 21547</td>\n",
       "      <td>(-11.2108775, -167.749415)</td>\n",
       "      <td>AB-</td>\n",
       "      <td>[http://www.scott.com/, https://roth.com/]</td>\n",
       "      <td>sharplori</td>\n",
       "      <td>Ronald Burns</td>\n",
       "      <td>M</td>\n",
       "      <td>99999 Rose Mount\\nWest Anthony, AS 40365</td>\n",
       "      <td>charles51@yahoo.com</td>\n",
       "      <td>2007-02-22</td>\n",
       "    </tr>\n",
       "    <tr>\n",
       "      <th>2</th>\n",
       "      <td>Pharmacist, hospital</td>\n",
       "      <td>Rodriguez-Chandler</td>\n",
       "      <td>773-27-9043</td>\n",
       "      <td>015 Berg Extensions Suite 494\\nNorth Christoph...</td>\n",
       "      <td>(21.2930435, 7.645400)</td>\n",
       "      <td>O-</td>\n",
       "      <td>[http://www.price.com/, http://www.nguyen-shaw...</td>\n",
       "      <td>plin</td>\n",
       "      <td>Robert Torres</td>\n",
       "      <td>M</td>\n",
       "      <td>7012 Dennis Overpass\\nGutierrezview, SC 27473</td>\n",
       "      <td>joshua83@gmail.com</td>\n",
       "      <td>1917-11-06</td>\n",
       "    </tr>\n",
       "    <tr>\n",
       "      <th>3</th>\n",
       "      <td>Legal secretary</td>\n",
       "      <td>Anderson, Jones and Day</td>\n",
       "      <td>749-54-9049</td>\n",
       "      <td>11572 Peter Plains Apt. 476\\nPatriciaview, MO ...</td>\n",
       "      <td>(81.8625765, -141.863404)</td>\n",
       "      <td>A+</td>\n",
       "      <td>[http://www.patel.com/, https://austin-roberts...</td>\n",
       "      <td>hillsandra</td>\n",
       "      <td>Christopher Parker</td>\n",
       "      <td>M</td>\n",
       "      <td>99297 Martin Coves Apt. 307\\nMichaelmouth, WI ...</td>\n",
       "      <td>owright@yahoo.com</td>\n",
       "      <td>1935-11-27</td>\n",
       "    </tr>\n",
       "    <tr>\n",
       "      <th>4</th>\n",
       "      <td>Psychiatrist</td>\n",
       "      <td>Howell PLC</td>\n",
       "      <td>071-17-6919</td>\n",
       "      <td>198 Theresa Orchard Apt. 797\\nNorth Davidfort,...</td>\n",
       "      <td>(10.929648, -76.927497)</td>\n",
       "      <td>B-</td>\n",
       "      <td>[http://www.russell.com/, https://www.smith-ca...</td>\n",
       "      <td>melissaparrish</td>\n",
       "      <td>Philip Murillo</td>\n",
       "      <td>M</td>\n",
       "      <td>1454 Jeffrey Harbors Apt. 291\\nSimpsonhaven, A...</td>\n",
       "      <td>donald11@gmail.com</td>\n",
       "      <td>1977-12-20</td>\n",
       "    </tr>\n",
       "  </tbody>\n",
       "</table>\n",
       "</div>"
      ],
      "text/plain": [
       "                       job                      company          ssn  \\\n",
       "0  Water quality scientist  Finley, Martin and Hamilton  184-38-1528   \n",
       "1             Psychiatrist               Stewart-Wilson  813-01-0199   \n",
       "2     Pharmacist, hospital           Rodriguez-Chandler  773-27-9043   \n",
       "3          Legal secretary      Anderson, Jones and Day  749-54-9049   \n",
       "4             Psychiatrist                   Howell PLC  071-17-6919   \n",
       "\n",
       "                                           residence  \\\n",
       "0  33433 Newman Port Suite 055\\nSouth Andreabury,...   \n",
       "1         88251 Rogers Harbors\\nEast Billy, VT 21547   \n",
       "2  015 Berg Extensions Suite 494\\nNorth Christoph...   \n",
       "3  11572 Peter Plains Apt. 476\\nPatriciaview, MO ...   \n",
       "4  198 Theresa Orchard Apt. 797\\nNorth Davidfort,...   \n",
       "\n",
       "             current_location blood_group  \\\n",
       "0     (-2.381543, -88.404296)          A+   \n",
       "1  (-11.2108775, -167.749415)         AB-   \n",
       "2      (21.2930435, 7.645400)          O-   \n",
       "3   (81.8625765, -141.863404)          A+   \n",
       "4     (10.929648, -76.927497)          B-   \n",
       "\n",
       "                                             website        username  \\\n",
       "0  [http://jackson.net/, https://www.wilson-moral...          jweber   \n",
       "1         [http://www.scott.com/, https://roth.com/]       sharplori   \n",
       "2  [http://www.price.com/, http://www.nguyen-shaw...            plin   \n",
       "3  [http://www.patel.com/, https://austin-roberts...      hillsandra   \n",
       "4  [http://www.russell.com/, https://www.smith-ca...  melissaparrish   \n",
       "\n",
       "                 name sex                                            address  \\\n",
       "0         Paul Bowman   M  70814 Hancock Hill Suite 503\\nLake Brian, HI 2...   \n",
       "1        Ronald Burns   M           99999 Rose Mount\\nWest Anthony, AS 40365   \n",
       "2       Robert Torres   M      7012 Dennis Overpass\\nGutierrezview, SC 27473   \n",
       "3  Christopher Parker   M  99297 Martin Coves Apt. 307\\nMichaelmouth, WI ...   \n",
       "4      Philip Murillo   M  1454 Jeffrey Harbors Apt. 291\\nSimpsonhaven, A...   \n",
       "\n",
       "                    mail   birthdate  \n",
       "0  emilyberger@gmail.com  1917-06-23  \n",
       "1    charles51@yahoo.com  2007-02-22  \n",
       "2     joshua83@gmail.com  1917-11-06  \n",
       "3      owright@yahoo.com  1935-11-27  \n",
       "4     donald11@gmail.com  1977-12-20  "
      ]
     },
     "execution_count": 3,
     "metadata": {},
     "output_type": "execute_result"
    }
   ],
   "source": [
    "# Create a list of fake profiles\n",
    "profiles = []\n",
    "\n",
    "for _ in range(10):\n",
    "    profiles.append(fake.profile())\n",
    "\n",
    "# Save as a DataFrame\n",
    "df2 = pd.DataFrame(profiles, columns = profiles[0].keys())\n",
    "df2.head()"
   ]
  },
  {
   "cell_type": "markdown",
   "id": "9329a861-b13b-4960-933e-0d49fdcfec03",
   "metadata": {},
   "source": [
    "As you can see from the output, there's a lot of information. Let's take a look at an individual profile:"
   ]
  },
  {
   "cell_type": "code",
   "execution_count": 4,
   "id": "88c91e39-a5cc-4e89-bb4f-f116658e40d8",
   "metadata": {
    "tags": []
   },
   "outputs": [
    {
     "data": {
      "text/plain": [
       "{'job': 'Farm manager',\n",
       " 'company': 'Hill Ltd',\n",
       " 'ssn': '039-03-3022',\n",
       " 'residence': '04481 Karen Springs Suite 061\\nGeorgeburgh, PR 61159',\n",
       " 'current_location': (Decimal('-85.390027'), Decimal('-29.155379')),\n",
       " 'blood_group': 'O-',\n",
       " 'website': ['https://www.callahan-logan.com/',\n",
       "  'https://www.johnson-west.com/'],\n",
       " 'username': 'brandon61',\n",
       " 'name': 'Shannon Harrington',\n",
       " 'sex': 'F',\n",
       " 'address': '24924 Michael Circle\\nPhiliptown, NC 91944',\n",
       " 'mail': 'keithnicholas@gmail.com',\n",
       " 'birthdate': datetime.date(1918, 12, 14)}"
      ]
     },
     "execution_count": 4,
     "metadata": {},
     "output_type": "execute_result"
    }
   ],
   "source": [
    "fake.profile()"
   ]
  },
  {
   "cell_type": "markdown",
   "id": "c1901447-e5c7-4331-93d9-162b859e8973",
   "metadata": {},
   "source": [
    "## Example 3: customize fake.profile(fields = [])\n",
    "Depending on the columns you actually want for your fake profiles, you can list whichever attributes you're interested in using the `fields` argument."
   ]
  },
  {
   "cell_type": "code",
   "execution_count": 5,
   "id": "9244bfdf-d10d-4dbc-a03b-e02a217c6ae3",
   "metadata": {
    "tags": []
   },
   "outputs": [
    {
     "data": {
      "text/html": [
       "<div>\n",
       "<style scoped>\n",
       "    .dataframe tbody tr th:only-of-type {\n",
       "        vertical-align: middle;\n",
       "    }\n",
       "\n",
       "    .dataframe tbody tr th {\n",
       "        vertical-align: top;\n",
       "    }\n",
       "\n",
       "    .dataframe thead th {\n",
       "        text-align: right;\n",
       "    }\n",
       "</style>\n",
       "<table border=\"1\" class=\"dataframe\">\n",
       "  <thead>\n",
       "    <tr style=\"text-align: right;\">\n",
       "      <th></th>\n",
       "      <th>blood_group</th>\n",
       "      <th>name</th>\n",
       "      <th>sex</th>\n",
       "      <th>birthdate</th>\n",
       "    </tr>\n",
       "  </thead>\n",
       "  <tbody>\n",
       "    <tr>\n",
       "      <th>0</th>\n",
       "      <td>O+</td>\n",
       "      <td>Andrew Brown</td>\n",
       "      <td>M</td>\n",
       "      <td>2016-10-30</td>\n",
       "    </tr>\n",
       "    <tr>\n",
       "      <th>1</th>\n",
       "      <td>B+</td>\n",
       "      <td>William Sims</td>\n",
       "      <td>M</td>\n",
       "      <td>2002-12-14</td>\n",
       "    </tr>\n",
       "    <tr>\n",
       "      <th>2</th>\n",
       "      <td>AB+</td>\n",
       "      <td>Philip Moore</td>\n",
       "      <td>M</td>\n",
       "      <td>1947-03-03</td>\n",
       "    </tr>\n",
       "    <tr>\n",
       "      <th>3</th>\n",
       "      <td>AB-</td>\n",
       "      <td>Gwendolyn Miller</td>\n",
       "      <td>F</td>\n",
       "      <td>1929-01-24</td>\n",
       "    </tr>\n",
       "    <tr>\n",
       "      <th>4</th>\n",
       "      <td>AB+</td>\n",
       "      <td>Hannah Jackson</td>\n",
       "      <td>F</td>\n",
       "      <td>1977-12-27</td>\n",
       "    </tr>\n",
       "  </tbody>\n",
       "</table>\n",
       "</div>"
      ],
      "text/plain": [
       "  blood_group              name sex   birthdate\n",
       "0          O+      Andrew Brown   M  2016-10-30\n",
       "1          B+      William Sims   M  2002-12-14\n",
       "2         AB+      Philip Moore   M  1947-03-03\n",
       "3         AB-  Gwendolyn Miller   F  1929-01-24\n",
       "4         AB+    Hannah Jackson   F  1977-12-27"
      ]
     },
     "execution_count": 5,
     "metadata": {},
     "output_type": "execute_result"
    }
   ],
   "source": [
    "# Create fake profiles using specific columns\n",
    "profiles2 = []\n",
    "\n",
    "for _ in range(10):\n",
    "    profiles2.append(fake.profile(fields = [\"name\", \"sex\", \"occupation\", \"blood_group\", \"birthdate\"]))\n",
    "\n",
    "df3 = pd.DataFrame(profiles2, columns = profiles2[0].keys())\n",
    "df3.head()"
   ]
  },
  {
   "cell_type": "markdown",
   "id": "240746cc-4c39-4042-9ab4-533ccd8dcafa",
   "metadata": {},
   "source": [
    "## DynamicProvider: customizable provider"
   ]
  },
  {
   "cell_type": "code",
   "execution_count": 6,
   "id": "9573b140-64cc-4dfc-98f4-6e4e7f91977f",
   "metadata": {
    "tags": []
   },
   "outputs": [],
   "source": [
    "from faker.providers import DynamicProvider"
   ]
  },
  {
   "cell_type": "code",
   "execution_count": 7,
   "id": "de5f9d09-4772-4e0a-9ac9-250e79dfd97e",
   "metadata": {
    "tags": []
   },
   "outputs": [
    {
     "name": "stderr",
     "output_type": "stream",
     "text": [
      "/usr/local/lib/python3.9/site-packages/IPython/core/interactiveshell.py:3012: DtypeWarning: Columns (9,14,21) have mixed types.Specify dtype option on import or set low_memory=False.\n",
      "  has_raised = await self.run_ast_nodes(code_ast.body, cell_name,\n"
     ]
    }
   ],
   "source": [
    "df_museums = pd.read_csv('../../Data/museums.csv')"
   ]
  },
  {
   "cell_type": "code",
   "execution_count": 8,
   "id": "58953acb-ab9e-46a9-9878-ccea747aee8b",
   "metadata": {
    "tags": []
   },
   "outputs": [
    {
     "data": {
      "text/plain": [
       "'MUSEUM OF LIFESTYLE & FASHION HISTORY'"
      ]
     },
     "execution_count": 8,
     "metadata": {},
     "output_type": "execute_result"
    }
   ],
   "source": [
    "# Get unique list of museum names from existing dataset\n",
    "museum_list = set(df_museums[\"Museum Name\"])\n",
    "\n",
    "# Create museum_provider\n",
    "museum_provider = DynamicProvider(\n",
    "     provider_name = \"museum_provider\",\n",
    "     elements = museum_list,\n",
    ")\n",
    "\n",
    "# Instantiate new Faker() instance\n",
    "fake_more = Faker()\n",
    "\n",
    "# Add new provider\n",
    "fake_more.add_provider(museum_provider)\n",
    "\n",
    "# Use new provider\n",
    "fake_more.museum_provider()"
   ]
  },
  {
   "cell_type": "code",
   "execution_count": 18,
   "id": "594cdc9e-8ab5-48b6-80f1-66d9d886fde8",
   "metadata": {
    "tags": []
   },
   "outputs": [
    {
     "data": {
      "text/plain": [
       "[<faker.providers.DynamicProvider at 0x174676640>,\n",
       " <faker.providers.user_agent.Provider at 0x174687b50>,\n",
       " <faker.providers.ssn.en_US.Provider at 0x174687a60>,\n",
       " <faker.providers.python.Provider at 0x174687ac0>,\n",
       " <faker.providers.profile.Provider at 0x174687a00>,\n",
       " <faker.providers.phone_number.en_US.Provider at 0x1746877f0>,\n",
       " <faker.providers.person.en_US.Provider at 0x1746872e0>,\n",
       " <faker.providers.misc.en_US.Provider at 0x1746871c0>,\n",
       " <faker.providers.lorem.en_US.Provider at 0x174687880>,\n",
       " <faker.providers.job.en_US.Provider at 0x174687280>,\n",
       " <faker.providers.isbn.Provider at 0x174687370>,\n",
       " <faker.providers.internet.en_US.Provider at 0x174687340>,\n",
       " <faker.providers.geo.en_US.Provider at 0x174687490>,\n",
       " <faker.providers.file.Provider at 0x1746873a0>,\n",
       " <faker.providers.emoji.Provider at 0x174687520>,\n",
       " <faker.providers.date_time.en_US.Provider at 0x1746874f0>,\n",
       " <faker.providers.currency.en_US.Provider at 0x1746874c0>,\n",
       " <faker.providers.credit_card.en_US.Provider at 0x174649b20>,\n",
       " <faker.providers.company.en_US.Provider at 0x174649af0>,\n",
       " <faker.providers.color.en_US.Provider at 0x174649be0>,\n",
       " <faker.providers.barcode.en_US.Provider at 0x174676b50>,\n",
       " <faker.providers.bank.en_GB.Provider at 0x174676eb0>,\n",
       " <faker.providers.automotive.en_US.Provider at 0x1746765b0>,\n",
       " <faker.providers.address.en_US.Provider at 0x1745791f0>]"
      ]
     },
     "execution_count": 18,
     "metadata": {},
     "output_type": "execute_result"
    }
   ],
   "source": [
    "fake_more.providers"
   ]
  },
  {
   "cell_type": "markdown",
   "id": "74e5b793-e41a-4298-8df0-3d12c5fd7845",
   "metadata": {},
   "source": [
    "In this dummy example, I took an existing [dataset on museums](https://www.kaggle.com/datasets/imls/museum-directory?resource=download), extracted just the names, and in 2 lines of code, created a new provider that will randomly generate a museum name based on the data I've provided it. This could be applied to any other existing dataset that you have."
   ]
  },
  {
   "cell_type": "markdown",
   "id": "9af5f41f-ae00-417b-a698-8f5a470e3b5d",
   "metadata": {},
   "source": [
    "## Python Faker providers: standard vs. community\n",
    "To learn more about other providers you can use the following line of code. Note that we're calling on the providers attribute of a Faker() instance, called fake. All of the providers' accompanying functions can be called on like we did above without any additional import statements."
   ]
  },
  {
   "cell_type": "code",
   "execution_count": 9,
   "id": "ff8aee7a-26fa-43f2-8133-63e469007e7e",
   "metadata": {
    "tags": []
   },
   "outputs": [
    {
     "data": {
      "text/plain": [
       "[<faker.providers.user_agent.Provider at 0x174593eb0>,\n",
       " <faker.providers.ssn.en_US.Provider at 0x174593e20>,\n",
       " <faker.providers.python.Provider at 0x174593ee0>,\n",
       " <faker.providers.profile.Provider at 0x174593dc0>,\n",
       " <faker.providers.phone_number.en_US.Provider at 0x174593ca0>,\n",
       " <faker.providers.person.en_US.Provider at 0x174593b20>,\n",
       " <faker.providers.misc.en_US.Provider at 0x174593a30>,\n",
       " <faker.providers.lorem.en_US.Provider at 0x174593880>,\n",
       " <faker.providers.job.en_US.Provider at 0x1745936d0>,\n",
       " <faker.providers.isbn.Provider at 0x1745936a0>,\n",
       " <faker.providers.internet.en_US.Provider at 0x174593640>,\n",
       " <faker.providers.geo.en_US.Provider at 0x1745932b0>,\n",
       " <faker.providers.file.Provider at 0x1745934f0>,\n",
       " <faker.providers.emoji.Provider at 0x174593430>,\n",
       " <faker.providers.date_time.en_US.Provider at 0x174593040>,\n",
       " <faker.providers.currency.en_US.Provider at 0x1742aee20>,\n",
       " <faker.providers.credit_card.en_US.Provider at 0x1742ae610>,\n",
       " <faker.providers.company.en_US.Provider at 0x1745708b0>,\n",
       " <faker.providers.color.en_US.Provider at 0x174570eb0>,\n",
       " <faker.providers.barcode.en_US.Provider at 0x174570d60>,\n",
       " <faker.providers.bank.en_GB.Provider at 0x174579e80>,\n",
       " <faker.providers.automotive.en_US.Provider at 0x14bd3d0d0>,\n",
       " <faker.providers.address.en_US.Provider at 0x10eb76df0>]"
      ]
     },
     "execution_count": 9,
     "metadata": {},
     "output_type": "execute_result"
    }
   ],
   "source": [
    "# Get full list of built-in providers\n",
    "fake.providers"
   ]
  },
  {
   "cell_type": "markdown",
   "id": "be15a2ef-0942-4d39-85d3-d257582fb474",
   "metadata": {},
   "source": [
    "Beyond the basic providers, there are also community-developed providers, such as:\n",
    "\n",
    "- faker_airtravel: airport and flight information\n",
    "- faker_music: music genres, subgenres, and instrument information\n",
    "- faker_vehicle: year, make, model, and other vehicle information\n",
    "\n",
    "But you will have to install and import community providers separately:"
   ]
  },
  {
   "cell_type": "code",
   "execution_count": 10,
   "id": "5c5f096c-8aba-44c0-9081-16490da19af9",
   "metadata": {
    "tags": []
   },
   "outputs": [],
   "source": [
    "#%pip install faker_airtravel"
   ]
  },
  {
   "cell_type": "code",
   "execution_count": 11,
   "id": "1814a31c-3c91-4668-8680-1df8eb8e6730",
   "metadata": {
    "tags": []
   },
   "outputs": [],
   "source": [
    "from faker import Faker\n",
    "from faker_airtravel import AirTravelProvider\n",
    "fake.add_provider(AirTravelProvider)"
   ]
  },
  {
   "cell_type": "markdown",
   "id": "c47a5f64-32d0-4d7c-8235-3ae5f8d26ef0",
   "metadata": {},
   "source": [
    "Check out Python Faker's full [GitHub](https://github.com/joke2k/faker) and [documentation](https://faker.readthedocs.io/en/master/) for more."
   ]
  },
  {
   "cell_type": "code",
   "execution_count": 12,
   "id": "69585ede-ee56-40e7-aa53-2ef5dd08216e",
   "metadata": {
    "tags": []
   },
   "outputs": [],
   "source": [
    "#%pip install faker_vehicle\n",
    "#%pip install faker_music"
   ]
  },
  {
   "cell_type": "code",
   "execution_count": 13,
   "id": "181065cd-41df-48c7-bb70-d96c69c3258c",
   "metadata": {
    "tags": []
   },
   "outputs": [],
   "source": [
    "import faker_music\n",
    "from faker_music import MusicProvider\n",
    "fake.add_provider(MusicProvider)"
   ]
  },
  {
   "cell_type": "code",
   "execution_count": 14,
   "id": "0c2b835d-125d-4c95-9682-e31912fc2fce",
   "metadata": {
    "tags": []
   },
   "outputs": [],
   "source": [
    "import faker_vehicle\n",
    "from faker_vehicle import VehicleProvider\n",
    "fake.add_provider(VehicleProvider)"
   ]
  },
  {
   "cell_type": "code",
   "execution_count": 19,
   "id": "37b88f45-1284-4cc7-9aea-5f85656b06c1",
   "metadata": {
    "tags": []
   },
   "outputs": [
    {
     "data": {
      "text/plain": [
       "[<faker_vehicle.VehicleProvider at 0x1753d7130>,\n",
       " <faker_music.music.MusicProvider at 0x1742aea90>,\n",
       " <faker_airtravel.airports.AirTravelProvider at 0x1742aef70>,\n",
       " <faker.providers.user_agent.Provider at 0x174593eb0>,\n",
       " <faker.providers.ssn.en_US.Provider at 0x174593e20>,\n",
       " <faker.providers.python.Provider at 0x174593ee0>,\n",
       " <faker.providers.profile.Provider at 0x174593dc0>,\n",
       " <faker.providers.phone_number.en_US.Provider at 0x174593ca0>,\n",
       " <faker.providers.person.en_US.Provider at 0x174593b20>,\n",
       " <faker.providers.misc.en_US.Provider at 0x174593a30>,\n",
       " <faker.providers.lorem.en_US.Provider at 0x174593880>,\n",
       " <faker.providers.job.en_US.Provider at 0x1745936d0>,\n",
       " <faker.providers.isbn.Provider at 0x1745936a0>,\n",
       " <faker.providers.internet.en_US.Provider at 0x174593640>,\n",
       " <faker.providers.geo.en_US.Provider at 0x1745932b0>,\n",
       " <faker.providers.file.Provider at 0x1745934f0>,\n",
       " <faker.providers.emoji.Provider at 0x174593430>,\n",
       " <faker.providers.date_time.en_US.Provider at 0x174593040>,\n",
       " <faker.providers.currency.en_US.Provider at 0x1742aee20>,\n",
       " <faker.providers.credit_card.en_US.Provider at 0x1742ae610>,\n",
       " <faker.providers.company.en_US.Provider at 0x1745708b0>,\n",
       " <faker.providers.color.en_US.Provider at 0x174570eb0>,\n",
       " <faker.providers.barcode.en_US.Provider at 0x174570d60>,\n",
       " <faker.providers.bank.en_GB.Provider at 0x174579e80>,\n",
       " <faker.providers.automotive.en_US.Provider at 0x14bd3d0d0>,\n",
       " <faker.providers.address.en_US.Provider at 0x10eb76df0>]"
      ]
     },
     "execution_count": 19,
     "metadata": {},
     "output_type": "execute_result"
    }
   ],
   "source": [
    "fake.providers"
   ]
  },
  {
   "cell_type": "code",
   "execution_count": 17,
   "id": "9cd299c9-8fb9-4f35-8a2a-aaebe80f4c84",
   "metadata": {
    "tags": []
   },
   "outputs": [
    {
     "data": {
      "text/plain": [
       "'USNS Stewart\\nFPO AP 24678'"
      ]
     },
     "execution_count": 17,
     "metadata": {},
     "output_type": "execute_result"
    }
   ],
   "source": [
    "fake."
   ]
  },
  {
   "cell_type": "code",
   "execution_count": null,
   "id": "bcda977c-27fb-4285-a1cd-a079249d3816",
   "metadata": {},
   "outputs": [],
   "source": []
  },
  {
   "cell_type": "code",
   "execution_count": null,
   "id": "15148ece-f84a-4668-9d73-e724a908de09",
   "metadata": {},
   "outputs": [],
   "source": []
  }
 ],
 "metadata": {
  "kernelspec": {
   "display_name": "Python 3 (ipykernel)",
   "language": "python",
   "name": "python3"
  },
  "language_info": {
   "codemirror_mode": {
    "name": "ipython",
    "version": 3
   },
   "file_extension": ".py",
   "mimetype": "text/x-python",
   "name": "python",
   "nbconvert_exporter": "python",
   "pygments_lexer": "ipython3",
   "version": "3.9.16"
  }
 },
 "nbformat": 4,
 "nbformat_minor": 5
}
