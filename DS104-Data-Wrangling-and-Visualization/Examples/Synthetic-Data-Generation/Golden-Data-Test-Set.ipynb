{
 "cells": [
  {
   "cell_type": "markdown",
   "id": "759ef372-390e-4f11-a6e1-be887b42c867",
   "metadata": {},
   "source": [
    "# Human Capital Golden Data Test Set\n",
    "\n",
    "An enduring challenge in the Federal IT ecosystem is testing potential new products with relevant “real-world” data prior to a costly acquisition action without infringing upon numerous security requirements, Privacy Act laws, regulations or policies. Programs have spent significant time and money granting Authority to Operate (ATO) for non-production systems to test de-identified data with a prospective software vendor. A corollary challenge arises when proposing and/or testing interfaces between existing systems that cross Agency or Departmental boundaries.\n",
    "\n",
    "Thus, the transactional purpose of the Golden Data Test Set (GDTS) is to provide a set of realistic, non-PII, fictitious employee profiles and test scenarios to test human resource (HR), time and attendance, and payroll systems for pay calculation accuracy and alignment to pay-impacting standards as published by the Office of Personnel Management (OPM) Human Resources Line-of-Business (HRLoB). The GDTS helps to:\n",
    "\n",
    "- Reduce risk by offering pre-acquisition test data,\n",
    "- Save labor hours in testing,\n",
    "- Alleviate security and privacy concerns in test data, and\n",
    "- Foster a standards-compliant ecosystem that enhances interoperability, accuracy, and efficiency of integration.\n",
    "\n",
    "Note: The GDTS is in the public domain and there are no restrictions on the use of the data test set.\n",
    "\n"
   ]
  },
  {
   "cell_type": "markdown",
   "id": "eb649c8f-a559-404a-b9a6-363520428c0d",
   "metadata": {},
   "source": [
    "|File|Description|\n",
    "|:---|:---:|\n",
    "|[Guide to the Human Capital Golden Data Test Set v1.1](https://ussm.gsa.gov/assets/files/golden-data-test-set/Guide%20to%20the%20Human%20Capital%20Golden%20Test%20Data%20Set%20v1.1.pdf)|Introduction to purpose and use of the data set|\n",
    "|[HR_DATA_PP1_20210131_v1.1.xml](https://ussm.gsa.gov/assets/files/golden-data-test-set/HR_DATA_PP1_20210131_v1.1.xml)|Employee Base Profile and Job Data|\n",
    "|[HR_DATA_PP2_20210221_v1.1.xml](https://ussm.gsa.gov/assets/files/golden-data-test-set/HR_DATA_PP2_20210221_v1.1.xml)|Employee Base Profile and Job Data (mid-period hires)|\n",
    "|[TA_TRANS_PP1_02010213_v1.1.xml](https://ussm.gsa.gov/assets/files/golden-data-test-set/TA_TRANS_PP1_02010213_v1.1.xml)|Time and Attendance Data Pay Period 1|\n",
    "|[TA_TRANS_PP2_02010227_v1.1.xml](https://ussm.gsa.gov/assets/files/golden-data-test-set/TA_TRANS_PP2_02010227_v1.1.xml)|Time and Attendance Data Pay Period 2|\n",
    "|[TA_TRANS_PP3_02010313_v1.1.xml](https://ussm.gsa.gov/assets/files/golden-data-test-set/TA_TRANS_PP3_02010313_v1.1.xml)|Time and Attendance Data Pay Period 3|\n",
    "|[TA_TRANS_PP4_02010327_v1.1.xml](https://ussm.gsa.gov/assets/files/golden-data-test-set/TA_TRANS_PP4_02010327_v1.1.xml)|Time and Attendance Data Pay Period 4|\n",
    "|[TA_TRANS_PP5_02010410_v1.1.xml](https://ussm.gsa.gov/assets/files/golden-data-test-set/TA_TRANS_PP5_02010410_v1.1.xml)|Time and Attendance Data Pay Period 5|\n",
    "|[LES_PP1_v1.1.xml](https://ussm.gsa.gov/assets/files/golden-data-test-set/LES_PP1_v1.1.xml)|Leave Earnings Statement Data Pay Period 1|\n",
    "|[LES_PP2_v1.1.xml](https://ussm.gsa.gov/assets/files/golden-data-test-set/LES_PP2_v1.1.xml)|Leave Earnings Statement Data Pay Period 2|\n",
    "|[LES_PP3_v1.1.xml](https://ussm.gsa.gov/assets/files/golden-data-test-set/LES_PP3_v1.1.xml)|Leave Earnings Statement Data Pay Period 3|\n",
    "|[LES_PP4_v1.1.xml](https://ussm.gsa.gov/assets/files/golden-data-test-set/LES_PP4_v1.1.xml)|Leave Earnings Statement Data Pay Period 4|\n",
    "|[LES_PP5_v1.1.xml](https://ussm.gsa.gov/assets/files/golden-data-test-set/LES_PP5_v1.1.xml)|Leave Earnings Statement Data Pay Period 5|\n",
    "|[HR_TRANS_20210131_v1.1.xml](https://ussm.gsa.gov/assets/files/golden-data-test-set/HR_TRANS_20210131_v1.1.xml)|HR Transaction data (NOAs, etc.) Pay Period 1|\n",
    "|[HR_TRANS_20210214_v1.1.xml](https://ussm.gsa.gov/assets/files/golden-data-test-set/HR_TRANS_20210214_v1.1.xml)|HR Transaction data (NOAs, etc.) Pay Period 2|\n",
    "|[HR_TRANS_20210221_v1.1.xml](https://ussm.gsa.gov/assets/files/golden-data-test-set/HR_TRANS_20210221_v1.1.xml)|HR Transaction data (NOAs, etc.) Pay Period 2|\n",
    "|[HR_TRANS_20210228_v1.1.xml](https://ussm.gsa.gov/assets/files/golden-data-test-set/HR_TRANS_20210228_v1.1.xml)|HR Transaction data (NOAs, etc.) Pay Period 3|\n",
    "|[HR_TRANS_20210301_v1.1.xml](https://ussm.gsa.gov/assets/files/golden-data-test-set/HR_TRANS_20210301_v1.1.xml)|HR Transaction data (NOAs, etc.) Pay Period 3|\n",
    "|[HR_TRANS_20210302_v1.1.xml](https://ussm.gsa.gov/assets/files/golden-data-test-set/HR_TRANS_20210302_v1.1.xml)|HR Transaction data (NOAs, etc.) Pay Period 3|\n",
    "|[HR_TRANS_20210313_v1.1.xml](https://ussm.gsa.gov/assets/files/golden-data-test-set/HR_TRANS_20210313_v1.1.xml)|HR Transaction data (NOAs, etc.) Pay Period 3|\n",
    "|[HR_TRANS_20210314_v1.1.xml](https://ussm.gsa.gov/assets/files/golden-data-test-set/HR_TRANS_20210314_v1.1.xml)|HR Transaction data (NOAs, etc.) Pay Period 4|\n",
    "|[HR_TRANS_20210328_v1.1.xml](https://ussm.gsa.gov/assets/files/golden-data-test-set/HR_TRANS_20210328_v1.1.xml)|HR Transaction data (NOAs, etc.) Pay Period 5|\n",
    "|[HR_TRANS_RETRO_20210214_v1.1.xml](https://ussm.gsa.gov/assets/files/golden-data-test-set/HR_TRANS_RETRO_20210214_v1.1.xml)|HR_TRANS_RETRO_20210214_v1.1|\n",
    "|[Pay_PP4_v1.1.xml](https://ussm.gsa.gov/assets/files/golden-data-test-set/Pay_PP4_v1.1.xml)|Pay_PP4_v1.1|"
   ]
  },
  {
   "cell_type": "code",
   "execution_count": 6,
   "id": "8a1130d7-9218-4900-9188-89ba581314e0",
   "metadata": {
    "tags": []
   },
   "outputs": [
    {
     "data": {
      "text/plain": [
       "['TA_TRANS_PP5_02010410_v1.1.xml',\n",
       " 'HR_TRANS_20210314_v1.1.xml',\n",
       " 'HR_TRANS_RETRO_20210214_v1.1.xml',\n",
       " 'HR_TRANS_20210131_v1.1.xml',\n",
       " 'LES_PP2_v1.1.xml',\n",
       " 'LES_PP3_v1.1.xml',\n",
       " 'HR_TRANS_20210228_v1.1.xml',\n",
       " 'HR_TRANS_20210302_v1.1.xml',\n",
       " 'TA_TRANS_PP2_02010227_v1.1.xml',\n",
       " 'HR_DATA_PP1_20210131_v1.1.xml',\n",
       " 'TA_TRANS_PP1_02010213_v1.1.xml',\n",
       " 'HR_TRANS_20210313_v1.1.xml',\n",
       " 'Guide to the Human Capital Golden Test Data Set v1.1.pdf',\n",
       " 'LES_PP5_v1.1.xml',\n",
       " 'LES_PP4_v1.1.xml',\n",
       " 'HR_TRANS_20210301_v1.1.xml',\n",
       " 'HR_TRANS_20210214_v1.1.xml',\n",
       " 'LES_PP1_v1.1.xml',\n",
       " 'TA_TRANS_PP3_02010313_v1.1.xml',\n",
       " 'HR_TRANS_20210221_v1.1.xml',\n",
       " 'HR_TRANS_20210328_v1.1.xml',\n",
       " 'HR_DATA_PP2_20210221_v1.1.xml',\n",
       " 'TA_TRANS_PP4_02010327_v1.1.xml',\n",
       " 'Pay_PP4_v1.1.xml']"
      ]
     },
     "execution_count": 6,
     "metadata": {},
     "output_type": "execute_result"
    }
   ],
   "source": [
    "# If the below publicly available datasets aren't available, \n",
    "# we've backed them up here in this folder '../../Data/GDTS-Data' folder\n",
    "import os\n",
    "\n",
    "folder_path = '../../Data/GDTS-Data' # \n",
    "files = os.listdir(folder_path)\n",
    "files"
   ]
  },
  {
   "cell_type": "markdown",
   "id": "4937cb42-5ce6-4c3e-901d-a805ffc3b2ba",
   "metadata": {},
   "source": [
    "## Purpose\n",
    "\n",
    "An enduring challenge in the Federal IT ecosystem is testing potential new products with\n",
    "relevant real-world data prior to a costly acquisition action without infringing upon numerous\n",
    "security requirements, Privacy Act laws, regulations or policies. Programs have spent significant\n",
    "amounts of time and money granting Authority to Operate (ATO) for non-production systems to\n",
    "test de-identified data with a prospective software vendor. A corollary challenge arises when\n",
    "proposing and/or testing interfaces between existing systems that cross agency or departmental\n",
    "boundaries.\n",
    "Thus, the transactional purpose of the Golden Data Test Set (GDTS) is to provide:\n",
    "1. a set of realistic, non-personally identifiable Information (PII) of fictitious employee profiles and, test scenarios (aka: synthetic data) to test:\n",
    " - human resources (HR), \n",
    " - time and attendance, and \n",
    " - payroll systems\n",
    "\n",
    "for pay calculation accuracy and alignment to pay-impacting standards as published by\n",
    "the Office of Personnel Management (OPM) Human Resources Line-of-Business (HRLOB). \n",
    "\n",
    "The GDTS helps to:\n",
    "- Reduce risk by offering pre-acquisition test data,\n",
    "- Save labor hours in testing,\n",
    "- Alleviate security and privacy concerns in test data, and\n",
    "- Foster a standards-compliant ecosystem that enhances interoperability, accuracy, and efficiency of integration."
   ]
  },
  {
   "cell_type": "markdown",
   "id": "4f4f0b9b-e8d7-4dd5-8572-18b814abd9dc",
   "metadata": {},
   "source": [
    "## Profiles\n",
    "\n",
    "The GDTS is currently focused on federal payroll data. The data presented reflect a simple,\n",
    "fictitious and agency-agnostic federal organization populated with 65 employees occupying\n",
    "various positions and duty stations throughout the continental United States. The 65 profiles\n",
    "presented are compliant with the message and domain-value specifications in the Human\n",
    "Capital Information Model (HCIM) data standards. If a system can transact payroll with the\n",
    "GDTS, the system demonstrates that it is compatible with the standards for pay plans and\n",
    "scenarios included in the GDTS.\n",
    "\n",
    "The GDTS includes employees with 12 different Title 5 (5 CFR) federal pay plans. All\n",
    "employees report to one supervisor in one organization, though they are geographically\n",
    "distributed to test the calculation of locality pay. The accompanying narratives detail each\n",
    "individual employee with sufficient demographic and job-related information to accurately\n",
    "calculate federal payroll and generate a Leave-Earnings Statement (LES). The narratives also\n",
    "contain pay-impacting HR and time and attendance related transactions or scenarios for many\n",
    "of the employees. Refer to Appendix B for the narratives."
   ]
  },
  {
   "cell_type": "markdown",
   "id": "e58dad73-8491-4757-8ff3-cf0c0ef8681f",
   "metadata": {},
   "source": [
    "From the description above, GDTS (Golden Data Test Set) is a structured dataset of fictitious federal employees with various attributes that comply with HCIM (Human Capital Information Model) data standards. Given that this information is already structured, we can definitely utilize this data to create a larger synthetic dataset.\n",
    "\n",
    "Faker might not be the most suitable tool for this purpose, there are other libraries that can help create larger, randomized synthetic datasets based on existing structured data. Here's a brief look at how you could use the Synthetic Data Vault (SDV), a Python library designed for this task:\n",
    "\n",
    "__Transform your data into a Pandas DataFrame:__ First, our data needs to be in a format that SDV can use. Pandas DataFrame is typically the standard. Each column would represent an attribute of an employee (e.g., job role, demographic information, supervisor, etc.).\n",
    "\n",
    "Next, __Analyze and understand the statistical properties of the data:__ Before generating synthetic data, it's important to understand the statistical properties of the current data. This might include the distributions of numerical/categorical data, the correlation between different attributes, etc. we may be able to get this from OPM.\n",
    "\n",
    "\n",
    "- Federal Employment Reports: The OPM produces annual reports that include data on federal employment, including occupations, pay grades, length of service, education levels, and more. You can find these reports on the OPM website.\n",
    "\n",
    "- FedScope: FedScope is a data cube that the OPM maintains. It contains various data about federal civilian employment, and you can use it to create custom tables and charts or to download raw data for your own analyses.\n",
    "\n",
    "__Use SDV to generate synthetic data:__ Here's an example code snippet we can start with:\n"
   ]
  },
  {
   "cell_type": "code",
   "execution_count": null,
   "id": "ed723630-bb5b-49ca-9651-4850d20f8cc9",
   "metadata": {},
   "outputs": [],
   "source": [
    "from sdv.tabular import CopulaGAN\n",
    "from pandas import DataFrame\n",
    "\n",
    "# Assuming `df` is your DataFrame with 65 employees data\n",
    "model = CopulaGAN()\n",
    "model.fit(df)\n",
    "\n",
    "# To create a new synthetic dataset of 1000 federal employees\n",
    "synthetic_data = model.sample(1000)\n"
   ]
  },
  {
   "cell_type": "markdown",
   "id": "8f0e3380-c541-44dd-b302-dac9577c44ac",
   "metadata": {},
   "source": [
    "__Apply post-processing as needed:__ You might need to apply some post-processing to ensure that the data makes sense. For instance, ensuring that job roles match the expected job codes or that locality pay is correctly calculated based on geographic distribution.\n",
    "Remember, SDV attempts to mimic the statistical properties of the data it's trained on. Therefore, the quality of your synthetic data will heavily depend on the representativeness and quality of your original dataset. Also, ensure that you handle this synthetic data with care, respecting all relevant data protection laws and ethical guidelines."
   ]
  },
  {
   "cell_type": "code",
   "execution_count": null,
   "id": "20099e80-d38f-4014-bca5-076341896776",
   "metadata": {},
   "outputs": [],
   "source": []
  }
 ],
 "metadata": {
  "kernelspec": {
   "display_name": "Python 3.11",
   "language": "python",
   "name": "mykernel"
  },
  "language_info": {
   "codemirror_mode": {
    "name": "ipython",
    "version": 3
   },
   "file_extension": ".py",
   "mimetype": "text/x-python",
   "name": "python",
   "nbconvert_exporter": "python",
   "pygments_lexer": "ipython3",
   "version": "3.11.3"
  }
 },
 "nbformat": 4,
 "nbformat_minor": 5
}
