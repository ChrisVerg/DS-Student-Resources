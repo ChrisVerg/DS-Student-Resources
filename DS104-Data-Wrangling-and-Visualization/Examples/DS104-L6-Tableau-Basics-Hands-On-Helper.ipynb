{
 "cells": [
  {
   "cell_type": "markdown",
   "id": "2f492268-07df-42bd-aef8-cd80b86284ae",
   "metadata": {},
   "source": [
    "# Tableau Basics \n",
    "\n",
    "### Lesson 6 Hands-on-Helper"
   ]
  },
  {
   "cell_type": "markdown",
   "id": "7e498225-f073-42f7-bb25-45de24772b3e",
   "metadata": {},
   "source": [
    "<p style=\"text-align: left\">\n",
    "  <img  src=\"../Media/TableauPic.jpg\" width=\"700\" alt=\"Video Games\">\n",
    "</p>"
   ]
  },
  {
   "cell_type": "markdown",
   "id": "fc31fd4a-05d5-41f8-a1b0-3e9e5115de3d",
   "metadata": {},
   "source": [
    "Here are some helpful tips in your exploration to use visualization techniques to build worksheets in Tableau!\n",
    "\n",
    "Know your data!\n",
    "\n",
    "Explore what the data looks like. Review the information on the data pane and think about your analysis question. What are you trying to convey to your audience? What story do you want to tell with your data?\n",
    "\n",
    "Below are three helpful videos to help you build simple worksheets and dashboards in Tableau!"
   ]
  },
  {
   "cell_type": "code",
   "execution_count": 2,
   "id": "105739a3-2d3e-434a-8052-810f4ae7f5d5",
   "metadata": {},
   "outputs": [
    {
     "data": {
      "text/html": [
       "\n",
       "        <iframe\n",
       "            width=\"720\"\n",
       "            height=\"480\"\n",
       "            src=\"https://player.vimeo.com/video/723893045\"\n",
       "            frameborder=\"0\"\n",
       "            allowfullscreen\n",
       "            \n",
       "        ></iframe>\n",
       "        "
      ],
      "text/plain": [
       "<IPython.lib.display.VimeoVideo at 0x2700f624cd0>"
      ]
     },
     "execution_count": 2,
     "metadata": {},
     "output_type": "execute_result"
    }
   ],
   "source": [
    "from IPython.display import VimeoVideo\n",
    "# How to build a worksheet\n",
    "VimeoVideo('723893045', width=720, height=480)"
   ]
  },
  {
   "cell_type": "markdown",
   "id": "cd31a0df-9317-49e8-aeeb-7b348982b588",
   "metadata": {},
   "source": [
    "https://vimeo.com/723893045"
   ]
  },
  {
   "cell_type": "code",
   "execution_count": 3,
   "id": "781129f1-8045-40e1-a76f-78617d37b522",
   "metadata": {},
   "outputs": [
    {
     "data": {
      "text/html": [
       "\n",
       "        <iframe\n",
       "            width=\"720\"\n",
       "            height=\"480\"\n",
       "            src=\"https://player.vimeo.com/video/723892071\"\n",
       "            frameborder=\"0\"\n",
       "            allowfullscreen\n",
       "            \n",
       "        ></iframe>\n",
       "        "
      ],
      "text/plain": [
       "<IPython.lib.display.VimeoVideo at 0x2700f634610>"
      ]
     },
     "execution_count": 3,
     "metadata": {},
     "output_type": "execute_result"
    }
   ],
   "source": [
    "from IPython.display import VimeoVideo\n",
    "# How to build a worksheet\n",
    "VimeoVideo('723892071', width=720, height=480)"
   ]
  },
  {
   "cell_type": "markdown",
   "id": "988592cf-b415-4b00-a7b5-be8ed7369937",
   "metadata": {},
   "source": [
    "https://vimeo.com/723892071"
   ]
  },
  {
   "cell_type": "code",
   "execution_count": 9,
   "id": "28427e2d-5e0d-412b-9f52-8e5a7b47dc9f",
   "metadata": {},
   "outputs": [
    {
     "data": {
      "text/html": [
       "\n",
       "        <iframe\n",
       "            width=\"720\"\n",
       "            height=\"480\"\n",
       "            src=\"https://player.vimeo.com/video/725443009\"\n",
       "            frameborder=\"0\"\n",
       "            allowfullscreen\n",
       "            \n",
       "        ></iframe>\n",
       "        "
      ],
      "text/plain": [
       "<IPython.lib.display.VimeoVideo at 0x2700f6349d0>"
      ]
     },
     "execution_count": 9,
     "metadata": {},
     "output_type": "execute_result"
    }
   ],
   "source": [
    "from IPython.display import VimeoVideo\n",
    "# creating a scatterplot\n",
    "VimeoVideo('725443009', width=720, height=480)"
   ]
  },
  {
   "cell_type": "markdown",
   "id": "928b49ff-36e8-4268-b113-06e385e46f80",
   "metadata": {},
   "source": [
    "https://vimeo.com/725443009"
   ]
  },
  {
   "cell_type": "markdown",
   "id": "4f5f2ad8-7e9b-4d2c-9283-7522cb52879e",
   "metadata": {},
   "source": [
    "### Lesson 6 review\n",
    "\n",
    "You're preparing for a pitch on how the company can best improve their sales, so please create all your visuals in Tableau and feed them into a gorgeous slide slow presentation! Your presentation must describe:\n",
    "\n",
    "-How video game sales have been trending over time\n",
    "\n",
    "-The most popular genre of video game\n",
    "\n",
    "-A comparison of video game platforms by genre\n",
    "\n",
    "-A visual looking at only games by Nintendo"
   ]
  },
  {
   "cell_type": "markdown",
   "id": "c8693bd4-7cc9-4f5c-8f38-0c249bdf5aab",
   "metadata": {},
   "source": [
    "<p style=\"text-align: left\">\n",
    "  <img  src=\"../Media/VideoGame.jpg\" width=\"500\" alt=\"Video Games\">\n",
    "</p>"
   ]
  },
  {
   "cell_type": "markdown",
   "id": "422fd31e-cdf4-459c-b8e9-c76857480896",
   "metadata": {},
   "source": [
    "#### How can you apply the charts above to your video game analysis?"
   ]
  },
  {
   "cell_type": "code",
   "execution_count": null,
   "id": "3207dd7d-e469-4c43-a3dd-2f29aad98fdd",
   "metadata": {},
   "outputs": [],
   "source": []
  }
 ],
 "metadata": {
  "kernelspec": {
   "display_name": "Python 3 (ipykernel)",
   "language": "python",
   "name": "python3"
  },
  "language_info": {
   "codemirror_mode": {
    "name": "ipython",
    "version": 3
   },
   "file_extension": ".py",
   "mimetype": "text/x-python",
   "name": "python",
   "nbconvert_exporter": "python",
   "pygments_lexer": "ipython3",
   "version": "3.9.0"
  }
 },
 "nbformat": 4,
 "nbformat_minor": 5
}
