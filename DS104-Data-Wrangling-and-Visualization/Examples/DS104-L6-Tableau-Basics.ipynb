{
 "cells": [
  {
   "cell_type": "markdown",
   "id": "2f492268-07df-42bd-aef8-cd80b86284ae",
   "metadata": {},
   "source": [
    "# Tableau Basics"
   ]
  },
  {
   "cell_type": "code",
   "execution_count": 1,
   "id": "105739a3-2d3e-434a-8052-810f4ae7f5d5",
   "metadata": {},
   "outputs": [
    {
     "data": {
      "text/html": [
       "\n",
       "        <iframe\n",
       "            width=\"720\"\n",
       "            height=\"480\"\n",
       "            src=\"https://player.vimeo.com/video/723893045\"\n",
       "            frameborder=\"0\"\n",
       "            allowfullscreen\n",
       "            \n",
       "        ></iframe>\n",
       "        "
      ],
      "text/plain": [
       "<IPython.lib.display.VimeoVideo at 0x1d6fdf790>"
      ]
     },
     "execution_count": 1,
     "metadata": {},
     "output_type": "execute_result"
    }
   ],
   "source": [
    "from IPython.display import VimeoVideo\n",
    "# How to build a worksheet\n",
    "VimeoVideo('723893045', width=720, height=480)"
   ]
  },
  {
   "cell_type": "markdown",
   "id": "cd31a0df-9317-49e8-aeeb-7b348982b588",
   "metadata": {},
   "source": [
    "https://vimeo.com/723893045"
   ]
  },
  {
   "cell_type": "code",
   "execution_count": 3,
   "id": "781129f1-8045-40e1-a76f-78617d37b522",
   "metadata": {},
   "outputs": [
    {
     "data": {
      "text/html": [
       "\n",
       "        <iframe\n",
       "            width=\"720\"\n",
       "            height=\"480\"\n",
       "            src=\"https://player.vimeo.com/video/723892071\"\n",
       "            frameborder=\"0\"\n",
       "            allowfullscreen\n",
       "            \n",
       "        ></iframe>\n",
       "        "
      ],
      "text/plain": [
       "<IPython.lib.display.VimeoVideo at 0x1d6fdfb80>"
      ]
     },
     "execution_count": 3,
     "metadata": {},
     "output_type": "execute_result"
    }
   ],
   "source": [
    "from IPython.display import VimeoVideo\n",
    "# How to build a worksheet\n",
    "VimeoVideo('723892071', width=720, height=480)"
   ]
  },
  {
   "cell_type": "markdown",
   "id": "988592cf-b415-4b00-a7b5-be8ed7369937",
   "metadata": {},
   "source": [
    "https://vimeo.com/723892071"
   ]
  },
  {
   "cell_type": "code",
   "execution_count": null,
   "id": "94459793-b3fb-49c1-84f1-ecc353529847",
   "metadata": {},
   "outputs": [],
   "source": []
  }
 ],
 "metadata": {
  "kernelspec": {
   "display_name": "Python 3 (ipykernel)",
   "language": "python",
   "name": "python3"
  },
  "language_info": {
   "codemirror_mode": {
    "name": "ipython",
    "version": 3
   },
   "file_extension": ".py",
   "mimetype": "text/x-python",
   "name": "python",
   "nbconvert_exporter": "python",
   "pygments_lexer": "ipython3",
   "version": "3.9.13"
  }
 },
 "nbformat": 4,
 "nbformat_minor": 5
}
