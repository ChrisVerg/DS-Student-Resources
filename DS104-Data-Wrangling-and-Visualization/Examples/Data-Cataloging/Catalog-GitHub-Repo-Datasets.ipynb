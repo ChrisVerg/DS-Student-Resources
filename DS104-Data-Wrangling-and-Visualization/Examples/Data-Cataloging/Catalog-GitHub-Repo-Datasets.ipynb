{
 "cells": [
  {
   "cell_type": "code",
   "execution_count": null,
   "id": "eeb90f1c-62bb-4e26-9ba4-49471b8d7e10",
   "metadata": {
    "tags": []
   },
   "outputs": [],
   "source": [
    "import requests\n",
    "import csv\n",
    "\n",
    "def get_repository_contents(owner, repo):\n",
    "    url = f'https://api.github.com/repos/{owner}/{repo}/contents'\n",
    "    response = requests.get(url)\n",
    "    return response.json()\n",
    "\n",
    "def collect_datasets(contents, dataset_dirs, extensions):\n",
    "    datasets = []\n",
    "    for item in contents:\n",
    "        if item['type'] == 'dir' and item['name'].lower() in dataset_dirs:\n",
    "            subdir_contents = get_repository_contents(owner, repo, item['path'])\n",
    "            datasets.extend(collect_datasets(subdir_contents, dataset_dirs, extensions))\n",
    "        elif item['type'] == 'file' and item['name'].lower().endswith(tuple(extensions)):\n",
    "            dataset = {\n",
    "                'filename': item['name'],\n",
    "                'url': item['url'],\n",
    "                'size': item['size'],\n",
    "                'created_at': item['created_at'],\n",
    "                'updated_at': item['updated_at']\n",
    "            }\n",
    "            datasets.append(dataset)\n",
    "    return datasets\n",
    "\n",
    "# define the GitHub repository owner and name\n",
    "owner = 'username'\n",
    "repo = 'repository-name'\n",
    "\n",
    "# define the directories that may contain datasets\n",
    "dataset_dirs = ['data', 'dataset', 'datasets', 'csv', 'json', 'txt']\n",
    "\n",
    "# define the file extensions to include\n",
    "extensions = ['.csv', '.json', '.txt']\n",
    "\n",
    "# get the contents of the repository\n",
    "contents = get_repository_contents(owner, repo)\n",
    "\n",
    "# collect all datasets\n",
    "datasets = collect_datasets(contents, dataset_dirs, extensions)\n",
    "\n",
    "# log the dataset metadata to a CSV file\n",
    "with open('datasets.csv', mode='w') as file:\n",
    "    writer = csv.DictWriter(file, fieldnames=['filename', 'url', 'size', 'created_at', 'updated_at'])\n",
    "    writer.writeheader()\n",
    "    for dataset in datasets:\n",
    "        writer.writerow(dataset)\n"
   ]
  },
  {
   "cell_type": "code",
   "execution_count": null,
   "id": "efae3512-5c49-43a0-9706-0ff61842148a",
   "metadata": {},
   "outputs": [],
   "source": []
  }
 ],
 "metadata": {
  "kernelspec": {
   "display_name": "Python 3 (ipykernel)",
   "language": "python",
   "name": "python3"
  },
  "language_info": {
   "codemirror_mode": {
    "name": "ipython",
    "version": 3
   },
   "file_extension": ".py",
   "mimetype": "text/x-python",
   "name": "python",
   "nbconvert_exporter": "python",
   "pygments_lexer": "ipython3",
   "version": "3.9.16"
  }
 },
 "nbformat": 4,
 "nbformat_minor": 5
}
