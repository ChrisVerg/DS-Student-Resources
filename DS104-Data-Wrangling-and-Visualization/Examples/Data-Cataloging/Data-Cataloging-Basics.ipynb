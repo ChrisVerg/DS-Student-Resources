{
 "cells": [
  {
   "cell_type": "markdown",
   "id": "77e278a1-30a8-4b8c-848a-732b58ed8a4f",
   "metadata": {
    "tags": []
   },
   "source": [
    "# Data Cataloging Basics"
   ]
  },
  {
   "cell_type": "markdown",
   "id": "46d78cbe-4ab0-46b7-9eab-1b5be8fecb95",
   "metadata": {},
   "source": [
    "## What is a data catalog?\n",
    "A data catalog is a centralized repository that stores, organizes, and manages metadata about an organization's datasets and data assets. It enables users to easily discover, understand, and access the available data by providing structured information about the datasets, such as their descriptions, formats, sources, usage policies, and relationships with other datasets.\n",
    "\n",
    "The primary purpose of a data catalog is to help data users, such as analysts, data scientists, and decision-makers, find relevant data quickly and efficiently. A data catalog often includes search and discovery features, allowing users to search for datasets based on keywords, tags, or other criteria. It may also provide data lineage and data profiling information, helping users assess the quality and suitability of the data for their specific use cases.\n",
    "\n",
    "Data catalogs can be created and maintained manually, but many organizations use data catalog tools or platforms to automate the process of cataloging data and managing metadata. These tools often provide additional features, such as data lineage visualization, data quality management, and integration with data processing and analytics tools.\n",
    "\n",
    "In summary, a data catalog is a centralized repository for managing metadata about an organization's datasets and data assets, enabling users to discover, understand, and access relevant data more efficiently."
   ]
  },
  {
   "cell_type": "markdown",
   "id": "729fc628-eff3-4aab-baf5-b093f33260f3",
   "metadata": {},
   "source": [
    "## What is data.gov? Is it based on CKAN.org?\n",
    "\n",
    "Data.gov, the U.S. federal government's open data portal, is indeed based on CKAN. However, there is no single specific format or metadata standard that all government agencies must adopt for their own data catalogs. The choice of format or standard depends on the agency's requirements, the types of data they manage, and their interoperability needs.\n",
    "\n",
    "That said, some metadata standards and guidelines are widely adopted by government agencies, including:\n",
    "\n",
    "Project Open Data Metadata Schema (DCAT-US): DCAT-US is a profile of the Data Catalog Vocabulary (DCAT), specifically designed for U.S. federal government datasets. It is an extension of the W3C's DCAT standard and includes additional metadata elements tailored to the needs of U.S. federal agencies. Data.gov uses the DCAT-US schema to harvest metadata from various agency data catalogs. More information can be found at https://project-open-data.cio.gov/v1.1/schema/.\n",
    "\n",
    "Dublin Core: As mentioned earlier, Dublin Core is a simple and widely-used metadata standard that is suitable for various types of digital resources, including datasets. CKAN, the platform behind Data.gov, uses a built-in metadata schema based on Dublin Core.\n",
    "\n",
    "ISO 19115: For geospatial data, many government agencies adopt the ISO 19115 standard, which provides a comprehensive metadata schema for describing geographic information and services.\n",
    "\n",
    "While these metadata standards and guidelines are widely used, each government agency may have its own requirements and preferences for data cataloging. In practice, government agencies often develop their data catalogs based on a combination of existing metadata standards, guidelines, and custom extensions tailored to their specific needs.\n",
    "\n",
    "In conclusion, there is no one-size-fits-all metadata standard for government agencies' data catalogs. Each agency should choose a format or standard that aligns with their requirements, the types of data they manage, and their interoperability needs with other agencies or data consumers."
   ]
  },
  {
   "cell_type": "markdown",
   "id": "1f34a8bd-9f3c-4400-b658-427ef10aca7c",
   "metadata": {},
   "source": [
    "## What is CKAN?\n",
    "\n",
    "CKAN (Comprehensive Knowledge Archive Network) is an open-source data management system that provides a platform for publishing, sharing, and finding datasets. It is designed to help organizations create and maintain data portals, data catalogs, or data hubs that make their datasets easily discoverable, accessible, and usable by both internal and external users.\n",
    "\n",
    "CKAN is widely used by governments, research institutions, non-profit organizations, and other entities to create public or private data portals. Some of its key features include:\n",
    "\n",
    "Data organization: CKAN allows users to organize datasets into groups and collections, making it easier for users to discover and navigate related datasets.\n",
    "\n",
    "Metadata management: CKAN supports built-in metadata schema based on Dublin Core and enables users to extend the schema with custom fields, allowing organizations to incorporate additional metadata elements specific to their domain or requirements.\n",
    "\n",
    "Data preview and visualization: CKAN provides built-in data preview functionality, enabling users to view and interact with data directly in the browser without downloading the entire dataset.\n",
    "\n",
    "Data storage and API access: CKAN can store datasets directly in its file storage system or integrate with external storage solutions. It also provides a RESTful API that enables programmatic access to datasets and metadata.\n",
    "\n",
    "User management and access control: CKAN supports user authentication, role-based access control, and customizable permission levels, allowing organizations to control access to their datasets and resources.\n",
    "\n",
    "Extensibility and customization: CKAN is designed to be easily extended and customized through plugins and themes, making it adaptable to a wide range of use cases and requirements.\n",
    "\n",
    "In summary, CKAN is an open-source data management system that helps organizations create data portals, catalogs, or hubs for publishing, sharing, and discovering datasets. It offers various features for data organization, metadata management, data preview, API access, and user management, making it a versatile and widely-used solution for data management."
   ]
  },
  {
   "cell_type": "markdown",
   "id": "915edf87-bf84-4289-8290-687f1fb35175",
   "metadata": {},
   "source": [
    "## Let's access data.gov using ckanapi"
   ]
  },
  {
   "cell_type": "markdown",
   "id": "d5dbebad-e7a5-4bff-b590-a9b7d2ea2778",
   "metadata": {},
   "source": [
    "First, you need to install the ckanapi library if you haven't already. You can do this by running the following command in your terminal or in a Jupyter Notebook cell:"
   ]
  },
  {
   "cell_type": "code",
   "execution_count": 11,
   "id": "37a94975-77a4-4589-b6db-c57834582d82",
   "metadata": {
    "tags": []
   },
   "outputs": [],
   "source": [
    "#pip install ckanapi\n"
   ]
  },
  {
   "cell_type": "markdown",
   "id": "21b029ce-a2fc-4c3b-a2dd-449b4259f190",
   "metadata": {},
   "source": [
    "Now, you can create a new Jupyter Notebook and add the following code in separate cells:\n",
    "\n",
    "Import the required libraries:"
   ]
  },
  {
   "cell_type": "code",
   "execution_count": 1,
   "id": "b3761a05-560d-4aff-a90b-d6681974986d",
   "metadata": {
    "tags": []
   },
   "outputs": [],
   "source": [
    "import pandas as pd\n",
    "from ckanapi import RemoteCKAN"
   ]
  },
  {
   "cell_type": "markdown",
   "id": "c31cfab7-b71a-4b3f-8d92-e6ffd5bff8fd",
   "metadata": {},
   "source": [
    "Connect to a CKAN instance (we'll use the Data.gov instance as an example):"
   ]
  },
  {
   "cell_type": "code",
   "execution_count": 2,
   "id": "b8dac0ad-cfa9-4864-8f4c-d5cbbef9cd3a",
   "metadata": {
    "tags": []
   },
   "outputs": [],
   "source": [
    "ckan = RemoteCKAN('https://catalog.data.gov', user_agent='ckanapi-example/1.0')"
   ]
  },
  {
   "cell_type": "markdown",
   "id": "3ab49a29-6e4d-4b86-841c-80da6f4ef615",
   "metadata": {},
   "source": [
    "Retrieve a list of datasets (we'll limit the results to 10 for this example):"
   ]
  },
  {
   "cell_type": "code",
   "execution_count": 3,
   "id": "7b38f9a1-46a4-468f-9192-de1c20c9cf11",
   "metadata": {
    "tags": []
   },
   "outputs": [],
   "source": [
    "result = ckan.action.package_search(rows=100)\n",
    "packages = result['results']"
   ]
  },
  {
   "cell_type": "markdown",
   "id": "f3191e38-d3d4-4317-9d74-5fe1ddede63c",
   "metadata": {},
   "source": [
    "Extract relevant information from the retrieved datasets and display it in a pandas DataFrame:"
   ]
  },
  {
   "cell_type": "code",
   "execution_count": 4,
   "id": "3d35a70e-33bf-491b-ab0e-04dba79eef88",
   "metadata": {
    "tags": []
   },
   "outputs": [
    {
     "data": {
      "text/html": [
       "<div>\n",
       "<style scoped>\n",
       "    .dataframe tbody tr th:only-of-type {\n",
       "        vertical-align: middle;\n",
       "    }\n",
       "\n",
       "    .dataframe tbody tr th {\n",
       "        vertical-align: top;\n",
       "    }\n",
       "\n",
       "    .dataframe thead th {\n",
       "        text-align: right;\n",
       "    }\n",
       "</style>\n",
       "<table border=\"1\" class=\"dataframe\">\n",
       "  <thead>\n",
       "    <tr style=\"text-align: right;\">\n",
       "      <th></th>\n",
       "      <th>name</th>\n",
       "      <th>title</th>\n",
       "      <th>organization</th>\n",
       "      <th>url</th>\n",
       "      <th>last_modified</th>\n",
       "    </tr>\n",
       "  </thead>\n",
       "  <tbody>\n",
       "    <tr>\n",
       "      <th>0</th>\n",
       "      <td>fdic-failed-bank-list</td>\n",
       "      <td>FDIC Failed Bank List</td>\n",
       "      <td>Federal Deposit Insurance Corporation</td>\n",
       "      <td>None</td>\n",
       "      <td>2020-11-12T12:17:38.682707</td>\n",
       "    </tr>\n",
       "    <tr>\n",
       "      <th>1</th>\n",
       "      <td>electric-vehicle-population-data</td>\n",
       "      <td>Electric Vehicle Population Data</td>\n",
       "      <td>State of Washington</td>\n",
       "      <td>None</td>\n",
       "      <td>2023-03-18T10:13:50.819699</td>\n",
       "    </tr>\n",
       "    <tr>\n",
       "      <th>2</th>\n",
       "      <td>crime-data-from-2020-to-present</td>\n",
       "      <td>Crime Data from 2020 to Present</td>\n",
       "      <td>City of Los Angeles</td>\n",
       "      <td>None</td>\n",
       "      <td>2023-03-25T01:47:39.336907</td>\n",
       "    </tr>\n",
       "    <tr>\n",
       "      <th>3</th>\n",
       "      <td>national-student-loan-data-system</td>\n",
       "      <td>National Student Loan Data System</td>\n",
       "      <td>Department of Education</td>\n",
       "      <td>None</td>\n",
       "      <td>2020-11-10T16:22:35.428085</td>\n",
       "    </tr>\n",
       "    <tr>\n",
       "      <th>4</th>\n",
       "      <td>u-s-chronic-disease-indicators-cdi</td>\n",
       "      <td>U.S. Chronic Disease Indicators (CDI)</td>\n",
       "      <td>U.S. Department of Health &amp; Human Services</td>\n",
       "      <td>None</td>\n",
       "      <td>2023-02-02T04:02:55.398724</td>\n",
       "    </tr>\n",
       "    <tr>\n",
       "      <th>...</th>\n",
       "      <td>...</td>\n",
       "      <td>...</td>\n",
       "      <td>...</td>\n",
       "      <td>...</td>\n",
       "      <td>...</td>\n",
       "    </tr>\n",
       "    <tr>\n",
       "      <th>95</th>\n",
       "      <td>retail-food-stores</td>\n",
       "      <td>Retail Food Stores</td>\n",
       "      <td>State of New York</td>\n",
       "      <td>None</td>\n",
       "      <td>2023-02-24T01:40:52.620213</td>\n",
       "    </tr>\n",
       "    <tr>\n",
       "      <th>96</th>\n",
       "      <td>employee-payroll</td>\n",
       "      <td>Employee Payroll</td>\n",
       "      <td>Cook County of Illinois</td>\n",
       "      <td>None</td>\n",
       "      <td>2022-06-30T01:53:51.085238</td>\n",
       "    </tr>\n",
       "    <tr>\n",
       "      <th>97</th>\n",
       "      <td>food-security-in-the-united-states</td>\n",
       "      <td>Food Security in the United States</td>\n",
       "      <td>Department of Agriculture</td>\n",
       "      <td>None</td>\n",
       "      <td>2021-02-24T15:37:03.956952</td>\n",
       "    </tr>\n",
       "    <tr>\n",
       "      <th>98</th>\n",
       "      <td>safer-company-snapshot</td>\n",
       "      <td>SAFER - Company Snapshot</td>\n",
       "      <td>Department of Transportation</td>\n",
       "      <td>None</td>\n",
       "      <td>2021-04-25T14:00:08.755889</td>\n",
       "    </tr>\n",
       "    <tr>\n",
       "      <th>99</th>\n",
       "      <td>real-estate-across-the-united-states-rexus-inv...</td>\n",
       "      <td>Real Estate Across the United States (REXUS) I...</td>\n",
       "      <td>General Services Administration</td>\n",
       "      <td>None</td>\n",
       "      <td>2023-03-02T20:20:56.137055</td>\n",
       "    </tr>\n",
       "  </tbody>\n",
       "</table>\n",
       "<p>100 rows × 5 columns</p>\n",
       "</div>"
      ],
      "text/plain": [
       "                                                 name  \\\n",
       "0                               fdic-failed-bank-list   \n",
       "1                    electric-vehicle-population-data   \n",
       "2                     crime-data-from-2020-to-present   \n",
       "3                   national-student-loan-data-system   \n",
       "4                  u-s-chronic-disease-indicators-cdi   \n",
       "..                                                ...   \n",
       "95                                 retail-food-stores   \n",
       "96                                   employee-payroll   \n",
       "97                 food-security-in-the-united-states   \n",
       "98                             safer-company-snapshot   \n",
       "99  real-estate-across-the-united-states-rexus-inv...   \n",
       "\n",
       "                                                title  \\\n",
       "0                               FDIC Failed Bank List   \n",
       "1                    Electric Vehicle Population Data   \n",
       "2                     Crime Data from 2020 to Present   \n",
       "3                   National Student Loan Data System   \n",
       "4               U.S. Chronic Disease Indicators (CDI)   \n",
       "..                                                ...   \n",
       "95                                 Retail Food Stores   \n",
       "96                                   Employee Payroll   \n",
       "97                 Food Security in the United States   \n",
       "98                           SAFER - Company Snapshot   \n",
       "99  Real Estate Across the United States (REXUS) I...   \n",
       "\n",
       "                                  organization   url  \\\n",
       "0        Federal Deposit Insurance Corporation  None   \n",
       "1                          State of Washington  None   \n",
       "2                          City of Los Angeles  None   \n",
       "3                      Department of Education  None   \n",
       "4   U.S. Department of Health & Human Services  None   \n",
       "..                                         ...   ...   \n",
       "95                           State of New York  None   \n",
       "96                     Cook County of Illinois  None   \n",
       "97                   Department of Agriculture  None   \n",
       "98                Department of Transportation  None   \n",
       "99             General Services Administration  None   \n",
       "\n",
       "                 last_modified  \n",
       "0   2020-11-12T12:17:38.682707  \n",
       "1   2023-03-18T10:13:50.819699  \n",
       "2   2023-03-25T01:47:39.336907  \n",
       "3   2020-11-10T16:22:35.428085  \n",
       "4   2023-02-02T04:02:55.398724  \n",
       "..                         ...  \n",
       "95  2023-02-24T01:40:52.620213  \n",
       "96  2022-06-30T01:53:51.085238  \n",
       "97  2021-02-24T15:37:03.956952  \n",
       "98  2021-04-25T14:00:08.755889  \n",
       "99  2023-03-02T20:20:56.137055  \n",
       "\n",
       "[100 rows x 5 columns]"
      ]
     },
     "execution_count": 4,
     "metadata": {},
     "output_type": "execute_result"
    }
   ],
   "source": [
    "data = []\n",
    "\n",
    "for package in packages:\n",
    "    data.append({\n",
    "        'name': package['name'],\n",
    "        'title': package['title'],\n",
    "        'organization': package['organization']['title'],\n",
    "        'url': package['url'],\n",
    "        'last_modified': package['metadata_modified']\n",
    "    })\n",
    "\n",
    "df = pd.DataFrame(data)\n",
    "df"
   ]
  },
  {
   "cell_type": "markdown",
   "id": "c1b4a139-baec-4ebf-81d7-20c674934353",
   "metadata": {},
   "source": [
    "This example demonstrates a simple use case of interacting with a CKAN instance using the ckanapi library in a Jupyter Notebook. You can extend this example by exploring other actions provided by the CKAN API, such as searching for datasets based on specific criteria, retrieving dataset metadata, or uploading new datasets. For more information on the available API actions, refer to the CKAN API documentation: https://docs.ckan.org/en/2.10/api/index.html"
   ]
  },
  {
   "cell_type": "code",
   "execution_count": 14,
   "id": "6f7b73e5-9bde-4209-b39a-7e55bbf389c8",
   "metadata": {
    "tags": []
   },
   "outputs": [],
   "source": [
    "pd.options.display.max_rows = 1000"
   ]
  },
  {
   "cell_type": "code",
   "execution_count": 15,
   "id": "1391c07e-f0ba-4409-bbd1-c0165635ecbc",
   "metadata": {
    "tags": []
   },
   "outputs": [],
   "source": [
    "#df"
   ]
  },
  {
   "cell_type": "code",
   "execution_count": 16,
   "id": "df1bfd66-a66e-49c6-aa13-034d87cc416c",
   "metadata": {},
   "outputs": [],
   "source": [
    "selected_package = None\n",
    "csv_resource = None\n",
    "\n",
    "for package in packages:\n",
    "    if package['name'] == 'fdic-failed-bank-list':  # Replace 'the_dataset_name' with the name of the dataset you want to download\n",
    "        selected_package = package\n",
    "        break\n",
    "\n",
    "if selected_package:\n",
    "    for resource in selected_package['resources']:\n",
    "        if resource['format'].lower() == 'csv':\n",
    "            csv_resource = resource\n",
    "            break\n",
    "else:\n",
    "    print(\"Dataset not found.\")\n",
    "\n",
    "if csv_resource:\n",
    "    csv_url = csv_resource['url']\n",
    "else:\n",
    "    print(\"CSV resource not found.\")"
   ]
  },
  {
   "cell_type": "code",
   "execution_count": 17,
   "id": "13c63985-d71d-4043-ae46-6e2ab6324942",
   "metadata": {
    "tags": []
   },
   "outputs": [
    {
     "name": "stdout",
     "output_type": "stream",
     "text": [
      "                   Bank Name               City  State   Cert   \\\n",
      "0              Signature Bank           New York     NY  57053   \n",
      "1         Silicon Valley Bank        Santa Clara     CA  24735   \n",
      "2           Almena State Bank             Almena     KS  15426   \n",
      "3  First City Bank of Florida  Fort Walton Beach     FL  16748   \n",
      "4        The First State Bank      Barboursville     WV  14361   \n",
      "\n",
      "                Acquiring Institution  Closing Date    Fund  \n",
      "0                  Flagstar Bank, N.A.     12-Mar-23  10540  \n",
      "1  FirstCitizens Bank & Trust Company     10-Mar-23  10539  \n",
      "2                          Equity Bank     23-Oct-20  10538  \n",
      "3            United Fidelity Bank, fsb     16-Oct-20  10537  \n",
      "4                       MVB Bank, Inc.      3-Apr-20  10536  \n"
     ]
    }
   ],
   "source": [
    "import requests\n",
    "import io\n",
    "\n",
    "if csv_url:\n",
    "    response = requests.get(csv_url)\n",
    "    response.raise_for_status()\n",
    "\n",
    "    csv_data = io.StringIO(response.text)\n",
    "    df2 = pd.read_csv(csv_data)\n",
    "    print(df2.head())\n",
    "else:\n",
    "    print(\"CSV URL not found.\")"
   ]
  },
  {
   "cell_type": "code",
   "execution_count": 19,
   "id": "c3f3ab8d-5ded-4491-b486-c3e58896e191",
   "metadata": {
    "tags": []
   },
   "outputs": [
    {
     "data": {
      "text/html": [
       "<div>\n",
       "<style scoped>\n",
       "    .dataframe tbody tr th:only-of-type {\n",
       "        vertical-align: middle;\n",
       "    }\n",
       "\n",
       "    .dataframe tbody tr th {\n",
       "        vertical-align: top;\n",
       "    }\n",
       "\n",
       "    .dataframe thead th {\n",
       "        text-align: right;\n",
       "    }\n",
       "</style>\n",
       "<table border=\"1\" class=\"dataframe\">\n",
       "  <thead>\n",
       "    <tr style=\"text-align: right;\">\n",
       "      <th></th>\n",
       "      <th>Bank Name</th>\n",
       "      <th>City</th>\n",
       "      <th>State</th>\n",
       "      <th>Cert</th>\n",
       "      <th>Acquiring Institution</th>\n",
       "      <th>Closing Date</th>\n",
       "      <th>Fund</th>\n",
       "    </tr>\n",
       "  </thead>\n",
       "  <tbody>\n",
       "    <tr>\n",
       "      <th>0</th>\n",
       "      <td>Signature Bank</td>\n",
       "      <td>New York</td>\n",
       "      <td>NY</td>\n",
       "      <td>57053</td>\n",
       "      <td>Flagstar Bank, N.A.</td>\n",
       "      <td>12-Mar-23</td>\n",
       "      <td>10540</td>\n",
       "    </tr>\n",
       "    <tr>\n",
       "      <th>1</th>\n",
       "      <td>Silicon Valley Bank</td>\n",
       "      <td>Santa Clara</td>\n",
       "      <td>CA</td>\n",
       "      <td>24735</td>\n",
       "      <td>FirstCitizens Bank &amp; Trust Company</td>\n",
       "      <td>10-Mar-23</td>\n",
       "      <td>10539</td>\n",
       "    </tr>\n",
       "    <tr>\n",
       "      <th>2</th>\n",
       "      <td>Almena State Bank</td>\n",
       "      <td>Almena</td>\n",
       "      <td>KS</td>\n",
       "      <td>15426</td>\n",
       "      <td>Equity Bank</td>\n",
       "      <td>23-Oct-20</td>\n",
       "      <td>10538</td>\n",
       "    </tr>\n",
       "    <tr>\n",
       "      <th>3</th>\n",
       "      <td>First City Bank of Florida</td>\n",
       "      <td>Fort Walton Beach</td>\n",
       "      <td>FL</td>\n",
       "      <td>16748</td>\n",
       "      <td>United Fidelity Bank, fsb</td>\n",
       "      <td>16-Oct-20</td>\n",
       "      <td>10537</td>\n",
       "    </tr>\n",
       "    <tr>\n",
       "      <th>4</th>\n",
       "      <td>The First State Bank</td>\n",
       "      <td>Barboursville</td>\n",
       "      <td>WV</td>\n",
       "      <td>14361</td>\n",
       "      <td>MVB Bank, Inc.</td>\n",
       "      <td>3-Apr-20</td>\n",
       "      <td>10536</td>\n",
       "    </tr>\n",
       "  </tbody>\n",
       "</table>\n",
       "</div>"
      ],
      "text/plain": [
       "                   Bank Name               City  State   Cert   \\\n",
       "0              Signature Bank           New York     NY  57053   \n",
       "1         Silicon Valley Bank        Santa Clara     CA  24735   \n",
       "2           Almena State Bank             Almena     KS  15426   \n",
       "3  First City Bank of Florida  Fort Walton Beach     FL  16748   \n",
       "4        The First State Bank      Barboursville     WV  14361   \n",
       "\n",
       "                Acquiring Institution  Closing Date    Fund  \n",
       "0                  Flagstar Bank, N.A.     12-Mar-23  10540  \n",
       "1  FirstCitizens Bank & Trust Company     10-Mar-23  10539  \n",
       "2                          Equity Bank     23-Oct-20  10538  \n",
       "3            United Fidelity Bank, fsb     16-Oct-20  10537  \n",
       "4                       MVB Bank, Inc.      3-Apr-20  10536  "
      ]
     },
     "execution_count": 19,
     "metadata": {},
     "output_type": "execute_result"
    }
   ],
   "source": [
    "df2.head()"
   ]
  },
  {
   "cell_type": "code",
   "execution_count": null,
   "id": "8316526c-4735-472e-b32a-1bd72c5e48b0",
   "metadata": {},
   "outputs": [],
   "source": []
  }
 ],
 "metadata": {
  "kernelspec": {
   "display_name": "Python 3 (ipykernel)",
   "language": "python",
   "name": "python3"
  },
  "language_info": {
   "codemirror_mode": {
    "name": "ipython",
    "version": 3
   },
   "file_extension": ".py",
   "mimetype": "text/x-python",
   "name": "python",
   "nbconvert_exporter": "python",
   "pygments_lexer": "ipython3",
   "version": "3.9.16"
  }
 },
 "nbformat": 4,
 "nbformat_minor": 5
}
