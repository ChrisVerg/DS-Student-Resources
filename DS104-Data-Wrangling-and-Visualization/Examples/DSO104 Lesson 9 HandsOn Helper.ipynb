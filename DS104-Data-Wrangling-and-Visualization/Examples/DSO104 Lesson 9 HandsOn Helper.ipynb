{
 "cells": [
  {
   "cell_type": "markdown",
   "metadata": {},
   "source": [
    "Scenario 1 Analysis \n",
    "\n",
    "Amazon is investigating the influence of gender on using their after jogging foot stretcher. The options for gender are male and female and the options for using the after jogging foot stretcher is either using it or not."
   ]
  },
  {
   "cell_type": "markdown",
   "metadata": {},
   "source": [
    "Scenario 1 Analysis Answer\n",
    "\n",
    "Independent Variable: Gender, categorical\n",
    "Two levels ( Male and Female)\n",
    "Dependent Variable: Using the after jogging foot stretcher\n",
    "Two levels\n",
    "Analysis: Independent Chi-Square"
   ]
  },
  {
   "cell_type": "markdown",
   "metadata": {},
   "source": [
    "Scenario 2 Analysis \n",
    "\n",
    "Amazon has just expanded their after jogging foot stretcher. They now have three different types - after jogging, after running, and after marathon. They would like to know whether the type of foot stretcher the customer has dictates how much money the customer spends."
   ]
  },
  {
   "cell_type": "markdown",
   "metadata": {},
   "source": [
    "Scenario 2 Analysis Answer\n",
    "\n",
    "Independent Variable: Different type of foot stretcher, categorical\n",
    "Three levels (after jogging, after running, and after marathon)\n",
    "Dependent Variable: Money spent, continuous\n",
    "N/A (no level)\n",
    "Analysis: ANOVA"
   ]
  },
  {
   "cell_type": "markdown",
   "metadata": {},
   "source": [
    "Scenario 3 Analysis\n",
    "\n",
    "\n",
    "Now, Amazon would like to know: Do people spend more money before or after they get a foot stretcher?"
   ]
  },
  {
   "cell_type": "markdown",
   "metadata": {},
   "source": [
    "Scenario 3 Analysis Answer\n",
    "\n",
    "\n",
    "Independent Variable: Getting the foot stretcher, categorical\n",
    "Two levels (you either get the foot stretcher or not)\n",
    "Dependent Variable: Money spent, continuous\n",
    "N/A (no level)\n",
    "Analysis: Dependent t-test"
   ]
  },
  {
   "cell_type": "markdown",
   "metadata": {},
   "source": [
    "Scenario 4 Analysis \n",
    "\n",
    "Lastly, Amazon would like to know if the age of a customer predicts whether that customer will get a foot stretcher or not."
   ]
  },
  {
   "cell_type": "markdown",
   "metadata": {},
   "source": [
    "Scenario 4 Analysis Answer\n",
    "\n",
    "Independent Variable: Age, continuous\n",
    "N/A (no level)\n",
    "Dependent Variable: Getting a foot stretcher, categorical\n",
    "Two levels (You either get a foot stretcher or not)\n",
    "Analysis: Binary Logistic Regression"
   ]
  },
  {
   "cell_type": "code",
   "execution_count": null,
   "metadata": {},
   "outputs": [],
   "source": []
  }
 ],
 "metadata": {
  "kernelspec": {
   "display_name": "Python 3",
   "language": "python",
   "name": "python3"
  },
  "language_info": {
   "codemirror_mode": {
    "name": "ipython",
    "version": 3
   },
   "file_extension": ".py",
   "mimetype": "text/x-python",
   "name": "python",
   "nbconvert_exporter": "python",
   "pygments_lexer": "ipython3",
   "version": "3.8.5"
  }
 },
 "nbformat": 4,
 "nbformat_minor": 4
}
