{
 "cells": [
  {
   "cell_type": "markdown",
   "id": "c0c61ec2-1b46-448e-a20d-caa375488a73",
   "metadata": {},
   "source": [
    "# Part I- Research Question"
   ]
  },
  {
   "cell_type": "markdown",
   "id": "66156b8c-418e-46ef-b711-24a1341fd269",
   "metadata": {},
   "source": [
    "## A. Research Question: What are the relationships between the given factors of overweight, age, and doctor's visits?"
   ]
  },
  {
   "cell_type": "markdown",
   "id": "ca2646c2-2488-4cc5-9d21-874d0c21bd99",
   "metadata": {
    "tags": []
   },
   "source": [
    "### Installing the needed packages for the performance assessment."
   ]
  },
  {
   "cell_type": "code",
   "execution_count": 44,
   "id": "15264b8c-2f5f-4a88-b42d-be5403e8679c",
   "metadata": {
    "tags": [],
    "vscode": {
     "languageId": "r"
    }
   },
   "outputs": [
    {
     "name": "stderr",
     "output_type": "stream",
     "text": [
      "Warning message:\n",
      "\"package 'readr' is in use and will not be installed\"\n",
      "Warning message:\n",
      "\"package 'dplyr' is in use and will not be installed\"\n",
      "Warning message:\n",
      "\"package 'tidyr' is in use and will not be installed\"\n",
      "Warning message:\n",
      "\"package 'ggplot2' is in use and will not be installed\"\n",
      "Installing package into 'C:/Users/jesse/Documents/R/win-library/4.1'\n",
      "(as 'lib' is unspecified)\n",
      "\n"
     ]
    },
    {
     "name": "stdout",
     "output_type": "stream",
     "text": [
      "package 'psych' successfully unpacked and MD5 sums checked\n",
      "\n",
      "The downloaded binary packages are in\n",
      "\tC:\\Users\\jesse\\AppData\\Local\\Temp\\RtmpG6LLcs\\downloaded_packages\n"
     ]
    },
    {
     "name": "stderr",
     "output_type": "stream",
     "text": [
      "Installing package into 'C:/Users/jesse/Documents/R/win-library/4.1'\n",
      "(as 'lib' is unspecified)\n",
      "\n"
     ]
    },
    {
     "name": "stdout",
     "output_type": "stream",
     "text": [
      "package 'modeest' successfully unpacked and MD5 sums checked\n",
      "\n",
      "The downloaded binary packages are in\n",
      "\tC:\\Users\\jesse\\AppData\\Local\\Temp\\RtmpG6LLcs\\downloaded_packages\n"
     ]
    },
    {
     "name": "stderr",
     "output_type": "stream",
     "text": [
      "Installing package into 'C:/Users/jesse/Documents/R/win-library/4.1'\n",
      "(as 'lib' is unspecified)\n",
      "\n"
     ]
    },
    {
     "name": "stdout",
     "output_type": "stream",
     "text": [
      "package 'visdat' successfully unpacked and MD5 sums checked\n",
      "\n",
      "The downloaded binary packages are in\n",
      "\tC:\\Users\\jesse\\AppData\\Local\\Temp\\RtmpG6LLcs\\downloaded_packages\n"
     ]
    },
    {
     "name": "stderr",
     "output_type": "stream",
     "text": [
      "Installing package into 'C:/Users/jesse/Documents/R/win-library/4.1'\n",
      "(as 'lib' is unspecified)\n",
      "\n"
     ]
    },
    {
     "name": "stdout",
     "output_type": "stream",
     "text": [
      "package 'factoextra' successfully unpacked and MD5 sums checked\n",
      "\n",
      "The downloaded binary packages are in\n",
      "\tC:\\Users\\jesse\\AppData\\Local\\Temp\\RtmpG6LLcs\\downloaded_packages\n"
     ]
    },
    {
     "name": "stderr",
     "output_type": "stream",
     "text": [
      "Installing package into 'C:/Users/jesse/Documents/R/win-library/4.1'\n",
      "(as 'lib' is unspecified)\n",
      "\n"
     ]
    },
    {
     "name": "stdout",
     "output_type": "stream",
     "text": [
      "package 'ggstatsplot' successfully unpacked and MD5 sums checked\n",
      "\n",
      "The downloaded binary packages are in\n",
      "\tC:\\Users\\jesse\\AppData\\Local\\Temp\\RtmpG6LLcs\\downloaded_packages\n"
     ]
    },
    {
     "name": "stderr",
     "output_type": "stream",
     "text": [
      "Warning message:\n",
      "\"package 'tidyverse' is in use and will not be installed\"\n",
      "Warning message:\n",
      "\"package 'plyr' is in use and will not be installed\"\n",
      "Warning message:\n",
      "\"package 'mice' is in use and will not be installed\"\n",
      "Warning message:\n",
      "\"package 'outliers' is in use and will not be installed\"\n"
     ]
    }
   ],
   "source": [
    "install.packages(\"readr\")\n",
    "install.packages(\"dplyr\")\n",
    "install.packages(\"tidyr\")\n",
    "install.packages(\"ggplot2\")\n",
    "install.packages(\"psych\")\n",
    "install.packages(\"modeest\")\n",
    "install.packages(\"visdat\")\n",
    "install.packages(\"factoextra\")\n",
    "install.packages(\"ggstatsplot\")\n",
    "install.packages(\"tidyverse\")\n",
    "install.packages(\"plyr\")\n",
    "install.packages(\"mice\")\n",
    "install.packages(\"outliers\")"
   ]
  },
  {
   "cell_type": "markdown",
   "id": "b2d6523b-d106-4388-b939-932e765b642a",
   "metadata": {},
   "source": [
    "### Loading the packages that are needed for the data cleaning process."
   ]
  },
  {
   "cell_type": "code",
   "execution_count": 45,
   "id": "6be4f643-a03c-4093-b0f5-0054714b698c",
   "metadata": {
    "tags": [],
    "vscode": {
     "languageId": "r"
    }
   },
   "outputs": [],
   "source": [
    "library(readr) # for importing data\n",
    "library(plyr) # to change the data type to numeric.\n",
    "library(dplyr) # is used for data manipulation\n",
    "library(ggplot2) # for visualization\n",
    "library(FactoMineR) # to conduct the PCA\n",
    "library(tidyverse) # to tidy and clean the data\n",
    "library(mice) # for null value mitigation\n",
    "library(outliers) # to check for outliers"
   ]
  },
  {
   "cell_type": "markdown",
   "id": "ba364ce5-4ebb-446e-9c15-2ec0c1006c26",
   "metadata": {},
   "source": [
    "### Loading in the medical data set to begin cleaning it."
   ]
  },
  {
   "cell_type": "code",
   "execution_count": 46,
   "id": "1290a3ce-60ac-42ad-a6ac-2040b5fcb3b5",
   "metadata": {
    "tags": [],
    "vscode": {
     "languageId": "r"
    }
   },
   "outputs": [
    {
     "name": "stderr",
     "output_type": "stream",
     "text": [
      "\u001b[1m\u001b[22mNew names:\n",
      "\u001b[36m*\u001b[39m `` -> `...1`\n"
     ]
    },
    {
     "data": {
      "text/html": [
       "<table class=\"dataframe\">\n",
       "<caption>A tibble: 10 × 53</caption>\n",
       "<thead>\n",
       "\t<tr><th scope=col>...1</th><th scope=col>CaseOrder</th><th scope=col>Customer_id</th><th scope=col>Interaction</th><th scope=col>UID</th><th scope=col>City</th><th scope=col>State</th><th scope=col>County</th><th scope=col>Zip</th><th scope=col>Lat</th><th scope=col>...</th><th scope=col>TotalCharge</th><th scope=col>Additional_charges</th><th scope=col>Survey_TimelyAdmin</th><th scope=col>Survey_TimelyTreatment</th><th scope=col>Survey_TimelyVisits</th><th scope=col>Survey_Reliability</th><th scope=col>Survey_Options</th><th scope=col>Survey_HoursTreatment</th><th scope=col>Survey_CourteousStaff</th><th scope=col>Survey_ActiveListening</th></tr>\n",
       "\t<tr><th scope=col>&lt;dbl&gt;</th><th scope=col>&lt;dbl&gt;</th><th scope=col>&lt;lgl&gt;</th><th scope=col>&lt;lgl&gt;</th><th scope=col>&lt;lgl&gt;</th><th scope=col>&lt;lgl&gt;</th><th scope=col>&lt;lgl&gt;</th><th scope=col>&lt;lgl&gt;</th><th scope=col>&lt;dbl&gt;</th><th scope=col>&lt;dbl&gt;</th><th scope=col>...</th><th scope=col>&lt;dbl&gt;</th><th scope=col>&lt;dbl&gt;</th><th scope=col>&lt;dbl&gt;</th><th scope=col>&lt;dbl&gt;</th><th scope=col>&lt;dbl&gt;</th><th scope=col>&lt;dbl&gt;</th><th scope=col>&lt;dbl&gt;</th><th scope=col>&lt;dbl&gt;</th><th scope=col>&lt;dbl&gt;</th><th scope=col>&lt;dbl&gt;</th></tr>\n",
       "</thead>\n",
       "<tbody>\n",
       "\t<tr><td> 1</td><td> 1</td><td>NA</td><td>NA</td><td>NA</td><td>NA</td><td>NA</td><td>NA</td><td>35621</td><td>34.34960</td><td>...</td><td>3191.049</td><td>17939.403</td><td>3</td><td>3</td><td>2</td><td>2</td><td>4</td><td>3</td><td>3</td><td>4</td></tr>\n",
       "\t<tr><td> 2</td><td> 2</td><td>NA</td><td>NA</td><td>NA</td><td>NA</td><td>NA</td><td>NA</td><td>32446</td><td>30.84513</td><td>...</td><td>4214.905</td><td>17612.998</td><td>3</td><td>4</td><td>3</td><td>4</td><td>4</td><td>4</td><td>3</td><td>3</td></tr>\n",
       "\t<tr><td> 3</td><td> 3</td><td>NA</td><td>NA</td><td>NA</td><td>NA</td><td>NA</td><td>NA</td><td>57110</td><td>43.54321</td><td>...</td><td>2177.587</td><td>17505.192</td><td>2</td><td>4</td><td>4</td><td>4</td><td>3</td><td>4</td><td>3</td><td>3</td></tr>\n",
       "\t<tr><td> 4</td><td> 4</td><td>NA</td><td>NA</td><td>NA</td><td>NA</td><td>NA</td><td>NA</td><td>56072</td><td>43.89744</td><td>...</td><td>2465.119</td><td>12993.437</td><td>3</td><td>5</td><td>5</td><td>3</td><td>4</td><td>5</td><td>5</td><td>5</td></tr>\n",
       "\t<tr><td> 5</td><td> 5</td><td>NA</td><td>NA</td><td>NA</td><td>NA</td><td>NA</td><td>NA</td><td>23181</td><td>37.59894</td><td>...</td><td>1885.655</td><td> 3716.526</td><td>2</td><td>1</td><td>3</td><td>3</td><td>5</td><td>3</td><td>4</td><td>3</td></tr>\n",
       "\t<tr><td> 6</td><td> 6</td><td>NA</td><td>NA</td><td>NA</td><td>NA</td><td>NA</td><td>NA</td><td>74423</td><td>35.67302</td><td>...</td><td>2774.090</td><td>12742.590</td><td>4</td><td>5</td><td>4</td><td>4</td><td>3</td><td>5</td><td>4</td><td>6</td></tr>\n",
       "\t<tr><td> 7</td><td> 7</td><td>NA</td><td>NA</td><td>NA</td><td>NA</td><td>NA</td><td>NA</td><td>44086</td><td>41.67511</td><td>...</td><td>3533.292</td><td>16815.514</td><td>4</td><td>3</td><td>3</td><td>2</td><td>3</td><td>4</td><td>5</td><td>5</td></tr>\n",
       "\t<tr><td> 8</td><td> 8</td><td>NA</td><td>NA</td><td>NA</td><td>NA</td><td>NA</td><td>NA</td><td>22641</td><td>39.08062</td><td>...</td><td>3316.400</td><td> 6930.572</td><td>1</td><td>2</td><td>2</td><td>5</td><td>4</td><td>2</td><td>4</td><td>2</td></tr>\n",
       "\t<tr><td> 9</td><td> 9</td><td>NA</td><td>NA</td><td>NA</td><td>NA</td><td>NA</td><td>NA</td><td>32404</td><td>30.20097</td><td>...</td><td>2922.760</td><td> 8363.187</td><td>3</td><td>3</td><td>2</td><td>3</td><td>3</td><td>3</td><td>4</td><td>2</td></tr>\n",
       "\t<tr><td>10</td><td>10</td><td>NA</td><td>NA</td><td>NA</td><td>NA</td><td>NA</td><td>NA</td><td>56362</td><td>45.40325</td><td>...</td><td>3709.548</td><td>26225.990</td><td>5</td><td>5</td><td>5</td><td>3</td><td>4</td><td>2</td><td>3</td><td>2</td></tr>\n",
       "</tbody>\n",
       "</table>\n"
      ],
      "text/latex": [
       "A tibble: 10 × 53\n",
       "\\begin{tabular}{lllllllllllllllllllll}\n",
       " ...1 & CaseOrder & Customer\\_id & Interaction & UID & City & State & County & Zip & Lat & ... & TotalCharge & Additional\\_charges & Survey\\_TimelyAdmin & Survey\\_TimelyTreatment & Survey\\_TimelyVisits & Survey\\_Reliability & Survey\\_Options & Survey\\_HoursTreatment & Survey\\_CourteousStaff & Survey\\_ActiveListening\\\\\n",
       " <dbl> & <dbl> & <lgl> & <lgl> & <lgl> & <lgl> & <lgl> & <lgl> & <dbl> & <dbl> & ... & <dbl> & <dbl> & <dbl> & <dbl> & <dbl> & <dbl> & <dbl> & <dbl> & <dbl> & <dbl>\\\\\n",
       "\\hline\n",
       "\t  1 &  1 & NA & NA & NA & NA & NA & NA & 35621 & 34.34960 & ... & 3191.049 & 17939.403 & 3 & 3 & 2 & 2 & 4 & 3 & 3 & 4\\\\\n",
       "\t  2 &  2 & NA & NA & NA & NA & NA & NA & 32446 & 30.84513 & ... & 4214.905 & 17612.998 & 3 & 4 & 3 & 4 & 4 & 4 & 3 & 3\\\\\n",
       "\t  3 &  3 & NA & NA & NA & NA & NA & NA & 57110 & 43.54321 & ... & 2177.587 & 17505.192 & 2 & 4 & 4 & 4 & 3 & 4 & 3 & 3\\\\\n",
       "\t  4 &  4 & NA & NA & NA & NA & NA & NA & 56072 & 43.89744 & ... & 2465.119 & 12993.437 & 3 & 5 & 5 & 3 & 4 & 5 & 5 & 5\\\\\n",
       "\t  5 &  5 & NA & NA & NA & NA & NA & NA & 23181 & 37.59894 & ... & 1885.655 &  3716.526 & 2 & 1 & 3 & 3 & 5 & 3 & 4 & 3\\\\\n",
       "\t  6 &  6 & NA & NA & NA & NA & NA & NA & 74423 & 35.67302 & ... & 2774.090 & 12742.590 & 4 & 5 & 4 & 4 & 3 & 5 & 4 & 6\\\\\n",
       "\t  7 &  7 & NA & NA & NA & NA & NA & NA & 44086 & 41.67511 & ... & 3533.292 & 16815.514 & 4 & 3 & 3 & 2 & 3 & 4 & 5 & 5\\\\\n",
       "\t  8 &  8 & NA & NA & NA & NA & NA & NA & 22641 & 39.08062 & ... & 3316.400 &  6930.572 & 1 & 2 & 2 & 5 & 4 & 2 & 4 & 2\\\\\n",
       "\t  9 &  9 & NA & NA & NA & NA & NA & NA & 32404 & 30.20097 & ... & 2922.760 &  8363.187 & 3 & 3 & 2 & 3 & 3 & 3 & 4 & 2\\\\\n",
       "\t 10 & 10 & NA & NA & NA & NA & NA & NA & 56362 & 45.40325 & ... & 3709.548 & 26225.990 & 5 & 5 & 5 & 3 & 4 & 2 & 3 & 2\\\\\n",
       "\\end{tabular}\n"
      ],
      "text/markdown": [
       "\n",
       "A tibble: 10 × 53\n",
       "\n",
       "| ...1 &lt;dbl&gt; | CaseOrder &lt;dbl&gt; | Customer_id &lt;lgl&gt; | Interaction &lt;lgl&gt; | UID &lt;lgl&gt; | City &lt;lgl&gt; | State &lt;lgl&gt; | County &lt;lgl&gt; | Zip &lt;dbl&gt; | Lat &lt;dbl&gt; | ... ... | TotalCharge &lt;dbl&gt; | Additional_charges &lt;dbl&gt; | Survey_TimelyAdmin &lt;dbl&gt; | Survey_TimelyTreatment &lt;dbl&gt; | Survey_TimelyVisits &lt;dbl&gt; | Survey_Reliability &lt;dbl&gt; | Survey_Options &lt;dbl&gt; | Survey_HoursTreatment &lt;dbl&gt; | Survey_CourteousStaff &lt;dbl&gt; | Survey_ActiveListening &lt;dbl&gt; |\n",
       "|---|---|---|---|---|---|---|---|---|---|---|---|---|---|---|---|---|---|---|---|---|\n",
       "|  1 |  1 | NA | NA | NA | NA | NA | NA | 35621 | 34.34960 | ... | 3191.049 | 17939.403 | 3 | 3 | 2 | 2 | 4 | 3 | 3 | 4 |\n",
       "|  2 |  2 | NA | NA | NA | NA | NA | NA | 32446 | 30.84513 | ... | 4214.905 | 17612.998 | 3 | 4 | 3 | 4 | 4 | 4 | 3 | 3 |\n",
       "|  3 |  3 | NA | NA | NA | NA | NA | NA | 57110 | 43.54321 | ... | 2177.587 | 17505.192 | 2 | 4 | 4 | 4 | 3 | 4 | 3 | 3 |\n",
       "|  4 |  4 | NA | NA | NA | NA | NA | NA | 56072 | 43.89744 | ... | 2465.119 | 12993.437 | 3 | 5 | 5 | 3 | 4 | 5 | 5 | 5 |\n",
       "|  5 |  5 | NA | NA | NA | NA | NA | NA | 23181 | 37.59894 | ... | 1885.655 |  3716.526 | 2 | 1 | 3 | 3 | 5 | 3 | 4 | 3 |\n",
       "|  6 |  6 | NA | NA | NA | NA | NA | NA | 74423 | 35.67302 | ... | 2774.090 | 12742.590 | 4 | 5 | 4 | 4 | 3 | 5 | 4 | 6 |\n",
       "|  7 |  7 | NA | NA | NA | NA | NA | NA | 44086 | 41.67511 | ... | 3533.292 | 16815.514 | 4 | 3 | 3 | 2 | 3 | 4 | 5 | 5 |\n",
       "|  8 |  8 | NA | NA | NA | NA | NA | NA | 22641 | 39.08062 | ... | 3316.400 |  6930.572 | 1 | 2 | 2 | 5 | 4 | 2 | 4 | 2 |\n",
       "|  9 |  9 | NA | NA | NA | NA | NA | NA | 32404 | 30.20097 | ... | 2922.760 |  8363.187 | 3 | 3 | 2 | 3 | 3 | 3 | 4 | 2 |\n",
       "| 10 | 10 | NA | NA | NA | NA | NA | NA | 56362 | 45.40325 | ... | 3709.548 | 26225.990 | 5 | 5 | 5 | 3 | 4 | 2 | 3 | 2 |\n",
       "\n"
      ],
      "text/plain": [
       "   ...1 CaseOrder Customer_id Interaction UID City State County Zip   Lat     \n",
       "1   1    1        NA          NA          NA  NA   NA    NA     35621 34.34960\n",
       "2   2    2        NA          NA          NA  NA   NA    NA     32446 30.84513\n",
       "3   3    3        NA          NA          NA  NA   NA    NA     57110 43.54321\n",
       "4   4    4        NA          NA          NA  NA   NA    NA     56072 43.89744\n",
       "5   5    5        NA          NA          NA  NA   NA    NA     23181 37.59894\n",
       "6   6    6        NA          NA          NA  NA   NA    NA     74423 35.67302\n",
       "7   7    7        NA          NA          NA  NA   NA    NA     44086 41.67511\n",
       "8   8    8        NA          NA          NA  NA   NA    NA     22641 39.08062\n",
       "9   9    9        NA          NA          NA  NA   NA    NA     32404 30.20097\n",
       "10 10   10        NA          NA          NA  NA   NA    NA     56362 45.40325\n",
       "   ... TotalCharge Additional_charges Survey_TimelyAdmin Survey_TimelyTreatment\n",
       "1  ... 3191.049    17939.403          3                  3                     \n",
       "2  ... 4214.905    17612.998          3                  4                     \n",
       "3  ... 2177.587    17505.192          2                  4                     \n",
       "4  ... 2465.119    12993.437          3                  5                     \n",
       "5  ... 1885.655     3716.526          2                  1                     \n",
       "6  ... 2774.090    12742.590          4                  5                     \n",
       "7  ... 3533.292    16815.514          4                  3                     \n",
       "8  ... 3316.400     6930.572          1                  2                     \n",
       "9  ... 2922.760     8363.187          3                  3                     \n",
       "10 ... 3709.548    26225.990          5                  5                     \n",
       "   Survey_TimelyVisits Survey_Reliability Survey_Options Survey_HoursTreatment\n",
       "1  2                   2                  4              3                    \n",
       "2  3                   4                  4              4                    \n",
       "3  4                   4                  3              4                    \n",
       "4  5                   3                  4              5                    \n",
       "5  3                   3                  5              3                    \n",
       "6  4                   4                  3              5                    \n",
       "7  3                   2                  3              4                    \n",
       "8  2                   5                  4              2                    \n",
       "9  2                   3                  3              3                    \n",
       "10 5                   3                  4              2                    \n",
       "   Survey_CourteousStaff Survey_ActiveListening\n",
       "1  3                     4                     \n",
       "2  3                     3                     \n",
       "3  3                     3                     \n",
       "4  5                     5                     \n",
       "5  4                     3                     \n",
       "6  4                     6                     \n",
       "7  5                     5                     \n",
       "8  4                     2                     \n",
       "9  4                     2                     \n",
       "10 3                     2                     "
      ]
     },
     "metadata": {},
     "output_type": "display_data"
    }
   ],
   "source": [
    "library(readr)\n",
    "medical_raw_data <- read_csv(\"~/WGU/Data Cleaning/Medical_Data/medical_raw_data.csv\", show_col_types= FALSE)\n",
    "# Viewing my data's first 10 rows to see what I have to work with using the head command.\n",
    "head(medical_raw_data, 10)"
   ]
  },
  {
   "cell_type": "markdown",
   "id": "b942557e-1a62-475e-a87a-43aa50b481eb",
   "metadata": {},
   "source": [
    "##### Viewing all of the column names below to see what I have to work with."
   ]
  },
  {
   "cell_type": "code",
   "execution_count": 47,
   "id": "313ec5a5-851d-4cb2-8d9a-d29eb798e3a1",
   "metadata": {
    "vscode": {
     "languageId": "r"
    }
   },
   "outputs": [
    {
     "data": {
      "text/html": [
       "<style>\n",
       ".list-inline {list-style: none; margin:0; padding: 0}\n",
       ".list-inline>li {display: inline-block}\n",
       ".list-inline>li:not(:last-child)::after {content: \"\\00b7\"; padding: 0 .5ex}\n",
       "</style>\n",
       "<ol class=list-inline><li>'...1'</li><li>'CaseOrder'</li><li>'Customer_id'</li><li>'Interaction'</li><li>'UID'</li><li>'City'</li><li>'State'</li><li>'County'</li><li>'Zip'</li><li>'Lat'</li><li>'Lng'</li><li>'Population'</li><li>'Area'</li><li>'Timezone'</li><li>'Job'</li><li>'Children'</li><li>'Age'</li><li>'Education'</li><li>'Employment'</li><li>'Household_Income'</li><li>'Marital'</li><li>'Gender'</li><li>'ReAdmis'</li><li>'VitD_levels'</li><li>'Doc_visits'</li><li>'Full_meals_eaten'</li><li>'VitD_supp'</li><li>'Soft_drink'</li><li>'Initial_admin'</li><li>'HighBlood'</li><li>'Stroke'</li><li>'Complication_risk'</li><li>'Overweight'</li><li>'Arthritis'</li><li>'Diabetes'</li><li>'Hyperlipidemia'</li><li>'BackPain'</li><li>'Anxiety'</li><li>'Allergic_rhinitis'</li><li>'Reflux_esophagitis'</li><li>'Asthma'</li><li>'Services'</li><li>'Initial_days'</li><li>'TotalCharge'</li><li>'Additional_charges'</li><li>'Survey_TimelyAdmin'</li><li>'Survey_TimelyTreatment'</li><li>'Survey_TimelyVisits'</li><li>'Survey_Reliability'</li><li>'Survey_Options'</li><li>'Survey_HoursTreatment'</li><li>'Survey_CourteousStaff'</li><li>'Survey_ActiveListening'</li></ol>\n"
      ],
      "text/latex": [
       "\\begin{enumerate*}\n",
       "\\item '...1'\n",
       "\\item 'CaseOrder'\n",
       "\\item 'Customer\\_id'\n",
       "\\item 'Interaction'\n",
       "\\item 'UID'\n",
       "\\item 'City'\n",
       "\\item 'State'\n",
       "\\item 'County'\n",
       "\\item 'Zip'\n",
       "\\item 'Lat'\n",
       "\\item 'Lng'\n",
       "\\item 'Population'\n",
       "\\item 'Area'\n",
       "\\item 'Timezone'\n",
       "\\item 'Job'\n",
       "\\item 'Children'\n",
       "\\item 'Age'\n",
       "\\item 'Education'\n",
       "\\item 'Employment'\n",
       "\\item 'Household\\_Income'\n",
       "\\item 'Marital'\n",
       "\\item 'Gender'\n",
       "\\item 'ReAdmis'\n",
       "\\item 'VitD\\_levels'\n",
       "\\item 'Doc\\_visits'\n",
       "\\item 'Full\\_meals\\_eaten'\n",
       "\\item 'VitD\\_supp'\n",
       "\\item 'Soft\\_drink'\n",
       "\\item 'Initial\\_admin'\n",
       "\\item 'HighBlood'\n",
       "\\item 'Stroke'\n",
       "\\item 'Complication\\_risk'\n",
       "\\item 'Overweight'\n",
       "\\item 'Arthritis'\n",
       "\\item 'Diabetes'\n",
       "\\item 'Hyperlipidemia'\n",
       "\\item 'BackPain'\n",
       "\\item 'Anxiety'\n",
       "\\item 'Allergic\\_rhinitis'\n",
       "\\item 'Reflux\\_esophagitis'\n",
       "\\item 'Asthma'\n",
       "\\item 'Services'\n",
       "\\item 'Initial\\_days'\n",
       "\\item 'TotalCharge'\n",
       "\\item 'Additional\\_charges'\n",
       "\\item 'Survey\\_TimelyAdmin'\n",
       "\\item 'Survey\\_TimelyTreatment'\n",
       "\\item 'Survey\\_TimelyVisits'\n",
       "\\item 'Survey\\_Reliability'\n",
       "\\item 'Survey\\_Options'\n",
       "\\item 'Survey\\_HoursTreatment'\n",
       "\\item 'Survey\\_CourteousStaff'\n",
       "\\item 'Survey\\_ActiveListening'\n",
       "\\end{enumerate*}\n"
      ],
      "text/markdown": [
       "1. '...1'\n",
       "2. 'CaseOrder'\n",
       "3. 'Customer_id'\n",
       "4. 'Interaction'\n",
       "5. 'UID'\n",
       "6. 'City'\n",
       "7. 'State'\n",
       "8. 'County'\n",
       "9. 'Zip'\n",
       "10. 'Lat'\n",
       "11. 'Lng'\n",
       "12. 'Population'\n",
       "13. 'Area'\n",
       "14. 'Timezone'\n",
       "15. 'Job'\n",
       "16. 'Children'\n",
       "17. 'Age'\n",
       "18. 'Education'\n",
       "19. 'Employment'\n",
       "20. 'Household_Income'\n",
       "21. 'Marital'\n",
       "22. 'Gender'\n",
       "23. 'ReAdmis'\n",
       "24. 'VitD_levels'\n",
       "25. 'Doc_visits'\n",
       "26. 'Full_meals_eaten'\n",
       "27. 'VitD_supp'\n",
       "28. 'Soft_drink'\n",
       "29. 'Initial_admin'\n",
       "30. 'HighBlood'\n",
       "31. 'Stroke'\n",
       "32. 'Complication_risk'\n",
       "33. 'Overweight'\n",
       "34. 'Arthritis'\n",
       "35. 'Diabetes'\n",
       "36. 'Hyperlipidemia'\n",
       "37. 'BackPain'\n",
       "38. 'Anxiety'\n",
       "39. 'Allergic_rhinitis'\n",
       "40. 'Reflux_esophagitis'\n",
       "41. 'Asthma'\n",
       "42. 'Services'\n",
       "43. 'Initial_days'\n",
       "44. 'TotalCharge'\n",
       "45. 'Additional_charges'\n",
       "46. 'Survey_TimelyAdmin'\n",
       "47. 'Survey_TimelyTreatment'\n",
       "48. 'Survey_TimelyVisits'\n",
       "49. 'Survey_Reliability'\n",
       "50. 'Survey_Options'\n",
       "51. 'Survey_HoursTreatment'\n",
       "52. 'Survey_CourteousStaff'\n",
       "53. 'Survey_ActiveListening'\n",
       "\n",
       "\n"
      ],
      "text/plain": [
       " [1] \"...1\"                   \"CaseOrder\"              \"Customer_id\"           \n",
       " [4] \"Interaction\"            \"UID\"                    \"City\"                  \n",
       " [7] \"State\"                  \"County\"                 \"Zip\"                   \n",
       "[10] \"Lat\"                    \"Lng\"                    \"Population\"            \n",
       "[13] \"Area\"                   \"Timezone\"               \"Job\"                   \n",
       "[16] \"Children\"               \"Age\"                    \"Education\"             \n",
       "[19] \"Employment\"             \"Household_Income\"       \"Marital\"               \n",
       "[22] \"Gender\"                 \"ReAdmis\"                \"VitD_levels\"           \n",
       "[25] \"Doc_visits\"             \"Full_meals_eaten\"       \"VitD_supp\"             \n",
       "[28] \"Soft_drink\"             \"Initial_admin\"          \"HighBlood\"             \n",
       "[31] \"Stroke\"                 \"Complication_risk\"      \"Overweight\"            \n",
       "[34] \"Arthritis\"              \"Diabetes\"               \"Hyperlipidemia\"        \n",
       "[37] \"BackPain\"               \"Anxiety\"                \"Allergic_rhinitis\"     \n",
       "[40] \"Reflux_esophagitis\"     \"Asthma\"                 \"Services\"              \n",
       "[43] \"Initial_days\"           \"TotalCharge\"            \"Additional_charges\"    \n",
       "[46] \"Survey_TimelyAdmin\"     \"Survey_TimelyTreatment\" \"Survey_TimelyVisits\"   \n",
       "[49] \"Survey_Reliability\"     \"Survey_Options\"         \"Survey_HoursTreatment\" \n",
       "[52] \"Survey_CourteousStaff\"  \"Survey_ActiveListening\""
      ]
     },
     "metadata": {},
     "output_type": "display_data"
    }
   ],
   "source": [
    "colnames(medical_raw_data)"
   ]
  },
  {
   "cell_type": "markdown",
   "id": "1da3573d-2f85-4039-9272-47ffe3357826",
   "metadata": {},
   "source": [
    "## Part I- B. Variable Description"
   ]
  },
  {
   "cell_type": "code",
   "execution_count": 48,
   "id": "23e3fb17-cea6-474c-8de6-99fd539ce9e7",
   "metadata": {
    "vscode": {
     "languageId": "r"
    }
   },
   "outputs": [
    {
     "name": "stdout",
     "output_type": "stream",
     "text": [
      "spec_tbl_df [10,000 x 53] (S3: spec_tbl_df/tbl_df/tbl/data.frame)\n",
      " $ ...1                  : num [1:10000] 1 2 3 4 5 6 7 8 9 10 ...\n",
      " $ CaseOrder             : num [1:10000] 1 2 3 4 5 6 7 8 9 10 ...\n",
      " $ Customer_id           : logi [1:10000] NA NA NA NA NA NA ...\n",
      " $ Interaction           : logi [1:10000] NA NA NA NA NA NA ...\n",
      " $ UID                   : logi [1:10000] NA NA NA NA NA NA ...\n",
      " $ City                  : logi [1:10000] NA NA NA NA NA NA ...\n",
      " $ State                 : logi [1:10000] NA NA NA NA NA NA ...\n",
      " $ County                : logi [1:10000] NA NA NA NA NA NA ...\n",
      " $ Zip                   : num [1:10000] 35621 32446 57110 56072 23181 ...\n",
      " $ Lat                   : num [1:10000] 34.3 30.8 43.5 43.9 37.6 ...\n",
      " $ Lng                   : num [1:10000] -86.7 -85.2 -96.6 -93.5 -76.9 ...\n",
      " $ Population            : num [1:10000] 2951 11303 17125 2162 5287 ...\n",
      " $ Area                  : logi [1:10000] NA NA NA NA NA NA ...\n",
      " $ Timezone              : logi [1:10000] NA NA NA NA NA NA ...\n",
      " $ Job                   : logi [1:10000] NA NA NA NA NA NA ...\n",
      " $ Children              : num [1:10000] 1 3 3 0 1 1 0 7 1 2 ...\n",
      " $ Age                   : num [1:10000] 53 51 53 78 22 76 50 40 48 78 ...\n",
      " $ Education             : logi [1:10000] NA NA NA NA NA NA ...\n",
      " $ Employment            : logi [1:10000] NA NA NA NA NA NA ...\n",
      " $ Household_Income      : num [1:10000] 86576 46806 14370 39741 1210 ...\n",
      " $ Marital               : logi [1:10000] NA NA NA NA NA NA ...\n",
      " $ Gender                : logi [1:10000] NA NA NA NA NA NA ...\n",
      " $ ReAdmis               : logi [1:10000] NA NA NA NA NA NA ...\n",
      " $ VitD_levels           : num [1:10000] 17.8 19 17.4 17.4 16.9 ...\n",
      " $ Doc_visits            : num [1:10000] 6 4 4 4 5 6 6 7 6 7 ...\n",
      " $ Full_meals_eaten      : num [1:10000] 0 2 1 1 0 0 0 2 3 1 ...\n",
      " $ VitD_supp             : num [1:10000] 0 1 0 0 2 0 0 0 0 2 ...\n",
      " $ Soft_drink            : logi [1:10000] NA NA NA NA NA NA ...\n",
      " $ Initial_admin         : logi [1:10000] NA NA NA NA NA NA ...\n",
      " $ HighBlood             : logi [1:10000] NA NA NA NA NA NA ...\n",
      " $ Stroke                : logi [1:10000] NA NA NA NA NA NA ...\n",
      " $ Complication_risk     : logi [1:10000] NA NA NA NA NA NA ...\n",
      " $ Overweight            : num [1:10000] 0 1 1 0 0 1 1 1 1 1 ...\n",
      " $ Arthritis             : logi [1:10000] NA NA NA NA NA NA ...\n",
      " $ Diabetes              : logi [1:10000] NA NA NA NA NA NA ...\n",
      " $ Hyperlipidemia        : logi [1:10000] NA NA NA NA NA NA ...\n",
      " $ BackPain              : logi [1:10000] NA NA NA NA NA NA ...\n",
      " $ Anxiety               : num [1:10000] 1 0 0 0 0 0 1 0 0 0 ...\n",
      " $ Allergic_rhinitis     : logi [1:10000] NA NA NA NA NA NA ...\n",
      " $ Reflux_esophagitis    : logi [1:10000] NA NA NA NA NA NA ...\n",
      " $ Asthma                : logi [1:10000] NA NA NA NA NA NA ...\n",
      " $ Services              : logi [1:10000] NA NA NA NA NA NA ...\n",
      " $ Initial_days          : num [1:10000] 10.59 15.13 4.77 1.71 1.25 ...\n",
      " $ TotalCharge           : num [1:10000] 3191 4215 2178 2465 1886 ...\n",
      " $ Additional_charges    : num [1:10000] 17939 17613 17505 12993 3717 ...\n",
      " $ Survey_TimelyAdmin    : num [1:10000] 3 3 2 3 2 4 4 1 3 5 ...\n",
      " $ Survey_TimelyTreatment: num [1:10000] 3 4 4 5 1 5 3 2 3 5 ...\n",
      " $ Survey_TimelyVisits   : num [1:10000] 2 3 4 5 3 4 3 2 2 5 ...\n",
      " $ Survey_Reliability    : num [1:10000] 2 4 4 3 3 4 2 5 3 3 ...\n",
      " $ Survey_Options        : num [1:10000] 4 4 3 4 5 3 3 4 3 4 ...\n",
      " $ Survey_HoursTreatment : num [1:10000] 3 4 4 5 3 5 4 2 3 2 ...\n",
      " $ Survey_CourteousStaff : num [1:10000] 3 3 3 5 4 4 5 4 4 3 ...\n",
      " $ Survey_ActiveListening: num [1:10000] 4 3 3 5 3 6 5 2 2 2 ...\n",
      " - attr(*, \"spec\")=\n",
      "  .. cols(\n",
      "  ..   ...1 = \u001b[32mcol_double()\u001b[39m,\n",
      "  ..   CaseOrder = \u001b[32mcol_double()\u001b[39m,\n",
      "  ..   Customer_id = \u001b[33mcol_logical()\u001b[39m,\n",
      "  ..   Interaction = \u001b[33mcol_logical()\u001b[39m,\n",
      "  ..   UID = \u001b[33mcol_logical()\u001b[39m,\n",
      "  ..   City = \u001b[33mcol_logical()\u001b[39m,\n",
      "  ..   State = \u001b[33mcol_logical()\u001b[39m,\n",
      "  ..   County = \u001b[33mcol_logical()\u001b[39m,\n",
      "  ..   Zip = \u001b[32mcol_double()\u001b[39m,\n",
      "  ..   Lat = \u001b[32mcol_double()\u001b[39m,\n",
      "  ..   Lng = \u001b[32mcol_double()\u001b[39m,\n",
      "  ..   Population = \u001b[32mcol_double()\u001b[39m,\n",
      "  ..   Area = \u001b[33mcol_logical()\u001b[39m,\n",
      "  ..   Timezone = \u001b[33mcol_logical()\u001b[39m,\n",
      "  ..   Job = \u001b[33mcol_logical()\u001b[39m,\n",
      "  ..   Children = \u001b[32mcol_double()\u001b[39m,\n",
      "  ..   Age = \u001b[32mcol_double()\u001b[39m,\n",
      "  ..   Education = \u001b[33mcol_logical()\u001b[39m,\n",
      "  ..   Employment = \u001b[33mcol_logical()\u001b[39m,\n",
      "  ..   Household_Income = \u001b[32mcol_double()\u001b[39m,\n",
      "  ..   Marital = \u001b[33mcol_logical()\u001b[39m,\n",
      "  ..   Gender = \u001b[33mcol_logical()\u001b[39m,\n",
      "  ..   ReAdmis = \u001b[33mcol_logical()\u001b[39m,\n",
      "  ..   VitD_levels = \u001b[32mcol_double()\u001b[39m,\n",
      "  ..   Doc_visits = \u001b[32mcol_double()\u001b[39m,\n",
      "  ..   Full_meals_eaten = \u001b[32mcol_double()\u001b[39m,\n",
      "  ..   VitD_supp = \u001b[32mcol_double()\u001b[39m,\n",
      "  ..   Soft_drink = \u001b[33mcol_logical()\u001b[39m,\n",
      "  ..   Initial_admin = \u001b[33mcol_logical()\u001b[39m,\n",
      "  ..   HighBlood = \u001b[33mcol_logical()\u001b[39m,\n",
      "  ..   Stroke = \u001b[33mcol_logical()\u001b[39m,\n",
      "  ..   Complication_risk = \u001b[33mcol_logical()\u001b[39m,\n",
      "  ..   Overweight = \u001b[32mcol_double()\u001b[39m,\n",
      "  ..   Arthritis = \u001b[33mcol_logical()\u001b[39m,\n",
      "  ..   Diabetes = \u001b[33mcol_logical()\u001b[39m,\n",
      "  ..   Hyperlipidemia = \u001b[33mcol_logical()\u001b[39m,\n",
      "  ..   BackPain = \u001b[33mcol_logical()\u001b[39m,\n",
      "  ..   Anxiety = \u001b[32mcol_double()\u001b[39m,\n",
      "  ..   Allergic_rhinitis = \u001b[33mcol_logical()\u001b[39m,\n",
      "  ..   Reflux_esophagitis = \u001b[33mcol_logical()\u001b[39m,\n",
      "  ..   Asthma = \u001b[33mcol_logical()\u001b[39m,\n",
      "  ..   Services = \u001b[33mcol_logical()\u001b[39m,\n",
      "  ..   Initial_days = \u001b[32mcol_double()\u001b[39m,\n",
      "  ..   TotalCharge = \u001b[32mcol_double()\u001b[39m,\n",
      "  ..   Additional_charges = \u001b[32mcol_double()\u001b[39m,\n",
      "  ..   Survey_TimelyAdmin = \u001b[32mcol_double()\u001b[39m,\n",
      "  ..   Survey_TimelyTreatment = \u001b[32mcol_double()\u001b[39m,\n",
      "  ..   Survey_TimelyVisits = \u001b[32mcol_double()\u001b[39m,\n",
      "  ..   Survey_Reliability = \u001b[32mcol_double()\u001b[39m,\n",
      "  ..   Survey_Options = \u001b[32mcol_double()\u001b[39m,\n",
      "  ..   Survey_HoursTreatment = \u001b[32mcol_double()\u001b[39m,\n",
      "  ..   Survey_CourteousStaff = \u001b[32mcol_double()\u001b[39m,\n",
      "  ..   Survey_ActiveListening = \u001b[32mcol_double()\u001b[39m\n",
      "  .. )\n",
      " - attr(*, \"problems\")=<externalptr> \n"
     ]
    }
   ],
   "source": [
    "str(medical_raw_data)"
   ]
  },
  {
   "cell_type": "markdown",
   "id": "9d56ed7a-705f-451d-9bc8-44bb0b34e05e",
   "metadata": {
    "jp-MarkdownHeadingCollapsed": true,
    "tags": []
   },
   "source": [
    "# Variable and data type description:\n",
    "- ...1: is an unnamed integer index\n",
    "- CaseOrder: integer index to preserve the original order of the raw data\n",
    "- Customer_id: character string that is unique and identifies each patient through an ID\n",
    "- Interaction: character string that is unique and identifies patient transactions, procedures, and admissions\n",
    "- UID: character string that is unique and identifies patient transactions, procedures, and admissions\n",
    "- City: character string indicating patient's city of residence; listed on the billing statement\n",
    "- State: character string indicating patient's state of residence; listed on the billing statement\n",
    "- County: character string indicating patient's county of residence; listed on the billing statement\n",
    "- Zip: integer indicating patient's zip code of residence; listed on the billing statement\n",
    "- Lat: continuous numeric of latitude GPS coordinates of residence; listed on the billing statement\n",
    "- Lng: continuous numeric of longitude GPS coordinates of residence; listed on the billing statement\n",
    "- Population: integer value indicating population within a mile radius of a patient, based on census data\n",
    "- Area: a nominal categorical indicating character string area type (rural, urban, suburban), based on unofficial census data\n",
    "- Timezone: a nominal categorical string indicating character string indicating the time zone of patient residence based on the patient’s sign-up information\n",
    "- Job: a nominal categorical string indicating the job of the patient (or primary insurance holder) as reported in the admissions information\n",
    "- Children: float indicating the number of children in the patient’s household as reported in the admissions information\n",
    "- Age: float indicating the age of the patient as reported in admissions information\n",
    "- Education: a nominal categorical string indicating the highest earned degree of a patient as reported in admissions information\n",
    "- Employment: a categorical string indicating the employment status of a patient as reported in admissions information\n",
    "- Income: numerical indicating the annual income of the patient (or primary insurance holder) as reported at the time of admission\n",
    "- Marital: a nominal categorical string indicating the marital status of the patient (or primary insurance holder) as reported on admission information\n",
    "- Gender: a nominal categorical string indicating the customer's self-identification as male, female, or nonbinary\n",
    "- ReAdmis: a binary categorical string indicating whether the patient was readmitted within a month of release or not (yes, no)\n",
    "- VitD_levels: continuous numerical indicating the patient’s vitamin D levels as measured in ng/mL\n",
    "- Doc_visits: integer indicating the number of times the primary physician visited the patient during the initial hospitalization\n",
    "- Full_meals_eaten: integer the number of complete meals the patient ate while hospitalized (partial meals count as 0, and some patients had more than three meals in a day if requested)\n",
    "- VitD_supp: integer indicating the number of times that vitamin D supplements were administered to the patient \n",
    "- Soft_drink: a binary categorical string indicating whether the patient habitually drinks three or more sodas in a day (yes, no)\n",
    "- Initial_admin: a nominal categorical string indicating how the patient was admitted into the hospital initially (emergency admission, elective admission, observation)\n",
    "- HighBlood: a character string indicating whether the patient has high blood pressure (yes, no)\n",
    "- Stroke: a character string indicating whether the patient has had a stroke (yes, no)\n",
    "- Complication_risk: a string indicating the level of complication risk for the patient as assessed by a primary patient assessment (high, medium, low)\n",
    "- Overweight: an integer indicating whether the patient is considered overweight based on age, gender, and height (yes, no)\n",
    "- Arthritis: a character string indicating whether the patient has arthritis (yes, no)\n",
    "- Diabetes: a character string indicating whether the patient has diabetes (yes, no)\n",
    "- Hyperlipidemia: a character string indicating whether the patient has hyperlipidemia (yes, no)\n",
    "- BackPain: a character string indicating whether the patient has chronic back pain (yes, no)\n",
    "- Anxiety: an integer indicating whether the patient has an anxiety disorder (yes, no)\n",
    "- Allergic_rhinitis: a character string indicating whether the patient has allergic rhinitis (yes, no)\n",
    "- Reflux_esophigitis: a character string indicating whether the patient has reflux esophagitis (yes, no)\n",
    "- Asthma: a character string indicating whether the patient has asthma (yes, no)\n",
    "- Services: a character string indicating primary service the patient received while hospitalized (blood work, intravenous, CT scan, MRI)\n",
    "- Initial_days: numerical, indicating the number of days the patient stayed in the hospital during the initial visit\n",
    "- TotalCharge: numerical, indicating the amount charged to the patient daily. This value reflects an average per patient based on the total charge divided by the number of days hospitalized. This amount reflects the typical charges billed to patients, not including specialized treatments.\n",
    "- Additional_charges: numerical, indicating the average amount charged to the patient for miscellaneous procedures, treatments, medicines, anesthesiology, etc.\n",
    "The following variables describe an eight-question survey asking customers to rate their experience on a scale from 1 to 8. The number one represents the most important and 8 represents the least important:\n",
    "- Item1: an integer that describes a timely admission\n",
    "- Item2: an integer that describes a timely treatment\n",
    "- Item3: an integer that describes timely visits\n",
    "- Item4: an integer that describes the reliability\n",
    "- Item5: an integer that describes options\n",
    "- Item6: an integer that describes hours of treatment\n",
    "- Item7: an integer that describes courteous staff\n",
    "- Item8: an integer that describes evidence of active listening from a doctor"
   ]
  },
  {
   "cell_type": "markdown",
   "id": "66ffc196-9998-40f6-90d2-785f3f3a1428",
   "metadata": {},
   "source": [
    "# Part II: Data-Cleaning Plan\n",
    "\n",
    "## C. Plan\n",
    "- 1. Rename misleading variables\n",
    "- 2. Remove irrelevant variables\n",
    "- 3. Missing data\n",
    "    - Find missing data\n",
    "    - Identify the columns the missing data is in\n",
    "- 4. Convert categorical data types into numeric\n",
    "- 5. Check for outliers using boxplot and distribution graphs\n",
    "- 6. Run a hypothesis test for those variables using a Grubbs Test\n",
    "- 7. Mitigate NAs\n",
    "- 8. Standardize the variables that need to be standardized\n",
    "- 9. To assess the quality and clean the data, I will be using R which was created by statisticians. R has a massive library of packages for data cleaning, exploration, statistical analysis, machine modeling and learning, and reporting. I will be using the following packages to support my data cleaning:\n",
    "    - readr is used to import data\n",
    "    - dplyr is used for data manipulation\n",
    "    - ggplot2 is used for visualization/plots\n",
    "    - FactoMineR is used to conduct the PCA\n",
    "    - tidyverse is used to tidy and clean the data\n",
    "    - plyr is used to change the data type to numeric.\n",
    "    - mice is used for null value mitigation\n",
    "    - outliers is used to check for outliers\n",
    "- 10. I have provided the code in its entirety below to identify the anomalies in the data"
   ]
  },
  {
   "cell_type": "markdown",
   "id": "673ffdd9-8420-4c52-bcda-61fa63a543b7",
   "metadata": {},
   "source": [
    "# Part III- D: Apply the Cleaning Plan"
   ]
  },
  {
   "cell_type": "markdown",
   "id": "4e3d1fc3-0af1-40cc-8f09-55ff02880d6e",
   "metadata": {},
   "source": [
    "### 1- First, I renamed the survey variables to names that are easier to understand for cleaning purposes since the survey questions were called items."
   ]
  },
  {
   "cell_type": "code",
   "execution_count": 49,
   "id": "c17d31f1-e9b6-4616-ae1e-0f7e6430f06c",
   "metadata": {
    "tags": [],
    "vscode": {
     "languageId": "r"
    }
   },
   "outputs": [
    {
     "data": {
      "text/html": [
       "<table class=\"dataframe\">\n",
       "<caption>A tibble: 6 × 53</caption>\n",
       "<thead>\n",
       "\t<tr><th scope=col>...1</th><th scope=col>CaseOrder</th><th scope=col>Customer_id</th><th scope=col>Interaction</th><th scope=col>UID</th><th scope=col>City</th><th scope=col>State</th><th scope=col>County</th><th scope=col>Zip</th><th scope=col>Lat</th><th scope=col>...</th><th scope=col>TotalCharge</th><th scope=col>Additional_charges</th><th scope=col>Survey_TimelyAdmin</th><th scope=col>Survey_TimelyTreatment</th><th scope=col>Survey_TimelyVisits</th><th scope=col>Survey_Reliability</th><th scope=col>Survey_Options</th><th scope=col>Survey_HoursTreatment</th><th scope=col>Survey_CourteousStaff</th><th scope=col>Survey_ActiveListening</th></tr>\n",
       "\t<tr><th scope=col>&lt;dbl&gt;</th><th scope=col>&lt;dbl&gt;</th><th scope=col>&lt;lgl&gt;</th><th scope=col>&lt;lgl&gt;</th><th scope=col>&lt;lgl&gt;</th><th scope=col>&lt;lgl&gt;</th><th scope=col>&lt;lgl&gt;</th><th scope=col>&lt;lgl&gt;</th><th scope=col>&lt;dbl&gt;</th><th scope=col>&lt;dbl&gt;</th><th scope=col>...</th><th scope=col>&lt;dbl&gt;</th><th scope=col>&lt;dbl&gt;</th><th scope=col>&lt;dbl&gt;</th><th scope=col>&lt;dbl&gt;</th><th scope=col>&lt;dbl&gt;</th><th scope=col>&lt;dbl&gt;</th><th scope=col>&lt;dbl&gt;</th><th scope=col>&lt;dbl&gt;</th><th scope=col>&lt;dbl&gt;</th><th scope=col>&lt;dbl&gt;</th></tr>\n",
       "</thead>\n",
       "<tbody>\n",
       "\t<tr><td>1</td><td>1</td><td>NA</td><td>NA</td><td>NA</td><td>NA</td><td>NA</td><td>NA</td><td>35621</td><td>34.34960</td><td>...</td><td>3191.049</td><td>17939.403</td><td>3</td><td>3</td><td>2</td><td>2</td><td>4</td><td>3</td><td>3</td><td>4</td></tr>\n",
       "\t<tr><td>2</td><td>2</td><td>NA</td><td>NA</td><td>NA</td><td>NA</td><td>NA</td><td>NA</td><td>32446</td><td>30.84513</td><td>...</td><td>4214.905</td><td>17612.998</td><td>3</td><td>4</td><td>3</td><td>4</td><td>4</td><td>4</td><td>3</td><td>3</td></tr>\n",
       "\t<tr><td>3</td><td>3</td><td>NA</td><td>NA</td><td>NA</td><td>NA</td><td>NA</td><td>NA</td><td>57110</td><td>43.54321</td><td>...</td><td>2177.587</td><td>17505.192</td><td>2</td><td>4</td><td>4</td><td>4</td><td>3</td><td>4</td><td>3</td><td>3</td></tr>\n",
       "\t<tr><td>4</td><td>4</td><td>NA</td><td>NA</td><td>NA</td><td>NA</td><td>NA</td><td>NA</td><td>56072</td><td>43.89744</td><td>...</td><td>2465.119</td><td>12993.437</td><td>3</td><td>5</td><td>5</td><td>3</td><td>4</td><td>5</td><td>5</td><td>5</td></tr>\n",
       "\t<tr><td>5</td><td>5</td><td>NA</td><td>NA</td><td>NA</td><td>NA</td><td>NA</td><td>NA</td><td>23181</td><td>37.59894</td><td>...</td><td>1885.655</td><td> 3716.526</td><td>2</td><td>1</td><td>3</td><td>3</td><td>5</td><td>3</td><td>4</td><td>3</td></tr>\n",
       "\t<tr><td>6</td><td>6</td><td>NA</td><td>NA</td><td>NA</td><td>NA</td><td>NA</td><td>NA</td><td>74423</td><td>35.67302</td><td>...</td><td>2774.090</td><td>12742.590</td><td>4</td><td>5</td><td>4</td><td>4</td><td>3</td><td>5</td><td>4</td><td>6</td></tr>\n",
       "</tbody>\n",
       "</table>\n"
      ],
      "text/latex": [
       "A tibble: 6 × 53\n",
       "\\begin{tabular}{lllllllllllllllllllll}\n",
       " ...1 & CaseOrder & Customer\\_id & Interaction & UID & City & State & County & Zip & Lat & ... & TotalCharge & Additional\\_charges & Survey\\_TimelyAdmin & Survey\\_TimelyTreatment & Survey\\_TimelyVisits & Survey\\_Reliability & Survey\\_Options & Survey\\_HoursTreatment & Survey\\_CourteousStaff & Survey\\_ActiveListening\\\\\n",
       " <dbl> & <dbl> & <lgl> & <lgl> & <lgl> & <lgl> & <lgl> & <lgl> & <dbl> & <dbl> & ... & <dbl> & <dbl> & <dbl> & <dbl> & <dbl> & <dbl> & <dbl> & <dbl> & <dbl> & <dbl>\\\\\n",
       "\\hline\n",
       "\t 1 & 1 & NA & NA & NA & NA & NA & NA & 35621 & 34.34960 & ... & 3191.049 & 17939.403 & 3 & 3 & 2 & 2 & 4 & 3 & 3 & 4\\\\\n",
       "\t 2 & 2 & NA & NA & NA & NA & NA & NA & 32446 & 30.84513 & ... & 4214.905 & 17612.998 & 3 & 4 & 3 & 4 & 4 & 4 & 3 & 3\\\\\n",
       "\t 3 & 3 & NA & NA & NA & NA & NA & NA & 57110 & 43.54321 & ... & 2177.587 & 17505.192 & 2 & 4 & 4 & 4 & 3 & 4 & 3 & 3\\\\\n",
       "\t 4 & 4 & NA & NA & NA & NA & NA & NA & 56072 & 43.89744 & ... & 2465.119 & 12993.437 & 3 & 5 & 5 & 3 & 4 & 5 & 5 & 5\\\\\n",
       "\t 5 & 5 & NA & NA & NA & NA & NA & NA & 23181 & 37.59894 & ... & 1885.655 &  3716.526 & 2 & 1 & 3 & 3 & 5 & 3 & 4 & 3\\\\\n",
       "\t 6 & 6 & NA & NA & NA & NA & NA & NA & 74423 & 35.67302 & ... & 2774.090 & 12742.590 & 4 & 5 & 4 & 4 & 3 & 5 & 4 & 6\\\\\n",
       "\\end{tabular}\n"
      ],
      "text/markdown": [
       "\n",
       "A tibble: 6 × 53\n",
       "\n",
       "| ...1 &lt;dbl&gt; | CaseOrder &lt;dbl&gt; | Customer_id &lt;lgl&gt; | Interaction &lt;lgl&gt; | UID &lt;lgl&gt; | City &lt;lgl&gt; | State &lt;lgl&gt; | County &lt;lgl&gt; | Zip &lt;dbl&gt; | Lat &lt;dbl&gt; | ... ... | TotalCharge &lt;dbl&gt; | Additional_charges &lt;dbl&gt; | Survey_TimelyAdmin &lt;dbl&gt; | Survey_TimelyTreatment &lt;dbl&gt; | Survey_TimelyVisits &lt;dbl&gt; | Survey_Reliability &lt;dbl&gt; | Survey_Options &lt;dbl&gt; | Survey_HoursTreatment &lt;dbl&gt; | Survey_CourteousStaff &lt;dbl&gt; | Survey_ActiveListening &lt;dbl&gt; |\n",
       "|---|---|---|---|---|---|---|---|---|---|---|---|---|---|---|---|---|---|---|---|---|\n",
       "| 1 | 1 | NA | NA | NA | NA | NA | NA | 35621 | 34.34960 | ... | 3191.049 | 17939.403 | 3 | 3 | 2 | 2 | 4 | 3 | 3 | 4 |\n",
       "| 2 | 2 | NA | NA | NA | NA | NA | NA | 32446 | 30.84513 | ... | 4214.905 | 17612.998 | 3 | 4 | 3 | 4 | 4 | 4 | 3 | 3 |\n",
       "| 3 | 3 | NA | NA | NA | NA | NA | NA | 57110 | 43.54321 | ... | 2177.587 | 17505.192 | 2 | 4 | 4 | 4 | 3 | 4 | 3 | 3 |\n",
       "| 4 | 4 | NA | NA | NA | NA | NA | NA | 56072 | 43.89744 | ... | 2465.119 | 12993.437 | 3 | 5 | 5 | 3 | 4 | 5 | 5 | 5 |\n",
       "| 5 | 5 | NA | NA | NA | NA | NA | NA | 23181 | 37.59894 | ... | 1885.655 |  3716.526 | 2 | 1 | 3 | 3 | 5 | 3 | 4 | 3 |\n",
       "| 6 | 6 | NA | NA | NA | NA | NA | NA | 74423 | 35.67302 | ... | 2774.090 | 12742.590 | 4 | 5 | 4 | 4 | 3 | 5 | 4 | 6 |\n",
       "\n"
      ],
      "text/plain": [
       "  ...1 CaseOrder Customer_id Interaction UID City State County Zip   Lat     \n",
       "1 1    1         NA          NA          NA  NA   NA    NA     35621 34.34960\n",
       "2 2    2         NA          NA          NA  NA   NA    NA     32446 30.84513\n",
       "3 3    3         NA          NA          NA  NA   NA    NA     57110 43.54321\n",
       "4 4    4         NA          NA          NA  NA   NA    NA     56072 43.89744\n",
       "5 5    5         NA          NA          NA  NA   NA    NA     23181 37.59894\n",
       "6 6    6         NA          NA          NA  NA   NA    NA     74423 35.67302\n",
       "  ... TotalCharge Additional_charges Survey_TimelyAdmin Survey_TimelyTreatment\n",
       "1 ... 3191.049    17939.403          3                  3                     \n",
       "2 ... 4214.905    17612.998          3                  4                     \n",
       "3 ... 2177.587    17505.192          2                  4                     \n",
       "4 ... 2465.119    12993.437          3                  5                     \n",
       "5 ... 1885.655     3716.526          2                  1                     \n",
       "6 ... 2774.090    12742.590          4                  5                     \n",
       "  Survey_TimelyVisits Survey_Reliability Survey_Options Survey_HoursTreatment\n",
       "1 2                   2                  4              3                    \n",
       "2 3                   4                  4              4                    \n",
       "3 4                   4                  3              4                    \n",
       "4 5                   3                  4              5                    \n",
       "5 3                   3                  5              3                    \n",
       "6 4                   4                  3              5                    \n",
       "  Survey_CourteousStaff Survey_ActiveListening\n",
       "1 3                     4                     \n",
       "2 3                     3                     \n",
       "3 3                     3                     \n",
       "4 5                     5                     \n",
       "5 4                     3                     \n",
       "6 4                     6                     "
      ]
     },
     "metadata": {},
     "output_type": "display_data"
    }
   ],
   "source": [
    "names(medical_raw_data)[names(medical_raw_data) == 'Income'] <- 'Household_Income'\n",
    "names(medical_raw_data)[names(medical_raw_data) == 'Item1'] <- 'Survey_TimelyAdmin'\n",
    "names(medical_raw_data)[names(medical_raw_data) == 'Item2'] <- 'Survey_TimelyTreatment'\n",
    "names(medical_raw_data)[names(medical_raw_data) == 'Item3'] <- 'Survey_TimelyVisits'\n",
    "names(medical_raw_data)[names(medical_raw_data) == 'Item4'] <- 'Survey_Reliability'\n",
    "names(medical_raw_data)[names(medical_raw_data) == 'Item5'] <- 'Survey_Options'\n",
    "names(medical_raw_data)[names(medical_raw_data) == 'Item6'] <- 'Survey_HoursTreatment'\n",
    "names(medical_raw_data)[names(medical_raw_data) == 'Item7'] <- 'Survey_CourteousStaff'\n",
    "names(medical_raw_data)[names(medical_raw_data) == 'Item8'] <- 'Survey_ActiveListening'\n",
    "head(medical_raw_data)"
   ]
  },
  {
   "cell_type": "markdown",
   "id": "4ed0f9ed-2a51-427d-8d5d-35914e952a18",
   "metadata": {},
   "source": [
    "### 2- I am dropping the unnamed variable \"...1\" since that will not tell me anything about my data."
   ]
  },
  {
   "cell_type": "code",
   "execution_count": 50,
   "id": "f45881e2-2835-439a-b4b8-b7ee95c06947",
   "metadata": {
    "vscode": {
     "languageId": "r"
    }
   },
   "outputs": [],
   "source": [
    "medical_raw_data <- medical_raw_data[ -c(1) ]"
   ]
  },
  {
   "cell_type": "markdown",
   "id": "4bde6299-4ad9-45dc-ae31-fc19ad2d0329",
   "metadata": {},
   "source": [
    "### Viewing my data's head to make sure the unnamed variables are no longer there."
   ]
  },
  {
   "cell_type": "code",
   "execution_count": 51,
   "id": "29179c28-f0ee-443f-9a83-5365e7ab5d88",
   "metadata": {
    "tags": [],
    "vscode": {
     "languageId": "r"
    }
   },
   "outputs": [
    {
     "data": {
      "text/html": [
       "<table class=\"dataframe\">\n",
       "<caption>A tibble: 5 × 52</caption>\n",
       "<thead>\n",
       "\t<tr><th scope=col>CaseOrder</th><th scope=col>Customer_id</th><th scope=col>Interaction</th><th scope=col>UID</th><th scope=col>City</th><th scope=col>State</th><th scope=col>County</th><th scope=col>Zip</th><th scope=col>Lat</th><th scope=col>Lng</th><th scope=col>...</th><th scope=col>TotalCharge</th><th scope=col>Additional_charges</th><th scope=col>Survey_TimelyAdmin</th><th scope=col>Survey_TimelyTreatment</th><th scope=col>Survey_TimelyVisits</th><th scope=col>Survey_Reliability</th><th scope=col>Survey_Options</th><th scope=col>Survey_HoursTreatment</th><th scope=col>Survey_CourteousStaff</th><th scope=col>Survey_ActiveListening</th></tr>\n",
       "\t<tr><th scope=col>&lt;dbl&gt;</th><th scope=col>&lt;lgl&gt;</th><th scope=col>&lt;lgl&gt;</th><th scope=col>&lt;lgl&gt;</th><th scope=col>&lt;lgl&gt;</th><th scope=col>&lt;lgl&gt;</th><th scope=col>&lt;lgl&gt;</th><th scope=col>&lt;dbl&gt;</th><th scope=col>&lt;dbl&gt;</th><th scope=col>&lt;dbl&gt;</th><th scope=col>...</th><th scope=col>&lt;dbl&gt;</th><th scope=col>&lt;dbl&gt;</th><th scope=col>&lt;dbl&gt;</th><th scope=col>&lt;dbl&gt;</th><th scope=col>&lt;dbl&gt;</th><th scope=col>&lt;dbl&gt;</th><th scope=col>&lt;dbl&gt;</th><th scope=col>&lt;dbl&gt;</th><th scope=col>&lt;dbl&gt;</th><th scope=col>&lt;dbl&gt;</th></tr>\n",
       "</thead>\n",
       "<tbody>\n",
       "\t<tr><td>1</td><td>NA</td><td>NA</td><td>NA</td><td>NA</td><td>NA</td><td>NA</td><td>35621</td><td>34.34960</td><td>-86.72508</td><td>...</td><td>3191.049</td><td>17939.403</td><td>3</td><td>3</td><td>2</td><td>2</td><td>4</td><td>3</td><td>3</td><td>4</td></tr>\n",
       "\t<tr><td>2</td><td>NA</td><td>NA</td><td>NA</td><td>NA</td><td>NA</td><td>NA</td><td>32446</td><td>30.84513</td><td>-85.22907</td><td>...</td><td>4214.905</td><td>17612.998</td><td>3</td><td>4</td><td>3</td><td>4</td><td>4</td><td>4</td><td>3</td><td>3</td></tr>\n",
       "\t<tr><td>3</td><td>NA</td><td>NA</td><td>NA</td><td>NA</td><td>NA</td><td>NA</td><td>57110</td><td>43.54321</td><td>-96.63772</td><td>...</td><td>2177.587</td><td>17505.192</td><td>2</td><td>4</td><td>4</td><td>4</td><td>3</td><td>4</td><td>3</td><td>3</td></tr>\n",
       "\t<tr><td>4</td><td>NA</td><td>NA</td><td>NA</td><td>NA</td><td>NA</td><td>NA</td><td>56072</td><td>43.89744</td><td>-93.51479</td><td>...</td><td>2465.119</td><td>12993.437</td><td>3</td><td>5</td><td>5</td><td>3</td><td>4</td><td>5</td><td>5</td><td>5</td></tr>\n",
       "\t<tr><td>5</td><td>NA</td><td>NA</td><td>NA</td><td>NA</td><td>NA</td><td>NA</td><td>23181</td><td>37.59894</td><td>-76.88958</td><td>...</td><td>1885.655</td><td> 3716.526</td><td>2</td><td>1</td><td>3</td><td>3</td><td>5</td><td>3</td><td>4</td><td>3</td></tr>\n",
       "</tbody>\n",
       "</table>\n"
      ],
      "text/latex": [
       "A tibble: 5 × 52\n",
       "\\begin{tabular}{lllllllllllllllllllll}\n",
       " CaseOrder & Customer\\_id & Interaction & UID & City & State & County & Zip & Lat & Lng & ... & TotalCharge & Additional\\_charges & Survey\\_TimelyAdmin & Survey\\_TimelyTreatment & Survey\\_TimelyVisits & Survey\\_Reliability & Survey\\_Options & Survey\\_HoursTreatment & Survey\\_CourteousStaff & Survey\\_ActiveListening\\\\\n",
       " <dbl> & <lgl> & <lgl> & <lgl> & <lgl> & <lgl> & <lgl> & <dbl> & <dbl> & <dbl> & ... & <dbl> & <dbl> & <dbl> & <dbl> & <dbl> & <dbl> & <dbl> & <dbl> & <dbl> & <dbl>\\\\\n",
       "\\hline\n",
       "\t 1 & NA & NA & NA & NA & NA & NA & 35621 & 34.34960 & -86.72508 & ... & 3191.049 & 17939.403 & 3 & 3 & 2 & 2 & 4 & 3 & 3 & 4\\\\\n",
       "\t 2 & NA & NA & NA & NA & NA & NA & 32446 & 30.84513 & -85.22907 & ... & 4214.905 & 17612.998 & 3 & 4 & 3 & 4 & 4 & 4 & 3 & 3\\\\\n",
       "\t 3 & NA & NA & NA & NA & NA & NA & 57110 & 43.54321 & -96.63772 & ... & 2177.587 & 17505.192 & 2 & 4 & 4 & 4 & 3 & 4 & 3 & 3\\\\\n",
       "\t 4 & NA & NA & NA & NA & NA & NA & 56072 & 43.89744 & -93.51479 & ... & 2465.119 & 12993.437 & 3 & 5 & 5 & 3 & 4 & 5 & 5 & 5\\\\\n",
       "\t 5 & NA & NA & NA & NA & NA & NA & 23181 & 37.59894 & -76.88958 & ... & 1885.655 &  3716.526 & 2 & 1 & 3 & 3 & 5 & 3 & 4 & 3\\\\\n",
       "\\end{tabular}\n"
      ],
      "text/markdown": [
       "\n",
       "A tibble: 5 × 52\n",
       "\n",
       "| CaseOrder &lt;dbl&gt; | Customer_id &lt;lgl&gt; | Interaction &lt;lgl&gt; | UID &lt;lgl&gt; | City &lt;lgl&gt; | State &lt;lgl&gt; | County &lt;lgl&gt; | Zip &lt;dbl&gt; | Lat &lt;dbl&gt; | Lng &lt;dbl&gt; | ... ... | TotalCharge &lt;dbl&gt; | Additional_charges &lt;dbl&gt; | Survey_TimelyAdmin &lt;dbl&gt; | Survey_TimelyTreatment &lt;dbl&gt; | Survey_TimelyVisits &lt;dbl&gt; | Survey_Reliability &lt;dbl&gt; | Survey_Options &lt;dbl&gt; | Survey_HoursTreatment &lt;dbl&gt; | Survey_CourteousStaff &lt;dbl&gt; | Survey_ActiveListening &lt;dbl&gt; |\n",
       "|---|---|---|---|---|---|---|---|---|---|---|---|---|---|---|---|---|---|---|---|---|\n",
       "| 1 | NA | NA | NA | NA | NA | NA | 35621 | 34.34960 | -86.72508 | ... | 3191.049 | 17939.403 | 3 | 3 | 2 | 2 | 4 | 3 | 3 | 4 |\n",
       "| 2 | NA | NA | NA | NA | NA | NA | 32446 | 30.84513 | -85.22907 | ... | 4214.905 | 17612.998 | 3 | 4 | 3 | 4 | 4 | 4 | 3 | 3 |\n",
       "| 3 | NA | NA | NA | NA | NA | NA | 57110 | 43.54321 | -96.63772 | ... | 2177.587 | 17505.192 | 2 | 4 | 4 | 4 | 3 | 4 | 3 | 3 |\n",
       "| 4 | NA | NA | NA | NA | NA | NA | 56072 | 43.89744 | -93.51479 | ... | 2465.119 | 12993.437 | 3 | 5 | 5 | 3 | 4 | 5 | 5 | 5 |\n",
       "| 5 | NA | NA | NA | NA | NA | NA | 23181 | 37.59894 | -76.88958 | ... | 1885.655 |  3716.526 | 2 | 1 | 3 | 3 | 5 | 3 | 4 | 3 |\n",
       "\n"
      ],
      "text/plain": [
       "  CaseOrder Customer_id Interaction UID City State County Zip   Lat     \n",
       "1 1         NA          NA          NA  NA   NA    NA     35621 34.34960\n",
       "2 2         NA          NA          NA  NA   NA    NA     32446 30.84513\n",
       "3 3         NA          NA          NA  NA   NA    NA     57110 43.54321\n",
       "4 4         NA          NA          NA  NA   NA    NA     56072 43.89744\n",
       "5 5         NA          NA          NA  NA   NA    NA     23181 37.59894\n",
       "  Lng       ... TotalCharge Additional_charges Survey_TimelyAdmin\n",
       "1 -86.72508 ... 3191.049    17939.403          3                 \n",
       "2 -85.22907 ... 4214.905    17612.998          3                 \n",
       "3 -96.63772 ... 2177.587    17505.192          2                 \n",
       "4 -93.51479 ... 2465.119    12993.437          3                 \n",
       "5 -76.88958 ... 1885.655     3716.526          2                 \n",
       "  Survey_TimelyTreatment Survey_TimelyVisits Survey_Reliability Survey_Options\n",
       "1 3                      2                   2                  4             \n",
       "2 4                      3                   4                  4             \n",
       "3 4                      4                   4                  3             \n",
       "4 5                      5                   3                  4             \n",
       "5 1                      3                   3                  5             \n",
       "  Survey_HoursTreatment Survey_CourteousStaff Survey_ActiveListening\n",
       "1 3                     3                     4                     \n",
       "2 4                     3                     3                     \n",
       "3 4                     3                     3                     \n",
       "4 5                     5                     5                     \n",
       "5 3                     4                     3                     "
      ]
     },
     "metadata": {},
     "output_type": "display_data"
    }
   ],
   "source": [
    "head(medical_raw_data, 5)"
   ]
  },
  {
   "cell_type": "markdown",
   "id": "675f08ad-bce4-4243-a101-30828f92b5b5",
   "metadata": {},
   "source": [
    "### Variable ...1 is no longer there!"
   ]
  },
  {
   "cell_type": "markdown",
   "id": "b05cf74f-80c1-4c09-845c-e485cb41bbb4",
   "metadata": {},
   "source": [
    "# 3- Search for NA values in columns across the entire dataset"
   ]
  },
  {
   "cell_type": "code",
   "execution_count": 52,
   "id": "b4ddb54d-9e52-4bbe-86d4-f007720cf09e",
   "metadata": {
    "vscode": {
     "languageId": "r"
    }
   },
   "outputs": [
    {
     "data": {
      "text/html": [
       "<style>\n",
       ".dl-inline {width: auto; margin:0; padding: 0}\n",
       ".dl-inline>dt, .dl-inline>dd {float: none; width: auto; display: inline-block}\n",
       ".dl-inline>dt::after {content: \":\\0020\"; padding-right: .5ex}\n",
       ".dl-inline>dt:not(:first-of-type) {padding-left: .5ex}\n",
       "</style><dl class=dl-inline><dt>CaseOrder</dt><dd>0</dd><dt>Customer_id</dt><dd>10000</dd><dt>Interaction</dt><dd>10000</dd><dt>UID</dt><dd>10000</dd><dt>City</dt><dd>10000</dd><dt>State</dt><dd>10000</dd><dt>County</dt><dd>10000</dd><dt>Zip</dt><dd>0</dd><dt>Lat</dt><dd>0</dd><dt>Lng</dt><dd>0</dd><dt>Population</dt><dd>0</dd><dt>Area</dt><dd>10000</dd><dt>Timezone</dt><dd>10000</dd><dt>Job</dt><dd>10000</dd><dt>Children</dt><dd>0</dd><dt>Age</dt><dd>0</dd><dt>Education</dt><dd>10000</dd><dt>Employment</dt><dd>10000</dd><dt>Household_Income</dt><dd>0</dd><dt>Marital</dt><dd>10000</dd><dt>Gender</dt><dd>10000</dd><dt>ReAdmis</dt><dd>10000</dd><dt>VitD_levels</dt><dd>0</dd><dt>Doc_visits</dt><dd>0</dd><dt>Full_meals_eaten</dt><dd>0</dd><dt>VitD_supp</dt><dd>0</dd><dt>Soft_drink</dt><dd>10000</dd><dt>Initial_admin</dt><dd>10000</dd><dt>HighBlood</dt><dd>10000</dd><dt>Stroke</dt><dd>10000</dd><dt>Complication_risk</dt><dd>10000</dd><dt>Overweight</dt><dd>0</dd><dt>Arthritis</dt><dd>10000</dd><dt>Diabetes</dt><dd>10000</dd><dt>Hyperlipidemia</dt><dd>10000</dd><dt>BackPain</dt><dd>10000</dd><dt>Anxiety</dt><dd>0</dd><dt>Allergic_rhinitis</dt><dd>10000</dd><dt>Reflux_esophagitis</dt><dd>10000</dd><dt>Asthma</dt><dd>10000</dd><dt>Services</dt><dd>10000</dd><dt>Initial_days</dt><dd>1056</dd><dt>TotalCharge</dt><dd>0</dd><dt>Additional_charges</dt><dd>0</dd><dt>Survey_TimelyAdmin</dt><dd>0</dd><dt>Survey_TimelyTreatment</dt><dd>0</dd><dt>Survey_TimelyVisits</dt><dd>0</dd><dt>Survey_Reliability</dt><dd>0</dd><dt>Survey_Options</dt><dd>0</dd><dt>Survey_HoursTreatment</dt><dd>0</dd><dt>Survey_CourteousStaff</dt><dd>0</dd><dt>Survey_ActiveListening</dt><dd>0</dd></dl>\n"
      ],
      "text/latex": [
       "\\begin{description*}\n",
       "\\item[CaseOrder] 0\n",
       "\\item[Customer\\textbackslash{}\\_id] 10000\n",
       "\\item[Interaction] 10000\n",
       "\\item[UID] 10000\n",
       "\\item[City] 10000\n",
       "\\item[State] 10000\n",
       "\\item[County] 10000\n",
       "\\item[Zip] 0\n",
       "\\item[Lat] 0\n",
       "\\item[Lng] 0\n",
       "\\item[Population] 0\n",
       "\\item[Area] 10000\n",
       "\\item[Timezone] 10000\n",
       "\\item[Job] 10000\n",
       "\\item[Children] 0\n",
       "\\item[Age] 0\n",
       "\\item[Education] 10000\n",
       "\\item[Employment] 10000\n",
       "\\item[Household\\textbackslash{}\\_Income] 0\n",
       "\\item[Marital] 10000\n",
       "\\item[Gender] 10000\n",
       "\\item[ReAdmis] 10000\n",
       "\\item[VitD\\textbackslash{}\\_levels] 0\n",
       "\\item[Doc\\textbackslash{}\\_visits] 0\n",
       "\\item[Full\\textbackslash{}\\_meals\\textbackslash{}\\_eaten] 0\n",
       "\\item[VitD\\textbackslash{}\\_supp] 0\n",
       "\\item[Soft\\textbackslash{}\\_drink] 10000\n",
       "\\item[Initial\\textbackslash{}\\_admin] 10000\n",
       "\\item[HighBlood] 10000\n",
       "\\item[Stroke] 10000\n",
       "\\item[Complication\\textbackslash{}\\_risk] 10000\n",
       "\\item[Overweight] 0\n",
       "\\item[Arthritis] 10000\n",
       "\\item[Diabetes] 10000\n",
       "\\item[Hyperlipidemia] 10000\n",
       "\\item[BackPain] 10000\n",
       "\\item[Anxiety] 0\n",
       "\\item[Allergic\\textbackslash{}\\_rhinitis] 10000\n",
       "\\item[Reflux\\textbackslash{}\\_esophagitis] 10000\n",
       "\\item[Asthma] 10000\n",
       "\\item[Services] 10000\n",
       "\\item[Initial\\textbackslash{}\\_days] 1056\n",
       "\\item[TotalCharge] 0\n",
       "\\item[Additional\\textbackslash{}\\_charges] 0\n",
       "\\item[Survey\\textbackslash{}\\_TimelyAdmin] 0\n",
       "\\item[Survey\\textbackslash{}\\_TimelyTreatment] 0\n",
       "\\item[Survey\\textbackslash{}\\_TimelyVisits] 0\n",
       "\\item[Survey\\textbackslash{}\\_Reliability] 0\n",
       "\\item[Survey\\textbackslash{}\\_Options] 0\n",
       "\\item[Survey\\textbackslash{}\\_HoursTreatment] 0\n",
       "\\item[Survey\\textbackslash{}\\_CourteousStaff] 0\n",
       "\\item[Survey\\textbackslash{}\\_ActiveListening] 0\n",
       "\\end{description*}\n"
      ],
      "text/markdown": [
       "CaseOrder\n",
       ":   0Customer_id\n",
       ":   10000Interaction\n",
       ":   10000UID\n",
       ":   10000City\n",
       ":   10000State\n",
       ":   10000County\n",
       ":   10000Zip\n",
       ":   0Lat\n",
       ":   0Lng\n",
       ":   0Population\n",
       ":   0Area\n",
       ":   10000Timezone\n",
       ":   10000Job\n",
       ":   10000Children\n",
       ":   0Age\n",
       ":   0Education\n",
       ":   10000Employment\n",
       ":   10000Household_Income\n",
       ":   0Marital\n",
       ":   10000Gender\n",
       ":   10000ReAdmis\n",
       ":   10000VitD_levels\n",
       ":   0Doc_visits\n",
       ":   0Full_meals_eaten\n",
       ":   0VitD_supp\n",
       ":   0Soft_drink\n",
       ":   10000Initial_admin\n",
       ":   10000HighBlood\n",
       ":   10000Stroke\n",
       ":   10000Complication_risk\n",
       ":   10000Overweight\n",
       ":   0Arthritis\n",
       ":   10000Diabetes\n",
       ":   10000Hyperlipidemia\n",
       ":   10000BackPain\n",
       ":   10000Anxiety\n",
       ":   0Allergic_rhinitis\n",
       ":   10000Reflux_esophagitis\n",
       ":   10000Asthma\n",
       ":   10000Services\n",
       ":   10000Initial_days\n",
       ":   1056TotalCharge\n",
       ":   0Additional_charges\n",
       ":   0Survey_TimelyAdmin\n",
       ":   0Survey_TimelyTreatment\n",
       ":   0Survey_TimelyVisits\n",
       ":   0Survey_Reliability\n",
       ":   0Survey_Options\n",
       ":   0Survey_HoursTreatment\n",
       ":   0Survey_CourteousStaff\n",
       ":   0Survey_ActiveListening\n",
       ":   0\n",
       "\n"
      ],
      "text/plain": [
       "             CaseOrder            Customer_id            Interaction \n",
       "                     0                  10000                  10000 \n",
       "                   UID                   City                  State \n",
       "                 10000                  10000                  10000 \n",
       "                County                    Zip                    Lat \n",
       "                 10000                      0                      0 \n",
       "                   Lng             Population                   Area \n",
       "                     0                      0                  10000 \n",
       "              Timezone                    Job               Children \n",
       "                 10000                  10000                      0 \n",
       "                   Age              Education             Employment \n",
       "                     0                  10000                  10000 \n",
       "      Household_Income                Marital                 Gender \n",
       "                     0                  10000                  10000 \n",
       "               ReAdmis            VitD_levels             Doc_visits \n",
       "                 10000                      0                      0 \n",
       "      Full_meals_eaten              VitD_supp             Soft_drink \n",
       "                     0                      0                  10000 \n",
       "         Initial_admin              HighBlood                 Stroke \n",
       "                 10000                  10000                  10000 \n",
       "     Complication_risk             Overweight              Arthritis \n",
       "                 10000                      0                  10000 \n",
       "              Diabetes         Hyperlipidemia               BackPain \n",
       "                 10000                  10000                  10000 \n",
       "               Anxiety      Allergic_rhinitis     Reflux_esophagitis \n",
       "                     0                  10000                  10000 \n",
       "                Asthma               Services           Initial_days \n",
       "                 10000                  10000                   1056 \n",
       "           TotalCharge     Additional_charges     Survey_TimelyAdmin \n",
       "                     0                      0                      0 \n",
       "Survey_TimelyTreatment    Survey_TimelyVisits     Survey_Reliability \n",
       "                     0                      0                      0 \n",
       "        Survey_Options  Survey_HoursTreatment  Survey_CourteousStaff \n",
       "                     0                      0                      0 \n",
       "Survey_ActiveListening \n",
       "                     0 "
      ]
     },
     "metadata": {},
     "output_type": "display_data"
    }
   ],
   "source": [
    "colSums(is.na(medical_raw_data))"
   ]
  },
  {
   "cell_type": "markdown",
   "id": "22809166-9884-4696-85ff-057e20f43172",
   "metadata": {},
   "source": [
    "### The results for NA values in columns are the following:\n",
    "- Children = 2588\n",
    "- Age = 2414\n",
    "- Household_Income = 2464\n",
    "- Soft_drink = 2467\n",
    "- Overweight = 982\n",
    "- Anxiety = 984\n",
    "- Initial_days = 1056"
   ]
  },
  {
   "cell_type": "markdown",
   "id": "567eaa79-e8b4-427c-8e11-b2f294d07e1e",
   "metadata": {},
   "source": [
    "# Let's search for missing data using the ncol function to see if there's a specific number of columns."
   ]
  },
  {
   "cell_type": "code",
   "execution_count": 53,
   "id": "01c33c9f-cda4-48ef-95e9-94f92a1f7708",
   "metadata": {
    "vscode": {
     "languageId": "r"
    }
   },
   "outputs": [
    {
     "data": {
      "text/plain": [
       "NULL"
      ]
     },
     "metadata": {},
     "output_type": "display_data"
    }
   ],
   "source": [
    "ncol(medical_raw_data$Children)"
   ]
  },
  {
   "cell_type": "markdown",
   "id": "39f3f853-6ae0-44eb-bf28-858cdd412285",
   "metadata": {},
   "source": [
    "#### The output is NULL since the variables contain NA values. This confirms that, indeed, this is correct. Now, we take a look at the distribution using the mice packages, which is an excellent choice for large data to see the location. Let's use the md.pattern function.\n",
    "\n",
    "*I will use the md.pattern function to display all of the NULL values below.*"
   ]
  },
  {
   "cell_type": "code",
   "execution_count": 55,
   "id": "9f3ef106-5d57-4bbb-9236-4dfe833c675c",
   "metadata": {
    "tags": [],
    "vscode": {
     "languageId": "r"
    }
   },
   "outputs": [
    {
     "data": {
      "text/html": [
       "<table class=\"dataframe\">\n",
       "<caption>A matrix: 3 × 53 of type dbl</caption>\n",
       "<thead>\n",
       "\t<tr><th></th><th scope=col>CaseOrder</th><th scope=col>Zip</th><th scope=col>Lat</th><th scope=col>Lng</th><th scope=col>Population</th><th scope=col>Children</th><th scope=col>Age</th><th scope=col>Household_Income</th><th scope=col>VitD_levels</th><th scope=col>Doc_visits</th><th scope=col>...</th><th scope=col>Complication_risk</th><th scope=col>Arthritis</th><th scope=col>Diabetes</th><th scope=col>Hyperlipidemia</th><th scope=col>BackPain</th><th scope=col>Allergic_rhinitis</th><th scope=col>Reflux_esophagitis</th><th scope=col>Asthma</th><th scope=col>Services</th><th scope=col></th></tr>\n",
       "</thead>\n",
       "<tbody>\n",
       "\t<tr><th scope=row>8944</th><td>1</td><td>1</td><td>1</td><td>1</td><td>1</td><td>1</td><td>1</td><td>1</td><td>1</td><td>1</td><td>...</td><td>    0</td><td>    0</td><td>    0</td><td>    0</td><td>    0</td><td>    0</td><td>    0</td><td>    0</td><td>    0</td><td>    27</td></tr>\n",
       "\t<tr><th scope=row>1056</th><td>1</td><td>1</td><td>1</td><td>1</td><td>1</td><td>1</td><td>1</td><td>1</td><td>1</td><td>1</td><td>...</td><td>    0</td><td>    0</td><td>    0</td><td>    0</td><td>    0</td><td>    0</td><td>    0</td><td>    0</td><td>    0</td><td>    28</td></tr>\n",
       "\t<tr><th scope=row></th><td>0</td><td>0</td><td>0</td><td>0</td><td>0</td><td>0</td><td>0</td><td>0</td><td>0</td><td>0</td><td>...</td><td>10000</td><td>10000</td><td>10000</td><td>10000</td><td>10000</td><td>10000</td><td>10000</td><td>10000</td><td>10000</td><td>271056</td></tr>\n",
       "</tbody>\n",
       "</table>\n"
      ],
      "text/latex": [
       "A matrix: 3 × 53 of type dbl\n",
       "\\begin{tabular}{r|lllllllllllllllllllll}\n",
       "  & CaseOrder & Zip & Lat & Lng & Population & Children & Age & Household\\_Income & VitD\\_levels & Doc\\_visits & ... & Complication\\_risk & Arthritis & Diabetes & Hyperlipidemia & BackPain & Allergic\\_rhinitis & Reflux\\_esophagitis & Asthma & Services & \\\\\n",
       "\\hline\n",
       "\t8944 & 1 & 1 & 1 & 1 & 1 & 1 & 1 & 1 & 1 & 1 & ... &     0 &     0 &     0 &     0 &     0 &     0 &     0 &     0 &     0 &     27\\\\\n",
       "\t1056 & 1 & 1 & 1 & 1 & 1 & 1 & 1 & 1 & 1 & 1 & ... &     0 &     0 &     0 &     0 &     0 &     0 &     0 &     0 &     0 &     28\\\\\n",
       "\t & 0 & 0 & 0 & 0 & 0 & 0 & 0 & 0 & 0 & 0 & ... & 10000 & 10000 & 10000 & 10000 & 10000 & 10000 & 10000 & 10000 & 10000 & 271056\\\\\n",
       "\\end{tabular}\n"
      ],
      "text/markdown": [
       "\n",
       "A matrix: 3 × 53 of type dbl\n",
       "\n",
       "| <!--/--> | CaseOrder | Zip | Lat | Lng | Population | Children | Age | Household_Income | VitD_levels | Doc_visits | ... | Complication_risk | Arthritis | Diabetes | Hyperlipidemia | BackPain | Allergic_rhinitis | Reflux_esophagitis | Asthma | Services | <!----> |\n",
       "|---|---|---|---|---|---|---|---|---|---|---|---|---|---|---|---|---|---|---|---|---|---|\n",
       "| 8944 | 1 | 1 | 1 | 1 | 1 | 1 | 1 | 1 | 1 | 1 | ... |     0 |     0 |     0 |     0 |     0 |     0 |     0 |     0 |     0 |     27 |\n",
       "| 1056 | 1 | 1 | 1 | 1 | 1 | 1 | 1 | 1 | 1 | 1 | ... |     0 |     0 |     0 |     0 |     0 |     0 |     0 |     0 |     0 |     28 |\n",
       "| <!----> | 0 | 0 | 0 | 0 | 0 | 0 | 0 | 0 | 0 | 0 | ... | 10000 | 10000 | 10000 | 10000 | 10000 | 10000 | 10000 | 10000 | 10000 | 271056 |\n",
       "\n"
      ],
      "text/plain": [
       "     CaseOrder Zip Lat Lng Population Children Age Household_Income VitD_levels\n",
       "8944 1         1   1   1   1          1        1   1                1          \n",
       "1056 1         1   1   1   1          1        1   1                1          \n",
       "     0         0   0   0   0          0        0   0                0          \n",
       "     Doc_visits ... Complication_risk Arthritis Diabetes Hyperlipidemia\n",
       "8944 1          ...     0                 0         0        0         \n",
       "1056 1          ...     0                 0         0        0         \n",
       "     0          ... 10000             10000     10000    10000         \n",
       "     BackPain Allergic_rhinitis Reflux_esophagitis Asthma Services       \n",
       "8944     0        0                 0                  0      0        27\n",
       "1056     0        0                 0                  0      0        28\n",
       "     10000    10000             10000              10000  10000    271056"
      ]
     },
     "metadata": {},
     "output_type": "display_data"
    },
    {
     "data": {
      "image/png": "[encoded data removed]",
      "text/plain": [
       "plot without title"
      ]
     },
     "metadata": {
      "image/png": {
       "height": 360,
       "width": 420
      }
     },
     "output_type": "display_data"
    }
   ],
   "source": [
    "md.pattern(medical_raw_data)"
   ]
  },
  {
   "cell_type": "markdown",
   "id": "d4a9bae4-ea1a-4c83-9e9b-efd27f312602",
   "metadata": {},
   "source": [
    "### After taking a look at the visual above, it appears that half of the data has the most missing values. In the following codes, we will look at the columns in depth to see where the missing data is."
   ]
  },
  {
   "cell_type": "markdown",
   "id": "9b9e99f2-f05f-46d2-aa4c-cbf0f5f8299d",
   "metadata": {},
   "source": [
    "I am printing the name of the columns below:"
   ]
  },
  {
   "cell_type": "code",
   "execution_count": 56,
   "id": "234c72dc-7ba1-427b-a35a-55cc5f8b3fd4",
   "metadata": {
    "vscode": {
     "languageId": "r"
    }
   },
   "outputs": [
    {
     "data": {
      "text/html": [
       "<style>\n",
       ".list-inline {list-style: none; margin:0; padding: 0}\n",
       ".list-inline>li {display: inline-block}\n",
       ".list-inline>li:not(:last-child)::after {content: \"\\00b7\"; padding: 0 .5ex}\n",
       "</style>\n",
       "<ol class=list-inline><li>'CaseOrder'</li><li>'Customer_id'</li><li>'Interaction'</li><li>'UID'</li><li>'City'</li><li>'State'</li><li>'County'</li><li>'Zip'</li><li>'Lat'</li><li>'Lng'</li><li>'Population'</li><li>'Area'</li><li>'Timezone'</li><li>'Job'</li><li>'Children'</li><li>'Age'</li><li>'Education'</li><li>'Employment'</li><li>'Household_Income'</li><li>'Marital'</li><li>'Gender'</li><li>'ReAdmis'</li><li>'VitD_levels'</li><li>'Doc_visits'</li><li>'Full_meals_eaten'</li><li>'VitD_supp'</li><li>'Soft_drink'</li><li>'Initial_admin'</li><li>'HighBlood'</li><li>'Stroke'</li><li>'Complication_risk'</li><li>'Overweight'</li><li>'Arthritis'</li><li>'Diabetes'</li><li>'Hyperlipidemia'</li><li>'BackPain'</li><li>'Anxiety'</li><li>'Allergic_rhinitis'</li><li>'Reflux_esophagitis'</li><li>'Asthma'</li><li>'Services'</li><li>'Initial_days'</li><li>'TotalCharge'</li><li>'Additional_charges'</li><li>'Survey_TimelyAdmin'</li><li>'Survey_TimelyTreatment'</li><li>'Survey_TimelyVisits'</li><li>'Survey_Reliability'</li><li>'Survey_Options'</li><li>'Survey_HoursTreatment'</li><li>'Survey_CourteousStaff'</li><li>'Survey_ActiveListening'</li></ol>\n"
      ],
      "text/latex": [
       "\\begin{enumerate*}\n",
       "\\item 'CaseOrder'\n",
       "\\item 'Customer\\_id'\n",
       "\\item 'Interaction'\n",
       "\\item 'UID'\n",
       "\\item 'City'\n",
       "\\item 'State'\n",
       "\\item 'County'\n",
       "\\item 'Zip'\n",
       "\\item 'Lat'\n",
       "\\item 'Lng'\n",
       "\\item 'Population'\n",
       "\\item 'Area'\n",
       "\\item 'Timezone'\n",
       "\\item 'Job'\n",
       "\\item 'Children'\n",
       "\\item 'Age'\n",
       "\\item 'Education'\n",
       "\\item 'Employment'\n",
       "\\item 'Household\\_Income'\n",
       "\\item 'Marital'\n",
       "\\item 'Gender'\n",
       "\\item 'ReAdmis'\n",
       "\\item 'VitD\\_levels'\n",
       "\\item 'Doc\\_visits'\n",
       "\\item 'Full\\_meals\\_eaten'\n",
       "\\item 'VitD\\_supp'\n",
       "\\item 'Soft\\_drink'\n",
       "\\item 'Initial\\_admin'\n",
       "\\item 'HighBlood'\n",
       "\\item 'Stroke'\n",
       "\\item 'Complication\\_risk'\n",
       "\\item 'Overweight'\n",
       "\\item 'Arthritis'\n",
       "\\item 'Diabetes'\n",
       "\\item 'Hyperlipidemia'\n",
       "\\item 'BackPain'\n",
       "\\item 'Anxiety'\n",
       "\\item 'Allergic\\_rhinitis'\n",
       "\\item 'Reflux\\_esophagitis'\n",
       "\\item 'Asthma'\n",
       "\\item 'Services'\n",
       "\\item 'Initial\\_days'\n",
       "\\item 'TotalCharge'\n",
       "\\item 'Additional\\_charges'\n",
       "\\item 'Survey\\_TimelyAdmin'\n",
       "\\item 'Survey\\_TimelyTreatment'\n",
       "\\item 'Survey\\_TimelyVisits'\n",
       "\\item 'Survey\\_Reliability'\n",
       "\\item 'Survey\\_Options'\n",
       "\\item 'Survey\\_HoursTreatment'\n",
       "\\item 'Survey\\_CourteousStaff'\n",
       "\\item 'Survey\\_ActiveListening'\n",
       "\\end{enumerate*}\n"
      ],
      "text/markdown": [
       "1. 'CaseOrder'\n",
       "2. 'Customer_id'\n",
       "3. 'Interaction'\n",
       "4. 'UID'\n",
       "5. 'City'\n",
       "6. 'State'\n",
       "7. 'County'\n",
       "8. 'Zip'\n",
       "9. 'Lat'\n",
       "10. 'Lng'\n",
       "11. 'Population'\n",
       "12. 'Area'\n",
       "13. 'Timezone'\n",
       "14. 'Job'\n",
       "15. 'Children'\n",
       "16. 'Age'\n",
       "17. 'Education'\n",
       "18. 'Employment'\n",
       "19. 'Household_Income'\n",
       "20. 'Marital'\n",
       "21. 'Gender'\n",
       "22. 'ReAdmis'\n",
       "23. 'VitD_levels'\n",
       "24. 'Doc_visits'\n",
       "25. 'Full_meals_eaten'\n",
       "26. 'VitD_supp'\n",
       "27. 'Soft_drink'\n",
       "28. 'Initial_admin'\n",
       "29. 'HighBlood'\n",
       "30. 'Stroke'\n",
       "31. 'Complication_risk'\n",
       "32. 'Overweight'\n",
       "33. 'Arthritis'\n",
       "34. 'Diabetes'\n",
       "35. 'Hyperlipidemia'\n",
       "36. 'BackPain'\n",
       "37. 'Anxiety'\n",
       "38. 'Allergic_rhinitis'\n",
       "39. 'Reflux_esophagitis'\n",
       "40. 'Asthma'\n",
       "41. 'Services'\n",
       "42. 'Initial_days'\n",
       "43. 'TotalCharge'\n",
       "44. 'Additional_charges'\n",
       "45. 'Survey_TimelyAdmin'\n",
       "46. 'Survey_TimelyTreatment'\n",
       "47. 'Survey_TimelyVisits'\n",
       "48. 'Survey_Reliability'\n",
       "49. 'Survey_Options'\n",
       "50. 'Survey_HoursTreatment'\n",
       "51. 'Survey_CourteousStaff'\n",
       "52. 'Survey_ActiveListening'\n",
       "\n",
       "\n"
      ],
      "text/plain": [
       " [1] \"CaseOrder\"              \"Customer_id\"            \"Interaction\"           \n",
       " [4] \"UID\"                    \"City\"                   \"State\"                 \n",
       " [7] \"County\"                 \"Zip\"                    \"Lat\"                   \n",
       "[10] \"Lng\"                    \"Population\"             \"Area\"                  \n",
       "[13] \"Timezone\"               \"Job\"                    \"Children\"              \n",
       "[16] \"Age\"                    \"Education\"              \"Employment\"            \n",
       "[19] \"Household_Income\"       \"Marital\"                \"Gender\"                \n",
       "[22] \"ReAdmis\"                \"VitD_levels\"            \"Doc_visits\"            \n",
       "[25] \"Full_meals_eaten\"       \"VitD_supp\"              \"Soft_drink\"            \n",
       "[28] \"Initial_admin\"          \"HighBlood\"              \"Stroke\"                \n",
       "[31] \"Complication_risk\"      \"Overweight\"             \"Arthritis\"             \n",
       "[34] \"Diabetes\"               \"Hyperlipidemia\"         \"BackPain\"              \n",
       "[37] \"Anxiety\"                \"Allergic_rhinitis\"      \"Reflux_esophagitis\"    \n",
       "[40] \"Asthma\"                 \"Services\"               \"Initial_days\"          \n",
       "[43] \"TotalCharge\"            \"Additional_charges\"     \"Survey_TimelyAdmin\"    \n",
       "[46] \"Survey_TimelyTreatment\" \"Survey_TimelyVisits\"    \"Survey_Reliability\"    \n",
       "[49] \"Survey_Options\"         \"Survey_HoursTreatment\"  \"Survey_CourteousStaff\" \n",
       "[52] \"Survey_ActiveListening\""
      ]
     },
     "metadata": {},
     "output_type": "display_data"
    }
   ],
   "source": [
    "colnames(medical_raw_data)"
   ]
  },
  {
   "cell_type": "markdown",
   "id": "7302138c-57cc-4a77-a3f5-26e4d0954a0a",
   "metadata": {},
   "source": [
    "I am printing the total number of the columns below:"
   ]
  },
  {
   "cell_type": "code",
   "execution_count": 57,
   "id": "2981a861-5597-4e7a-97b5-aa402a277924",
   "metadata": {
    "vscode": {
     "languageId": "r"
    }
   },
   "outputs": [
    {
     "data": {
      "text/html": [
       "52"
      ],
      "text/latex": [
       "52"
      ],
      "text/markdown": [
       "52"
      ],
      "text/plain": [
       "[1] 52"
      ]
     },
     "metadata": {},
     "output_type": "display_data"
    }
   ],
   "source": [
    "ncol(medical_raw_data)"
   ]
  },
  {
   "cell_type": "markdown",
   "id": "b3852596-bffd-4c8b-a3a0-0fd71b6951e7",
   "metadata": {},
   "source": [
    "I am printing the number of rows below:"
   ]
  },
  {
   "cell_type": "code",
   "execution_count": 58,
   "id": "4f6def77-2cac-4335-9e46-8e880c052e92",
   "metadata": {
    "vscode": {
     "languageId": "r"
    }
   },
   "outputs": [
    {
     "data": {
      "text/html": [
       "10000"
      ],
      "text/latex": [
       "10000"
      ],
      "text/markdown": [
       "10000"
      ],
      "text/plain": [
       "[1] 10000"
      ]
     },
     "metadata": {},
     "output_type": "display_data"
    }
   ],
   "source": [
    "nrow(medical_raw_data)"
   ]
  },
  {
   "cell_type": "markdown",
   "id": "72805583-f433-4b1e-a189-175876b301f4",
   "metadata": {},
   "source": [
    "### NAs will be addressed and/or at the end of the data cleaning process since there are a few more steps I will be taking before throughout the data cleaning process."
   ]
  },
  {
   "cell_type": "markdown",
   "id": "2e21f518-8a87-429f-9a82-c84616dcd2ba",
   "metadata": {},
   "source": [
    "# 4- It is crucial to change any non-numeric data (categorical) into numeric data:"
   ]
  },
  {
   "cell_type": "code",
   "execution_count": 59,
   "id": "a6c75e5b-5285-4b35-9a7f-23ff350aa2d8",
   "metadata": {
    "tags": [],
    "vscode": {
     "languageId": "r"
    }
   },
   "outputs": [],
   "source": [
    "medical_raw_data$Customer_id <- as.numeric(medical_raw_data$Customer_id)\n",
    "medical_raw_data$Interaction <- as.numeric(medical_raw_data$Interaction)\n",
    "medical_raw_data$UID <- as.numeric(medical_raw_data$UID)\n",
    "medical_raw_data$City <- as.numeric(medical_raw_data$City)\n",
    "medical_raw_data$State <- as.numeric(medical_raw_data$State)\n",
    "medical_raw_data$County <- as.numeric(medical_raw_data$County)\n",
    "medical_raw_data$Area <- as.numeric(medical_raw_data$Area)\n",
    "medical_raw_data$Timezone <- as.numeric(medical_raw_data$Timezone)\n",
    "medical_raw_data$Job <- as.numeric(medical_raw_data$Job)\n",
    "medical_raw_data$Education <- as.numeric(medical_raw_data$Education)\n",
    "medical_raw_data$Employment <- as.numeric(medical_raw_data$Employment)\n",
    "medical_raw_data$Marital <- as.numeric(medical_raw_data$Marital)\n",
    "medical_raw_data$Gender <- as.numeric(medical_raw_data$Gender)\n",
    "medical_raw_data$Employment <- as.numeric(medical_raw_data$Employment)\n",
    "medical_raw_data$ReAdmis <- as.numeric(medical_raw_data$ReAdmis)\n",
    "medical_raw_data$Soft_drink <- as.numeric(medical_raw_data$Soft_drink)\n",
    "medical_raw_data$Initial_admin <- as.numeric(medical_raw_data$Initial_admin)\n",
    "medical_raw_data$Initial_admin <- as.numeric(medical_raw_data$HighBlood)\n",
    "medical_raw_data$Initial_admin <- as.numeric(medical_raw_data$Stroke)\n",
    "medical_raw_data$Complication_risk <- as.numeric(medical_raw_data$Complication_risk)\n",
    "medical_raw_data$Overweight <- as.numeric(medical_raw_data$Overweight)\n",
    "medical_raw_data$Arthritis <- as.numeric(medical_raw_data$Arthritis)\n",
    "medical_raw_data$Diabetes <- as.numeric(medical_raw_data$Diabetes)\n",
    "medical_raw_data$Hyperlipidemia <- as.numeric(medical_raw_data$Hyperlipidemia)\n",
    "medical_raw_data$BackPain <- as.numeric(medical_raw_data$BackPain)\n",
    "medical_raw_data$Allergic_rhinitis <- as.numeric(medical_raw_data$Allergic_rhinitis)\n",
    "medical_raw_data$Reflux_esophagitis <- as.numeric(medical_raw_data$Reflux_esophagitis)\n",
    "medical_raw_data$Asthma <- as.numeric(medical_raw_data$Asthma)\n",
    "medical_raw_data$Services <- as.numeric(medical_raw_data$Services)\n",
    "medical_raw_data$CaseOrder <- as.numeric(medical_raw_data$CaseOrder)\n",
    "medical_raw_data$Zip <- as.numeric(medical_raw_data$Zip)\n",
    "medical_raw_data$Population <- as.numeric(medical_raw_data$Population)\n",
    "medical_raw_data$Children <- as.numeric(medical_raw_data$Children)\n",
    "medical_raw_data$Age <- as.numeric(medical_raw_data$Age)\n",
    "medical_raw_data$Doc_visits <- as.numeric(medical_raw_data$Doc_visits)\n",
    "medical_raw_data$Full_meals_eaten <- as.numeric(medical_raw_data$Full_meals_eaten)\n",
    "medical_raw_data$VitD_supp  <- as.numeric(medical_raw_data$VitD_supp)\n",
    "medical_raw_data$HighBlood  <- as.numeric(medical_raw_data$HighBlood)\n",
    "medical_raw_data$Stroke  <- as.numeric(medical_raw_data$Stroke)\n",
    "medical_raw_data$Anxiety  <- as.numeric(medical_raw_data$Anxiety)\n",
    "medical_raw_data$Survey_TimelyAdmin  <- as.numeric(medical_raw_data$Survey_TimelyAdmin)\n",
    "medical_raw_data$Survey_TimelyTreatment  <- as.numeric(medical_raw_data$Survey_TimelyTreatment)\n",
    "medical_raw_data$Survey_Reliability  <- as.numeric(medical_raw_data$Survey_Reliability)\n",
    "medical_raw_data$Survey_Options  <- as.numeric(medical_raw_data$Survey_Options)\n",
    "medical_raw_data$Survey_HoursTreatment  <- as.numeric(medical_raw_data$Survey_HoursTreatment)\n",
    "medical_raw_data$Survey_CourteousStaff  <- as.numeric(medical_raw_data$Survey_CourteousStaff)\n",
    "medical_raw_data$Survey_ActiveListening  <- as.numeric(medical_raw_data$Survey_ActiveListening)"
   ]
  },
  {
   "cell_type": "markdown",
   "id": "ce6fa075-b708-4340-bd4a-34e7898d3073",
   "metadata": {},
   "source": [
    "### I will make sure that the data is, indeed, converted all non-numerics into numerics using the following code:"
   ]
  },
  {
   "cell_type": "code",
   "execution_count": 60,
   "id": "87730818-c27e-4923-ac8a-632559f0b395",
   "metadata": {
    "vscode": {
     "languageId": "r"
    }
   },
   "outputs": [
    {
     "name": "stdout",
     "output_type": "stream",
     "text": [
      "tibble [10,000 x 52] (S3: tbl_df/tbl/data.frame)\n",
      " $ CaseOrder             : num [1:10000] 1 2 3 4 5 6 7 8 9 10 ...\n",
      " $ Customer_id           : num [1:10000] NA NA NA NA NA NA NA NA NA NA ...\n",
      " $ Interaction           : num [1:10000] NA NA NA NA NA NA NA NA NA NA ...\n",
      " $ UID                   : num [1:10000] NA NA NA NA NA NA NA NA NA NA ...\n",
      " $ City                  : num [1:10000] NA NA NA NA NA NA NA NA NA NA ...\n",
      " $ State                 : num [1:10000] NA NA NA NA NA NA NA NA NA NA ...\n",
      " $ County                : num [1:10000] NA NA NA NA NA NA NA NA NA NA ...\n",
      " $ Zip                   : num [1:10000] 35621 32446 57110 56072 23181 ...\n",
      " $ Lat                   : num [1:10000] 34.3 30.8 43.5 43.9 37.6 ...\n",
      " $ Lng                   : num [1:10000] -86.7 -85.2 -96.6 -93.5 -76.9 ...\n",
      " $ Population            : num [1:10000] 2951 11303 17125 2162 5287 ...\n",
      " $ Area                  : num [1:10000] NA NA NA NA NA NA NA NA NA NA ...\n",
      " $ Timezone              : num [1:10000] NA NA NA NA NA NA NA NA NA NA ...\n",
      " $ Job                   : num [1:10000] NA NA NA NA NA NA NA NA NA NA ...\n",
      " $ Children              : num [1:10000] 1 3 3 0 1 1 0 7 1 2 ...\n",
      " $ Age                   : num [1:10000] 53 51 53 78 22 76 50 40 48 78 ...\n",
      " $ Education             : num [1:10000] NA NA NA NA NA NA NA NA NA NA ...\n",
      " $ Employment            : num [1:10000] NA NA NA NA NA NA NA NA NA NA ...\n",
      " $ Household_Income      : num [1:10000] 86576 46806 14370 39741 1210 ...\n",
      " $ Marital               : num [1:10000] NA NA NA NA NA NA NA NA NA NA ...\n",
      " $ Gender                : num [1:10000] NA NA NA NA NA NA NA NA NA NA ...\n",
      " $ ReAdmis               : num [1:10000] NA NA NA NA NA NA NA NA NA NA ...\n",
      " $ VitD_levels           : num [1:10000] 17.8 19 17.4 17.4 16.9 ...\n",
      " $ Doc_visits            : num [1:10000] 6 4 4 4 5 6 6 7 6 7 ...\n",
      " $ Full_meals_eaten      : num [1:10000] 0 2 1 1 0 0 0 2 3 1 ...\n",
      " $ VitD_supp             : num [1:10000] 0 1 0 0 2 0 0 0 0 2 ...\n",
      " $ Soft_drink            : num [1:10000] NA NA NA NA NA NA NA NA NA NA ...\n",
      " $ Initial_admin         : num [1:10000] NA NA NA NA NA NA NA NA NA NA ...\n",
      " $ HighBlood             : num [1:10000] NA NA NA NA NA NA NA NA NA NA ...\n",
      " $ Stroke                : num [1:10000] NA NA NA NA NA NA NA NA NA NA ...\n",
      " $ Complication_risk     : num [1:10000] NA NA NA NA NA NA NA NA NA NA ...\n",
      " $ Overweight            : num [1:10000] 0 1 1 0 0 1 1 1 1 1 ...\n",
      " $ Arthritis             : num [1:10000] NA NA NA NA NA NA NA NA NA NA ...\n",
      " $ Diabetes              : num [1:10000] NA NA NA NA NA NA NA NA NA NA ...\n",
      " $ Hyperlipidemia        : num [1:10000] NA NA NA NA NA NA NA NA NA NA ...\n",
      " $ BackPain              : num [1:10000] NA NA NA NA NA NA NA NA NA NA ...\n",
      " $ Anxiety               : num [1:10000] 1 0 0 0 0 0 1 0 0 0 ...\n",
      " $ Allergic_rhinitis     : num [1:10000] NA NA NA NA NA NA NA NA NA NA ...\n",
      " $ Reflux_esophagitis    : num [1:10000] NA NA NA NA NA NA NA NA NA NA ...\n",
      " $ Asthma                : num [1:10000] NA NA NA NA NA NA NA NA NA NA ...\n",
      " $ Services              : num [1:10000] NA NA NA NA NA NA NA NA NA NA ...\n",
      " $ Initial_days          : num [1:10000] 10.59 15.13 4.77 1.71 1.25 ...\n",
      " $ TotalCharge           : num [1:10000] 3191 4215 2178 2465 1886 ...\n",
      " $ Additional_charges    : num [1:10000] 17939 17613 17505 12993 3717 ...\n",
      " $ Survey_TimelyAdmin    : num [1:10000] 3 3 2 3 2 4 4 1 3 5 ...\n",
      " $ Survey_TimelyTreatment: num [1:10000] 3 4 4 5 1 5 3 2 3 5 ...\n",
      " $ Survey_TimelyVisits   : num [1:10000] 2 3 4 5 3 4 3 2 2 5 ...\n",
      " $ Survey_Reliability    : num [1:10000] 2 4 4 3 3 4 2 5 3 3 ...\n",
      " $ Survey_Options        : num [1:10000] 4 4 3 4 5 3 3 4 3 4 ...\n",
      " $ Survey_HoursTreatment : num [1:10000] 3 4 4 5 3 5 4 2 3 2 ...\n",
      " $ Survey_CourteousStaff : num [1:10000] 3 3 3 5 4 4 5 4 4 3 ...\n",
      " $ Survey_ActiveListening: num [1:10000] 4 3 3 5 3 6 5 2 2 2 ...\n"
     ]
    }
   ],
   "source": [
    "str(medical_raw_data)"
   ]
  },
  {
   "cell_type": "markdown",
   "id": "992a7dca-e0b1-4da0-bf66-47916aa4a62b",
   "metadata": {},
   "source": [
    "##### *Success! All of the variables from the data set that was not numeric are, indeed, numeric.*"
   ]
  },
  {
   "cell_type": "markdown",
   "id": "531d8184-ab44-4d39-ae72-66fd7ffcd6a3",
   "metadata": {},
   "source": [
    "# 4- Next, it is also vital to identify outliers using the summary function, boxplots, and check for normal probability using plots to further confirm this."
   ]
  },
  {
   "cell_type": "markdown",
   "id": "0f82de89-82b4-4c9c-9865-dbedb5567a7c",
   "metadata": {},
   "source": [
    "What does min, 1st quartile, median, mean, 3rd quartile, and max mean?\n",
    "- Min.: is the minimum value of the data set (per variable)\n",
    "- 1st Qu.: is the middle value (median) of the lower half of the data (per variable)\n",
    "- Median: is the mid-point of the data and marks the data in half and demonstrates that divided into two parts. Half is greater than the midpoint and half is less.\n",
    "- Mean: is the average value of the data.\n",
    "- 3rd Qu.: is the middle value (median) of the upper half of the data (per variable)\n",
    "- Max: the high data point of the dataset (per variable), not including any outliers."
   ]
  },
  {
   "cell_type": "markdown",
   "id": "084dbfa9-c777-4f0b-ba68-2218b780a768",
   "metadata": {},
   "source": [
    "## *I will use the summary() function to display all of the NULL values below.*"
   ]
  },
  {
   "cell_type": "code",
   "execution_count": 61,
   "id": "4c0e5672-f39d-4a1e-b615-bc296f57154f",
   "metadata": {
    "vscode": {
     "languageId": "r"
    }
   },
   "outputs": [
    {
     "data": {
      "text/plain": [
       "   CaseOrder      Customer_id     Interaction         UID       \n",
       " Min.   :    1   Min.   : NA     Min.   : NA     Min.   : NA    \n",
       " 1st Qu.: 2501   1st Qu.: NA     1st Qu.: NA     1st Qu.: NA    \n",
       " Median : 5000   Median : NA     Median : NA     Median : NA    \n",
       " Mean   : 5000   Mean   :NaN     Mean   :NaN     Mean   :NaN    \n",
       " 3rd Qu.: 7500   3rd Qu.: NA     3rd Qu.: NA     3rd Qu.: NA    \n",
       " Max.   :10000   Max.   : NA     Max.   : NA     Max.   : NA    \n",
       "                 NA's   :10000   NA's   :10000   NA's   :10000  \n",
       "      City           State           County           Zip       \n",
       " Min.   : NA     Min.   : NA     Min.   : NA     Min.   :  610  \n",
       " 1st Qu.: NA     1st Qu.: NA     1st Qu.: NA     1st Qu.:27592  \n",
       " Median : NA     Median : NA     Median : NA     Median :50207  \n",
       " Mean   :NaN     Mean   :NaN     Mean   :NaN     Mean   :50159  \n",
       " 3rd Qu.: NA     3rd Qu.: NA     3rd Qu.: NA     3rd Qu.:72412  \n",
       " Max.   : NA     Max.   : NA     Max.   : NA     Max.   :99929  \n",
       " NA's   :10000   NA's   :10000   NA's   :10000                  \n",
       "      Lat             Lng            Population            Area      \n",
       " Min.   :17.97   Min.   :-174.21   Min.   :     0.0   Min.   : NA    \n",
       " 1st Qu.:35.26   1st Qu.: -97.35   1st Qu.:   694.8   1st Qu.: NA    \n",
       " Median :39.42   Median : -88.40   Median :  2769.0   Median : NA    \n",
       " Mean   :38.75   Mean   : -91.24   Mean   :  9965.2   Mean   :NaN    \n",
       " 3rd Qu.:42.04   3rd Qu.: -80.44   3rd Qu.: 13945.0   3rd Qu.: NA    \n",
       " Max.   :70.56   Max.   : -65.29   Max.   :122814.0   Max.   : NA    \n",
       "                                                      NA's   :10000  \n",
       "    Timezone          Job           Children           Age       \n",
       " Min.   : NA     Min.   : NA     Min.   : 0.000   Min.   :18.00  \n",
       " 1st Qu.: NA     1st Qu.: NA     1st Qu.: 1.000   1st Qu.:41.00  \n",
       " Median : NA     Median : NA     Median : 1.000   Median :53.00  \n",
       " Mean   :NaN     Mean   :NaN     Mean   : 1.814   Mean   :53.22  \n",
       " 3rd Qu.: NA     3rd Qu.: NA     3rd Qu.: 3.000   3rd Qu.:65.00  \n",
       " Max.   : NA     Max.   : NA     Max.   :10.000   Max.   :89.00  \n",
       " NA's   :10000   NA's   :10000                                   \n",
       "   Education       Employment    Household_Income      Marital     \n",
       " Min.   : NA     Min.   : NA     Min.   :   154.1   Min.   : NA    \n",
       " 1st Qu.: NA     1st Qu.: NA     1st Qu.: 23956.2   1st Qu.: NA    \n",
       " Median : NA     Median : NA     Median : 33942.3   Median : NA    \n",
       " Mean   :NaN     Mean   :NaN     Mean   : 38872.4   Mean   :NaN    \n",
       " 3rd Qu.: NA     3rd Qu.: NA     3rd Qu.: 46466.8   3rd Qu.: NA    \n",
       " Max.   : NA     Max.   : NA     Max.   :207249.1   Max.   : NA    \n",
       " NA's   :10000   NA's   :10000                      NA's   :10000  \n",
       "     Gender         ReAdmis       VitD_levels       Doc_visits   \n",
       " Min.   : NA     Min.   : NA     Min.   : 9.519   Min.   :1.000  \n",
       " 1st Qu.: NA     1st Qu.: NA     1st Qu.:16.513   1st Qu.:4.000  \n",
       " Median : NA     Median : NA     Median :18.081   Median :5.000  \n",
       " Mean   :NaN     Mean   :NaN     Mean   :19.413   Mean   :5.012  \n",
       " 3rd Qu.: NA     3rd Qu.: NA     3rd Qu.:19.790   3rd Qu.:6.000  \n",
       " Max.   : NA     Max.   : NA     Max.   :53.019   Max.   :9.000  \n",
       " NA's   :10000   NA's   :10000                                   \n",
       " Full_meals_eaten   VitD_supp        Soft_drink    Initial_admin  \n",
       " Min.   :0.000    Min.   :0.0000   Min.   : NA     Min.   : NA    \n",
       " 1st Qu.:0.000    1st Qu.:0.0000   1st Qu.: NA     1st Qu.: NA    \n",
       " Median :1.000    Median :0.0000   Median : NA     Median : NA    \n",
       " Mean   :1.001    Mean   :0.3989   Mean   :NaN     Mean   :NaN    \n",
       " 3rd Qu.:2.000    3rd Qu.:1.0000   3rd Qu.: NA     3rd Qu.: NA    \n",
       " Max.   :7.000    Max.   :5.0000   Max.   : NA     Max.   : NA    \n",
       "                                   NA's   :10000   NA's   :10000  \n",
       "   HighBlood         Stroke      Complication_risk   Overweight    \n",
       " Min.   : NA     Min.   : NA     Min.   : NA       Min.   :0.0000  \n",
       " 1st Qu.: NA     1st Qu.: NA     1st Qu.: NA       1st Qu.:0.0000  \n",
       " Median : NA     Median : NA     Median : NA       Median :1.0000  \n",
       " Mean   :NaN     Mean   :NaN     Mean   :NaN       Mean   :0.7377  \n",
       " 3rd Qu.: NA     3rd Qu.: NA     3rd Qu.: NA       3rd Qu.:1.0000  \n",
       " Max.   : NA     Max.   : NA     Max.   : NA       Max.   :1.0000  \n",
       " NA's   :10000   NA's   :10000   NA's   :10000                     \n",
       "   Arthritis        Diabetes     Hyperlipidemia     BackPain    \n",
       " Min.   : NA     Min.   : NA     Min.   : NA     Min.   : NA    \n",
       " 1st Qu.: NA     1st Qu.: NA     1st Qu.: NA     1st Qu.: NA    \n",
       " Median : NA     Median : NA     Median : NA     Median : NA    \n",
       " Mean   :NaN     Mean   :NaN     Mean   :NaN     Mean   :NaN    \n",
       " 3rd Qu.: NA     3rd Qu.: NA     3rd Qu.: NA     3rd Qu.: NA    \n",
       " Max.   : NA     Max.   : NA     Max.   : NA     Max.   : NA    \n",
       " NA's   :10000   NA's   :10000   NA's   :10000   NA's   :10000  \n",
       "    Anxiety       Allergic_rhinitis Reflux_esophagitis     Asthma     \n",
       " Min.   :0.0000   Min.   : NA       Min.   : NA        Min.   : NA    \n",
       " 1st Qu.:0.0000   1st Qu.: NA       1st Qu.: NA        1st Qu.: NA    \n",
       " Median :0.0000   Median : NA       Median : NA        Median : NA    \n",
       " Mean   :0.2906   Mean   :NaN       Mean   :NaN        Mean   :NaN    \n",
       " 3rd Qu.:1.0000   3rd Qu.: NA       3rd Qu.: NA        3rd Qu.: NA    \n",
       " Max.   :1.0000   Max.   : NA       Max.   : NA        Max.   : NA    \n",
       "                  NA's   :10000     NA's   :10000      NA's   :10000  \n",
       "    Services      Initial_days     TotalCharge    Additional_charges\n",
       " Min.   : NA     Min.   : 1.002   Min.   : 1257   Min.   : 3126     \n",
       " 1st Qu.: NA     1st Qu.: 7.912   1st Qu.: 3253   1st Qu.: 7986     \n",
       " Median : NA     Median :34.447   Median : 5852   Median :11574     \n",
       " Mean   :NaN     Mean   :34.432   Mean   : 5892   Mean   :12935     \n",
       " 3rd Qu.: NA     3rd Qu.:61.125   3rd Qu.: 7615   3rd Qu.:15626     \n",
       " Max.   : NA     Max.   :71.981   Max.   :21524   Max.   :30566     \n",
       " NA's   :10000   NA's   :1056                                       \n",
       " Survey_TimelyAdmin Survey_TimelyTreatment Survey_TimelyVisits\n",
       " Min.   :1.000      Min.   :1.000          Min.   :1.000      \n",
       " 1st Qu.:3.000      1st Qu.:3.000          1st Qu.:3.000      \n",
       " Median :4.000      Median :3.000          Median :4.000      \n",
       " Mean   :3.519      Mean   :3.507          Mean   :3.511      \n",
       " 3rd Qu.:4.000      3rd Qu.:4.000          3rd Qu.:4.000      \n",
       " Max.   :8.000      Max.   :7.000          Max.   :8.000      \n",
       "                                                              \n",
       " Survey_Reliability Survey_Options  Survey_HoursTreatment Survey_CourteousStaff\n",
       " Min.   :1.000      Min.   :1.000   Min.   :1.000         Min.   :1.000        \n",
       " 1st Qu.:3.000      1st Qu.:3.000   1st Qu.:3.000         1st Qu.:3.000        \n",
       " Median :4.000      Median :3.000   Median :4.000         Median :3.000        \n",
       " Mean   :3.515      Mean   :3.497   Mean   :3.522         Mean   :3.494        \n",
       " 3rd Qu.:4.000      3rd Qu.:4.000   3rd Qu.:4.000         3rd Qu.:4.000        \n",
       " Max.   :7.000      Max.   :7.000   Max.   :7.000         Max.   :7.000        \n",
       "                                                                               \n",
       " Survey_ActiveListening\n",
       " Min.   :1.00          \n",
       " 1st Qu.:3.00          \n",
       " Median :3.00          \n",
       " Mean   :3.51          \n",
       " 3rd Qu.:4.00          \n",
       " Max.   :7.00          \n",
       "                       "
      ]
     },
     "metadata": {},
     "output_type": "display_data"
    }
   ],
   "source": [
    "summary(medical_raw_data)"
   ]
  },
  {
   "cell_type": "markdown",
   "id": "b48eb46c-697d-4657-8c69-06e635b41459",
   "metadata": {
    "tags": []
   },
   "source": [
    "### NULL values are found in the following variables:\n",
    "- Customer_id\n",
    "- Interaction\n",
    "- UID\n",
    "- City\n",
    "- State\n",
    "- County\n",
    "- Area\n",
    "- Timezone\n",
    "- Job \n",
    "- Education\n",
    "- Employment\n",
    "- Marital\n",
    "- Gender\n",
    "- ReAdmis\n",
    "- Soft_drink    \n",
    "- Initial_admin  \n",
    "- HighBlood\n",
    "- Stroke\n",
    "- Complication_risk\n",
    "- Arthritis\n",
    "- Diabetes\n",
    "- Hyperlipidemia\n",
    "- BackPain\n",
    "- Allergic_rhinitis\n",
    "- Reflux_esophagitis\n",
    "- Asthma\n",
    "- Services"
   ]
  },
  {
   "cell_type": "markdown",
   "id": "c6fe6d37-7033-4692-a1a7-1a1321e05620",
   "metadata": {},
   "source": [
    "## Next, using the summary from above, I will double-check for outliers using plots."
   ]
  },
  {
   "cell_type": "code",
   "execution_count": 62,
   "id": "52fe520e-1ab5-474c-afbc-84668dfb979b",
   "metadata": {
    "vscode": {
     "languageId": "r"
    }
   },
   "outputs": [
    {
     "data": {
      "image/png": "[encoded data removed]",
      "text/plain": [
       "plot without title"
      ]
     },
     "metadata": {
      "image/png": {
       "height": 360,
       "width": 420
      }
     },
     "output_type": "display_data"
    }
   ],
   "source": [
    "ggplot(medical_raw_data, aes(sample = Children)) + geom_qq() + stat_qq()\n",
    "options(repr.plot.width=7, repr.plot.height=6)"
   ]
  },
  {
   "cell_type": "code",
   "execution_count": 63,
   "id": "5d7a74e0-f35c-4193-be38-cac4ef13edfd",
   "metadata": {
    "vscode": {
     "languageId": "r"
    }
   },
   "outputs": [
    {
     "data": {
      "image/png": "[encoded data removed]",
      "text/plain": [
       "plot without title"
      ]
     },
     "metadata": {
      "image/png": {
       "height": 360,
       "width": 420
      }
     },
     "output_type": "display_data"
    }
   ],
   "source": [
    "boxplot(medical_raw_data$Children)\n",
    "options(repr.plot.width=7, repr.plot.height=6)"
   ]
  },
  {
   "cell_type": "code",
   "execution_count": 65,
   "id": "a273bc41-c46f-425a-a4f9-4ec6e86c945b",
   "metadata": {
    "tags": [],
    "vscode": {
     "languageId": "r"
    }
   },
   "outputs": [
    {
     "data": {
      "image/png": "[encoded data removed]",
      "text/plain": [
       "plot without title"
      ]
     },
     "metadata": {
      "image/png": {
       "height": 360,
       "width": 420
      }
     },
     "output_type": "display_data"
    }
   ],
   "source": [
    "ggplot(medical_raw_data, aes(sample = VitD_levels)) + geom_qq() + stat_qq()\n",
    "options(repr.plot.width=7, repr.plot.height=6)"
   ]
  },
  {
   "cell_type": "code",
   "execution_count": 66,
   "id": "04dce9c9-f126-411d-be1a-07435c037e18",
   "metadata": {
    "tags": [],
    "vscode": {
     "languageId": "r"
    }
   },
   "outputs": [
    {
     "data": {
      "image/png": "[encoded data removed]",
      "text/plain": [
       "plot without title"
      ]
     },
     "metadata": {
      "image/png": {
       "height": 360,
       "width": 420
      }
     },
     "output_type": "display_data"
    }
   ],
   "source": [
    "boxplot(medical_raw_data$VitD_levels)\n",
    "options(repr.plot.width=7, repr.plot.height=6)"
   ]
  },
  {
   "cell_type": "code",
   "execution_count": 67,
   "id": "f3be90a0-2c90-4dc1-8ab2-0572067c4bd2",
   "metadata": {
    "vscode": {
     "languageId": "r"
    }
   },
   "outputs": [
    {
     "data": {
      "image/png": "[encoded data removed]",
      "text/plain": [
       "plot without title"
      ]
     },
     "metadata": {
      "image/png": {
       "height": 360,
       "width": 420
      }
     },
     "output_type": "display_data"
    }
   ],
   "source": [
    "ggplot(medical_raw_data, aes(sample = VitD_supp)) + geom_qq() + stat_qq()\n",
    "options(repr.plot.width=7, repr.plot.height=6)"
   ]
  },
  {
   "cell_type": "code",
   "execution_count": 68,
   "id": "51ce0a8e-ec76-4411-b125-81b434ebc8ef",
   "metadata": {
    "vscode": {
     "languageId": "r"
    }
   },
   "outputs": [
    {
     "data": {
      "image/png": "[encoded data removed]",
      "text/plain": [
       "plot without title"
      ]
     },
     "metadata": {
      "image/png": {
       "height": 360,
       "width": 420
      }
     },
     "output_type": "display_data"
    }
   ],
   "source": [
    "boxplot(medical_raw_data$VitD_supp)\n",
    "options(repr.plot.width=7, repr.plot.height=6)"
   ]
  },
  {
   "cell_type": "code",
   "execution_count": 69,
   "id": "c2b4f901-2fe0-4bfa-b9a0-fa437f3b43dd",
   "metadata": {
    "vscode": {
     "languageId": "r"
    }
   },
   "outputs": [
    {
     "data": {
      "image/png": "[encoded data removed]",
      "text/plain": [
       "plot without title"
      ]
     },
     "metadata": {
      "image/png": {
       "height": 360,
       "width": 420
      }
     },
     "output_type": "display_data"
    }
   ],
   "source": [
    "ggplot(medical_raw_data, aes(sample = Full_meals_eaten)) + geom_qq() + stat_qq()\n",
    "options(repr.plot.width=7, repr.plot.height=6)"
   ]
  },
  {
   "cell_type": "code",
   "execution_count": 70,
   "id": "24565132-2ccd-4407-97f1-2a2f8c7cfe14",
   "metadata": {
    "vscode": {
     "languageId": "r"
    }
   },
   "outputs": [
    {
     "data": {
      "image/png": "[encoded data removed]",
      "text/plain": [
       "plot without title"
      ]
     },
     "metadata": {
      "image/png": {
       "height": 360,
       "width": 420
      }
     },
     "output_type": "display_data"
    }
   ],
   "source": [
    "boxplot(medical_raw_data$Full_meals_eaten)\n",
    "options(repr.plot.width=7, repr.plot.height=6)"
   ]
  },
  {
   "cell_type": "code",
   "execution_count": 71,
   "id": "477a5c13-9692-44e5-a03f-340ce1748d6a",
   "metadata": {
    "vscode": {
     "languageId": "r"
    }
   },
   "outputs": [
    {
     "data": {
      "image/png": "[encoded data removed]",
      "text/plain": [
       "plot without title"
      ]
     },
     "metadata": {
      "image/png": {
       "height": 360,
       "width": 420
      }
     },
     "output_type": "display_data"
    }
   ],
   "source": [
    "ggplot(medical_raw_data, aes(sample = Population)) + geom_qq() + stat_qq()\n",
    "options(repr.plot.width=7, repr.plot.height=6)"
   ]
  },
  {
   "cell_type": "code",
   "execution_count": 72,
   "id": "3fbc1ba4-423f-4834-b6e7-1f3ea6d757bc",
   "metadata": {
    "vscode": {
     "languageId": "r"
    }
   },
   "outputs": [
    {
     "data": {
      "image/png": "[encoded data removed]",
      "text/plain": [
       "plot without title"
      ]
     },
     "metadata": {
      "image/png": {
       "height": 360,
       "width": 420
      }
     },
     "output_type": "display_data"
    }
   ],
   "source": [
    "boxplot(medical_raw_data$Population)\n",
    "options(repr.plot.width=7, repr.plot.height=6)"
   ]
  },
  {
   "cell_type": "code",
   "execution_count": 73,
   "id": "fc01ecbb-d415-4059-9ff1-9e5a55703624",
   "metadata": {
    "vscode": {
     "languageId": "r"
    }
   },
   "outputs": [
    {
     "data": {
      "image/png": "[encoded data removed]",
      "text/plain": [
       "plot without title"
      ]
     },
     "metadata": {
      "image/png": {
       "height": 360,
       "width": 420
      }
     },
     "output_type": "display_data"
    }
   ],
   "source": [
    "ggplot(medical_raw_data, aes(sample = Household_Income)) + geom_qq() + stat_qq()\n",
    "options(repr.plot.width=7, repr.plot.height=6)"
   ]
  },
  {
   "cell_type": "code",
   "execution_count": 74,
   "id": "c932735b-1452-4f6c-952b-3c538a306adc",
   "metadata": {
    "vscode": {
     "languageId": "r"
    }
   },
   "outputs": [
    {
     "data": {
      "image/png": "[encoded data removed]",
      "text/plain": [
       "plot without title"
      ]
     },
     "metadata": {
      "image/png": {
       "height": 360,
       "width": 420
      }
     },
     "output_type": "display_data"
    }
   ],
   "source": [
    "boxplot(medical_raw_data$Household_Income)\n",
    "options(repr.plot.width=7, repr.plot.height=6)"
   ]
  },
  {
   "cell_type": "markdown",
   "id": "b5408072-4920-46ee-b36e-887d7375a5ad",
   "metadata": {},
   "source": [
    "### The boxplots for the following columns show outliers:\n",
    "- children\n",
    "- vitamin D levels\n",
    "- vitamin D supplements\n",
    "- full meals eaten\n",
    "- population\n",
    "- household income"
   ]
  },
  {
   "cell_type": "markdown",
   "id": "2e5b6077-22bf-4003-8c84-67c255e79850",
   "metadata": {},
   "source": [
    "## 6- Using the summary from above, let's run a hypothesis using the Grubbs test to further confirm for outliers."
   ]
  },
  {
   "cell_type": "code",
   "execution_count": 75,
   "id": "661cb56d-d736-490c-bf4a-27c4b6e3455f",
   "metadata": {
    "vscode": {
     "languageId": "r"
    }
   },
   "outputs": [
    {
     "data": {
      "text/plain": [
       "\n",
       "\tGrubbs test for one outlier\n",
       "\n",
       "data:  x\n",
       "G = 4.27028, U = 0.99818, p-value = 0.09681\n",
       "alternative hypothesis: highest value 10 is an outlier\n"
      ]
     },
     "metadata": {},
     "output_type": "display_data"
    },
    {
     "data": {
      "text/plain": [
       "\n",
       "\tGrubbs test for one outlier\n",
       "\n",
       "data:  x\n",
       "G = 4.9985, U = 0.9975, p-value = 0.002844\n",
       "alternative hypothesis: highest value 53.01912416 is an outlier\n"
      ]
     },
     "metadata": {},
     "output_type": "display_data"
    },
    {
     "data": {
      "text/plain": [
       "\n",
       "\tGrubbs test for one outlier\n",
       "\n",
       "data:  x\n",
       "G = 7.32071, U = 0.99464, p-value = 1.148e-09\n",
       "alternative hypothesis: highest value 5 is an outlier\n"
      ]
     },
     "metadata": {},
     "output_type": "display_data"
    },
    {
     "data": {
      "text/plain": [
       "\n",
       "\tGrubbs test for one outlier\n",
       "\n",
       "data:  x\n",
       "G = 5.95030, U = 0.99646, p-value = 1.297e-05\n",
       "alternative hypothesis: highest value 7 is an outlier\n"
      ]
     },
     "metadata": {},
     "output_type": "display_data"
    },
    {
     "data": {
      "text/plain": [
       "\n",
       "\tGrubbs test for one outlier\n",
       "\n",
       "data:  x\n",
       "G = 4.27028, U = 0.99818, p-value = 0.09681\n",
       "alternative hypothesis: highest value 10 is an outlier\n"
      ]
     },
     "metadata": {},
     "output_type": "display_data"
    },
    {
     "data": {
      "text/plain": [
       "\n",
       "\tGrubbs test for one outlier\n",
       "\n",
       "data:  x\n",
       "G = 7.6122, U = 0.9942, p-value = 1.243e-10\n",
       "alternative hypothesis: highest value 122814 is an outlier\n"
      ]
     },
     "metadata": {},
     "output_type": "display_data"
    },
    {
     "data": {
      "text/plain": [
       "\n",
       "\tGrubbs test for one outlier\n",
       "\n",
       "data:  x\n",
       "G = 6.72356, U = 0.99548, p-value = 8.425e-08\n",
       "alternative hypothesis: highest value 207249.13 is an outlier\n"
      ]
     },
     "metadata": {},
     "output_type": "display_data"
    }
   ],
   "source": [
    "x <- medical_raw_data$Children\n",
    "grubbs.test(x)\n",
    "\n",
    "x <- medical_raw_data$VitD_levels\n",
    "grubbs.test(x)\n",
    "\n",
    "x <- medical_raw_data$VitD_supp\n",
    "grubbs.test(x)\n",
    "\n",
    "x <- medical_raw_data$Full_meals_eaten\n",
    "grubbs.test(x)\n",
    "\n",
    "x <- medical_raw_data$Children\n",
    "grubbs.test(x)\n",
    "\n",
    "x <- medical_raw_data$Population\n",
    "grubbs.test(x)\n",
    "\n",
    "x <- medical_raw_data$Household_Income\n",
    "grubbs.test(x)"
   ]
  },
  {
   "cell_type": "markdown",
   "id": "5f0273ca-2ed0-4774-9dea-9847532131ab",
   "metadata": {},
   "source": [
    "##### *A p-value less than 0.05 is statistically significant, in which the null hypothesis is to be rejected.*\n",
    "\n",
    "##### *A p-value greater than 0.05 is not statistically significant, and the null hypothesis is not rejected.*\n",
    "\n",
    "##### *The only variable above that was less than 0.05 is VitD_level. All others are not statistically significant*"
   ]
  },
  {
   "cell_type": "markdown",
   "id": "c4903951-4139-4783-8a80-3e8fcfd1dd8b",
   "metadata": {},
   "source": [
    "# 7- The next step is to impute/mitigate the missing NAs because removing them can severely skew the data and cause issues later on when performing further analytics."
   ]
  },
  {
   "cell_type": "code",
   "execution_count": 77,
   "id": "f9c88e5f-328f-460c-9d7b-3acd5a38bb5f",
   "metadata": {
    "vscode": {
     "languageId": "r"
    }
   },
   "outputs": [],
   "source": [
    "medical_raw_data$Children[is.na(medical_raw_data$Children)]<-median(medical_raw_data$Children, na.rm=TRUE)\n",
    "medical_raw_data$Age[is.na(medical_raw_data$Age)]<-median(medical_raw_data$Age, na.rm=TRUE)\n",
    "medical_raw_data$Household_Income[is.na(medical_raw_data$Household_Income)]<-median(medical_raw_data$Household_Income, na.rm=TRUE)\n",
    "medical_raw_data$Overweight[is.na(medical_raw_data$Overweight)]<-median(medical_raw_data$Overweight, na.rm=TRUE)\n",
    "medical_raw_data$Anxiety[is.na(medical_raw_data$Anxiety)]<-median(medical_raw_data$Anxiety, na.rm=TRUE)\n",
    "medical_raw_data$Soft_drink[is.na(medical_raw_data$Soft_drink)]<-median(medical_raw_data$Soft_drink, na.rm=TRUE)"
   ]
  },
  {
   "cell_type": "markdown",
   "id": "98468d98-fefa-4346-9e83-53cb677b9e61",
   "metadata": {},
   "source": [
    "### Data Cleaning Limitations, Strengths, and Weaknesses:\n",
    "*Strengths:*\n",
    "- Nearly all of the values are numeric, facilitating easier calculations, visualizations, and conversions.\n",
    "- Multiple variables made it easy to have options with a research question. I saw possibilities with Age, Children, Doc_Visits, Overweight, and many others.\n",
    "*Weaknesses:*\n",
    "- We do not have access to the original people who created the data.\n",
    "- There was a grand part of the data that was missing, eliminating the chances of analyzing *that* part of it.\n",
    "- Perhaps a better cleaning decision could have been made if we knew the purpose of the data.\n",
    "- One unclear variable was VitD_supp, which describes the number of times a patient takes the supplement. What we do not know is if this is daily, weekly, or throughout the stay in the facility while admitted."
   ]
  },
  {
   "cell_type": "markdown",
   "id": "0089c8b0-f492-4988-aa7c-5112f4d3febe",
   "metadata": {},
   "source": [
    "# Part 3- E: The cleaning process is officially complete! We may now proceed to our final step: The Principal Component Analysis (PCA).\n",
    "#### *The PCA identifies variance within a data set's variables and makes it easy to explore data to understand key variables and further confirm outliers.*"
   ]
  },
  {
   "cell_type": "markdown",
   "id": "66da9c2b-2188-4036-8b83-607576a45283",
   "metadata": {},
   "source": [
    "##### I will take a look at the columns once more to remember in what place the variables I need to work with are."
   ]
  },
  {
   "cell_type": "code",
   "execution_count": 78,
   "id": "d18ca4a0-4610-4369-9beb-9960c37f6a61",
   "metadata": {
    "vscode": {
     "languageId": "r"
    }
   },
   "outputs": [
    {
     "data": {
      "text/html": [
       "<style>\n",
       ".list-inline {list-style: none; margin:0; padding: 0}\n",
       ".list-inline>li {display: inline-block}\n",
       ".list-inline>li:not(:last-child)::after {content: \"\\00b7\"; padding: 0 .5ex}\n",
       "</style>\n",
       "<ol class=list-inline><li>'CaseOrder'</li><li>'Customer_id'</li><li>'Interaction'</li><li>'UID'</li><li>'City'</li><li>'State'</li><li>'County'</li><li>'Zip'</li><li>'Lat'</li><li>'Lng'</li><li>'Population'</li><li>'Area'</li><li>'Timezone'</li><li>'Job'</li><li>'Children'</li><li>'Age'</li><li>'Education'</li><li>'Employment'</li><li>'Household_Income'</li><li>'Marital'</li><li>'Gender'</li><li>'ReAdmis'</li><li>'VitD_levels'</li><li>'Doc_visits'</li><li>'Full_meals_eaten'</li><li>'VitD_supp'</li><li>'Soft_drink'</li><li>'Initial_admin'</li><li>'HighBlood'</li><li>'Stroke'</li><li>'Complication_risk'</li><li>'Overweight'</li><li>'Arthritis'</li><li>'Diabetes'</li><li>'Hyperlipidemia'</li><li>'BackPain'</li><li>'Anxiety'</li><li>'Allergic_rhinitis'</li><li>'Reflux_esophagitis'</li><li>'Asthma'</li><li>'Services'</li><li>'Initial_days'</li><li>'TotalCharge'</li><li>'Additional_charges'</li><li>'Survey_TimelyAdmin'</li><li>'Survey_TimelyTreatment'</li><li>'Survey_TimelyVisits'</li><li>'Survey_Reliability'</li><li>'Survey_Options'</li><li>'Survey_HoursTreatment'</li><li>'Survey_CourteousStaff'</li><li>'Survey_ActiveListening'</li></ol>\n"
      ],
      "text/latex": [
       "\\begin{enumerate*}\n",
       "\\item 'CaseOrder'\n",
       "\\item 'Customer\\_id'\n",
       "\\item 'Interaction'\n",
       "\\item 'UID'\n",
       "\\item 'City'\n",
       "\\item 'State'\n",
       "\\item 'County'\n",
       "\\item 'Zip'\n",
       "\\item 'Lat'\n",
       "\\item 'Lng'\n",
       "\\item 'Population'\n",
       "\\item 'Area'\n",
       "\\item 'Timezone'\n",
       "\\item 'Job'\n",
       "\\item 'Children'\n",
       "\\item 'Age'\n",
       "\\item 'Education'\n",
       "\\item 'Employment'\n",
       "\\item 'Household\\_Income'\n",
       "\\item 'Marital'\n",
       "\\item 'Gender'\n",
       "\\item 'ReAdmis'\n",
       "\\item 'VitD\\_levels'\n",
       "\\item 'Doc\\_visits'\n",
       "\\item 'Full\\_meals\\_eaten'\n",
       "\\item 'VitD\\_supp'\n",
       "\\item 'Soft\\_drink'\n",
       "\\item 'Initial\\_admin'\n",
       "\\item 'HighBlood'\n",
       "\\item 'Stroke'\n",
       "\\item 'Complication\\_risk'\n",
       "\\item 'Overweight'\n",
       "\\item 'Arthritis'\n",
       "\\item 'Diabetes'\n",
       "\\item 'Hyperlipidemia'\n",
       "\\item 'BackPain'\n",
       "\\item 'Anxiety'\n",
       "\\item 'Allergic\\_rhinitis'\n",
       "\\item 'Reflux\\_esophagitis'\n",
       "\\item 'Asthma'\n",
       "\\item 'Services'\n",
       "\\item 'Initial\\_days'\n",
       "\\item 'TotalCharge'\n",
       "\\item 'Additional\\_charges'\n",
       "\\item 'Survey\\_TimelyAdmin'\n",
       "\\item 'Survey\\_TimelyTreatment'\n",
       "\\item 'Survey\\_TimelyVisits'\n",
       "\\item 'Survey\\_Reliability'\n",
       "\\item 'Survey\\_Options'\n",
       "\\item 'Survey\\_HoursTreatment'\n",
       "\\item 'Survey\\_CourteousStaff'\n",
       "\\item 'Survey\\_ActiveListening'\n",
       "\\end{enumerate*}\n"
      ],
      "text/markdown": [
       "1. 'CaseOrder'\n",
       "2. 'Customer_id'\n",
       "3. 'Interaction'\n",
       "4. 'UID'\n",
       "5. 'City'\n",
       "6. 'State'\n",
       "7. 'County'\n",
       "8. 'Zip'\n",
       "9. 'Lat'\n",
       "10. 'Lng'\n",
       "11. 'Population'\n",
       "12. 'Area'\n",
       "13. 'Timezone'\n",
       "14. 'Job'\n",
       "15. 'Children'\n",
       "16. 'Age'\n",
       "17. 'Education'\n",
       "18. 'Employment'\n",
       "19. 'Household_Income'\n",
       "20. 'Marital'\n",
       "21. 'Gender'\n",
       "22. 'ReAdmis'\n",
       "23. 'VitD_levels'\n",
       "24. 'Doc_visits'\n",
       "25. 'Full_meals_eaten'\n",
       "26. 'VitD_supp'\n",
       "27. 'Soft_drink'\n",
       "28. 'Initial_admin'\n",
       "29. 'HighBlood'\n",
       "30. 'Stroke'\n",
       "31. 'Complication_risk'\n",
       "32. 'Overweight'\n",
       "33. 'Arthritis'\n",
       "34. 'Diabetes'\n",
       "35. 'Hyperlipidemia'\n",
       "36. 'BackPain'\n",
       "37. 'Anxiety'\n",
       "38. 'Allergic_rhinitis'\n",
       "39. 'Reflux_esophagitis'\n",
       "40. 'Asthma'\n",
       "41. 'Services'\n",
       "42. 'Initial_days'\n",
       "43. 'TotalCharge'\n",
       "44. 'Additional_charges'\n",
       "45. 'Survey_TimelyAdmin'\n",
       "46. 'Survey_TimelyTreatment'\n",
       "47. 'Survey_TimelyVisits'\n",
       "48. 'Survey_Reliability'\n",
       "49. 'Survey_Options'\n",
       "50. 'Survey_HoursTreatment'\n",
       "51. 'Survey_CourteousStaff'\n",
       "52. 'Survey_ActiveListening'\n",
       "\n",
       "\n"
      ],
      "text/plain": [
       " [1] \"CaseOrder\"              \"Customer_id\"            \"Interaction\"           \n",
       " [4] \"UID\"                    \"City\"                   \"State\"                 \n",
       " [7] \"County\"                 \"Zip\"                    \"Lat\"                   \n",
       "[10] \"Lng\"                    \"Population\"             \"Area\"                  \n",
       "[13] \"Timezone\"               \"Job\"                    \"Children\"              \n",
       "[16] \"Age\"                    \"Education\"              \"Employment\"            \n",
       "[19] \"Household_Income\"       \"Marital\"                \"Gender\"                \n",
       "[22] \"ReAdmis\"                \"VitD_levels\"            \"Doc_visits\"            \n",
       "[25] \"Full_meals_eaten\"       \"VitD_supp\"              \"Soft_drink\"            \n",
       "[28] \"Initial_admin\"          \"HighBlood\"              \"Stroke\"                \n",
       "[31] \"Complication_risk\"      \"Overweight\"             \"Arthritis\"             \n",
       "[34] \"Diabetes\"               \"Hyperlipidemia\"         \"BackPain\"              \n",
       "[37] \"Anxiety\"                \"Allergic_rhinitis\"      \"Reflux_esophagitis\"    \n",
       "[40] \"Asthma\"                 \"Services\"               \"Initial_days\"          \n",
       "[43] \"TotalCharge\"            \"Additional_charges\"     \"Survey_TimelyAdmin\"    \n",
       "[46] \"Survey_TimelyTreatment\" \"Survey_TimelyVisits\"    \"Survey_Reliability\"    \n",
       "[49] \"Survey_Options\"         \"Survey_HoursTreatment\"  \"Survey_CourteousStaff\" \n",
       "[52] \"Survey_ActiveListening\""
      ]
     },
     "metadata": {},
     "output_type": "display_data"
    }
   ],
   "source": [
    "colnames(medical_raw_data)"
   ]
  },
  {
   "cell_type": "markdown",
   "id": "956901e8-0881-44f1-964b-a3a97d5c0d93",
   "metadata": {},
   "source": [
    "##### In this case, the variables I need are:\n",
    "- age: 16th place\n",
    "- doctor visits: 24th place\n",
    "- overweight: 32nd place"
   ]
  },
  {
   "cell_type": "markdown",
   "id": "daac48c5-30c3-4d00-8083-6b42e14c23f7",
   "metadata": {},
   "source": [
    "## First, I will conduct standardization on the variables I need to answer my research question which are age, doctor visits, and overweight."
   ]
  },
  {
   "cell_type": "code",
   "execution_count": 79,
   "id": "e1aa403a-5056-49d9-a168-79553499dc6c",
   "metadata": {
    "vscode": {
     "languageId": "r"
    }
   },
   "outputs": [
    {
     "data": {
      "text/html": [
       "<table class=\"dataframe\">\n",
       "<caption>A matrix: 6 × 3 of type dbl</caption>\n",
       "<thead>\n",
       "\t<tr><th scope=col>Age</th><th scope=col>Doc_visits</th><th scope=col>Overweight</th></tr>\n",
       "</thead>\n",
       "<tbody>\n",
       "\t<tr><td>-0.01246539</td><td> 0.94459928</td><td>-1.6769458</td></tr>\n",
       "\t<tr><td>-0.12361466</td><td>-0.96793217</td><td> 0.5962626</td></tr>\n",
       "\t<tr><td>-0.01246539</td><td>-0.96793217</td><td> 0.5962626</td></tr>\n",
       "\t<tr><td> 1.37690049</td><td>-0.96793217</td><td>-1.6769458</td></tr>\n",
       "\t<tr><td>-1.73527909</td><td>-0.01166644</td><td>-1.6769458</td></tr>\n",
       "\t<tr><td> 1.26575122</td><td> 0.94459928</td><td> 0.5962626</td></tr>\n",
       "</tbody>\n",
       "</table>\n"
      ],
      "text/latex": [
       "A matrix: 6 × 3 of type dbl\n",
       "\\begin{tabular}{lll}\n",
       " Age & Doc\\_visits & Overweight\\\\\n",
       "\\hline\n",
       "\t -0.01246539 &  0.94459928 & -1.6769458\\\\\n",
       "\t -0.12361466 & -0.96793217 &  0.5962626\\\\\n",
       "\t -0.01246539 & -0.96793217 &  0.5962626\\\\\n",
       "\t  1.37690049 & -0.96793217 & -1.6769458\\\\\n",
       "\t -1.73527909 & -0.01166644 & -1.6769458\\\\\n",
       "\t  1.26575122 &  0.94459928 &  0.5962626\\\\\n",
       "\\end{tabular}\n"
      ],
      "text/markdown": [
       "\n",
       "A matrix: 6 × 3 of type dbl\n",
       "\n",
       "| Age | Doc_visits | Overweight |\n",
       "|---|---|---|\n",
       "| -0.01246539 |  0.94459928 | -1.6769458 |\n",
       "| -0.12361466 | -0.96793217 |  0.5962626 |\n",
       "| -0.01246539 | -0.96793217 |  0.5962626 |\n",
       "|  1.37690049 | -0.96793217 | -1.6769458 |\n",
       "| -1.73527909 | -0.01166644 | -1.6769458 |\n",
       "|  1.26575122 |  0.94459928 |  0.5962626 |\n",
       "\n"
      ],
      "text/plain": [
       "     Age         Doc_visits  Overweight\n",
       "[1,] -0.01246539  0.94459928 -1.6769458\n",
       "[2,] -0.12361466 -0.96793217  0.5962626\n",
       "[3,] -0.01246539 -0.96793217  0.5962626\n",
       "[4,]  1.37690049 -0.96793217 -1.6769458\n",
       "[5,] -1.73527909 -0.01166644 -1.6769458\n",
       "[6,]  1.26575122  0.94459928  0.5962626"
      ]
     },
     "metadata": {},
     "output_type": "display_data"
    }
   ],
   "source": [
    "medical_sub <- scale(x = medical_raw_data[,c(16, 24, 32)])\n",
    "head(medical_sub)"
   ]
  },
  {
   "cell_type": "markdown",
   "id": "5fe3a897-ea01-4823-9ca0-d921147149ff",
   "metadata": {},
   "source": [
    "#### Standardization is the process of converting data into a format that facilitates usability to process and analyze it.\n"
   ]
  },
  {
   "cell_type": "markdown",
   "id": "705577d5-7b44-4c66-840c-05d8fecaeea1",
   "metadata": {},
   "source": [
    "## The Principal Component Analysis"
   ]
  },
  {
   "cell_type": "code",
   "execution_count": 81,
   "id": "ac20942c-98e6-4dbc-b216-be962380b48e",
   "metadata": {
    "vscode": {
     "languageId": "r"
    }
   },
   "outputs": [],
   "source": [
    "medical_sub.pca <- PCA(medical_sub, scale.unit=TRUE, graph=F)"
   ]
  },
  {
   "cell_type": "markdown",
   "id": "e43d1950-0dd9-4a2a-b1d2-da5fa739e1db",
   "metadata": {},
   "source": [
    "## The Scree Plot"
   ]
  },
  {
   "cell_type": "code",
   "execution_count": 82,
   "id": "719782f3-4481-4382-942f-6bf5c336f0e3",
   "metadata": {
    "vscode": {
     "languageId": "r"
    }
   },
   "outputs": [
    {
     "data": {
      "image/png": "[encoded data removed]",
      "text/plain": [
       "Plot with title \"(%) Variance of Components Graph\""
      ]
     },
     "metadata": {
      "image/png": {
       "height": 360,
       "width": 420
      }
     },
     "output_type": "display_data"
    }
   ],
   "source": [
    "eig.val <- medical_sub.pca$eig\n",
    "\n",
    "barplot(eig.val[, 2],\n",
    "\n",
    "        main = \"(%) Variance of Components Graph\",\n",
    "\n",
    "        xlab = \"Components\",\n",
    "\n",
    "        ylab = \"(%) Number of Variance\",\n",
    "\n",
    "        col = \"orange\")\n",
    "\n",
    "options(repr.plot.width=8, repr.plot.height=9)"
   ]
  },
  {
   "cell_type": "markdown",
   "id": "d8724cc4-508c-4d50-83fe-157acd359ec1",
   "metadata": {
    "tags": []
   },
   "source": [
    "##### Saving the plot to a png file."
   ]
  },
  {
   "cell_type": "code",
   "execution_count": 83,
   "id": "ad3f4cbb-b331-4ff4-a736-10932d963925",
   "metadata": {
    "vscode": {
     "languageId": "r"
    }
   },
   "outputs": [],
   "source": [
    "ggsave('Variance_graph.png', width=8, height=8)"
   ]
  },
  {
   "cell_type": "markdown",
   "id": "30cb7c2d-3d88-4c08-b588-ac9aa64b1052",
   "metadata": {},
   "source": [
    "# PCA Graph of Overweight"
   ]
  },
  {
   "cell_type": "code",
   "execution_count": 84,
   "id": "49c7d889-993d-48a1-a525-5c5b274ddd15",
   "metadata": {
    "vscode": {
     "languageId": "r"
    }
   },
   "outputs": [
    {
     "data": {
      "image/png": "[encoded data removed]",
      "text/plain": [
       "plot without title"
      ]
     },
     "metadata": {
      "image/png": {
       "height": 540,
       "width": 480
      }
     },
     "output_type": "display_data"
    }
   ],
   "source": [
    "plot(medical_sub.pca, choix = \"ind\", autoLab = \"auto\", habillage = \"Overweight\", col.ind=\"darkblue\", label=\"var\", graph.type = \"ggplot\")"
   ]
  },
  {
   "cell_type": "markdown",
   "id": "efdcf48c-24ce-4539-b96a-939c65378478",
   "metadata": {},
   "source": [
    "##### Saving the plot to a png file."
   ]
  },
  {
   "cell_type": "code",
   "execution_count": 85,
   "id": "5b7cf674-b2ec-4be7-be39-5dd226029d4f",
   "metadata": {
    "vscode": {
     "languageId": "r"
    }
   },
   "outputs": [],
   "source": [
    "ggsave('PCA_Ind_Graph_Overweight.png', width=8, height=8)"
   ]
  },
  {
   "cell_type": "markdown",
   "id": "1c5ab9eb-7325-4b52-a48d-a8c93b8fd7d7",
   "metadata": {},
   "source": [
    "## PCA Graph of Variables"
   ]
  },
  {
   "cell_type": "code",
   "execution_count": 86,
   "id": "fb44c05b-ed16-421a-b084-ea73bec3743f",
   "metadata": {
    "vscode": {
     "languageId": "r"
    }
   },
   "outputs": [
    {
     "data": {
      "image/png": "[encoded data removed]",
      "text/plain": [
       "plot without title"
      ]
     },
     "metadata": {
      "image/png": {
       "height": 540,
       "width": 480
      }
     },
     "output_type": "display_data"
    }
   ],
   "source": [
    "plot(medical_sub.pca, choix = \"var\", autoLab = \"auto\", col.var=\"red\", label=\"var\", graph.type = \"ggplot\", select=\"cos2 0.40\")"
   ]
  },
  {
   "cell_type": "markdown",
   "id": "6feac4ea-4c33-4485-846f-486c21e1f5df",
   "metadata": {},
   "source": [
    "##### Saving the plot to a png file."
   ]
  },
  {
   "cell_type": "code",
   "execution_count": 87,
   "id": "60a7eefe-ebf3-4b17-80d5-ae34aa482a1c",
   "metadata": {
    "vscode": {
     "languageId": "r"
    }
   },
   "outputs": [],
   "source": [
    "ggsave('PCA_graph_of_variables.png', width=8, height=8)"
   ]
  },
  {
   "cell_type": "markdown",
   "id": "9d21806a-2605-4e7f-b4a5-d6ea310c1222",
   "metadata": {},
   "source": [
    "# I ran the PCA using the package factoextra and created a scree plot. As a result of the three graphs above, age and doctor visits seem to be correlated. Being overweight, on the other hand, is something that can happen at any given age and correlate with neither age nor doctor visits. Hospitals can benefit from an in-depth analysis, actionable insights, and an attempt to reduce doctor visits by age."
   ]
  },
  {
   "cell_type": "markdown",
   "id": "0114f5ec-bff9-4411-bb4e-ac7c3b6735ec",
   "metadata": {},
   "source": [
    "### Finally, the very last step is the write the clean data to CSV using the code below:"
   ]
  },
  {
   "cell_type": "code",
   "execution_count": 88,
   "id": "a94d59ac-3800-4f67-8628-a3be287c70e7",
   "metadata": {
    "vscode": {
     "languageId": "r"
    }
   },
   "outputs": [],
   "source": [
    "write.csv(medical_raw_data, \"C://Users//jesse//Documents/WGU/Data Cleaning/Medical_Data/medical_raw_data.csv\", row.names = TRUE)"
   ]
  }
 ],
 "metadata": {
  "kernelspec": {
   "display_name": "R",
   "language": "R",
   "name": "ir"
  },
  "language_info": {
   "codemirror_mode": "r",
   "file_extension": ".r",
   "mimetype": "text/x-r-source",
   "name": "R",
   "pygments_lexer": "r",
   "version": "4.1.2"
  }
 },
 "nbformat": 4,
 "nbformat_minor": 5
}
