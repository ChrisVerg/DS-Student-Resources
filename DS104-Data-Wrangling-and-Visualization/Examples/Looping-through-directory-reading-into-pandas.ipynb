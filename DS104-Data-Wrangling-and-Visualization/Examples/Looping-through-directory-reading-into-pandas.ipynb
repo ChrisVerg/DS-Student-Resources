{
 "cells": [
  {
   "cell_type": "markdown",
   "id": "23864521-6d84-4864-addd-f47ab231613e",
   "metadata": {},
   "source": [
    "# Looping through data directory to read into pandas dataframes"
   ]
  },
  {
   "cell_type": "code",
   "execution_count": 1,
   "id": "3c906521-c45b-4abc-ac22-c53c403bc1f1",
   "metadata": {
    "execution": {
     "iopub.execute_input": "2023-01-04T23:01:24.494375Z",
     "iopub.status.busy": "2023-01-04T23:01:24.494375Z",
     "iopub.status.idle": "2023-01-04T23:01:24.510844Z",
     "shell.execute_reply": "2023-01-04T23:01:24.510844Z",
     "shell.execute_reply.started": "2023-01-04T23:01:24.494375Z"
    },
    "tags": []
   },
   "outputs": [],
   "source": [
    "#libraries\n",
    "import os\n",
    "import pandas as pd"
   ]
  },
  {
   "cell_type": "code",
   "execution_count": 2,
   "id": "afc93825-dc25-492d-b0da-111b81e84620",
   "metadata": {
    "execution": {
     "iopub.execute_input": "2023-01-04T23:01:24.511843Z",
     "iopub.status.busy": "2023-01-04T23:01:24.511843Z",
     "iopub.status.idle": "2023-01-04T23:01:24.527608Z",
     "shell.execute_reply": "2023-01-04T23:01:24.526433Z",
     "shell.execute_reply.started": "2023-01-04T23:01:24.511843Z"
    },
    "tags": []
   },
   "outputs": [
    {
     "data": {
      "text/plain": [
       "'C:\\\\Users\\\\matth\\\\Documents\\\\GitHub\\\\DS-Student-Resources\\\\DS104-Data-Wrangling-and-Visualization\\\\Examples'"
      ]
     },
     "execution_count": 2,
     "metadata": {},
     "output_type": "execute_result"
    }
   ],
   "source": [
    "#current dir\n",
    "os.getcwd()"
   ]
  },
  {
   "cell_type": "code",
   "execution_count": 3,
   "id": "df59b5c8-20c2-4211-b601-4f908ea3f3b4",
   "metadata": {
    "execution": {
     "iopub.execute_input": "2023-01-04T23:01:24.527608Z",
     "iopub.status.busy": "2023-01-04T23:01:24.527608Z",
     "iopub.status.idle": "2023-01-04T23:01:24.543220Z",
     "shell.execute_reply": "2023-01-04T23:01:24.542219Z",
     "shell.execute_reply.started": "2023-01-04T23:01:24.527608Z"
    },
    "tags": []
   },
   "outputs": [
    {
     "data": {
      "text/plain": [
       "'C:\\\\Users\\\\matth\\\\Documents\\\\GitHub\\\\DS-Student-Resources\\\\DS104-Data-Wrangling-and-Visualization\\\\Data'"
      ]
     },
     "execution_count": 3,
     "metadata": {},
     "output_type": "execute_result"
    }
   ],
   "source": [
    "#set variable\n",
    "data_dir = '../Data'\n",
    "\n",
    "#change dir\n",
    "os.chdir(data_dir)\n",
    "\n",
    "#new dir\n",
    "os.getcwd()"
   ]
  },
  {
   "cell_type": "code",
   "execution_count": 4,
   "id": "06297fef-1da7-4d8c-973c-281c7a5979b2",
   "metadata": {
    "execution": {
     "iopub.execute_input": "2023-01-04T23:01:24.545225Z",
     "iopub.status.busy": "2023-01-04T23:01:24.544225Z",
     "iopub.status.idle": "2023-01-04T23:01:27.702980Z",
     "shell.execute_reply": "2023-01-04T23:01:27.701983Z",
     "shell.execute_reply.started": "2023-01-04T23:01:24.545225Z"
    },
    "tags": []
   },
   "outputs": [],
   "source": [
    "all_df = {}\n",
    "\n",
    "for file in os.listdir():\n",
    "    if file.endswith('.csv'):\n",
    "        try:\n",
    "            all_df[file] = pd.read_csv(file, on_bad_lines='skip')\n",
    "        except UnicodeDecodeError:\n",
    "            all_df[file] = pd.read_csv(file, on_bad_lines='skip', encoding=\"ISO-8859-1\") #if utf-8 encoding error"
   ]
  },
  {
   "cell_type": "code",
   "execution_count": 5,
   "id": "c896bb69-9151-45a4-b80b-f842a880da32",
   "metadata": {
    "execution": {
     "iopub.execute_input": "2023-01-04T23:01:27.703981Z",
     "iopub.status.busy": "2023-01-04T23:01:27.703981Z",
     "iopub.status.idle": "2023-01-04T23:01:27.718181Z",
     "shell.execute_reply": "2023-01-04T23:01:27.717180Z",
     "shell.execute_reply.started": "2023-01-04T23:01:27.703981Z"
    },
    "tags": []
   },
   "outputs": [
    {
     "name": "stdout",
     "output_type": "stream",
     "text": [
      "0 airbnb_sample_submission.csv\n",
      "1 airbnb_test_users.csv\n",
      "2 airbnb_users.csv\n",
      "3 All_GPUs.csv\n",
      "4 anime.csv\n",
      "5 avocados.csv\n",
      "6 bakery_sales.csv\n",
      "7 beauty.csv\n",
      "8 BisonTracking.csv\n",
      "9 boats.csv\n",
      "10 BorderCrossing.csv\n",
      "11 breakfast.csv\n",
      "12 cars.csv\n",
      "13 cellPhone.csv\n",
      "14 client_cancellations.csv\n",
      "15 cruise_ship.csv\n",
      "16 cuisine.csv\n",
      "17 data.csv\n",
      "18 datasets-733390-1272569-individuals.csv\n",
      "19 defects.csv\n",
      "20 diabetes.csv\n",
      "21 FakeNews.csv\n",
      "22 flight_delays.csv\n",
      "23 flowers.csv\n",
      "24 flowerShipment.csv\n",
      "25 flowerShop.csv\n",
      "26 glassdoor.csv\n",
      "27 googleplaystore.csv\n",
      "28 graduate_admissions.csv\n",
      "29 hockey1.csv\n",
      "30 hockey2.csv\n",
      "31 hockey3.csv\n",
      "32 honey.csv\n",
      "33 hotels.csv\n",
      "34 HR_data.csv\n",
      "35 insurance.csv\n",
      "36 Intel_CPUs.csv\n",
      "37 L3P1.csv\n",
      "38 L6handson.csv\n",
      "39 lead_lipstick.csv\n",
      "40 loans.csv\n",
      "41 locations.csv\n",
      "42 London_hotel_reviews.csv\n",
      "43 medical_raw_data.csv\n",
      "44 observed-trackers.csv\n",
      "45 olympicEvents.csv\n",
      "46 payment.csv\n",
      "47 power_lifting.csv\n",
      "48 profile.csv\n",
      "49 Seattle_ParksnRec.csv\n",
      "50 states.csv\n",
      "51 studentSurvey.csv\n",
      "52 studentSurveyCodebook.csv\n",
      "53 superheroes.csv\n",
      "54 SW_survey_renamed.csv\n",
      "55 tea.csv\n",
      "56 test.csv\n",
      "57 titanic.csv\n",
      "58 Tornadoes.csv\n",
      "59 train.csv\n",
      "60 video_games_global.csv\n",
      "61 video_games_regional.csv\n",
      "62 volcanoes.csv\n",
      "63 winemag-data_first150k.csv\n",
      "64 YouTubeChannels.csv\n",
      "65 YouTubeChannels_Python.csv\n"
     ]
    }
   ],
   "source": [
    "num=0\n",
    "for i in all_df:\n",
    "    print(num,i)\n",
    "    num+=1"
   ]
  },
  {
   "cell_type": "code",
   "execution_count": 6,
   "id": "acfef10c-e032-45f9-a402-30436fdae7ca",
   "metadata": {
    "execution": {
     "iopub.execute_input": "2023-01-04T23:01:27.718181Z",
     "iopub.status.busy": "2023-01-04T23:01:27.718181Z",
     "iopub.status.idle": "2023-01-04T23:01:27.734132Z",
     "shell.execute_reply": "2023-01-04T23:01:27.733132Z",
     "shell.execute_reply.started": "2023-01-04T23:01:27.718181Z"
    },
    "tags": []
   },
   "outputs": [
    {
     "data": {
      "text/html": [
       "<div><div id=c3d6855d-d25c-4604-8c32-fa30e6c7a3b4 style=\"display:none; background-color:#9D6CFF; color:white; width:200px; height:30px; padding-left:5px; border-radius:4px; flex-direction:row; justify-content:space-around; align-items:center;\" onmouseover=\"this.style.backgroundColor='#BA9BF8'\" onmouseout=\"this.style.backgroundColor='#9D6CFF'\" onclick=\"window.commands?.execute('create-mitosheet-from-dataframe-output');\">See Full Dataframe in Mito</div> <script> if (window.commands.hasCommand('create-mitosheet-from-dataframe-output')) document.getElementById('c3d6855d-d25c-4604-8c32-fa30e6c7a3b4').style.display = 'flex' </script> <table border=\"1\" class=\"dataframe\">\n",
       "  <thead>\n",
       "    <tr style=\"text-align: right;\">\n",
       "      <th></th>\n",
       "      <th>Rank</th>\n",
       "      <th>Gr2de</th>\n",
       "      <th>Channel name</th>\n",
       "      <th>Video Uploads</th>\n",
       "      <th>Subscribers</th>\n",
       "      <th>Video views</th>\n",
       "    </tr>\n",
       "  </thead>\n",
       "  <tbody>\n",
       "    <tr>\n",
       "      <th>0</th>\n",
       "      <td>1st</td>\n",
       "      <td>0</td>\n",
       "      <td>Zee TV</td>\n",
       "      <td>82757</td>\n",
       "      <td>18752951</td>\n",
       "      <td>20869786591</td>\n",
       "    </tr>\n",
       "    <tr>\n",
       "      <th>1</th>\n",
       "      <td>2nd</td>\n",
       "      <td>0</td>\n",
       "      <td>T-Series</td>\n",
       "      <td>12661</td>\n",
       "      <td>61196302</td>\n",
       "      <td>47548839843</td>\n",
       "    </tr>\n",
       "    <tr>\n",
       "      <th>2</th>\n",
       "      <td>3rd</td>\n",
       "      <td>0</td>\n",
       "      <td>Cocomelon - Nursery Rhymes</td>\n",
       "      <td>373</td>\n",
       "      <td>19238251</td>\n",
       "      <td>9793305082</td>\n",
       "    </tr>\n",
       "    <tr>\n",
       "      <th>3</th>\n",
       "      <td>4th</td>\n",
       "      <td>0</td>\n",
       "      <td>SET India</td>\n",
       "      <td>27323</td>\n",
       "      <td>31180559</td>\n",
       "      <td>22675948293</td>\n",
       "    </tr>\n",
       "    <tr>\n",
       "      <th>4</th>\n",
       "      <td>5th</td>\n",
       "      <td>0</td>\n",
       "      <td>WWE</td>\n",
       "      <td>36756</td>\n",
       "      <td>32852346</td>\n",
       "      <td>26273668433</td>\n",
       "    </tr>\n",
       "  </tbody>\n",
       "</table></div>"
      ],
      "text/plain": [
       "  Rank  Gr2de                Channel name Video Uploads Subscribers  \\\n",
       "0  1st      0                      Zee TV         82757    18752951   \n",
       "1  2nd      0                    T-Series         12661    61196302   \n",
       "2  3rd      0  Cocomelon - Nursery Rhymes           373    19238251   \n",
       "3  4th      0                   SET India         27323    31180559   \n",
       "4  5th      0                         WWE         36756    32852346   \n",
       "\n",
       "   Video views  \n",
       "0  20869786591  \n",
       "1  47548839843  \n",
       "2   9793305082  \n",
       "3  22675948293  \n",
       "4  26273668433  "
      ]
     },
     "execution_count": 6,
     "metadata": {},
     "output_type": "execute_result"
    }
   ],
   "source": [
    "all_df['YouTubeChannels_Python.csv'].head()"
   ]
  },
  {
   "cell_type": "code",
   "execution_count": null,
   "id": "5b74ed29-1781-455d-9b99-4ced7d57c957",
   "metadata": {},
   "outputs": [],
   "source": []
  }
 ],
 "metadata": {
  "kernelspec": {
   "display_name": "Python 3 (ipykernel)",
   "language": "python",
   "name": "python3"
  },
  "language_info": {
   "codemirror_mode": {
    "name": "ipython",
    "version": 3
   },
   "file_extension": ".py",
   "mimetype": "text/x-python",
   "name": "python",
   "nbconvert_exporter": "python",
   "pygments_lexer": "ipython3",
   "version": "3.10.4"
  }
 },
 "nbformat": 4,
 "nbformat_minor": 5
}
