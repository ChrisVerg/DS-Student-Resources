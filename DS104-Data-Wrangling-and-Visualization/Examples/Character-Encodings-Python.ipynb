{
 "cells": [
  {
   "cell_type": "markdown",
   "id": "e4b54fa5-e1b0-44ea-bff7-bf432751c6fc",
   "metadata": {},
   "source": [
    "# Character Encodings\n",
    "\n",
    "Sometimes you might have an old dataset that is encoded with an older lesser used encoding. Python makes it easy to convert.\n",
    "\n"
   ]
  },
  {
   "cell_type": "markdown",
   "id": "c50349c4-8b32-4727-8b20-28f08b24a505",
   "metadata": {},
   "source": [
    "To list the character encoding of all files in a folder and its subfolders in Python, you can use the os.walk() function in combination with the chardet library to detect the encoding of each file. Here's an example:"
   ]
  },
  {
   "cell_type": "code",
   "execution_count": 3,
   "id": "a08d13b6-ea32-4c5f-bac1-278bfb377296",
   "metadata": {},
   "outputs": [],
   "source": [
    "import chardet\n",
    "import os"
   ]
  },
  {
   "cell_type": "code",
   "execution_count": 3,
   "id": "d014eb47-3245-4919-a8e4-875ae47bbac4",
   "metadata": {},
   "outputs": [
    {
     "name": "stdout",
     "output_type": "stream",
     "text": [
      "../Data/breakfast.csv is encoded in ascii\n",
      "../Data/L3P1.csv is encoded in UTF-8-SIG\n",
      "../Data/pgaTourData.xlsx is encoded in None\n",
      "../Data/cellPhone.csv is encoded in ascii\n",
      "../Data/flowerShipment.csv is encoded in ascii\n",
      "../Data/graduate_admissions.csv is encoded in ascii\n",
      "../Data/All_GPUs.csv is encoded in utf-8\n",
      "../Data/London_hotel_reviews.csv is encoded in Windows-1252\n",
      "../Data/volcanoes.csv is encoded in utf-8\n",
      "../Data/anime.csv is encoded in utf-8\n",
      "../Data/.DS_Store is encoded in MacCyrillic\n",
      "../Data/flowerShop.csv is encoded in utf-8\n",
      "../Data/tea.csv is encoded in ascii\n",
      "../Data/boats.csv is encoded in UTF-8-SIG\n",
      "../Data/glassdoor.csv is encoded in utf-8\n",
      "../Data/PlaneCandidates.xlsx is encoded in None\n",
      "../Data/BorderCrossing.csv is encoded in ascii\n",
      "../Data/YouTubeChannels.csv is encoded in utf-8\n",
      "../Data/olympicEvents.xlsx is encoded in None\n",
      "../Data/datasets-733390-1272569-individuals.csv is encoded in ascii\n",
      "../Data/YouTubeChannels_Python.csv is encoded in utf-8\n",
      "../Data/test.csv is encoded in ascii\n",
      "../Data/studentSurveyCodebook.csv is encoded in Windows-1252\n",
      "../Data/hybrid2013.xlsx is encoded in None\n",
      "../Data/power_lifting.csv is encoded in utf-8\n",
      "../Data/loans.csv is encoded in ascii\n",
      "../Data/airbnb_sample_submission.csv is encoded in ascii\n",
      "../Data/video_games_regional.csv is encoded in ascii\n",
      "../Data/hockey1.csv is encoded in ascii\n",
      "../Data/profile.csv is encoded in ascii\n",
      "../Data/googleplaystore.csv is encoded in Windows-1254\n",
      "../Data/insurance.csv is encoded in ascii\n",
      "../Data/superheroes.csv is encoded in ascii\n",
      "../Data/Intel_CPUs.csv is encoded in utf-8\n",
      "../Data/FakeNews.xlsx is encoded in None\n",
      "../Data/hotels.csv is encoded in ascii\n",
      "../Data/lead_lipstick.csv is encoded in ascii\n",
      "../Data/L6handson.csv is encoded in UTF-8-SIG\n",
      "../Data/airbnb_test_users.csv is encoded in ascii\n",
      "../Data/hockey2.csv is encoded in ascii\n",
      "../Data/BisonTracking.csv is encoded in UTF-8-SIG\n",
      "../Data/PlaneFeatures.xlsx is encoded in None\n",
      "../Data/hockey3.csv is encoded in ascii\n",
      "../Data/data.csv is encoded in ascii\n",
      "../Data/energy.xlsx is encoded in None\n",
      "../Data/FakeNews.csv is encoded in ascii\n",
      "../Data/medical_raw_data.csv is encoded in ascii\n",
      "../Data/readme.md is encoded in ascii\n",
      "../Data/airbnb_users.csv is encoded in ascii\n",
      "../Data/honey.csv is encoded in ascii\n",
      "../Data/locations.csv is encoded in ascii\n",
      "../Data/bakery_sales.csv is encoded in ascii\n",
      "../Data/SW_survey_renamed.csv is encoded in ascii\n",
      "../Data/cruise_ship.csv is encoded in ascii\n",
      "../Data/HR_data.csv is encoded in ascii\n",
      "../Data/client_cancellations.csv is encoded in ascii\n",
      "../Data/titanic.csv is encoded in ascii\n",
      "../Data/payment.csv is encoded in ascii\n",
      "../Data/BorderCrossing.xlsx is encoded in None\n",
      "../Data/Seattle_ParksnRec.csv is encoded in ascii\n",
      "../Data/flight_delays.csv is encoded in ascii\n",
      "../Data/babies.xlsx is encoded in None\n",
      "../Data/Longitudinal_data.pdf is encoded in None\n",
      "../Data/judgesAspectsUnique.xlsx is encoded in None\n",
      "../Data/performances.xlsx is encoded in None\n",
      "../Data/observed-trackers.csv is encoded in ascii\n",
      "../Data/train.csv is encoded in ascii\n",
      "../Data/ManualCounts_AllRecords2020.xml is encoded in ascii\n",
      "../Data/studentSurvey.csv is encoded in ascii\n",
      "../Data/beauty.csv is encoded in ascii\n",
      "../Data/diabetes.csv is encoded in ascii\n",
      "../Data/olympicEvents.csv is encoded in ascii\n",
      "../Data/cruise_ship.xlsx is encoded in None\n",
      "../Data/hybrid2012-13.xlsx is encoded in None\n",
      "../Data/cuisine.csv is encoded in ascii\n",
      "../Data/avocados.csv is encoded in ascii\n",
      "../Data/cars.csv is encoded in ascii\n",
      "../Data/flowers.csv is encoded in ascii\n",
      "../Data/video_games_global.csv is encoded in utf-8\n",
      "../Data/states.csv is encoded in ascii\n",
      "../Data/FY2020FederalFleetReport.xlsx is encoded in None\n",
      "../Data/defects.csv is encoded in ascii\n",
      "../Data/winemag-data_first150k.csv is encoded in utf-8\n",
      "../Data/Tornadoes.csv is encoded in ascii\n",
      "../Data/Accreditation/AccreditationRecords.csv is encoded in ascii\n",
      "../Data/Accreditation/.DS_Store is encoded in Windows-1252\n",
      "../Data/Accreditation/AccreditationActions.csv is encoded in ascii\n",
      "../Data/Accreditation/AccreditationData.xlsx is encoded in None\n",
      "../Data/Accreditation/InstitutionCampus.csv is encoded in ascii\n",
      "../Data/Federal-Fleet-Data/FY2018-Federal_Fleet_Data_Set_8-14-2019.xlsx is encoded in None\n",
      "../Data/Federal-Fleet-Data/FY2019-FederalFleetReportFinal.xlsx is encoded in None\n",
      "../Data/Federal-Fleet-Data/FY2011-FFR_Tables_FINAL.xlsx is encoded in None\n",
      "../Data/Federal-Fleet-Data/FY2013-Federal_Fleet_Report.xlsx is encoded in None\n",
      "../Data/Federal-Fleet-Data/FY2014-Federal_Fleet_Open_Data_Set.xlsx is encoded in None\n",
      "../Data/Federal-Fleet-Data/FY2016-Federal_Fleet_Data.xlsx is encoded in None\n",
      "../Data/Federal-Fleet-Data/FY2012-Federal_Fleet_Report.xls is encoded in Windows-1254\n",
      "../Data/Federal-Fleet-Data/FY2017-Federal_Fleet_Data1.xlsx is encoded in None\n",
      "../Data/Federal-Fleet-Data/FY2020-FederalFleetReport.xlsx is encoded in None\n",
      "../Data/Federal-Fleet-Data/FY2015-Federal_Fleet_Open_Data_Set_-_20160302.xlsx is encoded in None\n",
      "../Data/.ipynb_checkpoints/honey-checkpoint.csv is encoded in ascii\n",
      "../Data/.ipynb_checkpoints/observed-trackers-checkpoint.csv is encoded in ascii\n",
      "../Data/.ipynb_checkpoints/titanic-checkpoint.csv is encoded in ascii\n",
      "../Data/.ipynb_checkpoints/cars-checkpoint.csv is encoded in ascii\n",
      "../Data/.ipynb_checkpoints/FakeNews-checkpoint.csv is encoded in ascii\n"
     ]
    }
   ],
   "source": [
    "folder_path = '../Data'\n",
    "\n",
    "for root, dirs, files in os.walk(folder_path):\n",
    "    for file_name in files:\n",
    "        file_path = os.path.join(root, file_name)\n",
    "        with open(file_path, 'rb') as f:\n",
    "            result = chardet.detect(f.read())\n",
    "            print(f'{file_path} is encoded in {result[\"encoding\"]}')"
   ]
  },
  {
   "cell_type": "code",
   "execution_count": 13,
   "id": "f0c945f1-8df1-4400-a17b-350ad7a8df22",
   "metadata": {},
   "outputs": [
    {
     "name": "stdout",
     "output_type": "stream",
     "text": [
      "File                                          Encoding\n",
      "../Data/breakfast.csv                         ascii\n",
      "../Data/L3P1.csv                              UTF-8-SIG\n",
      "../Data/pgaTourData.xlsx                      None\n",
      "../Data/cellPhone.csv                         ascii\n",
      "../Data/flowerShipment.csv                    ascii\n",
      "../Data/graduate_admissions.csv               ascii\n",
      "../Data/All_GPUs.csv                          utf-8\n",
      "../Data/London_hotel_reviews.csv              Windows-1252\n",
      "../Data/volcanoes.csv                         utf-8\n",
      "../Data/anime.csv                             utf-8\n",
      "../Data/flowerShop.csv                        utf-8\n",
      "../Data/tea.csv                               ascii\n",
      "../Data/boats.csv                             UTF-8-SIG\n",
      "../Data/glassdoor.csv                         utf-8\n",
      "../Data/PlaneCandidates.xlsx                  None\n",
      "../Data/BorderCrossing.csv                    ascii\n",
      "../Data/YouTubeChannels.csv                   utf-8\n",
      "../Data/olympicEvents.xlsx                    None\n",
      "../Data/datasets-733390-1272569-individuals.csv ascii\n",
      "../Data/YouTubeChannels_Python.csv            utf-8\n",
      "../Data/test.csv                              ascii\n",
      "../Data/studentSurveyCodebook.csv             Windows-1252\n",
      "../Data/hybrid2013.xlsx                       None\n",
      "../Data/power_lifting.csv                     utf-8\n",
      "../Data/loans.csv                             ascii\n",
      "../Data/airbnb_sample_submission.csv          ascii\n",
      "../Data/video_games_regional.csv              ascii\n",
      "../Data/hockey1.csv                           ascii\n",
      "../Data/profile.csv                           ascii\n",
      "../Data/googleplaystore.csv                   Windows-1254\n",
      "../Data/insurance.csv                         ascii\n",
      "../Data/superheroes.csv                       ascii\n",
      "../Data/Intel_CPUs.csv                        utf-8\n",
      "../Data/FakeNews.xlsx                         None\n",
      "../Data/hotels.csv                            ascii\n",
      "../Data/lead_lipstick.csv                     ascii\n",
      "../Data/L6handson.csv                         UTF-8-SIG\n",
      "../Data/airbnb_test_users.csv                 ascii\n",
      "../Data/hockey2.csv                           ascii\n",
      "../Data/BisonTracking.csv                     UTF-8-SIG\n",
      "../Data/PlaneFeatures.xlsx                    None\n",
      "../Data/hockey3.csv                           ascii\n",
      "../Data/data.csv                              ascii\n",
      "../Data/energy.xlsx                           None\n",
      "../Data/FakeNews.csv                          ascii\n",
      "../Data/medical_raw_data.csv                  ascii\n",
      "../Data/readme.md                             ascii\n",
      "../Data/titanic-utf-8.csv                     ascii\n",
      "../Data/airbnb_users.csv                      ascii\n",
      "../Data/honey.csv                             ascii\n",
      "../Data/locations.csv                         ascii\n",
      "../Data/bakery_sales.csv                      ascii\n",
      "../Data/SW_survey_renamed.csv                 ascii\n",
      "../Data/cruise_ship.csv                       ascii\n",
      "../Data/HR_data.csv                           ascii\n",
      "../Data/client_cancellations.csv              ascii\n",
      "../Data/titanic.csv                           ascii\n",
      "../Data/payment.csv                           ascii\n",
      "../Data/BorderCrossing.xlsx                   None\n",
      "../Data/Seattle_ParksnRec.csv                 ascii\n",
      "../Data/flight_delays.csv                     ascii\n",
      "../Data/babies.xlsx                           None\n",
      "../Data/Longitudinal_data.pdf                 None\n",
      "../Data/judgesAspectsUnique.xlsx              None\n",
      "../Data/performances.xlsx                     None\n",
      "../Data/observed-trackers.csv                 ascii\n",
      "../Data/train.csv                             ascii\n",
      "../Data/ManualCounts_AllRecords2020.xml       ascii\n",
      "../Data/studentSurvey.csv                     ascii\n",
      "../Data/beauty.csv                            ascii\n",
      "../Data/diabetes.csv                          ascii\n",
      "../Data/olympicEvents.csv                     ascii\n",
      "../Data/cruise_ship.xlsx                      None\n",
      "../Data/hybrid2012-13.xlsx                    None\n",
      "../Data/cuisine.csv                           ascii\n",
      "../Data/avocados.csv                          ascii\n",
      "../Data/cars.csv                              ascii\n",
      "../Data/flowers.csv                           ascii\n",
      "../Data/video_games_global.csv                utf-8\n",
      "../Data/states.csv                            ascii\n",
      "../Data/FY2020FederalFleetReport.xlsx         None\n",
      "../Data/defects.csv                           ascii\n",
      "../Data/winemag-data_first150k.csv            utf-8\n",
      "../Data/Tornadoes.csv                         ascii\n"
     ]
    }
   ],
   "source": [
    "# import a library to detect encodings\n",
    "import chardet\n",
    "import glob\n",
    "\n",
    "# for every text file, print the file name & a gues of its file encoding\n",
    "print(\"File\".ljust(45), \"Encoding\")\n",
    "for filename in glob.glob('../Data/*.*'):\n",
    "    with open(filename, 'rb') as rawdata:\n",
    "        result = chardet.detect(rawdata.read())\n",
    "    print(filename.ljust(45), result['encoding'])"
   ]
  },
  {
   "cell_type": "markdown",
   "id": "193cf53c-0101-4a25-ad20-99caf674b5b3",
   "metadata": {},
   "source": [
    "You can use the pandas library in Python to read a file, read in its current encoding, and then save the file with UTF-8 encoding. Here's an example of how to do this for a CSV file:\n"
   ]
  },
  {
   "cell_type": "code",
   "execution_count": 4,
   "id": "0ff75a4d-5b98-4409-82ab-17242fc74207",
   "metadata": {},
   "outputs": [],
   "source": [
    "import pandas as pd\n",
    "\n",
    "# Read the CSV file and detect its encoding\n",
    "file_path1 = '../Data/titanic.csv'\n",
    "df = pd.read_csv(file_path1)\n",
    "\n",
    "# Save the dataframe to a new CSV file with UTF-8 encoding\n",
    "df.to_csv('../Data/titanic-utf-8.csv', index=False, encoding='utf-8')\n"
   ]
  },
  {
   "cell_type": "code",
   "execution_count": 5,
   "id": "fe4e203e-0b7b-4233-bbeb-d764a6aa43ff",
   "metadata": {},
   "outputs": [
    {
     "name": "stdout",
     "output_type": "stream",
     "text": [
      "Encoding of ../Data/titanic.csv is ascii\n"
     ]
    }
   ],
   "source": [
    "# Open the file in binary mode\n",
    "with open(file_path1, 'rb') as f:\n",
    "    # Read the file content\n",
    "    data = f.read()\n",
    "    # Detect the file's encoding\n",
    "    result = chardet.detect(data)\n",
    "    print(f'Encoding of {file_path1} is {result[\"encoding\"]}')"
   ]
  },
  {
   "cell_type": "code",
   "execution_count": 8,
   "id": "f82ac98f-ef9f-4aa6-950c-91fea6f33218",
   "metadata": {},
   "outputs": [
    {
     "name": "stdout",
     "output_type": "stream",
     "text": [
      "Encoding of ../Data/titanic-utf-8.csv is ascii\n"
     ]
    }
   ],
   "source": [
    "file_path2 = '../Data/titanic-utf-8.csv'\n",
    "# Open the file in binary mode\n",
    "with open(file_path2, 'rb') as f:\n",
    "    # Read the file content\n",
    "    data2 = f.read()\n",
    "    # Detect the file's encoding\n",
    "    result2 = chardet.detect(data2)\n",
    "    print(f'Encoding of {file_path2} is {result2[\"encoding\"]}')"
   ]
  },
  {
   "cell_type": "code",
   "execution_count": 7,
   "id": "6686e442-698b-44f0-973a-d2955682c71d",
   "metadata": {},
   "outputs": [],
   "source": [
    "import codecs\n",
    "\n",
    "# Open the file in ASCII mode\n",
    "with open(\"../Data/titanic.csv\", \"r\", encoding=\"ascii\") as f:\n",
    "    # Read the contents of the file\n",
    "    contents = f.read()\n",
    "\n",
    "# Open the file in UTF-8 mode\n",
    "with codecs.open(\"../Data/titanic-utf.csv\", \"w\", encoding=\"utf-8\") as f:\n",
    "    # Write the contents of the file in UTF-8 encoding\n",
    "    f.write(contents)"
   ]
  },
  {
   "cell_type": "code",
   "execution_count": 10,
   "id": "594cd2b7-a5c8-41a6-9e21-00d40b95a64c",
   "metadata": {},
   "outputs": [
    {
     "name": "stdout",
     "output_type": "stream",
     "text": [
      "Encoding of ../Data/titanic-utf.csv is ascii\n"
     ]
    }
   ],
   "source": [
    "file_path3 = '../Data/titanic-utf.csv'\n",
    "# Open the file in binary mode\n",
    "with open(file_path3, 'rb') as f:\n",
    "    # Read the file content\n",
    "    data3 = f.read()\n",
    "    # Detect the file's encoding\n",
    "    result3 = chardet.detect(data3)\n",
    "    print(f'Encoding of {file_path3} is {result3[\"encoding\"]}')"
   ]
  },
  {
   "cell_type": "markdown",
   "id": "549bfddc-3157-4445-aa69-2e2526ec7752",
   "metadata": {},
   "source": [
    "## Why does chardet report a utf-8 file as ascii\n",
    "chardet is a python library that is used to detect the encoding of a file. It does this by analyzing the byte patterns in the file and comparing them to known patterns for various encodings.\n",
    "\n",
    "However, UTF-8 is a variable-length encoding, which means that it can use one to four bytes to represent a single character. ASCII, on the other hand, uses one byte per character. If a file is saved in UTF-8 format, but only contains characters that can be represented using the ASCII character set, then chardet may incorrectly report the encoding as ASCII because the byte patterns in the file match the patterns for ASCII more closely than those for UTF-8.\n",
    "\n",
    "In other words, the file may be in UTF-8 but since it's only using the ASCII subset of the UTF-8 encoding, it can't be distinguished from ASCII by chardet, as it doesn't have enough information."
   ]
  },
  {
   "cell_type": "markdown",
   "id": "1ebceebd-4c4f-47ca-973c-abd9957dbeb1",
   "metadata": {},
   "source": [
    "## Is US-ASCII same as UTF-8?\n",
    "For characters represented by the 7-bit ASCII character codes, the UTF-8 representation is exactly equivalent to ASCII, allowing transparent round trip migration. Other Unicode characters are represented in UTF-8 by sequences of up to 6 bytes, though most Western European characters require only 2 bytes.\n"
   ]
  },
  {
   "cell_type": "code",
   "execution_count": 12,
   "id": "1e44d03d-a9b3-494d-945c-6d3038ed332b",
   "metadata": {},
   "outputs": [
    {
     "name": "stdout",
     "output_type": "stream",
     "text": [
      "Encoding of ../Data/utf.txt is ascii\n"
     ]
    }
   ],
   "source": [
    "file_path4 = '../Data/utf.txt'\n",
    "# Open the file in binary mode\n",
    "with open(file_path4, 'rb') as f:\n",
    "    # Read the file content\n",
    "    data4 = f.read()\n",
    "    # Detect the file's encoding\n",
    "    result4 = chardet.detect(data4)\n",
    "    print(f'Encoding of {file_path4} is {result4[\"encoding\"]}')"
   ]
  },
  {
   "cell_type": "code",
   "execution_count": 13,
   "id": "fbe87935-7121-4998-9c90-579f8ac6fc65",
   "metadata": {},
   "outputs": [
    {
     "name": "stdout",
     "output_type": "stream",
     "text": [
      "Encoding of ../Data/utf2.txt is UTF-32\n"
     ]
    }
   ],
   "source": [
    "file_path5 = '../Data/utf2.txt'\n",
    "# Open the file in binary mode\n",
    "with open(file_path5, 'rb') as f:\n",
    "    # Read the file content\n",
    "    data5 = f.read()\n",
    "    # Detect the file's encoding\n",
    "    result5 = chardet.detect(data5)\n",
    "    print(f'Encoding of {file_path5} is {result5[\"encoding\"]}')"
   ]
  },
  {
   "cell_type": "code",
   "execution_count": 15,
   "id": "178389f6-9895-48c3-a63e-8686b0b59adf",
   "metadata": {},
   "outputs": [],
   "source": [
    "#import codecs\n",
    "\n",
    "# Open the file in ASCII mode\n",
    "with open(\"../Data/utf2.txt\", \"r\", encoding=\"UTF-32\") as f:\n",
    "    # Read the contents of the file\n",
    "    contents = f.read()\n",
    "\n",
    "# Open the file in UTF-8 mode\n",
    "with codecs.open(\"../Data/utf3.txt\", \"w\", encoding=\"utf-8\") as f:\n",
    "    # Write the contents of the file in UTF-8 encoding\n",
    "    f.write(contents)"
   ]
  },
  {
   "cell_type": "code",
   "execution_count": 16,
   "id": "be417907-1892-40a9-8bf9-ec1ab7e1da04",
   "metadata": {},
   "outputs": [
    {
     "name": "stdout",
     "output_type": "stream",
     "text": [
      "Encoding of ../Data/utf3.txt is ascii\n"
     ]
    }
   ],
   "source": [
    "file_path6 = '../Data/utf3.txt'\n",
    "# Open the file in binary mode\n",
    "with open(file_path6, 'rb') as f:\n",
    "    # Read the file content\n",
    "    data6 = f.read()\n",
    "    # Detect the file's encoding\n",
    "    result6 = chardet.detect(data6)\n",
    "    print(f'Encoding of {file_path6} is {result6[\"encoding\"]}')"
   ]
  },
  {
   "cell_type": "markdown",
   "id": "1dae43e2-9e13-47c0-aa8c-16f0a2c95a94",
   "metadata": {},
   "source": [
    "on MacOs you can utilize \n",
    "\n",
    "```bash\n",
    "File -I utf.txt\n",
    "\n",
    "iconv -f US-ASCII -t UTF-32 utf.txt > utf2.txt\n",
    "\n",
    "File -I utf2.txt\n",
    "```\n",
    "    "
   ]
  },
  {
   "cell_type": "code",
   "execution_count": 18,
   "id": "8d92e0f1-3bb5-4942-9abb-a881a3e6155a",
   "metadata": {},
   "outputs": [
    {
     "name": "stdout",
     "output_type": "stream",
     "text": [
      "../Data/utf.txt: text/plain; charset=us-ascii\n"
     ]
    }
   ],
   "source": [
    "!file -I ../Data/utf.txt"
   ]
  },
  {
   "cell_type": "code",
   "execution_count": 19,
   "id": "711e91e1-8b70-4db0-9aab-214ca060bcad",
   "metadata": {},
   "outputs": [
    {
     "name": "stdout",
     "output_type": "stream",
     "text": [
      "../Data/utf2.txt: text/plain; charset=utf-32be\n"
     ]
    }
   ],
   "source": [
    "!file -I ../Data/utf2.txt"
   ]
  },
  {
   "cell_type": "code",
   "execution_count": 20,
   "id": "de370081-3e1b-4b3c-8524-b9032c364dcb",
   "metadata": {},
   "outputs": [
    {
     "name": "stdout",
     "output_type": "stream",
     "text": [
      "../Data/utf3.txt: text/plain; charset=us-ascii\n"
     ]
    }
   ],
   "source": [
    "!file -I ../Data/utf3.txt"
   ]
  },
  {
   "cell_type": "code",
   "execution_count": 22,
   "id": "2976d800-c406-4b8f-97be-8daebddcd766",
   "metadata": {},
   "outputs": [],
   "source": [
    "!iconv -f US-ASCII -t UTF-32 ../Data/utf3.txt > ../Data/utf4.txt"
   ]
  },
  {
   "cell_type": "code",
   "execution_count": 23,
   "id": "b86fb605-8db9-498e-8664-3e3981f70c2d",
   "metadata": {},
   "outputs": [
    {
     "name": "stdout",
     "output_type": "stream",
     "text": [
      "../Data/utf4.txt: text/plain; charset=utf-32be\n"
     ]
    }
   ],
   "source": [
    "!file -I ../Data/utf4.txt"
   ]
  },
  {
   "cell_type": "code",
   "execution_count": null,
   "id": "02f9dac0-efea-4088-a6a5-dd67bd4babe0",
   "metadata": {},
   "outputs": [],
   "source": []
  }
 ],
 "metadata": {
  "kernelspec": {
   "display_name": "Python 3 (ipykernel)",
   "language": "python",
   "name": "python3"
  },
  "language_info": {
   "codemirror_mode": {
    "name": "ipython",
    "version": 3
   },
   "file_extension": ".py",
   "mimetype": "text/x-python",
   "name": "python",
   "nbconvert_exporter": "python",
   "pygments_lexer": "ipython3",
   "version": "3.9.16"
  }
 },
 "nbformat": 4,
 "nbformat_minor": 5
}
