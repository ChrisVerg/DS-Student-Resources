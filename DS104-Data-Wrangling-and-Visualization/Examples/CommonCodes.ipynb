{
 "cells": [
  {
   "cell_type": "markdown",
   "id": "3adf7a78-8885-40f5-8e89-9db05979270d",
   "metadata": {},
   "source": [
    "# Common Codes:"
   ]
  },
  {
   "cell_type": "markdown",
   "id": "5ff2b750-ac56-4d10-b45f-130983adce75",
   "metadata": {},
   "source": [
    "Julie Boucher"
   ]
  },
  {
   "cell_type": "markdown",
   "id": "09d4a5f9-2584-4a7c-b4e7-a853f1100c7c",
   "metadata": {},
   "source": [
    "### How to Check your Computer Specs:"
   ]
  },
  {
   "cell_type": "code",
   "execution_count": null,
   "id": "35300ba9-34e9-4663-952a-ca14bd886359",
   "metadata": {},
   "outputs": [],
   "source": [
    "Mac: \n",
    "- Apple Icon top left \n",
    "- About this Mac\n",
    "- GB rams\n",
    "- icore processor\n",
    "- Need to have the newest OS system Monterey, or we can also get by with BigSur\n",
    "\n",
    "Windows: \n",
    "- Search Bar\n",
    "- Type “About this PC”\n",
    "- Click on “About this PC” \n",
    "- GB rams\n",
    "- icore processor\n",
    "- Need to have the newest Windows 11 system, or we can get by with Windows 10"
   ]
  },
  {
   "cell_type": "markdown",
   "id": "9d207927-5979-4fb5-82b5-97da79254ddf",
   "metadata": {},
   "source": [
    "### Computer Requirements"
   ]
  },
  {
   "cell_type": "code",
   "execution_count": null,
   "id": "7588b6ad-b54f-4bed-a047-9f3ee4f37cac",
   "metadata": {},
   "outputs": [],
   "source": [
    "Minimum Requirement: \n",
    "- 8 GB Ram\n",
    "- icore 5 processor\n",
    "- 2018 newer\n",
    "\n",
    "Recommended: \n",
    "- 16 GB Ram\n",
    "- icore 7 processor\n",
    "- 2019 newer"
   ]
  },
  {
   "cell_type": "markdown",
   "id": "67fbb58b-1539-4a1d-b01d-5816d75bf32c",
   "metadata": {},
   "source": [
    "### Importing Python"
   ]
  },
  {
   "cell_type": "code",
   "execution_count": null,
   "id": "6b07e1e2-097f-415f-8513-c8f6be80c0de",
   "metadata": {},
   "outputs": [],
   "source": [
    "# Installing Packages in Python"
   ]
  },
  {
   "cell_type": "markdown",
   "id": "98a7e4e8-5ada-4681-96e0-1d3351b10e9f",
   "metadata": {},
   "source": [
    "- If you have never used pandas, seaborn, scipy and other packages before, you will likely recieve an error that reads ` pandas module not found`...\n",
    "\n",
    "\n",
    "picture\n"
   ]
  },
  {
   "cell_type": "markdown",
   "id": "04e10393-664b-4311-b38f-4f00e85d1742",
   "metadata": {},
   "source": [
    "- You will need to open up a `terminal/command prompt ` and type `pip install pandas`, enter. Let it run. Once completed, go back to your python script and re-run your `import pandas as pd` block of code. That should do the trick. Once pip installed, you will never have to pip install this package again on the program. From here on out all you will need to do is the following below..."
   ]
  },
  {
   "cell_type": "code",
   "execution_count": null,
   "id": "38cfadd1-7d2c-40d9-88bf-41130ab16c25",
   "metadata": {},
   "outputs": [],
   "source": [
    "# Import packages in Python:\n",
    "import pandas as pd"
   ]
  },
  {
   "cell_type": "code",
   "execution_count": null,
   "id": "cdac6080-6441-44eb-92a4-3a13419fd00e",
   "metadata": {},
   "outputs": [],
   "source": [
    "# Import data in Python:\n",
    "\n",
    "# CSV:\n",
    "DatasetName = pd.read_csv(\"pathway.csv\")\n",
    "\n",
    "# EXCEL:\n",
    "DatasetName = pd.read_excel(\"pathway.xlsx\")"
   ]
  },
  {
   "cell_type": "code",
   "execution_count": null,
   "id": "ee77c35c-fdf5-4c04-bfec-edbc3c1a711a",
   "metadata": {},
   "outputs": [],
   "source": [
    "# Look at data top 5 rows in Python:\n",
    "DatasetName.head()"
   ]
  },
  {
   "cell_type": "markdown",
   "id": "13e2fd10-3264-4656-9a43-cdf0c2f50a99",
   "metadata": {},
   "source": [
    "### Importing Data in Python Videos:\n",
    "- Mac\n",
    "- Windows"
   ]
  },
  {
   "cell_type": "markdown",
   "id": "c0d297dc-2d96-4061-8f6f-edf3b5d08ba5",
   "metadata": {},
   "source": [
    "### Importing R"
   ]
  },
  {
   "cell_type": "markdown",
   "id": "48481a25-36e5-416d-9e2c-82a2307be91d",
   "metadata": {},
   "source": [
    "When you are installing packages in R, you might need to install packages more then once. Unlike Python, R is a little bit more touchy and needs more attention to detail. Here is the code to install pacakes..."
   ]
  },
  {
   "cell_type": "code",
   "execution_count": null,
   "id": "38bd84f0-5fc3-4e09-8f25-564ce0c01cbf",
   "metadata": {},
   "outputs": [],
   "source": [
    "# Install Packages in R:\n",
    "install.packages(“readr”)\n",
    "install.packages(“readxl”)"
   ]
  },
  {
   "cell_type": "code",
   "execution_count": null,
   "id": "e620446a-2a26-4adb-b9b0-60368f2e143c",
   "metadata": {},
   "outputs": [],
   "source": [
    "# Import Packages in R:\n",
    "library(readr)\n",
    "library(readxl)"
   ]
  },
  {
   "cell_type": "code",
   "execution_count": null,
   "id": "0c5fd726-3dba-4325-a8be-10b4a9182724",
   "metadata": {},
   "outputs": [],
   "source": [
    "# Import Dataset in R:\n",
    "\n",
    "# CSV:\n",
    "DatasetName <- read_csv(\"pathway.csv\")\n",
    "\n",
    "# EXCEL:\n",
    "DatasetName <- read_excel(\"pathway.xlsx\")"
   ]
  },
  {
   "cell_type": "code",
   "execution_count": null,
   "id": "8db0b127-57a3-4a15-a8e2-cef0d1c82b84",
   "metadata": {},
   "outputs": [],
   "source": [
    "# Look at Dataset in R:\n",
    "View(DatasetName)\n",
    "head(DatasetName)"
   ]
  },
  {
   "cell_type": "markdown",
   "id": "bed75945-50f6-4d92-bdf0-5e82936e1e44",
   "metadata": {
    "tags": []
   },
   "source": [
    "### Importing Data in R videos:\n",
    "- Mac\n",
    "- Windows"
   ]
  },
  {
   "cell_type": "markdown",
   "id": "f6d66ae0-5fcc-4548-9e4f-e9d1d9714bd0",
   "metadata": {},
   "source": [
    "### How to Find Pathways:"
   ]
  },
  {
   "cell_type": "markdown",
   "id": "12ceb59d-08d5-4678-8064-faec75b45aae",
   "metadata": {},
   "source": [
    "- Mac video\n",
    "- Windows video"
   ]
  },
  {
   "cell_type": "markdown",
   "id": "6c2ee559-d92d-4ddf-aa11-9b4ddf46294c",
   "metadata": {},
   "source": [
    "### How to Zip and Unzip Files:"
   ]
  },
  {
   "cell_type": "markdown",
   "id": "b73e2a22-937c-46b9-97cd-0664a59d366e",
   "metadata": {},
   "source": [
    "- Mac video\n",
    "- Windows video"
   ]
  },
  {
   "cell_type": "markdown",
   "id": "a2f988c7-cfae-4bf2-88d5-bab56bca0f21",
   "metadata": {},
   "source": [
    "### How to "
   ]
  },
  {
   "cell_type": "markdown",
   "id": "5b172d70-e695-44f9-9c5d-f24202b76ddc",
   "metadata": {},
   "source": [
    "- Mac video\n",
    "- Windows video"
   ]
  },
  {
   "cell_type": "markdown",
   "id": "9a52b856-8d96-4e52-9911-091be1ee94aa",
   "metadata": {},
   "source": [
    "### How to "
   ]
  },
  {
   "cell_type": "markdown",
   "id": "46054298-257c-46f9-9960-082910a79d79",
   "metadata": {},
   "source": [
    "- Mac video\n",
    "- Windows video"
   ]
  },
  {
   "cell_type": "markdown",
   "id": "8f589c8a-c3a7-4288-88e5-2936f3fe5877",
   "metadata": {},
   "source": [
    "### How to "
   ]
  },
  {
   "cell_type": "markdown",
   "id": "d1e7b95f-8b73-42c5-8197-e826abf43170",
   "metadata": {},
   "source": [
    "- Mac video\n",
    "- Windows video"
   ]
  },
  {
   "cell_type": "markdown",
   "id": "c695d5ff-c249-48bd-abac-023bdb7236be",
   "metadata": {},
   "source": [
    "### How to "
   ]
  },
  {
   "cell_type": "markdown",
   "id": "fa15769d-03cd-472a-8af5-8789130a2bba",
   "metadata": {},
   "source": [
    "- Mac video\n",
    "- Windows video"
   ]
  },
  {
   "cell_type": "code",
   "execution_count": null,
   "id": "4c6a1694-bd5e-4bed-ae1a-9552ec5c4ddd",
   "metadata": {},
   "outputs": [],
   "source": []
  },
  {
   "cell_type": "markdown",
   "id": "c42f5c3b-424e-405a-a2e6-c42aeea6df19",
   "metadata": {},
   "source": [
    "### How to Read Errors"
   ]
  },
  {
   "cell_type": "code",
   "execution_count": null,
   "id": "ff3a4b4f-6854-4421-a972-155edf1ecd26",
   "metadata": {},
   "outputs": [],
   "source": [
    "video how to read error\n",
    "\n",
    "example 1\n",
    "\n",
    "example 2\n",
    "\n",
    "example 3"
   ]
  },
  {
   "cell_type": "markdown",
   "id": "938cc6d7-4e7c-489d-9475-c0a9733b1f06",
   "metadata": {},
   "source": [
    "### What is Data Wrangling vs Cleaning\n",
    "Data cleaning focuses on removing erroneous data from your data set. In contrast, data-wrangling focuses on changing the data format by translating \"raw\" data into a more usable form.\n",
    "\n",
    "Source: \n",
    "https://community.nasscom.in/communities/ai-inside/data-wrangling-vs-data-cleaning"
   ]
  },
  {
   "cell_type": "code",
   "execution_count": null,
   "id": "7e03efca-0c11-4f0a-9a73-25cf6e2c1c1e",
   "metadata": {},
   "outputs": [],
   "source": []
  },
  {
   "cell_type": "code",
   "execution_count": null,
   "id": "4b2a2028-665e-4a04-9b21-778dcf646405",
   "metadata": {},
   "outputs": [],
   "source": []
  }
 ],
 "metadata": {
  "kernelspec": {
   "display_name": "Python 3 (ipykernel)",
   "language": "python",
   "name": "python3"
  },
  "language_info": {
   "codemirror_mode": {
    "name": "ipython",
    "version": 3
   },
   "file_extension": ".py",
   "mimetype": "text/x-python",
   "name": "python",
   "nbconvert_exporter": "python",
   "pygments_lexer": "ipython3",
   "version": "3.9.10"
  }
 },
 "nbformat": 4,
 "nbformat_minor": 5
}
