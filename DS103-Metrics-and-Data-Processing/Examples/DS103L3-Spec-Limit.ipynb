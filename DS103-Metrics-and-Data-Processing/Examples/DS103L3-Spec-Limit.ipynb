{
 "cells": [
  {
   "cell_type": "code",
   "execution_count": 1,
   "id": "da918917-6336-4e3d-b62f-fc6d5128b787",
   "metadata": {},
   "outputs": [
    {
     "data": {
      "text/html": [
       "\n",
       "        <iframe\n",
       "            width=\"720\"\n",
       "            height=\"480\"\n",
       "            src=\"https://player.vimeo.com/video/630279245\"\n",
       "            frameborder=\"0\"\n",
       "            allowfullscreen\n",
       "            \n",
       "        ></iframe>\n",
       "        "
      ],
      "text/plain": [
       "<IPython.lib.display.VimeoVideo at 0x10990a760>"
      ]
     },
     "execution_count": 1,
     "metadata": {},
     "output_type": "execute_result"
    }
   ],
   "source": [
    "from IPython.display import VimeoVideo\n",
    "# Tutorial Video Name: Spec Limit\n",
    "VimeoVideo('630279245', width=720, height=480)\n",
    "# https://vimeo.com/630279245"
   ]
  },
  {
   "cell_type": "markdown",
   "id": "47527ee9-23bd-4488-abd1-22a6082a66fc",
   "metadata": {},
   "source": [
    "https://vimeo.com/630279245"
   ]
  },
  {
   "cell_type": "code",
   "execution_count": null,
   "id": "a9b83885-58cf-44cb-b598-8767d9a84b1a",
   "metadata": {},
   "outputs": [],
   "source": []
  }
 ],
 "metadata": {
  "kernelspec": {
   "display_name": "Python 3 (ipykernel)",
   "language": "python",
   "name": "python3"
  },
  "language_info": {
   "codemirror_mode": {
    "name": "ipython",
    "version": 3
   },
   "file_extension": ".py",
   "mimetype": "text/x-python",
   "name": "python",
   "nbconvert_exporter": "python",
   "pygments_lexer": "ipython3",
   "version": "3.9.12"
  }
 },
 "nbformat": 4,
 "nbformat_minor": 5
}
