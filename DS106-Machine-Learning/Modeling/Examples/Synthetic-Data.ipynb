{
 "cells": [
  {
   "cell_type": "markdown",
   "id": "593ed32b-8024-4c15-bd62-fd5c3dd8f25b",
   "metadata": {},
   "source": [
    "# Synthetic Data\n",
    "\n",
    "Creating synthetic data is a technique that can be used in several different areas of academics, including computer science, statistics, and artificial intelligence.\n",
    "\n",
    "In computer science, synthetic data generation can be used to train machine learning models or to test software systems. In statistics, it can be used to generate datasets that have certain statistical properties or to create data that adheres to a particular model. In artificial intelligence, synthetic data can be used to generate more diverse and representative datasets for training machine learning models.\n",
    "\n",
    "Therefore, creating synthetic data can be applied in various fields of academics, including those mentioned above, to create data that can be used to test or train algorithms or systems."
   ]
  },
  {
   "cell_type": "markdown",
   "id": "d10014ed-2c47-4c20-8615-8a724dd6a06d",
   "metadata": {},
   "source": [
    "## Generate synthetic data with Python Faker\n",
    "\n",
    "`Example 1: fake.name(), fake.address(), fake.email(), fake.phone_number()`"
   ]
  },
  {
   "cell_type": "code",
   "execution_count": 1,
   "id": "86d91ffc-0456-49ae-ae30-6d3b3b67cad2",
   "metadata": {
    "tags": []
   },
   "outputs": [],
   "source": [
    "#%pip install faker\n",
    "from faker import Faker\n",
    "import pandas as pd # for data manipulation"
   ]
  },
  {
   "cell_type": "code",
   "execution_count": 2,
   "id": "daee8e9f-cc5e-4704-a543-e3fcf1c0d841",
   "metadata": {
    "tags": []
   },
   "outputs": [
    {
     "data": {
      "text/html": [
       "<div><div id=2a3addc1-78ca-403c-92d7-ea69401a60bb style=\"display:none; background-color:#9D6CFF; color:white; width:200px; height:30px; padding-left:5px; border-radius:4px; flex-direction:row; justify-content:space-around; align-items:center;\" onmouseover=\"this.style.backgroundColor='#BA9BF8'\" onmouseout=\"this.style.backgroundColor='#9D6CFF'\" onclick=\"window.commands?.execute('create-mitosheet-from-dataframe-output');\">See Full Dataframe in Mito</div> <script> if (window.commands?.hasCommand('create-mitosheet-from-dataframe-output')) document.getElementById('2a3addc1-78ca-403c-92d7-ea69401a60bb').style.display = 'flex' </script> <table border=\"1\" class=\"dataframe\">\n",
       "  <thead>\n",
       "    <tr style=\"text-align: right;\">\n",
       "      <th></th>\n",
       "      <th>Name</th>\n",
       "      <th>Address</th>\n",
       "      <th>Email</th>\n",
       "      <th>Phone</th>\n",
       "    </tr>\n",
       "  </thead>\n",
       "  <tbody>\n",
       "    <tr>\n",
       "      <th>0</th>\n",
       "      <td>Christopher Watts</td>\n",
       "      <td>2119 Wells Knolls\\nAprilshire, NE 06431</td>\n",
       "      <td>craigtroy@example.net</td>\n",
       "      <td>523.103.2299x837</td>\n",
       "    </tr>\n",
       "    <tr>\n",
       "      <th>1</th>\n",
       "      <td>Bradley Chavez</td>\n",
       "      <td>73904 Carson Crossroad Suite 443\\nLloydhaven, PR 88046</td>\n",
       "      <td>randybarry@example.com</td>\n",
       "      <td>001-450-444-3342x070</td>\n",
       "    </tr>\n",
       "    <tr>\n",
       "      <th>2</th>\n",
       "      <td>Gerald Jones</td>\n",
       "      <td>51575 Thompson Vista\\nSnyderborough, IN 61648</td>\n",
       "      <td>coffeybecky@example.org</td>\n",
       "      <td>001-857-588-7856</td>\n",
       "    </tr>\n",
       "    <tr>\n",
       "      <th>3</th>\n",
       "      <td>Leonard Lewis</td>\n",
       "      <td>02997 Jacqueline Spurs Suite 004\\nJoelfurt, GA 39331</td>\n",
       "      <td>williamlewis@example.net</td>\n",
       "      <td>220.476.2025x772</td>\n",
       "    </tr>\n",
       "    <tr>\n",
       "      <th>4</th>\n",
       "      <td>James Ramirez</td>\n",
       "      <td>70742 David Courts Apt. 964\\nLake Omar, NM 87916</td>\n",
       "      <td>maria57@example.net</td>\n",
       "      <td>8391542101</td>\n",
       "    </tr>\n",
       "  </tbody>\n",
       "</table></div>"
      ],
      "text/plain": [
       "                Name                                            Address  \\\n",
       "0  Christopher Watts            2119 Wells Knolls\\nAprilshire, NE 06431   \n",
       "1     Bradley Chavez  73904 Carson Crossroad Suite 443\\nLloydhaven, ...   \n",
       "2       Gerald Jones      51575 Thompson Vista\\nSnyderborough, IN 61648   \n",
       "3      Leonard Lewis  02997 Jacqueline Spurs Suite 004\\nJoelfurt, GA...   \n",
       "4      James Ramirez   70742 David Courts Apt. 964\\nLake Omar, NM 87916   \n",
       "\n",
       "                      Email                 Phone  \n",
       "0     craigtroy@example.net      523.103.2299x837  \n",
       "1    randybarry@example.com  001-450-444-3342x070  \n",
       "2   coffeybecky@example.org      001-857-588-7856  \n",
       "3  williamlewis@example.net      220.476.2025x772  \n",
       "4       maria57@example.net            8391542101  "
      ]
     },
     "execution_count": 2,
     "metadata": {},
     "output_type": "execute_result"
    }
   ],
   "source": [
    "# Instantiate Faker() instance\n",
    "fake = Faker()\n",
    "\n",
    "# Create a dataset including names, addresses, emails, and phone numbers\n",
    "data = []\n",
    "for _ in range(10):\n",
    "    data.append([fake.name(), fake.address(), fake.email(), fake.phone_number()])\n",
    "\n",
    "# Convert to DataFrame\n",
    "df = pd.DataFrame(data, columns=['Name', 'Address', 'Email', 'Phone'])\n",
    "df.head()"
   ]
  },
  {
   "cell_type": "markdown",
   "id": "554fc283-452a-4b11-a45e-ec8dc8126185",
   "metadata": {},
   "source": [
    "Faker's package has a number of callable functions, called providers, that will generate random data for you. In the above code chunk, I used the BaseProvider's functions to generate names, physical mailing addresses, email addresses, and phone numbers.\n",
    "\n",
    "## Example 2: fake.profile()\n",
    "Let's use another provider: profile, and see what data we can generate."
   ]
  },
  {
   "cell_type": "code",
   "execution_count": 3,
   "id": "2fe68e6b-b942-4199-8e1c-68f4597820e4",
   "metadata": {
    "tags": []
   },
   "outputs": [
    {
     "data": {
      "text/html": [
       "<div><div id=da67da94-9e41-43b4-a44e-a94c343c408d style=\"display:none; background-color:#9D6CFF; color:white; width:200px; height:30px; padding-left:5px; border-radius:4px; flex-direction:row; justify-content:space-around; align-items:center;\" onmouseover=\"this.style.backgroundColor='#BA9BF8'\" onmouseout=\"this.style.backgroundColor='#9D6CFF'\" onclick=\"window.commands?.execute('create-mitosheet-from-dataframe-output');\">See Full Dataframe in Mito</div> <script> if (window.commands?.hasCommand('create-mitosheet-from-dataframe-output')) document.getElementById('da67da94-9e41-43b4-a44e-a94c343c408d').style.display = 'flex' </script> <table border=\"1\" class=\"dataframe\">\n",
       "  <thead>\n",
       "    <tr style=\"text-align: right;\">\n",
       "      <th></th>\n",
       "      <th>job</th>\n",
       "      <th>company</th>\n",
       "      <th>ssn</th>\n",
       "      <th>residence</th>\n",
       "      <th>current_location</th>\n",
       "      <th>blood_group</th>\n",
       "      <th>website</th>\n",
       "      <th>username</th>\n",
       "      <th>name</th>\n",
       "      <th>sex</th>\n",
       "      <th>address</th>\n",
       "      <th>mail</th>\n",
       "      <th>birthdate</th>\n",
       "    </tr>\n",
       "  </thead>\n",
       "  <tbody>\n",
       "    <tr>\n",
       "      <th>0</th>\n",
       "      <td>Museum/gallery exhibitions officer</td>\n",
       "      <td>Turner Group</td>\n",
       "      <td>124-87-6734</td>\n",
       "      <td>62699 Mills Fall\\nAnnaton, TN 84042</td>\n",
       "      <td>(55.230484, -114.636975)</td>\n",
       "      <td>A+</td>\n",
       "      <td>[https://peterson.info/]</td>\n",
       "      <td>melody63</td>\n",
       "      <td>Amy Steele</td>\n",
       "      <td>F</td>\n",
       "      <td>USCGC Pierce\\nFPO AE 57068</td>\n",
       "      <td>millerkaitlin@gmail.com</td>\n",
       "      <td>2010-10-22</td>\n",
       "    </tr>\n",
       "    <tr>\n",
       "      <th>1</th>\n",
       "      <td>Water quality scientist</td>\n",
       "      <td>Carlson PLC</td>\n",
       "      <td>648-81-4984</td>\n",
       "      <td>3429 Sean Radial Suite 998\\nDerrickland, MD 72327</td>\n",
       "      <td>(-7.1733015, 113.979221)</td>\n",
       "      <td>A-</td>\n",
       "      <td>[http://www.giles-johnson.biz/, http://www.reed.com/]</td>\n",
       "      <td>rosesmith</td>\n",
       "      <td>Ian Wallace</td>\n",
       "      <td>M</td>\n",
       "      <td>19179 Peterson Ways\\nWilliamberg, OK 49780</td>\n",
       "      <td>smahoney@hotmail.com</td>\n",
       "      <td>1913-05-30</td>\n",
       "    </tr>\n",
       "    <tr>\n",
       "      <th>2</th>\n",
       "      <td>Analytical chemist</td>\n",
       "      <td>Forbes, Hughes and Hernandez</td>\n",
       "      <td>445-95-9416</td>\n",
       "      <td>55576 Koch Ports Suite 458\\nGarzachester, IA 71277</td>\n",
       "      <td>(-29.9591525, -44.279075)</td>\n",
       "      <td>B+</td>\n",
       "      <td>[https://smith-mack.com/, https://www.mason-black.org/]</td>\n",
       "      <td>karenmorales</td>\n",
       "      <td>Francisco Johnson</td>\n",
       "      <td>M</td>\n",
       "      <td>477 Denise Wall\\nNew Joan, UT 06723</td>\n",
       "      <td>jason04@yahoo.com</td>\n",
       "      <td>1918-03-26</td>\n",
       "    </tr>\n",
       "    <tr>\n",
       "      <th>3</th>\n",
       "      <td>Licensed conveyancer</td>\n",
       "      <td>Freeman Inc</td>\n",
       "      <td>899-24-6488</td>\n",
       "      <td>USNS Taylor\\nFPO AP 76388</td>\n",
       "      <td>(33.826478, -47.390440)</td>\n",
       "      <td>AB-</td>\n",
       "      <td>[https://www.reyes.com/, http://owens.info/, http://hansen.com/]</td>\n",
       "      <td>harrisonjonathan</td>\n",
       "      <td>Ms. Nicole Hall</td>\n",
       "      <td>F</td>\n",
       "      <td>8691 Vang Points Suite 144\\nNew Robert, IL 15041</td>\n",
       "      <td>blairjose@gmail.com</td>\n",
       "      <td>1976-02-18</td>\n",
       "    </tr>\n",
       "    <tr>\n",
       "      <th>4</th>\n",
       "      <td>Accounting technician</td>\n",
       "      <td>Craig-Lopez</td>\n",
       "      <td>229-75-2306</td>\n",
       "      <td>0982 William Lake Apt. 431\\nSouth Gregory, NJ 95151</td>\n",
       "      <td>(83.0906295, 104.992377)</td>\n",
       "      <td>A+</td>\n",
       "      <td>[https://www.foster.com/, http://taylor-fox.info/, http://carter.com/]</td>\n",
       "      <td>emily21</td>\n",
       "      <td>Amy Williamson</td>\n",
       "      <td>F</td>\n",
       "      <td>66492 Collins Track\\nWest Racheltown, TN 39226</td>\n",
       "      <td>qkelly@hotmail.com</td>\n",
       "      <td>1917-11-28</td>\n",
       "    </tr>\n",
       "  </tbody>\n",
       "</table></div>"
      ],
      "text/plain": [
       "                                  job                       company  \\\n",
       "0  Museum/gallery exhibitions officer                  Turner Group   \n",
       "1             Water quality scientist                   Carlson PLC   \n",
       "2                  Analytical chemist  Forbes, Hughes and Hernandez   \n",
       "3                Licensed conveyancer                   Freeman Inc   \n",
       "4               Accounting technician                   Craig-Lopez   \n",
       "\n",
       "           ssn                                          residence  \\\n",
       "0  124-87-6734                62699 Mills Fall\\nAnnaton, TN 84042   \n",
       "1  648-81-4984  3429 Sean Radial Suite 998\\nDerrickland, MD 72327   \n",
       "2  445-95-9416  55576 Koch Ports Suite 458\\nGarzachester, IA 7...   \n",
       "3  899-24-6488                          USNS Taylor\\nFPO AP 76388   \n",
       "4  229-75-2306  0982 William Lake Apt. 431\\nSouth Gregory, NJ ...   \n",
       "\n",
       "            current_location blood_group  \\\n",
       "0   (55.230484, -114.636975)          A+   \n",
       "1   (-7.1733015, 113.979221)          A-   \n",
       "2  (-29.9591525, -44.279075)          B+   \n",
       "3    (33.826478, -47.390440)         AB-   \n",
       "4   (83.0906295, 104.992377)          A+   \n",
       "\n",
       "                                             website          username  \\\n",
       "0                           [https://peterson.info/]          melody63   \n",
       "1  [http://www.giles-johnson.biz/, http://www.ree...         rosesmith   \n",
       "2  [https://smith-mack.com/, https://www.mason-bl...      karenmorales   \n",
       "3  [https://www.reyes.com/, http://owens.info/, h...  harrisonjonathan   \n",
       "4  [https://www.foster.com/, http://taylor-fox.in...           emily21   \n",
       "\n",
       "                name sex                                           address  \\\n",
       "0         Amy Steele   F                        USCGC Pierce\\nFPO AE 57068   \n",
       "1        Ian Wallace   M        19179 Peterson Ways\\nWilliamberg, OK 49780   \n",
       "2  Francisco Johnson   M               477 Denise Wall\\nNew Joan, UT 06723   \n",
       "3    Ms. Nicole Hall   F  8691 Vang Points Suite 144\\nNew Robert, IL 15041   \n",
       "4     Amy Williamson   F    66492 Collins Track\\nWest Racheltown, TN 39226   \n",
       "\n",
       "                      mail   birthdate  \n",
       "0  millerkaitlin@gmail.com  2010-10-22  \n",
       "1     smahoney@hotmail.com  1913-05-30  \n",
       "2        jason04@yahoo.com  1918-03-26  \n",
       "3      blairjose@gmail.com  1976-02-18  \n",
       "4       qkelly@hotmail.com  1917-11-28  "
      ]
     },
     "execution_count": 3,
     "metadata": {},
     "output_type": "execute_result"
    }
   ],
   "source": [
    "# Create a list of fake profiles\n",
    "profiles = []\n",
    "\n",
    "for _ in range(10):\n",
    "    profiles.append(fake.profile())\n",
    "\n",
    "# Save as a DataFrame\n",
    "df2 = pd.DataFrame(profiles, columns = profiles[0].keys())\n",
    "df2.head()"
   ]
  },
  {
   "cell_type": "markdown",
   "id": "d51196f8-ecca-4c53-9e14-c4857a0d6691",
   "metadata": {},
   "source": [
    "As you can see from the output, there's a lot of information. Let's take a look at an individual profile:"
   ]
  },
  {
   "cell_type": "code",
   "execution_count": 4,
   "id": "fe7f4923-7f9e-4c71-978e-5bb7e9942ade",
   "metadata": {
    "tags": []
   },
   "outputs": [
    {
     "data": {
      "text/plain": [
       "{'job': 'Sound technician, broadcasting/film/video',\n",
       " 'company': 'Meyers, Smith and Stein',\n",
       " 'ssn': '285-56-4494',\n",
       " 'residence': '7669 Edwards Land Apt. 651\\nSouth Samuelchester, NE 32379',\n",
       " 'current_location': (Decimal('27.583831'), Decimal('176.573252')),\n",
       " 'blood_group': 'O-',\n",
       " 'website': ['http://moore.com/',\n",
       "  'http://www.roberson.com/',\n",
       "  'http://www.murphy.com/'],\n",
       " 'username': 'mcardenas',\n",
       " 'name': 'Kathryn Wolfe',\n",
       " 'sex': 'F',\n",
       " 'address': '4114 Lawrence Grove\\nCatherinetown, FM 15398',\n",
       " 'mail': 'jberry@gmail.com',\n",
       " 'birthdate': datetime.date(2012, 3, 23)}"
      ]
     },
     "execution_count": 4,
     "metadata": {},
     "output_type": "execute_result"
    }
   ],
   "source": [
    "fake.profile()"
   ]
  },
  {
   "cell_type": "markdown",
   "id": "0daf81a5-d0fb-4d6c-9b23-b94ea89e92d7",
   "metadata": {},
   "source": [
    "## Example 3: customize fake.profile(fields = [])\n",
    "Depending on the columns you actually want for your fake profiles, you can list whichever attributes you're interested in using the `fields` argument."
   ]
  },
  {
   "cell_type": "code",
   "execution_count": 5,
   "id": "734b5a26-2864-4204-88e2-2632b41c76d8",
   "metadata": {
    "tags": []
   },
   "outputs": [
    {
     "data": {
      "text/html": [
       "<div><div id=5249178b-2339-4c4d-a6b7-d19e6e478524 style=\"display:none; background-color:#9D6CFF; color:white; width:200px; height:30px; padding-left:5px; border-radius:4px; flex-direction:row; justify-content:space-around; align-items:center;\" onmouseover=\"this.style.backgroundColor='#BA9BF8'\" onmouseout=\"this.style.backgroundColor='#9D6CFF'\" onclick=\"window.commands?.execute('create-mitosheet-from-dataframe-output');\">See Full Dataframe in Mito</div> <script> if (window.commands?.hasCommand('create-mitosheet-from-dataframe-output')) document.getElementById('5249178b-2339-4c4d-a6b7-d19e6e478524').style.display = 'flex' </script> <table border=\"1\" class=\"dataframe\">\n",
       "  <thead>\n",
       "    <tr style=\"text-align: right;\">\n",
       "      <th></th>\n",
       "      <th>blood_group</th>\n",
       "      <th>name</th>\n",
       "      <th>sex</th>\n",
       "      <th>birthdate</th>\n",
       "    </tr>\n",
       "  </thead>\n",
       "  <tbody>\n",
       "    <tr>\n",
       "      <th>0</th>\n",
       "      <td>AB-</td>\n",
       "      <td>Shirley Wolfe</td>\n",
       "      <td>F</td>\n",
       "      <td>1911-09-13</td>\n",
       "    </tr>\n",
       "    <tr>\n",
       "      <th>1</th>\n",
       "      <td>O+</td>\n",
       "      <td>Vickie Perkins</td>\n",
       "      <td>F</td>\n",
       "      <td>2013-07-22</td>\n",
       "    </tr>\n",
       "    <tr>\n",
       "      <th>2</th>\n",
       "      <td>AB-</td>\n",
       "      <td>Danielle Nelson</td>\n",
       "      <td>F</td>\n",
       "      <td>1961-07-11</td>\n",
       "    </tr>\n",
       "    <tr>\n",
       "      <th>3</th>\n",
       "      <td>A-</td>\n",
       "      <td>Christina Sanders</td>\n",
       "      <td>F</td>\n",
       "      <td>1954-02-09</td>\n",
       "    </tr>\n",
       "    <tr>\n",
       "      <th>4</th>\n",
       "      <td>B-</td>\n",
       "      <td>Patrick Lee</td>\n",
       "      <td>M</td>\n",
       "      <td>2010-11-04</td>\n",
       "    </tr>\n",
       "  </tbody>\n",
       "</table></div>"
      ],
      "text/plain": [
       "  blood_group               name sex   birthdate\n",
       "0         AB-      Shirley Wolfe   F  1911-09-13\n",
       "1          O+     Vickie Perkins   F  2013-07-22\n",
       "2         AB-    Danielle Nelson   F  1961-07-11\n",
       "3          A-  Christina Sanders   F  1954-02-09\n",
       "4          B-        Patrick Lee   M  2010-11-04"
      ]
     },
     "execution_count": 5,
     "metadata": {},
     "output_type": "execute_result"
    }
   ],
   "source": [
    "# Create fake profiles using specific columns\n",
    "profiles2 = []\n",
    "\n",
    "for _ in range(10):\n",
    "    profiles2.append(fake.profile(fields = [\"name\", \"sex\", \"occupation\", \"blood_group\", \"birthdate\"]))\n",
    "\n",
    "df3 = pd.DataFrame(profiles2, columns = profiles2[0].keys())\n",
    "df3.head()"
   ]
  },
  {
   "cell_type": "markdown",
   "id": "b946744a-7d73-4ff6-8c4b-bbb5c9370916",
   "metadata": {},
   "source": [
    "## DynamicProvider: customizable provider"
   ]
  },
  {
   "cell_type": "code",
   "execution_count": 6,
   "id": "3ebbaa1d-eedc-452b-aa3e-d8248dad9795",
   "metadata": {
    "tags": []
   },
   "outputs": [],
   "source": [
    "from faker.providers import DynamicProvider"
   ]
  },
  {
   "cell_type": "code",
   "execution_count": 7,
   "id": "8f11b3da-a78c-4e5f-b9a7-f1afbaca5b4e",
   "metadata": {
    "tags": []
   },
   "outputs": [
    {
     "name": "stderr",
     "output_type": "stream",
     "text": [
      "/usr/local/lib/python3.9/site-packages/IPython/core/interactiveshell.py:3012: DtypeWarning: Columns (9,14,21) have mixed types.Specify dtype option on import or set low_memory=False.\n",
      "  has_raised = await self.run_ast_nodes(code_ast.body, cell_name,\n"
     ]
    }
   ],
   "source": [
    "df_museums = pd.read_csv('../Data/museums.csv')"
   ]
  },
  {
   "cell_type": "code",
   "execution_count": 8,
   "id": "000004a4-0cd8-42e9-a841-0fb85503da00",
   "metadata": {
    "tags": []
   },
   "outputs": [
    {
     "data": {
      "text/plain": [
       "'HORICAN HISTORICAL SOCIETY'"
      ]
     },
     "execution_count": 8,
     "metadata": {},
     "output_type": "execute_result"
    }
   ],
   "source": [
    "# Get unique list of museum names from existing dataset\n",
    "museum_list = set(df_museums[\"Museum Name\"])\n",
    "\n",
    "# Create museum_provider\n",
    "museum_provider = DynamicProvider(\n",
    "     provider_name = \"museum_provider\",\n",
    "     elements = museum_list,\n",
    ")\n",
    "\n",
    "# Instantiate new Faker() instance\n",
    "fake_more = Faker()\n",
    "\n",
    "# Add new provider\n",
    "fake_more.add_provider(museum_provider)\n",
    "\n",
    "# Use new provider\n",
    "fake_more.museum_provider()"
   ]
  },
  {
   "cell_type": "markdown",
   "id": "019ce01d-e0a5-4aed-95e5-543b0857ca79",
   "metadata": {},
   "source": [
    "In this dummy example, I took an existing [dataset on museums](https://www.kaggle.com/datasets/imls/museum-directory?resource=download), extracted just the names, and in 2 lines of code, created a new provider that will randomly generate a museum name based on the data I've provided it. This could be applied to any other existing dataset that you have."
   ]
  },
  {
   "cell_type": "markdown",
   "id": "bff0343b-c250-40fc-836d-cb655fe2f6c1",
   "metadata": {},
   "source": [
    "## Python Faker providers: standard vs. community\n",
    "To learn more about other providers you can use the following line of code. Note that we're calling on the providers attribute of a Faker() instance, called fake. All of the providers' accompanying functions can be called on like we did above without any additional import statements."
   ]
  },
  {
   "cell_type": "code",
   "execution_count": 9,
   "id": "6b93af00-af0d-4d2b-addc-eb361f021eae",
   "metadata": {
    "tags": []
   },
   "outputs": [
    {
     "data": {
      "text/plain": [
       "[<faker.providers.user_agent.Provider at 0x172ff2b50>,\n",
       " <faker.providers.ssn.en_US.Provider at 0x172ff2ac0>,\n",
       " <faker.providers.python.Provider at 0x172ff2b80>,\n",
       " <faker.providers.profile.Provider at 0x172ff2a60>,\n",
       " <faker.providers.phone_number.en_US.Provider at 0x172ff2940>,\n",
       " <faker.providers.person.en_US.Provider at 0x172ff27c0>,\n",
       " <faker.providers.misc.en_US.Provider at 0x172ff26d0>,\n",
       " <faker.providers.lorem.en_US.Provider at 0x172ff2520>,\n",
       " <faker.providers.job.en_US.Provider at 0x172ff2370>,\n",
       " <faker.providers.isbn.Provider at 0x172ff2340>,\n",
       " <faker.providers.internet.en_US.Provider at 0x172ff22e0>,\n",
       " <faker.providers.geo.en_US.Provider at 0x172ff2190>,\n",
       " <faker.providers.file.Provider at 0x172cb7190>,\n",
       " <faker.providers.emoji.Provider at 0x172cb7e20>,\n",
       " <faker.providers.date_time.en_US.Provider at 0x172cb7b80>,\n",
       " <faker.providers.currency.en_US.Provider at 0x172cb70a0>,\n",
       " <faker.providers.credit_card.en_US.Provider at 0x172cb7e80>,\n",
       " <faker.providers.company.en_US.Provider at 0x172fcaaf0>,\n",
       " <faker.providers.color.en_US.Provider at 0x172fcad00>,\n",
       " <faker.providers.barcode.en_US.Provider at 0x172fcac10>,\n",
       " <faker.providers.bank.en_GB.Provider at 0x172fd2c70>,\n",
       " <faker.providers.automotive.en_US.Provider at 0x172fd2c10>,\n",
       " <faker.providers.address.en_US.Provider at 0x172c91d00>]"
      ]
     },
     "execution_count": 9,
     "metadata": {},
     "output_type": "execute_result"
    }
   ],
   "source": [
    "# Get full list of built-in providers\n",
    "fake.providers"
   ]
  },
  {
   "cell_type": "markdown",
   "id": "b4a1cf2e-a268-432b-928d-039ea5c0513c",
   "metadata": {},
   "source": [
    "Beyond the basic providers, there are also community-developed providers, such as:\n",
    "\n",
    "- faker_airtravel: airport and flight information\n",
    "- faker_music: music genres, subgenres, and instrument information\n",
    "- faker_vehicle: year, make, model, and other vehicle information\n",
    "\n",
    "But you will have to install and import community providers separately:"
   ]
  },
  {
   "cell_type": "code",
   "execution_count": 10,
   "id": "021e649b-39ac-4cbc-bb58-ff3fb8d4e9cc",
   "metadata": {
    "tags": []
   },
   "outputs": [],
   "source": [
    "#%pip install faker_airtravel"
   ]
  },
  {
   "cell_type": "code",
   "execution_count": 11,
   "id": "9fea0443-a938-4565-ab4c-7f9d978fe0be",
   "metadata": {
    "tags": []
   },
   "outputs": [],
   "source": [
    "from faker import Faker\n",
    "from faker_airtravel import AirTravelProvider\n",
    "fake.add_provider(AirTravelProvider)"
   ]
  },
  {
   "cell_type": "markdown",
   "id": "00c5bd41-ff46-45c5-b640-ff4120023a98",
   "metadata": {},
   "source": [
    "Check out Python Faker's full [GitHub](https://github.com/joke2k/faker) and [documentation](https://faker.readthedocs.io/en/master/) for more."
   ]
  },
  {
   "cell_type": "code",
   "execution_count": 12,
   "id": "70790840-0ca9-4aed-b512-33b2c6d5cb25",
   "metadata": {
    "tags": []
   },
   "outputs": [],
   "source": [
    "#%pip install faker_vehicle\n",
    "#%pip install faker_music"
   ]
  },
  {
   "cell_type": "code",
   "execution_count": 13,
   "id": "9be3614d-202b-4e9a-a973-5815750e3889",
   "metadata": {
    "tags": []
   },
   "outputs": [],
   "source": [
    "import faker_music\n",
    "from faker_music import MusicProvider\n",
    "fake.add_provider(MusicProvider)"
   ]
  },
  {
   "cell_type": "code",
   "execution_count": 14,
   "id": "2b14f645-e53e-4986-84db-a51e26fcf749",
   "metadata": {
    "tags": []
   },
   "outputs": [],
   "source": [
    "import faker_vehicle\n",
    "from faker_vehicle import VehicleProvider\n",
    "fake.add_provider(VehicleProvider)"
   ]
  },
  {
   "cell_type": "code",
   "execution_count": 15,
   "id": "d6136252-ef79-4c91-93cf-7033e2828df7",
   "metadata": {
    "tags": []
   },
   "outputs": [
    {
     "data": {
      "text/plain": [
       "[<faker_vehicle.VehicleProvider at 0x172fd29d0>,\n",
       " <faker_music.music.MusicProvider at 0x172fd25e0>,\n",
       " <faker_airtravel.airports.AirTravelProvider at 0x172fd2a30>,\n",
       " <faker.providers.user_agent.Provider at 0x172ff2b50>,\n",
       " <faker.providers.ssn.en_US.Provider at 0x172ff2ac0>,\n",
       " <faker.providers.python.Provider at 0x172ff2b80>,\n",
       " <faker.providers.profile.Provider at 0x172ff2a60>,\n",
       " <faker.providers.phone_number.en_US.Provider at 0x172ff2940>,\n",
       " <faker.providers.person.en_US.Provider at 0x172ff27c0>,\n",
       " <faker.providers.misc.en_US.Provider at 0x172ff26d0>,\n",
       " <faker.providers.lorem.en_US.Provider at 0x172ff2520>,\n",
       " <faker.providers.job.en_US.Provider at 0x172ff2370>,\n",
       " <faker.providers.isbn.Provider at 0x172ff2340>,\n",
       " <faker.providers.internet.en_US.Provider at 0x172ff22e0>,\n",
       " <faker.providers.geo.en_US.Provider at 0x172ff2190>,\n",
       " <faker.providers.file.Provider at 0x172cb7190>,\n",
       " <faker.providers.emoji.Provider at 0x172cb7e20>,\n",
       " <faker.providers.date_time.en_US.Provider at 0x172cb7b80>,\n",
       " <faker.providers.currency.en_US.Provider at 0x172cb70a0>,\n",
       " <faker.providers.credit_card.en_US.Provider at 0x172cb7e80>,\n",
       " <faker.providers.company.en_US.Provider at 0x172fcaaf0>,\n",
       " <faker.providers.color.en_US.Provider at 0x172fcad00>,\n",
       " <faker.providers.barcode.en_US.Provider at 0x172fcac10>,\n",
       " <faker.providers.bank.en_GB.Provider at 0x172fd2c70>,\n",
       " <faker.providers.automotive.en_US.Provider at 0x172fd2c10>,\n",
       " <faker.providers.address.en_US.Provider at 0x172c91d00>]"
      ]
     },
     "execution_count": 15,
     "metadata": {},
     "output_type": "execute_result"
    }
   ],
   "source": [
    "fake.providers"
   ]
  },
  {
   "cell_type": "code",
   "execution_count": 19,
   "id": "7bd02972-ca73-4293-9499-d9f5adfa5cd4",
   "metadata": {
    "tags": []
   },
   "outputs": [
    {
     "data": {
      "text/plain": [
       "'02630 Craig Point\\nDavidhaven, MS 85021'"
      ]
     },
     "execution_count": 19,
     "metadata": {},
     "output_type": "execute_result"
    }
   ],
   "source": [
    "fake.address()"
   ]
  },
  {
   "cell_type": "code",
   "execution_count": null,
   "id": "7daf1e6d-fee4-4d2b-a70b-0130b3b26750",
   "metadata": {},
   "outputs": [],
   "source": []
  }
 ],
 "metadata": {
  "kernelspec": {
   "display_name": "Python 3 (ipykernel)",
   "language": "python",
   "name": "python3"
  },
  "language_info": {
   "codemirror_mode": {
    "name": "ipython",
    "version": 3
   },
   "file_extension": ".py",
   "mimetype": "text/x-python",
   "name": "python",
   "nbconvert_exporter": "python",
   "pygments_lexer": "ipython3",
   "version": "3.9.16"
  }
 },
 "nbformat": 4,
 "nbformat_minor": 5
}
