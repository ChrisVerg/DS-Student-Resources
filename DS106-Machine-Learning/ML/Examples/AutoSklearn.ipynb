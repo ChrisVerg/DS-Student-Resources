{
 "cells": [
  {
   "cell_type": "markdown",
   "id": "3a3cc2c1-27ce-4359-86f3-89d4925a8037",
   "metadata": {},
   "source": [
    "### Auto-Sklearn for Automated Machine Learning in Python\n",
    "by Jason Brownlee on September 7, 2020 in Python Machine Learning\n",
    "\n",
    "[reference](https://machinelearningmastery.com/auto-sklearn-for-automated-machine-learning-in-python/)"
   ]
  },
  {
   "cell_type": "markdown",
   "id": "bed1991d-c0e2-4b9b-ac6c-a1e80a3271e9",
   "metadata": {},
   "source": [
    "Automated Machine Learning (AutoML) refers to techniques for automatically discovering well-performing models for predictive modeling tasks with very little user involvement.\n",
    "\n",
    "Auto-Sklearn is an open-source library for performing AutoML in Python. It makes use of the popular Scikit-Learn machine learning library for data transforms and machine learning algorithms and uses a Bayesian Optimization search procedure to efficiently discover a top-performing model pipeline for a given dataset.\n",
    "\n",
    "In this tutorial, you will discover how to use Auto-Sklearn for AutoML with Scikit-Learn machine learning algorithms in Python.\n",
    "\n",
    "After completing this tutorial, you will know:\n",
    "\n",
    "Auto-Sklearn is an open-source library for AutoML with scikit-learn data preparation and machine learning models.\n",
    "How to use Auto-Sklearn to automatically discover top-performing models for classification tasks.\n",
    "How to use Auto-Sklearn to automatically discover top-performing models for regression tasks.\n",
    "Let’s get started.\n",
    "\n",
    "\n",
    "<p style=\"text-align: center\">\n",
    "  <img  src=\"https://machinelearningmastery.com/wp-content/uploads/2020/06/Auto-Sklearn-for-Automated-Machine-Learning-in-Python.jpg\" width=\"600\" alt=\"image\">\n",
    "</p>\n"
   ]
  },
  {
   "cell_type": "markdown",
   "id": "859dcac9-c175-4dba-894c-5aa3ba57f5d9",
   "metadata": {},
   "source": [
    "## Tutorial Overview\n",
    "\n",
    "This tutorial is divided into four parts; they are:\n",
    "\n",
    "- AutoML With Auto-Sklearn\n",
    "- Install and Using Auto-Sklearn\n",
    "- Auto-Sklearn for Classification\n",
    "- Auto-Sklearn for Regression"
   ]
  },
  {
   "cell_type": "markdown",
   "id": "dcfcb7a7-89ac-4568-bff0-9398c408c991",
   "metadata": {},
   "source": [
    "[Automated Machine Learning (AutoML)](https://en.wikipedia.org/wiki/Automated_machine_learning) refers to techniques for automatically discovering well-performing models for predictive modeling tasks with very little user involvement.\n",
    "\n",
    "[Auto-Sklearn](https://automl.github.io/auto-sklearn/master/) is an open-source library for performing AutoML in Python. It makes use of the popular Scikit-Learn machine learning library for data transforms and machine learning algorithms and uses a [Bayesian Optimization](https://machinelearningmastery.com/what-is-bayesian-optimization/) search procedure to efficiently discover a top-performing model pipeline for a given dataset.\n",
    "\n",
    "AutoML With Auto-Sklearn\n",
    "\n",
    "Automated Machine Learning, or AutoML for short, is a process of discovering the best-performing pipeline of data transforms, model, and model configuration for a dataset.\n",
    "\n",
    "AutoML often involves the use of sophisticated optimization algorithms, such as Bayesian Optimization, to efficiently navigate the space of possible models and model configurations and quickly discover what works well for a given predictive modeling task. It allows non-expert machine learning practitioners to quickly and easily discover what works well or even best for a given dataset with very little technical background or direct input.\n",
    "\n",
    "[Auto-Sklearn](https://automl.github.io/auto-sklearn/master/) is an open-source Python library for AutoML using machine learning models from the scikit-learn machine learning library.\n",
    "\n",
    "It was developed by [Matthias Feurer](https://ml.informatik.uni-freiburg.de/people/feurer/index.html), et al. and described in their 2015 paper titled “Efficient and Robust Automated Machine Learning.”\n",
    "\n",
    "… we introduce a robust new AutoML system based on scikit-learn (using 15 classifiers, 14 feature preprocessing methods, and 4 data preprocessing methods, giving rise to a structured hypothesis space with 110 hyperparameters).\n",
    "\n",
    "— [Efficient and Robust Automated Machine Learning, 2015](https://papers.nips.cc/paper/5872-efficient-and-robust-automated-machine-learning).\n",
    "\n",
    "The benefit of Auto-Sklearn is that, in addition to discovering the data preparation and model that performs for a dataset, it also is able to learn from models that performed well on similar datasets and is able to automatically create an ensemble of top-performing models discovered as part of the optimization process.\n",
    "\n",
    "This system, which we dub AUTO-SKLEARN, improves on existing AutoML methods by automatically taking into account past performance on similar datasets, and by constructing ensembles from the models evaluated during the optimization.\n",
    "\n",
    "The authors provide a useful depiction of their system in the paper, provided below.\n",
    "\n",
    "<p style=\"text-align: center\">\n",
    "  <img  src=\"https://machinelearningmastery.com/wp-content/uploads/2020/03/Overview-of-the-Auto-Sklearn-System.png\" width=\"600\" alt=\"image\">\n",
    "</p>"
   ]
  },
  {
   "cell_type": "markdown",
   "id": "9c039502-5fac-4fe3-921b-5b327e1bfae9",
   "metadata": {},
   "source": [
    "## Install and Using Auto-Sklearn\n",
    "The first step is to install the Auto-Sklearn library, which can be achieved using pip, as follows:\n",
    "\n"
   ]
  },
  {
   "cell_type": "code",
   "execution_count": 2,
   "id": "3b543ceb-2b33-41b3-94f4-a2f30cd49532",
   "metadata": {},
   "outputs": [],
   "source": [
    "#pip install auto-sklearn"
   ]
  },
  {
   "cell_type": "code",
   "execution_count": null,
   "id": "297d2409-1d1a-4048-85b2-41a5a4efc7bf",
   "metadata": {},
   "outputs": [],
   "source": []
  }
 ],
 "metadata": {
  "kernelspec": {
   "display_name": "Python 3 (ipykernel)",
   "language": "python",
   "name": "python3"
  },
  "language_info": {
   "codemirror_mode": {
    "name": "ipython",
    "version": 3
   },
   "file_extension": ".py",
   "mimetype": "text/x-python",
   "name": "python",
   "nbconvert_exporter": "python",
   "pygments_lexer": "ipython3",
   "version": "3.9.16"
  }
 },
 "nbformat": 4,
 "nbformat_minor": 5
}
