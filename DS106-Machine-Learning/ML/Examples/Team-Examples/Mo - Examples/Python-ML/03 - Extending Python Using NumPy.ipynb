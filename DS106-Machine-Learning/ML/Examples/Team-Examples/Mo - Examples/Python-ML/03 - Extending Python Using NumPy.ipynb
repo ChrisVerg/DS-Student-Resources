{
 "cells": [
  {
   "cell_type": "markdown",
   "id": "f5b876af-d605-4766-b90c-6c0867b88ef4",
   "metadata": {},
   "source": [
    "## What is NumPy?"
   ]
  },
  {
   "cell_type": "markdown",
   "id": "7ff2d92e-9608-40bb-bd87-7fe16c9019e7",
   "metadata": {},
   "source": [
    "In Python, we usually use <i>list</i> data type to store a collection of items. The Python list is similar to the concept of arrays in high-level programming lanuages like Java and C#. The following code snippet captures a Python list:"
   ]
  },
  {
   "cell_type": "code",
   "execution_count": 3,
   "id": "7bedd71d-9622-402d-b5f7-520dde4a3438",
   "metadata": {},
   "outputs": [],
   "source": [
    "list1 = [0,1,2,3,4]"
   ]
  },
  {
   "cell_type": "markdown",
   "id": "f3f29d18-7880-4fca-aecf-16ecff67f1e9",
   "metadata": {},
   "source": [
    "Unlike arrays, a Python list does not need to contain elements of the same type. The following example is a perfectly legal list in Python:"
   ]
  },
  {
   "cell_type": "code",
   "execution_count": 4,
   "id": "71243695-0132-4b8c-958a-6a36d9b13ec4",
   "metadata": {},
   "outputs": [],
   "source": [
    "list2 = [6, 'Hello', 3.16, False, 0]"
   ]
  },
  {
   "cell_type": "markdown",
   "id": "227c9dc8-f444-4892-b619-7c9a323a12d9",
   "metadata": {},
   "source": [
    "While this unique feature in Python provides flexibility when handling multiple types in a list, it has its disadvantages when processing large amounts of data (as is typical in machine learning and data science projects). The key problem with Python's list data type is its efficiency. To allow a list to have non‐uniform type items, each item in the list is stored in a memory location, with the list containing an “array” of pointers to each of these locations. A Python list requires the following:\n",
    "\n",
    "- At least 4 bytes per pointer\n",
    "- At least 16 bytes for the smallest Python object—4 bytes for a pointer, 4 bytes for the reference count, 4 bytes for the value. All of these together round up to 16 bytes.\n",
    "\n",
    "\n",
    "Due to the way that a Python list is implemented, accessing items in a large list is computationally expensive. To solve this limitation with Python's list feature, Python programmers turn to NumPy, an extension to the Python programming language that adds support for large, multidimensional arrays and matrices, along with a large library of high‐level mathematical functions to operate on these arrays.\n",
    "\n",
    "In NumPy, an array is of type ndarray (n‐dimensional array), and all elements must be of the same type. An ndarray object represents a multidimensional, homogeneous array of fixed‐size items, and it is much more efficient than Python's list. The ndarray object also provides functions that operate on an entire array at once."
   ]
  },
  {
   "cell_type": "markdown",
   "id": "6d03f84a-2d0b-41e9-b095-8f05e952aaad",
   "metadata": {},
   "source": [
    "## Creating NumPy Arrays"
   ]
  },
  {
   "cell_type": "markdown",
   "id": "c277ec42-6fb9-4fa9-b658-e8c8f8c96090",
   "metadata": {},
   "source": [
    "Before using NumPy, you first need to import the NumPy package (You may refer to the package using its alias <i>np</i> if you prefer)"
   ]
  },
  {
   "cell_type": "code",
   "execution_count": 5,
   "id": "23abae58-5378-48bc-a486-1743fa2a2f32",
   "metadata": {},
   "outputs": [],
   "source": [
    "import numpy as np"
   ]
  },
  {
   "cell_type": "markdown",
   "id": "990c113f-5a5e-4c77-bf02-1d2acca8c22b",
   "metadata": {},
   "source": [
    "The first way to make NumPy arrays is to create them intrinsically, using the functions built right into NumPy. First, you can use the arange() function to create an evenly spaced array with a given interval:"
   ]
  },
  {
   "cell_type": "code",
   "execution_count": 6,
   "id": "aaf08202-9065-424a-becb-eb11a2c5ae0b",
   "metadata": {},
   "outputs": [
    {
     "name": "stdout",
     "output_type": "stream",
     "text": [
      "[ 0  1  2  3  4  5  6  7  8  9 10 11 12 13 14 15 16 17 18 19]\n",
      "(20,)\n"
     ]
    }
   ],
   "source": [
    "a = np.arange(20) # Creates a range from 0 to 19\n",
    "print(a)\n",
    "print(a.shape)"
   ]
  },
  {
   "cell_type": "markdown",
   "id": "279c409f-68c4-454e-a7eb-b40ffe8280ff",
   "metadata": {},
   "source": [
    "The preceding code creates a rank 1 array (one‐dimensional) of 20 elements. To get the shape of the array, use the shape property. Think of a1 as a 20×1 matrix"
   ]
  },
  {
   "cell_type": "markdown",
   "id": "71e8465f-968d-4a4a-af05-bbeb1efe025c",
   "metadata": {},
   "source": [
    "You can also specify a step in the arange() function. The following code snippet inserts a step value of 2:"
   ]
  },
  {
   "cell_type": "code",
   "execution_count": 7,
   "id": "1541ad32-9549-4dc1-829d-1b7542b545e6",
   "metadata": {},
   "outputs": [
    {
     "name": "stdout",
     "output_type": "stream",
     "text": [
      "[ 0  2  4  6  8 10 12 14 16 18]\n",
      "(10,)\n"
     ]
    }
   ],
   "source": [
    "a1 = np.arange(0,20, 2) # creates a range from 0 to 20, step 2\n",
    "print(a1)\n",
    "print(a1.shape)"
   ]
  },
  {
   "cell_type": "markdown",
   "id": "3f780a75-3e44-4be4-b3f5-9ab0f6e21685",
   "metadata": {},
   "source": [
    "To create an array of a specific size filled with 0s, use the zeros() function:"
   ]
  },
  {
   "cell_type": "code",
   "execution_count": 8,
   "id": "cd671dfb-840c-46f2-b06e-53f4198499bd",
   "metadata": {},
   "outputs": [
    {
     "name": "stdout",
     "output_type": "stream",
     "text": [
      "[0. 0. 0. 0. 0. 0. 0. 0. 0. 0.]\n",
      "(10,)\n"
     ]
    }
   ],
   "source": [
    "a2 = np.zeros(10) # creates a one-dim array with 10 zeros\n",
    "print(a2)\n",
    "print(a2.shape)"
   ]
  },
  {
   "cell_type": "markdown",
   "id": "f580e7d4-abef-447a-8aaf-6f88f16563f1",
   "metadata": {},
   "source": [
    "You can also create two‐dimensional arrays using the zeros() function:"
   ]
  },
  {
   "cell_type": "code",
   "execution_count": 9,
   "id": "5196ae7f-b270-4bd9-be1d-88009eca8822",
   "metadata": {},
   "outputs": [
    {
     "name": "stdout",
     "output_type": "stream",
     "text": [
      "[[0. 0. 0.]\n",
      " [0. 0. 0.]]\n"
     ]
    }
   ],
   "source": [
    "a3 = np.zeros((2,3)) # array of zeros with 2-rows and 3-columns\n",
    "print(a3)"
   ]
  },
  {
   "cell_type": "code",
   "execution_count": 10,
   "id": "47c6ee23-e285-4433-afc7-032a91d66cc2",
   "metadata": {},
   "outputs": [
    {
     "name": "stdout",
     "output_type": "stream",
     "text": [
      "(2, 3)\n"
     ]
    }
   ],
   "source": [
    "print(a3.shape)"
   ]
  },
  {
   "cell_type": "markdown",
   "id": "f5a2af37-4a9c-4fa0-9541-db6500b11bc2",
   "metadata": {},
   "source": [
    "If you want an array filled with a specific number instead of 0, use the full() function:"
   ]
  },
  {
   "cell_type": "code",
   "execution_count": 11,
   "id": "0c4eeeff-4571-4b11-bc4b-488471bef1e7",
   "metadata": {},
   "outputs": [
    {
     "name": "stdout",
     "output_type": "stream",
     "text": [
      "[[10 10 10]\n",
      " [10 10 10]]\n",
      "(2, 3)\n"
     ]
    }
   ],
   "source": [
    "a4 = np.full((2,3), 10) # an array of rank 2 with all 10s\n",
    "print(a4)\n",
    "print(a4.shape)"
   ]
  },
  {
   "cell_type": "markdown",
   "id": "dfbbfd3e-5a90-4b3f-bc99-84467931bc2f",
   "metadata": {},
   "source": [
    "Sometimes, you need to create an array that mirrors an identity matrix. In NumPy, you can do so using the eye() function:\n",
    "the eye() function returns a 2-D array with ones on the diagonal and zeros elsewhere."
   ]
  },
  {
   "cell_type": "code",
   "execution_count": 12,
   "id": "11d558b4-e72c-4282-b8bb-d7a943a505dd",
   "metadata": {},
   "outputs": [
    {
     "name": "stdout",
     "output_type": "stream",
     "text": [
      "[[1. 0. 0. 0.]\n",
      " [0. 1. 0. 0.]\n",
      " [0. 0. 1. 0.]\n",
      " [0. 0. 0. 1.]]\n",
      "(4, 4)\n"
     ]
    }
   ],
   "source": [
    "a5 = np.eye(4) # 4 x 4 matrix\n",
    "print(a5)\n",
    "print(a5.shape)"
   ]
  },
  {
   "cell_type": "markdown",
   "id": "042a07d1-063f-41db-885e-4dc605fc726b",
   "metadata": {},
   "source": [
    "To create an array filled with random numbers, you can use the random() function from the numpy.random module:"
   ]
  },
  {
   "cell_type": "code",
   "execution_count": 14,
   "id": "9b962925-be33-4a8a-b3c9-0d81a6544785",
   "metadata": {},
   "outputs": [
    {
     "name": "stdout",
     "output_type": "stream",
     "text": [
      "[[0.94598426 0.88947641 0.26357243 0.66539915]\n",
      " [0.98211413 0.23647742 0.42673729 0.05495735]]\n",
      "(2, 4)\n"
     ]
    }
   ],
   "source": [
    "a6 = np.random.random((2,4)) # create a 2 x 4 array with random values in the intervals between 0.0 and 1.0\n",
    "print(a6)\n",
    "print(a6.shape)"
   ]
  },
  {
   "cell_type": "markdown",
   "id": "e1ad827e-bdc9-4458-a83c-6697a1416c04",
   "metadata": {},
   "source": [
    "Another way to create a NumPy array is to create it from a Python list as follows:"
   ]
  },
  {
   "cell_type": "code",
   "execution_count": 15,
   "id": "89755404-692a-4707-93bd-60e6cc237764",
   "metadata": {},
   "outputs": [
    {
     "name": "stdout",
     "output_type": "stream",
     "text": [
      "[1 2 3 4 5 6 4]\n",
      "(7,)\n"
     ]
    }
   ],
   "source": [
    "list1 = [1,2,3,4,5,6,4]\n",
    "r1 = np.array(list1) # this is a rank 1 array\n",
    "print(r1)\n",
    "print(r1.shape)"
   ]
  },
  {
   "cell_type": "markdown",
   "id": "c10f964d-eec6-4dce-9c76-22fad9a1b91b",
   "metadata": {},
   "source": [
    "## Array Indexing"
   ]
  },
  {
   "cell_type": "markdown",
   "id": "5b71cfea-fa01-4d6d-b9bd-8f704acc9bd0",
   "metadata": {},
   "source": [
    "Accessing elements in the array is similar to accessing elements in a Python list:"
   ]
  },
  {
   "cell_type": "code",
   "execution_count": 16,
   "id": "e29b8929-7dda-4cea-8877-d820a8a38906",
   "metadata": {},
   "outputs": [
    {
     "name": "stdout",
     "output_type": "stream",
     "text": [
      "1\n"
     ]
    }
   ],
   "source": [
    "# to print the first element from the array r\n",
    "print(r1[0])"
   ]
  },
  {
   "cell_type": "code",
   "execution_count": 17,
   "id": "59d00bee-aea6-4e79-bded-526e97945af0",
   "metadata": {},
   "outputs": [
    {
     "name": "stdout",
     "output_type": "stream",
     "text": [
      "2\n"
     ]
    }
   ],
   "source": [
    "# to print the 2nd element from the array r1\n",
    "print(r1[1])"
   ]
  },
  {
   "cell_type": "markdown",
   "id": "7479fde6-3daf-4b0f-99e9-982fb83a0636",
   "metadata": {},
   "source": [
    "The following code snippet creates another array named r2, which is two‐dimensional:"
   ]
  },
  {
   "cell_type": "code",
   "execution_count": 20,
   "id": "63656f78-5e57-4f49-9474-8b9293c8d467",
   "metadata": {},
   "outputs": [
    {
     "name": "stdout",
     "output_type": "stream",
     "text": [
      "[[ 1  2  3  4  5  6  4]\n",
      " [ 6 13 14  8  9  8 10]]\n",
      "(2, 7)\n"
     ]
    }
   ],
   "source": [
    "list2 = [6,13,14,8,9, 8, 10]\n",
    "r2 = np.array([list1, list2])\n",
    "print(r2)\n",
    "print(r2.shape)"
   ]
  },
  {
   "cell_type": "markdown",
   "id": "e1bca41f-b3eb-413e-9660-ed1aea7895d1",
   "metadata": {},
   "source": [
    "## Boolean Indexing"
   ]
  },
  {
   "cell_type": "markdown",
   "id": "38c60436-e3a3-4c95-ba42-546419d50eec",
   "metadata": {},
   "source": [
    "In addition to using indexing to access elements in an array, there is another very cool way to access elements in a NumPy array. Consider the following:"
   ]
  },
  {
   "cell_type": "code",
   "execution_count": 23,
   "id": "08e2a5c7-394d-4159-afe5-b11720c7083c",
   "metadata": {},
   "outputs": [
    {
     "name": "stdout",
     "output_type": "stream",
     "text": [
      "[False False  True  True  True  True  True]\n"
     ]
    }
   ],
   "source": [
    "print(r1 > 2) # This statement prints out a list containing Boolean values. What it actually does is to go through each element in r1 and check if each element is more than two. The result is a Boolean value, and a list of Boolean values is created at the end of the process"
   ]
  },
  {
   "cell_type": "code",
   "execution_count": 27,
   "id": "b7f6c996-bd69-4f9f-b628-541af4e3f72c",
   "metadata": {},
   "outputs": [
    {
     "name": "stdout",
     "output_type": "stream",
     "text": [
      "[3 4 5 6 4]\n"
     ]
    }
   ],
   "source": [
    "print (r1[r1 > 2]) #You can feed the list results back into the array as the index. This is called Boolean Indexing."
   ]
  },
  {
   "cell_type": "code",
   "execution_count": 28,
   "id": "e81f13df-6588-4701-b2a6-38de02b41ae1",
   "metadata": {},
   "outputs": [
    {
     "name": "stdout",
     "output_type": "stream",
     "text": [
      "[ 0  1  2  3  4  5  6  7  8  9 10 11 12 13 14 15 16 17 18 19]\n"
     ]
    }
   ],
   "source": [
    "nums = np.arange(20)\n",
    "print(nums)"
   ]
  },
  {
   "cell_type": "markdown",
   "id": "be962365-8d95-4bf7-a48d-eb26f91ba8f5",
   "metadata": {},
   "source": [
    "If you want to retrieve all odd numbers from the list nums, you can simply use Boolean Indexing as follows:"
   ]
  },
  {
   "cell_type": "code",
   "execution_count": 29,
   "id": "173c7848-2f56-4e8f-9a0c-9b26bba6ca31",
   "metadata": {},
   "outputs": [
    {
     "name": "stdout",
     "output_type": "stream",
     "text": [
      "[ 1  3  5  7  9 11 13 15 17 19]\n"
     ]
    }
   ],
   "source": [
    "odd_nums = nums[nums % 2 == 1]\n",
    "print(odd_nums)"
   ]
  },
  {
   "cell_type": "markdown",
   "id": "0997b663-7a79-41b3-a1ad-41e6d1e41510",
   "metadata": {},
   "source": [
    "## Slicing Arrays"
   ]
  },
  {
   "cell_type": "code",
   "execution_count": 32,
   "id": "5c07f13f-3b42-4530-8ad7-344483a42096",
   "metadata": {},
   "outputs": [
    {
     "name": "stdout",
     "output_type": "stream",
     "text": [
      "[[1 2 3 4 5]\n",
      " [4 5 6 7 8]\n",
      " [9 8 7 6 5]]\n",
      "(3, 5)\n"
     ]
    }
   ],
   "source": [
    "a = np.array([[1,2,3,4,5], # rank 2 array\n",
    "            [4,5,6,7,8],\n",
    "            [9,8,7,6,5]])\n",
    "print(a)\n",
    "print(a.shape)"
   ]
  },
  {
   "cell_type": "markdown",
   "id": "41f0b586-338d-4842-98a6-88639136fc82",
   "metadata": {},
   "source": [
    "To extract the last two rows and the first three columns: "
   ]
  },
  {
   "cell_type": "code",
   "execution_count": 39,
   "id": "d45acec7-6036-4a7e-bd31-b7b9c11ef1ef",
   "metadata": {},
   "outputs": [
    {
     "name": "stdout",
     "output_type": "stream",
     "text": [
      "[[4 5 6]\n",
      " [9 8 7]]\n"
     ]
    }
   ],
   "source": [
    "b1 = a[1:3, :3] # row 1 to 3 (not inclusive) and first 3 columsn\n",
    "print(b1)"
   ]
  },
  {
   "cell_type": "markdown",
   "id": "52acde6c-a14c-4972-9f71-b319486b86e0",
   "metadata": {},
   "source": [
    "Slicing has the following syntax: [start:stop]. For two‐dimensional arrays, the slicing syntax becomes [start:stop, start:stop]. The start:stop before the comma (,) refers to the rows, and the start:stop after the comma (,) refers to the columns. Hence for [1:3, :3], this means that you want to extract the rows with index 1 right up to 3 (but not including 3), and columns starting from the first column right up to index 3 (but not including 3). The general confusion regarding slicing is the end index. You need to remember that the end index is not included in the answer."
   ]
  },
  {
   "cell_type": "markdown",
   "id": "eec24b3b-bf07-4c63-83f2-6403ed82479d",
   "metadata": {},
   "source": [
    "## NumPy Slice is a Reference"
   ]
  },
  {
   "cell_type": "markdown",
   "id": "f4acaa2d-0b26-44db-914b-c40484e190ef",
   "metadata": {},
   "source": [
    "It is noteworthy that the result of a NumPy slice is a reference and not a copy of the original array. Consider the following:"
   ]
  },
  {
   "cell_type": "code",
   "execution_count": 40,
   "id": "3d8f563c-30cc-49eb-a968-3e9ab6ae1b26",
   "metadata": {},
   "outputs": [
    {
     "name": "stdout",
     "output_type": "stream",
     "text": [
      "[[6 7 8]\n",
      " [7 6 5]]\n"
     ]
    }
   ],
   "source": [
    "b3 = a[1:, 2:] # row 1 onwards and column 2 onwards.\n",
    "print(b3) # b3 is pointing to a subset of a"
   ]
  },
  {
   "cell_type": "markdown",
   "id": "67618359-5864-4261-ab2e-4cc21f910b1f",
   "metadata": {},
   "source": [
    "here, b3 is a actually a reference to the original array a. See figure below: "
   ]
  },
  {
   "cell_type": "markdown",
   "id": "30982dae-cf56-4cfc-883c-4cca5e2f59c7",
   "metadata": {},
   "source": [
    "<p style=\"text-align: center\">\n",
    "  <img  src=\"Media\\NumPy-Slice.PNG\" width=\"600\" alt=\"NumPy-Slice\">\n",
    "</p>"
   ]
  },
  {
   "cell_type": "markdown",
   "id": "601f87c2-5857-4813-a820-19feef7006d0",
   "metadata": {},
   "source": [
    "Hence, if you want to change one of the following elements in b3 as follows:"
   ]
  },
  {
   "cell_type": "code",
   "execution_count": 42,
   "id": "bf231519-0cf8-4e4c-9996-1e22508eda11",
   "metadata": {},
   "outputs": [],
   "source": [
    "b3[0,2] = 88 # b3[0,2] is pointing to a[1,4]; modifying it will modify the original array a"
   ]
  },
  {
   "cell_type": "code",
   "execution_count": 43,
   "id": "4f9db53f-7d94-4f77-9f2d-5be858148fa4",
   "metadata": {},
   "outputs": [
    {
     "name": "stdout",
     "output_type": "stream",
     "text": [
      "[[ 1  2  3  4  5]\n",
      " [ 4  5  6  7 88]\n",
      " [ 9  8  7  6  5]]\n"
     ]
    }
   ],
   "source": [
    "print(a) \n",
    "\n",
    "# The result will affect the content of a like this:"
   ]
  },
  {
   "cell_type": "markdown",
   "id": "549f341a-39af-4901-b561-40909f80df59",
   "metadata": {},
   "source": [
    "## Reshaping Arrays"
   ]
  },
  {
   "cell_type": "code",
   "execution_count": 45,
   "id": "6c97fa5d-3858-4e91-b795-2a57dd869764",
   "metadata": {},
   "outputs": [
    {
     "name": "stdout",
     "output_type": "stream",
     "text": [
      "[9 8 7 6 5]\n",
      "(5,)\n"
     ]
    }
   ],
   "source": [
    "b5 = a[2, :] # row 2 and all columns\n",
    "print(b5) # b5 is in rank 1\n",
    "print (b5.shape)"
   ]
  },
  {
   "cell_type": "markdown",
   "id": "7b2e834e-23a7-46d8-9de3-73fa52adefd0",
   "metadata": {},
   "source": [
    "You can rehsape an array to another dimension using the reshape() function. Using b5 (which is a rank 1 array) example, you can reshape it to a rank 2 array as follows:"
   ]
  },
  {
   "cell_type": "code",
   "execution_count": 46,
   "id": "9063a074-bbb2-4966-aa65-9dcd02ce4936",
   "metadata": {},
   "outputs": [
    {
     "name": "stdout",
     "output_type": "stream",
     "text": [
      "[[9 8 7 6 5]]\n"
     ]
    }
   ],
   "source": [
    "b5 = b5.reshape(1, -1)\n",
    "print(b5)"
   ]
  },
  {
   "cell_type": "markdown",
   "id": "ff87c22d-a585-4eb7-82aa-66ca6aeb6558",
   "metadata": {},
   "source": [
    "In this example, you call the reshape() function with two arguments. The first 1 indicates that you want to convert it into rank 2 array with 1 row, and the ‐1 indicates that you will leave it to the reshape() function to create the correct number of columns. Of course, in this example, it is clear that after reshaping there will be five columns, so you can call the reshape() function as reshape(1,5). In more complex cases, however, it is always convenient to be able to use ‐1 to let the function decide on the number of rows or columns to create."
   ]
  },
  {
   "cell_type": "markdown",
   "id": "ca4f37c8-efc2-4ef7-8cde-e3eada0f6e90",
   "metadata": {},
   "source": [
    "## Array Math"
   ]
  },
  {
   "cell_type": "markdown",
   "id": "2bfcc1af-1d5c-4bce-b641-0d498757fa54",
   "metadata": {},
   "source": [
    " You can perform array math very easily on NumPy arrays. Consider the following 2-rank arrays:"
   ]
  },
  {
   "cell_type": "code",
   "execution_count": 47,
   "id": "7f3a57c0-f103-4499-9091-e42a5653a397",
   "metadata": {},
   "outputs": [
    {
     "name": "stdout",
     "output_type": "stream",
     "text": [
      "[[ 8 10 12]\n",
      " [ 6  8 10]]\n"
     ]
    }
   ],
   "source": [
    "x1 = np.array([[1,2,3], [4,5,6]])\n",
    "x2 = np.array([[7,8,9],[2,3,4]])\n",
    "\n",
    "# To ad these arrays together, you use the + operator as follows:\n",
    "\n",
    "print(x1 + x2)"
   ]
  },
  {
   "cell_type": "markdown",
   "id": "d0b36cbd-560c-460e-87ae-5b9713752df9",
   "metadata": {},
   "source": [
    "Array math is important, as it can be used to perform vector calculations. A good example is as follows:"
   ]
  },
  {
   "cell_type": "code",
   "execution_count": 49,
   "id": "7d77faff-6106-4ad4-8326-b9e0eec7bc68",
   "metadata": {},
   "outputs": [
    {
     "name": "stdout",
     "output_type": "stream",
     "text": [
      "[6 5]\n"
     ]
    }
   ],
   "source": [
    "x = np.array([2,3])\n",
    "y = np.array([4,2])\n",
    "z = x + y\n",
    "print(z)"
   ]
  },
  {
   "cell_type": "code",
   "execution_count": 51,
   "id": "353fdd07-6d9e-4c37-99a7-ee5d6cfd710e",
   "metadata": {},
   "outputs": [
    {
     "data": {
      "text/plain": [
       "array([[ 2,  4,  6],\n",
       "       [ 8, 10, 12]])"
      ]
     },
     "execution_count": 51,
     "metadata": {},
     "output_type": "execute_result"
    }
   ],
   "source": [
    "# beside using the + operator, you can also use the np.add() function to add two arrays\n",
    "np.add(x1, x1)"
   ]
  },
  {
   "cell_type": "code",
   "execution_count": 52,
   "id": "4dd3122b-d8fe-469b-b008-f3139c09919a",
   "metadata": {},
   "outputs": [
    {
     "name": "stdout",
     "output_type": "stream",
     "text": [
      "[[-6 -6 -6]\n",
      " [ 2  2  2]]\n",
      "[[ 7 16 27]\n",
      " [ 8 15 24]]\n",
      "[[0.14285714 0.25       0.33333333]\n",
      " [2.         1.66666667 1.5       ]]\n"
     ]
    }
   ],
   "source": [
    "# you can also perform subtraction, multiplication, as well as division with NumPy arrays:\n",
    "\n",
    "print (x1 - x2)\n",
    "print (x1 * x2)\n",
    "print (x1 / x2)"
   ]
  },
  {
   "cell_type": "markdown",
   "id": "48860395-fb82-4bc1-a2e3-e6eb805aed90",
   "metadata": {},
   "source": [
    "#### Example"
   ]
  },
  {
   "cell_type": "markdown",
   "id": "ccf45729-c7b9-4633-ac25-08be01fe8109",
   "metadata": {},
   "source": [
    "Suppose you have three arrays: one containing the names of three individuals, another the corresponding heights of these individuals, and the last one the corresponding weights of the individuals in the group:"
   ]
  },
  {
   "cell_type": "code",
   "execution_count": 53,
   "id": "ad85bb7f-bdb6-42c7-80d8-48482ff5cfc7",
   "metadata": {},
   "outputs": [],
   "source": [
    "names = np.array(['Ann', 'Joe', 'Mark'])\n",
    "heights = np.array([1.5, 1.78, 1.6])\n",
    "weights = np.array([65, 46, 59])"
   ]
  },
  {
   "cell_type": "markdown",
   "id": "f5a579a2-8ad0-4d48-b2f3-698ffa391c07",
   "metadata": {},
   "source": [
    "Now say that you want to calculate the Body Mass Index (BMI) of this group of people. The formula to calculate BMI is as follows:\n",
    "- Divide the weight in kilograms (kg) by the height in meters (m)\n",
    "- Divide the answer by the height again\n",
    "\n",
    "Using the BMI, you can classify a person as healthy, overweight, or underweight using the following categories:\n",
    "- Underweight if BMI < 18.5\n",
    "- Overweight if BMI > 25\n",
    "- Normal weight if 18.5 <= BMI <= 25\n",
    "\n",
    "Using array division, you could simply calculate BMI using the following statement:"
   ]
  },
  {
   "cell_type": "code",
   "execution_count": 54,
   "id": "5bda855a-c925-4a02-acb3-c947abbd109a",
   "metadata": {},
   "outputs": [
    {
     "name": "stdout",
     "output_type": "stream",
     "text": [
      "[28.88888889 14.51836889 23.046875  ]\n"
     ]
    }
   ],
   "source": [
    "bmi = weights / heights ** 2 # Calculate the BMI\n",
    "print(bmi)"
   ]
  },
  {
   "cell_type": "code",
   "execution_count": 55,
   "id": "ec06e7a4-2b69-4d49-8f9d-00702f2682f5",
   "metadata": {},
   "outputs": [
    {
     "name": "stdout",
     "output_type": "stream",
     "text": [
      "Overweight:  ['Ann']\n",
      "Underweight:  ['Joe']\n",
      "Healthy:  ['Mark']\n"
     ]
    }
   ],
   "source": [
    "# Finding out who is overweight, underweight, or otherwise is now very easy:\n",
    "\n",
    "print(\"Overweight: \" , names[bmi>25])\n",
    "print(\"Underweight: \" , names[bmi<18.5])\n",
    "print(\"Healthy: \" , names[(bmi>=18.5) & (bmi<=25)])\n"
   ]
  },
  {
   "cell_type": "markdown",
   "id": "70b88800-670e-4e75-9eee-13ae398f2e8a",
   "metadata": {},
   "source": [
    "## Dot Product"
   ]
  },
  {
   "cell_type": "markdown",
   "id": "a171b9b4-f4f1-49ea-857f-10c6538f1430",
   "metadata": {},
   "source": [
    "Note that when you multiply two arrays, you are actually multiplying each of the corresponding elements in the two arrays. Very often, you want to perform a scalar product (also commonly known as dot product). The dot product is an algebraic operation that takes two coordinate vectors of equal size and returns a single number. The dot product of two vectors is calculated by multiplying corresponding entries in each vector and adding up all of those products\n",
    "\n",
    "In NumPy, dot product is accomplished using the dot() function:"
   ]
  },
  {
   "cell_type": "code",
   "execution_count": 57,
   "id": "52f852c7-1aa1-46a1-aa38-6ded8058362b",
   "metadata": {},
   "outputs": [
    {
     "data": {
      "text/plain": [
       "14"
      ]
     },
     "execution_count": 57,
     "metadata": {},
     "output_type": "execute_result"
    }
   ],
   "source": [
    "x = np.array([2,3])\n",
    "y = np.array([4,2])\n",
    "np.dot(x,y) # 2 * 4 + 3 * 2 = 14"
   ]
  },
  {
   "cell_type": "markdown",
   "id": "8af2acc3-b6a0-4685-98a3-a46509843db3",
   "metadata": {},
   "source": [
    "## Matrix"
   ]
  },
  {
   "cell_type": "markdown",
   "id": "b5cb6854-a8c6-41f2-9107-4ecf39cb3a7b",
   "metadata": {},
   "source": [
    "NumPy provides another class in addition to arrays (ndarray): matrix. The matrix class is a subclass of the ndarray, and it is basically identical to the ndarray with one notable exception—a matrix is strictly two‐dimensional, while an ndarray can be multidimensional. Creating a matrix object is similar to creating a NumPy array:"
   ]
  },
  {
   "cell_type": "code",
   "execution_count": 58,
   "id": "5e53b735-9202-4330-8c10-973f6f87eb79",
   "metadata": {},
   "outputs": [],
   "source": [
    "x2 = np.matrix([[1,2],[4,5]])\n",
    "y2 = np.matrix([[7,8],[2,3]])"
   ]
  },
  {
   "cell_type": "code",
   "execution_count": 59,
   "id": "414d6fd3-53d3-4bc5-bce6-aef605b1de2d",
   "metadata": {},
   "outputs": [],
   "source": [
    "# You can also convert a NumPy array to a matrix using the asmatrix() function:"
   ]
  },
  {
   "cell_type": "code",
   "execution_count": 60,
   "id": "9fadef3b-fd7c-438d-b645-ed33def57343",
   "metadata": {},
   "outputs": [],
   "source": [
    "x1 = np.array([[1,2],[4,5]])\n",
    "y1 = np.array([[7,8],[2,3]])\n",
    "x1 = np.asmatrix(x1)\n",
    "y1 = np.asmatrix(y1)"
   ]
  },
  {
   "cell_type": "code",
   "execution_count": null,
   "id": "0d8a9552-ce78-46eb-b650-c49ce2e7390a",
   "metadata": {},
   "outputs": [],
   "source": []
  }
 ],
 "metadata": {
  "kernelspec": {
   "display_name": "Python 3 (ipykernel)",
   "language": "python",
   "name": "python3"
  },
  "language_info": {
   "codemirror_mode": {
    "name": "ipython",
    "version": 3
   },
   "file_extension": ".py",
   "mimetype": "text/x-python",
   "name": "python",
   "nbconvert_exporter": "python",
   "pygments_lexer": "ipython3",
   "version": "3.10.4"
  }
 },
 "nbformat": 4,
 "nbformat_minor": 5
}
