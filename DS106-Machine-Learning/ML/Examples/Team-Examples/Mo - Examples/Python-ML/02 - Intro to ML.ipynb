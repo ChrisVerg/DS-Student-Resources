{
 "cells": [
  {
   "cell_type": "markdown",
   "id": "52037f53-bd84-4892-bb8d-d66d521c2264",
   "metadata": {},
   "source": [
    "Machine Learning is a collection of algorithms and techniques used to design systems that learn from data. These systems are then able to perform predictions or deduce patterns from the supplied data. "
   ]
  },
  {
   "cell_type": "markdown",
   "id": "7580e044-60a4-4823-8a87-94069e0c87ca",
   "metadata": {},
   "source": [
    " ## What is Machine Learning?"
   ]
  },
  {
   "cell_type": "markdown",
   "id": "ba2b56c2-c694-4f69-ba7b-7297d7969d56",
   "metadata": {},
   "source": [
    "If you have ever written a program, you should be familiar with the Traditional Programming figure you see below. You write a program, feed it with some data, and produce your output. For example, you might write a program to perform some financial tasks for your business. In this case, the data collected would include your sales records, payroll, your inventory lists, and so on. The program would then take in the data and calculate your profits or loss based on your sales and payroll records.  In this case, the output is the profit/loss statement, as well as other charts."
   ]
  },
  {
   "cell_type": "markdown",
   "id": "96c25cba-6abc-42cb-8c68-b4ad2cbf8b29",
   "metadata": {},
   "source": [
    "<p style=\"text-align: center\">\n",
    "  <img  src=\"Media\\Traditional-Programming.PNG\" width=\"600\" alt=\"Traditinal-Programming\">\n",
    "</p>"
   ]
  },
  {
   "cell_type": "markdown",
   "id": "04292a73-b3ab-4cb6-833c-84d1f11da080",
   "metadata": {},
   "source": [
    "however, machine learning has taken over the programming world. Machine learning has transformed the paradigm shown in the above figure to a new paradigm, which is shown in the Machine Learning figure below. Instead of feeding the data to the program, you now use the data and the output that you have collected to derive your program (also known as the model). Using the same financial example, with the machine learning paradigm, you would take the detailed financial records (which are collectively both the data and output) and use them to derive a set of rules to make predictions."
   ]
  },
  {
   "cell_type": "markdown",
   "id": "04fa79eb-c774-46e7-b69f-6569583729d8",
   "metadata": {},
   "source": [
    "<p style=\"text-align: center\">\n",
    "  <img  src=\"Media\\Machine-Learning.PNG\" width=\"600\" alt=\"Machine-Learning\">\n",
    "</p>"
   ]
  },
  {
   "cell_type": "markdown",
   "id": "9d62ccf6-16b0-4015-a68b-f86aa521c17f",
   "metadata": {},
   "source": [
    "## Problems to Solve in this course"
   ]
  },
  {
   "cell_type": "markdown",
   "id": "02386bff-86dd-4d92-9a45-031b540adc3b",
   "metadata": {},
   "source": [
    "there are three main types of problems that we want to solve using machine learning. These problem types are as follows:"
   ]
  },
  {
   "cell_type": "markdown",
   "id": "5f882c86-2f9b-42ee-aa61-57873a05dbbb",
   "metadata": {},
   "source": [
    "### 1. Classification"
   ]
  },
  {
   "cell_type": "markdown",
   "id": "3828263f-2ce3-4bdd-811e-ce0fd284a65a",
   "metadata": {},
   "source": [
    "In machine learning, classification is identifying to which set of categories or classes a new observation belongs based on the set of training data containing in the observed categories. Here are some examples of classification problems:\n",
    "- Predicting whether a tumor is benign or malignant\n",
    "- Classifying an email if its spam or not spam"
   ]
  },
  {
   "cell_type": "markdown",
   "id": "81d8ba36-bea4-4f54-b7d6-6b5f8018fb90",
   "metadata": {},
   "source": [
    "The outcome of a classification problem is a discrete value indicating the predicted class in which an observation lies. The outcome of a classification problem can also be a continuous value, indicating the likelihood of an observation belonging to a particular class. For example, candidate A is predicted to win the election with a probability of 0.60 (or 60 percent). Here, 0.60 is the continuous value indicating the confidence of the prediction, and it can be converted to a class value (“win” in this case) by selecting the prediction with the highest probability"
   ]
  },
  {
   "cell_type": "markdown",
   "id": "856cf5f9-0c2a-4fa6-b833-0cfa6d6f3920",
   "metadata": {},
   "source": [
    "### 2. Regression"
   ]
  },
  {
   "cell_type": "markdown",
   "id": "479aab09-74df-4aa4-9fd2-38955059da56",
   "metadata": {},
   "source": [
    "Regression helps in forecasting or predicting the future by estimating the relationship between variables. Unlike classification (which predicts the class to which an observation belongs), regression returns a continuous output variable. Here are some examples of regression problems:\n",
    "- Predicting the tempreture for next week\n",
    "- Predicting sales for the next quarter"
   ]
  },
  {
   "cell_type": "markdown",
   "id": "d2356202-af93-48d1-be7b-cdb583600968",
   "metadata": {},
   "source": [
    "### 3. Clustering"
   ]
  },
  {
   "cell_type": "markdown",
   "id": "e956db05-704e-4b8e-9ccf-d0583e734db3",
   "metadata": {},
   "source": [
    "Clustering helps in grouping similar data points into intuitive groups. Given a set of data, clustering helps you discover how they are organized by grouping them into natural clumps. Example: Which viewers like the same genre of movies.\n",
    "Clustering is very useful when you want to discover a specific pattern in the data."
   ]
  },
  {
   "cell_type": "markdown",
   "id": "8a76932a-f832-4996-8313-58332f2036ea",
   "metadata": {},
   "source": [
    "## Types of Machine Learning Algorithms"
   ]
  },
  {
   "cell_type": "markdown",
   "id": "553dcc98-2ac6-438b-9aec-03d0a064a483",
   "metadata": {},
   "source": [
    "Machine learning algorithms fall into two broad categories:"
   ]
  },
  {
   "cell_type": "markdown",
   "id": "9495c0b2-7bbb-4c92-ab97-9f1d43c194ac",
   "metadata": {},
   "source": [
    "### 1. Supervised Learning"
   ]
  },
  {
   "cell_type": "markdown",
   "id": "82e515ae-27ec-4b78-8670-6b806b981aed",
   "metadata": {},
   "source": [
    "In supervised learning, a labeled dataset is used. A labeled dataset means that a group of data has been tagged with a label or a target. This label provides informative meaning to the data. Using the label, unlabeled data can be predicted to obtain a new label. For example, a dataset may contain a series of records containing the following fields, which record the size of the various houses and the prices for which they were sold: House Size, Price Sold.\n",
    "\n",
    "In this very simple example, Price Sold is the label. When plotted on a chart, see below, this dataset can help you predict the price of a house that is yet to be sold. Predicting a price for the house is a regression problem."
   ]
  },
  {
   "cell_type": "markdown",
   "id": "c2c1b0d9-5826-43bc-88a2-c6eb3b3b4240",
   "metadata": {},
   "source": [
    "<p style=\"text-align: center\">\n",
    "  <img  src=\"Media\\House-Price-Sold.PNG\" width=\"600\" alt=\"House-Price-Sold\">\n",
    "</p>"
   ]
  },
  {
   "cell_type": "markdown",
   "id": "e1482852-d961-4e53-a7c8-e06ecad07832",
   "metadata": {},
   "source": [
    "Here is another example for a classification problem. suppose that you have a dataset containing the following:\n",
    "Tumor Size, Age, Malignant\n",
    "The Malignant field is a label indicating if a tumor is cancerous. When you plot the dataset on a chart, see figure below, you will be able to classify it into two distinct groups, with one group containing the cancerous tumors and the other containing the benign tumors. Using this grouping, you can now predict if a new tumor is cancerous or not. "
   ]
  },
  {
   "cell_type": "markdown",
   "id": "f8abaa27-20ec-44fa-b8cb-5d62ec6b70b5",
   "metadata": {},
   "source": [
    "<p style=\"text-align: center\">\n",
    "  <img  src=\"Media\\Tumor-Size.PNG\" width=\"600\" alt=\"Tumor-Size\">\n",
    "</p>"
   ]
  },
  {
   "cell_type": "markdown",
   "id": "61e889fb-b04d-4af6-8a05-b813a69d0784",
   "metadata": {},
   "source": [
    "### 2. Unsupervised Learning"
   ]
  },
  {
   "cell_type": "markdown",
   "id": "d1a1b794-ecb2-47b2-ae9d-54ae8232297b",
   "metadata": {},
   "source": [
    "In unsupervised learning, the dataset used is not labeled. An easy way to visualize unlabeled data is to consider the dataset containing the waist size and leg length of a group of people: Waist Size, Leg Length.\n",
    "Using unsupervised learning, your job is to try to predict a pattern in the dataset. You may plot the dataset in a chart, as shown below. The end result might be the discovery of three distinct groups of clusters in the data"
   ]
  },
  {
   "cell_type": "markdown",
   "id": "cf518b00-b45b-4841-860f-1504aba0b7ae",
   "metadata": {},
   "source": [
    "<p style=\"text-align: center\">\n",
    "  <img  src=\"Media\\Waist-Leg-Size.PNG\" width=\"600\" alt=\"Waist-Leg-Size\">\n",
    "</p>"
   ]
  },
  {
   "cell_type": "markdown",
   "id": "c8b37bcb-fe77-4cfc-92f6-21772cc80421",
   "metadata": {},
   "source": [
    "## Summary"
   ]
  },
  {
   "cell_type": "markdown",
   "id": "a190e38d-7d75-4a1c-8da4-936ff963ac31",
   "metadata": {},
   "source": [
    "In this notebook, you learned about machine learning and the types of problems that it can solve. You also studied the main difference between supervised and unsupervised learning."
   ]
  },
  {
   "cell_type": "code",
   "execution_count": null,
   "id": "ac94c9e7-8f29-430a-a45f-69b51eb628bf",
   "metadata": {},
   "outputs": [],
   "source": []
  }
 ],
 "metadata": {
  "kernelspec": {
   "display_name": "Python 3 (ipykernel)",
   "language": "python",
   "name": "python3"
  },
  "language_info": {
   "codemirror_mode": {
    "name": "ipython",
    "version": 3
   },
   "file_extension": ".py",
   "mimetype": "text/x-python",
   "name": "python",
   "nbconvert_exporter": "python",
   "pygments_lexer": "ipython3",
   "version": "3.10.4"
  }
 },
 "nbformat": 4,
 "nbformat_minor": 5
}
