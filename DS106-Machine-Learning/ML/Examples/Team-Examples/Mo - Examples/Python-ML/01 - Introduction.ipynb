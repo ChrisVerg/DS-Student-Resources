{
 "cells": [
  {
   "cell_type": "markdown",
   "id": "3e7b70a7-8229-42b3-a51f-2d3b997390b0",
   "metadata": {},
   "source": [
    "This course covers machine learning, one of the hottest topics in more recent years. With computing power increasing exponentially and prices decreasing simultaneously, there is no better time for machine learning. With machine learning, tasks that usually require huge processing power are now possible on desktop machines. Nevertheless, machine learning is not for the faint of heart—it requires a good foundation in statistics, as well as programming knowledge."
   ]
  },
  {
   "cell_type": "markdown",
   "id": "5311879f-b553-47c8-a640-9d7cb3b09302",
   "metadata": {},
   "source": [
    "This course will take a gentle approach to this topic. First, it will cover some of the fundamental libraries used in Python that make machine learning possible. In particular, you will learn how to manipulate arrays of numbers using the NumPy library, followed by using the Pandas library to deal with tabular data. Once that is done, you will learn how to visualize data using the matplotlib library, which allows you to plot different types of charts and graphs so that you can visualize your data easily."
   ]
  },
  {
   "cell_type": "markdown",
   "id": "aed2c612-28d3-401e-81ab-917af0cf71b7",
   "metadata": {},
   "source": [
    "Once you have a firm foundation in the basics, I will discuss machine learning using Python and the Scikit‐Learn libraries. This will give you a solid understanding of how the various machine learning algorithms work behind the scenes"
   ]
  },
  {
   "cell_type": "markdown",
   "id": "5a84eaa9-19ca-49c7-93f2-a12c8b34d14c",
   "metadata": {},
   "source": [
    "For this course, I will cover the common machine learning algorithms, such as regression, clustering, and classification."
   ]
  }
 ],
 "metadata": {
  "kernelspec": {
   "display_name": "Python 3 (ipykernel)",
   "language": "python",
   "name": "python3"
  },
  "language_info": {
   "codemirror_mode": {
    "name": "ipython",
    "version": 3
   },
   "file_extension": ".py",
   "mimetype": "text/x-python",
   "name": "python",
   "nbconvert_exporter": "python",
   "pygments_lexer": "ipython3",
   "version": "3.10.4"
  }
 },
 "nbformat": 4,
 "nbformat_minor": 5
}
