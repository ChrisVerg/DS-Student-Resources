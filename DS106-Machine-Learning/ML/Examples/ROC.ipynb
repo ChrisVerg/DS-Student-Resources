{
 "cells": [
  {
   "cell_type": "code",
   "execution_count": 1,
   "id": "cd29b08b-f314-4d03-ac57-e6c3cad2f89b",
   "metadata": {},
   "outputs": [
    {
     "name": "stderr",
     "output_type": "stream",
     "text": [
      "also installing the dependencies ‘listenv’, ‘parallelly’, ‘future’, ‘globals’, ‘future.apply’, ‘progressr’, ‘SQUAREM’, ‘lava’, ‘tibble’, ‘prodlim’, ‘iterators’, ‘gower’, ‘hardhat’, ‘ipred’, ‘timeDate’, ‘foreach’, ‘ModelMetrics’, ‘pROC’, ‘recipes’, ‘reshape2’\n",
      "\n",
      "\n"
     ]
    },
    {
     "name": "stdout",
     "output_type": "stream",
     "text": [
      "\n",
      "The downloaded binary packages are in\n",
      "\t/var/folders/wk/6why77bn1kn0l0pkd4vd3zl00000gn/T//RtmpjNF4oT/downloaded_packages\n",
      "\n",
      "The downloaded binary packages are in\n",
      "\t/var/folders/wk/6why77bn1kn0l0pkd4vd3zl00000gn/T//RtmpjNF4oT/downloaded_packages\n"
     ]
    }
   ],
   "source": [
    "# install packages\n",
    "install.packages(\"caret\")\n",
    "install.packages(\"mlbench\")"
   ]
  },
  {
   "cell_type": "code",
   "execution_count": 2,
   "id": "1c7e634b-0f96-4b91-8797-8148d3a4f2fc",
   "metadata": {},
   "outputs": [
    {
     "name": "stderr",
     "output_type": "stream",
     "text": [
      "Loading required package: ggplot2\n",
      "\n",
      "Loading required package: lattice\n",
      "\n"
     ]
    }
   ],
   "source": [
    "# load packages\n",
    "library(caret)\n",
    "library(mlbench)"
   ]
  },
  {
   "cell_type": "code",
   "execution_count": 3,
   "id": "d0e35e7f-5651-497b-82f5-ff000ab98dcf",
   "metadata": {},
   "outputs": [],
   "source": [
    "# load the dataset\n",
    "data(PimaIndiansDiabetes)"
   ]
  },
  {
   "cell_type": "code",
   "execution_count": 4,
   "id": "0a926142-9107-4921-9ba2-907dc28500d8",
   "metadata": {},
   "outputs": [],
   "source": [
    "# prepare resampling method\n",
    "trainControl <- trainControl(method=\"cv\", number=5, classProbs=TRUE,\n",
    "summaryFunction=twoClassSummary)\n",
    "set.seed(7)\n",
    "fit <- train(diabetes~., data=PimaIndiansDiabetes, method=\"glm\", metric=\"ROC\",\n",
    "trControl=trainControl)"
   ]
  },
  {
   "cell_type": "code",
   "execution_count": 5,
   "id": "25cfb0ca-4bef-40b8-a7e2-ad26aba89b23",
   "metadata": {},
   "outputs": [
    {
     "name": "stdout",
     "output_type": "stream",
     "text": [
      "Generalized Linear Model \n",
      "\n",
      "768 samples\n",
      "  8 predictor\n",
      "  2 classes: 'neg', 'pos' \n",
      "\n",
      "No pre-processing\n",
      "Resampling: Cross-Validated (5 fold) \n",
      "Summary of sample sizes: 614, 614, 615, 614, 615 \n",
      "Resampling results:\n",
      "\n",
      "  ROC        Sens   Spec     \n",
      "  0.8297484  0.888  0.5780573\n",
      "\n"
     ]
    }
   ],
   "source": [
    "# display results\n",
    "print(fit)"
   ]
  },
  {
   "cell_type": "code",
   "execution_count": null,
   "id": "331d12c7-691a-4b91-8460-ea94daed7d88",
   "metadata": {},
   "outputs": [],
   "source": []
  }
 ],
 "metadata": {
  "kernelspec": {
   "display_name": "R",
   "language": "R",
   "name": "ir"
  },
  "language_info": {
   "codemirror_mode": "r",
   "file_extension": ".r",
   "mimetype": "text/x-r-source",
   "name": "R",
   "pygments_lexer": "r",
   "version": "4.2.0"
  }
 },
 "nbformat": 4,
 "nbformat_minor": 5
}
