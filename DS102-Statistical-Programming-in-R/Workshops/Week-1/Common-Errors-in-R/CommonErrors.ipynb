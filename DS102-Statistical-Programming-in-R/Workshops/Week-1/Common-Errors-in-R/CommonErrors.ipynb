{
 "cells": [
  {
   "cell_type": "code",
   "execution_count": 1,
   "id": "73a8ada8-5db9-436f-9ba3-374fbe759d8f",
   "metadata": {},
   "outputs": [
    {
     "ename": "ERROR",
     "evalue": "Error in ggplot(height_df, aes(x = height)): could not find function \"ggplot\"\n",
     "output_type": "error",
     "traceback": [
      "Error in ggplot(height_df, aes(x = height)): could not find function \"ggplot\"\nTraceback:\n"
     ]
    }
   ],
   "source": [
    "height <- c(171, 192, 183, 177, 154, 176)\n",
    "height_df <- data.frame(height)\n",
    "d <- ggplot(height_df, aes(x = height))\n",
    "d + geom_histogram(binwidth = 10) + gg\u0000tle(\"Histogram of Heights\") + xlab(\"Height (in cm)\")\n",
    "*Remove the first plus sing to get non-numeric\n",
    "faithful_histogram <- ggplot(faithful, aes(x = erup\u0000ons)) faithful_histogram + geom_histogram()\n",
    "*Take off a paren up above from the first line of code to get unexpected symbol\n",
    "Names <- c(\"Wol\u0000ert\", \"BunBun\", \"Buffalump\", \"Teddy\") Names + 1\n",
    "*For another instance of non-numeric"
   ]
  },
  {
   "cell_type": "code",
   "execution_count": null,
   "id": "f5da741d-5b1a-4fed-9f56-bd8717567f93",
   "metadata": {},
   "outputs": [],
   "source": []
  }
 ],
 "metadata": {
  "kernelspec": {
   "display_name": "R",
   "language": "R",
   "name": "ir"
  },
  "language_info": {
   "codemirror_mode": "r",
   "file_extension": ".r",
   "mimetype": "text/x-r-source",
   "name": "R",
   "pygments_lexer": "r",
   "version": "4.1.1"
  }
 },
 "nbformat": 4,
 "nbformat_minor": 5
}
