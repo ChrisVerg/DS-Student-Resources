{
 "cells": [
  {
   "cell_type": "markdown",
   "id": "01a62cd2-0651-4399-8a4f-a1b3766fd83a",
   "metadata": {},
   "source": [
    "# Chapter 3 Lab: Linear Regression"
   ]
  },
  {
   "cell_type": "code",
   "execution_count": 1,
   "id": "57c8fa53-0781-4b60-b80e-dc25b4cdaf7c",
   "metadata": {},
   "outputs": [
    {
     "name": "stderr",
     "output_type": "stream",
     "text": [
      "Installing package into ‘/usr/local/lib/R/4.2/site-library’\n",
      "(as ‘lib’ is unspecified)\n",
      "\n",
      "Installing package into ‘/usr/local/lib/R/4.2/site-library’\n",
      "(as ‘lib’ is unspecified)\n",
      "\n"
     ]
    }
   ],
   "source": [
    "#install needed libraries\n",
    "install.packages(\"MASS\")\n",
    "install.packages(\"ISLR\")"
   ]
  },
  {
   "cell_type": "code",
   "execution_count": 2,
   "id": "523e0e09-e81f-4e98-b284-5b56c7442ef1",
   "metadata": {},
   "outputs": [],
   "source": [
    "#load libraries into current session\n",
    "library(MASS)\n",
    "library(ISLR)"
   ]
  },
  {
   "cell_type": "markdown",
   "id": "fa58e1e2-12f5-4404-a704-170a10838e76",
   "metadata": {},
   "source": [
    "# Simple Linear Regression"
   ]
  },
  {
   "cell_type": "code",
   "execution_count": null,
   "id": "5ee7f5d0-e758-455f-b517-bbeba60c27ff",
   "metadata": {},
   "outputs": [],
   "source": [
    "#fix(Boston)"
   ]
  },
  {
   "cell_type": "code",
   "execution_count": 3,
   "id": "72420e4b-97c7-4152-8f41-6c0db03d79b4",
   "metadata": {},
   "outputs": [
    {
     "data": {
      "text/html": [
       "<style>\n",
       ".list-inline {list-style: none; margin:0; padding: 0}\n",
       ".list-inline>li {display: inline-block}\n",
       ".list-inline>li:not(:last-child)::after {content: \"\\00b7\"; padding: 0 .5ex}\n",
       "</style>\n",
       "<ol class=list-inline><li>'crim'</li><li>'zn'</li><li>'indus'</li><li>'chas'</li><li>'nox'</li><li>'rm'</li><li>'age'</li><li>'dis'</li><li>'rad'</li><li>'tax'</li><li>'ptratio'</li><li>'black'</li><li>'lstat'</li><li>'medv'</li></ol>\n"
      ],
      "text/latex": [
       "\\begin{enumerate*}\n",
       "\\item 'crim'\n",
       "\\item 'zn'\n",
       "\\item 'indus'\n",
       "\\item 'chas'\n",
       "\\item 'nox'\n",
       "\\item 'rm'\n",
       "\\item 'age'\n",
       "\\item 'dis'\n",
       "\\item 'rad'\n",
       "\\item 'tax'\n",
       "\\item 'ptratio'\n",
       "\\item 'black'\n",
       "\\item 'lstat'\n",
       "\\item 'medv'\n",
       "\\end{enumerate*}\n"
      ],
      "text/markdown": [
       "1. 'crim'\n",
       "2. 'zn'\n",
       "3. 'indus'\n",
       "4. 'chas'\n",
       "5. 'nox'\n",
       "6. 'rm'\n",
       "7. 'age'\n",
       "8. 'dis'\n",
       "9. 'rad'\n",
       "10. 'tax'\n",
       "11. 'ptratio'\n",
       "12. 'black'\n",
       "13. 'lstat'\n",
       "14. 'medv'\n",
       "\n",
       "\n"
      ],
      "text/plain": [
       " [1] \"crim\"    \"zn\"      \"indus\"   \"chas\"    \"nox\"     \"rm\"      \"age\"    \n",
       " [8] \"dis\"     \"rad\"     \"tax\"     \"ptratio\" \"black\"   \"lstat\"   \"medv\"   "
      ]
     },
     "metadata": {},
     "output_type": "display_data"
    }
   ],
   "source": [
    "names(Boston)"
   ]
  },
  {
   "cell_type": "code",
   "execution_count": 4,
   "id": "1aca2b9d-3178-45f9-a1d6-d139a82e87d1",
   "metadata": {},
   "outputs": [
    {
     "ename": "ERROR",
     "evalue": "Error in eval(predvars, data, env): object 'medv' not found\n",
     "output_type": "error",
     "traceback": [
      "Error in eval(predvars, data, env): object 'medv' not found\nTraceback:\n",
      "1. lm(medv ~ lstat)",
      "2. eval(mf, parent.frame())",
      "3. eval(mf, parent.frame())",
      "4. stats::model.frame(formula = medv ~ lstat, drop.unused.levels = TRUE)",
      "5. model.frame.default(formula = medv ~ lstat, drop.unused.levels = TRUE)",
      "6. eval(predvars, data, env)",
      "7. eval(predvars, data, env)"
     ]
    }
   ],
   "source": [
    "lm.fit=lm(medv~lstat)"
   ]
  },
  {
   "cell_type": "code",
   "execution_count": 5,
   "id": "8f00b95c-11bc-41fc-9f0b-1173416e0544",
   "metadata": {},
   "outputs": [],
   "source": [
    "lm.fit=lm(medv~lstat,data=Boston)"
   ]
  },
  {
   "cell_type": "code",
   "execution_count": 6,
   "id": "8d4e4d4b-0e19-4730-ae21-70a7d1e4b703",
   "metadata": {},
   "outputs": [],
   "source": [
    "attach(Boston)"
   ]
  },
  {
   "cell_type": "code",
   "execution_count": 7,
   "id": "2109891f-ad31-4c18-a1a6-47f9879264ca",
   "metadata": {},
   "outputs": [],
   "source": [
    "lm.fit=lm(medv~lstat)"
   ]
  },
  {
   "cell_type": "code",
   "execution_count": 8,
   "id": "411cb7d6-db16-4ac4-b1fc-c5a4d239bd78",
   "metadata": {},
   "outputs": [
    {
     "data": {
      "text/plain": [
       "\n",
       "Call:\n",
       "lm(formula = medv ~ lstat)\n",
       "\n",
       "Coefficients:\n",
       "(Intercept)        lstat  \n",
       "      34.55        -0.95  \n"
      ]
     },
     "metadata": {},
     "output_type": "display_data"
    }
   ],
   "source": [
    "lm.fit"
   ]
  },
  {
   "cell_type": "code",
   "execution_count": 9,
   "id": "edd18606-bfbe-4802-92e9-012cc6d0aaa2",
   "metadata": {},
   "outputs": [
    {
     "data": {
      "text/plain": [
       "\n",
       "Call:\n",
       "lm(formula = medv ~ lstat)\n",
       "\n",
       "Residuals:\n",
       "    Min      1Q  Median      3Q     Max \n",
       "-15.168  -3.990  -1.318   2.034  24.500 \n",
       "\n",
       "Coefficients:\n",
       "            Estimate Std. Error t value Pr(>|t|)    \n",
       "(Intercept) 34.55384    0.56263   61.41   <2e-16 ***\n",
       "lstat       -0.95005    0.03873  -24.53   <2e-16 ***\n",
       "---\n",
       "Signif. codes:  0 ‘***’ 0.001 ‘**’ 0.01 ‘*’ 0.05 ‘.’ 0.1 ‘ ’ 1\n",
       "\n",
       "Residual standard error: 6.216 on 504 degrees of freedom\n",
       "Multiple R-squared:  0.5441,\tAdjusted R-squared:  0.5432 \n",
       "F-statistic: 601.6 on 1 and 504 DF,  p-value: < 2.2e-16\n"
      ]
     },
     "metadata": {},
     "output_type": "display_data"
    }
   ],
   "source": [
    "summary(lm.fit)"
   ]
  },
  {
   "cell_type": "code",
   "execution_count": 10,
   "id": "f9024f29-de31-4ce9-83ed-ede312ba655c",
   "metadata": {},
   "outputs": [
    {
     "data": {
      "text/html": [
       "<style>\n",
       ".list-inline {list-style: none; margin:0; padding: 0}\n",
       ".list-inline>li {display: inline-block}\n",
       ".list-inline>li:not(:last-child)::after {content: \"\\00b7\"; padding: 0 .5ex}\n",
       "</style>\n",
       "<ol class=list-inline><li>'coefficients'</li><li>'residuals'</li><li>'effects'</li><li>'rank'</li><li>'fitted.values'</li><li>'assign'</li><li>'qr'</li><li>'df.residual'</li><li>'xlevels'</li><li>'call'</li><li>'terms'</li><li>'model'</li></ol>\n"
      ],
      "text/latex": [
       "\\begin{enumerate*}\n",
       "\\item 'coefficients'\n",
       "\\item 'residuals'\n",
       "\\item 'effects'\n",
       "\\item 'rank'\n",
       "\\item 'fitted.values'\n",
       "\\item 'assign'\n",
       "\\item 'qr'\n",
       "\\item 'df.residual'\n",
       "\\item 'xlevels'\n",
       "\\item 'call'\n",
       "\\item 'terms'\n",
       "\\item 'model'\n",
       "\\end{enumerate*}\n"
      ],
      "text/markdown": [
       "1. 'coefficients'\n",
       "2. 'residuals'\n",
       "3. 'effects'\n",
       "4. 'rank'\n",
       "5. 'fitted.values'\n",
       "6. 'assign'\n",
       "7. 'qr'\n",
       "8. 'df.residual'\n",
       "9. 'xlevels'\n",
       "10. 'call'\n",
       "11. 'terms'\n",
       "12. 'model'\n",
       "\n",
       "\n"
      ],
      "text/plain": [
       " [1] \"coefficients\"  \"residuals\"     \"effects\"       \"rank\"         \n",
       " [5] \"fitted.values\" \"assign\"        \"qr\"            \"df.residual\"  \n",
       " [9] \"xlevels\"       \"call\"          \"terms\"         \"model\"        "
      ]
     },
     "metadata": {},
     "output_type": "display_data"
    }
   ],
   "source": [
    "names(lm.fit)"
   ]
  },
  {
   "cell_type": "code",
   "execution_count": 11,
   "id": "3ddc3d15-2fb9-4acf-98fa-1edade83f49e",
   "metadata": {},
   "outputs": [
    {
     "data": {
      "text/html": [
       "<style>\n",
       ".dl-inline {width: auto; margin:0; padding: 0}\n",
       ".dl-inline>dt, .dl-inline>dd {float: none; width: auto; display: inline-block}\n",
       ".dl-inline>dt::after {content: \":\\0020\"; padding-right: .5ex}\n",
       ".dl-inline>dt:not(:first-of-type) {padding-left: .5ex}\n",
       "</style><dl class=dl-inline><dt>(Intercept)</dt><dd>34.5538408793831</dd><dt>lstat</dt><dd>-0.950049353757991</dd></dl>\n"
      ],
      "text/latex": [
       "\\begin{description*}\n",
       "\\item[(Intercept)] 34.5538408793831\n",
       "\\item[lstat] -0.950049353757991\n",
       "\\end{description*}\n"
      ],
      "text/markdown": [
       "(Intercept)\n",
       ":   34.5538408793831lstat\n",
       ":   -0.950049353757991\n",
       "\n"
      ],
      "text/plain": [
       "(Intercept)       lstat \n",
       " 34.5538409  -0.9500494 "
      ]
     },
     "metadata": {},
     "output_type": "display_data"
    }
   ],
   "source": [
    "coef(lm.fit)"
   ]
  },
  {
   "cell_type": "code",
   "execution_count": 12,
   "id": "9206792b-75be-47c2-961a-0737b741ed7f",
   "metadata": {},
   "outputs": [
    {
     "data": {
      "text/html": [
       "<table class=\"dataframe\">\n",
       "<caption>A matrix: 2 × 2 of type dbl</caption>\n",
       "<thead>\n",
       "\t<tr><th></th><th scope=col>2.5 %</th><th scope=col>97.5 %</th></tr>\n",
       "</thead>\n",
       "<tbody>\n",
       "\t<tr><th scope=row>(Intercept)</th><td>33.448457</td><td>35.6592247</td></tr>\n",
       "\t<tr><th scope=row>lstat</th><td>-1.026148</td><td>-0.8739505</td></tr>\n",
       "</tbody>\n",
       "</table>\n"
      ],
      "text/latex": [
       "A matrix: 2 × 2 of type dbl\n",
       "\\begin{tabular}{r|ll}\n",
       "  & 2.5 \\% & 97.5 \\%\\\\\n",
       "\\hline\n",
       "\t(Intercept) & 33.448457 & 35.6592247\\\\\n",
       "\tlstat & -1.026148 & -0.8739505\\\\\n",
       "\\end{tabular}\n"
      ],
      "text/markdown": [
       "\n",
       "A matrix: 2 × 2 of type dbl\n",
       "\n",
       "| <!--/--> | 2.5 % | 97.5 % |\n",
       "|---|---|---|\n",
       "| (Intercept) | 33.448457 | 35.6592247 |\n",
       "| lstat | -1.026148 | -0.8739505 |\n",
       "\n"
      ],
      "text/plain": [
       "            2.5 %     97.5 %    \n",
       "(Intercept) 33.448457 35.6592247\n",
       "lstat       -1.026148 -0.8739505"
      ]
     },
     "metadata": {},
     "output_type": "display_data"
    }
   ],
   "source": [
    "confint(lm.fit)"
   ]
  },
  {
   "cell_type": "code",
   "execution_count": null,
   "id": "3428cfb4-f90d-40fa-853f-56351fd79d47",
   "metadata": {},
   "outputs": [],
   "source": [
    "predict(lm.fit,data.frame(lstat=(c(5,10,15))), interval=\"confidence\")"
   ]
  },
  {
   "cell_type": "code",
   "execution_count": null,
   "id": "8ff9fc98-b4de-4a39-a958-9800681f9796",
   "metadata": {},
   "outputs": [],
   "source": [
    "predict(lm.fit,data.frame(lstat=(c(5,10,15))), interval=\"prediction\")"
   ]
  },
  {
   "cell_type": "code",
   "execution_count": null,
   "id": "f81bd032-d2a6-4a4d-9c4d-cc25a6d480bb",
   "metadata": {},
   "outputs": [],
   "source": [
    "plot(lstat,medv)\n",
    "abline(lm.fit)"
   ]
  },
  {
   "cell_type": "code",
   "execution_count": null,
   "id": "072b6513-274d-4ae4-8cf1-cef437ff6ea8",
   "metadata": {},
   "outputs": [],
   "source": [
    "plot(lstat,medv)\n",
    "abline(lm.fit,lwd=3)"
   ]
  },
  {
   "cell_type": "code",
   "execution_count": null,
   "id": "81151503-a0ec-4ea9-8e2d-abf9529dd504",
   "metadata": {},
   "outputs": [],
   "source": [
    "plot(lstat,medv)\n",
    "abline(lm.fit,lwd=3,col=\"red\")"
   ]
  },
  {
   "cell_type": "code",
   "execution_count": null,
   "id": "c268d39e-5bda-4cfa-9336-32622582dd56",
   "metadata": {},
   "outputs": [],
   "source": [
    "plot(lstat,medv,col=\"red\")"
   ]
  },
  {
   "cell_type": "code",
   "execution_count": null,
   "id": "d83c4145-9032-45a1-a34f-853634679e33",
   "metadata": {},
   "outputs": [],
   "source": [
    "plot(lstat,medv,pch=20)"
   ]
  },
  {
   "cell_type": "code",
   "execution_count": null,
   "id": "fb627a87-0bee-4a67-b2c8-d80fb26bfd9a",
   "metadata": {},
   "outputs": [],
   "source": [
    "plot(lstat,medv,pch=\"+\")"
   ]
  },
  {
   "cell_type": "code",
   "execution_count": null,
   "id": "9ee8c51e-c324-4a5d-87ff-b40d61b205f1",
   "metadata": {},
   "outputs": [],
   "source": [
    "plot(1:20,1:20,pch=1:20)"
   ]
  },
  {
   "cell_type": "code",
   "execution_count": null,
   "id": "a96cff82-8cdd-4089-a989-cf9dd68d9452",
   "metadata": {},
   "outputs": [],
   "source": [
    "par(mfrow=c(2,2))"
   ]
  },
  {
   "cell_type": "code",
   "execution_count": null,
   "id": "7df8f07d-0cca-4f60-b3f6-f75a6cef4fc3",
   "metadata": {},
   "outputs": [],
   "source": [
    "plot(lm.fit)"
   ]
  },
  {
   "cell_type": "code",
   "execution_count": null,
   "id": "c2565ec5-d2ff-4722-b88c-7f020b7da46d",
   "metadata": {},
   "outputs": [],
   "source": [
    "plot(predict(lm.fit), residuals(lm.fit))"
   ]
  },
  {
   "cell_type": "code",
   "execution_count": null,
   "id": "a8d667ca-12d9-4502-a568-3ce061a3b03a",
   "metadata": {},
   "outputs": [],
   "source": [
    "plot(predict(lm.fit), rstudent(lm.fit))"
   ]
  },
  {
   "cell_type": "code",
   "execution_count": null,
   "id": "2681f7aa-d46f-4dcd-b4c3-6e44e1ec4587",
   "metadata": {},
   "outputs": [],
   "source": [
    "plot(hatvalues(lm.fit))"
   ]
  },
  {
   "cell_type": "code",
   "execution_count": null,
   "id": "f6f95435-f7db-4491-aa9a-cb9362b2c807",
   "metadata": {},
   "outputs": [],
   "source": [
    "which.max(hatvalues(lm.fit))"
   ]
  },
  {
   "cell_type": "markdown",
   "id": "54f442a4-68ca-4cf5-bbed-db44e2dafad2",
   "metadata": {},
   "source": [
    "# Multiple Linear Regression"
   ]
  },
  {
   "cell_type": "code",
   "execution_count": null,
   "id": "df4f957e-d1ca-48ea-a207-92b49aec1563",
   "metadata": {},
   "outputs": [],
   "source": [
    "lm.fit=lm(medv~lstat+age,data=Boston)"
   ]
  },
  {
   "cell_type": "code",
   "execution_count": null,
   "id": "272d2043-cba8-4902-8f15-dfb7a1e1e36c",
   "metadata": {},
   "outputs": [],
   "source": [
    "summary(lm.fit)"
   ]
  },
  {
   "cell_type": "code",
   "execution_count": null,
   "id": "d268f1bc-19d3-493c-8332-4e9f61094f18",
   "metadata": {},
   "outputs": [],
   "source": [
    "lm.fit=lm(medv~.,data=Boston)\n",
    "summary(lm.fit)"
   ]
  },
  {
   "cell_type": "code",
   "execution_count": null,
   "id": "fd07dafc-485f-42ca-b23c-0bfd9b791302",
   "metadata": {},
   "outputs": [],
   "source": [
    "library(car)"
   ]
  },
  {
   "cell_type": "code",
   "execution_count": null,
   "id": "bbde3494-905b-4e35-913b-ddd3cbd9ece3",
   "metadata": {},
   "outputs": [],
   "source": [
    "vif(lm.fit)"
   ]
  },
  {
   "cell_type": "code",
   "execution_count": null,
   "id": "15aa16d9-bd0e-4299-b9e8-a2700e589aa1",
   "metadata": {},
   "outputs": [],
   "source": [
    "lm.fit1=lm(medv~.-age,data=Boston)\n",
    "summary(lm.fit1)"
   ]
  },
  {
   "cell_type": "code",
   "execution_count": null,
   "id": "2b05723b-1f87-44f2-9a74-40c41cd4e259",
   "metadata": {},
   "outputs": [],
   "source": [
    "lm.fit1=update(lm.fit, ~.-age)"
   ]
  },
  {
   "cell_type": "markdown",
   "id": "56e5f46c-19e5-4f0a-86c8-79746de88c35",
   "metadata": {},
   "source": [
    "# Interaction Terms"
   ]
  },
  {
   "cell_type": "code",
   "execution_count": null,
   "id": "869ce8ed-a791-4489-bc5e-5a9a9e195469",
   "metadata": {},
   "outputs": [],
   "source": [
    "summary(lm(medv~lstat*age,data=Boston))"
   ]
  },
  {
   "cell_type": "markdown",
   "id": "16c071bf-925a-4035-ab2f-00cafb3a89d2",
   "metadata": {},
   "source": [
    "# Non-linear Transformations of the Predictors"
   ]
  },
  {
   "cell_type": "code",
   "execution_count": null,
   "id": "4a2bdd88-2a74-4210-8dfe-496951e0877d",
   "metadata": {},
   "outputs": [],
   "source": [
    "lm.fit2=lm(medv~lstat+I(lstat^2))\n",
    "summary(lm.fit2)"
   ]
  },
  {
   "cell_type": "code",
   "execution_count": null,
   "id": "2d58faf7-6701-44e8-b47b-b100cb8d5d30",
   "metadata": {},
   "outputs": [],
   "source": [
    "lm.fit=lm(medv~lstat)\n",
    "anova(lm.fit,lm.fit2)"
   ]
  },
  {
   "cell_type": "code",
   "execution_count": null,
   "id": "4c1c8c20-0e66-4ddb-bb04-5fb624948fda",
   "metadata": {},
   "outputs": [],
   "source": [
    "par(mfrow=c(2,2))"
   ]
  },
  {
   "cell_type": "code",
   "execution_count": null,
   "id": "bf1a9f46-dc97-4d7e-a8cd-69f32caed8c9",
   "metadata": {},
   "outputs": [],
   "source": [
    "plot(lm.fit2)"
   ]
  },
  {
   "cell_type": "code",
   "execution_count": null,
   "id": "149aa0e2-9ba4-4d05-a834-82a53e9d7116",
   "metadata": {},
   "outputs": [],
   "source": [
    "lm.fit5=lm(medv~poly(lstat,5))\n",
    "summary(lm.fit5)"
   ]
  },
  {
   "cell_type": "code",
   "execution_count": null,
   "id": "d025cead-4839-48c5-a0df-51f5ceecfb10",
   "metadata": {},
   "outputs": [],
   "source": [
    "summary(lm(medv~log(rm),data=Boston))"
   ]
  },
  {
   "cell_type": "markdown",
   "id": "264fb726-4d15-4b1d-9511-0820263c1637",
   "metadata": {},
   "source": [
    "# Qualitative Predictors"
   ]
  },
  {
   "cell_type": "code",
   "execution_count": null,
   "id": "5ebe7899-ec2e-444c-bf76-5da7cbecd583",
   "metadata": {},
   "outputs": [],
   "source": [
    "#fix(Carseats)\n",
    "head(Carseats)"
   ]
  },
  {
   "cell_type": "code",
   "execution_count": null,
   "id": "7ec24ea5-c051-4d07-a65a-c0823ddf395e",
   "metadata": {},
   "outputs": [],
   "source": [
    "names(Carseats)"
   ]
  },
  {
   "cell_type": "code",
   "execution_count": null,
   "id": "62836d2e-c6f6-4819-9b6f-ef5b6ab1c233",
   "metadata": {},
   "outputs": [],
   "source": [
    "lm.fit=lm(Sales~.+Income:Advertising+Price:Age,data=Carseats)\n",
    "summary(lm.fit)"
   ]
  },
  {
   "cell_type": "code",
   "execution_count": null,
   "id": "689a87ee-b3a1-4b9d-807c-914cf824f946",
   "metadata": {},
   "outputs": [],
   "source": [
    "attach(Carseats)\n",
    "contrasts(ShelveLoc)"
   ]
  },
  {
   "cell_type": "markdown",
   "id": "411e04f5-eb17-457f-a934-f489e5978dc5",
   "metadata": {},
   "source": [
    "# Writing Functions"
   ]
  },
  {
   "cell_type": "code",
   "execution_count": null,
   "id": "2efbe9cd-b9f8-437a-981b-a713573de077",
   "metadata": {},
   "outputs": [],
   "source": [
    "LoadLibraries"
   ]
  },
  {
   "cell_type": "code",
   "execution_count": null,
   "id": "7741df30-857c-4cdd-a0f1-00a6829cda16",
   "metadata": {},
   "outputs": [],
   "source": [
    "LoadLibraries()"
   ]
  },
  {
   "cell_type": "code",
   "execution_count": null,
   "id": "d7fdd23f-22c7-48b3-938d-9f0f8b9cc46a",
   "metadata": {},
   "outputs": [],
   "source": [
    "LoadLibraries=function(){\n",
    " library(ISLR)\n",
    " library(MASS)\n",
    " print(\"The libraries have been loaded.\")\n",
    " }"
   ]
  },
  {
   "cell_type": "code",
   "execution_count": null,
   "id": "200124a5-4a8f-4c61-8e69-96408748b0d1",
   "metadata": {},
   "outputs": [],
   "source": [
    "LoadLibraries"
   ]
  },
  {
   "cell_type": "code",
   "execution_count": null,
   "id": "a4f429f4-f744-4c5e-9003-92c5da759755",
   "metadata": {},
   "outputs": [],
   "source": [
    "LoadLibraries()"
   ]
  },
  {
   "cell_type": "code",
   "execution_count": null,
   "id": "ed606346-54c0-4e93-98e3-ace399a95086",
   "metadata": {},
   "outputs": [],
   "source": []
  }
 ],
 "metadata": {
  "kernelspec": {
   "display_name": "R",
   "language": "R",
   "name": "ir"
  },
  "language_info": {
   "codemirror_mode": "r",
   "file_extension": ".r",
   "mimetype": "text/x-r-source",
   "name": "R",
   "pygments_lexer": "r",
   "version": "4.2.2"
  }
 },
 "nbformat": 4,
 "nbformat_minor": 5
}
