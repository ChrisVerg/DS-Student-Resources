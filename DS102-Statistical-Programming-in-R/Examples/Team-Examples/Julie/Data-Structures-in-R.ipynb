{
 "cells": [
  {
   "cell_type": "markdown",
   "id": "2d76f7d1-b609-4763-9474-8348289e2a1e",
   "metadata": {},
   "source": [
    "# R Structure"
   ]
  },
  {
   "cell_type": "markdown",
   "id": "befca891-3458-4fa4-a1eb-3551da0c9901",
   "metadata": {},
   "source": [
    "#### Basic Key terms:\n",
    "- Columns is known as properties\n",
    "- Variables inside Columns is also known as features\n",
    "- Rows is collection of items\n"
   ]
  },
  {
   "cell_type": "markdown",
   "id": "5b4626b5-65c3-4544-ab43-122370e45a5b",
   "metadata": {},
   "source": [
    "#### Data Structure in R:\n",
    "- vector\n",
    "- matrix\n",
    "- array\n",
    "- factor\n",
    "- ts\n",
    "- data.frame\n",
    "- list"
   ]
  },
  {
   "cell_type": "markdown",
   "id": "61f18712-ed1e-4b21-a879-f0dee4834315",
   "metadata": {},
   "source": [
    "<p style=\"text-align: left\">\n",
    "  <img  src=\"../Media/julie/r-structure-pdf.pdf\" width=\"600\" alt=\"R Structure\">\n",
    "</p>"
   ]
  },
  {
   "cell_type": "markdown",
   "id": "b6f83a0c-3c04-416f-8953-4709d5380253",
   "metadata": {},
   "source": [
    "#### vector:\n",
    "- 1 Dimensional\n",
    "    - variables one after another\n",
    "        - example: ages, \n",
    "- 1 Data Type\n",
    "    - needs to be same data type, cannot mix data type\n",
    "    - numeric, strings \n",
    "\n",
    "#### matrix:\n",
    "- 2 Dimensional\n",
    "    - columns and rows\n",
    "- 1 Data Type\n",
    "    - needs to be same data type, in each column, cannot mix data type\n",
    "    - numeric, strings \n",
    "\n",
    "#### array:\n",
    "- n(many) Dimensional\n",
    "    - 3+ dimensional objects\n",
    "- 1 Data Type\n",
    "   - each array has same data type\n",
    "\n",
    "#### factor:\n",
    "- 1 Dimensional\n",
    "    - variables one after another\n",
    "    - is just likea vector, except...\n",
    "    - the features for the columns have specified levels\n",
    "        - example: sex, grades, or type of membership\n",
    "        \n",
    "- 1 Data Type\n",
    "    - needs to be same data type, cannot mix data type\n",
    "    - numeric, strings\n",
    "\n",
    "#### ts(time-series):\n",
    "- 1-2 Dimensional\n",
    "    - will not get into this\n",
    "- Many Data Types\n",
    "    - will not get into this\n",
    "\n",
    "#### data.frame:\n",
    "- 2 Dimensional\n",
    "    - columns and rows\n",
    "    - these have column anmes, data frames are much easier to subset/sunscripting\n",
    "    \n",
    "- Many Data Types\n",
    "     - unlike matrix, can store different data types in the same data frame \n",
    "     - but has limitations: only use 1 store 1 type of data in each column\n",
    "\n",
    "#### list:\n",
    "- n(many) Dimensional\n",
    "    - complex, you can store objects within objects\n",
    "    - hard to subscript\n",
    "    - you still have to use them\n",
    "    \n",
    "- Many Data Types\n",
    "    - many data types in the list"
   ]
  },
  {
   "cell_type": "code",
   "execution_count": null,
   "id": "a4be83f8-4217-4042-8a85-ba56df8324c4",
   "metadata": {},
   "outputs": [],
   "source": []
  },
  {
   "cell_type": "code",
   "execution_count": null,
   "id": "9911a897-8562-4ef0-9434-eb43803e4c61",
   "metadata": {},
   "outputs": [],
   "source": []
  },
  {
   "cell_type": "code",
   "execution_count": null,
   "id": "d561acd4-9193-407c-a396-e07b326c3d79",
   "metadata": {},
   "outputs": [],
   "source": []
  },
  {
   "cell_type": "code",
   "execution_count": null,
   "id": "6653cceb-d81a-4445-b76c-4fee9cac235b",
   "metadata": {},
   "outputs": [],
   "source": []
  },
  {
   "cell_type": "code",
   "execution_count": null,
   "id": "2e477561-0662-4a53-bcbe-27c254523f57",
   "metadata": {},
   "outputs": [],
   "source": []
  },
  {
   "cell_type": "code",
   "execution_count": null,
   "id": "6eab8dc3-bd3f-4f3f-8eae-9b4559e6033f",
   "metadata": {},
   "outputs": [],
   "source": []
  },
  {
   "cell_type": "code",
   "execution_count": null,
   "id": "0b9330be-c9fc-426a-aa21-bfc7a0791c04",
   "metadata": {},
   "outputs": [],
   "source": []
  },
  {
   "cell_type": "code",
   "execution_count": null,
   "id": "c927d06f-eedb-4b81-a5e4-738a2e9e553b",
   "metadata": {},
   "outputs": [],
   "source": []
  }
 ],
 "metadata": {
  "kernelspec": {
   "display_name": "R",
   "language": "R",
   "name": "ir"
  },
  "language_info": {
   "codemirror_mode": "r",
   "file_extension": ".r",
   "mimetype": "text/x-r-source",
   "name": "R",
   "pygments_lexer": "r",
   "version": "4.2.1"
  }
 },
 "nbformat": 4,
 "nbformat_minor": 5
}
