{
 "cells": [
  {
   "cell_type": "markdown",
   "id": "2d76f7d1-b609-4763-9474-8348289e2a1e",
   "metadata": {},
   "source": [
    "# R Structure"
   ]
  },
  {
   "cell_type": "markdown",
   "id": "befca891-3458-4fa4-a1eb-3551da0c9901",
   "metadata": {},
   "source": [
    "#### Basic Key terms:\n",
    "- Columns is known as properties\n",
    "- Variables inside Columns is also known as features/variables\n",
    "- Rows is collection of items/observations\n"
   ]
  },
  {
   "cell_type": "markdown",
   "id": "5b4626b5-65c3-4544-ab43-122370e45a5b",
   "metadata": {},
   "source": [
    "---\n",
    "#### Data Structure in R:\n",
    "- vector\n",
    "- matrix\n",
    "- array\n",
    "- factor\n",
    "- ts\n",
    "- data.frame\n",
    "- list\n",
    "\n",
    "---\n",
    "\n",
    "source: https://www.youtube.com/watch?v=92YFZhKSJq0"
   ]
  },
  {
   "cell_type": "markdown",
   "id": "61f18712-ed1e-4b21-a879-f0dee4834315",
   "metadata": {},
   "source": [
    "<p style=\"text-align: left\">\n",
    "  <img  src=\"../../../Media/julie/r-structure.png\" width=\"1100\" alt=\"R Structure\">\n",
    "</p>"
   ]
  },
  {
   "cell_type": "markdown",
   "id": "b6f83a0c-3c04-416f-8953-4709d5380253",
   "metadata": {},
   "source": [
    "---\n",
    "\n",
    "#### vector:\n",
    "- 1 Dimensional\n",
    "    - variables one after another\n",
    "        - example: ages, \n",
    "- 1 Data Type\n",
    "    - needs to be same data type, cannot mix data type\n",
    "    - numeric, strings \n",
    "\n",
    "#### matrix:\n",
    "- 2 Dimensional\n",
    "    - columns and rows\n",
    "- 1 Data Type\n",
    "    - needs to be same data type, in each column, cannot mix data type\n",
    "    - numeric, strings \n",
    "\n",
    "#### array:\n",
    "- n(many) Dimensional\n",
    "    - 3+ dimensional objects\n",
    "- 1 Data Type\n",
    "   - each array has same data type\n",
    "\n",
    "#### factor:\n",
    "- 1 Dimensional\n",
    "    - variables one after another\n",
    "    - is just likea vector, except...\n",
    "    - the features for the columns have specified levels\n",
    "        - example: sex, grades, or type of membership\n",
    "        \n",
    "- 1 Data Type\n",
    "    - needs to be same data type, cannot mix data type\n",
    "    - numeric, strings\n",
    "\n",
    "#### ts(time-series):\n",
    "- 1-2 Dimensional\n",
    "    - will not get into this\n",
    "- Many Data Types\n",
    "    - will not get into this\n",
    "\n",
    "#### data.frame:\n",
    "- 2 Dimensional\n",
    "    - columns and rows\n",
    "    - these have column anmes, data frames are much easier to subset/sunscripting\n",
    "    \n",
    "- Many Data Types\n",
    "     - unlike matrix, can store different data types in the same data frame \n",
    "     - but has limitations: only use 1 store 1 type of data in each column\n",
    "\n",
    "#### list:\n",
    "- n(many) Dimensional\n",
    "    - complex, you can store objects within objects\n",
    "    - hard to subscript\n",
    "    - you still have to use them\n",
    "    \n",
    "- Many Data Types\n",
    "    - many data types in the list"
   ]
  },
  {
   "cell_type": "markdown",
   "id": "25878e85-dc59-41e2-bbd5-73115069a582",
   "metadata": {},
   "source": [
    "---"
   ]
  },
  {
   "cell_type": "markdown",
   "id": "37a08325-b458-40ca-8548-9947cc94fe19",
   "metadata": {},
   "source": [
    "# Vectors:"
   ]
  },
  {
   "cell_type": "code",
   "execution_count": 2,
   "id": "d561acd4-9193-407c-a396-e07b326c3d79",
   "metadata": {},
   "outputs": [
    {
     "data": {
      "text/html": [
       "11"
      ],
      "text/latex": [
       "11"
      ],
      "text/markdown": [
       "11"
      ],
      "text/plain": [
       "[1] 11"
      ]
     },
     "metadata": {},
     "output_type": "display_data"
    }
   ],
   "source": [
    "x <- 11\n",
    "x"
   ]
  },
  {
   "cell_type": "code",
   "execution_count": 3,
   "id": "6653cceb-d81a-4445-b76c-4fee9cac235b",
   "metadata": {},
   "outputs": [
    {
     "data": {
      "text/html": [
       "<style>\n",
       ".list-inline {list-style: none; margin:0; padding: 0}\n",
       ".list-inline>li {display: inline-block}\n",
       ".list-inline>li:not(:last-child)::after {content: \"\\00b7\"; padding: 0 .5ex}\n",
       "</style>\n",
       "<ol class=list-inline><li>1</li><li>2</li><li>3</li><li>4</li><li>5</li></ol>\n"
      ],
      "text/latex": [
       "\\begin{enumerate*}\n",
       "\\item 1\n",
       "\\item 2\n",
       "\\item 3\n",
       "\\item 4\n",
       "\\item 5\n",
       "\\end{enumerate*}\n"
      ],
      "text/markdown": [
       "1. 1\n",
       "2. 2\n",
       "3. 3\n",
       "4. 4\n",
       "5. 5\n",
       "\n",
       "\n"
      ],
      "text/plain": [
       "[1] 1 2 3 4 5"
      ]
     },
     "metadata": {},
     "output_type": "display_data"
    }
   ],
   "source": [
    "# create numeric vector\n",
    "x1 <- c(1,2,3,4,5)\n",
    "x1"
   ]
  },
  {
   "cell_type": "code",
   "execution_count": 4,
   "id": "2e477561-0662-4a53-bcbe-27c254523f57",
   "metadata": {},
   "outputs": [
    {
     "data": {
      "text/html": [
       "<style>\n",
       ".list-inline {list-style: none; margin:0; padding: 0}\n",
       ".list-inline>li {display: inline-block}\n",
       ".list-inline>li:not(:last-child)::after {content: \"\\00b7\"; padding: 0 .5ex}\n",
       "</style>\n",
       "<ol class=list-inline><li>'male'</li><li>'female'</li></ol>\n"
      ],
      "text/latex": [
       "\\begin{enumerate*}\n",
       "\\item 'male'\n",
       "\\item 'female'\n",
       "\\end{enumerate*}\n"
      ],
      "text/markdown": [
       "1. 'male'\n",
       "2. 'female'\n",
       "\n",
       "\n"
      ],
      "text/plain": [
       "[1] \"male\"   \"female\""
      ]
     },
     "metadata": {},
     "output_type": "display_data"
    }
   ],
   "source": [
    "# create categorical vector\n",
    "gender <- c(\"male\", \"female\")\n",
    "gender"
   ]
  },
  {
   "cell_type": "code",
   "execution_count": 5,
   "id": "6eab8dc3-bd3f-4f3f-8eae-9b4559e6033f",
   "metadata": {},
   "outputs": [
    {
     "data": {
      "text/html": [
       "<style>\n",
       ".list-inline {list-style: none; margin:0; padding: 0}\n",
       ".list-inline>li {display: inline-block}\n",
       ".list-inline>li:not(:last-child)::after {content: \"\\00b7\"; padding: 0 .5ex}\n",
       "</style>\n",
       "<ol class=list-inline><li>2</li><li>3</li><li>4</li><li>5</li><li>6</li><li>7</li></ol>\n"
      ],
      "text/latex": [
       "\\begin{enumerate*}\n",
       "\\item 2\n",
       "\\item 3\n",
       "\\item 4\n",
       "\\item 5\n",
       "\\item 6\n",
       "\\item 7\n",
       "\\end{enumerate*}\n"
      ],
      "text/markdown": [
       "1. 2\n",
       "2. 3\n",
       "3. 4\n",
       "4. 5\n",
       "5. 6\n",
       "6. 7\n",
       "\n",
       "\n"
      ],
      "text/plain": [
       "[1] 2 3 4 5 6 7"
      ]
     },
     "metadata": {},
     "output_type": "display_data"
    }
   ],
   "source": [
    "# sequence\n",
    "2:7"
   ]
  },
  {
   "cell_type": "code",
   "execution_count": 6,
   "id": "0b9330be-c9fc-426a-aa21-bfc7a0791c04",
   "metadata": {},
   "outputs": [
    {
     "data": {
      "text/html": [
       "<style>\n",
       ".list-inline {list-style: none; margin:0; padding: 0}\n",
       ".list-inline>li {display: inline-block}\n",
       ".list-inline>li:not(:last-child)::after {content: \"\\00b7\"; padding: 0 .5ex}\n",
       "</style>\n",
       "<ol class=list-inline><li>1</li><li>2</li><li>3</li><li>4</li><li>5</li><li>6</li><li>7</li></ol>\n"
      ],
      "text/latex": [
       "\\begin{enumerate*}\n",
       "\\item 1\n",
       "\\item 2\n",
       "\\item 3\n",
       "\\item 4\n",
       "\\item 5\n",
       "\\item 6\n",
       "\\item 7\n",
       "\\end{enumerate*}\n"
      ],
      "text/markdown": [
       "1. 1\n",
       "2. 2\n",
       "3. 3\n",
       "4. 4\n",
       "5. 5\n",
       "6. 6\n",
       "7. 7\n",
       "\n",
       "\n"
      ],
      "text/plain": [
       "[1] 1 2 3 4 5 6 7"
      ]
     },
     "metadata": {},
     "output_type": "display_data"
    }
   ],
   "source": [
    "# general sequence\n",
    "# sequence 1:7, in increments of 1\n",
    "seq(from=1, to=7, by =1)"
   ]
  },
  {
   "cell_type": "code",
   "execution_count": 9,
   "id": "6f0bb63e-6610-43de-b135-547f47c12b5f",
   "metadata": {},
   "outputs": [
    {
     "data": {
      "text/html": [
       "<style>\n",
       ".list-inline {list-style: none; margin:0; padding: 0}\n",
       ".list-inline>li {display: inline-block}\n",
       ".list-inline>li:not(:last-child)::after {content: \"\\00b7\"; padding: 0 .5ex}\n",
       "</style>\n",
       "<ol class=list-inline><li>1</li><li>1</li><li>1</li><li>1</li><li>1</li><li>1</li><li>1</li><li>1</li><li>1</li><li>1</li></ol>\n"
      ],
      "text/latex": [
       "\\begin{enumerate*}\n",
       "\\item 1\n",
       "\\item 1\n",
       "\\item 1\n",
       "\\item 1\n",
       "\\item 1\n",
       "\\item 1\n",
       "\\item 1\n",
       "\\item 1\n",
       "\\item 1\n",
       "\\item 1\n",
       "\\end{enumerate*}\n"
      ],
      "text/markdown": [
       "1. 1\n",
       "2. 1\n",
       "3. 1\n",
       "4. 1\n",
       "5. 1\n",
       "6. 1\n",
       "7. 1\n",
       "8. 1\n",
       "9. 1\n",
       "10. 1\n",
       "\n",
       "\n"
      ],
      "text/plain": [
       " [1] 1 1 1 1 1 1 1 1 1 1"
      ]
     },
     "metadata": {},
     "output_type": "display_data"
    }
   ],
   "source": [
    "# create a vector, repeating the number 1, 10 times\n",
    "rep(1, times=10)"
   ]
  },
  {
   "cell_type": "code",
   "execution_count": 10,
   "id": "72034ed5-6014-4f37-b8a0-0da37ec365b2",
   "metadata": {},
   "outputs": [
    {
     "data": {
      "text/html": [
       "<style>\n",
       ".list-inline {list-style: none; margin:0; padding: 0}\n",
       ".list-inline>li {display: inline-block}\n",
       ".list-inline>li:not(:last-child)::after {content: \"\\00b7\"; padding: 0 .5ex}\n",
       "</style>\n",
       "<ol class=list-inline><li>'marin'</li><li>'marin'</li><li>'marin'</li><li>'marin'</li><li>'marin'</li></ol>\n"
      ],
      "text/latex": [
       "\\begin{enumerate*}\n",
       "\\item 'marin'\n",
       "\\item 'marin'\n",
       "\\item 'marin'\n",
       "\\item 'marin'\n",
       "\\item 'marin'\n",
       "\\end{enumerate*}\n"
      ],
      "text/markdown": [
       "1. 'marin'\n",
       "2. 'marin'\n",
       "3. 'marin'\n",
       "4. 'marin'\n",
       "5. 'marin'\n",
       "\n",
       "\n"
      ],
      "text/plain": [
       "[1] \"marin\" \"marin\" \"marin\" \"marin\" \"marin\""
      ]
     },
     "metadata": {},
     "output_type": "display_data"
    }
   ],
   "source": [
    "# create a vector, repeating \"marin\", 5 times\n",
    "rep(\"marin\", times=5)"
   ]
  },
  {
   "cell_type": "code",
   "execution_count": 12,
   "id": "83ea0d54-fbe5-4995-921b-fbc4d5c32ff2",
   "metadata": {},
   "outputs": [
    {
     "data": {
      "text/html": [
       "<style>\n",
       ".list-inline {list-style: none; margin:0; padding: 0}\n",
       ".list-inline>li {display: inline-block}\n",
       ".list-inline>li:not(:last-child)::after {content: \"\\00b7\"; padding: 0 .5ex}\n",
       "</style>\n",
       "<ol class=list-inline><li>1</li><li>2</li><li>3</li><li>1</li><li>2</li><li>3</li><li>1</li><li>2</li><li>3</li><li>1</li><li>2</li><li>3</li><li>1</li><li>2</li><li>3</li></ol>\n"
      ],
      "text/latex": [
       "\\begin{enumerate*}\n",
       "\\item 1\n",
       "\\item 2\n",
       "\\item 3\n",
       "\\item 1\n",
       "\\item 2\n",
       "\\item 3\n",
       "\\item 1\n",
       "\\item 2\n",
       "\\item 3\n",
       "\\item 1\n",
       "\\item 2\n",
       "\\item 3\n",
       "\\item 1\n",
       "\\item 2\n",
       "\\item 3\n",
       "\\end{enumerate*}\n"
      ],
      "text/markdown": [
       "1. 1\n",
       "2. 2\n",
       "3. 3\n",
       "4. 1\n",
       "5. 2\n",
       "6. 3\n",
       "7. 1\n",
       "8. 2\n",
       "9. 3\n",
       "10. 1\n",
       "11. 2\n",
       "12. 3\n",
       "13. 1\n",
       "14. 2\n",
       "15. 3\n",
       "\n",
       "\n"
      ],
      "text/plain": [
       " [1] 1 2 3 1 2 3 1 2 3 1 2 3 1 2 3"
      ]
     },
     "metadata": {},
     "output_type": "display_data"
    }
   ],
   "source": [
    "# create a vector, repeating a sequence of numbers 1-3, 5 times\n",
    "rep(1:3,times=5)"
   ]
  },
  {
   "cell_type": "code",
   "execution_count": 14,
   "id": "326d5ed1-59ee-4d96-98fd-5148eb1a783e",
   "metadata": {},
   "outputs": [
    {
     "data": {
      "text/html": [
       "<style>\n",
       ".list-inline {list-style: none; margin:0; padding: 0}\n",
       ".list-inline>li {display: inline-block}\n",
       ".list-inline>li:not(:last-child)::after {content: \"\\00b7\"; padding: 0 .5ex}\n",
       "</style>\n",
       "<ol class=list-inline><li>2</li><li>2.25</li><li>2.5</li><li>2.75</li><li>3</li><li>3.25</li><li>3.5</li><li>3.75</li><li>4</li><li>4.25</li><li>4.5</li><li>4.75</li><li>5</li><li>2</li><li>2.25</li><li>2.5</li><li>2.75</li><li>3</li><li>3.25</li><li>3.5</li><li>3.75</li><li>4</li><li>4.25</li><li>4.5</li><li>4.75</li><li>5</li><li>2</li><li>2.25</li><li>2.5</li><li>2.75</li><li>3</li><li>3.25</li><li>3.5</li><li>3.75</li><li>4</li><li>4.25</li><li>4.5</li><li>4.75</li><li>5</li><li>2</li><li>2.25</li><li>2.5</li><li>2.75</li><li>3</li><li>3.25</li><li>3.5</li><li>3.75</li><li>4</li><li>4.25</li><li>4.5</li><li>4.75</li><li>5</li><li>2</li><li>2.25</li><li>2.5</li><li>2.75</li><li>3</li><li>3.25</li><li>3.5</li><li>3.75</li><li>4</li><li>4.25</li><li>4.5</li><li>4.75</li><li>5</li></ol>\n"
      ],
      "text/latex": [
       "\\begin{enumerate*}\n",
       "\\item 2\n",
       "\\item 2.25\n",
       "\\item 2.5\n",
       "\\item 2.75\n",
       "\\item 3\n",
       "\\item 3.25\n",
       "\\item 3.5\n",
       "\\item 3.75\n",
       "\\item 4\n",
       "\\item 4.25\n",
       "\\item 4.5\n",
       "\\item 4.75\n",
       "\\item 5\n",
       "\\item 2\n",
       "\\item 2.25\n",
       "\\item 2.5\n",
       "\\item 2.75\n",
       "\\item 3\n",
       "\\item 3.25\n",
       "\\item 3.5\n",
       "\\item 3.75\n",
       "\\item 4\n",
       "\\item 4.25\n",
       "\\item 4.5\n",
       "\\item 4.75\n",
       "\\item 5\n",
       "\\item 2\n",
       "\\item 2.25\n",
       "\\item 2.5\n",
       "\\item 2.75\n",
       "\\item 3\n",
       "\\item 3.25\n",
       "\\item 3.5\n",
       "\\item 3.75\n",
       "\\item 4\n",
       "\\item 4.25\n",
       "\\item 4.5\n",
       "\\item 4.75\n",
       "\\item 5\n",
       "\\item 2\n",
       "\\item 2.25\n",
       "\\item 2.5\n",
       "\\item 2.75\n",
       "\\item 3\n",
       "\\item 3.25\n",
       "\\item 3.5\n",
       "\\item 3.75\n",
       "\\item 4\n",
       "\\item 4.25\n",
       "\\item 4.5\n",
       "\\item 4.75\n",
       "\\item 5\n",
       "\\item 2\n",
       "\\item 2.25\n",
       "\\item 2.5\n",
       "\\item 2.75\n",
       "\\item 3\n",
       "\\item 3.25\n",
       "\\item 3.5\n",
       "\\item 3.75\n",
       "\\item 4\n",
       "\\item 4.25\n",
       "\\item 4.5\n",
       "\\item 4.75\n",
       "\\item 5\n",
       "\\end{enumerate*}\n"
      ],
      "text/markdown": [
       "1. 2\n",
       "2. 2.25\n",
       "3. 2.5\n",
       "4. 2.75\n",
       "5. 3\n",
       "6. 3.25\n",
       "7. 3.5\n",
       "8. 3.75\n",
       "9. 4\n",
       "10. 4.25\n",
       "11. 4.5\n",
       "12. 4.75\n",
       "13. 5\n",
       "14. 2\n",
       "15. 2.25\n",
       "16. 2.5\n",
       "17. 2.75\n",
       "18. 3\n",
       "19. 3.25\n",
       "20. 3.5\n",
       "21. 3.75\n",
       "22. 4\n",
       "23. 4.25\n",
       "24. 4.5\n",
       "25. 4.75\n",
       "26. 5\n",
       "27. 2\n",
       "28. 2.25\n",
       "29. 2.5\n",
       "30. 2.75\n",
       "31. 3\n",
       "32. 3.25\n",
       "33. 3.5\n",
       "34. 3.75\n",
       "35. 4\n",
       "36. 4.25\n",
       "37. 4.5\n",
       "38. 4.75\n",
       "39. 5\n",
       "40. 2\n",
       "41. 2.25\n",
       "42. 2.5\n",
       "43. 2.75\n",
       "44. 3\n",
       "45. 3.25\n",
       "46. 3.5\n",
       "47. 3.75\n",
       "48. 4\n",
       "49. 4.25\n",
       "50. 4.5\n",
       "51. 4.75\n",
       "52. 5\n",
       "53. 2\n",
       "54. 2.25\n",
       "55. 2.5\n",
       "56. 2.75\n",
       "57. 3\n",
       "58. 3.25\n",
       "59. 3.5\n",
       "60. 3.75\n",
       "61. 4\n",
       "62. 4.25\n",
       "63. 4.5\n",
       "64. 4.75\n",
       "65. 5\n",
       "\n",
       "\n"
      ],
      "text/plain": [
       " [1] 2.00 2.25 2.50 2.75 3.00 3.25 3.50 3.75 4.00 4.25 4.50 4.75 5.00 2.00 2.25\n",
       "[16] 2.50 2.75 3.00 3.25 3.50 3.75 4.00 4.25 4.50 4.75 5.00 2.00 2.25 2.50 2.75\n",
       "[31] 3.00 3.25 3.50 3.75 4.00 4.25 4.50 4.75 5.00 2.00 2.25 2.50 2.75 3.00 3.25\n",
       "[46] 3.50 3.75 4.00 4.25 4.50 4.75 5.00 2.00 2.25 2.50 2.75 3.00 3.25 3.50 3.75\n",
       "[61] 4.00 4.25 4.50 4.75 5.00"
      ]
     },
     "metadata": {},
     "output_type": "display_data"
    }
   ],
   "source": [
    "# create a vector, repeating a sequence of non-intergers 2-5, increments of .25 , 5 times\n",
    "rep(seq(from=2, to=5, by=0.25), times=5)"
   ]
  },
  {
   "cell_type": "code",
   "execution_count": 15,
   "id": "dc7f15d7-c79c-4839-bebd-a643b4d98020",
   "metadata": {},
   "outputs": [
    {
     "data": {
      "text/html": [
       "<style>\n",
       ".list-inline {list-style: none; margin:0; padding: 0}\n",
       ".list-inline>li {display: inline-block}\n",
       ".list-inline>li:not(:last-child)::after {content: \"\\00b7\"; padding: 0 .5ex}\n",
       "</style>\n",
       "<ol class=list-inline><li>'M'</li><li>'N'</li><li>'M'</li><li>'N'</li><li>'M'</li><li>'N'</li><li>'M'</li><li>'N'</li><li>'M'</li><li>'N'</li></ol>\n"
      ],
      "text/latex": [
       "\\begin{enumerate*}\n",
       "\\item 'M'\n",
       "\\item 'N'\n",
       "\\item 'M'\n",
       "\\item 'N'\n",
       "\\item 'M'\n",
       "\\item 'N'\n",
       "\\item 'M'\n",
       "\\item 'N'\n",
       "\\item 'M'\n",
       "\\item 'N'\n",
       "\\end{enumerate*}\n"
      ],
      "text/markdown": [
       "1. 'M'\n",
       "2. 'N'\n",
       "3. 'M'\n",
       "4. 'N'\n",
       "5. 'M'\n",
       "6. 'N'\n",
       "7. 'M'\n",
       "8. 'N'\n",
       "9. 'M'\n",
       "10. 'N'\n",
       "\n",
       "\n"
      ],
      "text/plain": [
       " [1] \"M\" \"N\" \"M\" \"N\" \"M\" \"N\" \"M\" \"N\" \"M\" \"N\""
      ]
     },
     "metadata": {},
     "output_type": "display_data"
    }
   ],
   "source": [
    "# create a vector, repeating characters, 5 times\n",
    "rep(c(\"M\", \"N\"), times=5)"
   ]
  },
  {
   "cell_type": "code",
   "execution_count": 16,
   "id": "b5c35806-41e1-4a7c-b730-6fa677d07754",
   "metadata": {},
   "outputs": [],
   "source": [
    "# create 2 vectors\n",
    "x<- 1:5\n",
    "y<- c(1,3,5,7,9)"
   ]
  },
  {
   "cell_type": "code",
   "execution_count": 20,
   "id": "eeba5d16-ad20-49b8-a1f2-d2e236318d02",
   "metadata": {},
   "outputs": [
    {
     "data": {
      "text/html": [
       "<style>\n",
       ".list-inline {list-style: none; margin:0; padding: 0}\n",
       ".list-inline>li {display: inline-block}\n",
       ".list-inline>li:not(:last-child)::after {content: \"\\00b7\"; padding: 0 .5ex}\n",
       "</style>\n",
       "<ol class=list-inline><li>11</li><li>12</li><li>13</li><li>14</li><li>15</li></ol>\n"
      ],
      "text/latex": [
       "\\begin{enumerate*}\n",
       "\\item 11\n",
       "\\item 12\n",
       "\\item 13\n",
       "\\item 14\n",
       "\\item 15\n",
       "\\end{enumerate*}\n"
      ],
      "text/markdown": [
       "1. 11\n",
       "2. 12\n",
       "3. 13\n",
       "4. 14\n",
       "5. 15\n",
       "\n",
       "\n"
      ],
      "text/plain": [
       "[1] 11 12 13 14 15"
      ]
     },
     "metadata": {},
     "output_type": "display_data"
    }
   ],
   "source": [
    "# add 10 to each variable in vector\n",
    "x + 10"
   ]
  },
  {
   "cell_type": "code",
   "execution_count": 21,
   "id": "1539b75e-6ea4-4cad-9ed7-138caf576e5f",
   "metadata": {},
   "outputs": [
    {
     "data": {
      "text/html": [
       "<style>\n",
       ".list-inline {list-style: none; margin:0; padding: 0}\n",
       ".list-inline>li {display: inline-block}\n",
       ".list-inline>li:not(:last-child)::after {content: \"\\00b7\"; padding: 0 .5ex}\n",
       "</style>\n",
       "<ol class=list-inline><li>10</li><li>20</li><li>30</li><li>40</li><li>50</li></ol>\n"
      ],
      "text/latex": [
       "\\begin{enumerate*}\n",
       "\\item 10\n",
       "\\item 20\n",
       "\\item 30\n",
       "\\item 40\n",
       "\\item 50\n",
       "\\end{enumerate*}\n"
      ],
      "text/markdown": [
       "1. 10\n",
       "2. 20\n",
       "3. 30\n",
       "4. 40\n",
       "5. 50\n",
       "\n",
       "\n"
      ],
      "text/plain": [
       "[1] 10 20 30 40 50"
      ]
     },
     "metadata": {},
     "output_type": "display_data"
    }
   ],
   "source": [
    "# multiple 10 to each variable in vector\n",
    "x * 10"
   ]
  },
  {
   "cell_type": "code",
   "execution_count": 22,
   "id": "b4b0ffe8-9323-4d4b-9cfe-1936f551bae2",
   "metadata": {},
   "outputs": [
    {
     "data": {
      "text/html": [
       "<style>\n",
       ".list-inline {list-style: none; margin:0; padding: 0}\n",
       ".list-inline>li {display: inline-block}\n",
       ".list-inline>li:not(:last-child)::after {content: \"\\00b7\"; padding: 0 .5ex}\n",
       "</style>\n",
       "<ol class=list-inline><li>2</li><li>5</li><li>8</li><li>11</li><li>14</li></ol>\n"
      ],
      "text/latex": [
       "\\begin{enumerate*}\n",
       "\\item 2\n",
       "\\item 5\n",
       "\\item 8\n",
       "\\item 11\n",
       "\\item 14\n",
       "\\end{enumerate*}\n"
      ],
      "text/markdown": [
       "1. 2\n",
       "2. 5\n",
       "3. 8\n",
       "4. 11\n",
       "5. 14\n",
       "\n",
       "\n"
      ],
      "text/plain": [
       "[1]  2  5  8 11 14"
      ]
     },
     "metadata": {},
     "output_type": "display_data"
    }
   ],
   "source": [
    "# if two vectors are of the same length, you may add, sub, mul, and div\n",
    "# like the exmaple above\n",
    "\n",
    "x+y"
   ]
  },
  {
   "cell_type": "code",
   "execution_count": 23,
   "id": "2633ba75-68cc-4ea4-a724-d8c47f851d87",
   "metadata": {},
   "outputs": [
    {
     "data": {
      "text/html": [
       "<style>\n",
       ".list-inline {list-style: none; margin:0; padding: 0}\n",
       ".list-inline>li {display: inline-block}\n",
       ".list-inline>li:not(:last-child)::after {content: \"\\00b7\"; padding: 0 .5ex}\n",
       "</style>\n",
       "<ol class=list-inline><li>0</li><li>-1</li><li>-2</li><li>-3</li><li>-4</li></ol>\n"
      ],
      "text/latex": [
       "\\begin{enumerate*}\n",
       "\\item 0\n",
       "\\item -1\n",
       "\\item -2\n",
       "\\item -3\n",
       "\\item -4\n",
       "\\end{enumerate*}\n"
      ],
      "text/markdown": [
       "1. 0\n",
       "2. -1\n",
       "3. -2\n",
       "4. -3\n",
       "5. -4\n",
       "\n",
       "\n"
      ],
      "text/plain": [
       "[1]  0 -1 -2 -3 -4"
      ]
     },
     "metadata": {},
     "output_type": "display_data"
    }
   ],
   "source": [
    "x-y"
   ]
  },
  {
   "cell_type": "code",
   "execution_count": 24,
   "id": "1d1bdbf9-4ccb-4f13-b497-d74bc1119e41",
   "metadata": {},
   "outputs": [
    {
     "data": {
      "text/html": [
       "<style>\n",
       ".list-inline {list-style: none; margin:0; padding: 0}\n",
       ".list-inline>li {display: inline-block}\n",
       ".list-inline>li:not(:last-child)::after {content: \"\\00b7\"; padding: 0 .5ex}\n",
       "</style>\n",
       "<ol class=list-inline><li>1</li><li>2</li><li>3</li><li>4</li><li>5</li></ol>\n"
      ],
      "text/latex": [
       "\\begin{enumerate*}\n",
       "\\item 1\n",
       "\\item 2\n",
       "\\item 3\n",
       "\\item 4\n",
       "\\item 5\n",
       "\\end{enumerate*}\n"
      ],
      "text/markdown": [
       "1. 1\n",
       "2. 2\n",
       "3. 3\n",
       "4. 4\n",
       "5. 5\n",
       "\n",
       "\n"
      ],
      "text/plain": [
       "[1] 1 2 3 4 5"
      ]
     },
     "metadata": {},
     "output_type": "display_data"
    }
   ],
   "source": [
    "# extracting elements:\n",
    "x"
   ]
  },
  {
   "cell_type": "code",
   "execution_count": 25,
   "id": "8cec001d-bd66-4cf2-a50a-39583d7c9ee9",
   "metadata": {},
   "outputs": [
    {
     "data": {
      "text/html": [
       "<style>\n",
       ".list-inline {list-style: none; margin:0; padding: 0}\n",
       ".list-inline>li {display: inline-block}\n",
       ".list-inline>li:not(:last-child)::after {content: \"\\00b7\"; padding: 0 .5ex}\n",
       "</style>\n",
       "<ol class=list-inline><li>1</li><li>3</li><li>5</li><li>7</li><li>9</li></ol>\n"
      ],
      "text/latex": [
       "\\begin{enumerate*}\n",
       "\\item 1\n",
       "\\item 3\n",
       "\\item 5\n",
       "\\item 7\n",
       "\\item 9\n",
       "\\end{enumerate*}\n"
      ],
      "text/markdown": [
       "1. 1\n",
       "2. 3\n",
       "3. 5\n",
       "4. 7\n",
       "5. 9\n",
       "\n",
       "\n"
      ],
      "text/plain": [
       "[1] 1 3 5 7 9"
      ]
     },
     "metadata": {},
     "output_type": "display_data"
    }
   ],
   "source": [
    "y"
   ]
  },
  {
   "cell_type": "code",
   "execution_count": 26,
   "id": "d903845f-ca72-4c3a-ab62-c06ce11e02e2",
   "metadata": {},
   "outputs": [
    {
     "data": {
      "text/html": [
       "5"
      ],
      "text/latex": [
       "5"
      ],
      "text/markdown": [
       "5"
      ],
      "text/plain": [
       "[1] 5"
      ]
     },
     "metadata": {},
     "output_type": "display_data"
    }
   ],
   "source": [
    "# extracting 3rd element\n",
    "y[3]"
   ]
  },
  {
   "cell_type": "code",
   "execution_count": 27,
   "id": "6dc32795-b350-45b8-b0ce-a5ae6cd2ab57",
   "metadata": {},
   "outputs": [
    {
     "data": {
      "text/html": [
       "<style>\n",
       ".list-inline {list-style: none; margin:0; padding: 0}\n",
       ".list-inline>li {display: inline-block}\n",
       ".list-inline>li:not(:last-child)::after {content: \"\\00b7\"; padding: 0 .5ex}\n",
       "</style>\n",
       "<ol class=list-inline><li>1</li><li>3</li><li>7</li><li>9</li></ol>\n"
      ],
      "text/latex": [
       "\\begin{enumerate*}\n",
       "\\item 1\n",
       "\\item 3\n",
       "\\item 7\n",
       "\\item 9\n",
       "\\end{enumerate*}\n"
      ],
      "text/markdown": [
       "1. 1\n",
       "2. 3\n",
       "3. 7\n",
       "4. 9\n",
       "\n",
       "\n"
      ],
      "text/plain": [
       "[1] 1 3 7 9"
      ]
     },
     "metadata": {},
     "output_type": "display_data"
    }
   ],
   "source": [
    "# extracting all, except 3rd element\n",
    "y[-3]"
   ]
  },
  {
   "cell_type": "code",
   "execution_count": 28,
   "id": "de01b946-6b11-41af-8ea5-2f39cacbb972",
   "metadata": {},
   "outputs": [
    {
     "data": {
      "text/html": [
       "<style>\n",
       ".list-inline {list-style: none; margin:0; padding: 0}\n",
       ".list-inline>li {display: inline-block}\n",
       ".list-inline>li:not(:last-child)::after {content: \"\\00b7\"; padding: 0 .5ex}\n",
       "</style>\n",
       "<ol class=list-inline><li>1</li><li>3</li><li>5</li></ol>\n"
      ],
      "text/latex": [
       "\\begin{enumerate*}\n",
       "\\item 1\n",
       "\\item 3\n",
       "\\item 5\n",
       "\\end{enumerate*}\n"
      ],
      "text/markdown": [
       "1. 1\n",
       "2. 3\n",
       "3. 5\n",
       "\n",
       "\n"
      ],
      "text/plain": [
       "[1] 1 3 5"
      ]
     },
     "metadata": {},
     "output_type": "display_data"
    }
   ],
   "source": [
    "# extracting 1-3 elements\n",
    "y[1:3]"
   ]
  },
  {
   "cell_type": "code",
   "execution_count": 29,
   "id": "2ce3d8b3-d329-4346-a85b-fec460c2cf07",
   "metadata": {},
   "outputs": [
    {
     "data": {
      "text/html": [
       "<style>\n",
       ".list-inline {list-style: none; margin:0; padding: 0}\n",
       ".list-inline>li {display: inline-block}\n",
       ".list-inline>li:not(:last-child)::after {content: \"\\00b7\"; padding: 0 .5ex}\n",
       "</style>\n",
       "<ol class=list-inline><li>1</li><li>9</li></ol>\n"
      ],
      "text/latex": [
       "\\begin{enumerate*}\n",
       "\\item 1\n",
       "\\item 9\n",
       "\\end{enumerate*}\n"
      ],
      "text/markdown": [
       "1. 1\n",
       "2. 9\n",
       "\n",
       "\n"
      ],
      "text/plain": [
       "[1] 1 9"
      ]
     },
     "metadata": {},
     "output_type": "display_data"
    }
   ],
   "source": [
    "# extracting 1st and 5th elements\n",
    "y[c(1,5)]"
   ]
  },
  {
   "cell_type": "code",
   "execution_count": 30,
   "id": "4f110c07-7e10-4eb7-8840-1ed33eba5ac4",
   "metadata": {},
   "outputs": [
    {
     "data": {
      "text/html": [
       "<style>\n",
       ".list-inline {list-style: none; margin:0; padding: 0}\n",
       ".list-inline>li {display: inline-block}\n",
       ".list-inline>li:not(:last-child)::after {content: \"\\00b7\"; padding: 0 .5ex}\n",
       "</style>\n",
       "<ol class=list-inline><li>3</li><li>5</li><li>7</li></ol>\n"
      ],
      "text/latex": [
       "\\begin{enumerate*}\n",
       "\\item 3\n",
       "\\item 5\n",
       "\\item 7\n",
       "\\end{enumerate*}\n"
      ],
      "text/markdown": [
       "1. 3\n",
       "2. 5\n",
       "3. 7\n",
       "\n",
       "\n"
      ],
      "text/plain": [
       "[1] 3 5 7"
      ]
     },
     "metadata": {},
     "output_type": "display_data"
    }
   ],
   "source": [
    "# extracting all, except 1st and 5th elements\n",
    "y[-c(1,5)]"
   ]
  },
  {
   "cell_type": "code",
   "execution_count": 31,
   "id": "007f48ce-a4b8-4def-a2a5-496d55c5dfe7",
   "metadata": {},
   "outputs": [
    {
     "data": {
      "text/html": [
       "<style>\n",
       ".list-inline {list-style: none; margin:0; padding: 0}\n",
       ".list-inline>li {display: inline-block}\n",
       ".list-inline>li:not(:last-child)::after {content: \"\\00b7\"; padding: 0 .5ex}\n",
       "</style>\n",
       "<ol class=list-inline><li>1</li><li>3</li><li>5</li></ol>\n"
      ],
      "text/latex": [
       "\\begin{enumerate*}\n",
       "\\item 1\n",
       "\\item 3\n",
       "\\item 5\n",
       "\\end{enumerate*}\n"
      ],
      "text/markdown": [
       "1. 1\n",
       "2. 3\n",
       "3. 5\n",
       "\n",
       "\n"
      ],
      "text/plain": [
       "[1] 1 3 5"
      ]
     },
     "metadata": {},
     "output_type": "display_data"
    }
   ],
   "source": [
    "# extracting elements less than 6\n",
    "y[y<6]"
   ]
  },
  {
   "cell_type": "markdown",
   "id": "03e120cc-e324-4438-8183-81d223f9526e",
   "metadata": {},
   "source": [
    "# Matrix"
   ]
  },
  {
   "cell_type": "code",
   "execution_count": 33,
   "id": "7e84c166-8a4e-4c7f-b634-43725e18d9e2",
   "metadata": {},
   "outputs": [
    {
     "data": {
      "text/html": [
       "<table class=\"dataframe\">\n",
       "<caption>A matrix: 3 × 3 of type dbl</caption>\n",
       "<tbody>\n",
       "\t<tr><td>1</td><td>2</td><td>3</td></tr>\n",
       "\t<tr><td>4</td><td>5</td><td>6</td></tr>\n",
       "\t<tr><td>7</td><td>8</td><td>9</td></tr>\n",
       "</tbody>\n",
       "</table>\n"
      ],
      "text/latex": [
       "A matrix: 3 × 3 of type dbl\n",
       "\\begin{tabular}{lll}\n",
       "\t 1 & 2 & 3\\\\\n",
       "\t 4 & 5 & 6\\\\\n",
       "\t 7 & 8 & 9\\\\\n",
       "\\end{tabular}\n"
      ],
      "text/markdown": [
       "\n",
       "A matrix: 3 × 3 of type dbl\n",
       "\n",
       "| 1 | 2 | 3 |\n",
       "| 4 | 5 | 6 |\n",
       "| 7 | 8 | 9 |\n",
       "\n"
      ],
      "text/plain": [
       "     [,1] [,2] [,3]\n",
       "[1,] 1    2    3   \n",
       "[2,] 4    5    6   \n",
       "[3,] 7    8    9   "
      ]
     },
     "metadata": {},
     "output_type": "display_data"
    }
   ],
   "source": [
    "# creating a matrix with 3 rows, TRUE, to let R know to enter these elements (side to side)\n",
    "matrix(c(1,2,3,4,5,6,7,8,9), nrow=3, byrow=TRUE)"
   ]
  },
  {
   "cell_type": "code",
   "execution_count": 34,
   "id": "fb5d370c-3b79-4523-955b-b678d5232012",
   "metadata": {},
   "outputs": [
    {
     "data": {
      "text/html": [
       "<table class=\"dataframe\">\n",
       "<caption>A matrix: 3 × 3 of type dbl</caption>\n",
       "<tbody>\n",
       "\t<tr><td>1</td><td>4</td><td>7</td></tr>\n",
       "\t<tr><td>2</td><td>5</td><td>8</td></tr>\n",
       "\t<tr><td>3</td><td>6</td><td>9</td></tr>\n",
       "</tbody>\n",
       "</table>\n"
      ],
      "text/latex": [
       "A matrix: 3 × 3 of type dbl\n",
       "\\begin{tabular}{lll}\n",
       "\t 1 & 4 & 7\\\\\n",
       "\t 2 & 5 & 8\\\\\n",
       "\t 3 & 6 & 9\\\\\n",
       "\\end{tabular}\n"
      ],
      "text/markdown": [
       "\n",
       "A matrix: 3 × 3 of type dbl\n",
       "\n",
       "| 1 | 4 | 7 |\n",
       "| 2 | 5 | 8 |\n",
       "| 3 | 6 | 9 |\n",
       "\n"
      ],
      "text/plain": [
       "     [,1] [,2] [,3]\n",
       "[1,] 1    4    7   \n",
       "[2,] 2    5    8   \n",
       "[3,] 3    6    9   "
      ]
     },
     "metadata": {},
     "output_type": "display_data"
    }
   ],
   "source": [
    "# if you set = FALSE, the elements will be entered in a columns wise fashion (up and down)\n",
    "matrix(c(1,2,3,4,5,6,7,8,9), nrow=3, byrow=FALSE)"
   ]
  },
  {
   "cell_type": "code",
   "execution_count": 36,
   "id": "9023227e-f6ea-4f50-ab98-bdd5255eafab",
   "metadata": {},
   "outputs": [
    {
     "data": {
      "text/html": [
       "<table class=\"dataframe\">\n",
       "<caption>A matrix: 3 × 3 of type dbl</caption>\n",
       "<tbody>\n",
       "\t<tr><td>1</td><td>2</td><td>3</td></tr>\n",
       "\t<tr><td>4</td><td>5</td><td>6</td></tr>\n",
       "\t<tr><td>7</td><td>8</td><td>9</td></tr>\n",
       "</tbody>\n",
       "</table>\n"
      ],
      "text/latex": [
       "A matrix: 3 × 3 of type dbl\n",
       "\\begin{tabular}{lll}\n",
       "\t 1 & 2 & 3\\\\\n",
       "\t 4 & 5 & 6\\\\\n",
       "\t 7 & 8 & 9\\\\\n",
       "\\end{tabular}\n"
      ],
      "text/markdown": [
       "\n",
       "A matrix: 3 × 3 of type dbl\n",
       "\n",
       "| 1 | 2 | 3 |\n",
       "| 4 | 5 | 6 |\n",
       "| 7 | 8 | 9 |\n",
       "\n"
      ],
      "text/plain": [
       "     [,1] [,2] [,3]\n",
       "[1,] 1    2    3   \n",
       "[2,] 4    5    6   \n",
       "[3,] 7    8    9   "
      ]
     },
     "metadata": {},
     "output_type": "display_data"
    }
   ],
   "source": [
    "# creating a matrix called mat\n",
    "# with 3 rows, TRUE, to let R know to enter these elements (side to side)\n",
    "mat <- matrix(c(1,2,3,4,5,6,7,8,9), nrow=3, byrow=TRUE)\n",
    "mat"
   ]
  },
  {
   "cell_type": "code",
   "execution_count": 37,
   "id": "61fb311d-2f12-424b-9355-21c39e1afac1",
   "metadata": {},
   "outputs": [
    {
     "data": {
      "text/html": [
       "2"
      ],
      "text/latex": [
       "2"
      ],
      "text/markdown": [
       "2"
      ],
      "text/plain": [
       "[1] 2"
      ]
     },
     "metadata": {},
     "output_type": "display_data"
    }
   ],
   "source": [
    "# extract element 1st row and 2nd column\n",
    "mat[1,2]"
   ]
  },
  {
   "cell_type": "code",
   "execution_count": 38,
   "id": "f6d3ee2e-9b35-41e4-9db8-31fdbaf2d832",
   "metadata": {},
   "outputs": [
    {
     "data": {
      "text/html": [
       "<style>\n",
       ".list-inline {list-style: none; margin:0; padding: 0}\n",
       ".list-inline>li {display: inline-block}\n",
       ".list-inline>li:not(:last-child)::after {content: \"\\00b7\"; padding: 0 .5ex}\n",
       "</style>\n",
       "<ol class=list-inline><li>2</li><li>8</li></ol>\n"
      ],
      "text/latex": [
       "\\begin{enumerate*}\n",
       "\\item 2\n",
       "\\item 8\n",
       "\\end{enumerate*}\n"
      ],
      "text/markdown": [
       "1. 2\n",
       "2. 8\n",
       "\n",
       "\n"
      ],
      "text/plain": [
       "[1] 2 8"
      ]
     },
     "metadata": {},
     "output_type": "display_data"
    }
   ],
   "source": [
    "# extract elements 1st and 3rd row and 2nd column\n",
    "mat[c(1,3),2]"
   ]
  },
  {
   "cell_type": "code",
   "execution_count": 39,
   "id": "39ea465e-4faf-4ce4-adc1-6918e26ceefb",
   "metadata": {},
   "outputs": [
    {
     "data": {
      "text/html": [
       "<style>\n",
       ".list-inline {list-style: none; margin:0; padding: 0}\n",
       ".list-inline>li {display: inline-block}\n",
       ".list-inline>li:not(:last-child)::after {content: \"\\00b7\"; padding: 0 .5ex}\n",
       "</style>\n",
       "<ol class=list-inline><li>4</li><li>5</li><li>6</li></ol>\n"
      ],
      "text/latex": [
       "\\begin{enumerate*}\n",
       "\\item 4\n",
       "\\item 5\n",
       "\\item 6\n",
       "\\end{enumerate*}\n"
      ],
      "text/markdown": [
       "1. 4\n",
       "2. 5\n",
       "3. 6\n",
       "\n",
       "\n"
      ],
      "text/plain": [
       "[1] 4 5 6"
      ]
     },
     "metadata": {},
     "output_type": "display_data"
    }
   ],
   "source": [
    "# extract all row 2, all columns (all elements in row 2)\n",
    "mat[2,]"
   ]
  },
  {
   "cell_type": "code",
   "execution_count": 40,
   "id": "f3afb2dd-fdfd-492d-8584-242b011f0bc9",
   "metadata": {},
   "outputs": [
    {
     "data": {
      "text/html": [
       "<style>\n",
       ".list-inline {list-style: none; margin:0; padding: 0}\n",
       ".list-inline>li {display: inline-block}\n",
       ".list-inline>li:not(:last-child)::after {content: \"\\00b7\"; padding: 0 .5ex}\n",
       "</style>\n",
       "<ol class=list-inline><li>1</li><li>4</li><li>7</li></ol>\n"
      ],
      "text/latex": [
       "\\begin{enumerate*}\n",
       "\\item 1\n",
       "\\item 4\n",
       "\\item 7\n",
       "\\end{enumerate*}\n"
      ],
      "text/markdown": [
       "1. 1\n",
       "2. 4\n",
       "3. 7\n",
       "\n",
       "\n"
      ],
      "text/plain": [
       "[1] 1 4 7"
      ]
     },
     "metadata": {},
     "output_type": "display_data"
    }
   ],
   "source": [
    "# extract all row 1, all columns (all elements in row 1)\n",
    "mat[,1]"
   ]
  },
  {
   "cell_type": "code",
   "execution_count": 41,
   "id": "c40a89a2-f234-4dbc-b408-aee8fb7d45fc",
   "metadata": {},
   "outputs": [
    {
     "data": {
      "text/html": [
       "<table class=\"dataframe\">\n",
       "<caption>A matrix: 3 × 3 of type dbl</caption>\n",
       "<tbody>\n",
       "\t<tr><td>10</td><td>20</td><td>30</td></tr>\n",
       "\t<tr><td>40</td><td>50</td><td>60</td></tr>\n",
       "\t<tr><td>70</td><td>80</td><td>90</td></tr>\n",
       "</tbody>\n",
       "</table>\n"
      ],
      "text/latex": [
       "A matrix: 3 × 3 of type dbl\n",
       "\\begin{tabular}{lll}\n",
       "\t 10 & 20 & 30\\\\\n",
       "\t 40 & 50 & 60\\\\\n",
       "\t 70 & 80 & 90\\\\\n",
       "\\end{tabular}\n"
      ],
      "text/markdown": [
       "\n",
       "A matrix: 3 × 3 of type dbl\n",
       "\n",
       "| 10 | 20 | 30 |\n",
       "| 40 | 50 | 60 |\n",
       "| 70 | 80 | 90 |\n",
       "\n"
      ],
      "text/plain": [
       "     [,1] [,2] [,3]\n",
       "[1,] 10   20   30  \n",
       "[2,] 40   50   60  \n",
       "[3,] 70   80   90  "
      ]
     },
     "metadata": {},
     "output_type": "display_data"
    }
   ],
   "source": [
    "# you can take the martix and (+,-,*,/) the entire matrix\n",
    "mat * 10"
   ]
  },
  {
   "cell_type": "code",
   "execution_count": 42,
   "id": "7c2574eb-63cd-4308-832f-42828a4983f3",
   "metadata": {},
   "outputs": [
    {
     "data": {
      "text/html": [
       "<table class=\"dataframe\">\n",
       "<caption>A matrix: 3 × 3 of type dbl</caption>\n",
       "<tbody>\n",
       "\t<tr><td>3</td><td> 4</td><td> 5</td></tr>\n",
       "\t<tr><td>6</td><td> 7</td><td> 8</td></tr>\n",
       "\t<tr><td>9</td><td>10</td><td>11</td></tr>\n",
       "</tbody>\n",
       "</table>\n"
      ],
      "text/latex": [
       "A matrix: 3 × 3 of type dbl\n",
       "\\begin{tabular}{lll}\n",
       "\t 3 &  4 &  5\\\\\n",
       "\t 6 &  7 &  8\\\\\n",
       "\t 9 & 10 & 11\\\\\n",
       "\\end{tabular}\n"
      ],
      "text/markdown": [
       "\n",
       "A matrix: 3 × 3 of type dbl\n",
       "\n",
       "| 3 |  4 |  5 |\n",
       "| 6 |  7 |  8 |\n",
       "| 9 | 10 | 11 |\n",
       "\n"
      ],
      "text/plain": [
       "     [,1] [,2] [,3]\n",
       "[1,] 3     4    5  \n",
       "[2,] 6     7    8  \n",
       "[3,] 9    10   11  "
      ]
     },
     "metadata": {},
     "output_type": "display_data"
    }
   ],
   "source": [
    "mat + 2"
   ]
  },
  {
   "cell_type": "code",
   "execution_count": 43,
   "id": "74c15df4-56ec-44ca-a90f-f9ecc31acd33",
   "metadata": {},
   "outputs": [
    {
     "data": {
      "text/html": [
       "<table class=\"dataframe\">\n",
       "<caption>A matrix: 3 × 3 of type dbl</caption>\n",
       "<tbody>\n",
       "\t<tr><td>-2.3</td><td>-1.3</td><td>-0.3</td></tr>\n",
       "\t<tr><td> 0.7</td><td> 1.7</td><td> 2.7</td></tr>\n",
       "\t<tr><td> 3.7</td><td> 4.7</td><td> 5.7</td></tr>\n",
       "</tbody>\n",
       "</table>\n"
      ],
      "text/latex": [
       "A matrix: 3 × 3 of type dbl\n",
       "\\begin{tabular}{lll}\n",
       "\t -2.3 & -1.3 & -0.3\\\\\n",
       "\t  0.7 &  1.7 &  2.7\\\\\n",
       "\t  3.7 &  4.7 &  5.7\\\\\n",
       "\\end{tabular}\n"
      ],
      "text/markdown": [
       "\n",
       "A matrix: 3 × 3 of type dbl\n",
       "\n",
       "| -2.3 | -1.3 | -0.3 |\n",
       "|  0.7 |  1.7 |  2.7 |\n",
       "|  3.7 |  4.7 |  5.7 |\n",
       "\n"
      ],
      "text/plain": [
       "     [,1] [,2] [,3]\n",
       "[1,] -2.3 -1.3 -0.3\n",
       "[2,]  0.7  1.7  2.7\n",
       "[3,]  3.7  4.7  5.7"
      ]
     },
     "metadata": {},
     "output_type": "display_data"
    }
   ],
   "source": [
    "mat - 3.3"
   ]
  },
  {
   "cell_type": "code",
   "execution_count": 44,
   "id": "83c67c6e-1c89-48c7-9590-3199c1cd9023",
   "metadata": {},
   "outputs": [
    {
     "data": {
      "text/html": [
       "<table class=\"dataframe\">\n",
       "<caption>A matrix: 3 × 3 of type dbl</caption>\n",
       "<tbody>\n",
       "\t<tr><td> 1.428571</td><td> 2.857143</td><td> 4.285714</td></tr>\n",
       "\t<tr><td> 5.714286</td><td> 7.142857</td><td> 8.571429</td></tr>\n",
       "\t<tr><td>10.000000</td><td>11.428571</td><td>12.857143</td></tr>\n",
       "</tbody>\n",
       "</table>\n"
      ],
      "text/latex": [
       "A matrix: 3 × 3 of type dbl\n",
       "\\begin{tabular}{lll}\n",
       "\t  1.428571 &  2.857143 &  4.285714\\\\\n",
       "\t  5.714286 &  7.142857 &  8.571429\\\\\n",
       "\t 10.000000 & 11.428571 & 12.857143\\\\\n",
       "\\end{tabular}\n"
      ],
      "text/markdown": [
       "\n",
       "A matrix: 3 × 3 of type dbl\n",
       "\n",
       "|  1.428571 |  2.857143 |  4.285714 |\n",
       "|  5.714286 |  7.142857 |  8.571429 |\n",
       "| 10.000000 | 11.428571 | 12.857143 |\n",
       "\n"
      ],
      "text/plain": [
       "     [,1]      [,2]      [,3]     \n",
       "[1,]  1.428571  2.857143  4.285714\n",
       "[2,]  5.714286  7.142857  8.571429\n",
       "[3,] 10.000000 11.428571 12.857143"
      ]
     },
     "metadata": {},
     "output_type": "display_data"
    }
   ],
   "source": [
    "mat / 0.7"
   ]
  },
  {
   "cell_type": "code",
   "execution_count": null,
   "id": "b26af76d-0012-4dd7-a938-26fcf85e270a",
   "metadata": {},
   "outputs": [],
   "source": []
  }
 ],
 "metadata": {
  "kernelspec": {
   "display_name": "R",
   "language": "R",
   "name": "ir"
  },
  "language_info": {
   "codemirror_mode": "r",
   "file_extension": ".r",
   "mimetype": "text/x-r-source",
   "name": "R",
   "pygments_lexer": "r",
   "version": "4.2.1"
  }
 },
 "nbformat": 4,
 "nbformat_minor": 5
}
