{
 "cells": [
  {
   "cell_type": "markdown",
   "id": "7f6b8ba2",
   "metadata": {},
   "source": [
    "### DS102-L7-Hands-on-Helper\n",
    "### Respectfully please do not copy and paste from this notebook. Consequence will be  to receive a lovely 0 :) We really want these notebooks to be a help to you to understand the concepts but for you to do your own work:)"
   ]
  },
  {
   "cell_type": "code",
   "execution_count": 1,
   "id": "de9aed0a",
   "metadata": {},
   "outputs": [],
   "source": [
    "### This notebook is meant to help you understand\n",
    "### the Lesson 7 hands on!! "
   ]
  },
  {
   "cell_type": "code",
   "execution_count": 2,
   "id": "d467e470",
   "metadata": {},
   "outputs": [],
   "source": [
    "### Lesson 7 uses a built in dataset which means the\n",
    "### data is already for you and you don't have to load\n",
    "### it in!"
   ]
  },
  {
   "cell_type": "code",
   "execution_count": 3,
   "id": "69b0d70c",
   "metadata": {},
   "outputs": [],
   "source": [
    "### We will use a build in dataset on plants!!!"
   ]
  },
  {
   "cell_type": "markdown",
   "id": "ff40a514",
   "metadata": {},
   "source": [
    "<img srcset=\"https://cdn.pixabay.com/photo/2017/11/28/10/23/nature-2983254_960_720.jpg 1x, https://cdn.pixabay.com/photo/2017/11/28/10/23/nature-2983254_1280.jpg 2x\" src=\"https://cdn.pixabay.com/photo/2017/11/28/10/23/nature-2983254_960_720.jpg\" alt=\"Free photos of Nature\" width=\"960\" height=\"720.0000000000018\" style=\"height: auto\">"
   ]
  },
  {
   "cell_type": "markdown",
   "id": "6379cb50",
   "metadata": {},
   "source": [
    "So the PlantGrowth dataset has 3 groups in it, the control group, treatment1, and treatment2. Here we will be comparing treatment1 to treatment2."
   ]
  },
  {
   "cell_type": "markdown",
   "id": "47f3c86a",
   "metadata": {},
   "source": [
    "First let's run a code in R to view our built-in dataset of PlantGrowth:"
   ]
  },
  {
   "cell_type": "code",
   "execution_count": 4,
   "id": "34ecfad3",
   "metadata": {},
   "outputs": [
    {
     "data": {
      "text/html": [
       "<table class=\"dataframe\">\n",
       "<caption>A data.frame: 30 × 2</caption>\n",
       "<thead>\n",
       "\t<tr><th scope=col>weight</th><th scope=col>group</th></tr>\n",
       "\t<tr><th scope=col>&lt;dbl&gt;</th><th scope=col>&lt;fct&gt;</th></tr>\n",
       "</thead>\n",
       "<tbody>\n",
       "\t<tr><td>4.17</td><td>ctrl</td></tr>\n",
       "\t<tr><td>5.58</td><td>ctrl</td></tr>\n",
       "\t<tr><td>5.18</td><td>ctrl</td></tr>\n",
       "\t<tr><td>6.11</td><td>ctrl</td></tr>\n",
       "\t<tr><td>4.50</td><td>ctrl</td></tr>\n",
       "\t<tr><td>4.61</td><td>ctrl</td></tr>\n",
       "\t<tr><td>5.17</td><td>ctrl</td></tr>\n",
       "\t<tr><td>4.53</td><td>ctrl</td></tr>\n",
       "\t<tr><td>5.33</td><td>ctrl</td></tr>\n",
       "\t<tr><td>5.14</td><td>ctrl</td></tr>\n",
       "\t<tr><td>4.81</td><td>trt1</td></tr>\n",
       "\t<tr><td>4.17</td><td>trt1</td></tr>\n",
       "\t<tr><td>4.41</td><td>trt1</td></tr>\n",
       "\t<tr><td>3.59</td><td>trt1</td></tr>\n",
       "\t<tr><td>5.87</td><td>trt1</td></tr>\n",
       "\t<tr><td>3.83</td><td>trt1</td></tr>\n",
       "\t<tr><td>6.03</td><td>trt1</td></tr>\n",
       "\t<tr><td>4.89</td><td>trt1</td></tr>\n",
       "\t<tr><td>4.32</td><td>trt1</td></tr>\n",
       "\t<tr><td>4.69</td><td>trt1</td></tr>\n",
       "\t<tr><td>6.31</td><td>trt2</td></tr>\n",
       "\t<tr><td>5.12</td><td>trt2</td></tr>\n",
       "\t<tr><td>5.54</td><td>trt2</td></tr>\n",
       "\t<tr><td>5.50</td><td>trt2</td></tr>\n",
       "\t<tr><td>5.37</td><td>trt2</td></tr>\n",
       "\t<tr><td>5.29</td><td>trt2</td></tr>\n",
       "\t<tr><td>4.92</td><td>trt2</td></tr>\n",
       "\t<tr><td>6.15</td><td>trt2</td></tr>\n",
       "\t<tr><td>5.80</td><td>trt2</td></tr>\n",
       "\t<tr><td>5.26</td><td>trt2</td></tr>\n",
       "</tbody>\n",
       "</table>\n"
      ],
      "text/latex": [
       "A data.frame: 30 × 2\n",
       "\\begin{tabular}{ll}\n",
       " weight & group\\\\\n",
       " <dbl> & <fct>\\\\\n",
       "\\hline\n",
       "\t 4.17 & ctrl\\\\\n",
       "\t 5.58 & ctrl\\\\\n",
       "\t 5.18 & ctrl\\\\\n",
       "\t 6.11 & ctrl\\\\\n",
       "\t 4.50 & ctrl\\\\\n",
       "\t 4.61 & ctrl\\\\\n",
       "\t 5.17 & ctrl\\\\\n",
       "\t 4.53 & ctrl\\\\\n",
       "\t 5.33 & ctrl\\\\\n",
       "\t 5.14 & ctrl\\\\\n",
       "\t 4.81 & trt1\\\\\n",
       "\t 4.17 & trt1\\\\\n",
       "\t 4.41 & trt1\\\\\n",
       "\t 3.59 & trt1\\\\\n",
       "\t 5.87 & trt1\\\\\n",
       "\t 3.83 & trt1\\\\\n",
       "\t 6.03 & trt1\\\\\n",
       "\t 4.89 & trt1\\\\\n",
       "\t 4.32 & trt1\\\\\n",
       "\t 4.69 & trt1\\\\\n",
       "\t 6.31 & trt2\\\\\n",
       "\t 5.12 & trt2\\\\\n",
       "\t 5.54 & trt2\\\\\n",
       "\t 5.50 & trt2\\\\\n",
       "\t 5.37 & trt2\\\\\n",
       "\t 5.29 & trt2\\\\\n",
       "\t 4.92 & trt2\\\\\n",
       "\t 6.15 & trt2\\\\\n",
       "\t 5.80 & trt2\\\\\n",
       "\t 5.26 & trt2\\\\\n",
       "\\end{tabular}\n"
      ],
      "text/markdown": [
       "\n",
       "A data.frame: 30 × 2\n",
       "\n",
       "| weight &lt;dbl&gt; | group &lt;fct&gt; |\n",
       "|---|---|\n",
       "| 4.17 | ctrl |\n",
       "| 5.58 | ctrl |\n",
       "| 5.18 | ctrl |\n",
       "| 6.11 | ctrl |\n",
       "| 4.50 | ctrl |\n",
       "| 4.61 | ctrl |\n",
       "| 5.17 | ctrl |\n",
       "| 4.53 | ctrl |\n",
       "| 5.33 | ctrl |\n",
       "| 5.14 | ctrl |\n",
       "| 4.81 | trt1 |\n",
       "| 4.17 | trt1 |\n",
       "| 4.41 | trt1 |\n",
       "| 3.59 | trt1 |\n",
       "| 5.87 | trt1 |\n",
       "| 3.83 | trt1 |\n",
       "| 6.03 | trt1 |\n",
       "| 4.89 | trt1 |\n",
       "| 4.32 | trt1 |\n",
       "| 4.69 | trt1 |\n",
       "| 6.31 | trt2 |\n",
       "| 5.12 | trt2 |\n",
       "| 5.54 | trt2 |\n",
       "| 5.50 | trt2 |\n",
       "| 5.37 | trt2 |\n",
       "| 5.29 | trt2 |\n",
       "| 4.92 | trt2 |\n",
       "| 6.15 | trt2 |\n",
       "| 5.80 | trt2 |\n",
       "| 5.26 | trt2 |\n",
       "\n"
      ],
      "text/plain": [
       "   weight group\n",
       "1  4.17   ctrl \n",
       "2  5.58   ctrl \n",
       "3  5.18   ctrl \n",
       "4  6.11   ctrl \n",
       "5  4.50   ctrl \n",
       "6  4.61   ctrl \n",
       "7  5.17   ctrl \n",
       "8  4.53   ctrl \n",
       "9  5.33   ctrl \n",
       "10 5.14   ctrl \n",
       "11 4.81   trt1 \n",
       "12 4.17   trt1 \n",
       "13 4.41   trt1 \n",
       "14 3.59   trt1 \n",
       "15 5.87   trt1 \n",
       "16 3.83   trt1 \n",
       "17 6.03   trt1 \n",
       "18 4.89   trt1 \n",
       "19 4.32   trt1 \n",
       "20 4.69   trt1 \n",
       "21 6.31   trt2 \n",
       "22 5.12   trt2 \n",
       "23 5.54   trt2 \n",
       "24 5.50   trt2 \n",
       "25 5.37   trt2 \n",
       "26 5.29   trt2 \n",
       "27 4.92   trt2 \n",
       "28 6.15   trt2 \n",
       "29 5.80   trt2 \n",
       "30 5.26   trt2 "
      ]
     },
     "metadata": {},
     "output_type": "display_data"
    }
   ],
   "source": [
    "View(PlantGrowth)"
   ]
  },
  {
   "cell_type": "markdown",
   "id": "b05d353a",
   "metadata": {},
   "source": [
    "Above we can see our data. "
   ]
  },
  {
   "cell_type": "markdown",
   "id": "287895db",
   "metadata": {},
   "source": [
    "### What I am showing you below is not necessary for your hands on, but will explain more of what we are doing and be nice to be exposed to. However, if you like to skip this section you can, Ill let you know when you want to pick it up again:)"
   ]
  },
  {
   "cell_type": "markdown",
   "id": "839d247b",
   "metadata": {},
   "source": [
    "To view our number of columns/rows:"
   ]
  },
  {
   "cell_type": "code",
   "execution_count": 18,
   "id": "34c601e6",
   "metadata": {},
   "outputs": [
    {
     "data": {
      "text/html": [
       "2"
      ],
      "text/latex": [
       "2"
      ],
      "text/markdown": [
       "2"
      ],
      "text/plain": [
       "[1] 2"
      ]
     },
     "metadata": {},
     "output_type": "display_data"
    }
   ],
   "source": [
    "#number of columns uses ncol() function and in the () you place the dataset name\n",
    "ncol(PlantGrowth)"
   ]
  },
  {
   "cell_type": "code",
   "execution_count": 19,
   "id": "7104be6f",
   "metadata": {},
   "outputs": [
    {
     "data": {
      "text/html": [
       "30"
      ],
      "text/latex": [
       "30"
      ],
      "text/markdown": [
       "30"
      ],
      "text/plain": [
       "[1] 30"
      ]
     },
     "metadata": {},
     "output_type": "display_data"
    }
   ],
   "source": [
    "#number of rows uses nrow() function and in the () you place the dataset name\n",
    "nrow(PlantGrowth)"
   ]
  },
  {
   "cell_type": "code",
   "execution_count": 16,
   "id": "6b0f9627",
   "metadata": {},
   "outputs": [],
   "source": [
    "#I don't like to see the pink messages when I load libraries so I use this code:\n",
    "suppressPackageStartupMessages(library(dplyr))"
   ]
  },
  {
   "cell_type": "code",
   "execution_count": 20,
   "id": "e4695d61",
   "metadata": {},
   "outputs": [
    {
     "data": {
      "text/html": [
       "<table class=\"dataframe\">\n",
       "<caption>A data.frame: 3 × 2</caption>\n",
       "<thead>\n",
       "\t<tr><th scope=col>group</th><th scope=col>n</th></tr>\n",
       "\t<tr><th scope=col>&lt;fct&gt;</th><th scope=col>&lt;int&gt;</th></tr>\n",
       "</thead>\n",
       "<tbody>\n",
       "\t<tr><td>ctrl</td><td>10</td></tr>\n",
       "\t<tr><td>trt1</td><td>10</td></tr>\n",
       "\t<tr><td>trt2</td><td>10</td></tr>\n",
       "</tbody>\n",
       "</table>\n"
      ],
      "text/latex": [
       "A data.frame: 3 × 2\n",
       "\\begin{tabular}{ll}\n",
       " group & n\\\\\n",
       " <fct> & <int>\\\\\n",
       "\\hline\n",
       "\t ctrl & 10\\\\\n",
       "\t trt1 & 10\\\\\n",
       "\t trt2 & 10\\\\\n",
       "\\end{tabular}\n"
      ],
      "text/markdown": [
       "\n",
       "A data.frame: 3 × 2\n",
       "\n",
       "| group &lt;fct&gt; | n &lt;int&gt; |\n",
       "|---|---|\n",
       "| ctrl | 10 |\n",
       "| trt1 | 10 |\n",
       "| trt2 | 10 |\n",
       "\n"
      ],
      "text/plain": [
       "  group n \n",
       "1 ctrl  10\n",
       "2 trt1  10\n",
       "3 trt2  10"
      ]
     },
     "metadata": {},
     "output_type": "display_data"
    }
   ],
   "source": [
    "#The reason I am running this code below is because I know we want to do a dependent t test\n",
    "#To do this test we need to have the groups equal in number so by running the count of each\n",
    "#group I can see that our groups are even, see below how we have 10 of each? 10 of the ctrl,\n",
    "#10 of trt1, and 10 of trt2. Now we know we can create our vectors and they will be of the\n",
    "#same length! woo hoo!\n",
    "PlantGrowth %>% count(group)"
   ]
  },
  {
   "cell_type": "markdown",
   "id": "d667b581",
   "metadata": {},
   "source": [
    "### Ok start back here if you skipped the last section!"
   ]
  },
  {
   "cell_type": "markdown",
   "id": "4653c8ea",
   "metadata": {},
   "source": [
    "We are going to create two vectors just like in your hands on:"
   ]
  },
  {
   "cell_type": "code",
   "execution_count": 23,
   "id": "600f2f5d",
   "metadata": {},
   "outputs": [],
   "source": [
    "Trt1 <- PlantGrowth[11:20,]\n",
    "Trt2 <- PlantGrowth[21:30,]"
   ]
  },
  {
   "cell_type": "code",
   "execution_count": 29,
   "id": "bf379414",
   "metadata": {},
   "outputs": [
    {
     "data": {
      "text/html": [
       "<table class=\"dataframe\">\n",
       "<caption>A data.frame: 10 × 2</caption>\n",
       "<thead>\n",
       "\t<tr><th></th><th scope=col>weight</th><th scope=col>group</th></tr>\n",
       "\t<tr><th></th><th scope=col>&lt;dbl&gt;</th><th scope=col>&lt;fct&gt;</th></tr>\n",
       "</thead>\n",
       "<tbody>\n",
       "\t<tr><th scope=row>11</th><td>4.81</td><td>trt1</td></tr>\n",
       "\t<tr><th scope=row>12</th><td>4.17</td><td>trt1</td></tr>\n",
       "\t<tr><th scope=row>13</th><td>4.41</td><td>trt1</td></tr>\n",
       "\t<tr><th scope=row>14</th><td>3.59</td><td>trt1</td></tr>\n",
       "\t<tr><th scope=row>15</th><td>5.87</td><td>trt1</td></tr>\n",
       "\t<tr><th scope=row>16</th><td>3.83</td><td>trt1</td></tr>\n",
       "\t<tr><th scope=row>17</th><td>6.03</td><td>trt1</td></tr>\n",
       "\t<tr><th scope=row>18</th><td>4.89</td><td>trt1</td></tr>\n",
       "\t<tr><th scope=row>19</th><td>4.32</td><td>trt1</td></tr>\n",
       "\t<tr><th scope=row>20</th><td>4.69</td><td>trt1</td></tr>\n",
       "</tbody>\n",
       "</table>\n"
      ],
      "text/latex": [
       "A data.frame: 10 × 2\n",
       "\\begin{tabular}{r|ll}\n",
       "  & weight & group\\\\\n",
       "  & <dbl> & <fct>\\\\\n",
       "\\hline\n",
       "\t11 & 4.81 & trt1\\\\\n",
       "\t12 & 4.17 & trt1\\\\\n",
       "\t13 & 4.41 & trt1\\\\\n",
       "\t14 & 3.59 & trt1\\\\\n",
       "\t15 & 5.87 & trt1\\\\\n",
       "\t16 & 3.83 & trt1\\\\\n",
       "\t17 & 6.03 & trt1\\\\\n",
       "\t18 & 4.89 & trt1\\\\\n",
       "\t19 & 4.32 & trt1\\\\\n",
       "\t20 & 4.69 & trt1\\\\\n",
       "\\end{tabular}\n"
      ],
      "text/markdown": [
       "\n",
       "A data.frame: 10 × 2\n",
       "\n",
       "| <!--/--> | weight &lt;dbl&gt; | group &lt;fct&gt; |\n",
       "|---|---|---|\n",
       "| 11 | 4.81 | trt1 |\n",
       "| 12 | 4.17 | trt1 |\n",
       "| 13 | 4.41 | trt1 |\n",
       "| 14 | 3.59 | trt1 |\n",
       "| 15 | 5.87 | trt1 |\n",
       "| 16 | 3.83 | trt1 |\n",
       "| 17 | 6.03 | trt1 |\n",
       "| 18 | 4.89 | trt1 |\n",
       "| 19 | 4.32 | trt1 |\n",
       "| 20 | 4.69 | trt1 |\n",
       "\n"
      ],
      "text/plain": [
       "   weight group\n",
       "11 4.81   trt1 \n",
       "12 4.17   trt1 \n",
       "13 4.41   trt1 \n",
       "14 3.59   trt1 \n",
       "15 5.87   trt1 \n",
       "16 3.83   trt1 \n",
       "17 6.03   trt1 \n",
       "18 4.89   trt1 \n",
       "19 4.32   trt1 \n",
       "20 4.69   trt1 "
      ]
     },
     "metadata": {},
     "output_type": "display_data"
    }
   ],
   "source": [
    "#The reason I am viewing this is to show you this is slightly \n",
    "#different than your hands on data! Do you see how it has \n",
    "#another column there? So we will do something slightly \n",
    "#different below in our t test\n",
    "View(Trt1)"
   ]
  },
  {
   "cell_type": "markdown",
   "id": "6136db51",
   "metadata": {},
   "source": [
    "In your hands on you will use the vectors they give you. This is extremely similar!"
   ]
  },
  {
   "cell_type": "markdown",
   "id": "c3e8a01c",
   "metadata": {},
   "source": [
    "### Now we have our vectors we can do the appropriate t test!"
   ]
  },
  {
   "cell_type": "markdown",
   "id": "08f734e1",
   "metadata": {},
   "source": [
    "If you have not already, read your hands on and try to guess what test you are going to do! Then come back and continue here:)"
   ]
  },
  {
   "cell_type": "markdown",
   "id": "6dddab75",
   "metadata": {},
   "source": [
    "So we will be comparing two related groups of equal length! hint! Dependent t test!"
   ]
  },
  {
   "cell_type": "markdown",
   "id": "9ad4e09e",
   "metadata": {},
   "source": [
    "Before we dive into the test, let's review the null and alternative hypothesis!"
   ]
  },
  {
   "cell_type": "markdown",
   "id": "5dd03f4c",
   "metadata": {},
   "source": [
    "Null is essentially stating that two groups of comparison are the same. The alternative hypothesis is saying that the two groups in question are indeed not the same, but rather significantly different!\n",
    "(Don't copy and paste that ! :))"
   ]
  },
  {
   "cell_type": "markdown",
   "id": "c7fb69ad",
   "metadata": {},
   "source": [
    "Then we will run our test for our p value which we will use to determine if we should reject the null or accept the null. If p < .05 reject the null, if p > .05 accept the null!"
   ]
  },
  {
   "cell_type": "markdown",
   "id": "0c41de75",
   "metadata": {},
   "source": [
    "Here I am doing the dependent t test from page 4 in your LMS"
   ]
  },
  {
   "cell_type": "code",
   "execution_count": 28,
   "id": "c5661a78",
   "metadata": {},
   "outputs": [
    {
     "data": {
      "text/plain": [
       "\n",
       "\tPaired t-test\n",
       "\n",
       "data:  Trt1$weight and Trt2$weight\n",
       "t = -2.8464, df = 9, p-value = 0.0192\n",
       "alternative hypothesis: true difference in means is not equal to 0\n",
       "95 percent confidence interval:\n",
       " -1.5524646 -0.1775354\n",
       "sample estimates:\n",
       "mean of the differences \n",
       "                 -0.865 \n"
      ]
     },
     "metadata": {},
     "output_type": "display_data"
    }
   ],
   "source": [
    "# first you name it, ours is called the same as the lesson to \n",
    "# avoid confusion. Then we use the t.test() function\n",
    "# next we need to place our vectors! \n",
    "# paired= True is because this is a dependent test\n",
    "\n",
    "t_dep <- t.test(Trt1$weight, Trt2$weight, paired = TRUE)\n",
    "t_dep"
   ]
  },
  {
   "cell_type": "markdown",
   "id": "60ddc710",
   "metadata": {},
   "source": [
    "### Hold on one minute!"
   ]
  },
  {
   "cell_type": "markdown",
   "id": "045fef3c",
   "metadata": {},
   "source": [
    "Ok so you can see above the t test is like the example in the lesson on page 4. \n",
    "### However:"
   ]
  },
  {
   "cell_type": "markdown",
   "id": "aece087d",
   "metadata": {},
   "source": [
    "### Really IMPORTANT"
   ]
  },
  {
   "cell_type": "markdown",
   "id": "67c1a59a",
   "metadata": {},
   "source": [
    "In your hands on, the dataset doesn't have extra columns it only has the one numeric column so when the vector is created, that is all that is needed to represent the data. \n",
    "That being said, FOR YOUR HANDS ON YOU DO NOT NEED TO USE THE $ with a column after because you don't have any other \n",
    "columns there and the vectors are already separating the data into the groups you will want to use! So you will use name of vector one, name of vector 2 Ill illustrate below:"
   ]
  },
  {
   "cell_type": "code",
   "execution_count": 30,
   "id": "3adb283f",
   "metadata": {},
   "outputs": [],
   "source": [
    "# t_dep <- t.test(VECTOR1, VECTOR2, paired = TRUE)\n",
    "# t_dep"
   ]
  },
  {
   "cell_type": "markdown",
   "id": "7d5d95ec",
   "metadata": {},
   "source": [
    "So above you will use that format and place the name of the\n",
    "first vector in the spot of VECTOR1 and the name of the second\n",
    "vector in place of VECTOR2 then run it ! And you will see your p value."
   ]
  },
  {
   "cell_type": "markdown",
   "id": "c8ab4dfa",
   "metadata": {},
   "source": [
    "Ok NOW going back up to view our results here we see that our p value was  0.0192, so is that significant or not? Would you reject the null or accept it?\n",
    "\n",
    "pvalue < .05 so we will reject the null!"
   ]
  },
  {
   "cell_type": "code",
   "execution_count": 31,
   "id": "dff6ddda",
   "metadata": {},
   "outputs": [],
   "source": [
    "#Hope this example was helpful to you!! <3 Mia"
   ]
  }
 ],
 "metadata": {
  "kernelspec": {
   "display_name": "R",
   "language": "R",
   "name": "ir"
  },
  "language_info": {
   "codemirror_mode": "r",
   "file_extension": ".r",
   "mimetype": "text/x-r-source",
   "name": "R",
   "pygments_lexer": "r",
   "version": "4.1.2"
  }
 },
 "nbformat": 4,
 "nbformat_minor": 5
}
