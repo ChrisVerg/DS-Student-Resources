{
 "cells": [
  {
   "cell_type": "markdown",
   "id": "701c6664-c3af-4538-bac7-f1a5cc1826cd",
   "metadata": {},
   "source": [
    "# DS102 Questions\n",
    "\n",
    "## Lesson 1\n",
    "\n",
    "## Page 7"
   ]
  },
  {
   "cell_type": "code",
   "execution_count": 1,
   "id": "9fdc1222-3d73-42e1-b6bf-b95d73e3d8ff",
   "metadata": {},
   "outputs": [],
   "source": [
    "from DS_Students import *"
   ]
  },
  {
   "cell_type": "code",
   "execution_count": 2,
   "id": "cf433206-b1c6-41d7-86db-486d7cb4756e",
   "metadata": {},
   "outputs": [],
   "source": [
    "L1P7Q1 = MC('1. When evaluating a task, you should try to plan how to do everything in one step?',['A. True','B. False'],'B. False', cor='', incor='')\n",
    "L1P7Q2 = MC('2. When giving instructions you should:',['A. Think like a computer','B. Ask your friends how they would do it','C. Be precise'],'C. Be precise', cor='', incor='')\n",
    "L1P7Q3 = MC('3. What is a common tool that programmers use to plan out their programs?',['A. Email','B. Whiteboards','C. Reference books'],'B. Whiteboards', cor='', incor='')\n"
   ]
  },
  {
   "cell_type": "code",
   "execution_count": 3,
   "id": "6f20d99a-0d5d-482e-82a1-2adf01327726",
   "metadata": {},
   "outputs": [
    {
     "data": {
      "application/vnd.jupyter.widget-view+json": {
       "model_id": "5478cff07345427bbf87617b6fc576dc",
       "version_major": 2,
       "version_minor": 0
      },
      "text/plain": [
       "VBox(children=(Output(), RadioButtons(layout=Layout(width='max-content'), options=(('A. True', 0), ('B. False'…"
      ]
     },
     "metadata": {},
     "output_type": "display_data"
    },
    {
     "data": {
      "application/vnd.jupyter.widget-view+json": {
       "model_id": "c768a7bdb56f4f2bb5461459bae78bac",
       "version_major": 2,
       "version_minor": 0
      },
      "text/plain": [
       "VBox(children=(Output(), RadioButtons(layout=Layout(width='max-content'), options=(('A. Think like a computer'…"
      ]
     },
     "metadata": {},
     "output_type": "display_data"
    },
    {
     "data": {
      "application/vnd.jupyter.widget-view+json": {
       "model_id": "ca3c7e8935b142178aec791fa63c2857",
       "version_major": 2,
       "version_minor": 0
      },
      "text/plain": [
       "VBox(children=(Output(), RadioButtons(layout=Layout(width='max-content'), options=(('A. Email', 0), ('B. White…"
      ]
     },
     "metadata": {},
     "output_type": "display_data"
    }
   ],
   "source": [
    "if __name__ == \"__main__\":\n",
    "    display(L1P7Q1, L1P7Q2, L1P7Q3)"
   ]
  },
  {
   "cell_type": "markdown",
   "id": "59237b93-23a1-4511-9c47-069ff58089ca",
   "metadata": {},
   "source": [
    "## Page 9"
   ]
  },
  {
   "cell_type": "code",
   "execution_count": 4,
   "id": "9e09c0eb-06d1-440a-9c2a-4ced3fa16e4e",
   "metadata": {},
   "outputs": [],
   "source": [
    "L1P9Q1 = MC('1. Mistakes are:',['A. Inevitable','B. A valuble tool','C. Going to come in multiple types', 'D. All of the types'],'D. All of the above', cor='', incor='')\n",
    "L1P9Q2 = MC('2. A problem in code that cannot be detected by the computer is called a:',['A. Lie','B. Logical Error','C. Human Error', 'D. Exception'],'B. Logical Error', cor='', incor='')\n",
    "L1P9Q3 = MC('3. Imposter Syndrome is caused by:',['A. Lack of knowledge','B. Too much work','C. Not believing in your own success', 'D. Imperfect Code'],'C. Not believing in your own success', cor='', incor='')\n"
   ]
  },
  {
   "cell_type": "code",
   "execution_count": 5,
   "id": "395b4e32-213a-432c-8570-dba7e76bc602",
   "metadata": {},
   "outputs": [
    {
     "data": {
      "application/vnd.jupyter.widget-view+json": {
       "model_id": "60f1368a71bc4e1085ac91c99508801e",
       "version_major": 2,
       "version_minor": 0
      },
      "text/plain": [
       "VBox(children=(Output(), RadioButtons(layout=Layout(width='max-content'), options=(('A. Inevitable', 0), ('B. …"
      ]
     },
     "metadata": {},
     "output_type": "display_data"
    },
    {
     "data": {
      "application/vnd.jupyter.widget-view+json": {
       "model_id": "2e4e5dbbc592440b8e0472139c2b2c89",
       "version_major": 2,
       "version_minor": 0
      },
      "text/plain": [
       "VBox(children=(Output(), RadioButtons(layout=Layout(width='max-content'), options=(('A. Lie', 0), ('B. Logical…"
      ]
     },
     "metadata": {},
     "output_type": "display_data"
    },
    {
     "data": {
      "application/vnd.jupyter.widget-view+json": {
       "model_id": "392f42f66d914fffb63f8713973a1b3e",
       "version_major": 2,
       "version_minor": 0
      },
      "text/plain": [
       "VBox(children=(Output(), RadioButtons(layout=Layout(width='max-content'), options=(('A. Lack of knowledge', 0)…"
      ]
     },
     "metadata": {},
     "output_type": "display_data"
    }
   ],
   "source": [
    "if __name__ == \"__main__\":\n",
    "    display(L1P9Q1, L1P9Q2, L1P9Q3)"
   ]
  },
  {
   "cell_type": "markdown",
   "id": "214526dd-72ee-40d8-a2e5-41e165dcd951",
   "metadata": {},
   "source": [
    "# Lesson 2\n",
    "## Page 2"
   ]
  },
  {
   "cell_type": "code",
   "execution_count": 6,
   "id": "c8eb6a46-ef59-46c0-8adb-773a004ded82",
   "metadata": {},
   "outputs": [],
   "source": [
    "L2P2Q1 = MC('1. What is a package in R?',['A. Something delivered to your doorstep','B. An R extension that performs specialized tasks'],'B. An R extension that performs specialized tasks', cor='', incor='')\n",
    "L2P2Q2 = MC('2. How does R differ from other languages or programs?',['A. It is all point and click','B. It is a complete programming language and requires coding, but is specifically for statistics','C. It should be used for all-purpose programming','D. It is the only open-source programming language'],'B. It is a complete programming language and requires coding, but is specifically for statistics', cor='', incor='')\n"
   ]
  },
  {
   "cell_type": "code",
   "execution_count": 7,
   "id": "3adf2b8c-6d74-449d-abd7-f2ecd2cef18e",
   "metadata": {},
   "outputs": [
    {
     "data": {
      "application/vnd.jupyter.widget-view+json": {
       "model_id": "2b10e7a924b54d54a506deb136b99935",
       "version_major": 2,
       "version_minor": 0
      },
      "text/plain": [
       "VBox(children=(Output(), RadioButtons(layout=Layout(width='max-content'), options=(('A. Something delivered to…"
      ]
     },
     "metadata": {},
     "output_type": "display_data"
    },
    {
     "data": {
      "application/vnd.jupyter.widget-view+json": {
       "model_id": "ae72541487f642f8b4cf76cb40a9c7d2",
       "version_major": 2,
       "version_minor": 0
      },
      "text/plain": [
       "VBox(children=(Output(), RadioButtons(layout=Layout(width='max-content'), options=(('A. It is all point and cl…"
      ]
     },
     "metadata": {},
     "output_type": "display_data"
    }
   ],
   "source": [
    "if __name__ == \"__main__\":\n",
    "    display(L2P2Q1, L2P2Q2)"
   ]
  },
  {
   "cell_type": "markdown",
   "id": "fbd02314-2ef4-43be-aa7f-82453a99c3aa",
   "metadata": {},
   "source": [
    "## Page 5"
   ]
  },
  {
   "cell_type": "code",
   "execution_count": 8,
   "id": "d909d1fb-8f00-4e28-b8ed-31c3be525a4c",
   "metadata": {},
   "outputs": [],
   "source": [
    "L2P5Q1 = MC('1. True or False? - R is case sensitive',['A. True','B. False'],'A. True', cor='', incor='')\n"
   ]
  },
  {
   "cell_type": "code",
   "execution_count": 9,
   "id": "f3588f24-c559-4312-aa66-eede09862ecf",
   "metadata": {},
   "outputs": [
    {
     "data": {
      "application/vnd.jupyter.widget-view+json": {
       "model_id": "97c050acd47541cf98912956ccc53a1a",
       "version_major": 2,
       "version_minor": 0
      },
      "text/plain": [
       "VBox(children=(Output(), RadioButtons(layout=Layout(width='max-content'), options=(('A. True', 0), ('B. False'…"
      ]
     },
     "metadata": {},
     "output_type": "display_data"
    }
   ],
   "source": [
    "if __name__ == \"__main__\":\n",
    "    display(L2P5Q1)"
   ]
  },
  {
   "cell_type": "markdown",
   "id": "df98d83e-068f-4c77-997f-f751c2ffdc32",
   "metadata": {},
   "source": [
    "## Page 6"
   ]
  },
  {
   "cell_type": "code",
   "execution_count": 10,
   "id": "fc676259-53db-4155-a1ad-5df4e3eb6a81",
   "metadata": {},
   "outputs": [],
   "source": [
    "L2P6Q1 = MC('1. How do you scroll through previous console commands?',['A. With your mouse','B. Up and down arrow keys','C. Left and right arrow keys','D. Tab'],'B. Up and down arrow keys', cor='', incor='')\n",
    "L2P6Q2 = MC('2. How do you edit a previous command?',['A. Re-do all the work leading up to it','B. You will never edit, only re-run commands','C. Select the text, edit, and press enter','D. Use the up and down arrow keys'],'C. Select the text, edit, and press enter', cor='', incor='')\n"
   ]
  },
  {
   "cell_type": "code",
   "execution_count": 11,
   "id": "ab909ae5-8dce-49fa-906e-28fb1be8aa92",
   "metadata": {},
   "outputs": [
    {
     "data": {
      "application/vnd.jupyter.widget-view+json": {
       "model_id": "c0baed7b2ad74c23bccdb8169cde1b36",
       "version_major": 2,
       "version_minor": 0
      },
      "text/plain": [
       "VBox(children=(Output(), RadioButtons(layout=Layout(width='max-content'), options=(('A. With your mouse', 0), …"
      ]
     },
     "metadata": {},
     "output_type": "display_data"
    },
    {
     "data": {
      "application/vnd.jupyter.widget-view+json": {
       "model_id": "01490df2534f4dbf9a6f273f1bb130b8",
       "version_major": 2,
       "version_minor": 0
      },
      "text/plain": [
       "VBox(children=(Output(), RadioButtons(layout=Layout(width='max-content'), options=(('A. Re-do all the work lea…"
      ]
     },
     "metadata": {},
     "output_type": "display_data"
    }
   ],
   "source": [
    "if __name__ == \"__main__\":\n",
    "    display(L2P6Q1, L2P6Q2)"
   ]
  },
  {
   "cell_type": "markdown",
   "id": "7fc997ae-7d69-4ff0-ab4e-2dd8ce6b5133",
   "metadata": {},
   "source": [
    "## Page 7"
   ]
  },
  {
   "cell_type": "code",
   "execution_count": 12,
   "id": "8564a4ea-14b5-4b31-b8e0-95e2f4f9752c",
   "metadata": {},
   "outputs": [],
   "source": [
    "L2P7Q1 = MC('1. What is a script?',['A. A text editor specifically for saving R code','B. An all-purpose text editor','C. A terminal','D. Part of the Console'],'A. A text editor specifically for saving R code', cor='', incor='')\n",
    "L2P7Q2 = MC('2. Which is NOT a benefit of a script?',['A. Code runs as soon as you hit enter','B. Code completion','C. Ability to save and re-run code','D. Syntax highlighting'],'A. Code runs as soon as you hit enter', cor='', incor='')\n",
    "L2P7Q3 = MC('3. How is a script run?',['A. Run Button','B. Source Button','C. Hit Enter','D. Both A and B will work'],'D. Both A and B will work', cor='', incor='')\n"
   ]
  },
  {
   "cell_type": "code",
   "execution_count": 13,
   "id": "4eebcac4-f1bf-4b3e-9d67-b3ae080e71c2",
   "metadata": {},
   "outputs": [
    {
     "data": {
      "application/vnd.jupyter.widget-view+json": {
       "model_id": "605b7626eb344298ae4b6672244b73d8",
       "version_major": 2,
       "version_minor": 0
      },
      "text/plain": [
       "VBox(children=(Output(), RadioButtons(layout=Layout(width='max-content'), options=(('A. A text editor specific…"
      ]
     },
     "metadata": {},
     "output_type": "display_data"
    },
    {
     "data": {
      "application/vnd.jupyter.widget-view+json": {
       "model_id": "f7a98f2dd21948bf93596b71ad6b0734",
       "version_major": 2,
       "version_minor": 0
      },
      "text/plain": [
       "VBox(children=(Output(), RadioButtons(layout=Layout(width='max-content'), options=(('A. Code runs as soon as y…"
      ]
     },
     "metadata": {},
     "output_type": "display_data"
    },
    {
     "data": {
      "application/vnd.jupyter.widget-view+json": {
       "model_id": "5c03045a744c4b0b9f13e2b2bcf3750a",
       "version_major": 2,
       "version_minor": 0
      },
      "text/plain": [
       "VBox(children=(Output(), RadioButtons(layout=Layout(width='max-content'), options=(('A. Run Button', 0), ('B. …"
      ]
     },
     "metadata": {},
     "output_type": "display_data"
    }
   ],
   "source": [
    "if __name__ == \"__main__\":\n",
    "    display(L2P7Q1, L2P7Q2, L2P7Q3)"
   ]
  },
  {
   "cell_type": "markdown",
   "id": "9638bc87-4a33-450b-830f-2d515ffec3fb",
   "metadata": {},
   "source": [
    "## Page 8"
   ]
  },
  {
   "cell_type": "code",
   "execution_count": 14,
   "id": "77060b27-8548-4271-83ee-e2936dcdfed4",
   "metadata": {},
   "outputs": [],
   "source": [
    "L2P8Q1 = MC('1. What does the \\033[31;1m#\\033[0m do in R??',['A. Nothing','B. Initiate commands','C. Allows R to skip over anything to the right','D. Tag social media posts together'],'C. Allows R to skip over anything to the right', cor='', incor='')\n",
    "L2P8Q2 = MC('2. Which of the following is NOT a use for a comment?',['A. Provide authoring information','B. Run special commands','C. Provide information about program function and use','D. Remind the author about required tasks'],'B. Run special commands', cor='', incor='')\n",
    "L2P8Q3 = MC('3. True or False? - Commenting your code is a best practice that will aid teamwork',['A. True','B. False'],'A. True', cor='', incor='')\n"
   ]
  },
  {
   "cell_type": "code",
   "execution_count": 15,
   "id": "2ea10ad7-0940-49c9-9bc7-73451c21e3e6",
   "metadata": {},
   "outputs": [
    {
     "data": {
      "application/vnd.jupyter.widget-view+json": {
       "model_id": "972ea59636144aefb58a4b7239dc109f",
       "version_major": 2,
       "version_minor": 0
      },
      "text/plain": [
       "VBox(children=(Output(), RadioButtons(layout=Layout(width='max-content'), options=(('A. Nothing', 0), ('B. Ini…"
      ]
     },
     "metadata": {},
     "output_type": "display_data"
    },
    {
     "data": {
      "application/vnd.jupyter.widget-view+json": {
       "model_id": "3103cafa22c64acea3efbf3c0cddf5ad",
       "version_major": 2,
       "version_minor": 0
      },
      "text/plain": [
       "VBox(children=(Output(), RadioButtons(layout=Layout(width='max-content'), options=(('A. Provide authoring info…"
      ]
     },
     "metadata": {},
     "output_type": "display_data"
    },
    {
     "data": {
      "application/vnd.jupyter.widget-view+json": {
       "model_id": "e851656814c349ad8df296394ccd88bc",
       "version_major": 2,
       "version_minor": 0
      },
      "text/plain": [
       "VBox(children=(Output(), RadioButtons(layout=Layout(width='max-content'), options=(('A. True', 0), ('B. False'…"
      ]
     },
     "metadata": {},
     "output_type": "display_data"
    }
   ],
   "source": [
    "if __name__ == \"__main__\":\n",
    "    display(L2P8Q1, L2P8Q2, L2P8Q3)"
   ]
  },
  {
   "cell_type": "markdown",
   "id": "c0acda46-178f-4683-ac96-6c1892dc4c2d",
   "metadata": {},
   "source": [
    "## Page 9"
   ]
  },
  {
   "cell_type": "code",
   "execution_count": 16,
   "id": "b7ee089a-e8ab-4a41-a8ba-1bd38e4aca61",
   "metadata": {},
   "outputs": [],
   "source": [
    "L2P9Q1 = MC('1. What does the \\033[31;1mhelp()\\033[0m function in R do?',['A. Auto-completes code','B. Initiates a live chat with an R representative','C. Brings up a pane with additional information about the specified function'],'C. Brings up a pane with additional information about the specified function', cor='', incor='')\n"
   ]
  },
  {
   "cell_type": "code",
   "execution_count": 17,
   "id": "ae3b2f70-d3b1-411f-ad47-c2648eb6ef07",
   "metadata": {},
   "outputs": [
    {
     "data": {
      "application/vnd.jupyter.widget-view+json": {
       "model_id": "abf9610d9b0a4c4a89b766ed68bdad2d",
       "version_major": 2,
       "version_minor": 0
      },
      "text/plain": [
       "VBox(children=(Output(), RadioButtons(layout=Layout(width='max-content'), options=(('A. Auto-completes code', …"
      ]
     },
     "metadata": {},
     "output_type": "display_data"
    }
   ],
   "source": [
    "if __name__ == \"__main__\":\n",
    "    display(L2P9Q1)"
   ]
  },
  {
   "cell_type": "markdown",
   "id": "ff240dda-07bf-4d10-91e3-3d84cd26d0b3",
   "metadata": {},
   "source": [
    "## Page 11\n",
    "## Lesson 2 Exam"
   ]
  },
  {
   "cell_type": "code",
   "execution_count": 18,
   "id": "30a72050-9b1a-4eba-b40b-4a317f27a8ed",
   "metadata": {},
   "outputs": [],
   "source": [
    "L2P11Q1 = MC(\"\"\"1. Suppose you want to change the message from \"Hello World!\" to \"It\\'s a Small World\".\\n Which of the following would do this successfully?\\n\\n\\033[1mTip!\\033[0m You might try typing each into the R Console to find the answer. \\nWhile testing one or more of these, the R prompt may change to a +, but R will not do anything; in this case, use the esc key to get back to the > prompt.\"\"\",[\"A. print(It's a Small World)\",'B. print \"It\\'s a Small World\"',\"\"\"C. print('It's a Small World')\"\"\",\"\"\"D. print(\"It's a Small World\")\"\"\"],\"\"\"D. print(\"It's a Small World\")\"\"\", cor='', incor='')\n",
    "L2P11Q2 = MC(\"\"\"2. R has several datasets included in it. You will use these datasets in future lessons. \\nYou can get information on these datasets by using the command:\\n\\n \\033[31;1mhelp(\"datasets\")\\033[0m\\n\\n Execute this command.\\n What does the information displayed in the Help pane tell you to do to get a complete list of the datasets?\"\"\",['A. Type library(help = \"datasets\")','B. Google \"R datasets\"','C. Join the R Core Team','D. Type help(library, \"datasets\")'],'A. Type library(help = \"datasets\")', cor='', incor='')\n"
   ]
  },
  {
   "cell_type": "code",
   "execution_count": 19,
   "id": "0aef6312-54e9-4f67-8909-1bf80eb571d1",
   "metadata": {},
   "outputs": [
    {
     "data": {
      "application/vnd.jupyter.widget-view+json": {
       "model_id": "3a370f5ca9be4da98144259f334ec54b",
       "version_major": 2,
       "version_minor": 0
      },
      "text/plain": [
       "VBox(children=(Output(), RadioButtons(layout=Layout(width='max-content'), options=((\"A. print(It's a Small Wor…"
      ]
     },
     "metadata": {},
     "output_type": "display_data"
    },
    {
     "data": {
      "application/vnd.jupyter.widget-view+json": {
       "model_id": "af83f93c6ad94a36af85672518759a5f",
       "version_major": 2,
       "version_minor": 0
      },
      "text/plain": [
       "VBox(children=(Output(), RadioButtons(layout=Layout(width='max-content'), options=(('A. Type library(help = \"d…"
      ]
     },
     "metadata": {},
     "output_type": "display_data"
    }
   ],
   "source": [
    "if __name__ == \"__main__\":\n",
    "    display(L2P11Q1, L2P11Q2)"
   ]
  },
  {
   "cell_type": "markdown",
   "id": "df4b2492-71ce-4324-bbc2-57755ef66785",
   "metadata": {},
   "source": [
    "# Lesson 3\n",
    "## Page 2"
   ]
  },
  {
   "cell_type": "code",
   "execution_count": 20,
   "id": "12b34d0e-d346-4853-b4bf-415d48ebf682",
   "metadata": {},
   "outputs": [],
   "source": [
    "L3P2Q1 = MC('1. What is a variable?',['A. Something that fluctuates','B. A value','C. A named object','D. An assignment'],'C. A named object', cor='', incor='')\n",
    "L3P2Q2 = MC('2. Which of the following is NOT a valid naming convention for a variable in R?',['A. Variable Name','B. Variable_Name','C. Variable.Name','D. VariableName'],'A. Variable Name', cor='', incor='')\n",
    "L3P2Q3 = MC('3. Which of the following is NOT a way to assign variables?',['A. <-','B. ->','C. =','D. =='],'D. ==', cor='', incor='')\n",
    "L3P2Q4 = MC('4. Consider the assignment:\\n \\n \\033[31;1mage.of.aquarius <- 1967\\033[0m \\n \\nWhat variable is created by this assignment??',['A. age','B. 1967','C. age.of.aquarius','D. aquarius'],'C. age.of.aquarius', cor='', incor='')\n",
    "L3P2Q5 = MC('5. Consider the assignment:\\n \\n \\033[31;1m21 -> balloons\\033[0m \\n \\nWhat value is assigned to the variable \\033[1mballoons\\033[0m?',['A. 2','B. 21','C. No value is assigned; the assignment is pointing the wrong direction, so this assignment will cause an error.','D. 42'],'B. 21', cor='', incor='')\n",
    "L3P2Q6 = MC('6. True or False? \\n     Once Created, your variable will appear in the \\033[31;1mEnvironment\\033[0m tab',['A. True','B. False'],'A. True', cor='', incor='')\n"
   ]
  },
  {
   "cell_type": "code",
   "execution_count": 21,
   "id": "c355cd5f-0260-4338-bc82-124570aa4f1f",
   "metadata": {},
   "outputs": [
    {
     "data": {
      "application/vnd.jupyter.widget-view+json": {
       "model_id": "ba6ba8b2d26e46df8ef45592fa6d5b3d",
       "version_major": 2,
       "version_minor": 0
      },
      "text/plain": [
       "VBox(children=(Output(), RadioButtons(layout=Layout(width='max-content'), options=(('A. Something that fluctua…"
      ]
     },
     "metadata": {},
     "output_type": "display_data"
    },
    {
     "data": {
      "application/vnd.jupyter.widget-view+json": {
       "model_id": "1a09188bd41444c69817d3e7a73c19ea",
       "version_major": 2,
       "version_minor": 0
      },
      "text/plain": [
       "VBox(children=(Output(), RadioButtons(layout=Layout(width='max-content'), options=(('A. Variable Name', 0), ('…"
      ]
     },
     "metadata": {},
     "output_type": "display_data"
    },
    {
     "data": {
      "application/vnd.jupyter.widget-view+json": {
       "model_id": "8aaa813c02944c1dbd672b63d0f80180",
       "version_major": 2,
       "version_minor": 0
      },
      "text/plain": [
       "VBox(children=(Output(), RadioButtons(layout=Layout(width='max-content'), options=(('A. <-', 0), ('B. ->', 1),…"
      ]
     },
     "metadata": {},
     "output_type": "display_data"
    },
    {
     "data": {
      "application/vnd.jupyter.widget-view+json": {
       "model_id": "230b9670bb1d476d9b0a4de9123b4064",
       "version_major": 2,
       "version_minor": 0
      },
      "text/plain": [
       "VBox(children=(Output(), RadioButtons(layout=Layout(width='max-content'), options=(('A. age', 0), ('B. 1967', …"
      ]
     },
     "metadata": {},
     "output_type": "display_data"
    },
    {
     "data": {
      "application/vnd.jupyter.widget-view+json": {
       "model_id": "03d4d9532fe74e9889d6d1cf6b40e55a",
       "version_major": 2,
       "version_minor": 0
      },
      "text/plain": [
       "VBox(children=(Output(), RadioButtons(layout=Layout(width='max-content'), options=(('A. 2', 0), ('B. 21', 1), …"
      ]
     },
     "metadata": {},
     "output_type": "display_data"
    },
    {
     "data": {
      "application/vnd.jupyter.widget-view+json": {
       "model_id": "f78bae6cc0034e44b55ad6fc45e41193",
       "version_major": 2,
       "version_minor": 0
      },
      "text/plain": [
       "VBox(children=(Output(), RadioButtons(layout=Layout(width='max-content'), options=(('A. True', 0), ('B. False'…"
      ]
     },
     "metadata": {},
     "output_type": "display_data"
    }
   ],
   "source": [
    "if __name__ == \"__main__\":\n",
    "    display(L3P2Q1, L3P2Q2, L3P2Q3, L3P2Q4, L3P2Q5, L3P2Q6)"
   ]
  },
  {
   "cell_type": "markdown",
   "id": "526f77c1-11e6-46e3-858a-aa5b5309dc6b",
   "metadata": {},
   "source": [
    "## Page 3"
   ]
  },
  {
   "cell_type": "code",
   "execution_count": 22,
   "id": "1dab046f-cbe7-4922-8039-0224f4c8bc56",
   "metadata": {},
   "outputs": [],
   "source": [
    "L3P3Q1 = MC('1. Which of the following R statements will create a variable \\033[31;1mbob\\033[0m containing a string \\033[31;1mRobert\\033[0m?',[\"A. bob <- 'Robert'\",'B. bob <- \"Robert\"','C. \"Robert\" -> bob','D. All of the above'],'D. All of the above', cor='', incor='')\n",
    "L3P3Q2 = MC('2. Suppose you have two variables: \\033[31;1mfirst.name\\033[0m, which contains the string \\033[31;1mSally\\033[0m, and \\033[31;1mlast.name\\033[0m, which contains the string \\033[31;1mRide\\033[0m. \\nWhich of the following statements will cause R to print \"Sally Ride?\"',['A. paste(first.name, last.name)','B. first.name + last.name','C. first.name last.name','D. c(first.name, last.name)'],'A. paste(first.name, last.name)', cor='', incor='')\n"
   ]
  },
  {
   "cell_type": "code",
   "execution_count": 23,
   "id": "6c10536a-f3c8-4c28-b047-7e33ed404b46",
   "metadata": {},
   "outputs": [
    {
     "data": {
      "application/vnd.jupyter.widget-view+json": {
       "model_id": "3d1439b536bd45e5b71e75c992cb9c09",
       "version_major": 2,
       "version_minor": 0
      },
      "text/plain": [
       "VBox(children=(Output(), RadioButtons(layout=Layout(width='max-content'), options=((\"A. bob <- 'Robert'\", 0), …"
      ]
     },
     "metadata": {},
     "output_type": "display_data"
    },
    {
     "data": {
      "application/vnd.jupyter.widget-view+json": {
       "model_id": "f073648e7fdf4b35ae6c9500db762cf5",
       "version_major": 2,
       "version_minor": 0
      },
      "text/plain": [
       "VBox(children=(Output(), RadioButtons(layout=Layout(width='max-content'), options=(('A. paste(first.name, last…"
      ]
     },
     "metadata": {},
     "output_type": "display_data"
    }
   ],
   "source": [
    "if __name__ == \"__main__\":\n",
    "    display(L3P3Q1, L3P3Q2)"
   ]
  },
  {
   "cell_type": "markdown",
   "id": "e066f243-0fe4-4519-923c-40f44255e73c",
   "metadata": {},
   "source": [
    "## Page 4"
   ]
  },
  {
   "cell_type": "code",
   "execution_count": 24,
   "id": "3dca5630-20cf-4bcb-846d-e26d35a5874e",
   "metadata": {},
   "outputs": [],
   "source": [
    "L3P4Q1 = MC('1. The area of a circle is given by the following formula: \\n     \\033[31;1mA = pi*(r^2)\\033[0m \\n   where \\033[31;1mr\\033[0m is the radius of the circle.\\n  \\nUse R to compute the area of a circle with radius 2.54 cm.\\n   \\n\\033[1mTip! \\n\\033[31;1mpi\\033[0m is a predefined variable in R; you can use it in the above formula.',['A. 7.979645','B. 15.95929','C. 63.67474','D. 20.2683'],'D. 20.2683', cor='', incor='')\n",
    "L3P4Q2 = MC('2. The sample variance can be computed from the sample standard deviation by squaring it. \\nIf you know that the sample standard deviation for a sample is 0.834, what is the sample variance?',['A. 0.695556','B. 1.668','C. 0.417','D. 0.913236'],'A. 0.695556', cor='', incor='')\n",
    "L3P4Q3 = MC(\"3. Gabianu's friend from Ghana is Rashida. Rashida is 154.8 cm tall. \\n   What is the z-score for her height?\",['A. 122.351','B. -0.8571429','C. 0.0','D. 0.8571429'],'B. -0.8571429', cor='', incor='')\n"
   ]
  },
  {
   "cell_type": "markdown",
   "id": "0842f731-ab97-4164-b8e3-a33408ee555b",
   "metadata": {},
   "source": [
    "<p style=\"text-align: center\">\n",
    "  <img src=\"Media/L02-circleArea.png\" alt=\"Drawing\" style=\"width: 100px;\"/>\n",
    "</p> "
   ]
  },
  {
   "cell_type": "code",
   "execution_count": 25,
   "id": "899f0429-5087-42dc-bb5f-5e1b66456974",
   "metadata": {},
   "outputs": [
    {
     "data": {
      "application/vnd.jupyter.widget-view+json": {
       "model_id": "918e19de9e0f4e818b1385075f7a97c4",
       "version_major": 2,
       "version_minor": 0
      },
      "text/plain": [
       "VBox(children=(Output(), RadioButtons(layout=Layout(width='max-content'), options=(('A. 7.979645', 0), ('B. 15…"
      ]
     },
     "metadata": {},
     "output_type": "display_data"
    },
    {
     "data": {
      "application/vnd.jupyter.widget-view+json": {
       "model_id": "03cdfb8dafcb4a1aaffbbba003748248",
       "version_major": 2,
       "version_minor": 0
      },
      "text/plain": [
       "VBox(children=(Output(), RadioButtons(layout=Layout(width='max-content'), options=(('A. 0.695556', 0), ('B. 1.…"
      ]
     },
     "metadata": {},
     "output_type": "display_data"
    },
    {
     "data": {
      "application/vnd.jupyter.widget-view+json": {
       "model_id": "1b585ca5a91c4969a3148111b1cc4af4",
       "version_major": 2,
       "version_minor": 0
      },
      "text/plain": [
       "VBox(children=(Output(), RadioButtons(layout=Layout(width='max-content'), options=(('A. 122.351', 0), ('B. -0.…"
      ]
     },
     "metadata": {},
     "output_type": "display_data"
    }
   ],
   "source": [
    "if __name__ == \"__main__\":\n",
    "    display(L3P4Q1, L3P4Q2, L3P4Q3)"
   ]
  },
  {
   "cell_type": "markdown",
   "id": "4b10e157-7ae2-48f9-bcf6-ea2180f190fb",
   "metadata": {},
   "source": [
    "## Page 5"
   ]
  },
  {
   "cell_type": "code",
   "execution_count": 26,
   "id": "e9ca1781-d220-46b2-9fcd-aa4fece9048a",
   "metadata": {},
   "outputs": [],
   "source": [
    "L3P5Q1 = MC('1. What is a function?',['A. An argument','B. Math formula','C. It performs a specific programming task','D. A value'],'C. It performs a specific programming task', cor='', incor='')\n",
    "L3P5Q2 = MC('2. True or False? \\nAn argument is also known as the output of a function.',['A. True','B. False'],'B. False', cor='An argument is the input of the function.', incor='')\n",
    "L3P5Q3 = MC('3. The sample standard deviation can be computed from the sample variance by computing its square root. \\nIf you know that the sample variance for a sample is 6.28, what is the standard deviation?',['A. 39.4384','B. 2.505993','C. 3.14','D. 6.28'],'B. 2.505993', cor='', incor='')\n"
   ]
  },
  {
   "cell_type": "code",
   "execution_count": 27,
   "id": "003722d1-a401-4367-8ac2-ce6374552255",
   "metadata": {},
   "outputs": [
    {
     "data": {
      "application/vnd.jupyter.widget-view+json": {
       "model_id": "1b7977f76d294b7f83aed3a33efbfefc",
       "version_major": 2,
       "version_minor": 0
      },
      "text/plain": [
       "VBox(children=(Output(), RadioButtons(layout=Layout(width='max-content'), options=(('A. An argument', 0), ('B.…"
      ]
     },
     "metadata": {},
     "output_type": "display_data"
    },
    {
     "data": {
      "application/vnd.jupyter.widget-view+json": {
       "model_id": "c506d439eb6a41d58c21df5ae0d179ef",
       "version_major": 2,
       "version_minor": 0
      },
      "text/plain": [
       "VBox(children=(Output(), RadioButtons(layout=Layout(width='max-content'), options=(('A. True', 0), ('B. False'…"
      ]
     },
     "metadata": {},
     "output_type": "display_data"
    },
    {
     "data": {
      "application/vnd.jupyter.widget-view+json": {
       "model_id": "f56715e5d24345389c6b536f02b16f15",
       "version_major": 2,
       "version_minor": 0
      },
      "text/plain": [
       "VBox(children=(Output(), RadioButtons(layout=Layout(width='max-content'), options=(('A. 39.4384', 0), ('B. 2.5…"
      ]
     },
     "metadata": {},
     "output_type": "display_data"
    }
   ],
   "source": [
    "if __name__ == \"__main__\":\n",
    "    display(L3P5Q1, L3P5Q2, L3P5Q3)"
   ]
  },
  {
   "cell_type": "markdown",
   "id": "9de269a3-eb0b-46f4-9805-db0f8522efeb",
   "metadata": {},
   "source": [
    "## Page 6"
   ]
  },
  {
   "cell_type": "code",
   "execution_count": 28,
   "id": "154acdcb-f10f-4bd8-9527-2ce3222d7848",
   "metadata": {},
   "outputs": [],
   "source": [
    "L3P6Q1 = MC('1. What command is required when creating your own function?',['A. print()','B. sqrt()','C. pnorm()','D. function()'],'D. function()', cor='', incor='')\n",
    "L3P6Q2 = MC('2. What do the curly braces \\033[31;1m{}\\033[0m indicate in the creation of a function?',['A. The definition of the function','B. The name of the function','C. The data for the function','D. The value of the function'],'A. The definition of the function', cor='', incor='')\n"
   ]
  },
  {
   "cell_type": "code",
   "execution_count": 29,
   "id": "2fdab0c2-2764-4b3b-81c1-0604db40254b",
   "metadata": {},
   "outputs": [
    {
     "data": {
      "application/vnd.jupyter.widget-view+json": {
       "model_id": "7afb284e806b4d3e887732b0b44bade5",
       "version_major": 2,
       "version_minor": 0
      },
      "text/plain": [
       "VBox(children=(Output(), RadioButtons(layout=Layout(width='max-content'), options=(('A. print()', 0), ('B. sqr…"
      ]
     },
     "metadata": {},
     "output_type": "display_data"
    },
    {
     "data": {
      "application/vnd.jupyter.widget-view+json": {
       "model_id": "5941b426b55f4127962743f6851fc18b",
       "version_major": 2,
       "version_minor": 0
      },
      "text/plain": [
       "VBox(children=(Output(), RadioButtons(layout=Layout(width='max-content'), options=(('A. The definition of the …"
      ]
     },
     "metadata": {},
     "output_type": "display_data"
    }
   ],
   "source": [
    "if __name__ == \"__main__\":\n",
    "    display(L3P6Q1, L3P6Q2)"
   ]
  },
  {
   "cell_type": "markdown",
   "id": "0c45db7f-ebee-4c71-94c3-c0a0d6a3412f",
   "metadata": {},
   "source": [
    "## Page 7"
   ]
  },
  {
   "cell_type": "code",
   "execution_count": 30,
   "id": "bd3fbdb5-28e7-4254-b014-75d2bb128341",
   "metadata": {},
   "outputs": [],
   "source": [
    "L3P7Q1 = MC('1. What command creates a vector of non-sequential numbers?',['A. c()','B. v()','C. d()','D. :'],'A. c()', cor='', incor='')\n"
   ]
  },
  {
   "cell_type": "code",
   "execution_count": 31,
   "id": "d7bc3684-b47f-4501-931d-8027b8557d59",
   "metadata": {},
   "outputs": [
    {
     "data": {
      "application/vnd.jupyter.widget-view+json": {
       "model_id": "5aff125680b14faeb5d9e33c7b4475fc",
       "version_major": 2,
       "version_minor": 0
      },
      "text/plain": [
       "VBox(children=(Output(), RadioButtons(layout=Layout(width='max-content'), options=(('A. c()', 0), ('B. v()', 1…"
      ]
     },
     "metadata": {},
     "output_type": "display_data"
    }
   ],
   "source": [
    "if __name__ == \"__main__\":\n",
    "    display(L3P7Q1)"
   ]
  },
  {
   "cell_type": "markdown",
   "id": "bba1080d-fbbf-4cde-9d19-79d6f2395e2c",
   "metadata": {},
   "source": [
    "## Page 8"
   ]
  },
  {
   "cell_type": "code",
   "execution_count": 32,
   "id": "49bf2367-dd37-400c-a054-01022f195d97",
   "metadata": {},
   "outputs": [],
   "source": [
    "L3P8Q1 = MC('1. What is the purpose of a for loop?',['A. To create a function','B. To create a vector','C. To make it easier to repeat a task','D. To put data on the same line'],'C. To make it easier to repeat a task', cor='', incor='')\n",
    "L3P8Q2 = MC('2. What does the command \\033[31;1m\"\\\\n\"\\033[0m do?',['A. Combines lines together','B. Creates a function','C. Removes lines from the output','D. Adds a new line into the output'],'D. Adds a new line into the output', cor='', incor='')\n"
   ]
  },
  {
   "cell_type": "code",
   "execution_count": 33,
   "id": "134402c3-fe8f-463c-95ae-0c44193336b4",
   "metadata": {},
   "outputs": [
    {
     "data": {
      "application/vnd.jupyter.widget-view+json": {
       "model_id": "1dde67fd05c74fc6b09905cf1edcdd15",
       "version_major": 2,
       "version_minor": 0
      },
      "text/plain": [
       "VBox(children=(Output(), RadioButtons(layout=Layout(width='max-content'), options=(('A. To create a function',…"
      ]
     },
     "metadata": {},
     "output_type": "display_data"
    },
    {
     "data": {
      "application/vnd.jupyter.widget-view+json": {
       "model_id": "3e44f520a57845f6b45e5bbf831240dc",
       "version_major": 2,
       "version_minor": 0
      },
      "text/plain": [
       "VBox(children=(Output(), RadioButtons(layout=Layout(width='max-content'), options=(('A. Combines lines togethe…"
      ]
     },
     "metadata": {},
     "output_type": "display_data"
    }
   ],
   "source": [
    "if __name__ == \"__main__\":\n",
    "    display(L3P8Q1, L3P8Q2)"
   ]
  },
  {
   "cell_type": "markdown",
   "id": "dc622b54-d7e4-42a7-a18b-aa4613ab06c8",
   "metadata": {},
   "source": [
    "# Lesson 4\n",
    "## Page 2"
   ]
  },
  {
   "cell_type": "code",
   "execution_count": 34,
   "id": "3d44423a-2972-4992-90b2-a00a973b43a3",
   "metadata": {},
   "outputs": [],
   "source": [
    "L4P2Q1 = MC('1. Which of the following commands would create this vector: \\n   [1] 14 13 12 11 10 9 8',['A. 8:14','B. 14:8','C. 8:15','D. 14:1'],'B. 14:8', cor='', incor='This would not create a vector starting at 14 and stopping at 8.')\n",
    "L4P2Q2 = MC('2. What does the \\033[31;1mseq()\\033[0m function do?',['A. Performs vector arithmetic','B. Creates a vector','C. Creates sequences of numbers that are arbitrarily spaced','D. Creates sequences of numbers one apart'],'C. Creates sequences of numbers that are arbitrarily spaced', cor='', incor='')\n",
    "L4P2Q3 = MC('3. Which of the following is NOT an argument for the \\033[31;1mseq()\\033[0m function?',['A. with','B. by =','C. length.out'],'A. with', cor='', incor='')\n"
   ]
  },
  {
   "cell_type": "code",
   "execution_count": 35,
   "id": "38cb0640-799e-4537-8633-8c93a3267b61",
   "metadata": {},
   "outputs": [
    {
     "data": {
      "application/vnd.jupyter.widget-view+json": {
       "model_id": "35d935cd0d3d4106b992bf09d60672f7",
       "version_major": 2,
       "version_minor": 0
      },
      "text/plain": [
       "VBox(children=(Output(), RadioButtons(layout=Layout(width='max-content'), options=(('A. 8:14', 0), ('B. 14:8',…"
      ]
     },
     "metadata": {},
     "output_type": "display_data"
    },
    {
     "data": {
      "application/vnd.jupyter.widget-view+json": {
       "model_id": "4af6beeb9fa447cba9a95ff42461cdd0",
       "version_major": 2,
       "version_minor": 0
      },
      "text/plain": [
       "VBox(children=(Output(), RadioButtons(layout=Layout(width='max-content'), options=(('A. Performs vector arithm…"
      ]
     },
     "metadata": {},
     "output_type": "display_data"
    },
    {
     "data": {
      "application/vnd.jupyter.widget-view+json": {
       "model_id": "01835e67587f4c888042d26c52efe5cc",
       "version_major": 2,
       "version_minor": 0
      },
      "text/plain": [
       "VBox(children=(Output(), RadioButtons(layout=Layout(width='max-content'), options=(('A. with', 0), ('B. by =',…"
      ]
     },
     "metadata": {},
     "output_type": "display_data"
    }
   ],
   "source": [
    "if __name__ == \"__main__\":\n",
    "    display(L4P2Q1, L4P2Q2, L4P2Q3)"
   ]
  },
  {
   "cell_type": "markdown",
   "id": "8cf4c375-ee1c-4f77-827d-3c2fdb17ed07",
   "metadata": {},
   "source": [
    "## Page 3"
   ]
  },
  {
   "cell_type": "code",
   "execution_count": 36,
   "id": "04c4f326-c559-4029-9e4a-f75be4dfcae9",
   "metadata": {},
   "outputs": [],
   "source": [
    "L4P3Q1 = MC('1. Suppose you create the following two vectors: \\n \\n    \\033[31;1mx <- c(1, 9, 6, 9, 5) \\n    y <- c(4, 8, 2, 7, 7)\\033[0m \\n \\n   What would the following command print? \\n \\n    \\033[31;1mx+y\\033[0m \\n',['A. [1] -3 1 4 2 -2','B. [1] 5 17 8 16 12','C. [1] 4 72 12 63 35','D. [1] 7 7 -2 5 9'],'B. [1] 5 17 8 16 12', cor='', incor='')\n",
    "L4P3Q2 = MC('2. Can functions be performed on vectors?',['A. Yes','B. No'],'A. Yes', cor='', incor='')\n"
   ]
  },
  {
   "cell_type": "code",
   "execution_count": 37,
   "id": "fc46c9ad-2cc9-4851-88e6-9c603ec0e52d",
   "metadata": {},
   "outputs": [
    {
     "data": {
      "application/vnd.jupyter.widget-view+json": {
       "model_id": "e3c750a671e74c268ecd2e75dfb77383",
       "version_major": 2,
       "version_minor": 0
      },
      "text/plain": [
       "VBox(children=(Output(), RadioButtons(layout=Layout(width='max-content'), options=(('A. [1] -3 1 4 2 -2', 0), …"
      ]
     },
     "metadata": {},
     "output_type": "display_data"
    },
    {
     "data": {
      "application/vnd.jupyter.widget-view+json": {
       "model_id": "425327f2f4b249b186a84a9d7b0d4707",
       "version_major": 2,
       "version_minor": 0
      },
      "text/plain": [
       "VBox(children=(Output(), RadioButtons(layout=Layout(width='max-content'), options=(('A. Yes', 0), ('B. No', 1)…"
      ]
     },
     "metadata": {},
     "output_type": "display_data"
    }
   ],
   "source": [
    "if __name__ == \"__main__\":\n",
    "    display(L4P3Q1, L4P3Q2)"
   ]
  },
  {
   "cell_type": "markdown",
   "id": "41fb2b98-6913-4fa6-9d4d-8f842bc6bb68",
   "metadata": {},
   "source": [
    "## Page 4"
   ]
  },
  {
   "cell_type": "code",
   "execution_count": 38,
   "id": "3bdd751e-1463-4a7e-91bd-6d51f34e5822",
   "metadata": {},
   "outputs": [],
   "source": [
    "L4P4Q1 = MC('1. What is the value of the condition 4 < 6?',['A. True','B. False'],'A. True', cor='4 is less than 6, so this statement is true.', incor='')\n",
    "L4P4Q2 = MC('2. What is the value of the condition 4 == 6?',['A. True','B. False'],'B. False', cor='4 does not equal 6, so this statement is false', incor='')\n",
    "L4P4Q3 = MC('3. What is the value of the condition 4 != 6?',['A. True','B. False'],'A. True', cor='4 does not equal 6, so this statement is true.', incor='')\n"
   ]
  },
  {
   "cell_type": "code",
   "execution_count": 39,
   "id": "ed029a36-9e98-4b82-8011-7e06d84527bf",
   "metadata": {},
   "outputs": [
    {
     "data": {
      "application/vnd.jupyter.widget-view+json": {
       "model_id": "d6b4917e6490461a8a9b405859897efe",
       "version_major": 2,
       "version_minor": 0
      },
      "text/plain": [
       "VBox(children=(Output(), RadioButtons(layout=Layout(width='max-content'), options=(('A. True', 0), ('B. False'…"
      ]
     },
     "metadata": {},
     "output_type": "display_data"
    },
    {
     "data": {
      "application/vnd.jupyter.widget-view+json": {
       "model_id": "f31e039ea67c4ca8af8bb5c271fffd49",
       "version_major": 2,
       "version_minor": 0
      },
      "text/plain": [
       "VBox(children=(Output(), RadioButtons(layout=Layout(width='max-content'), options=(('A. True', 0), ('B. False'…"
      ]
     },
     "metadata": {},
     "output_type": "display_data"
    },
    {
     "data": {
      "application/vnd.jupyter.widget-view+json": {
       "model_id": "0f42e1467c484deca92f7ef53795fd81",
       "version_major": 2,
       "version_minor": 0
      },
      "text/plain": [
       "VBox(children=(Output(), RadioButtons(layout=Layout(width='max-content'), options=(('A. True', 0), ('B. False'…"
      ]
     },
     "metadata": {},
     "output_type": "display_data"
    }
   ],
   "source": [
    "if __name__ == \"__main__\":\n",
    "    display(L4P4Q1, L4P4Q2, L4P4Q3)"
   ]
  },
  {
   "cell_type": "markdown",
   "id": "4bafa825-f066-425a-a4ac-1830886468eb",
   "metadata": {},
   "source": [
    "## Page 5"
   ]
  },
  {
   "cell_type": "code",
   "execution_count": 40,
   "id": "2253c8f1-9610-46d1-b1d1-1e439ac380f8",
   "metadata": {},
   "outputs": [],
   "source": [
    "L4P5Q1 = MC('1. Suppose you have two vectors x and y that are defined as follows: \\n\\n   \\033[31;1mx <- c(1,2,3,4,5,6) \\n   y <- c(7,6,5,4,3,2)\\033[0m \\n\\nWhat is the value of the following condition? \\n\\n   \\033[31;1mx <= y\\033[0m\\n',['A. [1] FALSE FALSE FALSE FALSE TRUE TRUE','B. [1] TRUE TRUE TRUE TRUE FALSE FALSE','C. [1] TRUE TRUE TRUE FALSE FALSE FALSE','D. [1] TRUE TRUE TRUE TRUE TRUE TRUE'],'B. [1] TRUE TRUE TRUE TRUE FALSE FALSE', cor='', incor='')\n",
    "L4P5Q2 = MC('2. Suppose that you have a data vector that has been corrupted. Between every valid data value, someone inserted the number 42, sometimes multiple \\ntimes. Your data vector is: \\n\\n   \\033[31;1marthur.dent <- c(1,42,4,42,42,42,9,42,16,42,42)\\033[0m \\n\\nWhich of the following R expressions will remove the 42\\'s, giving the output:\\n\\n   [1] 1 4 9 16\\n',['A. arthur.dent[arthur.dent >= 42]','B. arthur.dent[arthur.dent != 42]','C. arthur.dent[arthur.dent == 42]','D. arthur.dent[arthur.dent <= 42]'],'B. arthur.dent[arthur.dent != 42]', cor='', incor='')\n"
   ]
  },
  {
   "cell_type": "code",
   "execution_count": 41,
   "id": "64643b44-b7f9-44a5-ab49-a01ba0847aaa",
   "metadata": {},
   "outputs": [
    {
     "data": {
      "application/vnd.jupyter.widget-view+json": {
       "model_id": "4ae394ae3ed54dd89284f07146a93430",
       "version_major": 2,
       "version_minor": 0
      },
      "text/plain": [
       "VBox(children=(Output(), RadioButtons(layout=Layout(width='max-content'), options=(('A. [1] FALSE FALSE FALSE …"
      ]
     },
     "metadata": {},
     "output_type": "display_data"
    },
    {
     "data": {
      "application/vnd.jupyter.widget-view+json": {
       "model_id": "07f7daa7969c408b9bb5195a7efadce5",
       "version_major": 2,
       "version_minor": 0
      },
      "text/plain": [
       "VBox(children=(Output(), RadioButtons(layout=Layout(width='max-content'), options=(('A. arthur.dent[arthur.den…"
      ]
     },
     "metadata": {},
     "output_type": "display_data"
    }
   ],
   "source": [
    "if __name__ == \"__main__\":\n",
    "    display(L4P5Q1, L4P5Q2)"
   ]
  },
  {
   "cell_type": "markdown",
   "id": "8fca6125-dd71-4152-823c-f9bca6a169b3",
   "metadata": {},
   "source": [
    "## Page 6"
   ]
  },
  {
   "cell_type": "code",
   "execution_count": 42,
   "id": "8780b867-5c6d-4ed3-97a5-806d88c974b7",
   "metadata": {},
   "outputs": [],
   "source": [
    "L4P6Q1 = MC('1. Create a vector of wait times (times between eruptions) with this statement: \\n\\n   \\033[31;1mwait.times <- faithful$waiting\\033[0m\\n\\nWhich of the following is the mean wait time?',['A. 43','B. 70.89706','C. 76','D. 96'],'B. 70.89706', cor='', incor='')\n",
    "L4P6Q2 = MC('2. Create a vector of wait times (times between eruptions) with this statement: \\n\\n   \\033[31;1mwait.times <- faithful$waiting\\033[0m\\n\\nWhich of the following is the median wait time?',['A. 43','B. 70.89706','C. 76','D. 96'],'C. 76', cor='', incor='')\n",
    "L4P6Q3 = MC('3. Create a vector of wait times (times between eruptions) with this statement: \\n\\n   \\033[31;1mwait.times <- faithful$waiting\\033[0m\\n\\nWhich of the following is the minimum wait time?',['A. 43','B. 70.89706','C. 76','D. 96'],'A. 43', cor='', incor='')\n",
    "L4P6Q4 = MC('4. Create a vector of wait times (times between eruptions) with this statement: \\n\\n   \\033[31;1mwait.times <- faithful$waiting\\033[0m\\n\\nWhich of the following is the maximum wait time?',['A. 43','B. 70.89706','C. 76','D. 96'],'D. 96', cor='', incor='')\n",
    "L4P6Q5 = MC('5. Which statement would product quartiles?',['A. summary()','B. sd()','C. median()','D. max()'],'A. summary()', cor='', incor='')\n"
   ]
  },
  {
   "cell_type": "code",
   "execution_count": 43,
   "id": "23d360cb-6bb1-4f2f-87b6-36abd1bf1df7",
   "metadata": {},
   "outputs": [
    {
     "data": {
      "application/vnd.jupyter.widget-view+json": {
       "model_id": "c86ddd233c824d6e9c491d86cedd9718",
       "version_major": 2,
       "version_minor": 0
      },
      "text/plain": [
       "VBox(children=(Output(), RadioButtons(layout=Layout(width='max-content'), options=(('A. 43', 0), ('B. 70.89706…"
      ]
     },
     "metadata": {},
     "output_type": "display_data"
    },
    {
     "data": {
      "application/vnd.jupyter.widget-view+json": {
       "model_id": "59ed674141194a61a36aec9b36c076b8",
       "version_major": 2,
       "version_minor": 0
      },
      "text/plain": [
       "VBox(children=(Output(), RadioButtons(layout=Layout(width='max-content'), options=(('A. 43', 0), ('B. 70.89706…"
      ]
     },
     "metadata": {},
     "output_type": "display_data"
    },
    {
     "data": {
      "application/vnd.jupyter.widget-view+json": {
       "model_id": "05003c008f0f45d2893de1cd29f33c87",
       "version_major": 2,
       "version_minor": 0
      },
      "text/plain": [
       "VBox(children=(Output(), RadioButtons(layout=Layout(width='max-content'), options=(('A. 43', 0), ('B. 70.89706…"
      ]
     },
     "metadata": {},
     "output_type": "display_data"
    },
    {
     "data": {
      "application/vnd.jupyter.widget-view+json": {
       "model_id": "e1110cba9c7545e9b50923379d162765",
       "version_major": 2,
       "version_minor": 0
      },
      "text/plain": [
       "VBox(children=(Output(), RadioButtons(layout=Layout(width='max-content'), options=(('A. 43', 0), ('B. 70.89706…"
      ]
     },
     "metadata": {},
     "output_type": "display_data"
    },
    {
     "data": {
      "application/vnd.jupyter.widget-view+json": {
       "model_id": "5941f2fc4edd414388ec816b4e8807f6",
       "version_major": 2,
       "version_minor": 0
      },
      "text/plain": [
       "VBox(children=(Output(), RadioButtons(layout=Layout(width='max-content'), options=(('A. summary()', 0), ('B. s…"
      ]
     },
     "metadata": {},
     "output_type": "display_data"
    }
   ],
   "source": [
    "if __name__ == \"__main__\":\n",
    "    display(L4P6Q1, L4P6Q2, L4P6Q3, L4P6Q4, L4P6Q5)"
   ]
  },
  {
   "cell_type": "markdown",
   "id": "b89244c0-5f85-4e19-b9e6-aad2403b94d3",
   "metadata": {},
   "source": [
    "# Lesson 5\n",
    "## Page 2"
   ]
  },
  {
   "cell_type": "code",
   "execution_count": 44,
   "id": "38553156-4bca-400a-b2de-bd7d63139a2a",
   "metadata": {},
   "outputs": [],
   "source": [
    "L5P2Q1 = MC('1. Which of the following is NOT an advantage of using \\033[31;1mggplot2\\033[0m?',['A. Simple to use','B. Consistency in language and structure','C. Better customization','D. Included in R base'],'D. Included in R base', cor='', incor='')\n",
    "L5P2Q2 = MC('2. What function makes a library usable?',['A. data.frame()','B. library()','C. install.packages()','D. ggplot2'],'B. library()', cor='', incor='')\n"
   ]
  },
  {
   "cell_type": "code",
   "execution_count": 45,
   "id": "e1dd9be5-2c81-484c-ba07-6d5146fcd667",
   "metadata": {},
   "outputs": [
    {
     "data": {
      "application/vnd.jupyter.widget-view+json": {
       "model_id": "886a0ec08911447bb6e9338052d766e2",
       "version_major": 2,
       "version_minor": 0
      },
      "text/plain": [
       "VBox(children=(Output(), RadioButtons(layout=Layout(width='max-content'), options=(('A. Simple to use', 0), ('…"
      ]
     },
     "metadata": {},
     "output_type": "display_data"
    },
    {
     "data": {
      "application/vnd.jupyter.widget-view+json": {
       "model_id": "e086cba7f2cc4095a1b44b5b7aaabd52",
       "version_major": 2,
       "version_minor": 0
      },
      "text/plain": [
       "VBox(children=(Output(), RadioButtons(layout=Layout(width='max-content'), options=(('A. data.frame()', 0), ('B…"
      ]
     },
     "metadata": {},
     "output_type": "display_data"
    }
   ],
   "source": [
    "if __name__ == \"__main__\":\n",
    "    display(L5P2Q1, L5P2Q2)"
   ]
  },
  {
   "cell_type": "markdown",
   "id": "94f75fc0-0dc3-4b40-be00-ed84f57606bc",
   "metadata": {},
   "source": [
    "## Page 3"
   ]
  },
  {
   "cell_type": "code",
   "execution_count": 46,
   "id": "adb26281-d394-4c25-a0f3-c7679adbf445",
   "metadata": {},
   "outputs": [],
   "source": [
    "L5P3Q1 = MC('1. Which argument to \\033[31;1mgeom_histogram()\\033[0m will change how wide the histogram bars are??',['A. binwidth=','B. ggtitle()','C. xlab()','D. ylab()'],'A. binwidth=', cor='', incor='')\n",
    "L5P3Q2 = MC('2. The waiting times for the Old Faithful data are in the column labeled waiting. You set up a histogram of these times with the following call to ggplot():\\n\\n   \\033[31;1mwaiting_histogram <- ggplot(faithful, aes(x = waiting))\\033[0m \\n\\nWhich of the following commands will create the following histogram (above)? This histogram has bins whose width is three minutes.',['A. waiting_histogram + geom_histogram()','B. waiting_histogram + geom_histogram(binwidth = 10)','C. waiting_histogram + geom_histogram(breaks = seq(30, 100, by = 7))','D. waiting_histogram + geom_histogram(binwidth = 3)'],'D. waiting_histogram + geom_histogram(binwidth = 3)', cor='', incor='')\n",
    "L5P3Q3 = MC('3. Which of these arguments to will NOT influence the color of the graph?',['A. color=','B. ylab()','C. fill='],'B. ylab()', cor='', incor='')"
   ]
  },
  {
   "cell_type": "code",
   "execution_count": 47,
   "id": "25b566df-4834-4901-8dfd-7d12406d59c4",
   "metadata": {},
   "outputs": [
    {
     "data": {
      "application/vnd.jupyter.widget-view+json": {
       "model_id": "a79809eac1a6495284efdd19fce0bfcd",
       "version_major": 2,
       "version_minor": 0
      },
      "text/plain": [
       "VBox(children=(Output(), RadioButtons(layout=Layout(width='max-content'), options=(('A. binwidth=', 0), ('B. g…"
      ]
     },
     "metadata": {},
     "output_type": "display_data"
    }
   ],
   "source": [
    "if __name__ == \"__main__\":\n",
    "    display(L5P3Q1)"
   ]
  },
  {
   "cell_type": "markdown",
   "id": "6b0619c7-9d97-4bc3-b85c-4ebddca161cf",
   "metadata": {},
   "source": [
    "<p style=\"text-align: center\">\n",
    "  <img src=\"Media/L05-ExerciseWaiting.png\" alt=\"Drawing\" style=\"width: 500px;\"/>\n",
    "</p>"
   ]
  },
  {
   "cell_type": "code",
   "execution_count": 48,
   "id": "4d65a133-2e3d-4702-baf7-e76bb7415280",
   "metadata": {},
   "outputs": [
    {
     "data": {
      "application/vnd.jupyter.widget-view+json": {
       "model_id": "a357efa740c8422e8fdb6d01a981e44d",
       "version_major": 2,
       "version_minor": 0
      },
      "text/plain": [
       "VBox(children=(Output(), RadioButtons(layout=Layout(width='max-content'), options=(('A. waiting_histogram + ge…"
      ]
     },
     "metadata": {},
     "output_type": "display_data"
    },
    {
     "data": {
      "application/vnd.jupyter.widget-view+json": {
       "model_id": "92997e41c5c8491b90799f77b7121b7c",
       "version_major": 2,
       "version_minor": 0
      },
      "text/plain": [
       "VBox(children=(Output(), RadioButtons(layout=Layout(width='max-content'), options=(('A. color=', 0), ('B. ylab…"
      ]
     },
     "metadata": {},
     "output_type": "display_data"
    }
   ],
   "source": [
    "if __name__ == \"__main__\":\n",
    "    display(L5P3Q2, L5P3Q3)"
   ]
  },
  {
   "cell_type": "markdown",
   "id": "35a75eef-341b-4210-8764-8189c29a8321",
   "metadata": {},
   "source": [
    "## Page 4"
   ]
  },
  {
   "cell_type": "code",
   "execution_count": 49,
   "id": "2cc860fc-faf4-4669-9c51-68a09fb193da",
   "metadata": {},
   "outputs": [],
   "source": [
    "L5P4Q1 = MC('1. In this statement, what is the purpose of the dollar sign?\\n\\n   \\033[31;1mplanes$engine\\033[0m\\n',['A. To make a boxplot','B. To specify the variable in the data frame of interest','C. To indicate the vector','D. To remove a variable'],'B. To specify the variable in the data frame of interest', cor='', incor='The command \\033[31mgeom_boxplot()\\033[0m will make a boxplot and a vector will not have multiple variables in it')\n",
    "L5P4Q2 = MC('2. Why are outliers important?',['A. They aren\\'t important','B. They make a boxplot less visually appealing','C. They can bias the data'],'C. They can bias the data', cor='Outliers can make the mean seem higher or lower than it really is', incor='')\n",
    "L5P4Q3 = MC('3. How do you mathematically detect outliers?',['A. Anything that is inside the whisker is an outlier','B. Anything that is outside the whisker is an outlier','C. An outlier is 1.5 times above or below the IQR','D. An outlier is 1.5 time above or below the mean'],'C. An outlier is 1.5 times above or below the IQR', cor='', incor='You can visually inspect for outliers with the whisker, but will need to use the IQR to mathematically detect outliers')\n"
   ]
  },
  {
   "cell_type": "code",
   "execution_count": 50,
   "id": "83bb4d3a-ae65-4043-9a42-8a52e7e1a10a",
   "metadata": {},
   "outputs": [
    {
     "data": {
      "application/vnd.jupyter.widget-view+json": {
       "model_id": "e4f961f8274a48b780ac08e1a49bf66a",
       "version_major": 2,
       "version_minor": 0
      },
      "text/plain": [
       "VBox(children=(Output(), RadioButtons(layout=Layout(width='max-content'), options=(('A. To make a boxplot', 0)…"
      ]
     },
     "metadata": {},
     "output_type": "display_data"
    },
    {
     "data": {
      "application/vnd.jupyter.widget-view+json": {
       "model_id": "41a569ddc40345a69e16010b66fa90b5",
       "version_major": 2,
       "version_minor": 0
      },
      "text/plain": [
       "VBox(children=(Output(), RadioButtons(layout=Layout(width='max-content'), options=((\"A. They aren't important\"…"
      ]
     },
     "metadata": {},
     "output_type": "display_data"
    },
    {
     "data": {
      "application/vnd.jupyter.widget-view+json": {
       "model_id": "c35935d9331f40048f0d53e7bc868892",
       "version_major": 2,
       "version_minor": 0
      },
      "text/plain": [
       "VBox(children=(Output(), RadioButtons(layout=Layout(width='max-content'), options=(('A. Anything that is insid…"
      ]
     },
     "metadata": {},
     "output_type": "display_data"
    }
   ],
   "source": [
    "if __name__ == \"__main__\":\n",
    "    display(L5P4Q1, L5P4Q2, L5P4Q3)"
   ]
  },
  {
   "cell_type": "markdown",
   "id": "2cc3ac61-a16a-430c-b813-b10774df891c",
   "metadata": {},
   "source": [
    "## Page 5"
   ]
  },
  {
   "cell_type": "code",
   "execution_count": 51,
   "id": "641ddf94-3b78-4b45-a51f-f9fe75922f2c",
   "metadata": {},
   "outputs": [],
   "source": [
    "L5P5Q1 = MC('1. How should you interpret a normal probability plot?',['A. If the points fall in approximately a straight line, the the data is normally distributed','B. If a \"fat pencil\" covers most of the points, then the data is normally distributed','C. Both A and B are correct','D. Neither A nor B are correct'],'C. Both A and B are correct', cor='', incor='')"
   ]
  },
  {
   "cell_type": "code",
   "execution_count": 52,
   "id": "a0428665-cdeb-4132-901b-3f573e752691",
   "metadata": {},
   "outputs": [
    {
     "data": {
      "application/vnd.jupyter.widget-view+json": {
       "model_id": "712cf4dfd4cf47fbb9f307180f030610",
       "version_major": 2,
       "version_minor": 0
      },
      "text/plain": [
       "VBox(children=(Output(), RadioButtons(layout=Layout(width='max-content'), options=(('A. If the points fall in …"
      ]
     },
     "metadata": {},
     "output_type": "display_data"
    }
   ],
   "source": [
    "if __name__ == \"__main__\":\n",
    "    display(L5P5Q1)"
   ]
  },
  {
   "cell_type": "markdown",
   "id": "769477a6-b69a-4929-8ee3-3fa3e82de730",
   "metadata": {
    "tags": []
   },
   "source": [
    "# Lesson 6\n",
    "## Page 2"
   ]
  },
  {
   "cell_type": "code",
   "execution_count": 53,
   "id": "dfc10aca-0308-451f-8209-b62172f44c8f",
   "metadata": {},
   "outputs": [],
   "source": [
    "L6P2Q1 = MC('1. There is a variable named \\033[31;1mdogs$puppy_class\\033[0m with three categorical options: \\033[31;1mWorking, Herding,\\033[0m and \\033[31;1mSporting\\033[0m. \\nWhat would be the factor(s), and what would be the levels?',['A. Working, Herding, and Sporting are the factors, and dogs$puppy_class is the level','B. puppy_class is the factor, and Working, Herding, and Sporting are the levels','C. dogs is the factor, and Working, Herding, and Sporting are the levels','D. Working, Herding, and Sporting are the factors, and dogs is the level'],'B. puppy_class is the factor, and Working, Herding, and Sporting are the levels', cor='A factor is a categorical variable in R, and the levels are the category options for the data.', incor='')\n",
    "L6P2Q2 = MC('2. True or False?\\n\\n   In the line \\033[31;1mdogs$puppy_class, puppy_class\\033[0m is the name of the data frame.',['A. True','B. False'],'B. False', cor='dogs is the name of the data frame. The data frame name will always come first, followed by the variable or column name.', incor='')\n",
    "L6P2Q3 = MC('3. Which command will pop up a user-friendly view of your data?',['A. c()','B. []','C. $','D. View()'],'D. View()', cor='This will show your data in the View pane without you having to click on it in the Environment pane.', incor='')\n"
   ]
  },
  {
   "cell_type": "code",
   "execution_count": 54,
   "id": "395d3778-f229-4735-ba2e-ed9a179b3dcf",
   "metadata": {},
   "outputs": [
    {
     "data": {
      "application/vnd.jupyter.widget-view+json": {
       "model_id": "8347d98ef8c6487688d8f24fc1379157",
       "version_major": 2,
       "version_minor": 0
      },
      "text/plain": [
       "VBox(children=(Output(), RadioButtons(layout=Layout(width='max-content'), options=(('A. Working, Herding, and …"
      ]
     },
     "metadata": {},
     "output_type": "display_data"
    },
    {
     "data": {
      "application/vnd.jupyter.widget-view+json": {
       "model_id": "dd94403ca64340ac97f27ab9fd543b66",
       "version_major": 2,
       "version_minor": 0
      },
      "text/plain": [
       "VBox(children=(Output(), RadioButtons(layout=Layout(width='max-content'), options=(('A. True', 0), ('B. False'…"
      ]
     },
     "metadata": {},
     "output_type": "display_data"
    },
    {
     "data": {
      "application/vnd.jupyter.widget-view+json": {
       "model_id": "1b0568fea91241999841341272409642",
       "version_major": 2,
       "version_minor": 0
      },
      "text/plain": [
       "VBox(children=(Output(), RadioButtons(layout=Layout(width='max-content'), options=(('A. c()', 0), ('B. []', 1)…"
      ]
     },
     "metadata": {},
     "output_type": "display_data"
    }
   ],
   "source": [
    "if __name__ == \"__main__\":\n",
    "    display(L6P2Q1, L6P2Q2, L6P2Q3)"
   ]
  },
  {
   "cell_type": "markdown",
   "id": "3bdc94af-3334-4938-bcb8-9f6ee4f67302",
   "metadata": {},
   "source": [
    "## Page 3"
   ]
  },
  {
   "cell_type": "code",
   "execution_count": 55,
   "id": "638e1d24-0889-4f14-a3d6-bf0420726992",
   "metadata": {},
   "outputs": [],
   "source": [
    "L6P3Q1 = MC('1. In the \\033[31;1mmtcars\\033[0m data frame, which of the following is not the name of a variable?',['A. mpg','B. Valiant','C. gear','D. hp'],'B. Valiant', cor='This is the name of one of the cars in the data frame. The names of the variables are located in the first row.', incor='')\n",
    "L6P3Q2 = MC('2. How would you view only the bottom six rows of the \\033[31;1mmtcars\\033[0m data frame?',['A. View(mtcars)','B. head(mtcars)','C. print(mtcars)','D. tail(mtcars)'],'D. tail(mtcars)', cor='This will print the last six rows of the data frame.', incor='')\n"
   ]
  },
  {
   "cell_type": "code",
   "execution_count": 56,
   "id": "9d48d5eb-7645-4bde-86c1-f1c9e77b6a55",
   "metadata": {},
   "outputs": [
    {
     "data": {
      "application/vnd.jupyter.widget-view+json": {
       "model_id": "4c0e6a489e5e4b0e9cf6c56d78ac9c12",
       "version_major": 2,
       "version_minor": 0
      },
      "text/plain": [
       "VBox(children=(Output(), RadioButtons(layout=Layout(width='max-content'), options=(('A. mpg', 0), ('B. Valiant…"
      ]
     },
     "metadata": {},
     "output_type": "display_data"
    },
    {
     "data": {
      "application/vnd.jupyter.widget-view+json": {
       "model_id": "556ee5cb682a473fb62771f6332c7837",
       "version_major": 2,
       "version_minor": 0
      },
      "text/plain": [
       "VBox(children=(Output(), RadioButtons(layout=Layout(width='max-content'), options=(('A. View(mtcars)', 0), ('B…"
      ]
     },
     "metadata": {},
     "output_type": "display_data"
    }
   ],
   "source": [
    "if __name__ == \"__main__\":\n",
    "    display(L6P3Q1, L6P3Q2)"
   ]
  },
  {
   "cell_type": "markdown",
   "id": "af4074a0-2c58-4159-bbd1-74da825638e1",
   "metadata": {},
   "source": [
    "## Page 4"
   ]
  },
  {
   "cell_type": "code",
   "execution_count": 57,
   "id": "47075472-fac9-45f7-9377-dd0521bfdeea",
   "metadata": {},
   "outputs": [],
   "source": [
    "L6P4Q1 = MC('1. Columns of data are separated by which punctuation mark in a CSV file?',['A. Space','B. Pipe','C. Comma','D. Tab'],'C. Comma', cor='CSV stands for comma separated values. Commas delineate each column of data.', incor='')\n",
    "L6P4Q2 = MC('2. True or False?\\n\\n   The \\033[31;1mread.csv()\\033[0m function brings data in R.',['A. True','B. False'],'A. True', cor='', incor='')\n",
    "L6P4Q3 = MC('3. What is a working directory?',['A. Your RStudio interface','B. The folder out of which R automatically works','C. Your file explorer'],'B. The folder out of which R automatically works', cor='', incor='')\n"
   ]
  },
  {
   "cell_type": "code",
   "execution_count": 58,
   "id": "6c976ed6-0c02-4c36-af4c-952878da705a",
   "metadata": {},
   "outputs": [
    {
     "data": {
      "application/vnd.jupyter.widget-view+json": {
       "model_id": "8dcd9112d6fe414fbae826c169466275",
       "version_major": 2,
       "version_minor": 0
      },
      "text/plain": [
       "VBox(children=(Output(), RadioButtons(layout=Layout(width='max-content'), options=(('A. Space', 0), ('B. Pipe'…"
      ]
     },
     "metadata": {},
     "output_type": "display_data"
    },
    {
     "data": {
      "application/vnd.jupyter.widget-view+json": {
       "model_id": "07eaf23a45bb4cef97807a29d9a6cefe",
       "version_major": 2,
       "version_minor": 0
      },
      "text/plain": [
       "VBox(children=(Output(), RadioButtons(layout=Layout(width='max-content'), options=(('A. True', 0), ('B. False'…"
      ]
     },
     "metadata": {},
     "output_type": "display_data"
    },
    {
     "data": {
      "application/vnd.jupyter.widget-view+json": {
       "model_id": "53cf2e8480004189a7fe4b314787cbc5",
       "version_major": 2,
       "version_minor": 0
      },
      "text/plain": [
       "VBox(children=(Output(), RadioButtons(layout=Layout(width='max-content'), options=(('A. Your RStudio interface…"
      ]
     },
     "metadata": {},
     "output_type": "display_data"
    }
   ],
   "source": [
    "if __name__ == \"__main__\":\n",
    "    display(L6P4Q1, L6P4Q2, L6P4Q3)"
   ]
  },
  {
   "cell_type": "markdown",
   "id": "707b7510-19da-43e5-b7e8-9a2f7f3ab765",
   "metadata": {},
   "source": [
    "## Page 5"
   ]
  },
  {
   "cell_type": "code",
   "execution_count": 59,
   "id": "225b3093-5ed9-463f-a142-085b75440236",
   "metadata": {},
   "outputs": [],
   "source": [
    "L6P5Q1 = MC('1. What does the \\033[31;1mread.xlsx()\\033[0m function do?',['A. Exports CSV files into R','B. Exports MS Excel files into R','C. Imports CSV files into R','D. Imports MS Excel files into R'],'D. Imports MS Excel files into R', cor='', incor='')"
   ]
  },
  {
   "cell_type": "code",
   "execution_count": 60,
   "id": "76cd0f2f-3e3e-4c38-8c3b-837309f7fc86",
   "metadata": {},
   "outputs": [
    {
     "data": {
      "application/vnd.jupyter.widget-view+json": {
       "model_id": "2a0d02213ee74282b67cf537972741aa",
       "version_major": 2,
       "version_minor": 0
      },
      "text/plain": [
       "VBox(children=(Output(), RadioButtons(layout=Layout(width='max-content'), options=(('A. Exports CSV files into…"
      ]
     },
     "metadata": {},
     "output_type": "display_data"
    }
   ],
   "source": [
    "if __name__ == \"__main__\":\n",
    "    display(L6P5Q1)"
   ]
  },
  {
   "cell_type": "markdown",
   "id": "c7ffb68c-1df5-474e-9089-80788d88752a",
   "metadata": {},
   "source": [
    "## Page 6"
   ]
  },
  {
   "cell_type": "code",
   "execution_count": 61,
   "id": "08797f11-bc7e-42d5-9eb4-0b7a8ee96a4f",
   "metadata": {},
   "outputs": [],
   "source": [
    "L6P6Q1 = MC('1. You are trying to create a new variable based on other variables in your dataset. What data manipulation would that be?',['A. Filtering','B. Summarizing','C. Mutation','D. Grouping'],'C. Mutation', cor='', incor='')\n",
    "L6P6Q2 = MC('2. You want to arrange your data in numerical order. What data manipulation should you use?',['A. Ordering','B. Selection','C. Grouping','D. Summarizing'],'A. Ordering', cor='', incor='')\n",
    "L6P6Q3 = MC('3. You want to only use two variables out of a larger dataset. What data manipulation would you use?',['A. Mutation','B. Ordering','C. Summarizing','D. Selection'],'D. Selection', cor='', incor='')\n",
    "L6P6Q4 = MC('4. You\\'d like to group values together based on common characteristics. What data manipulation should you use?',['A. Ordering','B. Filtering','C. Mutation','D. Grouping'],'D. Grouping', cor='', incor='')\n",
    "L6P6Q5 = MC('5. You are hoping to describe the data with some sample statistics. What data manipulation would do that?',['A. Selection','B. Summarizing','C. Filtering','D. Mutation'],'B. Summarizing', cor='', incor='')\n",
    "L6P6Q6 = MC('6. You only want to show rows that meet a specific criteria. What data manipulation would perform that action?',['A. Filtering','B. Mutation','C. Grouping','D. Summarizing'],'A. Filtering', cor='', incor='')\n"
   ]
  },
  {
   "cell_type": "code",
   "execution_count": 62,
   "id": "67ca149c-84ba-4cf4-be10-5cb57bee3ee0",
   "metadata": {},
   "outputs": [
    {
     "data": {
      "application/vnd.jupyter.widget-view+json": {
       "model_id": "8fa2dd875fc746beb689b0f00be9881f",
       "version_major": 2,
       "version_minor": 0
      },
      "text/plain": [
       "VBox(children=(Output(), RadioButtons(layout=Layout(width='max-content'), options=(('A. Filtering', 0), ('B. S…"
      ]
     },
     "metadata": {},
     "output_type": "display_data"
    },
    {
     "data": {
      "application/vnd.jupyter.widget-view+json": {
       "model_id": "4b0871997536482ba8f8584353357378",
       "version_major": 2,
       "version_minor": 0
      },
      "text/plain": [
       "VBox(children=(Output(), RadioButtons(layout=Layout(width='max-content'), options=(('A. Ordering', 0), ('B. Se…"
      ]
     },
     "metadata": {},
     "output_type": "display_data"
    },
    {
     "data": {
      "application/vnd.jupyter.widget-view+json": {
       "model_id": "b6fb7288e81f48a1af35efde6df56a4b",
       "version_major": 2,
       "version_minor": 0
      },
      "text/plain": [
       "VBox(children=(Output(), RadioButtons(layout=Layout(width='max-content'), options=(('A. Mutation', 0), ('B. Or…"
      ]
     },
     "metadata": {},
     "output_type": "display_data"
    },
    {
     "data": {
      "application/vnd.jupyter.widget-view+json": {
       "model_id": "4fdbb648b305466b9194a0f51c97c1c1",
       "version_major": 2,
       "version_minor": 0
      },
      "text/plain": [
       "VBox(children=(Output(), RadioButtons(layout=Layout(width='max-content'), options=(('A. Ordering', 0), ('B. Fi…"
      ]
     },
     "metadata": {},
     "output_type": "display_data"
    },
    {
     "data": {
      "application/vnd.jupyter.widget-view+json": {
       "model_id": "f623c4480d7d4a388aea8caf9ae021d4",
       "version_major": 2,
       "version_minor": 0
      },
      "text/plain": [
       "VBox(children=(Output(), RadioButtons(layout=Layout(width='max-content'), options=(('A. Selection', 0), ('B. S…"
      ]
     },
     "metadata": {},
     "output_type": "display_data"
    },
    {
     "data": {
      "application/vnd.jupyter.widget-view+json": {
       "model_id": "d0054d958b32462f8b4731ad520a43d5",
       "version_major": 2,
       "version_minor": 0
      },
      "text/plain": [
       "VBox(children=(Output(), RadioButtons(layout=Layout(width='max-content'), options=(('A. Filtering', 0), ('B. M…"
      ]
     },
     "metadata": {},
     "output_type": "display_data"
    }
   ],
   "source": [
    "if __name__ == \"__main__\":\n",
    "    display(L6P6Q1, L6P6Q2, L6P6Q3, L6P6Q4, L6P6Q5, L6P6Q6)"
   ]
  },
  {
   "cell_type": "markdown",
   "id": "24ceb746-4961-4cac-960e-0881e42b0076",
   "metadata": {},
   "source": [
    "### Page 7"
   ]
  },
  {
   "cell_type": "code",
   "execution_count": 63,
   "id": "e280003f-a835-4309-995f-b3990f601fcf",
   "metadata": {},
   "outputs": [],
   "source": [
    "L6P7Q1 = MC('1. One of the variables in the mtcars data frame is cyl, which is the number of cylinders in the engine. Suppose you wish to find all the observations for cars with 4 cylinders. Which command would give all these observations?',['A. arrange(mtcars, cyl)`','B. group_by(mtcars, cyl)','C. select(mtcars, cyl)','D. filter(mtcars, cyl ==4)'],'D. filter(mtcars, cyl ==4)', cor='', incor='')\n",
    "L6P7Q2 = MC('2. Another variable in the mtcars data frame is hp, which is the engine horsepower. Suppose you wish to find all the observations for cars with horsepower lower than 100. Which command would give all these observations?',['A. filter(mtcars, hp < 100)','B. filter(mtcars, hp > 100)','C. filter(mtcars, hp == 100)','D. filter(mtcars, hp != 100)'],'A. filter(mtcars, hp < 100)', cor='', incor='')\n",
    "L6P7Q3 = MC('3. Suppose you wish to compute the median value of mpg for the whole data set. Which command would do this?',['A. summarize(mtcars, median.mpg = st(mpg))','B. summarize(mtcars, mpg)','C. summarize(mtcars, median.mpg = mean(mpg))','D. summarize(mtcars, median.mpg = median(mpg))'],'D. summarize(mtcars, median.mpg = median(mpg))', cor='', incor='')\n",
    "L6P7Q4 = MC('4. Suppose you wish to compute the median value of mpg for the cars with 4 cylinders, the median value for cars with 6 cylinders, and the median value for cars with 8 cylinders; cyl is the number of cylinders. Which command would do this?',['A. mtcars %>% group_by(cyl) %>% summarize(median.mpg = median(mpg))','B. mtcars %>% summarize(median.mpg = median(mpg)) %>% group_by(cyl)','C. summarize(median.mpg = median(mpg)) %>% group_by(cyl) %>% mtcars','D. mtcars %>% group_by(gear) %>% sumarize(median.mpg = median(mpg))'],'A. mtcars %>% group_by(cyl) %>% summarize(median.mpg = median(mpg))', cor='', incor='')\n"
   ]
  },
  {
   "cell_type": "code",
   "execution_count": 64,
   "id": "35f5a1ea-5e11-4456-859c-de56c982c82b",
   "metadata": {},
   "outputs": [
    {
     "data": {
      "application/vnd.jupyter.widget-view+json": {
       "model_id": "8c9dc16f71e1465bb3a6f06718771bf5",
       "version_major": 2,
       "version_minor": 0
      },
      "text/plain": [
       "VBox(children=(Output(), RadioButtons(layout=Layout(width='max-content'), options=(('A. arrange(mtcars, cyl)`'…"
      ]
     },
     "metadata": {},
     "output_type": "display_data"
    },
    {
     "data": {
      "application/vnd.jupyter.widget-view+json": {
       "model_id": "0f2970e0a9a74c52a252df53c464e369",
       "version_major": 2,
       "version_minor": 0
      },
      "text/plain": [
       "VBox(children=(Output(), RadioButtons(layout=Layout(width='max-content'), options=(('A. filter(mtcars, hp < 10…"
      ]
     },
     "metadata": {},
     "output_type": "display_data"
    },
    {
     "data": {
      "application/vnd.jupyter.widget-view+json": {
       "model_id": "e88a54a57b334289bd87733d9888df0c",
       "version_major": 2,
       "version_minor": 0
      },
      "text/plain": [
       "VBox(children=(Output(), RadioButtons(layout=Layout(width='max-content'), options=(('A. summarize(mtcars, medi…"
      ]
     },
     "metadata": {},
     "output_type": "display_data"
    },
    {
     "data": {
      "application/vnd.jupyter.widget-view+json": {
       "model_id": "2eaacd6d4fca4b829c420a1424f63e14",
       "version_major": 2,
       "version_minor": 0
      },
      "text/plain": [
       "VBox(children=(Output(), RadioButtons(layout=Layout(width='max-content'), options=(('A. mtcars %>% group_by(cy…"
      ]
     },
     "metadata": {},
     "output_type": "display_data"
    }
   ],
   "source": [
    "if __name__ == \"__main__\":\n",
    "    display(L6P7Q1, L6P7Q2, L6P7Q3, L6P7Q4)"
   ]
  },
  {
   "cell_type": "markdown",
   "id": "c6f92979-4cbe-45b3-8536-a46ad2187e17",
   "metadata": {},
   "source": [
    "## Page 8"
   ]
  },
  {
   "cell_type": "code",
   "execution_count": 65,
   "id": "d942bf63-1ec5-4d8e-8fa7-cff5f60a53a1",
   "metadata": {},
   "outputs": [],
   "source": [
    "L6P8Q1 = MC('1. Which of the following is NOT something the pipe operator \\033[31;1m%>%\\033[0m does?',['A. Reduces the number of tiems you have to type the data frame name in','B. Makes data analysis easier to read and understand','C. Functions as \"and then\"','D. Filters automatically'],'D. Filters automatically', cor='', incor='')\n",
    "L6P8Q2 = MC('2. Which of the following commands would arrange the observations in the \\033[31;1mmtcars\\033[0m data frame in order of ascending horsepower (\\033[31;1mhp\\033[0m is the variable containing engine horsepower). In other words, the output would have the car with the lowest horsepower first, followed by the car with the next lowest horsepower, and so on.',['A. select(mtcars, hp)','B. group_by(mtcars, hp)','C. arrange(mtcars, hp)','D. filter(mtcars, hp == 245)'],'C. arrange(mtcars, hp)', cor='', incor='')\n",
    "L6P8Q3 = MC('3. Which function will allow data to be sorted from big to small?',['A. desc()','B. asc()','C. arrange()','D. order()'],'A. desc()', cor='', incor='')"
   ]
  },
  {
   "cell_type": "code",
   "execution_count": 66,
   "id": "37cda3c6-9261-48be-9d62-eb506901f8f4",
   "metadata": {},
   "outputs": [
    {
     "data": {
      "application/vnd.jupyter.widget-view+json": {
       "model_id": "3193e995617b4f72bdd8c3abc08384c7",
       "version_major": 2,
       "version_minor": 0
      },
      "text/plain": [
       "VBox(children=(Output(), RadioButtons(layout=Layout(width='max-content'), options=(('A. Reduces the number of …"
      ]
     },
     "metadata": {},
     "output_type": "display_data"
    },
    {
     "data": {
      "application/vnd.jupyter.widget-view+json": {
       "model_id": "fe552d17b7634b4091b9dfe0c7b3b026",
       "version_major": 2,
       "version_minor": 0
      },
      "text/plain": [
       "VBox(children=(Output(), RadioButtons(layout=Layout(width='max-content'), options=(('A. select(mtcars, hp)', 0…"
      ]
     },
     "metadata": {},
     "output_type": "display_data"
    },
    {
     "data": {
      "application/vnd.jupyter.widget-view+json": {
       "model_id": "bd3b8aec5fa34a7f8a8e90a4826766e1",
       "version_major": 2,
       "version_minor": 0
      },
      "text/plain": [
       "VBox(children=(Output(), RadioButtons(layout=Layout(width='max-content'), options=(('A. desc()', 0), ('B. asc(…"
      ]
     },
     "metadata": {},
     "output_type": "display_data"
    }
   ],
   "source": [
    "if __name__ == \"__main__\":\n",
    "    display(L6P8Q1, L6P8Q2, L6P8Q3)"
   ]
  },
  {
   "cell_type": "markdown",
   "id": "a987dd12-169a-4f3c-a54b-554aaca3c207",
   "metadata": {},
   "source": [
    "## Page 9"
   ]
  },
  {
   "cell_type": "code",
   "execution_count": 67,
   "id": "22f6acba-44f6-42bf-a315-c3dfbb7c3715",
   "metadata": {},
   "outputs": [],
   "source": [
    "L6P9Q1 = MC('1. Which of the following commands would return a data frame that has only the variables \\033[31;1mhp\\033[0m and \\033[31;1mcyl\\033[0m?',['A. select(mtcars, hp, cyl)','B. group_by(mtcars, hp, cyl)','C. arrange(mtcars, hp, cyl)','D. filter(mtcars, hp == 245, cyl == 6)'],'A. select(mtcars, hp, cyl)', cor='', incor='')\n",
    "L6P9Q2 = MC('2. What is mutation?',['A. What happens to superheroes when they get hit with radioactivity','B. Removing a column','C. Computing new variables from existing columns','D. Adding in a new variable from a vector'],'C. Computing new variables from existing columns', cor='', incor='')"
   ]
  },
  {
   "cell_type": "code",
   "execution_count": 68,
   "id": "d3a82754-0f14-48f2-ad89-6edf9fbc30ca",
   "metadata": {},
   "outputs": [
    {
     "data": {
      "application/vnd.jupyter.widget-view+json": {
       "model_id": "7f1cbfbc112f4c08bab6d618552888fb",
       "version_major": 2,
       "version_minor": 0
      },
      "text/plain": [
       "VBox(children=(Output(), RadioButtons(layout=Layout(width='max-content'), options=(('A. select(mtcars, hp, cyl…"
      ]
     },
     "metadata": {},
     "output_type": "display_data"
    },
    {
     "data": {
      "application/vnd.jupyter.widget-view+json": {
       "model_id": "70652c257e3549199624d338f8143b34",
       "version_major": 2,
       "version_minor": 0
      },
      "text/plain": [
       "VBox(children=(Output(), RadioButtons(layout=Layout(width='max-content'), options=(('A. What happens to superh…"
      ]
     },
     "metadata": {},
     "output_type": "display_data"
    }
   ],
   "source": [
    "if __name__ == \"__main__\":\n",
    "    display(L6P9Q1, L6P9Q2)"
   ]
  },
  {
   "cell_type": "markdown",
   "id": "5f588af8-edf2-45de-b9ba-b2139d4004ef",
   "metadata": {},
   "source": [
    "## Page 10"
   ]
  },
  {
   "cell_type": "code",
   "execution_count": 69,
   "id": "4ec8d358-9b4b-4548-9169-11c0b7a00952",
   "metadata": {},
   "outputs": [],
   "source": [
    "L6P10Q1 = MC('1. What is a tibble?',['A. A function','B. A matrix','C. A \"tidyverse\" specific dataframe','D. A vector'],'C. A \"tidyverse\" specific dataframe', cor='', incor='')\n",
    "L6P10Q2 = MC('2. To get the mean of a certain data frame column, which function would you use?',['A. summarize()','B. group_by()','C. select()','D. mutate()'],'A. summarize()', cor='', incor='')\n",
    "L6P10Q3 = MC('3. True or False?\\n\\n   \\033[31;1mgroup_by\\033[0m cannot be combined with any other function.\\n',['A. True','B. False'],'B. False', cor='', incor='')"
   ]
  },
  {
   "cell_type": "code",
   "execution_count": 70,
   "id": "9c029fe4-782e-49e8-a022-8fb317997bd0",
   "metadata": {},
   "outputs": [
    {
     "data": {
      "application/vnd.jupyter.widget-view+json": {
       "model_id": "222d3b797e8445bebd8f3d9aa1d2a3e8",
       "version_major": 2,
       "version_minor": 0
      },
      "text/plain": [
       "VBox(children=(Output(), RadioButtons(layout=Layout(width='max-content'), options=(('A. A function', 0), ('B. …"
      ]
     },
     "metadata": {},
     "output_type": "display_data"
    },
    {
     "data": {
      "application/vnd.jupyter.widget-view+json": {
       "model_id": "43f0c31497b24adaa04f604b619c1ec8",
       "version_major": 2,
       "version_minor": 0
      },
      "text/plain": [
       "VBox(children=(Output(), RadioButtons(layout=Layout(width='max-content'), options=(('A. summarize()', 0), ('B.…"
      ]
     },
     "metadata": {},
     "output_type": "display_data"
    },
    {
     "data": {
      "application/vnd.jupyter.widget-view+json": {
       "model_id": "a9f10003f7b4478394e02fe0a457e41d",
       "version_major": 2,
       "version_minor": 0
      },
      "text/plain": [
       "VBox(children=(Output(), RadioButtons(layout=Layout(width='max-content'), options=(('A. True', 0), ('B. False'…"
      ]
     },
     "metadata": {},
     "output_type": "display_data"
    }
   ],
   "source": [
    "if __name__ == \"__main__\":\n",
    "    display(L6P10Q1, L6P10Q2, L6P10Q3)"
   ]
  },
  {
   "cell_type": "markdown",
   "id": "3e47b2e6-822e-4415-9284-a7311a79514b",
   "metadata": {},
   "source": [
    "## Page 11"
   ]
  },
  {
   "cell_type": "code",
   "execution_count": 71,
   "id": "0c2ff872-8998-4f66-b388-f5e39ac5ad30",
   "metadata": {},
   "outputs": [],
   "source": [
    "L6P11Q1 = MC('1. Something created with the following code would yield what?\\n\\n   \\033[31;1mggplot(stress_relief, aes(x = MeditationYN, y = BloodPressure)) + geom_boxplot(aes(group = MeditationYN))',['A. A tibble summarized by MeditationYN','B. A tibble summarized by BloodPressure','C. A side-by-side box plot with BloodPressure as the grouping variable and MeditationYN as the continuous variable','D. A side-by-side box plot with MedicationYN as the grouping variable and BloodPressure as the continuous variable'],'D. A side-by-side box plot with MedicationYN as the grouping variable and BloodPressure as the continuous variable', cor='', incor='')"
   ]
  },
  {
   "cell_type": "code",
   "execution_count": 72,
   "id": "09be7dc4-b22f-4755-8efe-4a9a2fa13597",
   "metadata": {},
   "outputs": [
    {
     "data": {
      "application/vnd.jupyter.widget-view+json": {
       "model_id": "58fd2676530d4e268f96946adf95c2f6",
       "version_major": 2,
       "version_minor": 0
      },
      "text/plain": [
       "VBox(children=(Output(), RadioButtons(layout=Layout(width='max-content'), options=(('A. A tibble summarized by…"
      ]
     },
     "metadata": {},
     "output_type": "display_data"
    }
   ],
   "source": [
    "if __name__ == \"__main__\":\n",
    "    display(L6P11Q1)"
   ]
  },
  {
   "cell_type": "markdown",
   "id": "f75465f4-2605-46b8-8d5a-3757ecb74039",
   "metadata": {},
   "source": [
    "# Lesson 7\n",
    "## Page 2"
   ]
  },
  {
   "cell_type": "code",
   "execution_count": 73,
   "id": "0a49e5a2-5ba1-4a9b-904f-8ec65e660f36",
   "metadata": {},
   "outputs": [],
   "source": [
    "L7P2Q1 = MC('1. Google gives the level of Lake Huron as 577 feet above sea level. You want to test whether the data in the built-in dataset LakeHuron provides evidence that this is the correct lake level. Create a t-test to do this. What is the null hypothesis for this test?',['A. H0: mu = 0','B. H0: mu = 577','C. H0: mu = -577','D. H0: mu = 1000'],'B. H0: mu = 577', cor='', incor='')\n",
    "L7P2Q2 = MC('2. What is the p-value for this t-test?',['A. 0.05','B. 0.01','C. 0.001','D. Less than 2.2e-16 (a very small number)'],'D. Less than 2.2e-16 (a very small number)', cor='', incor='')\n",
    "L7P2Q3 = MC('3. Based on the p-value you chose, does this data provide evidence to reject the null hypotheses?',['A. Yes','B. No'],'A. Yes', cor='', incor='')\n",
    "L7P2Q4 = MC('4. What function would you use to add vertical lines to a histogram?',['A. ggplot()','B. geom_histogram()','C. geom_vline()','D. geom_hline()'],'C. geom_vline()', cor='', incor='')"
   ]
  },
  {
   "cell_type": "code",
   "execution_count": 74,
   "id": "56448ff7-1397-408b-a7c5-0bf712ee86d8",
   "metadata": {},
   "outputs": [
    {
     "data": {
      "application/vnd.jupyter.widget-view+json": {
       "model_id": "66b35a38b190459280dc6278e68746e6",
       "version_major": 2,
       "version_minor": 0
      },
      "text/plain": [
       "VBox(children=(Output(), RadioButtons(layout=Layout(width='max-content'), options=(('A. H0: mu = 0', 0), ('B. …"
      ]
     },
     "metadata": {},
     "output_type": "display_data"
    },
    {
     "data": {
      "application/vnd.jupyter.widget-view+json": {
       "model_id": "64dd6cc67be0414f9ba5453851d5b2db",
       "version_major": 2,
       "version_minor": 0
      },
      "text/plain": [
       "VBox(children=(Output(), RadioButtons(layout=Layout(width='max-content'), options=(('A. 0.05', 0), ('B. 0.01',…"
      ]
     },
     "metadata": {},
     "output_type": "display_data"
    },
    {
     "data": {
      "application/vnd.jupyter.widget-view+json": {
       "model_id": "953afae0cccd43b790170ba5ca6c9322",
       "version_major": 2,
       "version_minor": 0
      },
      "text/plain": [
       "VBox(children=(Output(), RadioButtons(layout=Layout(width='max-content'), options=(('A. Yes', 0), ('B. No', 1)…"
      ]
     },
     "metadata": {},
     "output_type": "display_data"
    },
    {
     "data": {
      "application/vnd.jupyter.widget-view+json": {
       "model_id": "adaa66bcef404bb89067c25373aa8331",
       "version_major": 2,
       "version_minor": 0
      },
      "text/plain": [
       "VBox(children=(Output(), RadioButtons(layout=Layout(width='max-content'), options=(('A. ggplot()', 0), ('B. ge…"
      ]
     },
     "metadata": {},
     "output_type": "display_data"
    }
   ],
   "source": [
    "if __name__ == \"__main__\":\n",
    "    display(L7P2Q1, L7P2Q2, L7P2Q3, L7P2Q4)"
   ]
  },
  {
   "cell_type": "markdown",
   "id": "cc6db454-449d-47a3-a2d6-9302070f3fda",
   "metadata": {},
   "source": [
    "## Page 3"
   ]
  },
  {
   "cell_type": "code",
   "execution_count": 75,
   "id": "2545a6b8-f8c6-4d97-ac60-037f447fa2bc",
   "metadata": {},
   "outputs": [],
   "source": [
    "L7P3Q1 = MC('1. Which of the following is \\033[1mNOT\\033[0m an argument for \\033[31;1malternative = in t.test()\\033[0m?',['A. greater','B. one.sided','C. less','D. two.sided'],'B. one.sided', cor='', incor='')\n",
    "L7P3Q2 = MC('2. The \\033[31;1mDAAG\\033[0m package has data on the levels of several Great Lakes; this data is in the \\033[31;1mgreatLakes\\033[0m dataset. Suppose you want to know whether Lake Erie or Lake Huron has the higher level. You can set up a hypothesis test to do this as follows. \\n\\nFirst, load the \\033[31;1mDAAG\\033[0m package with library(DAAG). Then create two vectors with these commands: \\n\\n   \\033[31;1merie <- greatLakes[,1]\\033[0m and \\033[31;1mhuron <- greatLakes[,2]\\033[0m. \\n\\nUse these vectors to create a hypothesis test to determine whether the two lake levels are equal. What is the null hypothesis for this test?',['A. H0: mu1 = mu2','B. H0: mu1 > mu2','C. H0: mu1 < mu2','D. H0: mu1 is not equal to mu2'],'A. H0: mu1 = mu2', cor='', incor='')\n",
    "L7P3Q3 = MC('3. What is the p-value for this t-test?',['A. 0.05','B. 0.01','C. 0.001','D. Less than 2.2e-16 (a very small number)'],'D. Less than 2.2e-16 (a very small number)', cor='', incor='')\n",
    "L7P3Q4 = MC('4. Based on the p-value above, does this data provide evidence to reject the null hypotheses?',['A. Yes','B. No'],'A. Yes', cor='', incor='')"
   ]
  },
  {
   "cell_type": "code",
   "execution_count": 76,
   "id": "08d51c27-75d6-454f-aca5-b040e757daf8",
   "metadata": {},
   "outputs": [
    {
     "data": {
      "application/vnd.jupyter.widget-view+json": {
       "model_id": "3104198182a4458e8e3e213574e6cebe",
       "version_major": 2,
       "version_minor": 0
      },
      "text/plain": [
       "VBox(children=(Output(), RadioButtons(layout=Layout(width='max-content'), options=(('A. greater', 0), ('B. one…"
      ]
     },
     "metadata": {},
     "output_type": "display_data"
    },
    {
     "data": {
      "application/vnd.jupyter.widget-view+json": {
       "model_id": "3cc44f46cfec402b8edbc800b96c99ae",
       "version_major": 2,
       "version_minor": 0
      },
      "text/plain": [
       "VBox(children=(Output(), RadioButtons(layout=Layout(width='max-content'), options=(('A. H0: mu1 = mu2', 0), ('…"
      ]
     },
     "metadata": {},
     "output_type": "display_data"
    },
    {
     "data": {
      "application/vnd.jupyter.widget-view+json": {
       "model_id": "54600e6e448a4bb5af5a039dc8321ddf",
       "version_major": 2,
       "version_minor": 0
      },
      "text/plain": [
       "VBox(children=(Output(), RadioButtons(layout=Layout(width='max-content'), options=(('A. 0.05', 0), ('B. 0.01',…"
      ]
     },
     "metadata": {},
     "output_type": "display_data"
    },
    {
     "data": {
      "application/vnd.jupyter.widget-view+json": {
       "model_id": "fe58a6b53d1148088b588ba17ddb3ded",
       "version_major": 2,
       "version_minor": 0
      },
      "text/plain": [
       "VBox(children=(Output(), RadioButtons(layout=Layout(width='max-content'), options=(('A. Yes', 0), ('B. No', 1)…"
      ]
     },
     "metadata": {},
     "output_type": "display_data"
    }
   ],
   "source": [
    "if __name__ == \"__main__\":\n",
    "    display(L7P3Q1, L7P3Q2, L7P3Q3, L7P3Q4)"
   ]
  },
  {
   "cell_type": "markdown",
   "id": "0a5efaaa-354b-477d-a4cd-e2997a9090e6",
   "metadata": {},
   "source": [
    "## Page 4"
   ]
  },
  {
   "cell_type": "code",
   "execution_count": 77,
   "id": "fe998168-ce67-40f9-9f71-58888f058dba",
   "metadata": {},
   "outputs": [],
   "source": [
    "L7P4Q1 = MC('1. Which of the following turns \\033[31;1mt.test\\033[0m into a dependent t test?',['A. var.equal=','B. alternative=','C. paired=TRUE','D. paired=FALSE'],'C. paired=TRUE', cor='', incor='')\n",
    "L7P4Q2 = MC('2. True or False?\\n\\nThe \\033[31;1mmelt()\\033[0m function reorganizes your data from having values stored in two columns, with a label as the header row, to values stored in one column, with labels stored in a second column.',['A. True','B. False'],'B. False', cor='', incor='')"
   ]
  },
  {
   "cell_type": "code",
   "execution_count": 78,
   "id": "dd50a7ca-dd7f-4d4a-a86b-059600f2fc5e",
   "metadata": {},
   "outputs": [
    {
     "data": {
      "application/vnd.jupyter.widget-view+json": {
       "model_id": "9e7097e044504e40a8317838506cfb02",
       "version_major": 2,
       "version_minor": 0
      },
      "text/plain": [
       "VBox(children=(Output(), RadioButtons(layout=Layout(width='max-content'), options=(('A. var.equal=', 0), ('B. …"
      ]
     },
     "metadata": {},
     "output_type": "display_data"
    },
    {
     "data": {
      "application/vnd.jupyter.widget-view+json": {
       "model_id": "bdc93229544045a4bb1bc1eac91c4133",
       "version_major": 2,
       "version_minor": 0
      },
      "text/plain": [
       "VBox(children=(Output(), RadioButtons(layout=Layout(width='max-content'), options=(('A. True', 0), ('B. False'…"
      ]
     },
     "metadata": {},
     "output_type": "display_data"
    }
   ],
   "source": [
    "if __name__ == \"__main__\":\n",
    "    display(L7P4Q1, L7P4Q2)"
   ]
  },
  {
   "cell_type": "markdown",
   "id": "6af4e5ea-b690-4646-83c9-eb61310d79ed",
   "metadata": {},
   "source": [
    "# Lesson 8\n",
    "## Page 2"
   ]
  },
  {
   "cell_type": "code",
   "execution_count": 79,
   "id": "45125675-a352-4de6-88df-c0b0b9e2d2c3",
   "metadata": {},
   "outputs": [],
   "source": [
    "L8P2Q1 = MC('1. Which command would create the following scatter plot? (above)',['A. ggplot(mtcars, aes(x = disp, y = mpg)) + geom_line()','B. ggplot(mtcars, aes(x = mpg, y = disp)) + geom_point()','C. ggplot(mtcars, aes(x = mpg, y = disp)) + geom_line()','D. ggplot(mtcars, aes(x = disp, y = mpg)) + geom_point()'],'D. ggplot(mtcars, aes(x = disp, y = mpg)) + geom_point()', cor='', incor='')\n",
    "L8P2Q2 = MC('2. Which command would create the following scatter plot with the shown regression line? (above)',['A. ggplot(mtcars, aes(x = hp, y = wt)) + geom_point() + geom_smooth(method = lm)','B. A. ggplot(mtcars, aes(x = hp, y = wt)) + geom_point() + geom_smooth(method = loess, se = False)','C. A. ggplot(mtcars, aes(x = hp, y = wt)) + geom_point() + geom_smooth(method = lm, se = FALSE)','D. A. ggplot(mtcars, aes(x = hp, y = wt)) + geom_point()'],'C. A. ggplot(mtcars, aes(x = hp, y = wt)) + geom_point() + geom_smooth(method = lm, se = FALSE)', cor='', incor='')"
   ]
  },
  {
   "cell_type": "markdown",
   "id": "efd382bf-f349-4825-b9df-88cd2fb074a7",
   "metadata": {},
   "source": [
    "<p style=\"text-align: center\">\n",
    "  <img src=\"Media/L07-ScatterPlotEx.png\" alt=\"Drawing\" style=\"width: 500px;\"/>\n",
    "</p>"
   ]
  },
  {
   "cell_type": "code",
   "execution_count": 80,
   "id": "81042cf6-3eaf-4bfc-bbf3-ecf15e351eaa",
   "metadata": {},
   "outputs": [
    {
     "data": {
      "application/vnd.jupyter.widget-view+json": {
       "model_id": "8d72a085d72844f0a7904ba4c2e8362e",
       "version_major": 2,
       "version_minor": 0
      },
      "text/plain": [
       "VBox(children=(Output(), RadioButtons(layout=Layout(width='max-content'), options=(('A. ggplot(mtcars, aes(x =…"
      ]
     },
     "metadata": {},
     "output_type": "display_data"
    }
   ],
   "source": [
    "if __name__ == \"__main__\":\n",
    "    display(L8P2Q1)"
   ]
  },
  {
   "cell_type": "markdown",
   "id": "89866812-e0be-4e96-9ce6-a4bba401a063",
   "metadata": {},
   "source": [
    "<p style=\"text-align: center\">\n",
    "  <img src=\"Media/L07-ScatterPlotEx2.png\" alt=\"Drawing\" style=\"width: 500px;\"/>\n",
    "</p>"
   ]
  },
  {
   "cell_type": "code",
   "execution_count": 81,
   "id": "10b36590-195b-45ff-b42e-6c3c210322d9",
   "metadata": {},
   "outputs": [
    {
     "data": {
      "application/vnd.jupyter.widget-view+json": {
       "model_id": "fde66aef02e04be69e59a3e74c8be5d5",
       "version_major": 2,
       "version_minor": 0
      },
      "text/plain": [
       "VBox(children=(Output(), RadioButtons(layout=Layout(width='max-content'), options=(('A. ggplot(mtcars, aes(x =…"
      ]
     },
     "metadata": {},
     "output_type": "display_data"
    }
   ],
   "source": [
    "if __name__ == \"__main__\":\n",
    "    display(L8P2Q2)"
   ]
  },
  {
   "cell_type": "markdown",
   "id": "e58d9192-8831-4ea1-a664-f31badff8078",
   "metadata": {},
   "source": [
    "## Page 3"
   ]
  },
  {
   "cell_type": "code",
   "execution_count": 82,
   "id": "7b32d725-d5fe-4406-a7f0-d3b7a857271e",
   "metadata": {},
   "outputs": [],
   "source": [
    "L8P3Q1 = MC('1. A scatter plot is shown [above]. Are x and y positively correlated, negatively correlated, or uncorrelated?',['A. Positively correlated','B. Negatively correlated','C. Uncorrelated'],'A. Positively correlated', cor='', incor='')\n",
    "L8P3Q2 = MC('2. Another scatter plot is shown [above]. Are x and y positively correlated, negatively correlated, or uncorrelated?',['A. Positively correlated','B. Negatively correlated','C. Uncorrelated'],'B. Negatively correlated', cor='', incor='')\n",
    "L8P3Q3 = MC('3. A third scatter plot is shown [above]. Are x and y positively correlated, negatively correlated, or uncorrelated?',['A. Posively correlated','B. Negatively correlated','C. Uncorrelated'],'C. Uncorrelated', cor='', incor='')"
   ]
  },
  {
   "cell_type": "markdown",
   "id": "cb5b90cb-b25d-4728-95e1-a563329a37cd",
   "metadata": {},
   "source": [
    "<p style=\"text-align: center\">\n",
    "  <img src=\"Media/L07-CorrelationEx1.png\" alt=\"Drawing\" style=\"width: 500px;\"/>\n",
    "</p>"
   ]
  },
  {
   "cell_type": "code",
   "execution_count": 83,
   "id": "d0c9163c-5c56-48cd-8b25-739c76d4d289",
   "metadata": {},
   "outputs": [
    {
     "data": {
      "application/vnd.jupyter.widget-view+json": {
       "model_id": "5d7f47a468b441d8a0623b0a3566ee3c",
       "version_major": 2,
       "version_minor": 0
      },
      "text/plain": [
       "VBox(children=(Output(), RadioButtons(layout=Layout(width='max-content'), options=(('A. Positively correlated'…"
      ]
     },
     "metadata": {},
     "output_type": "display_data"
    }
   ],
   "source": [
    "if __name__ == \"__main__\":\n",
    "    display(L8P3Q1)"
   ]
  },
  {
   "cell_type": "markdown",
   "id": "28350c61-f378-4fbb-9cfa-da88b60da817",
   "metadata": {},
   "source": [
    "<p style=\"text-align: center\">\n",
    "  <img src=\"Media/L07-CorrelationEx2.png\" alt=\"Drawing\" style=\"width: 500px;\"/>\n",
    "</p>"
   ]
  },
  {
   "cell_type": "code",
   "execution_count": 84,
   "id": "add724ab-00a2-4d0c-92f2-388057798e71",
   "metadata": {},
   "outputs": [
    {
     "data": {
      "application/vnd.jupyter.widget-view+json": {
       "model_id": "dd37c71e69ca4d458d199e3e11b1b616",
       "version_major": 2,
       "version_minor": 0
      },
      "text/plain": [
       "VBox(children=(Output(), RadioButtons(layout=Layout(width='max-content'), options=(('A. Positively correlated'…"
      ]
     },
     "metadata": {},
     "output_type": "display_data"
    }
   ],
   "source": [
    "if __name__ == \"__main__\":\n",
    "    display(L8P3Q2)"
   ]
  },
  {
   "cell_type": "markdown",
   "id": "7daf3ec9-97ab-4fc2-b75b-8c431980fc01",
   "metadata": {},
   "source": [
    "<p style=\"text-align: center\">\n",
    "  <img src=\"Media/L07-CorrelationEx3.png\" alt=\"Drawing\" style=\"width: 500px;\"/>\n",
    "</p>"
   ]
  },
  {
   "cell_type": "code",
   "execution_count": 85,
   "id": "221201bd-c596-42a3-be42-20519b22dc92",
   "metadata": {},
   "outputs": [
    {
     "data": {
      "application/vnd.jupyter.widget-view+json": {
       "model_id": "934fcb4801c94cfb8dc70151e6fc0d92",
       "version_major": 2,
       "version_minor": 0
      },
      "text/plain": [
       "VBox(children=(Output(), RadioButtons(layout=Layout(width='max-content'), options=(('A. Posively correlated', …"
      ]
     },
     "metadata": {},
     "output_type": "display_data"
    }
   ],
   "source": [
    "if __name__ == \"__main__\":\n",
    "    display(L8P3Q3)"
   ]
  },
  {
   "cell_type": "markdown",
   "id": "de75cf88-73ad-4603-88ca-79ab5047e43f",
   "metadata": {},
   "source": [
    "## Page 4"
   ]
  },
  {
   "cell_type": "code",
   "execution_count": 86,
   "id": "4173a542-8a1d-42cc-be21-bf9debb8c124",
   "metadata": {},
   "outputs": [],
   "source": [
    "L8P4Q1 = MC('1. Which function would you use if you only wanted to examine the correlation between one set of variables?',['A. cor.test()','B. cor()','C. corrplot()','D. chart.Correlation()'],'A. cor.test()', cor='', incor='')\n",
    "L8P4Q2 = MC('2. Which function would you use to get a correlation matrix for a presentation?',['A. cor.test()','B. cor()','C. corrplot()','D. chart.Correlation()'],'C. corrplot()', cor='', incor='')\n",
    "L8P4Q3 = MC('3. Which function will provide a text-based correlation matrix?',['A. cor.test()','B. cor()','C. corrplot()','D. chart.Correlation()'],'B. cor()', cor='', incor='')\n",
    "L8P4Q4 = MC('4. Which function will provide a chart with both p and r values?',['A. cor.test','B. cor()','C. corrplot()','D. chart.Correlation()'],'D. chart.Correlation()', cor='', incor='')"
   ]
  },
  {
   "cell_type": "code",
   "execution_count": 87,
   "id": "321164cc-e18f-4814-b7ec-e1534afaefe0",
   "metadata": {},
   "outputs": [
    {
     "data": {
      "application/vnd.jupyter.widget-view+json": {
       "model_id": "f38f0bde929543d6a89a5b2638110b4e",
       "version_major": 2,
       "version_minor": 0
      },
      "text/plain": [
       "VBox(children=(Output(), RadioButtons(layout=Layout(width='max-content'), options=(('A. cor.test()', 0), ('B. …"
      ]
     },
     "metadata": {},
     "output_type": "display_data"
    },
    {
     "data": {
      "application/vnd.jupyter.widget-view+json": {
       "model_id": "cd10013edea249109bdcbc4b1307ce66",
       "version_major": 2,
       "version_minor": 0
      },
      "text/plain": [
       "VBox(children=(Output(), RadioButtons(layout=Layout(width='max-content'), options=(('A. cor.test()', 0), ('B. …"
      ]
     },
     "metadata": {},
     "output_type": "display_data"
    },
    {
     "data": {
      "application/vnd.jupyter.widget-view+json": {
       "model_id": "204dfc21010a4f0ea49ebfa94e1c4bf3",
       "version_major": 2,
       "version_minor": 0
      },
      "text/plain": [
       "VBox(children=(Output(), RadioButtons(layout=Layout(width='max-content'), options=(('A. cor.test()', 0), ('B. …"
      ]
     },
     "metadata": {},
     "output_type": "display_data"
    },
    {
     "data": {
      "application/vnd.jupyter.widget-view+json": {
       "model_id": "f024c41726fd443f9bb2bd4435506fe8",
       "version_major": 2,
       "version_minor": 0
      },
      "text/plain": [
       "VBox(children=(Output(), RadioButtons(layout=Layout(width='max-content'), options=(('A. cor.test', 0), ('B. co…"
      ]
     },
     "metadata": {},
     "output_type": "display_data"
    }
   ],
   "source": [
    "if __name__ == \"__main__\":\n",
    "    display(L8P4Q1, L8P4Q2, L8P4Q3, L8P4Q4)"
   ]
  },
  {
   "cell_type": "markdown",
   "id": "ba866746-5680-48d7-9585-8f9d31a40b5f",
   "metadata": {},
   "source": [
    "## Page 5"
   ]
  },
  {
   "cell_type": "code",
   "execution_count": 88,
   "id": "88499a76-deef-4cd2-b561-bf8a91b4a1a9",
   "metadata": {},
   "outputs": [],
   "source": [
    "L8P5Q1 = MC('1. What is the difference between simple linear regression and multiple regression?',['A. Simple linear regression has only one y, multiple linear regression has more than one.','B. Simple linear regression has more than one y, multiple linear regression has only one','C. Simple linear regression has only one x, multiple linear regression has more than one','D. Simple linear regression has more than one x, multiple linear regression has only one'],'C. Simple linear regression has only one x, multiple linear regression has more than one', cor='', incor='')\n",
    "L8P5Q2 = MC('2. What is the slope of a line?',['A. Variable used to do the predicting','B. What you are predicting','C. How steep the line angles','D. Where the line crosses the y axis'],'C. How steep the line angles', cor='', incor='')\n",
    "L8P5Q3 = MC('3. What is the y-intercept?',['A. Variable used to do the predicting','B. What you are predicting','C. How steep the line angles','D. Where the line crosses the y axis'],'D. Where the line crosses the y axis', cor='', incor='')"
   ]
  },
  {
   "cell_type": "code",
   "execution_count": 89,
   "id": "4c2d64a9-d50c-46d1-b93a-9263fa8e6a80",
   "metadata": {},
   "outputs": [
    {
     "data": {
      "application/vnd.jupyter.widget-view+json": {
       "model_id": "402e3ce4246b48cf9a2af4abc7639aec",
       "version_major": 2,
       "version_minor": 0
      },
      "text/plain": [
       "VBox(children=(Output(), RadioButtons(layout=Layout(width='max-content'), options=(('A. Simple linear regressi…"
      ]
     },
     "metadata": {},
     "output_type": "display_data"
    },
    {
     "data": {
      "application/vnd.jupyter.widget-view+json": {
       "model_id": "fbc6967c65fd4359bda587d0c134b678",
       "version_major": 2,
       "version_minor": 0
      },
      "text/plain": [
       "VBox(children=(Output(), RadioButtons(layout=Layout(width='max-content'), options=(('A. Variable used to do th…"
      ]
     },
     "metadata": {},
     "output_type": "display_data"
    },
    {
     "data": {
      "application/vnd.jupyter.widget-view+json": {
       "model_id": "ffead586aad640c2b3c578cc9f9aa8d3",
       "version_major": 2,
       "version_minor": 0
      },
      "text/plain": [
       "VBox(children=(Output(), RadioButtons(layout=Layout(width='max-content'), options=(('A. Variable used to do th…"
      ]
     },
     "metadata": {},
     "output_type": "display_data"
    }
   ],
   "source": [
    "if __name__ == \"__main__\":\n",
    "    display(L8P5Q1, L8P5Q2, L8P5Q3)"
   ]
  },
  {
   "cell_type": "markdown",
   "id": "6cd3e37a-7a58-4150-90df-f2b974ae85e5",
   "metadata": {},
   "source": [
    "## Page 6"
   ]
  },
  {
   "cell_type": "code",
   "execution_count": 90,
   "id": "6f2101b5-3ba0-45fc-ac41-42ba43c67571",
   "metadata": {},
   "outputs": [],
   "source": [
    "L8P6Q1 = MC('1. What does the \\033[31;1mF-statistic\\033[0m and accompanying p value tell you in the linear model summary?',['A. The y intercept','B. The slope','C. Whether the overall model is significant','D. Whether an individual predictor is significant'],'C. Whether the overall model is significant', cor='', incor='')\n",
    "L8P6Q2 = MC('2. Suppose you have a data frame \\033[31;1mstuff\\033[0m with the variables \\033[31;1mx\\033[0m and \\033[31;1my\\033[0m. You run a linear regression on \\033[31;1mstuff\\033[0m with this command: \\033[31;1mlm(y ~ x, stuff)\\033[0m. You then print the resulting object. From this object, you see that the intercept is 1.2828 and the slope is -0.3285. What is the equation of the linear regression line??',['A. x = 1.2828 y - 0.328','B. x = -0.3285 y + 1.2828','C. y = -0.3285 x + 1.2828','D. y = 1.2828 x - 0.3285'],'C. y = -0.3285 x + 1.2828', cor='', incor='')\n",
    "L8P6Q3 = MC('3. Eating asparagus produces a pungent smell in urine. However, only people with certain genes can smell it! If a model was created using genetics to predict the extent to which the pungent smell was present, and the R-squared value was .88, how would you interpret this?',['A. Smelling urine explains 88% of the variance in genetics','B. Genetics explains 88% of the variance in the ability to smell asparagus-laced urine','C. There is an 88% chance that genetics is a significant predictor of the ability to smell asparagus-laced urine','D. There is an 88% chance that genetics is related to the ability to smell asparagus-laced urine'],'B. Genetics explains 88% of the variance in the ability to smell asparagus-laced urine', cor='', incor='')"
   ]
  },
  {
   "cell_type": "code",
   "execution_count": 91,
   "id": "67a585da-2abd-41e6-93ae-7a7be49853e6",
   "metadata": {},
   "outputs": [
    {
     "data": {
      "application/vnd.jupyter.widget-view+json": {
       "model_id": "bec266a2a6ce40448f12d40b844c0de1",
       "version_major": 2,
       "version_minor": 0
      },
      "text/plain": [
       "VBox(children=(Output(), RadioButtons(layout=Layout(width='max-content'), options=(('A. The y intercept', 0), …"
      ]
     },
     "metadata": {},
     "output_type": "display_data"
    },
    {
     "data": {
      "application/vnd.jupyter.widget-view+json": {
       "model_id": "cdacb76d52fc4c9a80b8b8f690012b48",
       "version_major": 2,
       "version_minor": 0
      },
      "text/plain": [
       "VBox(children=(Output(), RadioButtons(layout=Layout(width='max-content'), options=(('A. x = 1.2828 y - 0.328',…"
      ]
     },
     "metadata": {},
     "output_type": "display_data"
    },
    {
     "data": {
      "application/vnd.jupyter.widget-view+json": {
       "model_id": "2ffb9bce5121469eb99a5d4d3aeb8124",
       "version_major": 2,
       "version_minor": 0
      },
      "text/plain": [
       "VBox(children=(Output(), RadioButtons(layout=Layout(width='max-content'), options=(('A. Smelling urine explain…"
      ]
     },
     "metadata": {},
     "output_type": "display_data"
    }
   ],
   "source": [
    "if __name__ == \"__main__\":\n",
    "    display(L8P6Q1, L8P6Q2, L8P6Q3)"
   ]
  },
  {
   "cell_type": "markdown",
   "id": "f5ef8a46-1e3d-4c23-8e31-4b92534b14f4",
   "metadata": {},
   "source": [
    "# Lesson 9\n",
    "## Page 2"
   ]
  },
  {
   "cell_type": "code",
   "execution_count": 92,
   "id": "ba2b34be-9490-4a94-8a5e-e8fa2f190752",
   "metadata": {},
   "outputs": [],
   "source": [
    "L9P2Q1 = MC('1. Suppose you wish to look specifically at countries in Europe. Which of the following commands would give a data set consisting of only the European countries?',['A. gm.Europe <- filter(gapminder, continent == Europe)','B. gm.Europe <- filter(gapminder, continent = \"Europe\")','C. gm.Europe <- filter(gapminder, continent == \"Europe\")','D. gm.Europe <- filter(gapminder, continent = \"Asia\")'],'C. gm.Europe <- filter(gapminder, continent == \"Europe\")', cor='', incor='')\n",
    "L9P2Q2 = MC('2. From your \\033[31;1mgm.Europe\\033[0m tibble, you want to create the following set (above) of box plots of life expectancy of European countries as time increases. \\n\\nWhich of the following commands would create the box plots?',['A. ggplot(gm.Europe, aes(x = year, y = lifeExp)) + geom_boxplot()','B. ggplot(gm.Europe, aes(x = factor(year), y = lifeExp)) + geom_boxplot()','C. ggplot(gm.Europe, aes(x = factor(year), y = pop)) + geom_boxplot()','D. ggplot(gapminder, continent == \"Europe\", aes(x = factor(year), y = lifeExp)) + geom_boxplot()'],'B. ggplot(gm.Europe, aes(x = factor(year), y = lifeExp)) + geom_boxplot()', cor='', incor='')\n",
    "L9P2Q3 = MC('3. In the [above] graph, there was one or more countries that, in the early years, has much shorter life expectancy than the rest of the countries in Europe. Which of the following commands would give you the rows for these countries?',['A. filter(gm.Europe, lifeExp > 53)','B. filter(gm.Europe, lifeExp == 53)','C. filter(gm.Europe, lifeExp != 53)','D. filter(gm.Europe, lifeExp < 53)'],'D. filter(gm.Europe, lifeExp < 53)', cor='', incor='')\n",
    "L9P2Q4 = MC('4. From the rows found in the previous question, which country had significantly lower life spans in the early years?',['A. Albania','B. France','C. Poland','D. Turkey'],'D. Turkey', cor='', incor='')"
   ]
  },
  {
   "cell_type": "code",
   "execution_count": 93,
   "id": "51050b47-3706-4689-a7be-39d237b5f631",
   "metadata": {},
   "outputs": [
    {
     "data": {
      "application/vnd.jupyter.widget-view+json": {
       "model_id": "02297fbdbfae4585a38b026def148348",
       "version_major": 2,
       "version_minor": 0
      },
      "text/plain": [
       "VBox(children=(Output(), RadioButtons(layout=Layout(width='max-content'), options=(('A. gm.Europe <- filter(ga…"
      ]
     },
     "metadata": {},
     "output_type": "display_data"
    }
   ],
   "source": [
    "if __name__ == \"__main__\":\n",
    "    display(L9P2Q1)"
   ]
  },
  {
   "cell_type": "markdown",
   "id": "c62b2a81-901c-4200-947c-58978c1544aa",
   "metadata": {},
   "source": [
    "<p style=\"text-align: center\">\n",
    "  <img src=\"Media/L09-LifeBoxPlot.png\" alt=\"Drawing\" style=\"width: 500px;\"/>\n",
    "</p>"
   ]
  },
  {
   "cell_type": "code",
   "execution_count": 94,
   "id": "b66fd64f-6bb8-48e0-a6bb-a14c48213d77",
   "metadata": {},
   "outputs": [
    {
     "data": {
      "application/vnd.jupyter.widget-view+json": {
       "model_id": "bb96e92f83b642819014211198522dcb",
       "version_major": 2,
       "version_minor": 0
      },
      "text/plain": [
       "VBox(children=(Output(), RadioButtons(layout=Layout(width='max-content'), options=(('A. ggplot(gm.Europe, aes(…"
      ]
     },
     "metadata": {},
     "output_type": "display_data"
    }
   ],
   "source": [
    "if __name__ == \"__main__\":\n",
    "    display(L9P2Q2)"
   ]
  },
  {
   "cell_type": "markdown",
   "id": "f5361082-e640-49f7-85ab-814662be2f5e",
   "metadata": {},
   "source": [
    "<p style=\"text-align: center\">\n",
    "  <img src=\"Media/L09-LifeBoxPlot.png\" alt=\"Drawing\" style=\"width: 500px;\"/>\n",
    "</p>"
   ]
  },
  {
   "cell_type": "code",
   "execution_count": 95,
   "id": "76a97c63-fa9c-4cc3-a662-19a7e693f4bd",
   "metadata": {},
   "outputs": [
    {
     "data": {
      "application/vnd.jupyter.widget-view+json": {
       "model_id": "bd0bfd7ef15c43b2805ce675c1bf78a5",
       "version_major": 2,
       "version_minor": 0
      },
      "text/plain": [
       "VBox(children=(Output(), RadioButtons(layout=Layout(width='max-content'), options=(('A. filter(gm.Europe, life…"
      ]
     },
     "metadata": {},
     "output_type": "display_data"
    },
    {
     "data": {
      "application/vnd.jupyter.widget-view+json": {
       "model_id": "8795b0ba1b864924ab948306f13a4d28",
       "version_major": 2,
       "version_minor": 0
      },
      "text/plain": [
       "VBox(children=(Output(), RadioButtons(layout=Layout(width='max-content'), options=(('A. Albania', 0), ('B. Fra…"
      ]
     },
     "metadata": {},
     "output_type": "display_data"
    }
   ],
   "source": [
    "if __name__ == \"__main__\":\n",
    "    display(L9P2Q3, L9P2Q4)"
   ]
  },
  {
   "cell_type": "markdown",
   "id": "6b5deaec-351d-4e74-80a2-82a501f761fa",
   "metadata": {},
   "source": [
    "## Page 3"
   ]
  },
  {
   "cell_type": "code",
   "execution_count": 96,
   "id": "e51e3794-364a-4ff7-b8fb-56254f0a5a3b",
   "metadata": {},
   "outputs": [],
   "source": [
    "L9P3Q1 = MC('1. Suppose you wish to compare the three most populous countries in 2007: China, India, and the United States. \\nWhich of the following commands would get their data from the \\033[31;1mgapminder\\033[0m data frame?',['A. gm_big3 <- filter(gapminder, country %in% (\"China\", \"India\", \"United States\"))','B. A. gm_big3 <- filter(gapminder, country == c(\"China\", \"India\", \"United States\"))','C. A. gm_big3 <- filter(gapminder, country %in% c(\"China\", \"India\", \"United States\"))','D. A. gm_big3 <- filter(gapminder, country %in% pop > 100000000)'],'C. A. gm_big3 <- filter(gapminder, country %in% c(\"China\", \"India\", \"United States\"))', cor='', incor='')\n",
    "L9P3Q2 = MC('2. Which of the following commands would produce the following [above] plot comparing life expectancy between the three countries?',['A. ggplot(gm_big3) + geom_line(aes(x = year, y = lifeExp, color = country))','B. ggplot(gm_big3) + geom_line(aes(x = year, y = lifeExp))','C. ggplot(gm_big3) + geom_path(aes(x = year, y = lifeExp))','D. ggplot(gm_big3) + geom_point(aes(x = year, y = lifeExp, color = country))'],'A. ggplot(gm_big3) + geom_line(aes(x = year, y = lifeExp, color = country))', cor='', incor='')\n",
    "L9P3Q3 = MC('3. Which of the following commands would produce the following [above] plot showing per capita GDP and population?',['A. ggplot(gm_big3, aes(x = gdpPercap, y = pop)) + geom_point()','B. ggplot(gm_big3, aes(x = gdpPercap, y = pop, color = country)) + geom_point()','C. ggplot(gm_big3, aes(x = pop, y = gdpPercap, color = country)) + geom_path()','D. ggplot(gm_big3, aes(x = pop, y = gdpPercap, color = country)) + geom_point()'],'D. ggplot(gm_big3, aes(x = pop, y = gdpPercap, color = country)) + geom_point()', cor='', incor='')\n"
   ]
  },
  {
   "cell_type": "code",
   "execution_count": 97,
   "id": "a119a07c-b5bb-454a-9d93-2fd57ca91be1",
   "metadata": {},
   "outputs": [
    {
     "data": {
      "application/vnd.jupyter.widget-view+json": {
       "model_id": "345b11f7accd4da4b785b9431fae0986",
       "version_major": 2,
       "version_minor": 0
      },
      "text/plain": [
       "VBox(children=(Output(), RadioButtons(layout=Layout(width='max-content'), options=(('A. gm_big3 <- filter(gapm…"
      ]
     },
     "metadata": {},
     "output_type": "display_data"
    }
   ],
   "source": [
    "if __name__ == \"__main__\":\n",
    "    display(L9P3Q1)"
   ]
  },
  {
   "cell_type": "markdown",
   "id": "f2bcd7e8-4327-421c-9d52-5ab7d935bbe6",
   "metadata": {},
   "source": [
    "<p style=\"text-align: center\">\n",
    "  <img src=\"Media/L09-ExerciseBig3.png\" alt=\"Drawing\" style=\"width: 500px;\"/>\n",
    "</p>"
   ]
  },
  {
   "cell_type": "code",
   "execution_count": 98,
   "id": "9ba6aa78-6fb2-4f15-8bf7-1e35221f5224",
   "metadata": {},
   "outputs": [
    {
     "data": {
      "application/vnd.jupyter.widget-view+json": {
       "model_id": "1b1d85035db64d03b6329e2a711a4885",
       "version_major": 2,
       "version_minor": 0
      },
      "text/plain": [
       "VBox(children=(Output(), RadioButtons(layout=Layout(width='max-content'), options=(('A. ggplot(gm_big3) + geom…"
      ]
     },
     "metadata": {},
     "output_type": "display_data"
    }
   ],
   "source": [
    "if __name__ == \"__main__\":\n",
    "    display(L9P3Q2)"
   ]
  },
  {
   "cell_type": "markdown",
   "id": "ddbeb8f6-e412-46b3-bad0-bc9984029cef",
   "metadata": {},
   "source": [
    "<p style=\"text-align: center\">\n",
    "  <img src=\"Media/L09-ExerciseBig3Points.png\" alt=\"Drawing\" style=\"width: 500px;\"/>\n",
    "</p>"
   ]
  },
  {
   "cell_type": "code",
   "execution_count": 99,
   "id": "febfda13-ae11-44ff-a549-1d6f1babe5ff",
   "metadata": {},
   "outputs": [
    {
     "data": {
      "application/vnd.jupyter.widget-view+json": {
       "model_id": "4c8fc0f6c5784a8c8454ca7d12a323ee",
       "version_major": 2,
       "version_minor": 0
      },
      "text/plain": [
       "VBox(children=(Output(), RadioButtons(layout=Layout(width='max-content'), options=(('A. ggplot(gm_big3, aes(x …"
      ]
     },
     "metadata": {},
     "output_type": "display_data"
    }
   ],
   "source": [
    "if __name__ == \"__main__\":\n",
    "    display(L9P3Q3)"
   ]
  },
  {
   "cell_type": "markdown",
   "id": "b02fbb55-ce42-4921-8a07-2785e977ec3e",
   "metadata": {},
   "source": [
    "# Page 4"
   ]
  },
  {
   "cell_type": "code",
   "execution_count": 100,
   "id": "6abfbb83-df27-4c36-9a66-bca8c5f3bbec",
   "metadata": {},
   "outputs": [],
   "source": [
    "L9P4Q1 = MC('1. Suppose you wish to create a data set of median life expectancy as a function of year for the whole \\033[31;1mgapminder\\033[0m data set. What command would do this?',['A. life <- gapminder %>% group_by(year)','B. life <- gapminder %>% summarise(life.med = median(lifeExp))','C. life <- gapminder > group_by(year) %>% summarise(life.med = median(lifeExp))','D. life <- gapminder %>% group_by(year) %>% summarise(life.med = median(lifeExp))'],'D. life <- gapminder %>% group_by(year) %>% summarise(life.med = median(lifeExp))', cor='', incor='')\n",
    "L9P4Q2 = MC('2. True or False?\\n\\n   Functions end in (), arguments end in =',['A. True','B. False'],'A. True', cor='', incor='')"
   ]
  },
  {
   "cell_type": "code",
   "execution_count": 101,
   "id": "b59ec304-0b82-40a0-abd0-4c3c92645ae3",
   "metadata": {},
   "outputs": [
    {
     "data": {
      "application/vnd.jupyter.widget-view+json": {
       "model_id": "c97e6c4f04aa4dbe8a03298d9df1fb17",
       "version_major": 2,
       "version_minor": 0
      },
      "text/plain": [
       "VBox(children=(Output(), RadioButtons(layout=Layout(width='max-content'), options=(('A. life <- gapminder %>% …"
      ]
     },
     "metadata": {},
     "output_type": "display_data"
    },
    {
     "data": {
      "application/vnd.jupyter.widget-view+json": {
       "model_id": "81463cdc955445e69dd0e420dde7b38a",
       "version_major": 2,
       "version_minor": 0
      },
      "text/plain": [
       "VBox(children=(Output(), RadioButtons(layout=Layout(width='max-content'), options=(('A. True', 0), ('B. False'…"
      ]
     },
     "metadata": {},
     "output_type": "display_data"
    }
   ],
   "source": [
    "if __name__ == \"__main__\":\n",
    "    display(L9P4Q1, L9P4Q2)"
   ]
  },
  {
   "cell_type": "markdown",
   "id": "515fa7dd-fe4b-4a9d-8989-6ac2503d25c3",
   "metadata": {},
   "source": [
    "## Page 8"
   ]
  },
  {
   "cell_type": "code",
   "execution_count": 102,
   "id": "e5516036-150e-4b92-af94-6adf28b44a50",
   "metadata": {},
   "outputs": [],
   "source": [
    "L9P8Q1 = MC('1. True or False?\\n\\n   The * is a wild card that means \"anything.\"',['A. True','B. False'],'A. True', cor='', incor='')"
   ]
  },
  {
   "cell_type": "code",
   "execution_count": 103,
   "id": "e46c1ac0-da0f-491f-b260-670c75a1d9bd",
   "metadata": {},
   "outputs": [
    {
     "data": {
      "application/vnd.jupyter.widget-view+json": {
       "model_id": "df0e192da62d4330b30561552ab2e5f2",
       "version_major": 2,
       "version_minor": 0
      },
      "text/plain": [
       "VBox(children=(Output(), RadioButtons(layout=Layout(width='max-content'), options=(('A. True', 0), ('B. False'…"
      ]
     },
     "metadata": {},
     "output_type": "display_data"
    }
   ],
   "source": [
    "if __name__ == \"__main__\":\n",
    "    display(L9P8Q1)"
   ]
  },
  {
   "cell_type": "markdown",
   "id": "f52f0443-1caf-49b8-8f10-72b32e89629d",
   "metadata": {},
   "source": [
    "## Page 9"
   ]
  },
  {
   "cell_type": "code",
   "execution_count": 104,
   "id": "52ff52c7-d8ed-4c2c-bb21-8909b63e4135",
   "metadata": {},
   "outputs": [],
   "source": [
    "L9P9Q1 = MC('1. What is another word for a directory?',['A. File','B. Path','C. Root','D. File folder'],'D. File folder', cor='', incor='')\n",
    "L9P9Q2 = MC('2. True or False?\\n\\n   The path is a specific location of a file',['A. True','B. False'],'A. True', cor='', incor='')"
   ]
  },
  {
   "cell_type": "code",
   "execution_count": 105,
   "id": "a65d7e70-ab3e-4ed8-8828-fca594b5f8ac",
   "metadata": {},
   "outputs": [
    {
     "data": {
      "application/vnd.jupyter.widget-view+json": {
       "model_id": "200276ea58c24d309578e28399fc824f",
       "version_major": 2,
       "version_minor": 0
      },
      "text/plain": [
       "VBox(children=(Output(), RadioButtons(layout=Layout(width='max-content'), options=(('A. File', 0), ('B. Path',…"
      ]
     },
     "metadata": {},
     "output_type": "display_data"
    },
    {
     "data": {
      "application/vnd.jupyter.widget-view+json": {
       "model_id": "4df98dcce72d4e979d78aabc40109b13",
       "version_major": 2,
       "version_minor": 0
      },
      "text/plain": [
       "VBox(children=(Output(), RadioButtons(layout=Layout(width='max-content'), options=(('A. True', 0), ('B. False'…"
      ]
     },
     "metadata": {},
     "output_type": "display_data"
    }
   ],
   "source": [
    "if __name__ == \"__main__\":\n",
    "    display(L9P9Q1, L9P9Q2)"
   ]
  },
  {
   "cell_type": "markdown",
   "id": "f9a01d77-59eb-491a-9404-1246a9e91216",
   "metadata": {},
   "source": [
    "## Page 10"
   ]
  },
  {
   "cell_type": "code",
   "execution_count": 106,
   "id": "b5ead2a2-67fd-4204-9d42-073cc153dad3",
   "metadata": {},
   "outputs": [],
   "source": [
    "L9P10Q1 = MC('1. Which directory does \\033[31;1mdir test\\033[0m list the files for?',['A. C:\\\\Users<username>\\\\test','B. C:\\\\test','C. C:\\\\Users<username>\\\\Documents\\\\test','D. It depends on the current directory'],'D. It depends on the current directory', cor='', incor='')\n",
    "L9P10Q2 = MC('2. A path starting with \\033[31;1mC:\\\\\\033[0m on Windows or \\033[31;1m/\\033[0m on MacOS/Linux is known as what type of path?',['A. Incremental','B. Absolute','C. Relative','D. Root'],'B. Absolute', cor='', incor='')\n",
    "L9P10Q3 = MC('3. Which command switches the current directory?',['A. mv','B. cd','C. ls','D. move'],'B. cd', cor='', incor='')"
   ]
  },
  {
   "cell_type": "code",
   "execution_count": 107,
   "id": "061e9755-40b0-4716-a1ed-7a031949e7fc",
   "metadata": {},
   "outputs": [
    {
     "data": {
      "application/vnd.jupyter.widget-view+json": {
       "model_id": "a4dc6c4a66b14b5e8d585f8da30db121",
       "version_major": 2,
       "version_minor": 0
      },
      "text/plain": [
       "VBox(children=(Output(), RadioButtons(layout=Layout(width='max-content'), options=(('A. C:\\\\Users<username>\\\\t…"
      ]
     },
     "metadata": {},
     "output_type": "display_data"
    },
    {
     "data": {
      "application/vnd.jupyter.widget-view+json": {
       "model_id": "38d9915853d54955bd463183ac06a442",
       "version_major": 2,
       "version_minor": 0
      },
      "text/plain": [
       "VBox(children=(Output(), RadioButtons(layout=Layout(width='max-content'), options=(('A. Incremental', 0), ('B.…"
      ]
     },
     "metadata": {},
     "output_type": "display_data"
    },
    {
     "data": {
      "application/vnd.jupyter.widget-view+json": {
       "model_id": "3483ae02ae204db4b1f294577b32319e",
       "version_major": 2,
       "version_minor": 0
      },
      "text/plain": [
       "VBox(children=(Output(), RadioButtons(layout=Layout(width='max-content'), options=(('A. mv', 0), ('B. cd', 1),…"
      ]
     },
     "metadata": {},
     "output_type": "display_data"
    }
   ],
   "source": [
    "if __name__ == \"__main__\":\n",
    "    display(L9P10Q1, L9P10Q2, L9P10Q3)"
   ]
  },
  {
   "cell_type": "markdown",
   "id": "58f55324-4291-409c-9e34-8178f4125843",
   "metadata": {},
   "source": [
    "## Page 11"
   ]
  },
  {
   "cell_type": "code",
   "execution_count": 108,
   "id": "26ed5368-0e77-48a2-9bdd-3841aff01737",
   "metadata": {},
   "outputs": [],
   "source": [
    "L9P11Q1 = MC('1. Windows and MacOS have most commands in common',['A. True','B. False'],'B. False', cor='', incor='')"
   ]
  },
  {
   "cell_type": "code",
   "execution_count": 109,
   "id": "737751aa-cb52-439d-ac7d-04fc40a383ee",
   "metadata": {},
   "outputs": [
    {
     "data": {
      "application/vnd.jupyter.widget-view+json": {
       "model_id": "7b156f11000e4736a955ccb4286e24e8",
       "version_major": 2,
       "version_minor": 0
      },
      "text/plain": [
       "VBox(children=(Output(), RadioButtons(layout=Layout(width='max-content'), options=(('A. True', 0), ('B. False'…"
      ]
     },
     "metadata": {},
     "output_type": "display_data"
    }
   ],
   "source": [
    "if __name__ == \"__main__\":\n",
    "    display(L9P11Q1)"
   ]
  }
 ],
 "metadata": {
  "kernelspec": {
   "display_name": "Python 3 (ipykernel)",
   "language": "python",
   "name": "python3"
  },
  "language_info": {
   "codemirror_mode": {
    "name": "ipython",
    "version": 3
   },
   "file_extension": ".py",
   "mimetype": "text/x-python",
   "name": "python",
   "nbconvert_exporter": "python",
   "pygments_lexer": "ipython3",
   "version": "3.9.16"
  }
 },
 "nbformat": 4,
 "nbformat_minor": 5
}
