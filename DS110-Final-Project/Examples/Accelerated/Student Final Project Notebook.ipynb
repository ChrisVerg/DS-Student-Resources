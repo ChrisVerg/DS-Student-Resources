{
 "cells": [
  {
   "cell_type": "code",
   "execution_count": 12,
   "id": "4911b52a-f496-472a-8619-19870c55476d",
   "metadata": {
    "tags": []
   },
   "outputs": [],
   "source": [
    "import pandas as pd\n",
    "import numpy as np\n",
    "import matplotlib.pyplot as plt\n",
    "import seaborn as sns\n",
    "from scipy.stats import bartlett, f_oneway\n",
    "from statsmodels.stats.multicomp import pairwise_tukeyhsd, MultiComparison\n",
    "\n",
    "import warnings\n",
    "warnings.filterwarnings(\"ignore\")"
   ]
  },
  {
   "cell_type": "markdown",
   "id": "651c280e-5c95-4d2b-9cef-0f0205d022f7",
   "metadata": {},
   "source": [
    "## Step One\n",
    "---\n",
    "\n",
    "#### Read in your data"
   ]
  },
  {
   "cell_type": "code",
   "execution_count": 13,
   "id": "75904fc7-3d4a-475f-9ab7-07326c468c91",
   "metadata": {
    "tags": []
   },
   "outputs": [
    {
     "data": {
      "text/html": [
       "<div><div id=cb70085d-24dc-4da1-84a5-4c2a919df91a style=\"display:none; background-color:#9D6CFF; color:white; width:200px; height:30px; padding-left:5px; border-radius:4px; flex-direction:row; justify-content:space-around; align-items:center;\" onmouseover=\"this.style.backgroundColor='#BA9BF8'\" onmouseout=\"this.style.backgroundColor='#9D6CFF'\" onclick=\"window.commands?.execute('create-mitosheet-from-dataframe-output');\">See Full Dataframe in Mito</div> <script> if (window.commands.hasCommand('create-mitosheet-from-dataframe-output')) document.getElementById('cb70085d-24dc-4da1-84a5-4c2a919df91a').style.display = 'flex' </script> <table border=\"1\" class=\"dataframe\">\n",
       "  <thead>\n",
       "    <tr style=\"text-align: right;\">\n",
       "      <th></th>\n",
       "      <th>Date</th>\n",
       "      <th>AveragePrice</th>\n",
       "      <th>Total Volume</th>\n",
       "      <th>4046</th>\n",
       "      <th>4225</th>\n",
       "      <th>4770</th>\n",
       "      <th>Total Bags</th>\n",
       "      <th>Small Bags</th>\n",
       "      <th>Large Bags</th>\n",
       "      <th>XLarge Bags</th>\n",
       "      <th>type</th>\n",
       "      <th>year</th>\n",
       "      <th>region</th>\n",
       "    </tr>\n",
       "  </thead>\n",
       "  <tbody>\n",
       "    <tr>\n",
       "      <th>0</th>\n",
       "      <td>12/27/2015</td>\n",
       "      <td>1.33</td>\n",
       "      <td>64236.62</td>\n",
       "      <td>1036.74</td>\n",
       "      <td>54454.85</td>\n",
       "      <td>48.16</td>\n",
       "      <td>8696.87</td>\n",
       "      <td>8603.62</td>\n",
       "      <td>93.25</td>\n",
       "      <td>0.0</td>\n",
       "      <td>conventional</td>\n",
       "      <td>2015</td>\n",
       "      <td>Albany</td>\n",
       "    </tr>\n",
       "    <tr>\n",
       "      <th>1</th>\n",
       "      <td>12/20/2015</td>\n",
       "      <td>1.35</td>\n",
       "      <td>54876.98</td>\n",
       "      <td>674.28</td>\n",
       "      <td>44638.81</td>\n",
       "      <td>58.33</td>\n",
       "      <td>9505.56</td>\n",
       "      <td>9408.07</td>\n",
       "      <td>97.49</td>\n",
       "      <td>0.0</td>\n",
       "      <td>conventional</td>\n",
       "      <td>2015</td>\n",
       "      <td>Albany</td>\n",
       "    </tr>\n",
       "    <tr>\n",
       "      <th>2</th>\n",
       "      <td>12/13/2015</td>\n",
       "      <td>0.93</td>\n",
       "      <td>118220.22</td>\n",
       "      <td>794.70</td>\n",
       "      <td>109149.67</td>\n",
       "      <td>130.50</td>\n",
       "      <td>8145.35</td>\n",
       "      <td>8042.21</td>\n",
       "      <td>103.14</td>\n",
       "      <td>0.0</td>\n",
       "      <td>conventional</td>\n",
       "      <td>2015</td>\n",
       "      <td>Albany</td>\n",
       "    </tr>\n",
       "    <tr>\n",
       "      <th>3</th>\n",
       "      <td>12/6/2015</td>\n",
       "      <td>1.08</td>\n",
       "      <td>78992.15</td>\n",
       "      <td>1132.00</td>\n",
       "      <td>71976.41</td>\n",
       "      <td>72.58</td>\n",
       "      <td>5811.16</td>\n",
       "      <td>5677.40</td>\n",
       "      <td>133.76</td>\n",
       "      <td>0.0</td>\n",
       "      <td>conventional</td>\n",
       "      <td>2015</td>\n",
       "      <td>Albany</td>\n",
       "    </tr>\n",
       "    <tr>\n",
       "      <th>4</th>\n",
       "      <td>11/29/2015</td>\n",
       "      <td>1.28</td>\n",
       "      <td>51039.60</td>\n",
       "      <td>941.48</td>\n",
       "      <td>43838.39</td>\n",
       "      <td>75.78</td>\n",
       "      <td>6183.95</td>\n",
       "      <td>5986.26</td>\n",
       "      <td>197.69</td>\n",
       "      <td>0.0</td>\n",
       "      <td>conventional</td>\n",
       "      <td>2015</td>\n",
       "      <td>Albany</td>\n",
       "    </tr>\n",
       "  </tbody>\n",
       "</table></div>"
      ],
      "text/plain": [
       "         Date  AveragePrice  Total Volume     4046       4225    4770  \\\n",
       "0  12/27/2015          1.33      64236.62  1036.74   54454.85   48.16   \n",
       "1  12/20/2015          1.35      54876.98   674.28   44638.81   58.33   \n",
       "2  12/13/2015          0.93     118220.22   794.70  109149.67  130.50   \n",
       "3   12/6/2015          1.08      78992.15  1132.00   71976.41   72.58   \n",
       "4  11/29/2015          1.28      51039.60   941.48   43838.39   75.78   \n",
       "\n",
       "   Total Bags  Small Bags  Large Bags  XLarge Bags          type  year  region  \n",
       "0     8696.87     8603.62       93.25          0.0  conventional  2015  Albany  \n",
       "1     9505.56     9408.07       97.49          0.0  conventional  2015  Albany  \n",
       "2     8145.35     8042.21      103.14          0.0  conventional  2015  Albany  \n",
       "3     5811.16     5677.40      133.76          0.0  conventional  2015  Albany  \n",
       "4     6183.95     5986.26      197.69          0.0  conventional  2015  Albany  "
      ]
     },
     "execution_count": 13,
     "metadata": {},
     "output_type": "execute_result"
    }
   ],
   "source": [
    "### start code\n",
    "df = pd.read_csv('https://raw.githubusercontent.com/woz-u/DS-Student-Resources/main/DS105-Intermediate-Statistics/Data/avocados.csv')\n",
    "df = df.iloc[:,1:]\n",
    "df.head()\n",
    "### end code"
   ]
  },
  {
   "cell_type": "markdown",
   "id": "eff5380f-ca58-4d64-be71-2b84e1149297",
   "metadata": {},
   "source": [
    "## Step Two - Exploratory Data Analysis\n",
    "---\n",
    "#### Check number of rows and columns"
   ]
  },
  {
   "cell_type": "code",
   "execution_count": 14,
   "id": "eaa07388-4f3c-46ff-bf4a-146e77a32881",
   "metadata": {
    "tags": []
   },
   "outputs": [
    {
     "name": "stdout",
     "output_type": "stream",
     "text": [
      "Rows: 18249\n",
      "Columns: 13\n"
     ]
    }
   ],
   "source": [
    "print(f'Rows: {df.shape[0]}')\n",
    "print(f'Columns: {df.shape[1]}')"
   ]
  },
  {
   "cell_type": "markdown",
   "id": "ca8e6995-a629-4651-9aa7-80a06a1e044f",
   "metadata": {},
   "source": [
    "## Step Three\n",
    "---"
   ]
  },
  {
   "cell_type": "code",
   "execution_count": 15,
   "id": "52cbaab9-59c0-4aa6-b12c-686033f6890f",
   "metadata": {
    "tags": []
   },
   "outputs": [
    {
     "data": {
      "text/plain": [
       "array(['conventional', 'organic'], dtype=object)"
      ]
     },
     "execution_count": 15,
     "metadata": {},
     "output_type": "execute_result"
    }
   ],
   "source": [
    "#print unique values for type column\n",
    "df.type.unique()"
   ]
  },
  {
   "cell_type": "code",
   "execution_count": 5,
   "id": "00764802-24e4-4b34-bef5-f59e7ba53086",
   "metadata": {},
   "outputs": [
    {
     "data": {
      "text/plain": [
       "array(['Albany', 'Atlanta', 'BaltimoreWashington', 'Boise', 'Boston',\n",
       "       'BuffaloRochester', 'California', 'Charlotte', 'Chicago',\n",
       "       'CincinnatiDayton', 'Columbus', 'DallasFtWorth', 'Denver',\n",
       "       'Detroit', 'GrandRapids', 'GreatLakes', 'HarrisburgScranton',\n",
       "       'HartfordSpringfield', 'Houston', 'Indianapolis', 'Jacksonville',\n",
       "       'LasVegas', 'LosAngeles', 'Louisville', 'MiamiFtLauderdale',\n",
       "       'Midsouth', 'Nashville', 'NewOrleansMobile', 'NewYork',\n",
       "       'Northeast', 'NorthernNewEngland', 'Orlando', 'Philadelphia',\n",
       "       'PhoenixTucson', 'Pittsburgh', 'Plains', 'Portland',\n",
       "       'RaleighGreensboro', 'RichmondNorfolk', 'Roanoke', 'Sacramento',\n",
       "       'SanDiego', 'SanFrancisco', 'Seattle', 'SouthCarolina',\n",
       "       'SouthCentral', 'Southeast', 'Spokane', 'StLouis', 'Syracuse',\n",
       "       'Tampa', 'TotalUS', 'West', 'WestTexNewMexico'], dtype=object)"
      ]
     },
     "execution_count": 5,
     "metadata": {},
     "output_type": "execute_result"
    }
   ],
   "source": [
    "#print unique values for region column\n",
    "df.region.unique()"
   ]
  },
  {
   "cell_type": "code",
   "execution_count": 8,
   "id": "6cecbda3-8103-495f-8a1a-e141f0dab0db",
   "metadata": {},
   "outputs": [
    {
     "data": {
      "text/plain": [
       "count      18249\n",
       "unique        54\n",
       "top       Albany\n",
       "freq         338\n",
       "Name: region, dtype: object"
      ]
     },
     "execution_count": 8,
     "metadata": {},
     "output_type": "execute_result"
    }
   ],
   "source": [
    "df.region.describe()"
   ]
  },
  {
   "cell_type": "code",
   "execution_count": 10,
   "id": "84fb919a-db7c-48c0-8c57-869068329d7d",
   "metadata": {},
   "outputs": [
    {
     "data": {
      "text/plain": [
       "count    18249.000000\n",
       "mean         1.405978\n",
       "std          0.402677\n",
       "min          0.440000\n",
       "25%          1.100000\n",
       "50%          1.370000\n",
       "75%          1.660000\n",
       "max          3.250000\n",
       "Name: AveragePrice, dtype: float64"
      ]
     },
     "execution_count": 10,
     "metadata": {},
     "output_type": "execute_result"
    }
   ],
   "source": [
    "df.AveragePrice.describe()"
   ]
  },
  {
   "cell_type": "markdown",
   "id": "81917317-6feb-4e67-8eac-6053d6a186de",
   "metadata": {},
   "source": [
    "## Step Four\n",
    "---\n",
    "#### Filter for 3 cities\n",
    "Focusing on the Three Categories\n",
    "The data has many more categories than three, so you will need to filter the dataset by the categories you want. The code below makes a list of the categories you want to keep, then searches through the Category column using the isin() function to keep only those that match.\n",
    "\n"
   ]
  },
  {
   "cell_type": "code",
   "execution_count": 16,
   "id": "b2bbaef1-17ed-4fb9-93fb-4820fa043c4a",
   "metadata": {
    "tags": []
   },
   "outputs": [
    {
     "data": {
      "text/html": [
       "<div><div id=165d476c-5b1e-4e9f-9d9b-4a7360c08f98 style=\"display:none; background-color:#9D6CFF; color:white; width:200px; height:30px; padding-left:5px; border-radius:4px; flex-direction:row; justify-content:space-around; align-items:center;\" onmouseover=\"this.style.backgroundColor='#BA9BF8'\" onmouseout=\"this.style.backgroundColor='#9D6CFF'\" onclick=\"window.commands?.execute('create-mitosheet-from-dataframe-output');\">See Full Dataframe in Mito</div> <script> if (window.commands.hasCommand('create-mitosheet-from-dataframe-output')) document.getElementById('165d476c-5b1e-4e9f-9d9b-4a7360c08f98').style.display = 'flex' </script> <table border=\"1\" class=\"dataframe\">\n",
       "  <thead>\n",
       "    <tr style=\"text-align: right;\">\n",
       "      <th></th>\n",
       "      <th>Date</th>\n",
       "      <th>AveragePrice</th>\n",
       "      <th>Total Volume</th>\n",
       "      <th>4046</th>\n",
       "      <th>4225</th>\n",
       "      <th>4770</th>\n",
       "      <th>Total Bags</th>\n",
       "      <th>Small Bags</th>\n",
       "      <th>Large Bags</th>\n",
       "      <th>XLarge Bags</th>\n",
       "      <th>type</th>\n",
       "      <th>year</th>\n",
       "      <th>region</th>\n",
       "    </tr>\n",
       "  </thead>\n",
       "  <tbody>\n",
       "    <tr>\n",
       "      <th>260</th>\n",
       "      <td>12/27/2015</td>\n",
       "      <td>1.35</td>\n",
       "      <td>96233.08</td>\n",
       "      <td>1367.81</td>\n",
       "      <td>39542.83</td>\n",
       "      <td>85.76</td>\n",
       "      <td>55236.68</td>\n",
       "      <td>55236.68</td>\n",
       "      <td>0.0</td>\n",
       "      <td>0.0</td>\n",
       "      <td>conventional</td>\n",
       "      <td>2015</td>\n",
       "      <td>BuffaloRochester</td>\n",
       "    </tr>\n",
       "    <tr>\n",
       "      <th>261</th>\n",
       "      <td>12/20/2015</td>\n",
       "      <td>1.37</td>\n",
       "      <td>90867.51</td>\n",
       "      <td>1164.92</td>\n",
       "      <td>38430.71</td>\n",
       "      <td>106.67</td>\n",
       "      <td>51165.21</td>\n",
       "      <td>51165.21</td>\n",
       "      <td>0.0</td>\n",
       "      <td>0.0</td>\n",
       "      <td>conventional</td>\n",
       "      <td>2015</td>\n",
       "      <td>BuffaloRochester</td>\n",
       "    </tr>\n",
       "    <tr>\n",
       "      <th>262</th>\n",
       "      <td>12/13/2015</td>\n",
       "      <td>1.35</td>\n",
       "      <td>98473.23</td>\n",
       "      <td>1421.12</td>\n",
       "      <td>40783.22</td>\n",
       "      <td>66.45</td>\n",
       "      <td>56202.44</td>\n",
       "      <td>56202.44</td>\n",
       "      <td>0.0</td>\n",
       "      <td>0.0</td>\n",
       "      <td>conventional</td>\n",
       "      <td>2015</td>\n",
       "      <td>BuffaloRochester</td>\n",
       "    </tr>\n",
       "    <tr>\n",
       "      <th>263</th>\n",
       "      <td>12/6/2015</td>\n",
       "      <td>1.23</td>\n",
       "      <td>108457.82</td>\n",
       "      <td>1737.71</td>\n",
       "      <td>58197.34</td>\n",
       "      <td>167.12</td>\n",
       "      <td>48355.65</td>\n",
       "      <td>48355.65</td>\n",
       "      <td>0.0</td>\n",
       "      <td>0.0</td>\n",
       "      <td>conventional</td>\n",
       "      <td>2015</td>\n",
       "      <td>BuffaloRochester</td>\n",
       "    </tr>\n",
       "    <tr>\n",
       "      <th>264</th>\n",
       "      <td>11/29/2015</td>\n",
       "      <td>1.39</td>\n",
       "      <td>79973.14</td>\n",
       "      <td>1514.69</td>\n",
       "      <td>35682.71</td>\n",
       "      <td>113.49</td>\n",
       "      <td>42662.25</td>\n",
       "      <td>42662.25</td>\n",
       "      <td>0.0</td>\n",
       "      <td>0.0</td>\n",
       "      <td>conventional</td>\n",
       "      <td>2015</td>\n",
       "      <td>BuffaloRochester</td>\n",
       "    </tr>\n",
       "  </tbody>\n",
       "</table></div>"
      ],
      "text/plain": [
       "           Date  AveragePrice  Total Volume     4046      4225    4770  \\\n",
       "260  12/27/2015          1.35      96233.08  1367.81  39542.83   85.76   \n",
       "261  12/20/2015          1.37      90867.51  1164.92  38430.71  106.67   \n",
       "262  12/13/2015          1.35      98473.23  1421.12  40783.22   66.45   \n",
       "263   12/6/2015          1.23     108457.82  1737.71  58197.34  167.12   \n",
       "264  11/29/2015          1.39      79973.14  1514.69  35682.71  113.49   \n",
       "\n",
       "     Total Bags  Small Bags  Large Bags  XLarge Bags          type  year  \\\n",
       "260    55236.68    55236.68         0.0          0.0  conventional  2015   \n",
       "261    51165.21    51165.21         0.0          0.0  conventional  2015   \n",
       "262    56202.44    56202.44         0.0          0.0  conventional  2015   \n",
       "263    48355.65    48355.65         0.0          0.0  conventional  2015   \n",
       "264    42662.25    42662.25         0.0          0.0  conventional  2015   \n",
       "\n",
       "               region  \n",
       "260  BuffaloRochester  \n",
       "261  BuffaloRochester  \n",
       "262  BuffaloRochester  \n",
       "263  BuffaloRochester  \n",
       "264  BuffaloRochester  "
      ]
     },
     "execution_count": 16,
     "metadata": {},
     "output_type": "execute_result"
    }
   ],
   "source": [
    "df1 = df[df.region.isin(['BuffaloRochester', 'SanDiego', 'DallasFtWorth'])]\n",
    "df1.head()"
   ]
  },
  {
   "cell_type": "code",
   "execution_count": 17,
   "id": "ebd5a0ab-4496-4ac0-8449-8876afce1ad9",
   "metadata": {},
   "outputs": [
    {
     "data": {
      "text/plain": [
       "count                 1014\n",
       "unique                   3\n",
       "top       BuffaloRochester\n",
       "freq                   338\n",
       "Name: region, dtype: object"
      ]
     },
     "execution_count": 17,
     "metadata": {},
     "output_type": "execute_result"
    }
   ],
   "source": [
    "df1.region.describe()"
   ]
  },
  {
   "cell_type": "markdown",
   "id": "b924da75-5d7a-4a5b-8d33-e9791b0bc7e3",
   "metadata": {},
   "source": [
    "## Step Five\n",
    "---\n",
    "#### recode 'type' and 'region' columns"
   ]
  },
  {
   "cell_type": "code",
   "execution_count": 18,
   "id": "e875acba-eb8f-414d-9293-e4a1fe247989",
   "metadata": {
    "tags": []
   },
   "outputs": [],
   "source": [
    "def recode(series):\n",
    "    if series == 'conventional':\n",
    "        return 0\n",
    "    if series == 'organic':\n",
    "        return 1\n",
    "    \n",
    "df1['typeR'] = df1['type'].apply(recode)"
   ]
  },
  {
   "cell_type": "code",
   "execution_count": 19,
   "id": "5a095d65-35c8-470c-b9db-2a9e74fe7c80",
   "metadata": {},
   "outputs": [
    {
     "data": {
      "text/html": [
       "<div><div id=c6b3afa2-c47e-4365-ba59-61cfcf8a6a96 style=\"display:none; background-color:#9D6CFF; color:white; width:200px; height:30px; padding-left:5px; border-radius:4px; flex-direction:row; justify-content:space-around; align-items:center;\" onmouseover=\"this.style.backgroundColor='#BA9BF8'\" onmouseout=\"this.style.backgroundColor='#9D6CFF'\" onclick=\"window.commands?.execute('create-mitosheet-from-dataframe-output');\">See Full Dataframe in Mito</div> <script> if (window.commands.hasCommand('create-mitosheet-from-dataframe-output')) document.getElementById('c6b3afa2-c47e-4365-ba59-61cfcf8a6a96').style.display = 'flex' </script> <table border=\"1\" class=\"dataframe\">\n",
       "  <thead>\n",
       "    <tr style=\"text-align: right;\">\n",
       "      <th></th>\n",
       "      <th>Date</th>\n",
       "      <th>AveragePrice</th>\n",
       "      <th>Total Volume</th>\n",
       "      <th>4046</th>\n",
       "      <th>4225</th>\n",
       "      <th>4770</th>\n",
       "      <th>Total Bags</th>\n",
       "      <th>Small Bags</th>\n",
       "      <th>Large Bags</th>\n",
       "      <th>XLarge Bags</th>\n",
       "      <th>type</th>\n",
       "      <th>year</th>\n",
       "      <th>region</th>\n",
       "      <th>typeR</th>\n",
       "    </tr>\n",
       "  </thead>\n",
       "  <tbody>\n",
       "    <tr>\n",
       "      <th>260</th>\n",
       "      <td>12/27/2015</td>\n",
       "      <td>1.35</td>\n",
       "      <td>96233.08</td>\n",
       "      <td>1367.81</td>\n",
       "      <td>39542.83</td>\n",
       "      <td>85.76</td>\n",
       "      <td>55236.68</td>\n",
       "      <td>55236.68</td>\n",
       "      <td>0.0</td>\n",
       "      <td>0.0</td>\n",
       "      <td>conventional</td>\n",
       "      <td>2015</td>\n",
       "      <td>BuffaloRochester</td>\n",
       "      <td>0</td>\n",
       "    </tr>\n",
       "    <tr>\n",
       "      <th>261</th>\n",
       "      <td>12/20/2015</td>\n",
       "      <td>1.37</td>\n",
       "      <td>90867.51</td>\n",
       "      <td>1164.92</td>\n",
       "      <td>38430.71</td>\n",
       "      <td>106.67</td>\n",
       "      <td>51165.21</td>\n",
       "      <td>51165.21</td>\n",
       "      <td>0.0</td>\n",
       "      <td>0.0</td>\n",
       "      <td>conventional</td>\n",
       "      <td>2015</td>\n",
       "      <td>BuffaloRochester</td>\n",
       "      <td>0</td>\n",
       "    </tr>\n",
       "    <tr>\n",
       "      <th>262</th>\n",
       "      <td>12/13/2015</td>\n",
       "      <td>1.35</td>\n",
       "      <td>98473.23</td>\n",
       "      <td>1421.12</td>\n",
       "      <td>40783.22</td>\n",
       "      <td>66.45</td>\n",
       "      <td>56202.44</td>\n",
       "      <td>56202.44</td>\n",
       "      <td>0.0</td>\n",
       "      <td>0.0</td>\n",
       "      <td>conventional</td>\n",
       "      <td>2015</td>\n",
       "      <td>BuffaloRochester</td>\n",
       "      <td>0</td>\n",
       "    </tr>\n",
       "    <tr>\n",
       "      <th>263</th>\n",
       "      <td>12/6/2015</td>\n",
       "      <td>1.23</td>\n",
       "      <td>108457.82</td>\n",
       "      <td>1737.71</td>\n",
       "      <td>58197.34</td>\n",
       "      <td>167.12</td>\n",
       "      <td>48355.65</td>\n",
       "      <td>48355.65</td>\n",
       "      <td>0.0</td>\n",
       "      <td>0.0</td>\n",
       "      <td>conventional</td>\n",
       "      <td>2015</td>\n",
       "      <td>BuffaloRochester</td>\n",
       "      <td>0</td>\n",
       "    </tr>\n",
       "    <tr>\n",
       "      <th>264</th>\n",
       "      <td>11/29/2015</td>\n",
       "      <td>1.39</td>\n",
       "      <td>79973.14</td>\n",
       "      <td>1514.69</td>\n",
       "      <td>35682.71</td>\n",
       "      <td>113.49</td>\n",
       "      <td>42662.25</td>\n",
       "      <td>42662.25</td>\n",
       "      <td>0.0</td>\n",
       "      <td>0.0</td>\n",
       "      <td>conventional</td>\n",
       "      <td>2015</td>\n",
       "      <td>BuffaloRochester</td>\n",
       "      <td>0</td>\n",
       "    </tr>\n",
       "  </tbody>\n",
       "</table></div>"
      ],
      "text/plain": [
       "           Date  AveragePrice  Total Volume     4046      4225    4770  \\\n",
       "260  12/27/2015          1.35      96233.08  1367.81  39542.83   85.76   \n",
       "261  12/20/2015          1.37      90867.51  1164.92  38430.71  106.67   \n",
       "262  12/13/2015          1.35      98473.23  1421.12  40783.22   66.45   \n",
       "263   12/6/2015          1.23     108457.82  1737.71  58197.34  167.12   \n",
       "264  11/29/2015          1.39      79973.14  1514.69  35682.71  113.49   \n",
       "\n",
       "     Total Bags  Small Bags  Large Bags  XLarge Bags          type  year  \\\n",
       "260    55236.68    55236.68         0.0          0.0  conventional  2015   \n",
       "261    51165.21    51165.21         0.0          0.0  conventional  2015   \n",
       "262    56202.44    56202.44         0.0          0.0  conventional  2015   \n",
       "263    48355.65    48355.65         0.0          0.0  conventional  2015   \n",
       "264    42662.25    42662.25         0.0          0.0  conventional  2015   \n",
       "\n",
       "               region  typeR  \n",
       "260  BuffaloRochester      0  \n",
       "261  BuffaloRochester      0  \n",
       "262  BuffaloRochester      0  \n",
       "263  BuffaloRochester      0  \n",
       "264  BuffaloRochester      0  "
      ]
     },
     "execution_count": 19,
     "metadata": {},
     "output_type": "execute_result"
    }
   ],
   "source": [
    "df1.head()"
   ]
  },
  {
   "cell_type": "code",
   "execution_count": null,
   "id": "0744ddf0-3a54-4d06-a5e9-9c8758d11acc",
   "metadata": {
    "tags": []
   },
   "outputs": [],
   "source": [
    "def recode(series):\n",
    "    if series == 'city 1':\n",
    "        return 0\n",
    "    if series == 'city 2':\n",
    "        return 1\n",
    "    if series == 'city 3':\n",
    "        return 2\n",
    "    \n",
    "df1['regionR'] = df1['region'].apply(recode)"
   ]
  },
  {
   "cell_type": "code",
   "execution_count": null,
   "id": "cee43e21-8a74-4470-ad36-f244059ba316",
   "metadata": {
    "tags": []
   },
   "outputs": [],
   "source": [
    "df1.head()"
   ]
  },
  {
   "cell_type": "markdown",
   "id": "1086f014-28d4-45b7-89c5-3dd5e641f2af",
   "metadata": {},
   "source": [
    "## Step Six\n",
    "---\n",
    "#### Test for assumptions\n",
    "\n",
    "- Normality\n",
    "- Homogeneity of Variance"
   ]
  },
  {
   "cell_type": "code",
   "execution_count": null,
   "id": "4b4ee8e1-2294-447a-94bd-6c9f984907dc",
   "metadata": {
    "tags": []
   },
   "outputs": [],
   "source": [
    "plt.style.use('fivethirtyeight')\n",
    "\n",
    "#Without Transformation\n",
    "sns.displot(df1['Total Volume'], kde = True).set(title='Without Transformation')\n",
    "\n",
    "#With Square Root Transformation\n",
    "sns.displot(np.sqrt(df1['Total Volume']), kde = True).set(title='With Square Root Transformation')\n",
    "\n",
    "#With Log Transformation\n",
    "sns.displot(np.log(df1['Total Volume']), kde = True).set(title='With Log Transformation')"
   ]
  },
  {
   "cell_type": "code",
   "execution_count": null,
   "id": "eaf7cf00-2a94-44ed-b215-22ea8d264507",
   "metadata": {
    "tags": []
   },
   "outputs": [],
   "source": [
    "#perform log transformation\n",
    "df1['Total Volume_log'] = np.log(df1['Total Volume'])"
   ]
  },
  {
   "cell_type": "code",
   "execution_count": null,
   "id": "4419d018-921c-4aa7-986a-3b813eda9fd6",
   "metadata": {
    "tags": []
   },
   "outputs": [],
   "source": [
    "bartlett(df1[\"Total Volume_log\"], df1[\"regionR\"])"
   ]
  },
  {
   "cell_type": "code",
   "execution_count": null,
   "id": "285ac2a1-b104-41be-8364-39c79329eca9",
   "metadata": {},
   "outputs": [],
   "source": [
    "#explain your results\n",
    "\n"
   ]
  },
  {
   "cell_type": "code",
   "execution_count": null,
   "id": "f40ec61c-e88b-479f-a92c-1d47cf8e5859",
   "metadata": {
    "tags": []
   },
   "outputs": [],
   "source": [
    "f_oneway(\n",
    "    df[\"Total Volume\"][df[\"region\"]=='city 1'],\n",
    "    df[\"Total Volume\"][df[\"region\"]=='city 2'],\n",
    "    df[\"Total Volume\"][df[\"region\"]=='city 3']\n",
    ")"
   ]
  },
  {
   "cell_type": "code",
   "execution_count": null,
   "id": "009b8cd5-6202-4264-b951-123f066e5c78",
   "metadata": {},
   "outputs": [],
   "source": [
    "#explain your results\n",
    "\n"
   ]
  },
  {
   "cell_type": "code",
   "execution_count": null,
   "id": "be79c401-2e08-475e-a710-a9ecbf9b9fc2",
   "metadata": {
    "tags": []
   },
   "outputs": [],
   "source": [
    "postHocResults = MultiComparison(df1[\"Total Volume_log\"], df1[\"region\"]).tukeyhsd()\n",
    "print(postHocResults)"
   ]
  },
  {
   "cell_type": "code",
   "execution_count": null,
   "id": "85424b54-097a-4341-8fe9-3cad1059ed78",
   "metadata": {},
   "outputs": [],
   "source": [
    "#explain your results\n",
    "\n"
   ]
  },
  {
   "cell_type": "markdown",
   "id": "8e45ed2c-d853-4b31-9018-b34ca40eb3fe",
   "metadata": {},
   "source": [
    "## Step Seven\n",
    "---"
   ]
  },
  {
   "cell_type": "code",
   "execution_count": null,
   "id": "e5de62d7-45df-47c2-8986-07f767636a88",
   "metadata": {
    "tags": []
   },
   "outputs": [],
   "source": [
    "df2 = df1[['region', 'Total Volume']]\n",
    "\n",
    "df2.groupby('region').mean()"
   ]
  },
  {
   "cell_type": "code",
   "execution_count": null,
   "id": "2beb7042-861c-4181-b378-1c4b38092da3",
   "metadata": {},
   "outputs": [],
   "source": [
    "#explain your results\n",
    "\n"
   ]
  },
  {
   "cell_type": "code",
   "execution_count": null,
   "id": "3d56c15c-378f-4db7-b758-b0dd446a0cbb",
   "metadata": {},
   "outputs": [],
   "source": []
  },
  {
   "cell_type": "code",
   "execution_count": null,
   "id": "0363709a-c947-4fa2-b1f0-35550bb30f79",
   "metadata": {},
   "outputs": [],
   "source": []
  }
 ],
 "metadata": {
  "kernelspec": {
   "display_name": "Python 3 (ipykernel)",
   "language": "python",
   "name": "python3"
  },
  "language_info": {
   "codemirror_mode": {
    "name": "ipython",
    "version": 3
   },
   "file_extension": ".py",
   "mimetype": "text/x-python",
   "name": "python",
   "nbconvert_exporter": "python",
   "pygments_lexer": "ipython3",
   "version": "3.10.2"
  }
 },
 "nbformat": 4,
 "nbformat_minor": 5
}
