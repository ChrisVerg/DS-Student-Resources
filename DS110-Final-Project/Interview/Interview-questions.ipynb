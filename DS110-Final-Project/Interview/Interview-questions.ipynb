{
 "cells": [
  {
   "cell_type": "markdown",
   "id": "964cbf8d-3d8f-4a1b-a5c5-ea96aa93d085",
   "metadata": {},
   "source": [
    "# Interview Questions"
   ]
  },
  {
   "cell_type": "markdown",
   "id": "60fea089-0fca-45e7-99a6-91ea48d158c7",
   "metadata": {},
   "source": [
    "[reference](https://igotanoffer.com/blogs/tech/amazon-data-science-interview)"
   ]
  },
  {
   "cell_type": "code",
   "execution_count": null,
   "id": "a2e25059-e3d1-462b-bb28-540711dde2e4",
   "metadata": {},
   "outputs": [],
   "source": []
  }
 ],
 "metadata": {
  "kernelspec": {
   "display_name": "Python 3 (ipykernel)",
   "language": "python",
   "name": "python3"
  },
  "language_info": {
   "codemirror_mode": {
    "name": "ipython",
    "version": 3
   },
   "file_extension": ".py",
   "mimetype": "text/x-python",
   "name": "python",
   "nbconvert_exporter": "python",
   "pygments_lexer": "ipython3",
   "version": "3.9.12"
  }
 },
 "nbformat": 4,
 "nbformat_minor": 5
}
