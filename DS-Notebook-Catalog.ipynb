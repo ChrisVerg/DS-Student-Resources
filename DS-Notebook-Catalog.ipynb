{
 "cells": [
  {
   "cell_type": "markdown",
   "id": "3e227af5-5a1b-4d3f-aab3-d58d9762bd92",
   "metadata": {},
   "source": [
    "# DS Notebook Catalog"
   ]
  },
  {
   "cell_type": "code",
   "execution_count": 1,
   "id": "fb0d52e2-5ed7-4a62-9af6-323d7cef149e",
   "metadata": {
    "tags": []
   },
   "outputs": [],
   "source": [
    "import os\n",
    "import pandas as pd\n",
    "import glob\n",
    "from pathlib import Path\n",
    "import csv\n",
    "from datetime import datetime\n",
    "import mimetypes"
   ]
  },
  {
   "cell_type": "code",
   "execution_count": 13,
   "id": "1bdf969b-a815-4aa2-b377-90a3c122d472",
   "metadata": {
    "tags": []
   },
   "outputs": [],
   "source": [
    "def find_notebooks(root_path, extensions):\n",
    "    notebooks = []\n",
    "    for ext in extensions:\n",
    "        notebooks.extend([path for path in Path(root_path).rglob(f\"*.{ext}\") if \".ipynb_checkpoints\" not in str(path)])\n",
    "    return notebooks"
   ]
  },
  {
   "cell_type": "code",
   "execution_count": 14,
   "id": "f281ebfd-f661-42bb-8339-b999b122c767",
   "metadata": {
    "tags": []
   },
   "outputs": [],
   "source": [
    "def get_notebook_metadata(notebook_path):\n",
    "    metadata = {\n",
    "        \"filename\": notebook_path.name,\n",
    "        \"path\": str(notebook_path),\n",
    "        \"size\": notebook_path.stat().st_size,\n",
    "        \"modified_date\": datetime.fromtimestamp(notebook_path.stat().st_mtime).strftime('%Y-%m-%d %H:%M:%S'),\n",
    "    }\n",
    "    return metadata\n",
    "\n"
   ]
  },
  {
   "cell_type": "code",
   "execution_count": 15,
   "id": "1f13e6b2-79fb-48d3-aecd-7e606e20e5b4",
   "metadata": {
    "tags": []
   },
   "outputs": [],
   "source": [
    "notebook_extensions = [\"ipynb\"]\n",
    "root_dir = \".\"  # The root directory of your local GitHub repository\n",
    "notebooks = find_notebooks(root_dir, notebook_extensions)"
   ]
  },
  {
   "cell_type": "code",
   "execution_count": 16,
   "id": "10a6f7cd-2293-4226-866e-6ee5a3e89832",
   "metadata": {
    "tags": []
   },
   "outputs": [],
   "source": [
    "notebook_metadata = [get_notebook_metadata(nb) for nb in notebooks]\n",
    "metadata_df = pd.DataFrame(notebook_metadata)\n",
    "metadata_df.to_csv(\"ds-jupyter-notebooks.csv\", index=False)"
   ]
  }
 ],
 "metadata": {
  "kernelspec": {
   "display_name": "Python 3 (ipykernel)",
   "language": "python",
   "name": "python3"
  },
  "language_info": {
   "codemirror_mode": {
    "name": "ipython",
    "version": 3
   },
   "file_extension": ".py",
   "mimetype": "text/x-python",
   "name": "python",
   "nbconvert_exporter": "python",
   "pygments_lexer": "ipython3",
   "version": "3.9.16"
  }
 },
 "nbformat": 4,
 "nbformat_minor": 5
}
