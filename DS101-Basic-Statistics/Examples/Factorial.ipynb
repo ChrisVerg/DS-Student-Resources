{
 "cells": [
  {
   "cell_type": "markdown",
   "id": "031b7bac-7ee0-460c-9be7-3876152135c4",
   "metadata": {},
   "source": [
    "### Factorial\n",
    "\n",
    "In mathematics, the [factorial](https://en.wikipedia.org/wiki/Factorial) of a positive integer n, denoted by n!, is the product of all positive integers less than or equal to n:\n",
    "\n",
    "n! is the product of the natural numbers from 1 to n\n",
    "\n",
    "- $n! = 1 x 2 x 3 x \\dots xn $\n",
    "\n",
    "for instance\n",
    "\n",
    "- $5! = 1x2x3x4x5 = 120$\n",
    "\n",
    "Negative numbers don't have a factorial and 0! = 1\n",
    "\n",
    "- $n! = (n-1)!xn$\n",
    "- $(n+1)! = n!$\n",
    "- $(n+k)!$\n",
    "- $(n-k)!$\n",
    "- $(n+k)! = n!x(n+1)x(n+1)x\\dots x(n+k)$\n",
    "\n",
    "- $(n-k)! = \\frac{n!}{(n-k+1)x(n-k+2)x\\dots x(n-k+k)}$\n",
    "- $(n-k)! = \\frac{n!}{(n-k+1)x(n-k+2)x\\dots xn}$\n",
    "\n",
    "if n > k, then\n",
    "\n",
    "- $ \\frac{n!}{k!} = (k=1) x (k=2) x \\dots xn$\n",
    "\n",
    "so if $n = 7$ and $k = 4$, then\n",
    "\n",
    "- $ \\frac{7!}{4!} = 5 x 6 x 7 $\n",
    "\n",
    "5! coded would look like:"
   ]
  },
  {
   "cell_type": "code",
   "execution_count": 1,
   "id": "658b1364-cf76-40e6-96e6-25437e2ffbdc",
   "metadata": {},
   "outputs": [
    {
     "name": "stdout",
     "output_type": "stream",
     "text": [
      "120\n"
     ]
    }
   ],
   "source": [
    "result = 1\n",
    "for i in range(1,6):\n",
    "    result *= i\n",
    "print(result)"
   ]
  },
  {
   "cell_type": "code",
   "execution_count": 4,
   "id": "55fc78bb-2fa1-4c0e-8b35-fa34da7a2f04",
   "metadata": {},
   "outputs": [
    {
     "name": "stdout",
     "output_type": "stream",
     "text": [
      "using scipy math library 120\n",
      "using numpy math library 120\n",
      "using python math library 120\n"
     ]
    }
   ],
   "source": [
    "# various math import libraries makes things simple \n",
    "import scipy, numpy, math \n",
    "\n",
    "#assign n the value of the factorial!\n",
    "n = 5\n",
    "  \n",
    "print (\"using scipy math library\", scipy.math.factorial(n))\n",
    "print (\"using numpy math library\", numpy.math.factorial(n))\n",
    "print (\"using python math library\", math.factorial(n)) \n"
   ]
  },
  {
   "cell_type": "markdown",
   "id": "94d8c259-c407-46b5-8013-c37004b564aa",
   "metadata": {},
   "source": [
    "We are just touching on the scipy ecosystem go to https://www.scipy.org/about.html to read more"
   ]
  },
  {
   "cell_type": "markdown",
   "id": "91c5947a-461a-4944-a78c-afab03faa620",
   "metadata": {},
   "source": [
    "Here's an example of a [Factorial Calculator](https://www.calculatorsoup.com/calculators/discretemathematics/factorials.php)"
   ]
  },
  {
   "cell_type": "code",
   "execution_count": null,
   "id": "8ed27a1a-59ca-4633-8791-17054b5c0c07",
   "metadata": {},
   "outputs": [],
   "source": []
  }
 ],
 "metadata": {
  "kernelspec": {
   "display_name": "Python 3 (ipykernel)",
   "language": "python",
   "name": "python3"
  },
  "language_info": {
   "codemirror_mode": {
    "name": "ipython",
    "version": 3
   },
   "file_extension": ".py",
   "mimetype": "text/x-python",
   "name": "python",
   "nbconvert_exporter": "python",
   "pygments_lexer": "ipython3",
   "version": "3.9.13"
  }
 },
 "nbformat": 4,
 "nbformat_minor": 5
}
