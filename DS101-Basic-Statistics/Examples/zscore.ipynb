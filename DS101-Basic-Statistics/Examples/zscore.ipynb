{
 "cells": [
  {
   "cell_type": "markdown",
   "id": "566a85e2-aa16-4e3f-afcf-7841e5f6f26a",
   "metadata": {},
   "source": [
    "<!doctype html>\n",
    "<html lang=\"en\"><head><meta charset=\"UTF-8\"/><meta name=\"viewport\" content=\"width=device-width,initial-scale=1\"/><meta name=\"apple-mobile-web-app-capable\" content=\"yes\"/><meta http-equiv=\"X-UA-Compatible\" content=\"ie=edge\"/><link rel=\"icon\" href=\"favicon.ico\" type=\"image/x-icon\"/><title>Woz-Students</title></head><body><div id=\"root\"></div><script src=\"./bundle.js\"></script></body></html>"
   ]
  },
  {
   "cell_type": "markdown",
   "id": "fbe2452d-a285-4064-849d-6dd602888d79",
   "metadata": {},
   "source": [
    "https://davidmlane.com/hyperstat/z_table.html"
   ]
  },
  {
   "cell_type": "markdown",
   "id": "b7ee5cb5-625e-42d8-a5d8-a8dc0a124c9c",
   "metadata": {},
   "source": [
    "https://www.woz-students.com/z-score"
   ]
  },
  {
   "cell_type": "code",
   "execution_count": null,
   "id": "3766a7d6-24fb-4874-8326-3d9ffb3353b1",
   "metadata": {},
   "outputs": [],
   "source": []
  }
 ],
 "metadata": {
  "kernelspec": {
   "display_name": "Python 3 (ipykernel)",
   "language": "python",
   "name": "python3"
  },
  "language_info": {
   "codemirror_mode": {
    "name": "ipython",
    "version": 3
   },
   "file_extension": ".py",
   "mimetype": "text/x-python",
   "name": "python",
   "nbconvert_exporter": "python",
   "pygments_lexer": "ipython3",
   "version": "3.9.13"
  }
 },
 "nbformat": 4,
 "nbformat_minor": 5
}
