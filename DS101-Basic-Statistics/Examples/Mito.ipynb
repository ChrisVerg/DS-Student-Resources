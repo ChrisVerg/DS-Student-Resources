{
 "cells": [
  {
   "cell_type": "code",
   "execution_count": null,
   "id": "12d732be-367a-4147-8787-88675f632eb5",
   "metadata": {},
   "outputs": [],
   "source": []
  },
  {
   "cell_type": "markdown",
   "id": "edc628e6-a3b7-4c67-950c-c913691e2316",
   "metadata": {},
   "source": [
    "# Mito monorepo\n",
    "\n",
    "https://github.com/mito-ds/monorepo\n",
    "\n",
    "```bash\n",
    "python -m pip install mitoinstaller\n",
    "python -m mitoinstaller install\n",
    "```"
   ]
  },
  {
   "cell_type": "code",
   "execution_count": 1,
   "id": "2f30a709-7a6a-45c1-b9ee-47e4f4d69209",
   "metadata": {},
   "outputs": [
    {
     "data": {
      "application/vnd.jupyter.widget-view+json": {
       "model_id": "dd6c9643e193482e882518fc4a703eb3",
       "version_major": 2,
       "version_minor": 0
      },
      "text/plain": [
       "MitoWidget(analysis_data_json='{\"analysisName\": \"id-lstbphvfsw\", \"analysisToReplay\": null, \"code\": [], \"stepSu…"
      ]
     },
     "metadata": {},
     "output_type": "display_data"
    }
   ],
   "source": [
    "import mitosheet\n",
    "mitosheet.sheet()"
   ]
  },
  {
   "cell_type": "code",
   "execution_count": 10,
   "id": "7ed31462-2eb8-4419-a964-f8f59e46b5a4",
   "metadata": {},
   "outputs": [],
   "source": [
    "from mitosheet import *; register_analysis('UUID-6dc2611c-e021-4fd1-9a05-fcbc98ebd8ee')\n",
    "\n",
    "# Imported /Users/jsr/Documents/GitHub/DS-Student-Resources/DS101-Basic-Statistics/Data/honey.csv\n",
    "import pandas as pd\n",
    "honey = pd.read_csv(r'/Users/jsr/Documents/GitHub/DS-Student-Resources/DS101-Basic-Statistics/Data/honey.csv')\n",
    "\n",
    "# Imported /Users/jsr/Documents/GitHub/DS-Student-Resources/DS101-Basic-Statistics/Data/Ages.csv\n",
    "import pandas as pd\n",
    "Ages = pd.read_csv(r'/Users/jsr/Documents/GitHub/DS-Student-Resources/DS101-Basic-Statistics/Data/Ages.csv', sep='g')\n",
    "\n",
    "# Imported /Users/jsr/Documents/GitHub/DS-Student-Resources/DS101-Basic-Statistics/Data/honey.csv\n",
    "import pandas as pd\n",
    "honey_1 = pd.read_csv(r'/Users/jsr/Documents/GitHub/DS-Student-Resources/DS101-Basic-Statistics/Data/honey.csv')\n"
   ]
  },
  {
   "cell_type": "markdown",
   "id": "eb007684-790b-450e-8f39-60d6f87f633b",
   "metadata": {},
   "source": [
    "## Turning the button off and on\n",
    "\n",
    "```bash\n",
    "To turn the button off, run the command python -m mitosheet turnoffdataframebutton\n",
    "To turn the button on, run the command python -m mitosheet turnondataframebutton\n",
    "```\n",
    "\n",
    "In both cases, restart your Jupyter Lab server for the changes to take effect. "
   ]
  },
  {
   "cell_type": "code",
   "execution_count": null,
   "id": "2c18a632-7be8-4437-a763-6961510e9671",
   "metadata": {},
   "outputs": [],
   "source": [
    "import pandas as pd\n",
    "df = pd.read_csv('../Data/Data.csv')\n",
    "df.head()"
   ]
  },
  {
   "cell_type": "code",
   "execution_count": 12,
   "id": "63af9bec-b49e-44f7-8b61-8f880afb0afb",
   "metadata": {},
   "outputs": [
    {
     "data": {
      "application/vnd.jupyter.widget-view+json": {
       "model_id": "9d389ce0035e4dd8bcfaeb7012bee696",
       "version_major": 2,
       "version_minor": 0
      },
      "text/plain": [
       "MitoWidget(analysis_data_json='{\"analysisName\": \"id-lqaoduwbwc\", \"analysisToReplay\": null, \"code\": [], \"stepSu…"
      ]
     },
     "metadata": {},
     "output_type": "display_data"
    }
   ],
   "source": [
    "import mitosheet\n",
    "mitosheet.sheet(df, analysis_to_replay=\"id-lqaoduwbwc\")"
   ]
  },
  {
   "cell_type": "code",
   "execution_count": null,
   "id": "4e410eb8-045d-43cb-a0a2-c6596953395b",
   "metadata": {},
   "outputs": [],
   "source": []
  },
  {
   "cell_type": "code",
   "execution_count": 4,
   "id": "a874eabc-946d-4e20-b19a-be88aaa21fc3",
   "metadata": {},
   "outputs": [
    {
     "data": {
      "application/vnd.jupyter.widget-view+json": {
       "model_id": "61d2a4a3054141b08d59c15b1835426c",
       "version_major": 2,
       "version_minor": 0
      },
      "text/plain": [
       "MitoWidget(analysis_data_json='{\"analysisName\": \"id-yquucjtjkw\", \"analysisToReplay\": null, \"code\": [], \"stepSu…"
      ]
     },
     "metadata": {},
     "output_type": "display_data"
    }
   ],
   "source": [
    "import mitosheet\n",
    "mitosheet.sheet(df, view_df=True, analysis_to_replay=\"id-jtefkiptpo\")"
   ]
  },
  {
   "cell_type": "code",
   "execution_count": null,
   "id": "8858992b-143c-4907-b110-bf2b39731181",
   "metadata": {},
   "outputs": [],
   "source": []
  },
  {
   "cell_type": "code",
   "execution_count": 5,
   "id": "eedfeff5-0781-41e5-8dba-a3105f6575d6",
   "metadata": {},
   "outputs": [],
   "source": [
    "from mitosheet import *; register_analysis('UUID-ca6dc348-7020-4246-bacd-448a3fee6c18')\n",
    "\n",
    "# Renamed Col1 to Data1 in df\n",
    "df.rename(columns={'Col1': 'Data1'}, inplace=True)\n",
    "\n",
    "# Renamed Col2 to Data2 in df\n",
    "df.rename(columns={'Col2': 'Data2'}, inplace=True)\n",
    "\n",
    "# Added column new-column-dq5q to df\n",
    "df.insert(2, 'new-column-dq5q', 0)\n",
    "\n",
    "# Renamed new-column-dq5q to sum in df\n",
    "df.rename(columns={'new-column-dq5q': 'sum'}, inplace=True)\n",
    "\n",
    "# Set new-column-dq5q in df to =SUM(1,2,3)\n",
    "df['sum'] = SUM(1,2,3)\n"
   ]
  },
  {
   "cell_type": "code",
   "execution_count": 6,
   "id": "b7b83342-8bf3-4640-8749-a9961cc54696",
   "metadata": {},
   "outputs": [
    {
     "data": {
      "application/vnd.jupyter.widget-view+json": {
       "model_id": "e528747c16fe442fb1e2d3ffde43db37",
       "version_major": 2,
       "version_minor": 0
      },
      "text/plain": [
       "MitoWidget(analysis_data_json='{\"analysisName\": \"id-zzyeyelrdt\", \"analysisToReplay\": null, \"code\": [], \"stepSu…"
      ]
     },
     "metadata": {},
     "output_type": "display_data"
    }
   ],
   "source": [
    "import mitosheet\n",
    "mitosheet.sheet(df, view_df=True, analysis_to_replay=\"id-zzyeyelrdt\")"
   ]
  },
  {
   "cell_type": "code",
   "execution_count": null,
   "id": "ee4fa6a6-f808-41fa-90b9-0d32a9b0e4d4",
   "metadata": {},
   "outputs": [],
   "source": []
  },
  {
   "cell_type": "code",
   "execution_count": 7,
   "id": "de517d1e-0f38-41a4-addc-b71d7a24812a",
   "metadata": {},
   "outputs": [
    {
     "data": {
      "application/vnd.jupyter.widget-view+json": {
       "model_id": "5519ff2403774cf2ba8135c73f4a6647",
       "version_major": 2,
       "version_minor": 0
      },
      "text/plain": [
       "MitoWidget(analysis_data_json='{\"analysisName\": \"id-jtefkiptpo\", \"analysisToReplay\": null, \"code\": [], \"stepSu…"
      ]
     },
     "metadata": {},
     "output_type": "display_data"
    }
   ],
   "source": [
    "import mitosheet\n",
    "mitosheet.sheet(df, view_df=True, analysis_to_replay=\"id-yquucjtjkw\")"
   ]
  },
  {
   "cell_type": "code",
   "execution_count": null,
   "id": "d05bc32e-14c3-47bd-a597-8fb40c4432d1",
   "metadata": {},
   "outputs": [],
   "source": []
  },
  {
   "cell_type": "code",
   "execution_count": 8,
   "id": "ab6211b4-1cf8-4537-9ca4-55a7fec4b2d7",
   "metadata": {},
   "outputs": [
    {
     "ename": "KeyError",
     "evalue": "\"['Col1'] not in index\"",
     "output_type": "error",
     "traceback": [
      "\u001b[0;31m---------------------------------------------------------------------------\u001b[0m",
      "\u001b[0;31mKeyError\u001b[0m                                  Traceback (most recent call last)",
      "Input \u001b[0;32mIn [8]\u001b[0m, in \u001b[0;36m<module>\u001b[0;34m\u001b[0m\n\u001b[1;32m      4\u001b[0m df_columns \u001b[38;5;241m=\u001b[39m [col \u001b[38;5;28;01mfor\u001b[39;00m col \u001b[38;5;129;01min\u001b[39;00m df\u001b[38;5;241m.\u001b[39mcolumns \u001b[38;5;28;01mif\u001b[39;00m col \u001b[38;5;241m!=\u001b[39m \u001b[38;5;124m'\u001b[39m\u001b[38;5;124mCol1\u001b[39m\u001b[38;5;124m'\u001b[39m]\n\u001b[1;32m      5\u001b[0m df_columns\u001b[38;5;241m.\u001b[39minsert(\u001b[38;5;241m1\u001b[39m, \u001b[38;5;124m'\u001b[39m\u001b[38;5;124mCol1\u001b[39m\u001b[38;5;124m'\u001b[39m)\n\u001b[0;32m----> 6\u001b[0m df \u001b[38;5;241m=\u001b[39m \u001b[43mdf\u001b[49m\u001b[43m[\u001b[49m\u001b[43mdf_columns\u001b[49m\u001b[43m]\u001b[49m\n\u001b[1;32m      8\u001b[0m \u001b[38;5;66;03m# Reordered Col1 in df\u001b[39;00m\n\u001b[1;32m      9\u001b[0m df_columns \u001b[38;5;241m=\u001b[39m [col \u001b[38;5;28;01mfor\u001b[39;00m col \u001b[38;5;129;01min\u001b[39;00m df\u001b[38;5;241m.\u001b[39mcolumns \u001b[38;5;28;01mif\u001b[39;00m col \u001b[38;5;241m!=\u001b[39m \u001b[38;5;124m'\u001b[39m\u001b[38;5;124mCol1\u001b[39m\u001b[38;5;124m'\u001b[39m]\n",
      "File \u001b[0;32m/usr/local/lib/python3.9/site-packages/pandas/core/frame.py:3464\u001b[0m, in \u001b[0;36mDataFrame.__getitem__\u001b[0;34m(self, key)\u001b[0m\n\u001b[1;32m   3462\u001b[0m     \u001b[38;5;28;01mif\u001b[39;00m is_iterator(key):\n\u001b[1;32m   3463\u001b[0m         key \u001b[38;5;241m=\u001b[39m \u001b[38;5;28mlist\u001b[39m(key)\n\u001b[0;32m-> 3464\u001b[0m     indexer \u001b[38;5;241m=\u001b[39m \u001b[38;5;28;43mself\u001b[39;49m\u001b[38;5;241;43m.\u001b[39;49m\u001b[43mloc\u001b[49m\u001b[38;5;241;43m.\u001b[39;49m\u001b[43m_get_listlike_indexer\u001b[49m\u001b[43m(\u001b[49m\u001b[43mkey\u001b[49m\u001b[43m,\u001b[49m\u001b[43m \u001b[49m\u001b[43maxis\u001b[49m\u001b[38;5;241;43m=\u001b[39;49m\u001b[38;5;241;43m1\u001b[39;49m\u001b[43m)\u001b[49m[\u001b[38;5;241m1\u001b[39m]\n\u001b[1;32m   3466\u001b[0m \u001b[38;5;66;03m# take() does not accept boolean indexers\u001b[39;00m\n\u001b[1;32m   3467\u001b[0m \u001b[38;5;28;01mif\u001b[39;00m \u001b[38;5;28mgetattr\u001b[39m(indexer, \u001b[38;5;124m\"\u001b[39m\u001b[38;5;124mdtype\u001b[39m\u001b[38;5;124m\"\u001b[39m, \u001b[38;5;28;01mNone\u001b[39;00m) \u001b[38;5;241m==\u001b[39m \u001b[38;5;28mbool\u001b[39m:\n",
      "File \u001b[0;32m/usr/local/lib/python3.9/site-packages/pandas/core/indexing.py:1314\u001b[0m, in \u001b[0;36m_LocIndexer._get_listlike_indexer\u001b[0;34m(self, key, axis)\u001b[0m\n\u001b[1;32m   1311\u001b[0m \u001b[38;5;28;01melse\u001b[39;00m:\n\u001b[1;32m   1312\u001b[0m     keyarr, indexer, new_indexer \u001b[38;5;241m=\u001b[39m ax\u001b[38;5;241m.\u001b[39m_reindex_non_unique(keyarr)\n\u001b[0;32m-> 1314\u001b[0m \u001b[38;5;28;43mself\u001b[39;49m\u001b[38;5;241;43m.\u001b[39;49m\u001b[43m_validate_read_indexer\u001b[49m\u001b[43m(\u001b[49m\u001b[43mkeyarr\u001b[49m\u001b[43m,\u001b[49m\u001b[43m \u001b[49m\u001b[43mindexer\u001b[49m\u001b[43m,\u001b[49m\u001b[43m \u001b[49m\u001b[43maxis\u001b[49m\u001b[43m)\u001b[49m\n\u001b[1;32m   1316\u001b[0m \u001b[38;5;28;01mif\u001b[39;00m needs_i8_conversion(ax\u001b[38;5;241m.\u001b[39mdtype) \u001b[38;5;129;01mor\u001b[39;00m \u001b[38;5;28misinstance\u001b[39m(\n\u001b[1;32m   1317\u001b[0m     ax, (IntervalIndex, CategoricalIndex)\n\u001b[1;32m   1318\u001b[0m ):\n\u001b[1;32m   1319\u001b[0m     \u001b[38;5;66;03m# For CategoricalIndex take instead of reindex to preserve dtype.\u001b[39;00m\n\u001b[1;32m   1320\u001b[0m     \u001b[38;5;66;03m#  For IntervalIndex this is to map integers to the Intervals they match to.\u001b[39;00m\n\u001b[1;32m   1321\u001b[0m     keyarr \u001b[38;5;241m=\u001b[39m ax\u001b[38;5;241m.\u001b[39mtake(indexer)\n",
      "File \u001b[0;32m/usr/local/lib/python3.9/site-packages/pandas/core/indexing.py:1377\u001b[0m, in \u001b[0;36m_LocIndexer._validate_read_indexer\u001b[0;34m(self, key, indexer, axis)\u001b[0m\n\u001b[1;32m   1374\u001b[0m     \u001b[38;5;28;01mraise\u001b[39;00m \u001b[38;5;167;01mKeyError\u001b[39;00m(\u001b[38;5;124mf\u001b[39m\u001b[38;5;124m\"\u001b[39m\u001b[38;5;124mNone of [\u001b[39m\u001b[38;5;132;01m{\u001b[39;00mkey\u001b[38;5;132;01m}\u001b[39;00m\u001b[38;5;124m] are in the [\u001b[39m\u001b[38;5;132;01m{\u001b[39;00maxis_name\u001b[38;5;132;01m}\u001b[39;00m\u001b[38;5;124m]\u001b[39m\u001b[38;5;124m\"\u001b[39m)\n\u001b[1;32m   1376\u001b[0m not_found \u001b[38;5;241m=\u001b[39m \u001b[38;5;28mlist\u001b[39m(ensure_index(key)[missing_mask\u001b[38;5;241m.\u001b[39mnonzero()[\u001b[38;5;241m0\u001b[39m]]\u001b[38;5;241m.\u001b[39munique())\n\u001b[0;32m-> 1377\u001b[0m \u001b[38;5;28;01mraise\u001b[39;00m \u001b[38;5;167;01mKeyError\u001b[39;00m(\u001b[38;5;124mf\u001b[39m\u001b[38;5;124m\"\u001b[39m\u001b[38;5;132;01m{\u001b[39;00mnot_found\u001b[38;5;132;01m}\u001b[39;00m\u001b[38;5;124m not in index\u001b[39m\u001b[38;5;124m\"\u001b[39m)\n",
      "\u001b[0;31mKeyError\u001b[0m: \"['Col1'] not in index\""
     ]
    }
   ],
   "source": [
    "from mitosheet import *; register_analysis('UUID-6cff32c7-da46-4993-b516-852f5bae9ab3')\n",
    "\n",
    "# Reordered Col1 in df\n",
    "df_columns = [col for col in df.columns if col != 'Col1']\n",
    "df_columns.insert(1, 'Col1')\n",
    "df = df[df_columns]\n",
    "\n",
    "# Reordered Col1 in df\n",
    "df_columns = [col for col in df.columns if col != 'Col1']\n",
    "df_columns.insert(0, 'Col1')\n",
    "df = df[df_columns]\n",
    "\n",
    "# Reordered Col3 in df\n",
    "df_columns = [col for col in df.columns if col != 'Col3']\n",
    "df_columns.insert(3, 'Col3')\n",
    "df = df[df_columns]\n",
    "\n",
    "# Reordered Col3 in df\n",
    "df_columns = [col for col in df.columns if col != 'Col3']\n",
    "df_columns.insert(2, 'Col3')\n",
    "df = df[df_columns]\n"
   ]
  },
  {
   "cell_type": "code",
   "execution_count": 9,
   "id": "d71e610f-b1c3-44dd-8903-4d6069c763fb",
   "metadata": {},
   "outputs": [
    {
     "data": {
      "application/vnd.jupyter.widget-view+json": {
       "model_id": "b6abc5917146462f8baa91ba929167a1",
       "version_major": 2,
       "version_minor": 0
      },
      "text/plain": [
       "MitoWidget(analysis_data_json='{\"analysisName\": \"id-fuvisjyqus\", \"analysisToReplay\": {\"analysisName\": \"UUID-7b…"
      ]
     },
     "metadata": {},
     "output_type": "display_data"
    }
   ],
   "source": [
    "import mitosheet\n",
    "mitosheet.sheet(df, view_df=True, analysis_to_replay=\"UUID-7b707436-17b9-449f-95d9-bb0e9aadc63b\")"
   ]
  },
  {
   "cell_type": "code",
   "execution_count": null,
   "id": "15e37c90-6b19-4420-a9e0-83d3ee5ab598",
   "metadata": {},
   "outputs": [],
   "source": [
    "from mitosheet import *; register_analysis(\"UUID-7b707436-17b9-449f-95d9-bb0e9aadc63b\");\n",
    "    \n",
    "# Pivoted into df\n",
    "df_pivot = pd.DataFrame(data={})\n"
   ]
  }
 ],
 "metadata": {
  "kernelspec": {
   "display_name": "Python 3 (ipykernel)",
   "language": "python",
   "name": "python3"
  },
  "language_info": {
   "codemirror_mode": {
    "name": "ipython",
    "version": 3
   },
   "file_extension": ".py",
   "mimetype": "text/x-python",
   "name": "python",
   "nbconvert_exporter": "python",
   "pygments_lexer": "ipython3",
   "version": "3.9.13"
  }
 },
 "nbformat": 4,
 "nbformat_minor": 5
}
