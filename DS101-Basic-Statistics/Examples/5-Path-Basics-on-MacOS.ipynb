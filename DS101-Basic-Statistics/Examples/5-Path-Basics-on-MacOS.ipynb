{
 "cells": [
  {
   "cell_type": "markdown",
   "id": "b84134b2-96ad-47d1-98f5-90b5fb422d75",
   "metadata": {},
   "source": [
    "# Path Basics on MacOS<a class=\"anchor\" id=\"PB_toc\"></a>\n",
    "\n",
    "* [Table of Contents](#PB_toc)\n",
    "    * [Page 1 - Overview](#PB_page_1)\n",
    "    * [Page 2 - ](#PB_page_2)\n",
    "    * [Page 3 - ](#PB_page_3)\n",
    "    * [Page 4 - ](#PB_page_4)\n",
    "    * [Page 5 - ](#PB_page_5)\n",
    "    * [Page 6 - ](#PB_page_6)\n",
    "    * [Page 7 - ](#PB_page_7)\n",
    "    * [Page 8 - ](#PB_page_8)"
   ]
  },
  {
   "cell_type": "markdown",
   "id": "d5a11cbe-2867-4973-9620-3f310171c9f8",
   "metadata": {},
   "source": [
    "<hr style=\"height:10px;border-width:0;color:gray;background-color:gray\">\n",
    "\n",
    "# Page 1 - Overview of this Module<a class=\"anchor\" id=\"PB_page_1\"></a>\n",
    "\n",
    "[Back to Top](#PB_toc)\n",
    "\n",
    "<hr style=\"height:10px;border-width:0;color:gray;background-color:gray\">\n",
    "\n",
    "Your learning objectives for Path Basics are as follows:\n",
    "\n",
    "* Understand what a path is\n",
    "* Learn how to traverse a path\n",
    "* Learn the various ways to create the Uniform Resource Locator (URL) \n",
    "* Learn how find your dataset\n",
    "\n"
   ]
  },
  {
   "cell_type": "markdown",
   "id": "0961e03d-b46f-46b1-9b49-053f5102ff66",
   "metadata": {},
   "source": [
    "**PATH**: A unique identifier for your location on the computer system\n",
    "\n",
    "**NOTE**: Data files are stored at a specific path on the system. To load or manage data files, you must first locate them."
   ]
  },
  {
   "cell_type": "code",
   "execution_count": 1,
   "id": "6a0575a9-0dc3-4408-b787-d834dd7fd147",
   "metadata": {},
   "outputs": [
    {
     "data": {
      "text/plain": [
       "'/Users/jsr/Documents/GitHub/DS-Student-Resources/DS101-Basic-Statistics/Examples'"
      ]
     },
     "execution_count": 1,
     "metadata": {},
     "output_type": "execute_result"
    }
   ],
   "source": [
    "# To see you current path use:\n",
    "import os\n",
    "os.getcwd()"
   ]
  },
  {
   "cell_type": "markdown",
   "id": "4cba32f8-0c4c-4a13-86e8-1fa7f230ce5e",
   "metadata": {},
   "source": [
    "The path returned above will vary from computer to computer.\n",
    "\n",
    "However, the end of the path should be the same (since its the same repo structure from GitHub).\n",
    "\n",
    "In this case, the last directory should be 'Examples'"
   ]
  },
  {
   "cell_type": "markdown",
   "id": "84832c33-caa2-477a-9d31-536600b8ff1e",
   "metadata": {},
   "source": [
    "# List\n",
    "\n",
    "The **ls** command (list) will show the contents of the current working directory (CWD)."
   ]
  },
  {
   "cell_type": "code",
   "execution_count": 2,
   "id": "58625987-00eb-4bcd-86e5-398c906a0e3a",
   "metadata": {},
   "outputs": [
    {
     "name": "stdout",
     "output_type": "stream",
     "text": [
      "0-Navigating-the-Companion-Notebook-Series.ipynb\n",
      "1-Github-Basics.ipynb\n",
      "10-Magics.ipynb\n",
      "11-Jupyter-Kernels.ipynb\n",
      "12-Tutorial-Jupyter-Notebooks.ipynb\n",
      "2-Jupyter-Project.ipynb\n",
      "3-Math-Basics.ipynb\n",
      "4-Latex-Basics.ipynb\n",
      "5-Path-Basics.ipynb\n",
      "6-Print-Hello-Example.ipynb\n",
      "7-Jupyter-for-Mac.ipynb\n",
      "8-Statistical-Hypothesis-Testing.ipynb\n",
      "9-Probability.ipynb\n",
      "DQ-IQR-Python.ipynb\n",
      "DS101-L2-P3-Probability-Rules-1-and-2.ipynb\n",
      "DS101L2-P2-Single-Event-Probability.ipynb\n",
      "Datetime.ipynb\n",
      "Mac-Terminal-Commands.ipynb\n",
      "Mermaid.ipynb\n",
      "Mito.ipynb\n",
      "\u001b[34mTeam-Examples\u001b[m\u001b[m/\n",
      "readme.md\n"
     ]
    }
   ],
   "source": [
    "ls"
   ]
  },
  {
   "cell_type": "markdown",
   "id": "c1d56fbc-ddd9-4cf0-86d1-4883c0fc3c53",
   "metadata": {},
   "source": [
    "# Absolute vs. Relative Paths"
   ]
  },
  {
   "cell_type": "markdown",
   "id": "1a422e7a-659f-4c8d-b129-676d4907c39c",
   "metadata": {},
   "source": [
    "Paths can be **absolute** or **relative**\n",
    "\n",
    "**Absolute Path**: Full path that begins at the root of the system. For PC, this is usually 'C:' and for Mac/Linux its '/' (AKA root).\n",
    "\n",
    "**Relative Path**: Path that starts from current location. To go up a directory, use \"..\""
   ]
  },
  {
   "cell_type": "code",
   "execution_count": 3,
   "id": "c70c215d-55ca-49ce-9a4a-c15b2042eb45",
   "metadata": {},
   "outputs": [
    {
     "name": "stdout",
     "output_type": "stream",
     "text": [
      "/Users/jsr/Documents/GitHub/DS-Student-Resources/DS101-Basic-Statistics/Examples\n"
     ]
    }
   ],
   "source": [
    "cwd = os.getcwd()\n",
    "print(cwd)"
   ]
  },
  {
   "cell_type": "markdown",
   "id": "e41a0181-5646-432d-9fba-9171b2029f23",
   "metadata": {},
   "source": [
    "The above code returns an absolute path to where you are currently in the system"
   ]
  },
  {
   "cell_type": "markdown",
   "id": "b7b0a8f3-2d8c-45f7-99c4-5d7130002660",
   "metadata": {},
   "source": [
    "## Relative Paths"
   ]
  },
  {
   "cell_type": "code",
   "execution_count": 4,
   "id": "4f157a3c-44c5-4e85-831f-f106397452a7",
   "metadata": {},
   "outputs": [],
   "source": [
    "os.chdir('..')"
   ]
  },
  {
   "cell_type": "code",
   "execution_count": 5,
   "id": "a2f21116-239f-4291-9fbf-2a016da978ef",
   "metadata": {},
   "outputs": [
    {
     "data": {
      "text/plain": [
       "'/Users/jsr/Documents/GitHub/DS-Student-Resources/DS101-Basic-Statistics'"
      ]
     },
     "execution_count": 5,
     "metadata": {},
     "output_type": "execute_result"
    }
   ],
   "source": [
    "os.getcwd()"
   ]
  },
  {
   "cell_type": "code",
   "execution_count": 6,
   "id": "6e0e1351-9212-4bbc-97e3-5260ab57a555",
   "metadata": {},
   "outputs": [],
   "source": [
    "os.chdir('..')"
   ]
  },
  {
   "cell_type": "code",
   "execution_count": 7,
   "id": "534ad8ca-94f4-419d-882b-097fd66a46ce",
   "metadata": {},
   "outputs": [
    {
     "data": {
      "text/plain": [
       "'/Users/jsr/Documents/GitHub/DS-Student-Resources'"
      ]
     },
     "execution_count": 7,
     "metadata": {},
     "output_type": "execute_result"
    }
   ],
   "source": [
    "os.getcwd()"
   ]
  },
  {
   "cell_type": "code",
   "execution_count": 8,
   "id": "13943d42-97d2-4903-9cd9-d6b0152c782e",
   "metadata": {},
   "outputs": [],
   "source": [
    "os.chdir('..')"
   ]
  },
  {
   "cell_type": "code",
   "execution_count": 9,
   "id": "22664fd9-3243-46eb-ac85-df9eaa99c24a",
   "metadata": {},
   "outputs": [
    {
     "data": {
      "text/plain": [
       "'/Users/jsr/Documents/GitHub'"
      ]
     },
     "execution_count": 9,
     "metadata": {},
     "output_type": "execute_result"
    }
   ],
   "source": [
    "os.getcwd()"
   ]
  },
  {
   "cell_type": "code",
   "execution_count": 10,
   "id": "f5e5d776-d3d2-44d6-9f52-cbf59f3d5422",
   "metadata": {},
   "outputs": [
    {
     "name": "stdout",
     "output_type": "stream",
     "text": [
      "/Users/jsr/Documents/GitHub/DS-Student-Resources/DS101-Basic-Statistics/Examples\n"
     ]
    }
   ],
   "source": [
    "# To change back to original working directory\n",
    "os.chdir(cwd)\n",
    "print(os.getcwd())"
   ]
  },
  {
   "cell_type": "code",
   "execution_count": 11,
   "id": "47225551-4592-422e-b769-2dbe405ee61b",
   "metadata": {},
   "outputs": [],
   "source": [
    "os.chdir('../../../')"
   ]
  },
  {
   "cell_type": "code",
   "execution_count": 12,
   "id": "e2c2d76d-7f81-460d-b973-259b8871044f",
   "metadata": {},
   "outputs": [
    {
     "data": {
      "text/plain": [
       "'/Users/jsr/Documents/GitHub'"
      ]
     },
     "execution_count": 12,
     "metadata": {},
     "output_type": "execute_result"
    }
   ],
   "source": [
    "os.getcwd()"
   ]
  },
  {
   "cell_type": "markdown",
   "id": "6255a62f-47a6-4f1e-b7af-507777d9d2cd",
   "metadata": {},
   "source": [
    "## The 'Home' directory\n",
    "\n",
    "Users have a home directory which normally contains Desktop, Documents and other common directories."
   ]
  },
  {
   "cell_type": "code",
   "execution_count": 13,
   "id": "fb293fc4-2ab5-4124-b70b-ac65d2cba37e",
   "metadata": {},
   "outputs": [
    {
     "name": "stdout",
     "output_type": "stream",
     "text": [
      "/Users/jsr\n"
     ]
    }
   ],
   "source": [
    "from os.path import expanduser\n",
    "home = expanduser(\"~\")\n",
    "print(home)"
   ]
  },
  {
   "cell_type": "code",
   "execution_count": 14,
   "id": "bdd69e2a-7a0d-4aa3-b732-2765f8872b04",
   "metadata": {},
   "outputs": [],
   "source": [
    "os.chdir(home)"
   ]
  },
  {
   "cell_type": "markdown",
   "id": "bcf500c1-3c0a-47a8-9c69-c252b7068204",
   "metadata": {},
   "source": [
    "## Path Creation with os.path.join"
   ]
  },
  {
   "cell_type": "code",
   "execution_count": 16,
   "id": "6f503ada-eacd-4c7f-85b0-243499033e11",
   "metadata": {},
   "outputs": [],
   "source": [
    "#test_path = os.path.join('/', 'Users', 'myusr')"
   ]
  },
  {
   "cell_type": "code",
   "execution_count": 17,
   "id": "36b1ff1f-7c69-4312-85f3-c43e2a4e9606",
   "metadata": {},
   "outputs": [],
   "source": [
    "#test_path"
   ]
  },
  {
   "cell_type": "code",
   "execution_count": 18,
   "id": "37db97ed-8883-4969-8a05-b56211d3f1ea",
   "metadata": {},
   "outputs": [],
   "source": [
    "#os.chdir(test_path)"
   ]
  },
  {
   "cell_type": "code",
   "execution_count": 19,
   "id": "bbe61149-fb77-45e0-8edf-2eccc9d163ff",
   "metadata": {},
   "outputs": [],
   "source": [
    "#os.getcwd()"
   ]
  },
  {
   "cell_type": "code",
   "execution_count": 20,
   "id": "59e25b27-bbd4-4af1-8737-3897c8ec6e24",
   "metadata": {},
   "outputs": [
    {
     "name": "stdout",
     "output_type": "stream",
     "text": [
      "\u001b[34mDesktop\u001b[m\u001b[m/                \u001b[31mM1-Homebrew-install.sh\u001b[m\u001b[m* \u001b[34mPublic\u001b[m\u001b[m/\n",
      "\u001b[34mDocuments\u001b[m\u001b[m/              \u001b[34mMovies\u001b[m\u001b[m/                 log.txt\n",
      "\u001b[34mDownloads\u001b[m\u001b[m/              \u001b[34mMusic\u001b[m\u001b[m/\n",
      "\u001b[34mLibrary\u001b[m\u001b[m/                \u001b[34mPictures\u001b[m\u001b[m/\n"
     ]
    }
   ],
   "source": [
    "ls"
   ]
  },
  {
   "cell_type": "markdown",
   "id": "14037977-3e98-43d1-ab3a-f2a337f69648",
   "metadata": {},
   "source": [
    "# Locate and open Ages.csv located in Data folder"
   ]
  },
  {
   "cell_type": "code",
   "execution_count": 21,
   "id": "898ea44e-b422-42e8-904b-e2e239aa6655",
   "metadata": {},
   "outputs": [
    {
     "name": "stdout",
     "output_type": "stream",
     "text": [
      "/Users/jsr/Documents/GitHub/DS-Student-Resources/DS101-Basic-Statistics/Examples\n"
     ]
    }
   ],
   "source": [
    "# Change back to starting directory\n",
    "os.chdir(cwd)\n",
    "print(os.getcwd())"
   ]
  },
  {
   "cell_type": "code",
   "execution_count": 23,
   "id": "11b2eab8-eaf5-4e9c-8b8d-ccc0108d69dd",
   "metadata": {},
   "outputs": [],
   "source": [
    "import pandas as pd"
   ]
  },
  {
   "cell_type": "markdown",
   "id": "cba05bc9-97c4-416d-98ee-9e85095ee0c9",
   "metadata": {},
   "source": [
    "### The below code fails because of an incorrect path. Ages.csv does not exist in this directory."
   ]
  },
  {
   "cell_type": "code",
   "execution_count": 24,
   "id": "efec1cda-74f7-4825-864b-1268b1206af9",
   "metadata": {},
   "outputs": [
    {
     "name": "stdout",
     "output_type": "stream",
     "text": [
      "0-Navigating-the-Companion-Notebook-Series.ipynb\n",
      "1-Github-Basics.ipynb\n",
      "10-Magics.ipynb\n",
      "11-Jupyter-Kernels.ipynb\n",
      "12-Tutorial-Jupyter-Notebooks.ipynb\n",
      "2-Jupyter-Project.ipynb\n",
      "3-Math-Basics.ipynb\n",
      "4-Latex-Basics.ipynb\n",
      "5-Path-Basics.ipynb\n",
      "6-Print-Hello-Example.ipynb\n",
      "7-Jupyter-for-Mac.ipynb\n",
      "8-Statistical-Hypothesis-Testing.ipynb\n",
      "9-Probability.ipynb\n",
      "DQ-IQR-Python.ipynb\n",
      "DS101-L2-P3-Probability-Rules-1-and-2.ipynb\n",
      "DS101L2-P2-Single-Event-Probability.ipynb\n",
      "Datetime.ipynb\n",
      "Mac-Terminal-Commands.ipynb\n",
      "Mermaid.ipynb\n",
      "Mito.ipynb\n",
      "\u001b[34mTeam-Examples\u001b[m\u001b[m/\n",
      "readme.md\n"
     ]
    }
   ],
   "source": [
    "ls"
   ]
  },
  {
   "cell_type": "code",
   "execution_count": 25,
   "id": "6ea035c5-bb73-427a-bdc7-115ca8599583",
   "metadata": {},
   "outputs": [
    {
     "ename": "FileNotFoundError",
     "evalue": "[Errno 2] No such file or directory: 'Ages.csv'",
     "output_type": "error",
     "traceback": [
      "\u001b[0;31m---------------------------------------------------------------------------\u001b[0m",
      "\u001b[0;31mFileNotFoundError\u001b[0m                         Traceback (most recent call last)",
      "Input \u001b[0;32mIn [25]\u001b[0m, in \u001b[0;36m<cell line: 1>\u001b[0;34m()\u001b[0m\n\u001b[0;32m----> 1\u001b[0m df \u001b[38;5;241m=\u001b[39m \u001b[43mpd\u001b[49m\u001b[38;5;241;43m.\u001b[39;49m\u001b[43mread_csv\u001b[49m\u001b[43m(\u001b[49m\u001b[38;5;124;43m'\u001b[39;49m\u001b[38;5;124;43mAges.csv\u001b[39;49m\u001b[38;5;124;43m'\u001b[39;49m\u001b[43m)\u001b[49m\n",
      "File \u001b[0;32m/opt/homebrew/lib/python3.9/site-packages/pandas/util/_decorators.py:311\u001b[0m, in \u001b[0;36mdeprecate_nonkeyword_arguments.<locals>.decorate.<locals>.wrapper\u001b[0;34m(*args, **kwargs)\u001b[0m\n\u001b[1;32m    305\u001b[0m \u001b[38;5;28;01mif\u001b[39;00m \u001b[38;5;28mlen\u001b[39m(args) \u001b[38;5;241m>\u001b[39m num_allow_args:\n\u001b[1;32m    306\u001b[0m     warnings\u001b[38;5;241m.\u001b[39mwarn(\n\u001b[1;32m    307\u001b[0m         msg\u001b[38;5;241m.\u001b[39mformat(arguments\u001b[38;5;241m=\u001b[39marguments),\n\u001b[1;32m    308\u001b[0m         \u001b[38;5;167;01mFutureWarning\u001b[39;00m,\n\u001b[1;32m    309\u001b[0m         stacklevel\u001b[38;5;241m=\u001b[39mstacklevel,\n\u001b[1;32m    310\u001b[0m     )\n\u001b[0;32m--> 311\u001b[0m \u001b[38;5;28;01mreturn\u001b[39;00m \u001b[43mfunc\u001b[49m\u001b[43m(\u001b[49m\u001b[38;5;241;43m*\u001b[39;49m\u001b[43margs\u001b[49m\u001b[43m,\u001b[49m\u001b[43m \u001b[49m\u001b[38;5;241;43m*\u001b[39;49m\u001b[38;5;241;43m*\u001b[39;49m\u001b[43mkwargs\u001b[49m\u001b[43m)\u001b[49m\n",
      "File \u001b[0;32m/opt/homebrew/lib/python3.9/site-packages/pandas/io/parsers/readers.py:680\u001b[0m, in \u001b[0;36mread_csv\u001b[0;34m(filepath_or_buffer, sep, delimiter, header, names, index_col, usecols, squeeze, prefix, mangle_dupe_cols, dtype, engine, converters, true_values, false_values, skipinitialspace, skiprows, skipfooter, nrows, na_values, keep_default_na, na_filter, verbose, skip_blank_lines, parse_dates, infer_datetime_format, keep_date_col, date_parser, dayfirst, cache_dates, iterator, chunksize, compression, thousands, decimal, lineterminator, quotechar, quoting, doublequote, escapechar, comment, encoding, encoding_errors, dialect, error_bad_lines, warn_bad_lines, on_bad_lines, delim_whitespace, low_memory, memory_map, float_precision, storage_options)\u001b[0m\n\u001b[1;32m    665\u001b[0m kwds_defaults \u001b[38;5;241m=\u001b[39m _refine_defaults_read(\n\u001b[1;32m    666\u001b[0m     dialect,\n\u001b[1;32m    667\u001b[0m     delimiter,\n\u001b[0;32m   (...)\u001b[0m\n\u001b[1;32m    676\u001b[0m     defaults\u001b[38;5;241m=\u001b[39m{\u001b[38;5;124m\"\u001b[39m\u001b[38;5;124mdelimiter\u001b[39m\u001b[38;5;124m\"\u001b[39m: \u001b[38;5;124m\"\u001b[39m\u001b[38;5;124m,\u001b[39m\u001b[38;5;124m\"\u001b[39m},\n\u001b[1;32m    677\u001b[0m )\n\u001b[1;32m    678\u001b[0m kwds\u001b[38;5;241m.\u001b[39mupdate(kwds_defaults)\n\u001b[0;32m--> 680\u001b[0m \u001b[38;5;28;01mreturn\u001b[39;00m \u001b[43m_read\u001b[49m\u001b[43m(\u001b[49m\u001b[43mfilepath_or_buffer\u001b[49m\u001b[43m,\u001b[49m\u001b[43m \u001b[49m\u001b[43mkwds\u001b[49m\u001b[43m)\u001b[49m\n",
      "File \u001b[0;32m/opt/homebrew/lib/python3.9/site-packages/pandas/io/parsers/readers.py:575\u001b[0m, in \u001b[0;36m_read\u001b[0;34m(filepath_or_buffer, kwds)\u001b[0m\n\u001b[1;32m    572\u001b[0m _validate_names(kwds\u001b[38;5;241m.\u001b[39mget(\u001b[38;5;124m\"\u001b[39m\u001b[38;5;124mnames\u001b[39m\u001b[38;5;124m\"\u001b[39m, \u001b[38;5;28;01mNone\u001b[39;00m))\n\u001b[1;32m    574\u001b[0m \u001b[38;5;66;03m# Create the parser.\u001b[39;00m\n\u001b[0;32m--> 575\u001b[0m parser \u001b[38;5;241m=\u001b[39m \u001b[43mTextFileReader\u001b[49m\u001b[43m(\u001b[49m\u001b[43mfilepath_or_buffer\u001b[49m\u001b[43m,\u001b[49m\u001b[43m \u001b[49m\u001b[38;5;241;43m*\u001b[39;49m\u001b[38;5;241;43m*\u001b[39;49m\u001b[43mkwds\u001b[49m\u001b[43m)\u001b[49m\n\u001b[1;32m    577\u001b[0m \u001b[38;5;28;01mif\u001b[39;00m chunksize \u001b[38;5;129;01mor\u001b[39;00m iterator:\n\u001b[1;32m    578\u001b[0m     \u001b[38;5;28;01mreturn\u001b[39;00m parser\n",
      "File \u001b[0;32m/opt/homebrew/lib/python3.9/site-packages/pandas/io/parsers/readers.py:933\u001b[0m, in \u001b[0;36mTextFileReader.__init__\u001b[0;34m(self, f, engine, **kwds)\u001b[0m\n\u001b[1;32m    930\u001b[0m     \u001b[38;5;28mself\u001b[39m\u001b[38;5;241m.\u001b[39moptions[\u001b[38;5;124m\"\u001b[39m\u001b[38;5;124mhas_index_names\u001b[39m\u001b[38;5;124m\"\u001b[39m] \u001b[38;5;241m=\u001b[39m kwds[\u001b[38;5;124m\"\u001b[39m\u001b[38;5;124mhas_index_names\u001b[39m\u001b[38;5;124m\"\u001b[39m]\n\u001b[1;32m    932\u001b[0m \u001b[38;5;28mself\u001b[39m\u001b[38;5;241m.\u001b[39mhandles: IOHandles \u001b[38;5;241m|\u001b[39m \u001b[38;5;28;01mNone\u001b[39;00m \u001b[38;5;241m=\u001b[39m \u001b[38;5;28;01mNone\u001b[39;00m\n\u001b[0;32m--> 933\u001b[0m \u001b[38;5;28mself\u001b[39m\u001b[38;5;241m.\u001b[39m_engine \u001b[38;5;241m=\u001b[39m \u001b[38;5;28;43mself\u001b[39;49m\u001b[38;5;241;43m.\u001b[39;49m\u001b[43m_make_engine\u001b[49m\u001b[43m(\u001b[49m\u001b[43mf\u001b[49m\u001b[43m,\u001b[49m\u001b[43m \u001b[49m\u001b[38;5;28;43mself\u001b[39;49m\u001b[38;5;241;43m.\u001b[39;49m\u001b[43mengine\u001b[49m\u001b[43m)\u001b[49m\n",
      "File \u001b[0;32m/opt/homebrew/lib/python3.9/site-packages/pandas/io/parsers/readers.py:1217\u001b[0m, in \u001b[0;36mTextFileReader._make_engine\u001b[0;34m(self, f, engine)\u001b[0m\n\u001b[1;32m   1213\u001b[0m     mode \u001b[38;5;241m=\u001b[39m \u001b[38;5;124m\"\u001b[39m\u001b[38;5;124mrb\u001b[39m\u001b[38;5;124m\"\u001b[39m\n\u001b[1;32m   1214\u001b[0m \u001b[38;5;66;03m# error: No overload variant of \"get_handle\" matches argument types\u001b[39;00m\n\u001b[1;32m   1215\u001b[0m \u001b[38;5;66;03m# \"Union[str, PathLike[str], ReadCsvBuffer[bytes], ReadCsvBuffer[str]]\"\u001b[39;00m\n\u001b[1;32m   1216\u001b[0m \u001b[38;5;66;03m# , \"str\", \"bool\", \"Any\", \"Any\", \"Any\", \"Any\", \"Any\"\u001b[39;00m\n\u001b[0;32m-> 1217\u001b[0m \u001b[38;5;28mself\u001b[39m\u001b[38;5;241m.\u001b[39mhandles \u001b[38;5;241m=\u001b[39m \u001b[43mget_handle\u001b[49m\u001b[43m(\u001b[49m\u001b[43m  \u001b[49m\u001b[38;5;66;43;03m# type: ignore[call-overload]\u001b[39;49;00m\n\u001b[1;32m   1218\u001b[0m \u001b[43m    \u001b[49m\u001b[43mf\u001b[49m\u001b[43m,\u001b[49m\n\u001b[1;32m   1219\u001b[0m \u001b[43m    \u001b[49m\u001b[43mmode\u001b[49m\u001b[43m,\u001b[49m\n\u001b[1;32m   1220\u001b[0m \u001b[43m    \u001b[49m\u001b[43mencoding\u001b[49m\u001b[38;5;241;43m=\u001b[39;49m\u001b[38;5;28;43mself\u001b[39;49m\u001b[38;5;241;43m.\u001b[39;49m\u001b[43moptions\u001b[49m\u001b[38;5;241;43m.\u001b[39;49m\u001b[43mget\u001b[49m\u001b[43m(\u001b[49m\u001b[38;5;124;43m\"\u001b[39;49m\u001b[38;5;124;43mencoding\u001b[39;49m\u001b[38;5;124;43m\"\u001b[39;49m\u001b[43m,\u001b[49m\u001b[43m \u001b[49m\u001b[38;5;28;43;01mNone\u001b[39;49;00m\u001b[43m)\u001b[49m\u001b[43m,\u001b[49m\n\u001b[1;32m   1221\u001b[0m \u001b[43m    \u001b[49m\u001b[43mcompression\u001b[49m\u001b[38;5;241;43m=\u001b[39;49m\u001b[38;5;28;43mself\u001b[39;49m\u001b[38;5;241;43m.\u001b[39;49m\u001b[43moptions\u001b[49m\u001b[38;5;241;43m.\u001b[39;49m\u001b[43mget\u001b[49m\u001b[43m(\u001b[49m\u001b[38;5;124;43m\"\u001b[39;49m\u001b[38;5;124;43mcompression\u001b[39;49m\u001b[38;5;124;43m\"\u001b[39;49m\u001b[43m,\u001b[49m\u001b[43m \u001b[49m\u001b[38;5;28;43;01mNone\u001b[39;49;00m\u001b[43m)\u001b[49m\u001b[43m,\u001b[49m\n\u001b[1;32m   1222\u001b[0m \u001b[43m    \u001b[49m\u001b[43mmemory_map\u001b[49m\u001b[38;5;241;43m=\u001b[39;49m\u001b[38;5;28;43mself\u001b[39;49m\u001b[38;5;241;43m.\u001b[39;49m\u001b[43moptions\u001b[49m\u001b[38;5;241;43m.\u001b[39;49m\u001b[43mget\u001b[49m\u001b[43m(\u001b[49m\u001b[38;5;124;43m\"\u001b[39;49m\u001b[38;5;124;43mmemory_map\u001b[39;49m\u001b[38;5;124;43m\"\u001b[39;49m\u001b[43m,\u001b[49m\u001b[43m \u001b[49m\u001b[38;5;28;43;01mFalse\u001b[39;49;00m\u001b[43m)\u001b[49m\u001b[43m,\u001b[49m\n\u001b[1;32m   1223\u001b[0m \u001b[43m    \u001b[49m\u001b[43mis_text\u001b[49m\u001b[38;5;241;43m=\u001b[39;49m\u001b[43mis_text\u001b[49m\u001b[43m,\u001b[49m\n\u001b[1;32m   1224\u001b[0m \u001b[43m    \u001b[49m\u001b[43merrors\u001b[49m\u001b[38;5;241;43m=\u001b[39;49m\u001b[38;5;28;43mself\u001b[39;49m\u001b[38;5;241;43m.\u001b[39;49m\u001b[43moptions\u001b[49m\u001b[38;5;241;43m.\u001b[39;49m\u001b[43mget\u001b[49m\u001b[43m(\u001b[49m\u001b[38;5;124;43m\"\u001b[39;49m\u001b[38;5;124;43mencoding_errors\u001b[39;49m\u001b[38;5;124;43m\"\u001b[39;49m\u001b[43m,\u001b[49m\u001b[43m \u001b[49m\u001b[38;5;124;43m\"\u001b[39;49m\u001b[38;5;124;43mstrict\u001b[39;49m\u001b[38;5;124;43m\"\u001b[39;49m\u001b[43m)\u001b[49m\u001b[43m,\u001b[49m\n\u001b[1;32m   1225\u001b[0m \u001b[43m    \u001b[49m\u001b[43mstorage_options\u001b[49m\u001b[38;5;241;43m=\u001b[39;49m\u001b[38;5;28;43mself\u001b[39;49m\u001b[38;5;241;43m.\u001b[39;49m\u001b[43moptions\u001b[49m\u001b[38;5;241;43m.\u001b[39;49m\u001b[43mget\u001b[49m\u001b[43m(\u001b[49m\u001b[38;5;124;43m\"\u001b[39;49m\u001b[38;5;124;43mstorage_options\u001b[39;49m\u001b[38;5;124;43m\"\u001b[39;49m\u001b[43m,\u001b[49m\u001b[43m \u001b[49m\u001b[38;5;28;43;01mNone\u001b[39;49;00m\u001b[43m)\u001b[49m\u001b[43m,\u001b[49m\n\u001b[1;32m   1226\u001b[0m \u001b[43m\u001b[49m\u001b[43m)\u001b[49m\n\u001b[1;32m   1227\u001b[0m \u001b[38;5;28;01massert\u001b[39;00m \u001b[38;5;28mself\u001b[39m\u001b[38;5;241m.\u001b[39mhandles \u001b[38;5;129;01mis\u001b[39;00m \u001b[38;5;129;01mnot\u001b[39;00m \u001b[38;5;28;01mNone\u001b[39;00m\n\u001b[1;32m   1228\u001b[0m f \u001b[38;5;241m=\u001b[39m \u001b[38;5;28mself\u001b[39m\u001b[38;5;241m.\u001b[39mhandles\u001b[38;5;241m.\u001b[39mhandle\n",
      "File \u001b[0;32m/opt/homebrew/lib/python3.9/site-packages/pandas/io/common.py:789\u001b[0m, in \u001b[0;36mget_handle\u001b[0;34m(path_or_buf, mode, encoding, compression, memory_map, is_text, errors, storage_options)\u001b[0m\n\u001b[1;32m    784\u001b[0m \u001b[38;5;28;01melif\u001b[39;00m \u001b[38;5;28misinstance\u001b[39m(handle, \u001b[38;5;28mstr\u001b[39m):\n\u001b[1;32m    785\u001b[0m     \u001b[38;5;66;03m# Check whether the filename is to be opened in binary mode.\u001b[39;00m\n\u001b[1;32m    786\u001b[0m     \u001b[38;5;66;03m# Binary mode does not support 'encoding' and 'newline'.\u001b[39;00m\n\u001b[1;32m    787\u001b[0m     \u001b[38;5;28;01mif\u001b[39;00m ioargs\u001b[38;5;241m.\u001b[39mencoding \u001b[38;5;129;01mand\u001b[39;00m \u001b[38;5;124m\"\u001b[39m\u001b[38;5;124mb\u001b[39m\u001b[38;5;124m\"\u001b[39m \u001b[38;5;129;01mnot\u001b[39;00m \u001b[38;5;129;01min\u001b[39;00m ioargs\u001b[38;5;241m.\u001b[39mmode:\n\u001b[1;32m    788\u001b[0m         \u001b[38;5;66;03m# Encoding\u001b[39;00m\n\u001b[0;32m--> 789\u001b[0m         handle \u001b[38;5;241m=\u001b[39m \u001b[38;5;28;43mopen\u001b[39;49m\u001b[43m(\u001b[49m\n\u001b[1;32m    790\u001b[0m \u001b[43m            \u001b[49m\u001b[43mhandle\u001b[49m\u001b[43m,\u001b[49m\n\u001b[1;32m    791\u001b[0m \u001b[43m            \u001b[49m\u001b[43mioargs\u001b[49m\u001b[38;5;241;43m.\u001b[39;49m\u001b[43mmode\u001b[49m\u001b[43m,\u001b[49m\n\u001b[1;32m    792\u001b[0m \u001b[43m            \u001b[49m\u001b[43mencoding\u001b[49m\u001b[38;5;241;43m=\u001b[39;49m\u001b[43mioargs\u001b[49m\u001b[38;5;241;43m.\u001b[39;49m\u001b[43mencoding\u001b[49m\u001b[43m,\u001b[49m\n\u001b[1;32m    793\u001b[0m \u001b[43m            \u001b[49m\u001b[43merrors\u001b[49m\u001b[38;5;241;43m=\u001b[39;49m\u001b[43merrors\u001b[49m\u001b[43m,\u001b[49m\n\u001b[1;32m    794\u001b[0m \u001b[43m            \u001b[49m\u001b[43mnewline\u001b[49m\u001b[38;5;241;43m=\u001b[39;49m\u001b[38;5;124;43m\"\u001b[39;49m\u001b[38;5;124;43m\"\u001b[39;49m\u001b[43m,\u001b[49m\n\u001b[1;32m    795\u001b[0m \u001b[43m        \u001b[49m\u001b[43m)\u001b[49m\n\u001b[1;32m    796\u001b[0m     \u001b[38;5;28;01melse\u001b[39;00m:\n\u001b[1;32m    797\u001b[0m         \u001b[38;5;66;03m# Binary mode\u001b[39;00m\n\u001b[1;32m    798\u001b[0m         handle \u001b[38;5;241m=\u001b[39m \u001b[38;5;28mopen\u001b[39m(handle, ioargs\u001b[38;5;241m.\u001b[39mmode)\n",
      "\u001b[0;31mFileNotFoundError\u001b[0m: [Errno 2] No such file or directory: 'Ages.csv'"
     ]
    }
   ],
   "source": [
    "df = pd.read_csv('Ages.csv')"
   ]
  },
  {
   "cell_type": "markdown",
   "id": "48742c3d-6541-4ea1-914c-cd0f0cf7482f",
   "metadata": {},
   "source": [
    "### The correct directory is up one level and then down into Data"
   ]
  },
  {
   "cell_type": "code",
   "execution_count": 26,
   "id": "b49da2f1-6b68-4625-a7d2-1089eba3fb46",
   "metadata": {},
   "outputs": [
    {
     "name": "stdout",
     "output_type": "stream",
     "text": [
      "Ages.csv\n",
      "ChiSquareTest.xlsx\n",
      "Coffee-modified.csv\n",
      "Effect-Size-Worksheet.xlsx\n",
      "Heights.csv\n",
      "TXtemperatures.xls\n",
      "cat_breed_characteristics.csv\n",
      "data.csv\n",
      "datasets-20465-26638-honeyproduction.csv\n",
      "gdp.csv\n",
      "gdp2.csv\n",
      "gdp2.xls\n",
      "honey.csv\n",
      "hotel_bookings.csv\n",
      "kernels.csv\n",
      "prob-function.xlsx\n",
      "readme.md\n",
      "shakespeare.csv\n",
      "skydive.csv\n",
      "supermarket_sales.xlsx\n"
     ]
    }
   ],
   "source": [
    "ls ../Data/"
   ]
  },
  {
   "cell_type": "code",
   "execution_count": 27,
   "id": "b3bf7424-bce7-40d5-b466-2e6b6754c697",
   "metadata": {},
   "outputs": [
    {
     "name": "stdout",
     "output_type": "stream",
     "text": [
      "/Users/jsr/Documents/GitHub/DS-Student-Resources/DS101-Basic-Statistics/Data\n"
     ]
    }
   ],
   "source": [
    "### Load data by moving to that directory\n",
    "os.chdir(os.path.join('..', 'Data'))\n",
    "print(os.getcwd())"
   ]
  },
  {
   "cell_type": "code",
   "execution_count": 28,
   "id": "01a7e1c6-0d72-41c6-b5f8-0392d0a312a3",
   "metadata": {},
   "outputs": [
    {
     "name": "stdout",
     "output_type": "stream",
     "text": [
      "Ages.csv\n",
      "ChiSquareTest.xlsx\n",
      "Coffee-modified.csv\n",
      "Effect-Size-Worksheet.xlsx\n",
      "Heights.csv\n",
      "TXtemperatures.xls\n",
      "cat_breed_characteristics.csv\n",
      "data.csv\n",
      "datasets-20465-26638-honeyproduction.csv\n",
      "gdp.csv\n",
      "gdp2.csv\n",
      "gdp2.xls\n",
      "honey.csv\n",
      "hotel_bookings.csv\n",
      "kernels.csv\n",
      "prob-function.xlsx\n",
      "readme.md\n",
      "shakespeare.csv\n",
      "skydive.csv\n",
      "supermarket_sales.xlsx\n"
     ]
    }
   ],
   "source": [
    "ls"
   ]
  },
  {
   "cell_type": "code",
   "execution_count": 29,
   "id": "65e8ac4b-45da-472a-a000-e50d4a79aeee",
   "metadata": {},
   "outputs": [],
   "source": [
    "df = pd.read_csv('Ages.csv')"
   ]
  },
  {
   "cell_type": "markdown",
   "id": "12cf4e9d-b957-4b45-b8fe-e11a5dbdff82",
   "metadata": {},
   "source": [
    "## Successful data load!"
   ]
  },
  {
   "cell_type": "markdown",
   "id": "5f020fe7-e338-4c90-8275-cd5950f233e8",
   "metadata": {},
   "source": [
    "### Alternative method for loading data-supply path when loading data"
   ]
  },
  {
   "cell_type": "code",
   "execution_count": 30,
   "id": "8940ca47-82dc-4815-8ba2-462fd1035ff4",
   "metadata": {},
   "outputs": [
    {
     "name": "stdout",
     "output_type": "stream",
     "text": [
      "/Users/jsr/Documents/GitHub/DS-Student-Resources/DS101-Basic-Statistics/Examples\n"
     ]
    }
   ],
   "source": [
    "# Change back to starting directory\n",
    "os.chdir(cwd)\n",
    "print(os.getcwd())"
   ]
  },
  {
   "cell_type": "code",
   "execution_count": 31,
   "id": "c7dcba1f-87e0-4b72-8745-3cf9b240d51d",
   "metadata": {},
   "outputs": [],
   "source": [
    "data_path = os.path.join('..', 'Data', 'Ages.csv')\n",
    "df2 = pd.read_csv(data_path)"
   ]
  },
  {
   "cell_type": "markdown",
   "id": "64ba71b1-5766-4871-9328-dcf37661403e",
   "metadata": {},
   "source": [
    "## Successful data load!"
   ]
  },
  {
   "cell_type": "code",
   "execution_count": 32,
   "id": "9509a60e-5168-4e54-9be2-43ea8f8b8fb2",
   "metadata": {},
   "outputs": [
    {
     "data": {
      "text/html": [
       "<div>\n",
       "<style scoped>\n",
       "    .dataframe tbody tr th:only-of-type {\n",
       "        vertical-align: middle;\n",
       "    }\n",
       "\n",
       "    .dataframe tbody tr th {\n",
       "        vertical-align: top;\n",
       "    }\n",
       "\n",
       "    .dataframe thead th {\n",
       "        text-align: right;\n",
       "    }\n",
       "</style>\n",
       "<table border=\"1\" class=\"dataframe\">\n",
       "  <thead>\n",
       "    <tr style=\"text-align: right;\">\n",
       "      <th></th>\n",
       "      <th>Age</th>\n",
       "    </tr>\n",
       "  </thead>\n",
       "  <tbody>\n",
       "    <tr>\n",
       "      <th>0</th>\n",
       "      <td>50</td>\n",
       "    </tr>\n",
       "    <tr>\n",
       "      <th>1</th>\n",
       "      <td>56</td>\n",
       "    </tr>\n",
       "    <tr>\n",
       "      <th>2</th>\n",
       "      <td>22</td>\n",
       "    </tr>\n",
       "    <tr>\n",
       "      <th>3</th>\n",
       "      <td>7</td>\n",
       "    </tr>\n",
       "    <tr>\n",
       "      <th>4</th>\n",
       "      <td>3</td>\n",
       "    </tr>\n",
       "  </tbody>\n",
       "</table>\n",
       "</div>"
      ],
      "text/plain": [
       "   Age\n",
       "0   50\n",
       "1   56\n",
       "2   22\n",
       "3    7\n",
       "4    3"
      ]
     },
     "execution_count": 32,
     "metadata": {},
     "output_type": "execute_result"
    }
   ],
   "source": [
    "df.head()"
   ]
  },
  {
   "cell_type": "code",
   "execution_count": 33,
   "id": "245a1426-cff8-40f6-941d-5ab27b711fb6",
   "metadata": {},
   "outputs": [
    {
     "data": {
      "text/html": [
       "<div>\n",
       "<style scoped>\n",
       "    .dataframe tbody tr th:only-of-type {\n",
       "        vertical-align: middle;\n",
       "    }\n",
       "\n",
       "    .dataframe tbody tr th {\n",
       "        vertical-align: top;\n",
       "    }\n",
       "\n",
       "    .dataframe thead th {\n",
       "        text-align: right;\n",
       "    }\n",
       "</style>\n",
       "<table border=\"1\" class=\"dataframe\">\n",
       "  <thead>\n",
       "    <tr style=\"text-align: right;\">\n",
       "      <th></th>\n",
       "      <th>Age</th>\n",
       "    </tr>\n",
       "  </thead>\n",
       "  <tbody>\n",
       "    <tr>\n",
       "      <th>0</th>\n",
       "      <td>50</td>\n",
       "    </tr>\n",
       "    <tr>\n",
       "      <th>1</th>\n",
       "      <td>56</td>\n",
       "    </tr>\n",
       "    <tr>\n",
       "      <th>2</th>\n",
       "      <td>22</td>\n",
       "    </tr>\n",
       "    <tr>\n",
       "      <th>3</th>\n",
       "      <td>7</td>\n",
       "    </tr>\n",
       "    <tr>\n",
       "      <th>4</th>\n",
       "      <td>3</td>\n",
       "    </tr>\n",
       "  </tbody>\n",
       "</table>\n",
       "</div>"
      ],
      "text/plain": [
       "   Age\n",
       "0   50\n",
       "1   56\n",
       "2   22\n",
       "3    7\n",
       "4    3"
      ]
     },
     "execution_count": 33,
     "metadata": {},
     "output_type": "execute_result"
    }
   ],
   "source": [
    "df2.head()"
   ]
  },
  {
   "cell_type": "code",
   "execution_count": null,
   "id": "7ad31846-b56a-4334-8776-22705e32a6a1",
   "metadata": {},
   "outputs": [],
   "source": []
  }
 ],
 "metadata": {
  "kernelspec": {
   "display_name": "Python 3 (ipykernel)",
   "language": "python",
   "name": "python3"
  },
  "language_info": {
   "codemirror_mode": {
    "name": "ipython",
    "version": 3
   },
   "file_extension": ".py",
   "mimetype": "text/x-python",
   "name": "python",
   "nbconvert_exporter": "python",
   "pygments_lexer": "ipython3",
   "version": "3.9.13"
  }
 },
 "nbformat": 4,
 "nbformat_minor": 5
}
