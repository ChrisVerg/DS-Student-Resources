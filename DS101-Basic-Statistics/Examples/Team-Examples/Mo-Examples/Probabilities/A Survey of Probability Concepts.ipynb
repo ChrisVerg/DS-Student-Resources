{
 "cells": [
  {
   "cell_type": "markdown",
   "id": "0a5d6da0-e692-4e2f-877b-f75caa486f26",
   "metadata": {
    "tags": []
   },
   "source": [
    "# 1. Introduction"
   ]
  },
  {
   "cell_type": "markdown",
   "id": "3c092017-08b6-4d64-a3a0-572fdcb7c946",
   "metadata": {},
   "source": [
    "Descriptive statistics is concerned with summarizing data collected from past events. In this lesson, we turn to the second facet of statistics, namely, computing the chance or likelihood that something will occur in the future. This facet of statistics is called inferential statistics. "
   ]
  },
  {
   "cell_type": "markdown",
   "id": "4703be8b-b257-4afe-aec0-6824e26e8c9a",
   "metadata": {},
   "source": [
    "Inferential statistics deals with conclusions about a population based on a sample taken from that population. for example, A toys manufacturer recently developed a new toy based on sports trivia. It wants to know whether customers will purchase the game. To investigate, the company decided to hire a research firm who selected a sample of 500 consumers from the population and asked each respondent for their opinions to the new toy. Using the sample results, the the company can estimate the proportion of the population that will purchase the toy.  "
   ]
  },
  {
   "cell_type": "markdown",
   "id": "96beea69-1f62-402d-9e09-289711d7b032",
   "metadata": {},
   "source": [
    "Because there is uncertainty in decision making, it is important that all known risks involved be scientifically evaluated. Helpful in this evaluation is Probability Theory, which has often referred to as the Science of Uncertainty. The use of probability theory allows the decision maker with only limited information to analyze and evaluate the risks associated with the decisions."
   ]
  },
  {
   "cell_type": "markdown",
   "id": "b785aa7c-074a-4806-8ec3-e8c015a323c2",
   "metadata": {},
   "source": [
    "# 2. What is a Probability?"
   ]
  },
  {
   "cell_type": "markdown",
   "id": "d4825d1a-9623-4646-8038-93a294156f75",
   "metadata": {},
   "source": [
    "Chance, Likelihood, and Probability are terms often used interchangeably when defining probabilities. A common example when a weather forecaster announces that there is a 25% chance of snow this weekend. Another example with a survey of customers who tasted a new sandwich from Einestien bagel, the probability is .03 that, if marketed, it will be a financial success."
   ]
  },
  {
   "cell_type": "markdown",
   "id": "3d2639f3-8ecc-4feb-9008-e7a99f46eb0e",
   "metadata": {},
   "source": [
    "Probability is a value between zero and one, inclusive, describing the relative chance or likelihood an event will occur. Assume that a department has only five employees and the manager wants to nominate one employee to lead a project. Each employee name or number is written on a slip of paper and the slips put in a hat, the probability of selecting one of the five employees is 1. The probability of selecting from the hat a slip of paper that reads \"Denver Broncos\" is 0. Thus, the probability of 1 represents something that is certain to happen, and the probability of 0 represents something that cannot happen.\n",
    "\n",
    "The closer a probability is to 0, the more improbable it is the event will happen. The closer the probability is to 1, the more sure we are it will happen. The relationship is shown in the following diagram along with a few of our personal beliefs\n",
    "\n",
    "<p style=\"text-align: center\">\n",
    "  <img  src=\"Probability-Personal-Beliefs.PNG\" width=\"600\" alt=\"Probability-Personal-Beliefs\">\n",
    "</p>"
   ]
  },
  {
   "cell_type": "markdown",
   "id": "16e944bf-017d-4089-8cc0-2b8fa84fe19a",
   "metadata": {},
   "source": [
    "Tip: somtimes people will use the term Odds when talking about probabilities. You might say the odds of something happening are \"five to two\". this means that in a total of seven trials, the event will occur five times and not occur two times"
   ]
  },
  {
   "cell_type": "markdown",
   "id": "270bb286-b06b-4e7c-bcff-23cf3a0d1762",
   "metadata": {},
   "source": [
    "## 2.1. How to Study Probabilities?"
   ]
  },
  {
   "cell_type": "markdown",
   "id": "8421133c-bb47-44c8-aaeb-10ca61f110f2",
   "metadata": {},
   "source": [
    "Experiment, Outcome, and Event are three keywords used in our everyday language to study probabilities. In statistics, they have special meanings."
   ]
  },
  {
   "cell_type": "markdown",
   "id": "b0b635c0-d733-4d6a-b73d-ae39a1f905c1",
   "metadata": {},
   "source": [
    "### Experiment"
   ]
  },
  {
   "cell_type": "markdown",
   "id": "887c3a9f-4fc8-489e-bb1c-5457f5973a0b",
   "metadata": {},
   "source": [
    "A process that leads to the occurrence of one and only one of several possible results. for example, the tossing of a coin is an experiment. You are unsure of the out-come."
   ]
  },
  {
   "cell_type": "markdown",
   "id": "7446c4df-4772-4b6f-bc8b-7c48055a054a",
   "metadata": {},
   "source": [
    "### Outcome"
   ]
  },
  {
   "cell_type": "markdown",
   "id": "bc68f975-6756-4ea3-8bee-73f600f4aa35",
   "metadata": {},
   "source": [
    "A particular result of an experiment. When a coin is tossed, one particular outcome is a “head.” The alternative outcome is a “tail.”"
   ]
  },
  {
   "cell_type": "markdown",
   "id": "20da20ea-f833-4b20-a8cb-711cce2ccf65",
   "metadata": {},
   "source": [
    "### Event"
   ]
  },
  {
   "cell_type": "markdown",
   "id": "be56dd8e-f861-4af4-881b-7ad44791c75a",
   "metadata": {},
   "source": [
    "A collection of one or more outcomes of an experiment. Observing a two head when tossing a coin three times in an example of an event. \n",
    "\n",
    "The following diagram shows a die-rolling experiment. \n",
    "\n",
    "<p style=\"text-align: center\">\n",
    "  <img  src=\"Die-Rolling-Exp.PNG\" width=\"600\" alt=\"Die-Rolling-Exp\">\n",
    "</p>"
   ]
  },
  {
   "cell_type": "markdown",
   "id": "050ab1ce-157d-490b-8a5a-5e04820e9194",
   "metadata": {},
   "source": [
    "Self-Review: A restaurent recently developed a new drink. Its taste is to be tested by 30 customers\n",
    "-    a. What is the experiment?\n",
    "-    b. What us one possible outcome?\n",
    "-    c. Suppose 12 customers tried the new drink and said they liked it. Is 12 a probability?\n",
    "-    d. The probability that the new drink will gain a financial success is computed to be -1.0. Comment.\n",
    "-    e. What is one possible event?"
   ]
  },
  {
   "cell_type": "markdown",
   "id": "8ad65c54-97c9-4a44-b1fa-8a2c138e85fe",
   "metadata": {},
   "source": [
    "# 3. Approaches to Assigning Probabilities"
   ]
  },
  {
   "cell_type": "markdown",
   "id": "bf62eed3-8db3-44d3-82a7-56c74864862d",
   "metadata": {},
   "source": [
    "This section describes three ways of assigning a probability to an event: Classical, Empirical, and Subjective methods."
   ]
  },
  {
   "cell_type": "markdown",
   "id": "771c4221-b526-4fa3-820e-9df90dbf5a59",
   "metadata": {},
   "source": [
    "## Classical Probability"
   ]
  },
  {
   "cell_type": "markdown",
   "id": "b104e026-3ec0-425c-89be-4cd8a5b7f883",
   "metadata": {},
   "source": [
    "Assumes that all the outcomes of an experiment are equally likely and is expressed using the following equation.\n",
    "\n",
    "<p style=\"text-align: center\">\n",
    "  <img  src=\"Classical-Prob-Eq.PNG\" width=\"600\" alt=\"Classical-Prob-Equation\">\n",
    "</p>"
   ]
  },
  {
   "cell_type": "markdown",
   "id": "4221333b-cd0f-4d3a-a7db-a005d7c61b55",
   "metadata": {},
   "source": [
    "Self-Review: \n",
    "- Use the classical probability equation to resolve this: Consider an experiment of rolling a six-sided die. What is the probability of the event “an even number of spots appear face up”?"
   ]
  },
  {
   "cell_type": "markdown",
   "id": "f9962e41-f5ca-44f5-a0ae-9e3233cc8324",
   "metadata": {},
   "source": [
    "## Empirical Probability"
   ]
  },
  {
   "cell_type": "markdown",
   "id": "8930fe29-e9c2-4eed-9df2-c140b090f135",
   "metadata": {},
   "source": [
    "The probability of an event happening is the fraction of the time similar events happened in the past and is determined using the following formula:\n",
    "\n",
    "<p style=\"text-align: center\">\n",
    "  <img  src=\"Empirical-Prob-Eq.PNG\" width=\"600\" alt=\"Empirical-Prob-Equation\">\n",
    "</p>"
   ]
  },
  {
   "cell_type": "markdown",
   "id": "68d2db1f-dfd9-4c3a-a2ba-17f00e3a21cd",
   "metadata": {},
   "source": [
    "The key behind establishing probabilities empirically is that more observations will provide a more accurate estimate of the probability. The following example explains how empirical probabilites are conducted:\n",
    "\n",
    "To explain how empirical probabilities are computed, suppose we toss a fair coin. The result of each toss is either a head or a tail. With just one toss of the coin the empirical probability for heads is either zero or one. If we toss the coin a great number of times, the probability of the outcome of heads will approach .5. The following table reports the results of seven different experiments of flipping a fair coin 1, 10, 50, 100, 500, 1,000, and 10,000 times and then computing the relative frequency of heads.\n",
    "\n",
    "<p style=\"text-align: center\">\n",
    "  <img  src=\"Fair-Coin-Toss-Table.PNG\" width=\"600\" alt=\"Fair-Coin-Toss\">\n",
    "</p>"
   ]
  },
  {
   "cell_type": "markdown",
   "id": "9ffc8331-2378-4949-999f-bbafe9cd8815",
   "metadata": {},
   "source": [
    "Another example: Last month, 20 students registered for the DS101 course at WOZ U. Eight students earned an A. Based on this information and the empirical approach to assigning a probability, we estimate the likelihood a student will earn an A is 0.4"
   ]
  },
  {
   "cell_type": "markdown",
   "id": "41d90a95-aadc-4f30-8cd7-0bc0228bc4fc",
   "metadata": {},
   "source": [
    "## Subjective Probability"
   ]
  },
  {
   "cell_type": "markdown",
   "id": "a871f853-af2d-4376-b210-797c1856479b",
   "metadata": {},
   "source": [
    "The probability is estimated subjectively if the is little or no experience or information on which to base a probability. It is the likelihood of a particular event happening that is assigned by an individual based on whatever information is available."
   ]
  },
  {
   "cell_type": "markdown",
   "id": "027a49af-6d7b-4df5-8cec-8286b1017981",
   "metadata": {},
   "source": [
    "Examples:\n",
    "- Estimating the likelihood the New England Patriots will play in the Super Bowl next season\n",
    "- Estimating the chance you are involved in a car accident during the next three months"
   ]
  },
  {
   "cell_type": "markdown",
   "id": "bda0915a-12c3-4faf-9281-18968c8f4a8b",
   "metadata": {},
   "source": [
    "The following diagram shows the summary of approaches to probability.\n",
    "\n",
    "<p style=\"text-align: center\">\n",
    "  <img  src=\"Approaches-To-Probability.PNG\" width=\"600\" alt=\"Approaches-To-Probability\">\n",
    "</p>"
   ]
  },
  {
   "cell_type": "markdown",
   "id": "ad778b46-ef4f-45f9-84af-daa81f17ac37",
   "metadata": {},
   "source": [
    "Self-Review:\n",
    "- One card will be randomly selected from a standard 52-card deck. What is the probability the card will be a queen? Which approach to probability did you use to answer this question?"
   ]
  },
  {
   "cell_type": "markdown",
   "id": "4526076b-e616-4954-924c-94524846275e",
   "metadata": {},
   "source": [
    "# 4. Rules of Addition For Computing Probabilities"
   ]
  },
  {
   "cell_type": "markdown",
   "id": "aad7d0d9-fab3-4919-b292-b5ee4566c94f",
   "metadata": {},
   "source": [
    "There are two rules of addition, the special rule of addition and the general rule of addition."
   ]
  },
  {
   "cell_type": "markdown",
   "id": "fd10dc51-858f-40b8-9eaf-7715111c4d48",
   "metadata": {},
   "source": [
    "## Special Rule of Addition"
   ]
  },
  {
   "cell_type": "markdown",
   "id": "e5b7839c-46cd-4eb8-84f2-75fc1bc917f9",
   "metadata": {},
   "source": [
    "In this rule, events MUST be mutually exclusive, meaning that when event occurs, none of the other events can occur at the same time. If two events A and B are mutually exclusive, the special rule of addition states that the probability of one or the other event’s occurring equals the sum of their probabilities. This rule is expressed in the following formula: P(A or B) = P(A) + P(B) "
   ]
  },
  {
   "cell_type": "markdown",
   "id": "22b7ec29-4dcb-4abf-aa5c-f0050c36e1ed",
   "metadata": {},
   "source": [
    "Example: A machine in a factory fills plasctic bags with a mixture of vegetables such as beans, broccoli, and carrtos. Most of the bags contain the correct weight, but because of the variation in the size of the beans and other veg-etables, a package might be underweight or over-weight. A check of 4,000 packages filled in the past month revealed: \n",
    "\n",
    "\n",
    "<p style=\"text-align: center\">\n",
    "  <img  src=\"Special-Rule-of-Add.PNG\" width=\"600\" alt=\"Special-Rule-of-Addition\">\n",
    "</p>"
   ]
  },
  {
   "cell_type": "markdown",
   "id": "ea06092f-2ae4-46bb-9a75-1da202a4f76d",
   "metadata": {},
   "source": [
    "What is the probability that a particular package will be either underweight or overweight?"
   ]
  },
  {
   "cell_type": "markdown",
   "id": "f03da27f-f215-4548-831b-d38bd2eada90",
   "metadata": {},
   "source": [
    "Solution: Applying the special rule of addition P(A or C) = P(A) + P(C) = .025 + .075 = .10 "
   ]
  },
  {
   "cell_type": "markdown",
   "id": "b6a81846-846c-45a2-99f1-0307f7455f45",
   "metadata": {},
   "source": [
    "## Complement Rule"
   ]
  },
  {
   "cell_type": "markdown",
   "id": "77464f91-f32f-41b4-9d16-53bed3d34ed6",
   "metadata": {},
   "source": [
    "This is used to determine the probability of an event occurring by subtracting the probability of the event not occurring from 1"
   ]
  },
  {
   "cell_type": "markdown",
   "id": "c74be7d1-2afa-493c-adb4-11d0af32c594",
   "metadata": {},
   "source": [
    "Referring back to the same previous example of the bag of mixed vegetables. Use the complement rule to show the probability of a satisfactory bag. \n",
    "\n",
    "Solution: The probability the bag is unsatisfactory equals the probability the bag is overweight plus the probability it is underweight. That is, P(A or C) = P(A) + P(C) = .025 + .075 = .100\n",
    "The bag is satisfactory if it not underweight or overweight. P(B) = 1 - [P(A) + P(C)] = 1 - [.025 + .075] = 0.900"
   ]
  },
  {
   "cell_type": "markdown",
   "id": "f05165dd-3251-4ef9-9d01-d3c5a2e0dd18",
   "metadata": {},
   "source": [
    "## The General Rule of Addition"
   ]
  },
  {
   "cell_type": "markdown",
   "id": "8df99e69-47db-4e79-a95f-b518996d080f",
   "metadata": {},
   "source": [
    "The outcome of an experiment may not be mutually exclusive. "
   ]
  }
 ],
 "metadata": {
  "kernelspec": {
   "display_name": "Python 3 (ipykernel)",
   "language": "python",
   "name": "python3"
  },
  "language_info": {
   "codemirror_mode": {
    "name": "ipython",
    "version": 3
   },
   "file_extension": ".py",
   "mimetype": "text/x-python",
   "name": "python",
   "nbconvert_exporter": "python",
   "pygments_lexer": "ipython3",
   "version": "3.10.4"
  }
 },
 "nbformat": 4,
 "nbformat_minor": 5
}
