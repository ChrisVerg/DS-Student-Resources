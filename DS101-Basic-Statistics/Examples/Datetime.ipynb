{
 "cells": [
  {
   "cell_type": "markdown",
   "id": "dfaf617b-d860-4ca3-86da-17a6f16051cd",
   "metadata": {},
   "source": [
    "# Date formats"
   ]
  },
  {
   "cell_type": "markdown",
   "id": "fee8eb43-a938-468e-9140-3ffc911a0af4",
   "metadata": {},
   "source": [
    "[reference](https://docs.python.org/3/library/datetime.html)"
   ]
  },
  {
   "cell_type": "code",
   "execution_count": 10,
   "id": "be19b49b-6968-4a17-80b1-7b92a24c9bcf",
   "metadata": {},
   "outputs": [],
   "source": [
    "from datetime import datetime"
   ]
  },
  {
   "cell_type": "code",
   "execution_count": 11,
   "id": "fefde877-c550-4c31-9dd7-51c60dc502d3",
   "metadata": {},
   "outputs": [],
   "source": [
    "# Define dates as strings\n",
    "date_str1 = 'Wednesday, June 6, 2018'\n",
    "date_str2 = '6/6/18'\n",
    "date_str3 = '06-06-2018'"
   ]
  },
  {
   "cell_type": "code",
   "execution_count": 13,
   "id": "88c498b3-3e5b-4782-b4bf-fa34c1c5ea27",
   "metadata": {},
   "outputs": [],
   "source": [
    "# Define dates as datetime objects\n",
    "date_dt1 = datetime.strptime(date_str1, '%A, %B %d, %Y')\n",
    "date_dt2 = datetime.strptime(date_str2, '%m/%d/%y')\n",
    "date_dt3 = datetime.strptime(date_str3, '%m-%d-%Y')"
   ]
  },
  {
   "cell_type": "code",
   "execution_count": 14,
   "id": "fb2c6ab9-94d9-4c15-9a0e-a4096e9e4ffb",
   "metadata": {},
   "outputs": [
    {
     "name": "stdout",
     "output_type": "stream",
     "text": [
      "2018-06-06 00:00:00\n",
      "2018-06-06 00:00:00\n",
      "2018-06-06 00:00:00\n"
     ]
    }
   ],
   "source": [
    "# Print converted dates\n",
    "print(date_dt1)\n",
    "print(date_dt2)\n",
    "print(date_dt3)"
   ]
  },
  {
   "cell_type": "code",
   "execution_count": null,
   "id": "a6eccf88-be33-4d7a-b5a5-9560c61861c3",
   "metadata": {},
   "outputs": [],
   "source": []
  }
 ],
 "metadata": {
  "kernelspec": {
   "display_name": "Python 3 (ipykernel)",
   "language": "python",
   "name": "python3"
  },
  "language_info": {
   "codemirror_mode": {
    "name": "ipython",
    "version": 3
   },
   "file_extension": ".py",
   "mimetype": "text/x-python",
   "name": "python",
   "nbconvert_exporter": "python",
   "pygments_lexer": "ipython3",
   "version": "3.9.12"
  }
 },
 "nbformat": 4,
 "nbformat_minor": 5
}
