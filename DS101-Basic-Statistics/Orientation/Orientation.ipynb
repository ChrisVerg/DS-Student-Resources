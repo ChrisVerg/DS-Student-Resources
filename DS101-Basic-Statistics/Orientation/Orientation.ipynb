{
 "cells": [
  {
   "cell_type": "markdown",
   "id": "85e15993-addb-49fd-a0a5-c3f54264e6f3",
   "metadata": {},
   "source": [
    "# Embedding Orientation into 101 "
   ]
  },
  {
   "cell_type": "markdown",
   "id": "d77f2447-3592-424e-b2e2-2ce7c85cdb39",
   "metadata": {},
   "source": [
    "## Welcome video from the whole DSO team\n",
    "\n",
    "choreograph steps\n",
    "1.\n",
    "2.\n",
    "3.\n",
    "4.\n",
    "next Wednesday let's do the Team video"
   ]
  },
  {
   "cell_type": "markdown",
   "id": "09cefb24-a035-47b7-b93b-c00dcdd62035",
   "metadata": {},
   "source": [
    "ORIENTATION:\n",
    "1. Welcome Video from Data Science Team\n",
    "\n",
    "2. Let's get start with Installations\n",
    "    - All the applications you need for the Program.\n",
    "    - Show them not to reinstall at the beginning of lessons but do a update\n",
    "        - [Windows/Chocolatey](https://nbviewer.org/github/woz-u/DS-Student-Resources/blob/main/DS101-Basic-Statistics/Installation/Chocolatey.ipynb)\n",
    "        - [Mac/Homebrew](https://nbviewer.org/github/woz-u/DS-Student-Resources/blob/main/DS101-Basic-Statistics/Installation/Homebrew.ipynb)\n",
    "\n",
    "3. Stay Organized\n",
    "    - Learn to organize school work and use modern software and techniques.\n",
    "        - Watch and Follow [GitHub Desktop](https://nbviewer.org/github/woz-u/DS-Student-Resources/blob/main/DS101-Basic-Statistics/Examples/1-Github-Basics.ipynb)\n",
    "\n",
    "4. Learn Companion Noteboooks Basics\n",
    "    - Let's walk through some Jupyter Notebooks AKA Companion Noteboooks Series AKA DS-Students Resources. This is a series made in Jupyterlab. These were specfically made for extra resources, what we call Example Notebooks, to help you with Hands-on assignments and more. \n",
    "        - [Navigate the Companion Noteboooks Series](../Examples/0-Navigating-the-Companion-Notebook-Series.ipynb)\n",
    "\n",
    "5. When turning in assignments follow these steps: Save, Zip, Send to LMS, Save to GitHub\n",
    "    - Windows\n",
    "        - Save files\n",
    "        - [Unzipping and Zipping files on Windows](https://vimeo.com/718457259)\n",
    "        - Save to GitHub\n",
    "    - Mac\n",
    "        - Save files\n",
    "        - Unzipping and Zipping Files on Mac\n",
    "        - Save to GitHub\n",
    "        \n",
    "6. Proper Communication\n",
    "    - Slack Basics\n",
    "        - notifications must always be turned on\n",
    "        - how to create a help ticket\n",
    "        - Discuss problem-solving and how to ask for help utilizing the lightning bolt tool (and workflow)  in the data science channel; also include Slack tips like huddle, screen-sharing, etc.\n",
    "    - Zoom Basics\n",
    "        - Download on computer\n",
    "        - Zoom etiquette\n",
    "            - If you have a question, please be ready on your computer, scheduled time, and ready to start working\n",
    "            - Please have camera on to have face to face interaction\n",
    "            - Please be clothed \n",
    "            - Please be ready to share your screen\n",
    "            - Students need to be ready on computer or RESCHEDULE AHEAD OF TIME\n",
    "            - Quiet Place\n",
    "\n",
    "\n",
    "7. Key Board Basics\n",
    "    - shortcuts:\n",
    "        - copying: Windows(CTRL + C) Mac(CMD + C)\n",
    "        - pasting: Windows(CTRL + V) Mac(CMD + V)\n",
    "        - undo: Windows(CTRL + Z) Mac(CMD + Z)\n",
    "        - screen shots: Windows(Windows + shift + s) Mac(CMD + shift + 3,4,5)\n",
    "        - shift + tab\n",
    "        \n",
    "8. Command line basics\n",
    "    - [Mac](../Examples/Mac-Terminal-Commands.ipynb)\n",
    "    - Windows    \n",
    "    \n",
    "9. How to Problem Solve!\n",
    "    - Google Tips\n",
    "    - Various Forums such as StackOverflow\n",
    "    - Using code validators\n",
    "        - For Python: https://extendsclass.com/python-tester.html\n",
    "        - For SQL: https://www.eversql.com/sql-syntax-check-validator/\n",
    "        - For Markdown: https://codebeautify.org/markdown-viewer\n"
   ]
  },
  {
   "cell_type": "markdown",
   "id": "53e50c1a-c313-4614-ae48-1723d410076c",
   "metadata": {},
   "source": [
    "---"
   ]
  },
  {
   "cell_type": "markdown",
   "id": "585f092d-098e-4b44-9847-3ac5acfa19c2",
   "metadata": {},
   "source": [
    "[load notebook](Loading-Data-Archiving-Walk-through-R-Python.ipynb)"
   ]
  },
  {
   "cell_type": "markdown",
   "id": "ae8abba5-1493-409b-ae98-852e3882eefc",
   "metadata": {},
   "source": [
    "[load DS101](../DS101-L1-Introduction-to-Data-Science.ipynb)"
   ]
  },
  {
   "cell_type": "markdown",
   "id": "900e483d-385b-4786-b312-46e98e092199",
   "metadata": {},
   "source": [
    "NEED TO WORK ON:\n",
    "\n",
    "10. Added an Assignments folder to DS-Student-Resources, next have the students fork it and have them work from those folders. This serves as a backup and organizational objective for the student and gives them the ability to share their work with mentors to analyze their code in real-time on Github."
   ]
  },
  {
   "cell_type": "code",
   "execution_count": null,
   "id": "c44f583a-873c-4a9c-84bb-5e413c8f442c",
   "metadata": {},
   "outputs": [],
   "source": []
  }
 ],
 "metadata": {
  "kernelspec": {
   "display_name": "Python 3 (ipykernel)",
   "language": "python",
   "name": "python3"
  },
  "language_info": {
   "codemirror_mode": {
    "name": "ipython",
    "version": 3
   },
   "file_extension": ".py",
   "mimetype": "text/x-python",
   "name": "python",
   "nbconvert_exporter": "python",
   "pygments_lexer": "ipython3",
   "version": "3.9.13"
  }
 },
 "nbformat": 4,
 "nbformat_minor": 5
}
