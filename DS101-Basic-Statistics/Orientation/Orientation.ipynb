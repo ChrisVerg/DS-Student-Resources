{
 "cells": [
  {
   "cell_type": "markdown",
   "id": "2a1b5456-b9c1-4f15-bc37-540f9264791f",
   "metadata": {},
   "source": [
    "# Embedding Orientation into 101 "
   ]
  },
  {
   "cell_type": "markdown",
   "id": "2d71a7aa-4f46-44f2-b691-e47b66d6a39b",
   "metadata": {},
   "source": [
    "## Welcome video from the whole DSO team"
   ]
  },
  {
   "cell_type": "markdown",
   "id": "b2aa99c8-372d-43e1-8aa9-f2d6932875d7",
   "metadata": {},
   "source": [
    "1. Conduct a simple walkthrough and overview of all the applications that students will learn throughout the program (discuss the course  progression, change from wheel to linear) to provide deeper understanding of the programs and languages in each course\n",
    "    - 101 Spreadsheet fundamentals using Excel, Google sheets, Numbers, and Libre Calc\n",
    "    - 101 Introduce Jupyter notebooks\n",
    "    - 102 Introduce Jupyter notebooks using R kernel\n",
    "    - 102 Introduce R and RStudio\n",
    "    - 103 Introduce DrawIO incorporated into Jupyter Lab for diagramming workflows\n",
    "    - 104 Introduce Tableau\n",
    "    - 105 Introduce Python, VSCode, R, Rstudio, GPower, various R modules and Pip imports\n",
    "    - 106 \n",
    "    \n",
    "2. Command line basics for [Mac](../Examples/Mac-Terminal-Commands.ipynb) and Windows\n",
    "3. [Path basics](../Examples/5-Path-Basics.ipynb), Windows vs Mac/Linux, Absolute vs Relative\n",
    "4. [Homebrew](../Installation/Homebrew.ipynb) and/or [Chocolatey](../Installation/Chocolatey.ipynb) installation videos and follow along Videos: [Chocolatey](https://vimeo.com/654529800)  \n",
    "5. Cloning of the DS-Student-Resources\n",
    "6. Introduction to DS-Student-Resources, [Jupyter Project](../Examples/2-Jupyter-Project.ipynb) and [Jupyter Lab notebooks](../Examples/12-Tutorial-Jupyter-Notebooks.ipynb); do a [walkthrough](https://vimeo.com/manage/videos/631550221) to show examples of their use\n",
    "7. Introduction to [GitHub](https://vimeo.com/709720043), [GitHub Desktop](../Examples/1-Github-Basics.ipynb) and GitHub Project - Students create their own curriculum repository to organize their files and keep them backed up and can also share them with mentors for when LMS is down. \n",
    "8. Introduction to Python and Pip\n",
    "9. Zipping/archiving a file or files and uploading to LMS and backing up to their repo\n",
    "10. Create a template repo and have the students fork it and have them work from those folders. This serves as a backup and organizational objective for the student and gives them the ability to share their work with mentors to analyze their code in real-time on Github.\n",
    "11. Discuss problem-solving and how to ask for help utilizing the lightning bolt tool (and workflow)  in the data science channel; also include Slack tips like huddle, screen-sharing, etc.\n",
    "12. Spreadsheet fundamentals (Excel, Google sheets, Numbers, and Libre Calc)\n",
    "13. Document fundamentals - File organization, folder creation, how to dupe file manager window to move files easily,  breadcrumb trail/file path to make it easier to import files. Keyboarding skills (shortcuts – CTRL +C, etc) copying, pasting, undo, shift + tab,\n",
    "14. Simple math homework/refresher on day one to get the students thinking, think Khan Academy\n",
    "15. How to slack (Slack - notifications must always be on for best practice) and zoom\n",
    "16. Final project ideas to think about while moving through each course. At the beginning of each course there should be a final project embellishment. "
   ]
  },
  {
   "cell_type": "code",
   "execution_count": null,
   "id": "63839d0e-7551-40fb-8789-ebc6d06f45f1",
   "metadata": {},
   "outputs": [],
   "source": []
  }
 ],
 "metadata": {
  "kernelspec": {
   "display_name": "Python 3 (ipykernel)",
   "language": "python",
   "name": "python3"
  },
  "language_info": {
   "codemirror_mode": {
    "name": "ipython",
    "version": 3
   },
   "file_extension": ".py",
   "mimetype": "text/x-python",
   "name": "python",
   "nbconvert_exporter": "python",
   "pygments_lexer": "ipython3",
   "version": "3.9.13"
  }
 },
 "nbformat": 4,
 "nbformat_minor": 5
}
