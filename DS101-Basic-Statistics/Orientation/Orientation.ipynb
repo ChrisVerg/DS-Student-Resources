{
 "cells": [
  {
   "cell_type": "markdown",
   "id": "85e15993-addb-49fd-a0a5-c3f54264e6f3",
   "metadata": {},
   "source": [
    "# Embedding the orientation into 101 \n",
    "\n",
    "\n"
   ]
  },
  {
   "cell_type": "markdown",
   "id": "d77f2447-3592-424e-b2e2-2ce7c85cdb39",
   "metadata": {},
   "source": [
    "## Welcome video from the whole DSO team\n",
    "\n"
   ]
  },
  {
   "cell_type": "markdown",
   "id": "09cefb24-a035-47b7-b93b-c00dcdd62035",
   "metadata": {},
   "source": [
    "1. Conduct a simple walkthrough/overview of all the applications that students will learn throughout the program to provide deeper understanding of the programs and languages in each course\n",
    "2. Command line basics for Mac and Windows\n",
    "3. Path basics, Windows vs Mac/Linux, Absolute vs Relative\n",
    "4. Homebrew and/or Chocolatey installation videos and follow along notebooks/videos to \n",
    "5. Cloning of the DS-Student-Resources\n",
    "6. Introduction to DS-Student-Resources and Jupyter Lab notebooks; do a walkthrough to show examples of their use\n",
    "7. Introduction to git, GitHub, and GitHub Project - Students create their own curriculum repository to organize their files and keep them backed up and can also share them with mentors for when LMS is down. This will solve the grading issues we have at times.\n",
    "8. Remove GitKraken from 107 (refer back to revamped 101 for working with Git as needed)\n",
    "9. Zipping/archiving a file or files and uploading to LMS and backing up to their repo\n",
    "10. Create a template repo and have the students fork it and have them work from those folders. This serves as a backup and organizational objective for the student and gives them the ability to share their work with mentors to analyze their code in real-time on Github.\n",
    "11. Discuss problem-solving and how to ask for help utilizing the lightning bolt tool (and workflow)  in the data science channel; also include Slack tips like huddle, screen-sharing, etc.\n",
    "12. Spreadsheet fundamentals (Excel, Google sheets, Numbers, and Libre Calc)\n",
    "13. Document fundamentals - File organization, folder creation, how to dupe file manager window to move files easily,  breadcrumb trail/file path to make it easier to import files. Keyboarding skills (shortcuts – CTRL +C, etc) copying, pasting, undo, shift + tab,\n",
    "14. Simple math homework/refresher on day one to get the students thinking\n",
    "15. How to slack (Slack - notifications must always be on for best practice) and zoom"
   ]
  },
  {
   "cell_type": "code",
   "execution_count": null,
   "id": "b6729cb9-8df2-4374-96fa-3916b3227ca5",
   "metadata": {},
   "outputs": [],
   "source": []
  }
 ],
 "metadata": {
  "kernelspec": {
   "display_name": "Python 3 (ipykernel)",
   "language": "python",
   "name": "python3"
  },
  "language_info": {
   "codemirror_mode": {
    "name": "ipython",
    "version": 3
   },
   "file_extension": ".py",
   "mimetype": "text/x-python",
   "name": "python",
   "nbconvert_exporter": "python",
   "pygments_lexer": "ipython3",
   "version": "3.9.13"
  }
 },
 "nbformat": 4,
 "nbformat_minor": 5
}
