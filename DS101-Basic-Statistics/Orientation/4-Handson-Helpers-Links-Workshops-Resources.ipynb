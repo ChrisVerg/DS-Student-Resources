{
 "cells": [
  {
   "cell_type": "markdown",
   "id": "1aedde60-7667-40a0-b76b-cabf21cbbd33",
   "metadata": {},
   "source": [
    "# Handson Helpers and Workshops for each Module"
   ]
  },
  {
   "cell_type": "markdown",
   "id": "8df75113-f6b5-46ed-ad8f-59c7d3c97f93",
   "metadata": {},
   "source": [
    "#### Hands on Helper Links in Power-Point too =)\n",
    "<a href=\"./Media/helpers.pdf\">Click Here</a>"
   ]
  },
  {
   "cell_type": "markdown",
   "id": "7042c976-8ee4-4372-9247-1ede7cb2ca89",
   "metadata": {},
   "source": [
    "## DS101- BASIC STATISTICS:  \n",
    "\n",
    "#### Helpers\n",
    "- For this module they are mainly Exams.\n",
    "- We want you to get the feel of the program and how everything works. \n",
    "- We have created a hands-on Helper for lesson 7, since it is hands-on and not an exam.\n",
    "- Lesson 7 – coming soon \n",
    "\n",
    "#### Workshops\n",
    "\n",
    "        \n",
    "## DS102- STATISTICAL PROGRAMING IN R:\n",
    "\n",
    "#### Helpers\n",
    "\n",
    "#### Workshops\n",
    "\n",
    "     \n",
    "## DS108- DATABASES:\n",
    "\n",
    "#### Helpers\n",
    "\n",
    "#### Workshops\n",
    "\n",
    " \n",
    "## DS109- PROGRAMING IN PYTHON:\n",
    "\n",
    "#### Helpers\n",
    "\n",
    "#### Workshops\n",
    "\n",
    "    \n",
    "## DS104- DATA WRANGLING AND VISUALIZATIONS:\n",
    " \n",
    "#### Helpers\n",
    "\n",
    "#### Workshops\n",
    "    \n",
    "   \n",
    "## DS105- INTERMEDIATE STATISTICS:\n",
    "\n",
    "#### Helpers\n",
    "\n",
    "#### Workshops\n",
    "\n",
    " \n",
    "## DS106- MACHINE LEARNING AND MODELING:\n",
    "\n",
    "#### Helpers\n",
    "\n",
    "#### Workshops\n",
    "\n",
    " \n",
    "## DS107- INTRODUCTION TO BIG DATA:\n",
    "\n",
    "#### Helpers\n",
    "\n",
    "#### Workshops\n",
    "\n",
    "     \n",
    "## DS103- METRICS AND PROCESSING:\n",
    "\n",
    "#### Helpers\n",
    "\n",
    "#### Workshops\n",
    " "
   ]
  }
 ],
 "metadata": {
  "kernelspec": {
   "display_name": "Python 3 (ipykernel)",
   "language": "python",
   "name": "python3"
  },
  "language_info": {
   "codemirror_mode": {
    "name": "ipython",
    "version": 3
   },
   "file_extension": ".py",
   "mimetype": "text/x-python",
   "name": "python",
   "nbconvert_exporter": "python",
   "pygments_lexer": "ipython3",
   "version": "3.9.13"
  }
 },
 "nbformat": 4,
 "nbformat_minor": 5
}
