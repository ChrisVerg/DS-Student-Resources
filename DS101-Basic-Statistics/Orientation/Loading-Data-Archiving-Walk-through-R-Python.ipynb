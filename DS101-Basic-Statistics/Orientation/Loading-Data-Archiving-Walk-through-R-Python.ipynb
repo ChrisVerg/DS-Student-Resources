{
 "cells": [
  {
   "cell_type": "markdown",
   "id": "6c7513b2-1d33-4b17-a0b1-63956290c5aa",
   "metadata": {},
   "source": [
    "# Loading Data and Archiving with R and Python Walk-through on Windows and Mac:"
   ]
  },
  {
   "cell_type": "markdown",
   "id": "1233c7ec-108f-497e-a6cb-41b3adcd8b95",
   "metadata": {},
   "source": [
    "- Loading / Importing Data\n",
    "    - Jupyterlab\n",
    "    - RKernel and RStudio\n",
    "- How to find pathways\n",
    "- How to name and save files\n",
    "- How to zip files "
   ]
  },
  {
   "cell_type": "markdown",
   "id": "94ed78e1-6c05-404a-ad92-4270921db303",
   "metadata": {},
   "source": [
    "---"
   ]
  },
  {
   "cell_type": "markdown",
   "id": "693aa1f2-ae39-4435-8de4-3e95690633f3",
   "metadata": {},
   "source": [
    "# Window Users"
   ]
  },
  {
   "cell_type": "markdown",
   "id": "c1b05a23-2ab1-47ec-b587-bfce15c379df",
   "metadata": {},
   "source": [
    "#### HOW TO... on WINDOWS\n",
    "- Extract(Unzip) / Compress(Zip) files on Windows\n",
    "- Finding pathway on Windows (Time start: 1:10)\n",
    "- How to zip files (Time start: 2:05)\n",
    "- How to save multiple files into 1 folder (Time start: 2:16)"
   ]
  },
  {
   "cell_type": "code",
   "execution_count": 15,
   "id": "b30a6116-c351-4738-97f4-4c60768ca493",
   "metadata": {},
   "outputs": [
    {
     "data": {
      "text/html": [
       "\n",
       "        <iframe\n",
       "            width=\"720\"\n",
       "            height=\"480\"\n",
       "            src=\"https://player.vimeo.com/video/718457259\"\n",
       "            frameborder=\"0\"\n",
       "            allowfullscreen\n",
       "            \n",
       "        ></iframe>\n",
       "        "
      ],
      "text/plain": [
       "<IPython.lib.display.VimeoVideo at 0x110305940>"
      ]
     },
     "execution_count": 15,
     "metadata": {},
     "output_type": "execute_result"
    }
   ],
   "source": [
    "from IPython.display import VimeoVideo\n",
    "# Tutorial Video Name: Loading Data and Archiving with R and Python Walk-through\n",
    "VimeoVideo('718457259', width=720, height=480)"
   ]
  },
  {
   "cell_type": "markdown",
   "id": "112f0d86-130a-44c6-ad06-1ee731f65d74",
   "metadata": {},
   "source": [
    "#### HOW TO... on WINDOWS\n",
    "- Find Pathways on Windows\n",
    "- Importing Data on Windows"
   ]
  },
  {
   "cell_type": "code",
   "execution_count": 16,
   "id": "2c9a5fc2-c37b-4c1d-aae9-540eeeec6fe5",
   "metadata": {},
   "outputs": [
    {
     "data": {
      "text/html": [
       "\n",
       "        <iframe\n",
       "            width=\"720\"\n",
       "            height=\"480\"\n",
       "            src=\"https://player.vimeo.com/video/644123075\"\n",
       "            frameborder=\"0\"\n",
       "            allowfullscreen\n",
       "            \n",
       "        ></iframe>\n",
       "        "
      ],
      "text/plain": [
       "<IPython.lib.display.VimeoVideo at 0x110305f40>"
      ]
     },
     "execution_count": 16,
     "metadata": {},
     "output_type": "execute_result"
    }
   ],
   "source": [
    "from IPython.display import VimeoVideo\n",
    "# Tutorial Video Name: Loading Data and Archiving with R and Python Walk-through\n",
    "VimeoVideo('644123075', width=720, height=480)"
   ]
  },
  {
   "cell_type": "markdown",
   "id": "4af052ac-71b4-4604-8047-e82f7e4c9d5d",
   "metadata": {},
   "source": [
    "---"
   ]
  },
  {
   "cell_type": "markdown",
   "id": "8777946f-943a-41d8-bb0c-10b9b8e5a959",
   "metadata": {},
   "source": [
    "# Mac Users\n",
    "#### HOW TO... on MAC\n",
    "- Importing Data\n",
    "- Save Files (Mac and Windows: Time start 7:34)\n",
    "- Zip Files (Mac: Time start 10:05)"
   ]
  },
  {
   "cell_type": "code",
   "execution_count": 17,
   "id": "6b39f105-fd5e-4325-8add-091cf208c8c6",
   "metadata": {},
   "outputs": [
    {
     "data": {
      "text/html": [
       "\n",
       "        <iframe\n",
       "            width=\"720\"\n",
       "            height=\"480\"\n",
       "            src=\"https://player.vimeo.com/video/718123061\"\n",
       "            frameborder=\"0\"\n",
       "            allowfullscreen\n",
       "            \n",
       "        ></iframe>\n",
       "        "
      ],
      "text/plain": [
       "<IPython.lib.display.VimeoVideo at 0x110305220>"
      ]
     },
     "execution_count": 17,
     "metadata": {},
     "output_type": "execute_result"
    }
   ],
   "source": [
    "from IPython.display import VimeoVideo\n",
    "# Tutorial Video Name: Loading Data and Archiving with R and Python Walk-through\n",
    "VimeoVideo('718123061', width=720, height=480)"
   ]
  },
  {
   "cell_type": "markdown",
   "id": "eb1242a9-e51f-49f0-9f7d-f9177bd751b3",
   "metadata": {},
   "source": [
    "# Syntax on How to Load Data into R"
   ]
  },
  {
   "cell_type": "code",
   "execution_count": null,
   "id": "142f93fc-dece-44fa-86d4-de24be7ac446",
   "metadata": {},
   "outputs": [],
   "source": [
    "# R- DATA IMPORT:\n",
    "\n",
    "# Import Packages:\n",
    "install.packages(“readr”)\n",
    "install.packages(“readxl”)\n",
    "library(readr)\n",
    "library(readxl)\n",
    "\n",
    "# Import Data:\n",
    "# CSV:\n",
    "DatasetName <- read_csv(\"pathway.csv\")\n",
    "# EXCEL:\n",
    "DatasetName <- read_excel(\"pathway.xlsx\")\n",
    "\n",
    "# Look at Dataset:\n",
    "View(DatasetName)\n",
    "head(DatasetName)\n"
   ]
  },
  {
   "cell_type": "markdown",
   "id": "294f2cd9-8364-4c99-82d0-74151aa75078",
   "metadata": {},
   "source": [
    "#  Syntax on How to Load Data into Python"
   ]
  },
  {
   "cell_type": "markdown",
   "id": "48350d15-48e8-42fa-9fc5-45fcd3a7ea08",
   "metadata": {},
   "source": [
    "If you recieve this error..."
   ]
  },
  {
   "cell_type": "code",
   "execution_count": null,
   "id": "af5d2167-a1c3-4763-a197-2e349b74c36f",
   "metadata": {},
   "outputs": [],
   "source": [
    "upload picture example"
   ]
  },
  {
   "cell_type": "markdown",
   "id": "a1eade0b-c7ce-4c67-b30a-d86d70b11c6d",
   "metadata": {},
   "source": [
    "1. On a seperate block on code, please put `pip install pandas` \n",
    "2. Then run the block of code\n",
    "3. This should import the package `pandas` and fix the error \n",
    "4. Re-run the block of code `import pandas as pd`\n",
    "5. Good to go \n",
    "\n",
    "6. NOTE: You only need to pip install this 1 time, after this you only need to import package "
   ]
  },
  {
   "cell_type": "code",
   "execution_count": null,
   "id": "48ab29f9-6bc6-4ce6-8875-977df311c4e9",
   "metadata": {},
   "outputs": [],
   "source": [
    "pip install pandas"
   ]
  },
  {
   "cell_type": "code",
   "execution_count": null,
   "id": "4449ca34-9c6f-4af5-b81b-50711f26cc01",
   "metadata": {
    "tags": []
   },
   "outputs": [],
   "source": [
    "# PYTHON- DATA IMPORT: \n",
    "\n",
    "# Import packages:\n",
    "import pandas as pd\n",
    "\n",
    "# Import data:\n",
    "# CSV:\n",
    "DatasetName = pd.read_csv(\"pathway.csv\")\n",
    "# EXCEL:\n",
    "DatasetName = pd.read_excel(\"pathway.xlsx\")\n",
    "\n",
    "# Look at data:\n",
    "DatasetName.head()\n"
   ]
  }
 ],
 "metadata": {
  "kernelspec": {
   "display_name": "Python 3 (ipykernel)",
   "language": "python",
   "name": "python3"
  },
  "language_info": {
   "codemirror_mode": {
    "name": "ipython",
    "version": 3
   },
   "file_extension": ".py",
   "mimetype": "text/x-python",
   "name": "python",
   "nbconvert_exporter": "python",
   "pygments_lexer": "ipython3",
   "version": "3.9.10"
  }
 },
 "nbformat": 4,
 "nbformat_minor": 5
}
