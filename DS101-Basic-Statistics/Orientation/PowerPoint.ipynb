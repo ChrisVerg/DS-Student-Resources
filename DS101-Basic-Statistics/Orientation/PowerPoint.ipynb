{
 "cells": [
  {
   "cell_type": "code",
   "execution_count": 3,
   "id": "32849ce5-365d-4975-9a22-b411612a2765",
   "metadata": {},
   "outputs": [],
   "source": [
    "import collections.abc\n",
    "from pptx import Presentation "
   ]
  },
  {
   "cell_type": "code",
   "execution_count": 5,
   "id": "18efadff-1705-4db8-af60-97b02f25ffcf",
   "metadata": {},
   "outputs": [
    {
     "ename": "NameError",
     "evalue": "name 'pptx' is not defined",
     "output_type": "error",
     "traceback": [
      "\u001b[0;31m---------------------------------------------------------------------------\u001b[0m",
      "\u001b[0;31mNameError\u001b[0m                                 Traceback (most recent call last)",
      "\u001b[0;32m/var/folders/pv/pw6305z15g782z7d207y2v4c0000gn/T/ipykernel_6482/262294887.py\u001b[0m in \u001b[0;36m<module>\u001b[0;34m\u001b[0m\n\u001b[1;32m      2\u001b[0m \u001b[0;32mfrom\u001b[0m \u001b[0mpptx\u001b[0m \u001b[0;32mimport\u001b[0m \u001b[0mPresentation\u001b[0m\u001b[0;34m\u001b[0m\u001b[0;34m\u001b[0m\u001b[0m\n\u001b[1;32m      3\u001b[0m \u001b[0;31m# TRying to import the powerpoint\u001b[0m\u001b[0;34m\u001b[0m\u001b[0;34m\u001b[0m\u001b[0m\n\u001b[0;32m----> 4\u001b[0;31m \u001b[0mpptx\u001b[0m\u001b[0;34m(\u001b[0m\u001b[0;34m'../Media/Helpers-Workshops-Saving-Files.pptx'\u001b[0m\u001b[0;34m,\u001b[0m \u001b[0mwidth\u001b[0m\u001b[0;34m=\u001b[0m\u001b[0;36m720\u001b[0m\u001b[0;34m,\u001b[0m \u001b[0mheight\u001b[0m\u001b[0;34m=\u001b[0m\u001b[0;36m480\u001b[0m\u001b[0;34m)\u001b[0m\u001b[0;34m\u001b[0m\u001b[0;34m\u001b[0m\u001b[0m\n\u001b[0m",
      "\u001b[0;31mNameError\u001b[0m: name 'pptx' is not defined"
     ]
    }
   ],
   "source": [
    "import collections.abc\n",
    "from pptx import Presentation \n",
    "# TRying to import the powerpoint\n",
    "pptx('../Media/Helpers-Workshops-Saving-Files.pptx', width=720, height=480)"
   ]
  },
  {
   "cell_type": "code",
   "execution_count": null,
   "id": "9512f330-0cd0-4912-8483-0ff2f505925b",
   "metadata": {},
   "outputs": [],
   "source": [
    "from IPython.display import VimeoVideo\n",
    "# Tutorial Video Name: Loading Data and Archiving with R and Python Walk-through\n",
    "VimeoVideo('718457259', width=720, height=480)"
   ]
  },
  {
   "cell_type": "markdown",
   "id": "7885a3fa-e6e9-4fee-8578-ad542f1f8c71",
   "metadata": {},
   "source": [
    "<p style=\"text-align: left;\">\n",
    "  <img width=\"400\" alt=\" \" src=\"../Media/Helpers-Workshops-Saving-Files.pdf\">\n",
    "</p>"
   ]
  },
  {
   "cell_type": "code",
   "execution_count": null,
   "id": "4f332ba5-6825-436b-8877-0baec19fd423",
   "metadata": {},
   "outputs": [],
   "source": []
  }
 ],
 "metadata": {
  "kernelspec": {
   "display_name": "Python 3 (ipykernel)",
   "language": "python",
   "name": "python3"
  },
  "language_info": {
   "codemirror_mode": {
    "name": "ipython",
    "version": 3
   },
   "file_extension": ".py",
   "mimetype": "text/x-python",
   "name": "python",
   "nbconvert_exporter": "python",
   "pygments_lexer": "ipython3",
   "version": "3.9.10"
  }
 },
 "nbformat": 4,
 "nbformat_minor": 5
}
