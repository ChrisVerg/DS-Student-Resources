{
 "cells": [
  {
   "cell_type": "code",
   "execution_count": 3,
   "id": "32849ce5-365d-4975-9a22-b411612a2765",
   "metadata": {},
   "outputs": [],
   "source": [
    "import collections.abc\n",
    "from pptx import Presentation "
   ]
  },
  {
   "cell_type": "code",
   "execution_count": null,
   "id": "18efadff-1705-4db8-af60-97b02f25ffcf",
   "metadata": {},
   "outputs": [],
   "source": [
    "from IPython.display import pptx\n",
    "# TRying to import the powerpoint\n",
    "pptx('../Media/"
   ]
  },
  {
   "cell_type": "code",
   "execution_count": null,
   "id": "9512f330-0cd0-4912-8483-0ff2f505925b",
   "metadata": {},
   "outputs": [],
   "source": [
    "from IPython.display import VimeoVideo\n",
    "# Tutorial Video Name: Loading Data and Archiving with R and Python Walk-through\n",
    "VimeoVideo('718457259', width=720, height=480)"
   ]
  }
 ],
 "metadata": {
  "kernelspec": {
   "display_name": "Python 3 (ipykernel)",
   "language": "python",
   "name": "python3"
  },
  "language_info": {
   "codemirror_mode": {
    "name": "ipython",
    "version": 3
   },
   "file_extension": ".py",
   "mimetype": "text/x-python",
   "name": "python",
   "nbconvert_exporter": "python",
   "pygments_lexer": "ipython3",
   "version": "3.9.10"
  }
 },
 "nbformat": 4,
 "nbformat_minor": 5
}
