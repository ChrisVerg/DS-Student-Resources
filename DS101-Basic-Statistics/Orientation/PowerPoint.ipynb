{
 "cells": [
  {
   "cell_type": "code",
   "execution_count": 4,
   "id": "415bf821-46d8-4860-9d1b-1f64401efcff",
   "metadata": {},
   "outputs": [],
   "source": [
    "from pptx import Presentation\n",
    "prs = Presentation()\n",
    "prs.save('../Media/Helpers-Workshops-Saving-Files.pptx')"
   ]
  },
  {
   "cell_type": "code",
   "execution_count": 5,
   "id": "fca8e087-99a9-4e0c-a717-41a66a609c86",
   "metadata": {},
   "outputs": [
    {
     "data": {
      "text/plain": [
       "<pptx.presentation.Presentation at 0x108995ac0>"
      ]
     },
     "execution_count": 5,
     "metadata": {},
     "output_type": "execute_result"
    }
   ],
   "source": [
    "prs"
   ]
  },
  {
   "cell_type": "code",
   "execution_count": null,
   "id": "88f8b4b1-b78d-42a6-94cb-2cbd3ee64b3c",
   "metadata": {},
   "outputs": [],
   "source": []
  },
  {
   "cell_type": "code",
   "execution_count": null,
   "id": "465e3fd3-af49-4401-b69a-06d0fdc1ed35",
   "metadata": {},
   "outputs": [],
   "source": []
  },
  {
   "cell_type": "code",
   "execution_count": 3,
   "id": "32849ce5-365d-4975-9a22-b411612a2765",
   "metadata": {},
   "outputs": [],
   "source": [
    "import collections.abc\n",
    "from pptx import Presentation "
   ]
  },
  {
   "cell_type": "code",
   "execution_count": 11,
   "id": "18efadff-1705-4db8-af60-97b02f25ffcf",
   "metadata": {},
   "outputs": [],
   "source": [
    "from pptx import Presentation\n",
    "prs = Presentation()\n",
    "prs.save('../Media/Helpers-Workshops-Saving-Files.pptx')"
   ]
  },
  {
   "cell_type": "code",
   "execution_count": 12,
   "id": "4f332ba5-6825-436b-8877-0baec19fd423",
   "metadata": {},
   "outputs": [],
   "source": [
    "prs = Presentation('../Media/Helpers-Workshops-Saving-Files.pptx')"
   ]
  },
  {
   "cell_type": "code",
   "execution_count": 13,
   "id": "240ab88d-faa5-4746-a815-20cf956d0ae1",
   "metadata": {},
   "outputs": [
    {
     "data": {
      "text/plain": [
       "<pptx.presentation.Presentation at 0x10a84a550>"
      ]
     },
     "execution_count": 13,
     "metadata": {},
     "output_type": "execute_result"
    }
   ],
   "source": [
    "prs"
   ]
  },
  {
   "cell_type": "code",
   "execution_count": null,
   "id": "ddd554eb-c088-4b6b-b15b-f977f7b666d7",
   "metadata": {},
   "outputs": [],
   "source": []
  },
  {
   "cell_type": "code",
   "execution_count": 2,
   "id": "9512f330-0cd0-4912-8483-0ff2f505925b",
   "metadata": {},
   "outputs": [
    {
     "data": {
      "text/plain": [
       "<pptx.presentation.Presentation at 0x108981130>"
      ]
     },
     "execution_count": 2,
     "metadata": {},
     "output_type": "execute_result"
    }
   ],
   "source": [
    "from pptx import Presentation\n",
    "from IPython.display import display_pretty, display_html, display_jpeg, display_png, display_json, display_latex, display_svg\n",
    "Presentation('../Media/Helpers-Workshops-Saving-Files.pptx')"
   ]
  },
  {
   "cell_type": "code",
   "execution_count": 3,
   "id": "1dea62ce-d288-4b08-99ae-1ab7bdb4079d",
   "metadata": {},
   "outputs": [
    {
     "data": {
      "text/plain": [
       "<function pptx.api.Presentation(pptx=None)>"
      ]
     },
     "execution_count": 3,
     "metadata": {},
     "output_type": "execute_result"
    }
   ],
   "source": [
    "Presentation"
   ]
  },
  {
   "cell_type": "code",
   "execution_count": null,
   "id": "507ba36e-ed40-4b26-926b-0832dddf1abc",
   "metadata": {},
   "outputs": [],
   "source": []
  },
  {
   "cell_type": "code",
   "execution_count": null,
   "id": "64ab256d-a46b-409b-bd69-8640ffa2c7d8",
   "metadata": {},
   "outputs": [],
   "source": []
  },
  {
   "cell_type": "markdown",
   "id": "eb5239c0-7b1f-4d4e-a927-acb2d27a5be7",
   "metadata": {},
   "source": [
    "[Follow along with a PDF version of the slide deck presentation.](./Media/Helpers-Workshops-Saving-Files.pdf)"
   ]
  },
  {
   "cell_type": "code",
   "execution_count": null,
   "id": "b2c983c1-6feb-4349-8c11-e91cba515730",
   "metadata": {},
   "outputs": [],
   "source": []
  },
  {
   "cell_type": "code",
   "execution_count": 1,
   "id": "8a89e6e3-b97e-4086-87fc-b84e7c615358",
   "metadata": {},
   "outputs": [
    {
     "ename": "TypeError",
     "evalue": "Presentation() got an unexpected keyword argument 'width'",
     "output_type": "error",
     "traceback": [
      "\u001b[0;31m---------------------------------------------------------------------------\u001b[0m",
      "\u001b[0;31mTypeError\u001b[0m                                 Traceback (most recent call last)",
      "\u001b[0;32m/var/folders/pv/pw6305z15g782z7d207y2v4c0000gn/T/ipykernel_1749/2009582963.py\u001b[0m in \u001b[0;36m<module>\u001b[0;34m\u001b[0m\n\u001b[1;32m      1\u001b[0m \u001b[0;32mfrom\u001b[0m \u001b[0mpptx\u001b[0m \u001b[0;32mimport\u001b[0m \u001b[0mPresentation\u001b[0m\u001b[0;34m\u001b[0m\u001b[0;34m\u001b[0m\u001b[0m\n\u001b[0;32m----> 2\u001b[0;31m \u001b[0mPresentation\u001b[0m\u001b[0;34m(\u001b[0m\u001b[0;34m'718457259'\u001b[0m\u001b[0;34m,\u001b[0m \u001b[0mwidth\u001b[0m\u001b[0;34m=\u001b[0m\u001b[0;36m720\u001b[0m\u001b[0;34m,\u001b[0m \u001b[0mheight\u001b[0m\u001b[0;34m=\u001b[0m\u001b[0;36m480\u001b[0m\u001b[0;34m)\u001b[0m\u001b[0;34m\u001b[0m\u001b[0;34m\u001b[0m\u001b[0m\n\u001b[0m",
      "\u001b[0;31mTypeError\u001b[0m: Presentation() got an unexpected keyword argument 'width'"
     ]
    }
   ],
   "source": [
    "from pptx import Presentation\n",
    "Presentation('718457259', width=720, height=480)"
   ]
  },
  {
   "cell_type": "code",
   "execution_count": null,
   "id": "cbf537a8-3477-43f9-8d72-c686185f7f92",
   "metadata": {},
   "outputs": [],
   "source": []
  },
  {
   "cell_type": "code",
   "execution_count": null,
   "id": "2c9c9167-8b87-47aa-8aa1-a62aed0ba8bc",
   "metadata": {},
   "outputs": [],
   "source": []
  },
  {
   "cell_type": "markdown",
   "id": "7885a3fa-e6e9-4fee-8578-ad542f1f8c71",
   "metadata": {},
   "source": [
    "<p style=\"text-align: left;\">\n",
    "  <img width=\"400\" alt=\" \" src=\"MediHelpers-Workshops-Saving-Files.pdf\">\n",
    "</p>"
   ]
  },
  {
   "cell_type": "markdown",
   "id": "4edab72a-f961-482b-95d4-407224a4339c",
   "metadata": {},
   "source": [
    "[link](\"./Media/helpers.pdf\")"
   ]
  },
  {
   "cell_type": "markdown",
   "id": "140cfc22-6993-4c9d-8ba3-b3915f69889a",
   "metadata": {},
   "source": []
  }
 ],
 "metadata": {
  "kernelspec": {
   "display_name": "Python 3 (ipykernel)",
   "language": "python",
   "name": "python3"
  },
  "language_info": {
   "codemirror_mode": {
    "name": "ipython",
    "version": 3
   },
   "file_extension": ".py",
   "mimetype": "text/x-python",
   "name": "python",
   "nbconvert_exporter": "python",
   "pygments_lexer": "ipython3",
   "version": "3.9.10"
  }
 },
 "nbformat": 4,
 "nbformat_minor": 5
}
