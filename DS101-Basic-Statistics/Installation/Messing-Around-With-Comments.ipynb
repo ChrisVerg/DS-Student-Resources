{
 "cells": [
  {
   "cell_type": "markdown",
   "id": "679e1f37-9f78-4681-8da3-f115d5a51a2e",
   "metadata": {},
   "source": [
    "# the first step in this lesson is to find the difference mean"
   ]
  },
  {
   "cell_type": "code",
   "execution_count": 2,
   "id": "16ab0dcf-8899-4da9-9ffd-d003ab3f4a39",
   "metadata": {},
   "outputs": [
    {
     "data": {
      "text/plain": [
       "1"
      ]
     },
     "execution_count": 2,
     "metadata": {},
     "output_type": "execute_result"
    }
   ],
   "source": [
    "2-1"
   ]
  },
  {
   "cell_type": "markdown",
   "id": "f149ffd1-5862-4dc0-b1f4-a6cf222b4464",
   "metadata": {},
   "source": [
    "# in this next step, we will print hello world!"
   ]
  },
  {
   "cell_type": "code",
   "execution_count": 4,
   "id": "2f388dc8-6867-48a3-8ea3-442e60209945",
   "metadata": {},
   "outputs": [
    {
     "name": "stdout",
     "output_type": "stream",
     "text": [
      "hello world!\n"
     ]
    }
   ],
   "source": [
    "print(\"hello world!\")"
   ]
  },
  {
   "cell_type": "code",
   "execution_count": null,
   "id": "c8f31eb3-2af4-4efa-8a8c-88adfb8adf95",
   "metadata": {},
   "outputs": [],
   "source": []
  }
 ],
 "metadata": {
  "kernelspec": {
   "display_name": "Python 3 (ipykernel)",
   "language": "python",
   "name": "python3"
  },
  "language_info": {
   "codemirror_mode": {
    "name": "ipython",
    "version": 3
   },
   "file_extension": ".py",
   "mimetype": "text/x-python",
   "name": "python",
   "nbconvert_exporter": "python",
   "pygments_lexer": "ipython3",
   "version": "3.10.2"
  }
 },
 "nbformat": 4,
 "nbformat_minor": 5
}
