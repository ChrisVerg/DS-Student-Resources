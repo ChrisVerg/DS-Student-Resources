{
 "cells": [
  {
   "cell_type": "code",
   "execution_count": 2,
   "id": "698b951e-d84d-4c3d-ba71-9b172d978644",
   "metadata": {},
   "outputs": [
    {
     "name": "stdout",
     "output_type": "stream",
     "text": [
      "3.9.13 (main, Aug 11 2022, 14:04:47) \n",
      "[Clang 13.0.0 (clang-1300.0.29.30)]\n"
     ]
    }
   ],
   "source": [
    "#print current python kernel\n",
    "import sys\n",
    "print(sys.version)"
   ]
  },
  {
   "cell_type": "code",
   "execution_count": 4,
   "id": "04275b33-19c7-4952-a797-6e4adc0db689",
   "metadata": {},
   "outputs": [
    {
     "name": "stdout",
     "output_type": "stream",
     "text": [
      "Selected Jupyter core packages...\n",
      "IPython          : 8.4.0\n",
      "ipykernel        : 6.15.1\n",
      "ipywidgets       : not installed\n",
      "jupyter_client   : 7.3.4\n",
      "jupyter_core     : 4.11.1\n",
      "jupyter_server   : 1.18.1\n",
      "jupyterlab       : 3.4.5\n",
      "nbclient         : 0.6.6\n",
      "nbconvert        : 6.5.3\n",
      "nbformat         : 5.4.0\n",
      "notebook         : 6.4.12\n",
      "qtconsole        : not installed\n",
      "traitlets        : 5.3.0\n"
     ]
    }
   ],
   "source": [
    "!jupyter --version"
   ]
  },
  {
   "cell_type": "code",
   "execution_count": 1,
   "id": "9673e71a-867b-4bdb-81e0-1aa4d834daf3",
   "metadata": {},
   "outputs": [
    {
     "name": "stdout",
     "output_type": "stream",
     "text": [
      "$PATH:\n",
      "\t/usr/local/sbin\n",
      "\t/usr/local/opt/findutils/libexec/gnubin\n",
      "\t/usr/local/opt/gnu-sed/libexec/gnubin\n",
      "\t/Users/jsr/Downloads/openshift-install-mac\n",
      "\t/Applications/Julia-1.6.app/Contents/Resources/julia/bin\n",
      "\t/Users/jsr/Downloads/google-cloud-sdk/bin\n",
      "\t/Library/Frameworks/Python.framework/Versions/3.9/bin\n",
      "\t/usr/local/bin\n",
      "\t/usr/bin\n",
      "\t/bin\n",
      "\t/usr/sbin\n",
      "\t/sbin\n",
      "\t/Applications/anaconda3/bin\n",
      "\t/Applications/VMware Fusion.app/Contents/Public\n",
      "\t/Library/TeX/texbin\n",
      "\t/opt/X11/bin\n",
      "\t/Library/Apple/usr/bin\n",
      "\n",
      "sys.path:\n",
      "\t/usr/local/Cellar/jupyterlab/3.4.5/libexec/bin\n",
      "\t/usr/local/Cellar/python@3.10/3.10.6_1/Frameworks/Python.framework/Versions/3.10/lib/python310.zip\n",
      "\t/usr/local/Cellar/python@3.10/3.10.6_1/Frameworks/Python.framework/Versions/3.10/lib/python3.10\n",
      "\t/usr/local/Cellar/python@3.10/3.10.6_1/Frameworks/Python.framework/Versions/3.10/lib/python3.10/lib-dynload\n",
      "\t/usr/local/Cellar/jupyterlab/3.4.5/libexec/lib/python3.10/site-packages\n",
      "\t/usr/local/opt/six/lib/python3.10/site-packages\n",
      "\t/usr/local/lib/python3.10/site-packages\n",
      "\n",
      "sys.executable:\n",
      "\t/usr/local/Cellar/jupyterlab/3.4.5/libexec/bin/python3.10\n",
      "\n",
      "sys.version:\n",
      "\t3.10.6 (main, Aug 11 2022, 13:49:01) [Clang 13.0.0 (clang-1300.0.29.30)]\n",
      "\n",
      "platform.platform():\n",
      "\tmacOS-11.6.8-x86_64-i386-64bit\n",
      "\n",
      "which -a jupyter:\n",
      "\t/usr/local/bin/jupyter\n",
      "\n",
      "pip list:\n",
      "\tPackage              Version\n",
      "\t-------------------- -----------\n",
      "\tanyio                3.6.1\n",
      "\tappnope              0.1.3\n",
      "\targon2-cffi          21.3.0\n",
      "\targon2-cffi-bindings 21.2.0\n",
      "\tasttokens            2.0.7\n",
      "\tattrs                22.1.0\n",
      "\tBabel                2.10.3\n",
      "\tbackcall             0.2.0\n",
      "\tbeautifulsoup4       4.11.1\n",
      "\tbleach               5.0.1\n",
      "\tcertifi              2022.6.15\n",
      "\tcffi                 1.15.1\n",
      "\tcharset-normalizer   2.1.0\n",
      "\tdebugpy              1.6.2\n",
      "\tdecorator            5.1.1\n",
      "\tdefusedxml           0.7.1\n",
      "\tentrypoints          0.4\n",
      "\texecuting            0.9.1\n",
      "\tfastjsonschema       2.16.1\n",
      "\tidna                 3.3\n",
      "\tipykernel            6.15.1\n",
      "\tipython              8.4.0\n",
      "\tipython-genutils     0.2.0\n",
      "\tjedi                 0.18.1\n",
      "\tJinja2               3.1.2\n",
      "\tjson5                0.9.9\n",
      "\tjsonschema           4.9.1\n",
      "\tjupyter_client       7.3.4\n",
      "\tjupyter-console      6.4.4\n",
      "\tjupyter_core         4.11.1\n",
      "\tjupyter-server       1.18.1\n",
      "\tjupyterlab           3.4.5\n",
      "\tjupyterlab-pygments  0.2.2\n",
      "\tjupyterlab_server    2.15.0\n",
      "\tlxml                 4.9.1\n",
      "\tMarkupSafe           2.1.1\n",
      "\tmatplotlib-inline    0.1.3\n",
      "\tmistune              0.8.4\n",
      "\tnbclassic            0.4.3\n",
      "\tnbclient             0.6.6\n",
      "\tnbconvert            6.5.3\n",
      "\tnbformat             5.4.0\n",
      "\tnest-asyncio         1.5.5\n",
      "\tnotebook             6.4.12\n",
      "\tnotebook-shim        0.1.0\n",
      "\tpackaging            21.3\n",
      "\tpandocfilters        1.5.0\n",
      "\tparso                0.8.3\n",
      "\tpexpect              4.8.0\n",
      "\tpickleshare          0.7.5\n",
      "\tpip                  22.2.2\n",
      "\tprometheus-client    0.14.1\n",
      "\tprompt-toolkit       3.0.30\n",
      "\tprotobuf             4.21.5\n",
      "\tpsutil               5.9.1\n",
      "\tptyprocess           0.7.0\n",
      "\tpure-eval            0.2.2\n",
      "\tpycparser            2.21\n",
      "\tPygments             2.12.0\n",
      "\tpyparsing            3.0.9\n",
      "\tpyrsistent           0.18.1\n",
      "\tpython-dateutil      2.8.2\n",
      "\tpytz                 2022.2\n",
      "\tpyzmq                23.2.0\n",
      "\trequests             2.28.1\n",
      "\tSend2Trash           1.8.0\n",
      "\tsetuptools           63.4.3\n",
      "\tsix                  1.16.0\n",
      "\tsniffio              1.2.0\n",
      "\tsoupsieve            2.3.2.post1\n",
      "\tstack-data           0.3.0\n",
      "\tterminado            0.15.0\n",
      "\ttinycss2             1.1.1\n",
      "\ttornado              6.2\n",
      "\ttraitlets            5.3.0\n",
      "\turllib3              1.26.11\n",
      "\twcwidth              0.2.5\n",
      "\twebencodings         0.5.1\n",
      "\twebsocket-client     1.3.3\n",
      "\twheel                0.37.1\n"
     ]
    }
   ],
   "source": [
    "!jupyter troubleshoot"
   ]
  },
  {
   "cell_type": "code",
   "execution_count": 7,
   "id": "0800882b-1024-4ede-8f87-3a036791c887",
   "metadata": {},
   "outputs": [
    {
     "name": "stdout",
     "output_type": "stream",
     "text": [
      "Available kernels:\n",
      "  ir           /Users/jsr/Library/Jupyter/kernels/ir\n",
      "  julia-1.6    /Users/jsr/Library/Jupyter/kernels/julia-1.6\n",
      "  python3      /Users/jsr/Library/Jupyter/kernels/python3\n",
      "  stata        /Users/jsr/Library/Jupyter/kernels/stata\n"
     ]
    }
   ],
   "source": [
    "#list install kernels\n",
    "!jupyter kernelspec list"
   ]
  },
  {
   "cell_type": "code",
   "execution_count": 3,
   "id": "fabbb812-2eeb-48ba-9e29-2544fc7d802d",
   "metadata": {},
   "outputs": [
    {
     "name": "stdout",
     "output_type": "stream",
     "text": [
      "/usr/bin/python\n"
     ]
    }
   ],
   "source": [
    "!which -a python"
   ]
  },
  {
   "cell_type": "code",
   "execution_count": 5,
   "id": "a7ee875f-b73b-4bac-a408-a0e2ff5ac631",
   "metadata": {},
   "outputs": [
    {
     "name": "stdout",
     "output_type": "stream",
     "text": [
      "Python 2.7.16\n"
     ]
    }
   ],
   "source": [
    "!/usr/bin/python --version"
   ]
  },
  {
   "cell_type": "code",
   "execution_count": 6,
   "id": "0ee6226d-2479-405e-95a5-4eae92572107",
   "metadata": {},
   "outputs": [
    {
     "name": "stdout",
     "output_type": "stream",
     "text": [
      "/usr/local/bin/python3\n",
      "/usr/bin/python3\n"
     ]
    }
   ],
   "source": [
    "!which -a python3"
   ]
  },
  {
   "cell_type": "code",
   "execution_count": 7,
   "id": "3618b0b8-25f3-41b7-9fdc-4217f9d4a85d",
   "metadata": {},
   "outputs": [
    {
     "name": "stdout",
     "output_type": "stream",
     "text": [
      "Python 3.8.9\n"
     ]
    }
   ],
   "source": [
    "!/usr/bin/python3 --version"
   ]
  },
  {
   "cell_type": "code",
   "execution_count": 8,
   "id": "1bc2dcd6-06e1-4ae6-9275-0f92dd8ff2ac",
   "metadata": {},
   "outputs": [
    {
     "name": "stdout",
     "output_type": "stream",
     "text": [
      "Python 3.10.6\n"
     ]
    }
   ],
   "source": [
    "!/usr/local/bin/python3 --version"
   ]
  },
  {
   "cell_type": "code",
   "execution_count": 1,
   "id": "82bf1a3c-26e6-45f6-8493-34c897dfe562",
   "metadata": {},
   "outputs": [
    {
     "name": "stdout",
     "output_type": "stream",
     "text": [
      "/usr/local/Cellar/python@3.10/3.10.6_1/bin/2to3\n",
      "/usr/local/Cellar/python@3.10/3.10.6_1/bin/2to3-3.10\n",
      "/usr/local/Cellar/python@3.10/3.10.6_1/bin/idle3\n",
      "/usr/local/Cellar/python@3.10/3.10.6_1/bin/idle3.10\n",
      "/usr/local/Cellar/python@3.10/3.10.6_1/bin/pip3\n",
      "/usr/local/Cellar/python@3.10/3.10.6_1/bin/pip3.10\n",
      "/usr/local/Cellar/python@3.10/3.10.6_1/bin/pydoc3\n",
      "/usr/local/Cellar/python@3.10/3.10.6_1/bin/pydoc3.10\n",
      "/usr/local/Cellar/python@3.10/3.10.6_1/bin/python3\n",
      "/usr/local/Cellar/python@3.10/3.10.6_1/bin/python3-config\n",
      "/usr/local/Cellar/python@3.10/3.10.6_1/bin/python3.10\n",
      "/usr/local/Cellar/python@3.10/3.10.6_1/bin/python3.10-config\n",
      "/usr/local/Cellar/python@3.10/3.10.6_1/bin/wheel3\n",
      "/usr/local/Cellar/python@3.10/3.10.6_1/bin/wheel3.10\n",
      "/usr/local/Cellar/python@3.10/3.10.6_1/Frameworks/Python.framework/ (3142 files)\n",
      "/usr/local/Cellar/python@3.10/3.10.6_1/IDLE 3.app/Contents/ (8 files)\n",
      "/usr/local/Cellar/python@3.10/3.10.6_1/lib/pkgconfig/ (4 files)\n",
      "/usr/local/Cellar/python@3.10/3.10.6_1/libexec/bin/ (6 files)\n",
      "/usr/local/Cellar/python@3.10/3.10.6_1/libexec/wheel-0.37.1-py2.py3-none-any.whl\n",
      "/usr/local/Cellar/python@3.10/3.10.6_1/Python Launcher 3.app/Contents/ (16 files)\n",
      "/usr/local/Cellar/python@3.10/3.10.6_1/share/man/ (2 files)\n"
     ]
    }
   ],
   "source": [
    "!brew list python"
   ]
  },
  {
   "cell_type": "code",
   "execution_count": null,
   "id": "ea48c7f2-4fc7-49f6-9865-626079f98b40",
   "metadata": {},
   "outputs": [],
   "source": []
  }
 ],
 "metadata": {
  "kernelspec": {
   "display_name": "Python 3 (ipykernel)",
   "language": "python",
   "name": "python3"
  },
  "language_info": {
   "codemirror_mode": {
    "name": "ipython",
    "version": 3
   },
   "file_extension": ".py",
   "mimetype": "text/x-python",
   "name": "python",
   "nbconvert_exporter": "python",
   "pygments_lexer": "ipython3",
   "version": "3.9.13"
  }
 },
 "nbformat": 4,
 "nbformat_minor": 5
}
