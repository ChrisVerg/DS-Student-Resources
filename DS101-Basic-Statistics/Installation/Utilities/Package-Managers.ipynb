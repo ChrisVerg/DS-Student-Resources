{
 "cells": [
  {
   "cell_type": "markdown",
   "id": "f2851265-772d-4bce-9ad3-45ce9b22964b",
   "metadata": {},
   "source": [
    "### Package Managers <a class=\"anchor\" id=\"PMs_toc\"></a>\n",
    "\n",
    "* [Table of Contents](#PMs_toc)\n",
    "    * [Page 1 - Chocolatey ](#PMs_page_1)\n",
    "    * [Page 2 - Yum on RHEL](#PMs_page_2)\n",
    "    * [Page 3 - RPMs on RHEL](#PMs_page_3)\n",
    "    * [Page 4 - Homebrew](#PMs_page_4)\n",
    "\n"
   ]
  },
  {
   "cell_type": "markdown",
   "id": "f950cd6d-0de5-4898-9de7-70e1d28066f2",
   "metadata": {},
   "source": [
    "<hr style=\"height:10px;border-width:0;color:gray;background-color:gray\">\n",
    "\n",
    "# Page 1 - Chocolatey <a class=\"anchor\" id=\"PMs_page_1\"></a>\n",
    "\n",
    "[Back to Top](#PMs_toc)\n",
    "\n",
    "<hr style=\"height:10px;border-width:0;color:gray;background-color:gray\">"
   ]
  },
  {
   "cell_type": "markdown",
   "id": "77fd576c-2639-4589-8c0b-d5ba6a28136e",
   "metadata": {},
   "source": []
  },
  {
   "cell_type": "markdown",
   "id": "0196b864-47a2-41a4-8dc8-e506bb378437",
   "metadata": {},
   "source": [
    "<hr style=\"height:10px;border-width:0;color:gray;background-color:gray\">\n",
    "\n",
    "# Page 2 - Yum on RHEL <a class=\"anchor\" id=\"PMs_page_2\"></a>\n",
    "\n",
    "[Back to Top](#PMs_toc)\n",
    "\n",
    "<hr style=\"height:10px;border-width:0;color:gray;background-color:gray\">"
   ]
  },
  {
   "cell_type": "markdown",
   "id": "e2aadce4-ee13-4205-aaef-7a082cdddaa2",
   "metadata": {},
   "source": []
  },
  {
   "cell_type": "markdown",
   "id": "5c17a261-d270-42b7-b5d2-f262eb44cbb4",
   "metadata": {},
   "source": [
    "<hr style=\"height:10px;border-width:0;color:gray;background-color:gray\">\n",
    "\n",
    "# Page 3 - RPMs on RHEL <a class=\"anchor\" id=\"PMs_page_3\"></a>\n",
    "\n",
    "[Back to Top](#PMs_toc)\n",
    "\n",
    "<hr style=\"height:10px;border-width:0;color:gray;background-color:gray\">"
   ]
  },
  {
   "cell_type": "markdown",
   "id": "4ff956c4-f141-409f-b418-e94bdead42a3",
   "metadata": {},
   "source": []
  },
  {
   "cell_type": "markdown",
   "id": "463c3d16-2af2-48e6-b54a-d870d86b8423",
   "metadata": {},
   "source": [
    "<hr style=\"height:10px;border-width:0;color:gray;background-color:gray\">\n",
    "\n",
    "# Page 4 - Homebrew <a class=\"anchor\" id=\"PMs_page_4\"></a>\n",
    "\n",
    "[Back to Top](#PMs_toc)\n",
    "\n",
    "<hr style=\"height:10px;border-width:0;color:gray;background-color:gray\">"
   ]
  },
  {
   "cell_type": "markdown",
   "id": "883f2904-3ed8-41d0-b314-b8a0e65b6c9a",
   "metadata": {},
   "source": []
  }
 ],
 "metadata": {
  "kernelspec": {
   "display_name": "Python 3 (ipykernel)",
   "language": "python",
   "name": "python3"
  },
  "language_info": {
   "codemirror_mode": {
    "name": "ipython",
    "version": 3
   },
   "file_extension": ".py",
   "mimetype": "text/x-python",
   "name": "python",
   "nbconvert_exporter": "python",
   "pygments_lexer": "ipython3",
   "version": "3.9.13"
  }
 },
 "nbformat": 4,
 "nbformat_minor": 5
}
