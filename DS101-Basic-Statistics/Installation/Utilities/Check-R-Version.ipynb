{
 "cells": [
  {
   "cell_type": "code",
   "execution_count": 1,
   "id": "26306564-0c4f-48a4-a145-49c22f142cac",
   "metadata": {},
   "outputs": [
    {
     "data": {
      "text/plain": [
       "               _                           \n",
       "platform       aarch64-apple-darwin20      \n",
       "arch           aarch64                     \n",
       "os             darwin20                    \n",
       "system         aarch64, darwin20           \n",
       "status                                     \n",
       "major          4                           \n",
       "minor          2.1                         \n",
       "year           2022                        \n",
       "month          06                          \n",
       "day            23                          \n",
       "svn rev        82513                       \n",
       "language       R                           \n",
       "version.string R version 4.2.1 (2022-06-23)\n",
       "nickname       Funny-Looking Kid           "
      ]
     },
     "metadata": {},
     "output_type": "display_data"
    }
   ],
   "source": [
    "version"
   ]
  },
  {
   "cell_type": "markdown",
   "id": "2b88680e-157d-4710-9927-96f1aaf153e1",
   "metadata": {},
   "source": [
    "If you get a No Kernel warning, you need to reinstall the IRKernel. Just follow the R kernel installation instructions."
   ]
  },
  {
   "cell_type": "code",
   "execution_count": null,
   "id": "50c5856d-a9a4-451b-a1b1-614208b0d5b7",
   "metadata": {},
   "outputs": [],
   "source": []
  }
 ],
 "metadata": {
  "kernelspec": {
   "display_name": "R",
   "language": "R",
   "name": "ir"
  },
  "language_info": {
   "codemirror_mode": "r",
   "file_extension": ".r",
   "mimetype": "text/x-r-source",
   "name": "R",
   "pygments_lexer": "r",
   "version": "4.2.1"
  }
 },
 "nbformat": 4,
 "nbformat_minor": 5
}
