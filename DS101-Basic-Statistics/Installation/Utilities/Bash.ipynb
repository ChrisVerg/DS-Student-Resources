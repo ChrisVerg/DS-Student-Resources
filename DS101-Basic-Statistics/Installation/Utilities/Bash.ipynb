{
 "cells": [
  {
   "cell_type": "markdown",
   "id": "93483ab4-222b-4123-ac7d-41c32398cea2",
   "metadata": {},
   "source": [
    "<p style=\"text-align: left\">\n",
    "  <img  src=\"https://www.gnu.org/graphics/heckert_gnu.transp.small.png\" width=\"100\" alt=\"Bash\">\n",
    "</p>\n",
    "\n",
    "[main](https://www.gnu.org/software/bash/) | [about](https://www.gnu.org/gnu/gnu.html) | [philosophy](https://www.gnu.org/philosophy/philosophy.html)| [licenses](https://www.gnu.org/licenses/licenses.html)| [education](https://www.gnu.org/education/education.html)| [software](https://www.gnu.org/software/software.html)| [distros](https://www.gnu.org/distros/distros.html) | [docs](https://www.gnu.org/doc/doc.html) | [proprietary](https://www.gnu.org/proprietary/proprietary.html) | [help](https://www.gnu.org/help/help.html)\n",
    "\n",
    "Bash is the GNU Project's shell—the Bourne Again SHell. This is an sh-compatible shell that incorporates useful features from the Korn shell (ksh) and the C shell (csh). It is intended to conform to the IEEE POSIX P1003.2/ISO 9945.2 Shell and Tools standard. It offers functional improvements over sh for both programming and interactive use. In addition, most sh scripts can be run by Bash without modification.\n",
    "\n",
    "The improvements offered by Bash include:\n",
    "\n",
    "- command-line editing,\n",
    "- unlimited size command history,\n",
    "- job control,\n",
    "- shell functions and aliases,\n",
    "- indexed arrays of unlimited size,\n",
    "- integer arithmetic in any base from two to sixty-four.\n",
    "\n",
    "Bash shell scripts, an invaluable skill that helps you to work in a more efficient way with the shell Linux, different Unix versions, including macOS, as well as the Windows Subsystem for Linux. Even if different solutions for automating work on operating systems have been introduced, and even if more advanced scripting languages, such as Python, have become common, bash scripting is still an essential skill to automate tasks on almost any operating system. The bash shell is based on the Bourne shell, which was introduced in Unix in the early 1970s. Bash has become the de facto standard in shell scripts, which means that even if newer shells have been introduced, such as zsh, and even if your Unixes are maybe using Korn shell instead of bash, bash scripts can be used on any platform. This makes bash the number one scripting solution to use on any Linux or Unix-like operating system."
   ]
  },
  {
   "cell_type": "markdown",
   "id": "390f89df-d499-4d5c-80a6-324078cbe498",
   "metadata": {},
   "source": [
    "## Bash on Mac\n",
    "\n",
    "- Since MacOS Catalina, **zsh** is used as the default shell.\n",
    "- To change the default shell, open a terminal and type, \n",
    "\n",
    "```bash\n",
    "chsh -s /bin/bash\n",
    "```\n",
    "\n",
    "exit the terminal and start it again verifying with \n",
    "\n",
    "```bash\n",
    "echo $SHELL\n",
    "```\n",
    "\n"
   ]
  },
  {
   "cell_type": "code",
   "execution_count": null,
   "id": "81453012-b828-44f1-bd3e-661a80fef3cd",
   "metadata": {},
   "outputs": [],
   "source": []
  }
 ],
 "metadata": {
  "kernelspec": {
   "display_name": "Python 3 (ipykernel)",
   "language": "python",
   "name": "python3"
  },
  "language_info": {
   "codemirror_mode": {
    "name": "ipython",
    "version": 3
   },
   "file_extension": ".py",
   "mimetype": "text/x-python",
   "name": "python",
   "nbconvert_exporter": "python",
   "pygments_lexer": "ipython3",
   "version": "3.9.13"
  }
 },
 "nbformat": 4,
 "nbformat_minor": 5
}
