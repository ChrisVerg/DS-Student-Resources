{
 "cells": [
  {
   "cell_type": "markdown",
   "id": "dd9f05a3-6cdc-4eec-8751-bffc6c5fa922",
   "metadata": {},
   "source": [
    "# Wreck it Ralph"
   ]
  },
  {
   "cell_type": "markdown",
   "id": "afde0843-8c16-4021-b50e-f56630e94b51",
   "metadata": {},
   "source": [
    "Let's wreck this notebook with multiple edits..."
   ]
  },
  {
   "cell_type": "markdown",
   "id": "3f22a511-cc93-4e22-b37e-86ae20520993",
   "metadata": {},
   "source": [
    "here is mine: Zionists rule the world"
   ]
  },
  {
   "cell_type": "code",
   "execution_count": null,
   "id": "8f2cfb5d-f3af-4106-b6d3-8841f77121fe",
   "metadata": {},
   "outputs": [],
   "source": []
  }
 ],
 "metadata": {
  "kernelspec": {
   "display_name": "Python 3 (ipykernel)",
   "language": "python",
   "name": "python3"
  },
  "language_info": {
   "codemirror_mode": {
    "name": "ipython",
    "version": 3
   },
   "file_extension": ".py",
   "mimetype": "text/x-python",
   "name": "python",
   "nbconvert_exporter": "python",
   "pygments_lexer": "ipython3",
   "version": "3.9.12"
  }
 },
 "nbformat": 4,
 "nbformat_minor": 5
}
