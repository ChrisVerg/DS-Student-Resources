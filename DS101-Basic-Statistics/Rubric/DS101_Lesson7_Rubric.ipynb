{
 "cells": [
  {
   "cell_type": "code",
   "execution_count": null,
   "id": "bd3972fd-0320-40f0-b114-c50007809c81",
   "metadata": {},
   "outputs": [],
   "source": [
    "## Uniform, Binomial, Student's t-, and F-Distributions \n",
    "### Total: 19 points\n",
    "### Directions:  For Lesson 7 Hands-On, you have three scenarios. It will be your job to determine which type of t-test to use for each scenario and then conduct your chosen test.\n",
    "#### Follow all the steps of hypothesis testing as taught in Lesson 6 and reiterated on page 5 of Lesson 7.\n",
    "\n",
    "#### Requirements:\n",
    " For all tests, use a two-tailed test and an α-level cut-off of .05 to indicate significance.\n",
    " \n",
    "### Scenario #1-Independent t-test\n",
    "A linguist wants to compare the occurrence of nouns in two of his favorite Shakespeare plays; As You Like It and Julius Caesar. He counts them all, stores them in this dataset and wants to know if the number of nouns in the two plays differ from each other.\n",
    "\n",
    "Steps of Hypothesis Testing:\n",
    "\n",
    "A- State the null and alternative hypothesis.\n",
    "\n",
    "B- For Independent t-test: calculate the p-value.\n",
    "\n",
    "C- Assess the statistical significance by comparing the p-value to the α-level.\n",
    "\n",
    "D- Show the appropriate connections between the numerical and graphical summaries that support the hypothesis test.\n",
    "\n",
    "E- Draw a correct conclusion for the hypothesis test.\n",
    "\n",
    "### Scenario #2-Single Sample t-test\n",
    "A meteorologist measures the highest temperature of every major city in Texas on one of the hottest days in the summer, as shown in this dataset. He then wants to know how the highest temperature in Denton compares to the entire population.\n",
    "Steps of Hypothesis Testing:\n",
    "\n",
    "A- State the null and alternative hypothesis.\n",
    "\n",
    "B- For the Single Sample t-test: calculate the test statistic, degrees of freedom, and p-value. \n",
    "\n",
    "C- Assess the statistical significance by comparing the p-value to the α-level.\n",
    "\n",
    "D- Show the appropriate connections between the numerical and graphical summaries that support the hypothesis test.\n",
    "\n",
    "E- Draw a correct conclusion for the hypothesis test.\n",
    "\n",
    "\n",
    "\n",
    "### Scenario #3-Dependent t-test\n",
    "An aerospace medicine doctor wants to know how heart rates differ for Airmen from the beginning to the end of their skydiving jump. She has recorded heart rate data by timepoint in this dataset\n",
    "Steps of Hypothesis Testing:\n",
    "\n",
    "A- State the null and alternative hypothesis.\n",
    "\n",
    "B- For the Dependent t-test: calculate the test statistic, degrees of freedom, and p-value. \n",
    "   \n",
    "C- Assess the statistical significance by comparing the p-value to the α-level.\n",
    "\n",
    "D- Show the appropriate connections between the numerical and graphical summaries that support the hypothesis test.\n",
    "\n",
    "E- Draw a correct conclusion for the hypothesis test.\n"
   ]
  },
  {
   "cell_type": "code",
   "execution_count": null,
   "id": "ace5501b-b178-4384-8b1b-cfdb6b141b5c",
   "metadata": {},
   "outputs": [],
   "source": []
  },
  {
   "cell_type": "code",
   "execution_count": null,
   "id": "910bf1cf-6b97-4203-9b53-a219e8507a14",
   "metadata": {},
   "outputs": [],
   "source": []
  }
 ],
 "metadata": {
  "kernelspec": {
   "display_name": "Python 3 (ipykernel)",
   "language": "python",
   "name": "python3"
  },
  "language_info": {
   "codemirror_mode": {
    "name": "ipython",
    "version": 3
   },
   "file_extension": ".py",
   "mimetype": "text/x-python",
   "name": "python",
   "nbconvert_exporter": "python",
   "pygments_lexer": "ipython3",
   "version": "3.9.6"
  }
 },
 "nbformat": 4,
 "nbformat_minor": 5
}
